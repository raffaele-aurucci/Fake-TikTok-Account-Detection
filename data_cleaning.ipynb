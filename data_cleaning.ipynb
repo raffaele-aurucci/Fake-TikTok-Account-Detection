{
 "nbformat": 4,
 "nbformat_minor": 0,
 "metadata": {
  "colab": {
   "provenance": [],
   "collapsed_sections": [
    "41893GULIVLo",
    "MiCZTvf_JEB2",
    "YUq_YZ8COqk9",
    "6cRAXp81QSr_"
   ]
  },
  "kernelspec": {
   "name": "python3",
   "display_name": "Python 3"
  },
  "language_info": {
   "name": "python"
  }
 },
 "cells": [
  {
   "cell_type": "markdown",
   "source": [
    "# Data Cleaning"
   ],
   "metadata": {
    "id": "COtV6QI3WyCM"
   }
  },
  {
   "cell_type": "markdown",
   "source": [
    "## 1. Operazioni preliminari"
   ],
   "metadata": {
    "id": "w7cXYJNOccIW"
   }
  },
  {
   "cell_type": "markdown",
   "source": [
    "> Installazione dipendenze necessarie"
   ],
   "metadata": {
    "collapsed": false,
    "id": "qCE_y1ngMQTo"
   }
  },
  {
   "cell_type": "code",
   "execution_count": 1,
   "metadata": {
    "colab": {
     "base_uri": "https://localhost:8080/"
    },
    "id": "6A-vv1G5EBh3",
    "outputId": "a284bdfb-74f2-4860-95e5-ae0ae036f085",
    "executionInfo": {
     "status": "ok",
     "timestamp": 1719940378351,
     "user_tz": -120,
     "elapsed": 34901,
     "user": {
      "displayName": "Annalaura Miglino",
      "userId": "03808724092990969006"
     }
    }
   },
   "outputs": [
    {
     "output_type": "stream",
     "name": "stdout",
     "text": [
      "Collecting langdetect\n",
      "  Downloading langdetect-1.0.9.tar.gz (981 kB)\n",
      "\u001B[2K     \u001B[90m━━━━━━━━━━━━━━━━━━━━━━━━━━━━━━━━━━━━━━━━\u001B[0m \u001B[32m981.5/981.5 kB\u001B[0m \u001B[31m3.7 MB/s\u001B[0m eta \u001B[36m0:00:00\u001B[0m\n",
      "\u001B[?25h  Preparing metadata (setup.py) ... \u001B[?25l\u001B[?25hdone\n",
      "Requirement already satisfied: six in /usr/local/lib/python3.10/dist-packages (from langdetect) (1.16.0)\n",
      "Building wheels for collected packages: langdetect\n",
      "  Building wheel for langdetect (setup.py) ... \u001B[?25l\u001B[?25hdone\n",
      "  Created wheel for langdetect: filename=langdetect-1.0.9-py3-none-any.whl size=993227 sha256=65fe408e5880a69317ffbdf34d0767e78874fe20910d73d6a7b2489d4e50f20e\n",
      "  Stored in directory: /root/.cache/pip/wheels/95/03/7d/59ea870c70ce4e5a370638b5462a7711ab78fba2f655d05106\n",
      "Successfully built langdetect\n",
      "Installing collected packages: langdetect\n",
      "Successfully installed langdetect-1.0.9\n"
     ]
    }
   ],
   "source": [
    "!pip install langdetect"
   ]
  },
  {
   "cell_type": "markdown",
   "source": [
    "> Importazione delle librerie"
   ],
   "metadata": {
    "id": "DU7x-CZ7bjsE"
   }
  },
  {
   "cell_type": "code",
   "source": [
    "import pandas as pd\n",
    "from langdetect import detect\n",
    "import matplotlib.pyplot as plt\n",
    "import seaborn as sns\n",
    "from sklearn.preprocessing import StandardScaler\n",
    "from sklearn.preprocessing import QuantileTransformer\n",
    "from sklearn.preprocessing import MinMaxScaler\n",
    "from pandas.plotting import scatter_matrix\n",
    "import numpy as np"
   ],
   "metadata": {
    "id": "_USQCToRE-iR",
    "executionInfo": {
     "status": "ok",
     "timestamp": 1719940381596,
     "user_tz": -120,
     "elapsed": 3255,
     "user": {
      "displayName": "Annalaura Miglino",
      "userId": "03808724092990969006"
     }
    }
   },
   "execution_count": 2,
   "outputs": []
  },
  {
   "cell_type": "markdown",
   "source": [
    "> Montaggio di Drive"
   ],
   "metadata": {
    "id": "6V_OTCHeblmu"
   }
  },
  {
   "cell_type": "code",
   "source": [
    "from google.colab import drive\n",
    "drive.mount('/content/drive')"
   ],
   "metadata": {
    "colab": {
     "base_uri": "https://localhost:8080/"
    },
    "id": "pWVxk3AKFI4q",
    "outputId": "0a31a23d-4e9f-48e0-9dd7-0bb0e57b35a1",
    "executionInfo": {
     "status": "ok",
     "timestamp": 1719940418672,
     "user_tz": -120,
     "elapsed": 37084,
     "user": {
      "displayName": "Annalaura Miglino",
      "userId": "03808724092990969006"
     }
    }
   },
   "execution_count": 3,
   "outputs": [
    {
     "output_type": "stream",
     "name": "stdout",
     "text": [
      "Mounted at /content/drive\n"
     ]
    }
   ]
  },
  {
   "cell_type": "markdown",
   "source": [
    "> Lettura del dataset"
   ],
   "metadata": {
    "id": "jvl_P1KRbnFt"
   }
  },
  {
   "cell_type": "code",
   "execution_count": 4,
   "outputs": [],
   "source": [
    "# drive path\n",
    "csv_path = '/content/drive/MyDrive/Progetto_FDSML/tiktok_accounts.csv'"
   ],
   "metadata": {
    "id": "GPIMX-gnMQT1",
    "executionInfo": {
     "status": "ok",
     "timestamp": 1719940418672,
     "user_tz": -120,
     "elapsed": 8,
     "user": {
      "displayName": "Annalaura Miglino",
      "userId": "03808724092990969006"
     }
    }
   }
  },
  {
   "cell_type": "code",
   "execution_count": 5,
   "outputs": [],
   "source": [
    "# local path\n",
    "csv_path = './datasets/tiktok_accounts.csv'"
   ],
   "metadata": {
    "id": "3TMJXhwwMQT2",
    "executionInfo": {
     "status": "ok",
     "timestamp": 1719939265548,
     "user_tz": -120,
     "elapsed": 13,
     "user": {
      "displayName": "Annalaura Miglino",
      "userId": "03808724092990969006"
     }
    }
   }
  },
  {
   "cell_type": "code",
   "execution_count": 5,
   "outputs": [
    {
     "output_type": "execute_result",
     "data": {
      "text/plain": [
       "   diggCount  followerCount  followingCount  heartCount  videoCount  \\\n",
       "0        279              0             564           0           0   \n",
       "1       1198             71            9980           0           0   \n",
       "2       2968            596            1123        2062         266   \n",
       "3       2351            200             818         435          36   \n",
       "4      40300        1100000              52    10000000         720   \n",
       "\n",
       "   commentSetting  downloadSetting  duetSetting       nickname  openFavorite  \\\n",
       "0               0                0            0      Tik Toker         False   \n",
       "1               0                0            0         BEULAH          True   \n",
       "2               0                0            0        Lello27         False   \n",
       "3               0                0            0    clemevitale         False   \n",
       "4               0                3            1  Saher Monther         False   \n",
       "\n",
       "          signature  stitchSetting                uniqueId  verified   fake  \n",
       "0        No bio yet              0           gyzituvigy542     False   True  \n",
       "1               NaN              0   tshphjtowl2401583tbww     False   True  \n",
       "2               NaN              0  aristanismamojadanuoro     False  False  \n",
       "3               NaN              0             clemevitale     False  False  \n",
       "4  YouTuber star ⭐️              0            sahermonther      True  False  "
      ],
      "text/html": [
       "\n",
       "  <div id=\"df-cfc2bf72-8ae6-45f4-875e-319b71165d07\" class=\"colab-df-container\">\n",
       "    <div>\n",
       "<style scoped>\n",
       "    .dataframe tbody tr th:only-of-type {\n",
       "        vertical-align: middle;\n",
       "    }\n",
       "\n",
       "    .dataframe tbody tr th {\n",
       "        vertical-align: top;\n",
       "    }\n",
       "\n",
       "    .dataframe thead th {\n",
       "        text-align: right;\n",
       "    }\n",
       "</style>\n",
       "<table border=\"1\" class=\"dataframe\">\n",
       "  <thead>\n",
       "    <tr style=\"text-align: right;\">\n",
       "      <th></th>\n",
       "      <th>diggCount</th>\n",
       "      <th>followerCount</th>\n",
       "      <th>followingCount</th>\n",
       "      <th>heartCount</th>\n",
       "      <th>videoCount</th>\n",
       "      <th>commentSetting</th>\n",
       "      <th>downloadSetting</th>\n",
       "      <th>duetSetting</th>\n",
       "      <th>nickname</th>\n",
       "      <th>openFavorite</th>\n",
       "      <th>signature</th>\n",
       "      <th>stitchSetting</th>\n",
       "      <th>uniqueId</th>\n",
       "      <th>verified</th>\n",
       "      <th>fake</th>\n",
       "    </tr>\n",
       "  </thead>\n",
       "  <tbody>\n",
       "    <tr>\n",
       "      <th>0</th>\n",
       "      <td>279</td>\n",
       "      <td>0</td>\n",
       "      <td>564</td>\n",
       "      <td>0</td>\n",
       "      <td>0</td>\n",
       "      <td>0</td>\n",
       "      <td>0</td>\n",
       "      <td>0</td>\n",
       "      <td>Tik Toker</td>\n",
       "      <td>False</td>\n",
       "      <td>No bio yet</td>\n",
       "      <td>0</td>\n",
       "      <td>gyzituvigy542</td>\n",
       "      <td>False</td>\n",
       "      <td>True</td>\n",
       "    </tr>\n",
       "    <tr>\n",
       "      <th>1</th>\n",
       "      <td>1198</td>\n",
       "      <td>71</td>\n",
       "      <td>9980</td>\n",
       "      <td>0</td>\n",
       "      <td>0</td>\n",
       "      <td>0</td>\n",
       "      <td>0</td>\n",
       "      <td>0</td>\n",
       "      <td>BEULAH</td>\n",
       "      <td>True</td>\n",
       "      <td>NaN</td>\n",
       "      <td>0</td>\n",
       "      <td>tshphjtowl2401583tbww</td>\n",
       "      <td>False</td>\n",
       "      <td>True</td>\n",
       "    </tr>\n",
       "    <tr>\n",
       "      <th>2</th>\n",
       "      <td>2968</td>\n",
       "      <td>596</td>\n",
       "      <td>1123</td>\n",
       "      <td>2062</td>\n",
       "      <td>266</td>\n",
       "      <td>0</td>\n",
       "      <td>0</td>\n",
       "      <td>0</td>\n",
       "      <td>Lello27</td>\n",
       "      <td>False</td>\n",
       "      <td>NaN</td>\n",
       "      <td>0</td>\n",
       "      <td>aristanismamojadanuoro</td>\n",
       "      <td>False</td>\n",
       "      <td>False</td>\n",
       "    </tr>\n",
       "    <tr>\n",
       "      <th>3</th>\n",
       "      <td>2351</td>\n",
       "      <td>200</td>\n",
       "      <td>818</td>\n",
       "      <td>435</td>\n",
       "      <td>36</td>\n",
       "      <td>0</td>\n",
       "      <td>0</td>\n",
       "      <td>0</td>\n",
       "      <td>clemevitale</td>\n",
       "      <td>False</td>\n",
       "      <td>NaN</td>\n",
       "      <td>0</td>\n",
       "      <td>clemevitale</td>\n",
       "      <td>False</td>\n",
       "      <td>False</td>\n",
       "    </tr>\n",
       "    <tr>\n",
       "      <th>4</th>\n",
       "      <td>40300</td>\n",
       "      <td>1100000</td>\n",
       "      <td>52</td>\n",
       "      <td>10000000</td>\n",
       "      <td>720</td>\n",
       "      <td>0</td>\n",
       "      <td>3</td>\n",
       "      <td>1</td>\n",
       "      <td>Saher Monther</td>\n",
       "      <td>False</td>\n",
       "      <td>YouTuber star ⭐️</td>\n",
       "      <td>0</td>\n",
       "      <td>sahermonther</td>\n",
       "      <td>True</td>\n",
       "      <td>False</td>\n",
       "    </tr>\n",
       "  </tbody>\n",
       "</table>\n",
       "</div>\n",
       "    <div class=\"colab-df-buttons\">\n",
       "\n",
       "  <div class=\"colab-df-container\">\n",
       "    <button class=\"colab-df-convert\" onclick=\"convertToInteractive('df-cfc2bf72-8ae6-45f4-875e-319b71165d07')\"\n",
       "            title=\"Convert this dataframe to an interactive table.\"\n",
       "            style=\"display:none;\">\n",
       "\n",
       "  <svg xmlns=\"http://www.w3.org/2000/svg\" height=\"24px\" viewBox=\"0 -960 960 960\">\n",
       "    <path d=\"M120-120v-720h720v720H120Zm60-500h600v-160H180v160Zm220 220h160v-160H400v160Zm0 220h160v-160H400v160ZM180-400h160v-160H180v160Zm440 0h160v-160H620v160ZM180-180h160v-160H180v160Zm440 0h160v-160H620v160Z\"/>\n",
       "  </svg>\n",
       "    </button>\n",
       "\n",
       "  <style>\n",
       "    .colab-df-container {\n",
       "      display:flex;\n",
       "      gap: 12px;\n",
       "    }\n",
       "\n",
       "    .colab-df-convert {\n",
       "      background-color: #E8F0FE;\n",
       "      border: none;\n",
       "      border-radius: 50%;\n",
       "      cursor: pointer;\n",
       "      display: none;\n",
       "      fill: #1967D2;\n",
       "      height: 32px;\n",
       "      padding: 0 0 0 0;\n",
       "      width: 32px;\n",
       "    }\n",
       "\n",
       "    .colab-df-convert:hover {\n",
       "      background-color: #E2EBFA;\n",
       "      box-shadow: 0px 1px 2px rgba(60, 64, 67, 0.3), 0px 1px 3px 1px rgba(60, 64, 67, 0.15);\n",
       "      fill: #174EA6;\n",
       "    }\n",
       "\n",
       "    .colab-df-buttons div {\n",
       "      margin-bottom: 4px;\n",
       "    }\n",
       "\n",
       "    [theme=dark] .colab-df-convert {\n",
       "      background-color: #3B4455;\n",
       "      fill: #D2E3FC;\n",
       "    }\n",
       "\n",
       "    [theme=dark] .colab-df-convert:hover {\n",
       "      background-color: #434B5C;\n",
       "      box-shadow: 0px 1px 3px 1px rgba(0, 0, 0, 0.15);\n",
       "      filter: drop-shadow(0px 1px 2px rgba(0, 0, 0, 0.3));\n",
       "      fill: #FFFFFF;\n",
       "    }\n",
       "  </style>\n",
       "\n",
       "    <script>\n",
       "      const buttonEl =\n",
       "        document.querySelector('#df-cfc2bf72-8ae6-45f4-875e-319b71165d07 button.colab-df-convert');\n",
       "      buttonEl.style.display =\n",
       "        google.colab.kernel.accessAllowed ? 'block' : 'none';\n",
       "\n",
       "      async function convertToInteractive(key) {\n",
       "        const element = document.querySelector('#df-cfc2bf72-8ae6-45f4-875e-319b71165d07');\n",
       "        const dataTable =\n",
       "          await google.colab.kernel.invokeFunction('convertToInteractive',\n",
       "                                                    [key], {});\n",
       "        if (!dataTable) return;\n",
       "\n",
       "        const docLinkHtml = 'Like what you see? Visit the ' +\n",
       "          '<a target=\"_blank\" href=https://colab.research.google.com/notebooks/data_table.ipynb>data table notebook</a>'\n",
       "          + ' to learn more about interactive tables.';\n",
       "        element.innerHTML = '';\n",
       "        dataTable['output_type'] = 'display_data';\n",
       "        await google.colab.output.renderOutput(dataTable, element);\n",
       "        const docLink = document.createElement('div');\n",
       "        docLink.innerHTML = docLinkHtml;\n",
       "        element.appendChild(docLink);\n",
       "      }\n",
       "    </script>\n",
       "  </div>\n",
       "\n",
       "\n",
       "<div id=\"df-7c217433-b22b-436c-8b75-052ceca3bf82\">\n",
       "  <button class=\"colab-df-quickchart\" onclick=\"quickchart('df-7c217433-b22b-436c-8b75-052ceca3bf82')\"\n",
       "            title=\"Suggest charts\"\n",
       "            style=\"display:none;\">\n",
       "\n",
       "<svg xmlns=\"http://www.w3.org/2000/svg\" height=\"24px\"viewBox=\"0 0 24 24\"\n",
       "     width=\"24px\">\n",
       "    <g>\n",
       "        <path d=\"M19 3H5c-1.1 0-2 .9-2 2v14c0 1.1.9 2 2 2h14c1.1 0 2-.9 2-2V5c0-1.1-.9-2-2-2zM9 17H7v-7h2v7zm4 0h-2V7h2v10zm4 0h-2v-4h2v4z\"/>\n",
       "    </g>\n",
       "</svg>\n",
       "  </button>\n",
       "\n",
       "<style>\n",
       "  .colab-df-quickchart {\n",
       "      --bg-color: #E8F0FE;\n",
       "      --fill-color: #1967D2;\n",
       "      --hover-bg-color: #E2EBFA;\n",
       "      --hover-fill-color: #174EA6;\n",
       "      --disabled-fill-color: #AAA;\n",
       "      --disabled-bg-color: #DDD;\n",
       "  }\n",
       "\n",
       "  [theme=dark] .colab-df-quickchart {\n",
       "      --bg-color: #3B4455;\n",
       "      --fill-color: #D2E3FC;\n",
       "      --hover-bg-color: #434B5C;\n",
       "      --hover-fill-color: #FFFFFF;\n",
       "      --disabled-bg-color: #3B4455;\n",
       "      --disabled-fill-color: #666;\n",
       "  }\n",
       "\n",
       "  .colab-df-quickchart {\n",
       "    background-color: var(--bg-color);\n",
       "    border: none;\n",
       "    border-radius: 50%;\n",
       "    cursor: pointer;\n",
       "    display: none;\n",
       "    fill: var(--fill-color);\n",
       "    height: 32px;\n",
       "    padding: 0;\n",
       "    width: 32px;\n",
       "  }\n",
       "\n",
       "  .colab-df-quickchart:hover {\n",
       "    background-color: var(--hover-bg-color);\n",
       "    box-shadow: 0 1px 2px rgba(60, 64, 67, 0.3), 0 1px 3px 1px rgba(60, 64, 67, 0.15);\n",
       "    fill: var(--button-hover-fill-color);\n",
       "  }\n",
       "\n",
       "  .colab-df-quickchart-complete:disabled,\n",
       "  .colab-df-quickchart-complete:disabled:hover {\n",
       "    background-color: var(--disabled-bg-color);\n",
       "    fill: var(--disabled-fill-color);\n",
       "    box-shadow: none;\n",
       "  }\n",
       "\n",
       "  .colab-df-spinner {\n",
       "    border: 2px solid var(--fill-color);\n",
       "    border-color: transparent;\n",
       "    border-bottom-color: var(--fill-color);\n",
       "    animation:\n",
       "      spin 1s steps(1) infinite;\n",
       "  }\n",
       "\n",
       "  @keyframes spin {\n",
       "    0% {\n",
       "      border-color: transparent;\n",
       "      border-bottom-color: var(--fill-color);\n",
       "      border-left-color: var(--fill-color);\n",
       "    }\n",
       "    20% {\n",
       "      border-color: transparent;\n",
       "      border-left-color: var(--fill-color);\n",
       "      border-top-color: var(--fill-color);\n",
       "    }\n",
       "    30% {\n",
       "      border-color: transparent;\n",
       "      border-left-color: var(--fill-color);\n",
       "      border-top-color: var(--fill-color);\n",
       "      border-right-color: var(--fill-color);\n",
       "    }\n",
       "    40% {\n",
       "      border-color: transparent;\n",
       "      border-right-color: var(--fill-color);\n",
       "      border-top-color: var(--fill-color);\n",
       "    }\n",
       "    60% {\n",
       "      border-color: transparent;\n",
       "      border-right-color: var(--fill-color);\n",
       "    }\n",
       "    80% {\n",
       "      border-color: transparent;\n",
       "      border-right-color: var(--fill-color);\n",
       "      border-bottom-color: var(--fill-color);\n",
       "    }\n",
       "    90% {\n",
       "      border-color: transparent;\n",
       "      border-bottom-color: var(--fill-color);\n",
       "    }\n",
       "  }\n",
       "</style>\n",
       "\n",
       "  <script>\n",
       "    async function quickchart(key) {\n",
       "      const quickchartButtonEl =\n",
       "        document.querySelector('#' + key + ' button');\n",
       "      quickchartButtonEl.disabled = true;  // To prevent multiple clicks.\n",
       "      quickchartButtonEl.classList.add('colab-df-spinner');\n",
       "      try {\n",
       "        const charts = await google.colab.kernel.invokeFunction(\n",
       "            'suggestCharts', [key], {});\n",
       "      } catch (error) {\n",
       "        console.error('Error during call to suggestCharts:', error);\n",
       "      }\n",
       "      quickchartButtonEl.classList.remove('colab-df-spinner');\n",
       "      quickchartButtonEl.classList.add('colab-df-quickchart-complete');\n",
       "    }\n",
       "    (() => {\n",
       "      let quickchartButtonEl =\n",
       "        document.querySelector('#df-7c217433-b22b-436c-8b75-052ceca3bf82 button');\n",
       "      quickchartButtonEl.style.display =\n",
       "        google.colab.kernel.accessAllowed ? 'block' : 'none';\n",
       "    })();\n",
       "  </script>\n",
       "</div>\n",
       "\n",
       "    </div>\n",
       "  </div>\n"
      ],
      "application/vnd.google.colaboratory.intrinsic+json": {
       "type": "dataframe",
       "variable_name": "df",
       "summary": "{\n  \"name\": \"df\",\n  \"rows\": 10043,\n  \"fields\": [\n    {\n      \"column\": \"diggCount\",\n      \"properties\": {\n        \"dtype\": \"number\",\n        \"std\": 17247,\n        \"min\": 0,\n        \"max\": 386100,\n        \"num_unique_values\": 2616,\n        \"samples\": [\n          679,\n          571,\n          7662\n        ],\n        \"semantic_type\": \"\",\n        \"description\": \"\"\n      }\n    },\n    {\n      \"column\": \"followerCount\",\n      \"properties\": {\n        \"dtype\": \"number\",\n        \"std\": 2177556,\n        \"min\": 0,\n        \"max\": 82300000,\n        \"num_unique_values\": 2115,\n        \"samples\": [\n          1042,\n          1246,\n          2400000\n        ],\n        \"semantic_type\": \"\",\n        \"description\": \"\"\n      }\n    },\n    {\n      \"column\": \"followingCount\",\n      \"properties\": {\n        \"dtype\": \"number\",\n        \"std\": 2186,\n        \"min\": 0,\n        \"max\": 10000,\n        \"num_unique_values\": 1759,\n        \"samples\": [\n          464,\n          779,\n          1284\n        ],\n        \"semantic_type\": \"\",\n        \"description\": \"\"\n      }\n    },\n    {\n      \"column\": \"heartCount\",\n      \"properties\": {\n        \"dtype\": \"number\",\n        \"std\": 38122509,\n        \"min\": 0,\n        \"max\": 1400000000,\n        \"num_unique_values\": 2693,\n        \"samples\": [\n          314,\n          2565,\n          674700\n        ],\n        \"semantic_type\": \"\",\n        \"description\": \"\"\n      }\n    },\n    {\n      \"column\": \"videoCount\",\n      \"properties\": {\n        \"dtype\": \"number\",\n        \"std\": 311,\n        \"min\": 0,\n        \"max\": 9300,\n        \"num_unique_values\": 666,\n        \"samples\": [\n          1267,\n          459,\n          1357\n        ],\n        \"semantic_type\": \"\",\n        \"description\": \"\"\n      }\n    },\n    {\n      \"column\": \"commentSetting\",\n      \"properties\": {\n        \"dtype\": \"number\",\n        \"std\": 0,\n        \"min\": 0,\n        \"max\": 3,\n        \"num_unique_values\": 3,\n        \"samples\": [\n          0,\n          1,\n          3\n        ],\n        \"semantic_type\": \"\",\n        \"description\": \"\"\n      }\n    },\n    {\n      \"column\": \"downloadSetting\",\n      \"properties\": {\n        \"dtype\": \"number\",\n        \"std\": 0,\n        \"min\": 0,\n        \"max\": 3,\n        \"num_unique_values\": 2,\n        \"samples\": [\n          3,\n          0\n        ],\n        \"semantic_type\": \"\",\n        \"description\": \"\"\n      }\n    },\n    {\n      \"column\": \"duetSetting\",\n      \"properties\": {\n        \"dtype\": \"number\",\n        \"std\": 0,\n        \"min\": 0,\n        \"max\": 3,\n        \"num_unique_values\": 3,\n        \"samples\": [\n          0,\n          1\n        ],\n        \"semantic_type\": \"\",\n        \"description\": \"\"\n      }\n    },\n    {\n      \"column\": \"nickname\",\n      \"properties\": {\n        \"dtype\": \"string\",\n        \"num_unique_values\": 5829,\n        \"samples\": [\n          \"tuetinsingcompso\",\n          \"araparot\"\n        ],\n        \"semantic_type\": \"\",\n        \"description\": \"\"\n      }\n    },\n    {\n      \"column\": \"openFavorite\",\n      \"properties\": {\n        \"dtype\": \"boolean\",\n        \"num_unique_values\": 2,\n        \"samples\": [\n          true,\n          false\n        ],\n        \"semantic_type\": \"\",\n        \"description\": \"\"\n      }\n    },\n    {\n      \"column\": \"signature\",\n      \"properties\": {\n        \"dtype\": \"category\",\n        \"num_unique_values\": 2313,\n        \"samples\": [\n          \"- the guy with big eyes \\ud83d\\udc41 \\ud83d\\udc41 \\r\\n- IG: @Fattykuds \\r\\n\\ud83c\\uddfa\\ud83c\\uddf8\\ud83c\\uddea\\ud83c\\uddf9\\ud83c\\uddf3\\ud83c\\uddf1\",\n          \"{\\u0648\\u064e\\u0644\\u0627 \\u062a\\u064e\\u062d\\u0633\\u064e\\u0628\\u064e\\u0646\\u064e\\u0651 \\u0627\\u0644\\u0644\\u064e\\u0651\\u0647\\u064e \\u063a\\u0627\\u0641\\u0650\\u0644\\u064b\\u0627 \\u0639\\u064e\\u0645\\u0651\\u0627 \\u064a\\u064e\\u0639\\u0645\\u064e\\u0644\\u064f \\u0627\\u0644\\u0638\\u0651\\u0627\\u0644\\u0650\\u0645\\u0648\\u0646\\u064e\"\n        ],\n        \"semantic_type\": \"\",\n        \"description\": \"\"\n      }\n    },\n    {\n      \"column\": \"stitchSetting\",\n      \"properties\": {\n        \"dtype\": \"number\",\n        \"std\": 0,\n        \"min\": 0,\n        \"max\": 3,\n        \"num_unique_values\": 3,\n        \"samples\": [\n          0,\n          1\n        ],\n        \"semantic_type\": \"\",\n        \"description\": \"\"\n      }\n    },\n    {\n      \"column\": \"uniqueId\",\n      \"properties\": {\n        \"dtype\": \"string\",\n        \"num_unique_values\": 10042,\n        \"samples\": [\n          \"jycuzilygoziz\",\n          \"ikercasillas\"\n        ],\n        \"semantic_type\": \"\",\n        \"description\": \"\"\n      }\n    },\n    {\n      \"column\": \"verified\",\n      \"properties\": {\n        \"dtype\": \"boolean\",\n        \"num_unique_values\": 2,\n        \"samples\": [\n          true,\n          false\n        ],\n        \"semantic_type\": \"\",\n        \"description\": \"\"\n      }\n    },\n    {\n      \"column\": \"fake\",\n      \"properties\": {\n        \"dtype\": \"boolean\",\n        \"num_unique_values\": 2,\n        \"samples\": [\n          false,\n          true\n        ],\n        \"semantic_type\": \"\",\n        \"description\": \"\"\n      }\n    }\n  ]\n}"
      }
     },
     "metadata": {},
     "execution_count": 5
    }
   ],
   "source": [
    "df = pd.read_csv(csv_path)\n",
    "df.head()"
   ],
   "metadata": {
    "colab": {
     "base_uri": "https://localhost:8080/",
     "height": 243
    },
    "id": "kTGRmldzMQT3",
    "executionInfo": {
     "status": "ok",
     "timestamp": 1719940419390,
     "user_tz": -120,
     "elapsed": 724,
     "user": {
      "displayName": "Annalaura Miglino",
      "userId": "03808724092990969006"
     }
    },
    "outputId": "8dac2b83-f583-4830-e341-dac5d94f6e67"
   }
  },
  {
   "cell_type": "markdown",
   "source": [
    "## 2. Esplorazione dei dati"
   ],
   "metadata": {
    "id": "SYxs0pmnFnVW"
   }
  },
  {
   "cell_type": "code",
   "source": [
    "# Verifico quante istanze ci sono nel dataset\n",
    "len(df)"
   ],
   "metadata": {
    "colab": {
     "base_uri": "https://localhost:8080/"
    },
    "id": "TtFAFLsdFpK1",
    "outputId": "3ef321ff-74a9-4bc2-b968-09978a700276",
    "executionInfo": {
     "status": "ok",
     "timestamp": 1719940428064,
     "user_tz": -120,
     "elapsed": 343,
     "user": {
      "displayName": "Annalaura Miglino",
      "userId": "03808724092990969006"
     }
    }
   },
   "execution_count": 6,
   "outputs": [
    {
     "output_type": "execute_result",
     "data": {
      "text/plain": [
       "10043"
      ]
     },
     "metadata": {},
     "execution_count": 6
    }
   ]
  },
  {
   "cell_type": "code",
   "source": [
    "# Stampo informazioni sul dataset\n",
    "df.info()"
   ],
   "metadata": {
    "colab": {
     "base_uri": "https://localhost:8080/"
    },
    "id": "9szWz898FrQG",
    "outputId": "22a4d216-af6b-4a06-b00a-378e2edc14b0",
    "executionInfo": {
     "status": "ok",
     "timestamp": 1719940428340,
     "user_tz": -120,
     "elapsed": 6,
     "user": {
      "displayName": "Annalaura Miglino",
      "userId": "03808724092990969006"
     }
    }
   },
   "execution_count": 7,
   "outputs": [
    {
     "output_type": "stream",
     "name": "stdout",
     "text": [
      "<class 'pandas.core.frame.DataFrame'>\n",
      "RangeIndex: 10043 entries, 0 to 10042\n",
      "Data columns (total 15 columns):\n",
      " #   Column           Non-Null Count  Dtype \n",
      "---  ------           --------------  ----- \n",
      " 0   diggCount        10043 non-null  int64 \n",
      " 1   followerCount    10043 non-null  int64 \n",
      " 2   followingCount   10043 non-null  int64 \n",
      " 3   heartCount       10043 non-null  int64 \n",
      " 4   videoCount       10043 non-null  int64 \n",
      " 5   commentSetting   10043 non-null  int64 \n",
      " 6   downloadSetting  10043 non-null  int64 \n",
      " 7   duetSetting      10043 non-null  int64 \n",
      " 8   nickname         10043 non-null  object\n",
      " 9   openFavorite     10043 non-null  bool  \n",
      " 10  signature        6536 non-null   object\n",
      " 11  stitchSetting    10043 non-null  int64 \n",
      " 12  uniqueId         10043 non-null  object\n",
      " 13  verified         10043 non-null  bool  \n",
      " 14  fake             10043 non-null  bool  \n",
      "dtypes: bool(3), int64(9), object(3)\n",
      "memory usage: 971.1+ KB\n"
     ]
    }
   ]
  },
  {
   "cell_type": "code",
   "source": [
    "# Descrivo gli attributi numerici del dataset\n",
    "df.describe()"
   ],
   "metadata": {
    "colab": {
     "base_uri": "https://localhost:8080/",
     "height": 320
    },
    "id": "kqx8uSAQFwlH",
    "outputId": "18c2e68a-a1aa-43fb-e202-42ee599627d8",
    "executionInfo": {
     "status": "ok",
     "timestamp": 1719940428341,
     "user_tz": -120,
     "elapsed": 6,
     "user": {
      "displayName": "Annalaura Miglino",
      "userId": "03808724092990969006"
     }
    }
   },
   "execution_count": 8,
   "outputs": [
    {
     "output_type": "execute_result",
     "data": {
      "text/plain": [
       "           diggCount  followerCount  followingCount    heartCount  \\\n",
       "count   10043.000000   1.004300e+04    10043.000000  1.004300e+04   \n",
       "mean     3893.421189   2.218839e+05     1043.106641  3.978432e+06   \n",
       "std     17247.832989   2.177557e+06     2186.721075  3.812251e+07   \n",
       "min         0.000000   0.000000e+00        0.000000  0.000000e+00   \n",
       "25%       195.000000   2.000000e+00      176.000000  0.000000e+00   \n",
       "50%       358.000000   5.400000e+01      533.000000  0.000000e+00   \n",
       "75%       761.000000   5.120000e+02      686.000000  9.060000e+02   \n",
       "max    386100.000000   8.230000e+07    10000.000000  1.400000e+09   \n",
       "\n",
       "         videoCount  commentSetting  downloadSetting   duetSetting  \\\n",
       "count  10043.000000    10043.000000     10043.000000  10043.000000   \n",
       "mean      66.211889        0.009161         0.146968      0.089316   \n",
       "std      311.690438        0.136519         0.647570      0.479087   \n",
       "min        0.000000        0.000000         0.000000      0.000000   \n",
       "25%        0.000000        0.000000         0.000000      0.000000   \n",
       "50%        0.000000        0.000000         0.000000      0.000000   \n",
       "75%       17.000000        0.000000         0.000000      0.000000   \n",
       "max     9300.000000        3.000000         3.000000      3.000000   \n",
       "\n",
       "       stitchSetting  \n",
       "count   10043.000000  \n",
       "mean        0.093100  \n",
       "std         0.489071  \n",
       "min         0.000000  \n",
       "25%         0.000000  \n",
       "50%         0.000000  \n",
       "75%         0.000000  \n",
       "max         3.000000  "
      ],
      "text/html": [
       "\n",
       "  <div id=\"df-88fd7c4f-97ec-4971-ada0-71a2222847cf\" class=\"colab-df-container\">\n",
       "    <div>\n",
       "<style scoped>\n",
       "    .dataframe tbody tr th:only-of-type {\n",
       "        vertical-align: middle;\n",
       "    }\n",
       "\n",
       "    .dataframe tbody tr th {\n",
       "        vertical-align: top;\n",
       "    }\n",
       "\n",
       "    .dataframe thead th {\n",
       "        text-align: right;\n",
       "    }\n",
       "</style>\n",
       "<table border=\"1\" class=\"dataframe\">\n",
       "  <thead>\n",
       "    <tr style=\"text-align: right;\">\n",
       "      <th></th>\n",
       "      <th>diggCount</th>\n",
       "      <th>followerCount</th>\n",
       "      <th>followingCount</th>\n",
       "      <th>heartCount</th>\n",
       "      <th>videoCount</th>\n",
       "      <th>commentSetting</th>\n",
       "      <th>downloadSetting</th>\n",
       "      <th>duetSetting</th>\n",
       "      <th>stitchSetting</th>\n",
       "    </tr>\n",
       "  </thead>\n",
       "  <tbody>\n",
       "    <tr>\n",
       "      <th>count</th>\n",
       "      <td>10043.000000</td>\n",
       "      <td>1.004300e+04</td>\n",
       "      <td>10043.000000</td>\n",
       "      <td>1.004300e+04</td>\n",
       "      <td>10043.000000</td>\n",
       "      <td>10043.000000</td>\n",
       "      <td>10043.000000</td>\n",
       "      <td>10043.000000</td>\n",
       "      <td>10043.000000</td>\n",
       "    </tr>\n",
       "    <tr>\n",
       "      <th>mean</th>\n",
       "      <td>3893.421189</td>\n",
       "      <td>2.218839e+05</td>\n",
       "      <td>1043.106641</td>\n",
       "      <td>3.978432e+06</td>\n",
       "      <td>66.211889</td>\n",
       "      <td>0.009161</td>\n",
       "      <td>0.146968</td>\n",
       "      <td>0.089316</td>\n",
       "      <td>0.093100</td>\n",
       "    </tr>\n",
       "    <tr>\n",
       "      <th>std</th>\n",
       "      <td>17247.832989</td>\n",
       "      <td>2.177557e+06</td>\n",
       "      <td>2186.721075</td>\n",
       "      <td>3.812251e+07</td>\n",
       "      <td>311.690438</td>\n",
       "      <td>0.136519</td>\n",
       "      <td>0.647570</td>\n",
       "      <td>0.479087</td>\n",
       "      <td>0.489071</td>\n",
       "    </tr>\n",
       "    <tr>\n",
       "      <th>min</th>\n",
       "      <td>0.000000</td>\n",
       "      <td>0.000000e+00</td>\n",
       "      <td>0.000000</td>\n",
       "      <td>0.000000e+00</td>\n",
       "      <td>0.000000</td>\n",
       "      <td>0.000000</td>\n",
       "      <td>0.000000</td>\n",
       "      <td>0.000000</td>\n",
       "      <td>0.000000</td>\n",
       "    </tr>\n",
       "    <tr>\n",
       "      <th>25%</th>\n",
       "      <td>195.000000</td>\n",
       "      <td>2.000000e+00</td>\n",
       "      <td>176.000000</td>\n",
       "      <td>0.000000e+00</td>\n",
       "      <td>0.000000</td>\n",
       "      <td>0.000000</td>\n",
       "      <td>0.000000</td>\n",
       "      <td>0.000000</td>\n",
       "      <td>0.000000</td>\n",
       "    </tr>\n",
       "    <tr>\n",
       "      <th>50%</th>\n",
       "      <td>358.000000</td>\n",
       "      <td>5.400000e+01</td>\n",
       "      <td>533.000000</td>\n",
       "      <td>0.000000e+00</td>\n",
       "      <td>0.000000</td>\n",
       "      <td>0.000000</td>\n",
       "      <td>0.000000</td>\n",
       "      <td>0.000000</td>\n",
       "      <td>0.000000</td>\n",
       "    </tr>\n",
       "    <tr>\n",
       "      <th>75%</th>\n",
       "      <td>761.000000</td>\n",
       "      <td>5.120000e+02</td>\n",
       "      <td>686.000000</td>\n",
       "      <td>9.060000e+02</td>\n",
       "      <td>17.000000</td>\n",
       "      <td>0.000000</td>\n",
       "      <td>0.000000</td>\n",
       "      <td>0.000000</td>\n",
       "      <td>0.000000</td>\n",
       "    </tr>\n",
       "    <tr>\n",
       "      <th>max</th>\n",
       "      <td>386100.000000</td>\n",
       "      <td>8.230000e+07</td>\n",
       "      <td>10000.000000</td>\n",
       "      <td>1.400000e+09</td>\n",
       "      <td>9300.000000</td>\n",
       "      <td>3.000000</td>\n",
       "      <td>3.000000</td>\n",
       "      <td>3.000000</td>\n",
       "      <td>3.000000</td>\n",
       "    </tr>\n",
       "  </tbody>\n",
       "</table>\n",
       "</div>\n",
       "    <div class=\"colab-df-buttons\">\n",
       "\n",
       "  <div class=\"colab-df-container\">\n",
       "    <button class=\"colab-df-convert\" onclick=\"convertToInteractive('df-88fd7c4f-97ec-4971-ada0-71a2222847cf')\"\n",
       "            title=\"Convert this dataframe to an interactive table.\"\n",
       "            style=\"display:none;\">\n",
       "\n",
       "  <svg xmlns=\"http://www.w3.org/2000/svg\" height=\"24px\" viewBox=\"0 -960 960 960\">\n",
       "    <path d=\"M120-120v-720h720v720H120Zm60-500h600v-160H180v160Zm220 220h160v-160H400v160Zm0 220h160v-160H400v160ZM180-400h160v-160H180v160Zm440 0h160v-160H620v160ZM180-180h160v-160H180v160Zm440 0h160v-160H620v160Z\"/>\n",
       "  </svg>\n",
       "    </button>\n",
       "\n",
       "  <style>\n",
       "    .colab-df-container {\n",
       "      display:flex;\n",
       "      gap: 12px;\n",
       "    }\n",
       "\n",
       "    .colab-df-convert {\n",
       "      background-color: #E8F0FE;\n",
       "      border: none;\n",
       "      border-radius: 50%;\n",
       "      cursor: pointer;\n",
       "      display: none;\n",
       "      fill: #1967D2;\n",
       "      height: 32px;\n",
       "      padding: 0 0 0 0;\n",
       "      width: 32px;\n",
       "    }\n",
       "\n",
       "    .colab-df-convert:hover {\n",
       "      background-color: #E2EBFA;\n",
       "      box-shadow: 0px 1px 2px rgba(60, 64, 67, 0.3), 0px 1px 3px 1px rgba(60, 64, 67, 0.15);\n",
       "      fill: #174EA6;\n",
       "    }\n",
       "\n",
       "    .colab-df-buttons div {\n",
       "      margin-bottom: 4px;\n",
       "    }\n",
       "\n",
       "    [theme=dark] .colab-df-convert {\n",
       "      background-color: #3B4455;\n",
       "      fill: #D2E3FC;\n",
       "    }\n",
       "\n",
       "    [theme=dark] .colab-df-convert:hover {\n",
       "      background-color: #434B5C;\n",
       "      box-shadow: 0px 1px 3px 1px rgba(0, 0, 0, 0.15);\n",
       "      filter: drop-shadow(0px 1px 2px rgba(0, 0, 0, 0.3));\n",
       "      fill: #FFFFFF;\n",
       "    }\n",
       "  </style>\n",
       "\n",
       "    <script>\n",
       "      const buttonEl =\n",
       "        document.querySelector('#df-88fd7c4f-97ec-4971-ada0-71a2222847cf button.colab-df-convert');\n",
       "      buttonEl.style.display =\n",
       "        google.colab.kernel.accessAllowed ? 'block' : 'none';\n",
       "\n",
       "      async function convertToInteractive(key) {\n",
       "        const element = document.querySelector('#df-88fd7c4f-97ec-4971-ada0-71a2222847cf');\n",
       "        const dataTable =\n",
       "          await google.colab.kernel.invokeFunction('convertToInteractive',\n",
       "                                                    [key], {});\n",
       "        if (!dataTable) return;\n",
       "\n",
       "        const docLinkHtml = 'Like what you see? Visit the ' +\n",
       "          '<a target=\"_blank\" href=https://colab.research.google.com/notebooks/data_table.ipynb>data table notebook</a>'\n",
       "          + ' to learn more about interactive tables.';\n",
       "        element.innerHTML = '';\n",
       "        dataTable['output_type'] = 'display_data';\n",
       "        await google.colab.output.renderOutput(dataTable, element);\n",
       "        const docLink = document.createElement('div');\n",
       "        docLink.innerHTML = docLinkHtml;\n",
       "        element.appendChild(docLink);\n",
       "      }\n",
       "    </script>\n",
       "  </div>\n",
       "\n",
       "\n",
       "<div id=\"df-4f607a42-c5c6-4269-b3aa-f682a57d1437\">\n",
       "  <button class=\"colab-df-quickchart\" onclick=\"quickchart('df-4f607a42-c5c6-4269-b3aa-f682a57d1437')\"\n",
       "            title=\"Suggest charts\"\n",
       "            style=\"display:none;\">\n",
       "\n",
       "<svg xmlns=\"http://www.w3.org/2000/svg\" height=\"24px\"viewBox=\"0 0 24 24\"\n",
       "     width=\"24px\">\n",
       "    <g>\n",
       "        <path d=\"M19 3H5c-1.1 0-2 .9-2 2v14c0 1.1.9 2 2 2h14c1.1 0 2-.9 2-2V5c0-1.1-.9-2-2-2zM9 17H7v-7h2v7zm4 0h-2V7h2v10zm4 0h-2v-4h2v4z\"/>\n",
       "    </g>\n",
       "</svg>\n",
       "  </button>\n",
       "\n",
       "<style>\n",
       "  .colab-df-quickchart {\n",
       "      --bg-color: #E8F0FE;\n",
       "      --fill-color: #1967D2;\n",
       "      --hover-bg-color: #E2EBFA;\n",
       "      --hover-fill-color: #174EA6;\n",
       "      --disabled-fill-color: #AAA;\n",
       "      --disabled-bg-color: #DDD;\n",
       "  }\n",
       "\n",
       "  [theme=dark] .colab-df-quickchart {\n",
       "      --bg-color: #3B4455;\n",
       "      --fill-color: #D2E3FC;\n",
       "      --hover-bg-color: #434B5C;\n",
       "      --hover-fill-color: #FFFFFF;\n",
       "      --disabled-bg-color: #3B4455;\n",
       "      --disabled-fill-color: #666;\n",
       "  }\n",
       "\n",
       "  .colab-df-quickchart {\n",
       "    background-color: var(--bg-color);\n",
       "    border: none;\n",
       "    border-radius: 50%;\n",
       "    cursor: pointer;\n",
       "    display: none;\n",
       "    fill: var(--fill-color);\n",
       "    height: 32px;\n",
       "    padding: 0;\n",
       "    width: 32px;\n",
       "  }\n",
       "\n",
       "  .colab-df-quickchart:hover {\n",
       "    background-color: var(--hover-bg-color);\n",
       "    box-shadow: 0 1px 2px rgba(60, 64, 67, 0.3), 0 1px 3px 1px rgba(60, 64, 67, 0.15);\n",
       "    fill: var(--button-hover-fill-color);\n",
       "  }\n",
       "\n",
       "  .colab-df-quickchart-complete:disabled,\n",
       "  .colab-df-quickchart-complete:disabled:hover {\n",
       "    background-color: var(--disabled-bg-color);\n",
       "    fill: var(--disabled-fill-color);\n",
       "    box-shadow: none;\n",
       "  }\n",
       "\n",
       "  .colab-df-spinner {\n",
       "    border: 2px solid var(--fill-color);\n",
       "    border-color: transparent;\n",
       "    border-bottom-color: var(--fill-color);\n",
       "    animation:\n",
       "      spin 1s steps(1) infinite;\n",
       "  }\n",
       "\n",
       "  @keyframes spin {\n",
       "    0% {\n",
       "      border-color: transparent;\n",
       "      border-bottom-color: var(--fill-color);\n",
       "      border-left-color: var(--fill-color);\n",
       "    }\n",
       "    20% {\n",
       "      border-color: transparent;\n",
       "      border-left-color: var(--fill-color);\n",
       "      border-top-color: var(--fill-color);\n",
       "    }\n",
       "    30% {\n",
       "      border-color: transparent;\n",
       "      border-left-color: var(--fill-color);\n",
       "      border-top-color: var(--fill-color);\n",
       "      border-right-color: var(--fill-color);\n",
       "    }\n",
       "    40% {\n",
       "      border-color: transparent;\n",
       "      border-right-color: var(--fill-color);\n",
       "      border-top-color: var(--fill-color);\n",
       "    }\n",
       "    60% {\n",
       "      border-color: transparent;\n",
       "      border-right-color: var(--fill-color);\n",
       "    }\n",
       "    80% {\n",
       "      border-color: transparent;\n",
       "      border-right-color: var(--fill-color);\n",
       "      border-bottom-color: var(--fill-color);\n",
       "    }\n",
       "    90% {\n",
       "      border-color: transparent;\n",
       "      border-bottom-color: var(--fill-color);\n",
       "    }\n",
       "  }\n",
       "</style>\n",
       "\n",
       "  <script>\n",
       "    async function quickchart(key) {\n",
       "      const quickchartButtonEl =\n",
       "        document.querySelector('#' + key + ' button');\n",
       "      quickchartButtonEl.disabled = true;  // To prevent multiple clicks.\n",
       "      quickchartButtonEl.classList.add('colab-df-spinner');\n",
       "      try {\n",
       "        const charts = await google.colab.kernel.invokeFunction(\n",
       "            'suggestCharts', [key], {});\n",
       "      } catch (error) {\n",
       "        console.error('Error during call to suggestCharts:', error);\n",
       "      }\n",
       "      quickchartButtonEl.classList.remove('colab-df-spinner');\n",
       "      quickchartButtonEl.classList.add('colab-df-quickchart-complete');\n",
       "    }\n",
       "    (() => {\n",
       "      let quickchartButtonEl =\n",
       "        document.querySelector('#df-4f607a42-c5c6-4269-b3aa-f682a57d1437 button');\n",
       "      quickchartButtonEl.style.display =\n",
       "        google.colab.kernel.accessAllowed ? 'block' : 'none';\n",
       "    })();\n",
       "  </script>\n",
       "</div>\n",
       "\n",
       "    </div>\n",
       "  </div>\n"
      ],
      "application/vnd.google.colaboratory.intrinsic+json": {
       "type": "dataframe",
       "summary": "{\n  \"name\": \"df\",\n  \"rows\": 8,\n  \"fields\": [\n    {\n      \"column\": \"diggCount\",\n      \"properties\": {\n        \"dtype\": \"number\",\n        \"std\": 135004.97415718818,\n        \"min\": 0.0,\n        \"max\": 386100.0,\n        \"num_unique_values\": 8,\n        \"samples\": [\n          3893.4211888877826,\n          358.0,\n          10043.0\n        ],\n        \"semantic_type\": \"\",\n        \"description\": \"\"\n      }\n    },\n    {\n      \"column\": \"followerCount\",\n      \"properties\": {\n        \"dtype\": \"number\",\n        \"std\": 28985481.545490284,\n        \"min\": 0.0,\n        \"max\": 82300000.0,\n        \"num_unique_values\": 8,\n        \"samples\": [\n          221883.9489196455,\n          54.0,\n          10043.0\n        ],\n        \"semantic_type\": \"\",\n        \"description\": \"\"\n      }\n    },\n    {\n      \"column\": \"followingCount\",\n      \"properties\": {\n        \"dtype\": \"number\",\n        \"std\": 4333.500976508176,\n        \"min\": 0.0,\n        \"max\": 10043.0,\n        \"num_unique_values\": 8,\n        \"samples\": [\n          1043.1066414418003,\n          533.0,\n          10043.0\n        ],\n        \"semantic_type\": \"\",\n        \"description\": \"\"\n      }\n    },\n    {\n      \"column\": \"heartCount\",\n      \"properties\": {\n        \"dtype\": \"number\",\n        \"std\": 493023951.23126936,\n        \"min\": 0.0,\n        \"max\": 1400000000.0,\n        \"num_unique_values\": 6,\n        \"samples\": [\n          10043.0,\n          3978432.3874340337,\n          1400000000.0\n        ],\n        \"semantic_type\": \"\",\n        \"description\": \"\"\n      }\n    },\n    {\n      \"column\": \"videoCount\",\n      \"properties\": {\n        \"dtype\": \"number\",\n        \"std\": 4452.2157310130315,\n        \"min\": 0.0,\n        \"max\": 10043.0,\n        \"num_unique_values\": 6,\n        \"samples\": [\n          10043.0,\n          66.21188887782534,\n          9300.0\n        ],\n        \"semantic_type\": \"\",\n        \"description\": \"\"\n      }\n    },\n    {\n      \"column\": \"commentSetting\",\n      \"properties\": {\n        \"dtype\": \"number\",\n        \"std\": 3550.5779739090804,\n        \"min\": 0.0,\n        \"max\": 10043.0,\n        \"num_unique_values\": 5,\n        \"samples\": [\n          0.00916060937966743,\n          3.0,\n          0.1365190284326163\n        ],\n        \"semantic_type\": \"\",\n        \"description\": \"\"\n      }\n    },\n    {\n      \"column\": \"downloadSetting\",\n      \"properties\": {\n        \"dtype\": \"number\",\n        \"std\": 3550.5451971894936,\n        \"min\": 0.0,\n        \"max\": 10043.0,\n        \"num_unique_values\": 5,\n        \"samples\": [\n          0.14696803743901224,\n          3.0,\n          0.6475695046617442\n        ],\n        \"semantic_type\": \"\",\n        \"description\": \"\"\n      }\n    },\n    {\n      \"column\": \"duetSetting\",\n      \"properties\": {\n        \"dtype\": \"number\",\n        \"std\": 3550.556619403258,\n        \"min\": 0.0,\n        \"max\": 10043.0,\n        \"num_unique_values\": 5,\n        \"samples\": [\n          0.08931594145175745,\n          3.0,\n          0.479087004362705\n        ],\n        \"semantic_type\": \"\",\n        \"description\": \"\"\n      }\n    },\n    {\n      \"column\": \"stitchSetting\",\n      \"properties\": {\n        \"dtype\": \"number\",\n        \"std\": 3550.5559239464606,\n        \"min\": 0.0,\n        \"max\": 10043.0,\n        \"num_unique_values\": 5,\n        \"samples\": [\n          0.09309967141292443,\n          3.0,\n          0.4890711403116031\n        ],\n        \"semantic_type\": \"\",\n        \"description\": \"\"\n      }\n    }\n  ]\n}"
      }
     },
     "metadata": {},
     "execution_count": 8
    }
   ]
  },
  {
   "cell_type": "markdown",
   "source": [
    ">"
   ],
   "metadata": {
    "collapsed": false,
    "id": "zJxlnpldMQT7"
   }
  },
  {
   "cell_type": "code",
   "execution_count": 9,
   "outputs": [
    {
     "output_type": "display_data",
     "data": {
      "text/plain": [
       "<Figure size 2000x1500 with 9 Axes>"
      ],
      "image/png": "[encoded data removed]"
     },
     "metadata": {}
    }
   ],
   "source": [
    "# Stampo i grafici relativi agli attributi numerici\n",
    "# bins indica il numero totale di intervalli equidistanti in cui suddividere i dati\n",
    "%matplotlib inline\n",
    "df.hist(bins=5, figsize=(20,15))\n",
    "plt.show()"
   ],
   "metadata": {
    "colab": {
     "base_uri": "https://localhost:8080/",
     "height": 660
    },
    "id": "tAkwin5VMQT7",
    "executionInfo": {
     "status": "ok",
     "timestamp": 1719940431185,
     "user_tz": -120,
     "elapsed": 2848,
     "user": {
      "displayName": "Annalaura Miglino",
      "userId": "03808724092990969006"
     }
    },
    "outputId": "34f4556d-a85c-4d2d-d4d9-385e89b17673"
   }
  },
  {
   "cell_type": "code",
   "source": [
    "# Stampo massimo e minimo di ogni attributo\n",
    "print(\"Massimo Digg Count:\", df['diggCount'].max())\n",
    "print(\"Minimo Digg Count:\", df['diggCount'].min())\n",
    "\n",
    "print(\"Massimo Follower Count:\", df['followerCount'].max())\n",
    "print(\"Minimo Follower Count:\", df['followerCount'].min())\n",
    "\n",
    "print(\"Massimo Following Count:\", df['followingCount'].max())\n",
    "print(\"Minimo Following Count:\", df['followingCount'].min())\n",
    "\n",
    "print(\"Massimo Heart Count:\", df['heartCount'].max())\n",
    "print(\"Minimo Heart Count:\", df['heartCount'].min())\n",
    "\n",
    "print(\"Massimo Video Count:\", df['videoCount'].max())\n",
    "print(\"Minimo Video Count:\", df['videoCount'].min())\n",
    "\n",
    "print(\"Massimo Comment Setting:\", df['commentSetting'].max())\n",
    "print(\"Minimo Comment Setting:\", df['commentSetting'].min())\n",
    "\n",
    "print(\"Massimo Download Setting:\", df['downloadSetting'].max())\n",
    "print(\"Minimo Download Setting:\", df['downloadSetting'].min())\n",
    "\n",
    "print(\"Massimo Duet Setting:\", df['duetSetting'].max())\n",
    "print(\"Minimo Duet Setting:\", df['duetSetting'].min())\n",
    "\n",
    "print(\"Massimo Stitch Setting:\", df['stitchSetting'].max())\n",
    "print(\"Minimo Stitch Setting:\", df['stitchSetting'].min())"
   ],
   "metadata": {
    "colab": {
     "base_uri": "https://localhost:8080/"
    },
    "id": "eRgICEUfGNG9",
    "outputId": "edb00e7a-72c6-473a-e7b0-6db698f38412",
    "executionInfo": {
     "status": "ok",
     "timestamp": 1719940431186,
     "user_tz": -120,
     "elapsed": 12,
     "user": {
      "displayName": "Annalaura Miglino",
      "userId": "03808724092990969006"
     }
    }
   },
   "execution_count": 10,
   "outputs": [
    {
     "output_type": "stream",
     "name": "stdout",
     "text": [
      "Massimo Digg Count: 386100\n",
      "Minimo Digg Count: 0\n",
      "Massimo Follower Count: 82300000\n",
      "Minimo Follower Count: 0\n",
      "Massimo Following Count: 10000\n",
      "Minimo Following Count: 0\n",
      "Massimo Heart Count: 1400000000\n",
      "Minimo Heart Count: 0\n",
      "Massimo Video Count: 9300\n",
      "Minimo Video Count: 0\n",
      "Massimo Comment Setting: 3\n",
      "Minimo Comment Setting: 0\n",
      "Massimo Download Setting: 3\n",
      "Minimo Download Setting: 0\n",
      "Massimo Duet Setting: 3\n",
      "Minimo Duet Setting: 0\n",
      "Massimo Stitch Setting: 3\n",
      "Minimo Stitch Setting: 0\n"
     ]
    }
   ]
  },
  {
   "cell_type": "markdown",
   "source": [
    "> Matrice di correlazione per capire quali sono le variabili effettivamente correlate da quelle che non lo sono."
   ],
   "metadata": {
    "collapsed": false,
    "id": "pSdmoFujMQT9"
   }
  },
  {
   "cell_type": "code",
   "execution_count": 11,
   "outputs": [
    {
     "output_type": "execute_result",
     "data": {
      "text/plain": [
       "fake               1.000000\n",
       "followingCount     0.250169\n",
       "commentSetting    -0.067205\n",
       "followerCount     -0.102048\n",
       "heartCount        -0.104520\n",
       "duetSetting       -0.186717\n",
       "stitchSetting     -0.190654\n",
       "diggCount         -0.204800\n",
       "videoCount        -0.210097\n",
       "downloadSetting   -0.227304\n",
       "Name: fake, dtype: float64"
      ]
     },
     "metadata": {},
     "execution_count": 11
    }
   ],
   "source": [
    "# Seleziono solo le colonne numeriche, dato che su quelle si può calcolare la matrice di correlazione\n",
    "selected_data = df[['diggCount', 'followerCount', 'followingCount', 'heartCount',\n",
    "                      'videoCount', 'commentSetting', 'downloadSetting', 'duetSetting', 'stitchSetting', 'fake']]\n",
    "corr_matrix = selected_data.corr()\n",
    "corr_matrix['fake'].sort_values(ascending=False)"
   ],
   "metadata": {
    "colab": {
     "base_uri": "https://localhost:8080/"
    },
    "id": "9uCvciknMQT9",
    "executionInfo": {
     "status": "ok",
     "timestamp": 1719940431186,
     "user_tz": -120,
     "elapsed": 9,
     "user": {
      "displayName": "Annalaura Miglino",
      "userId": "03808724092990969006"
     }
    },
    "outputId": "2024d459-c1be-4e5e-c1af-19d41584e3f6"
   }
  },
  {
   "cell_type": "markdown",
   "source": [
    "I valori vicini allo zero sono quelli meno correlati, per cui si può dire che *commentSetting* non è correlato. Si valuterà dopo la pulizia completa se è il caso di eliminarlo definitivamente."
   ],
   "metadata": {
    "id": "lm75DIDVOz56"
   }
  },
  {
   "cell_type": "markdown",
   "source": [
    "> Creo una copia del dataset originale, in modo da non modificarlo direttamente"
   ],
   "metadata": {
    "collapsed": false
   }
  },
  {
   "cell_type": "code",
   "execution_count": 14,
   "outputs": [],
   "source": [
    "df_copy = df"
   ],
   "metadata": {
    "collapsed": false
   }
  },
  {
   "cell_type": "markdown",
   "source": [
    "> Mostro la correlazione di una selezione di attributi una per una."
   ],
   "metadata": {
    "collapsed": false
   }
  },
  {
   "cell_type": "code",
   "execution_count": 12,
   "outputs": [],
   "source": [
    "# Creo una nuova label target in formato numerico per poter vedere la correlazione\n",
    "df_copy['fakeNum'] = np.where(df_copy['fake'] == False, 0, 1)"
   ],
   "metadata": {
    "collapsed": false
   }
  },
  {
   "cell_type": "code",
   "execution_count": 13,
   "outputs": [
    {
     "output_type": "execute_result",
     "data": {
      "text/plain": [
       "array([[<Axes: xlabel='followerCount', ylabel='followerCount'>,\n",
       "        <Axes: xlabel='followingCount', ylabel='followerCount'>,\n",
       "        <Axes: xlabel='heartCount', ylabel='followerCount'>,\n",
       "        <Axes: xlabel='videoCount', ylabel='followerCount'>,\n",
       "        <Axes: xlabel='fakeNum', ylabel='followerCount'>],\n",
       "       [<Axes: xlabel='followerCount', ylabel='followingCount'>,\n",
       "        <Axes: xlabel='followingCount', ylabel='followingCount'>,\n",
       "        <Axes: xlabel='heartCount', ylabel='followingCount'>,\n",
       "        <Axes: xlabel='videoCount', ylabel='followingCount'>,\n",
       "        <Axes: xlabel='fakeNum', ylabel='followingCount'>],\n",
       "       [<Axes: xlabel='followerCount', ylabel='heartCount'>,\n",
       "        <Axes: xlabel='followingCount', ylabel='heartCount'>,\n",
       "        <Axes: xlabel='heartCount', ylabel='heartCount'>,\n",
       "        <Axes: xlabel='videoCount', ylabel='heartCount'>,\n",
       "        <Axes: xlabel='fakeNum', ylabel='heartCount'>],\n",
       "       [<Axes: xlabel='followerCount', ylabel='videoCount'>,\n",
       "        <Axes: xlabel='followingCount', ylabel='videoCount'>,\n",
       "        <Axes: xlabel='heartCount', ylabel='videoCount'>,\n",
       "        <Axes: xlabel='videoCount', ylabel='videoCount'>,\n",
       "        <Axes: xlabel='fakeNum', ylabel='videoCount'>],\n",
       "       [<Axes: xlabel='followerCount', ylabel='fakeNum'>,\n",
       "        <Axes: xlabel='followingCount', ylabel='fakeNum'>,\n",
       "        <Axes: xlabel='heartCount', ylabel='fakeNum'>,\n",
       "        <Axes: xlabel='videoCount', ylabel='fakeNum'>,\n",
       "        <Axes: xlabel='fakeNum', ylabel='fakeNum'>]], dtype=object)"
      ]
     },
     "metadata": {},
     "execution_count": 13
    },
    {
     "output_type": "display_data",
     "data": {
      "text/plain": [
       "<Figure size 1200x800 with 25 Axes>"
      ],
      "image/png": "[encoded data removed]"
     },
     "metadata": {}
    }
   ],
   "source": [
    "# Verifico la correlazione di alcuni attributi con la label target tramite scatter matrix\n",
    "attributes = ['followerCount', 'followingCount', 'heartCount', 'videoCount', 'fakeNum']\n",
    "scatter_matrix(df_copy[attributes], figsize=(12, 8))"
   ],
   "metadata": {
    "collapsed": false
   }
  },
  {
   "cell_type": "markdown",
   "source": [
    "## 3. Pulizia dei dati"
   ],
   "metadata": {
    "collapsed": false
   }
  },
  {
   "cell_type": "markdown",
   "source": [
    "### 3.1 Pulizia *signature*"
   ],
   "metadata": {
    "collapsed": false,
    "id": "OsrWP242MQUC"
   }
  },
  {
   "cell_type": "markdown",
   "source": [
    "> Sostituisce le signature con valore NaN e 'No bio yet' con la stringa vuota."
   ],
   "metadata": {
    "collapsed": false,
    "id": "kWmJx-nbMQUC"
   }
  },
  {
   "cell_type": "code",
   "execution_count": 15,
   "outputs": [],
   "source": [
    "df_copy['signature'] = df_copy['signature'].fillna('')\n",
    "df_copy['signature'] = df_copy['signature'].replace('No bio yet', '')"
   ],
   "metadata": {
    "id": "FDZ5wNzIMQUD",
    "executionInfo": {
     "status": "ok",
     "timestamp": 1719940452310,
     "user_tz": -120,
     "elapsed": 5,
     "user": {
      "displayName": "Annalaura Miglino",
      "userId": "03808724092990969006"
     }
    }
   }
  },
  {
   "cell_type": "code",
   "execution_count": 16,
   "outputs": [
    {
     "output_type": "stream",
     "name": "stdout",
     "text": [
      "<class 'pandas.core.frame.DataFrame'>\n",
      "RangeIndex: 10043 entries, 0 to 10042\n",
      "Data columns (total 16 columns):\n",
      " #   Column           Non-Null Count  Dtype \n",
      "---  ------           --------------  ----- \n",
      " 0   diggCount        10043 non-null  int64 \n",
      " 1   followerCount    10043 non-null  int64 \n",
      " 2   followingCount   10043 non-null  int64 \n",
      " 3   heartCount       10043 non-null  int64 \n",
      " 4   videoCount       10043 non-null  int64 \n",
      " 5   commentSetting   10043 non-null  int64 \n",
      " 6   downloadSetting  10043 non-null  int64 \n",
      " 7   duetSetting      10043 non-null  int64 \n",
      " 8   nickname         10043 non-null  object\n",
      " 9   openFavorite     10043 non-null  bool  \n",
      " 10  signature        10043 non-null  object\n",
      " 11  stitchSetting    10043 non-null  int64 \n",
      " 12  uniqueId         10043 non-null  object\n",
      " 13  verified         10043 non-null  bool  \n",
      " 14  fake             10043 non-null  bool  \n",
      " 15  fakeNum          10043 non-null  int64 \n",
      "dtypes: bool(3), int64(10), object(3)\n",
      "memory usage: 1.0+ MB\n"
     ]
    }
   ],
   "source": [
    "df_copy.info()"
   ],
   "metadata": {
    "colab": {
     "base_uri": "https://localhost:8080/"
    },
    "id": "V3dkEgoIMQUD",
    "executionInfo": {
     "status": "ok",
     "timestamp": 1719940452311,
     "user_tz": -120,
     "elapsed": 5,
     "user": {
      "displayName": "Annalaura Miglino",
      "userId": "03808724092990969006"
     }
    },
    "outputId": "7f6e3a53-5f4d-4708-c2ea-e60ff41784cf"
   }
  },
  {
   "cell_type": "markdown",
   "source": [
    "> Conta ed elimina le istanze con signature non in inglese."
   ],
   "metadata": {
    "collapsed": false,
    "id": "9PBie_v1MQUE"
   }
  },
  {
   "cell_type": "code",
   "execution_count": 17,
   "outputs": [
    {
     "output_type": "stream",
     "name": "stdout",
     "text": [
      "1331\n"
     ]
    }
   ],
   "source": [
    "indices_to_remove = []\n",
    "\n",
    "for i, signature in enumerate(df_copy['signature']):\n",
    "  if signature == '':\n",
    "    continue\n",
    "  try:\n",
    "    language = detect(signature)\n",
    "  except Exception as e:\n",
    "    continue\n",
    "  if language != 'en':\n",
    "    indices_to_remove.append(i)\n",
    "\n",
    "count = len(indices_to_remove)\n",
    "df_copy = df_copy.drop(index=indices_to_remove).reset_index(drop=True)\n",
    "print(count)"
   ],
   "metadata": {
    "colab": {
     "base_uri": "https://localhost:8080/"
    },
    "id": "P5IQu30cMQUF",
    "executionInfo": {
     "status": "ok",
     "timestamp": 1719940477359,
     "user_tz": -120,
     "elapsed": 25052,
     "user": {
      "displayName": "Annalaura Miglino",
      "userId": "03808724092990969006"
     }
    },
    "outputId": "1b75bef9-2457-4e6f-ac95-042b22b7c2f4"
   }
  },
  {
   "cell_type": "code",
   "execution_count": 18,
   "outputs": [
    {
     "output_type": "stream",
     "name": "stdout",
     "text": [
      "<class 'pandas.core.frame.DataFrame'>\n",
      "RangeIndex: 8712 entries, 0 to 8711\n",
      "Data columns (total 16 columns):\n",
      " #   Column           Non-Null Count  Dtype \n",
      "---  ------           --------------  ----- \n",
      " 0   diggCount        8712 non-null   int64 \n",
      " 1   followerCount    8712 non-null   int64 \n",
      " 2   followingCount   8712 non-null   int64 \n",
      " 3   heartCount       8712 non-null   int64 \n",
      " 4   videoCount       8712 non-null   int64 \n",
      " 5   commentSetting   8712 non-null   int64 \n",
      " 6   downloadSetting  8712 non-null   int64 \n",
      " 7   duetSetting      8712 non-null   int64 \n",
      " 8   nickname         8712 non-null   object\n",
      " 9   openFavorite     8712 non-null   bool  \n",
      " 10  signature        8712 non-null   object\n",
      " 11  stitchSetting    8712 non-null   int64 \n",
      " 12  uniqueId         8712 non-null   object\n",
      " 13  verified         8712 non-null   bool  \n",
      " 14  fake             8712 non-null   bool  \n",
      " 15  fakeNum          8712 non-null   int64 \n",
      "dtypes: bool(3), int64(10), object(3)\n",
      "memory usage: 910.5+ KB\n"
     ]
    }
   ],
   "source": [
    "df_copy.info()"
   ],
   "metadata": {
    "colab": {
     "base_uri": "https://localhost:8080/"
    },
    "id": "H6s3zaSHMQUF",
    "executionInfo": {
     "status": "ok",
     "timestamp": 1719940477359,
     "user_tz": -120,
     "elapsed": 20,
     "user": {
      "displayName": "Annalaura Miglino",
      "userId": "03808724092990969006"
     }
    },
    "outputId": "23b94375-3e8d-4c19-82d5-30c3ed2bb76d"
   }
  },
  {
   "cell_type": "code",
   "execution_count": 19,
   "outputs": [
    {
     "output_type": "execute_result",
     "data": {
      "text/plain": [
       "   diggCount  followerCount  followingCount  heartCount  videoCount  \\\n",
       "0        279              0             564           0           0   \n",
       "1       1198             71            9980           0           0   \n",
       "2       2968            596            1123        2062         266   \n",
       "3       2351            200             818         435          36   \n",
       "4        334              0             604           0           0   \n",
       "\n",
       "   commentSetting  downloadSetting  duetSetting     nickname  openFavorite  \\\n",
       "0               0                0            0    Tik Toker         False   \n",
       "1               0                0            0       BEULAH          True   \n",
       "2               0                0            0      Lello27         False   \n",
       "3               0                0            0  clemevitale         False   \n",
       "4               0                0            0    Tik Toker         False   \n",
       "\n",
       "  signature  stitchSetting                uniqueId  verified   fake  fakeNum  \n",
       "0                        0           gyzituvigy542     False   True        1  \n",
       "1                        0   tshphjtowl2401583tbww     False   True        1  \n",
       "2                        0  aristanismamojadanuoro     False  False        0  \n",
       "3                        0             clemevitale     False  False        0  \n",
       "4                        0          exidyvetoqygyv     False   True        1  "
      ],
      "text/html": [
       "\n",
       "  <div id=\"df-40b5fbeb-354b-427e-abac-49e28b21a314\" class=\"colab-df-container\">\n",
       "    <div>\n",
       "<style scoped>\n",
       "    .dataframe tbody tr th:only-of-type {\n",
       "        vertical-align: middle;\n",
       "    }\n",
       "\n",
       "    .dataframe tbody tr th {\n",
       "        vertical-align: top;\n",
       "    }\n",
       "\n",
       "    .dataframe thead th {\n",
       "        text-align: right;\n",
       "    }\n",
       "</style>\n",
       "<table border=\"1\" class=\"dataframe\">\n",
       "  <thead>\n",
       "    <tr style=\"text-align: right;\">\n",
       "      <th></th>\n",
       "      <th>diggCount</th>\n",
       "      <th>followerCount</th>\n",
       "      <th>followingCount</th>\n",
       "      <th>heartCount</th>\n",
       "      <th>videoCount</th>\n",
       "      <th>commentSetting</th>\n",
       "      <th>downloadSetting</th>\n",
       "      <th>duetSetting</th>\n",
       "      <th>nickname</th>\n",
       "      <th>openFavorite</th>\n",
       "      <th>signature</th>\n",
       "      <th>stitchSetting</th>\n",
       "      <th>uniqueId</th>\n",
       "      <th>verified</th>\n",
       "      <th>fake</th>\n",
       "      <th>fakeNum</th>\n",
       "    </tr>\n",
       "  </thead>\n",
       "  <tbody>\n",
       "    <tr>\n",
       "      <th>0</th>\n",
       "      <td>279</td>\n",
       "      <td>0</td>\n",
       "      <td>564</td>\n",
       "      <td>0</td>\n",
       "      <td>0</td>\n",
       "      <td>0</td>\n",
       "      <td>0</td>\n",
       "      <td>0</td>\n",
       "      <td>Tik Toker</td>\n",
       "      <td>False</td>\n",
       "      <td></td>\n",
       "      <td>0</td>\n",
       "      <td>gyzituvigy542</td>\n",
       "      <td>False</td>\n",
       "      <td>True</td>\n",
       "      <td>1</td>\n",
       "    </tr>\n",
       "    <tr>\n",
       "      <th>1</th>\n",
       "      <td>1198</td>\n",
       "      <td>71</td>\n",
       "      <td>9980</td>\n",
       "      <td>0</td>\n",
       "      <td>0</td>\n",
       "      <td>0</td>\n",
       "      <td>0</td>\n",
       "      <td>0</td>\n",
       "      <td>BEULAH</td>\n",
       "      <td>True</td>\n",
       "      <td></td>\n",
       "      <td>0</td>\n",
       "      <td>tshphjtowl2401583tbww</td>\n",
       "      <td>False</td>\n",
       "      <td>True</td>\n",
       "      <td>1</td>\n",
       "    </tr>\n",
       "    <tr>\n",
       "      <th>2</th>\n",
       "      <td>2968</td>\n",
       "      <td>596</td>\n",
       "      <td>1123</td>\n",
       "      <td>2062</td>\n",
       "      <td>266</td>\n",
       "      <td>0</td>\n",
       "      <td>0</td>\n",
       "      <td>0</td>\n",
       "      <td>Lello27</td>\n",
       "      <td>False</td>\n",
       "      <td></td>\n",
       "      <td>0</td>\n",
       "      <td>aristanismamojadanuoro</td>\n",
       "      <td>False</td>\n",
       "      <td>False</td>\n",
       "      <td>0</td>\n",
       "    </tr>\n",
       "    <tr>\n",
       "      <th>3</th>\n",
       "      <td>2351</td>\n",
       "      <td>200</td>\n",
       "      <td>818</td>\n",
       "      <td>435</td>\n",
       "      <td>36</td>\n",
       "      <td>0</td>\n",
       "      <td>0</td>\n",
       "      <td>0</td>\n",
       "      <td>clemevitale</td>\n",
       "      <td>False</td>\n",
       "      <td></td>\n",
       "      <td>0</td>\n",
       "      <td>clemevitale</td>\n",
       "      <td>False</td>\n",
       "      <td>False</td>\n",
       "      <td>0</td>\n",
       "    </tr>\n",
       "    <tr>\n",
       "      <th>4</th>\n",
       "      <td>334</td>\n",
       "      <td>0</td>\n",
       "      <td>604</td>\n",
       "      <td>0</td>\n",
       "      <td>0</td>\n",
       "      <td>0</td>\n",
       "      <td>0</td>\n",
       "      <td>0</td>\n",
       "      <td>Tik Toker</td>\n",
       "      <td>False</td>\n",
       "      <td></td>\n",
       "      <td>0</td>\n",
       "      <td>exidyvetoqygyv</td>\n",
       "      <td>False</td>\n",
       "      <td>True</td>\n",
       "      <td>1</td>\n",
       "    </tr>\n",
       "  </tbody>\n",
       "</table>\n",
       "</div>\n",
       "    <div class=\"colab-df-buttons\">\n",
       "\n",
       "  <div class=\"colab-df-container\">\n",
       "    <button class=\"colab-df-convert\" onclick=\"convertToInteractive('df-40b5fbeb-354b-427e-abac-49e28b21a314')\"\n",
       "            title=\"Convert this dataframe to an interactive table.\"\n",
       "            style=\"display:none;\">\n",
       "\n",
       "  <svg xmlns=\"http://www.w3.org/2000/svg\" height=\"24px\" viewBox=\"0 -960 960 960\">\n",
       "    <path d=\"M120-120v-720h720v720H120Zm60-500h600v-160H180v160Zm220 220h160v-160H400v160Zm0 220h160v-160H400v160ZM180-400h160v-160H180v160Zm440 0h160v-160H620v160ZM180-180h160v-160H180v160Zm440 0h160v-160H620v160Z\"/>\n",
       "  </svg>\n",
       "    </button>\n",
       "\n",
       "  <style>\n",
       "    .colab-df-container {\n",
       "      display:flex;\n",
       "      gap: 12px;\n",
       "    }\n",
       "\n",
       "    .colab-df-convert {\n",
       "      background-color: #E8F0FE;\n",
       "      border: none;\n",
       "      border-radius: 50%;\n",
       "      cursor: pointer;\n",
       "      display: none;\n",
       "      fill: #1967D2;\n",
       "      height: 32px;\n",
       "      padding: 0 0 0 0;\n",
       "      width: 32px;\n",
       "    }\n",
       "\n",
       "    .colab-df-convert:hover {\n",
       "      background-color: #E2EBFA;\n",
       "      box-shadow: 0px 1px 2px rgba(60, 64, 67, 0.3), 0px 1px 3px 1px rgba(60, 64, 67, 0.15);\n",
       "      fill: #174EA6;\n",
       "    }\n",
       "\n",
       "    .colab-df-buttons div {\n",
       "      margin-bottom: 4px;\n",
       "    }\n",
       "\n",
       "    [theme=dark] .colab-df-convert {\n",
       "      background-color: #3B4455;\n",
       "      fill: #D2E3FC;\n",
       "    }\n",
       "\n",
       "    [theme=dark] .colab-df-convert:hover {\n",
       "      background-color: #434B5C;\n",
       "      box-shadow: 0px 1px 3px 1px rgba(0, 0, 0, 0.15);\n",
       "      filter: drop-shadow(0px 1px 2px rgba(0, 0, 0, 0.3));\n",
       "      fill: #FFFFFF;\n",
       "    }\n",
       "  </style>\n",
       "\n",
       "    <script>\n",
       "      const buttonEl =\n",
       "        document.querySelector('#df-40b5fbeb-354b-427e-abac-49e28b21a314 button.colab-df-convert');\n",
       "      buttonEl.style.display =\n",
       "        google.colab.kernel.accessAllowed ? 'block' : 'none';\n",
       "\n",
       "      async function convertToInteractive(key) {\n",
       "        const element = document.querySelector('#df-40b5fbeb-354b-427e-abac-49e28b21a314');\n",
       "        const dataTable =\n",
       "          await google.colab.kernel.invokeFunction('convertToInteractive',\n",
       "                                                    [key], {});\n",
       "        if (!dataTable) return;\n",
       "\n",
       "        const docLinkHtml = 'Like what you see? Visit the ' +\n",
       "          '<a target=\"_blank\" href=https://colab.research.google.com/notebooks/data_table.ipynb>data table notebook</a>'\n",
       "          + ' to learn more about interactive tables.';\n",
       "        element.innerHTML = '';\n",
       "        dataTable['output_type'] = 'display_data';\n",
       "        await google.colab.output.renderOutput(dataTable, element);\n",
       "        const docLink = document.createElement('div');\n",
       "        docLink.innerHTML = docLinkHtml;\n",
       "        element.appendChild(docLink);\n",
       "      }\n",
       "    </script>\n",
       "  </div>\n",
       "\n",
       "\n",
       "<div id=\"df-f8e13b5b-838c-4a13-a454-9a84309b09b4\">\n",
       "  <button class=\"colab-df-quickchart\" onclick=\"quickchart('df-f8e13b5b-838c-4a13-a454-9a84309b09b4')\"\n",
       "            title=\"Suggest charts\"\n",
       "            style=\"display:none;\">\n",
       "\n",
       "<svg xmlns=\"http://www.w3.org/2000/svg\" height=\"24px\"viewBox=\"0 0 24 24\"\n",
       "     width=\"24px\">\n",
       "    <g>\n",
       "        <path d=\"M19 3H5c-1.1 0-2 .9-2 2v14c0 1.1.9 2 2 2h14c1.1 0 2-.9 2-2V5c0-1.1-.9-2-2-2zM9 17H7v-7h2v7zm4 0h-2V7h2v10zm4 0h-2v-4h2v4z\"/>\n",
       "    </g>\n",
       "</svg>\n",
       "  </button>\n",
       "\n",
       "<style>\n",
       "  .colab-df-quickchart {\n",
       "      --bg-color: #E8F0FE;\n",
       "      --fill-color: #1967D2;\n",
       "      --hover-bg-color: #E2EBFA;\n",
       "      --hover-fill-color: #174EA6;\n",
       "      --disabled-fill-color: #AAA;\n",
       "      --disabled-bg-color: #DDD;\n",
       "  }\n",
       "\n",
       "  [theme=dark] .colab-df-quickchart {\n",
       "      --bg-color: #3B4455;\n",
       "      --fill-color: #D2E3FC;\n",
       "      --hover-bg-color: #434B5C;\n",
       "      --hover-fill-color: #FFFFFF;\n",
       "      --disabled-bg-color: #3B4455;\n",
       "      --disabled-fill-color: #666;\n",
       "  }\n",
       "\n",
       "  .colab-df-quickchart {\n",
       "    background-color: var(--bg-color);\n",
       "    border: none;\n",
       "    border-radius: 50%;\n",
       "    cursor: pointer;\n",
       "    display: none;\n",
       "    fill: var(--fill-color);\n",
       "    height: 32px;\n",
       "    padding: 0;\n",
       "    width: 32px;\n",
       "  }\n",
       "\n",
       "  .colab-df-quickchart:hover {\n",
       "    background-color: var(--hover-bg-color);\n",
       "    box-shadow: 0 1px 2px rgba(60, 64, 67, 0.3), 0 1px 3px 1px rgba(60, 64, 67, 0.15);\n",
       "    fill: var(--button-hover-fill-color);\n",
       "  }\n",
       "\n",
       "  .colab-df-quickchart-complete:disabled,\n",
       "  .colab-df-quickchart-complete:disabled:hover {\n",
       "    background-color: var(--disabled-bg-color);\n",
       "    fill: var(--disabled-fill-color);\n",
       "    box-shadow: none;\n",
       "  }\n",
       "\n",
       "  .colab-df-spinner {\n",
       "    border: 2px solid var(--fill-color);\n",
       "    border-color: transparent;\n",
       "    border-bottom-color: var(--fill-color);\n",
       "    animation:\n",
       "      spin 1s steps(1) infinite;\n",
       "  }\n",
       "\n",
       "  @keyframes spin {\n",
       "    0% {\n",
       "      border-color: transparent;\n",
       "      border-bottom-color: var(--fill-color);\n",
       "      border-left-color: var(--fill-color);\n",
       "    }\n",
       "    20% {\n",
       "      border-color: transparent;\n",
       "      border-left-color: var(--fill-color);\n",
       "      border-top-color: var(--fill-color);\n",
       "    }\n",
       "    30% {\n",
       "      border-color: transparent;\n",
       "      border-left-color: var(--fill-color);\n",
       "      border-top-color: var(--fill-color);\n",
       "      border-right-color: var(--fill-color);\n",
       "    }\n",
       "    40% {\n",
       "      border-color: transparent;\n",
       "      border-right-color: var(--fill-color);\n",
       "      border-top-color: var(--fill-color);\n",
       "    }\n",
       "    60% {\n",
       "      border-color: transparent;\n",
       "      border-right-color: var(--fill-color);\n",
       "    }\n",
       "    80% {\n",
       "      border-color: transparent;\n",
       "      border-right-color: var(--fill-color);\n",
       "      border-bottom-color: var(--fill-color);\n",
       "    }\n",
       "    90% {\n",
       "      border-color: transparent;\n",
       "      border-bottom-color: var(--fill-color);\n",
       "    }\n",
       "  }\n",
       "</style>\n",
       "\n",
       "  <script>\n",
       "    async function quickchart(key) {\n",
       "      const quickchartButtonEl =\n",
       "        document.querySelector('#' + key + ' button');\n",
       "      quickchartButtonEl.disabled = true;  // To prevent multiple clicks.\n",
       "      quickchartButtonEl.classList.add('colab-df-spinner');\n",
       "      try {\n",
       "        const charts = await google.colab.kernel.invokeFunction(\n",
       "            'suggestCharts', [key], {});\n",
       "      } catch (error) {\n",
       "        console.error('Error during call to suggestCharts:', error);\n",
       "      }\n",
       "      quickchartButtonEl.classList.remove('colab-df-spinner');\n",
       "      quickchartButtonEl.classList.add('colab-df-quickchart-complete');\n",
       "    }\n",
       "    (() => {\n",
       "      let quickchartButtonEl =\n",
       "        document.querySelector('#df-f8e13b5b-838c-4a13-a454-9a84309b09b4 button');\n",
       "      quickchartButtonEl.style.display =\n",
       "        google.colab.kernel.accessAllowed ? 'block' : 'none';\n",
       "    })();\n",
       "  </script>\n",
       "</div>\n",
       "\n",
       "    </div>\n",
       "  </div>\n"
      ],
      "application/vnd.google.colaboratory.intrinsic+json": {
       "type": "dataframe",
       "variable_name": "df_copy",
       "summary": "{\n  \"name\": \"df_copy\",\n  \"rows\": 8712,\n  \"fields\": [\n    {\n      \"column\": \"diggCount\",\n      \"properties\": {\n        \"dtype\": \"number\",\n        \"std\": 14204,\n        \"min\": 0,\n        \"max\": 386100,\n        \"num_unique_values\": 2154,\n        \"samples\": [\n          217,\n          2800,\n          1668\n        ],\n        \"semantic_type\": \"\",\n        \"description\": \"\"\n      }\n    },\n    {\n      \"column\": \"followerCount\",\n      \"properties\": {\n        \"dtype\": \"number\",\n        \"std\": 2024428,\n        \"min\": 0,\n        \"max\": 82300000,\n        \"num_unique_values\": 1587,\n        \"samples\": [\n          397,\n          730,\n          498\n        ],\n        \"semantic_type\": \"\",\n        \"description\": \"\"\n      }\n    },\n    {\n      \"column\": \"followingCount\",\n      \"properties\": {\n        \"dtype\": \"number\",\n        \"std\": 2296,\n        \"min\": 0,\n        \"max\": 10000,\n        \"num_unique_values\": 1611,\n        \"samples\": [\n          548,\n          220,\n          607\n        ],\n        \"semantic_type\": \"\",\n        \"description\": \"\"\n      }\n    },\n    {\n      \"column\": \"heartCount\",\n      \"properties\": {\n        \"dtype\": \"number\",\n        \"std\": 32296147,\n        \"min\": 0,\n        \"max\": 1100000000,\n        \"num_unique_values\": 1930,\n        \"samples\": [\n          856,\n          355800,\n          258600\n        ],\n        \"semantic_type\": \"\",\n        \"description\": \"\"\n      }\n    },\n    {\n      \"column\": \"videoCount\",\n      \"properties\": {\n        \"dtype\": \"number\",\n        \"std\": 206,\n        \"min\": 0,\n        \"max\": 5799,\n        \"num_unique_values\": 497,\n        \"samples\": [\n          292,\n          221,\n          105\n        ],\n        \"semantic_type\": \"\",\n        \"description\": \"\"\n      }\n    },\n    {\n      \"column\": \"commentSetting\",\n      \"properties\": {\n        \"dtype\": \"number\",\n        \"std\": 0,\n        \"min\": 0,\n        \"max\": 3,\n        \"num_unique_values\": 3,\n        \"samples\": [\n          0,\n          1,\n          3\n        ],\n        \"semantic_type\": \"\",\n        \"description\": \"\"\n      }\n    },\n    {\n      \"column\": \"downloadSetting\",\n      \"properties\": {\n        \"dtype\": \"number\",\n        \"std\": 0,\n        \"min\": 0,\n        \"max\": 3,\n        \"num_unique_values\": 2,\n        \"samples\": [\n          3,\n          0\n        ],\n        \"semantic_type\": \"\",\n        \"description\": \"\"\n      }\n    },\n    {\n      \"column\": \"duetSetting\",\n      \"properties\": {\n        \"dtype\": \"number\",\n        \"std\": 0,\n        \"min\": 0,\n        \"max\": 3,\n        \"num_unique_values\": 3,\n        \"samples\": [\n          0,\n          1\n        ],\n        \"semantic_type\": \"\",\n        \"description\": \"\"\n      }\n    },\n    {\n      \"column\": \"nickname\",\n      \"properties\": {\n        \"dtype\": \"string\",\n        \"num_unique_values\": 4527,\n        \"samples\": [\n          \"enzo\",\n          \"Angela Tufano\"\n        ],\n        \"semantic_type\": \"\",\n        \"description\": \"\"\n      }\n    },\n    {\n      \"column\": \"openFavorite\",\n      \"properties\": {\n        \"dtype\": \"boolean\",\n        \"num_unique_values\": 2,\n        \"samples\": [\n          true,\n          false\n        ],\n        \"semantic_type\": \"\",\n        \"description\": \"\"\n      }\n    },\n    {\n      \"column\": \"signature\",\n      \"properties\": {\n        \"dtype\": \"category\",\n        \"num_unique_values\": 988,\n        \"samples\": [\n          \"15//\\ud83c\\uddf5\\ud83c\\uddf8\",\n          \"TANTE NOVIT\\u00c0 SUL MONDO DEL CALCIO\"\n        ],\n        \"semantic_type\": \"\",\n        \"description\": \"\"\n      }\n    },\n    {\n      \"column\": \"stitchSetting\",\n      \"properties\": {\n        \"dtype\": \"number\",\n        \"std\": 0,\n        \"min\": 0,\n        \"max\": 3,\n        \"num_unique_values\": 3,\n        \"samples\": [\n          0,\n          1\n        ],\n        \"semantic_type\": \"\",\n        \"description\": \"\"\n      }\n    },\n    {\n      \"column\": \"uniqueId\",\n      \"properties\": {\n        \"dtype\": \"string\",\n        \"num_unique_values\": 8711,\n        \"samples\": [\n          \"xasxavomutha\",\n          \"ovizosujyqo610\"\n        ],\n        \"semantic_type\": \"\",\n        \"description\": \"\"\n      }\n    },\n    {\n      \"column\": \"verified\",\n      \"properties\": {\n        \"dtype\": \"boolean\",\n        \"num_unique_values\": 2,\n        \"samples\": [\n          true,\n          false\n        ],\n        \"semantic_type\": \"\",\n        \"description\": \"\"\n      }\n    },\n    {\n      \"column\": \"fake\",\n      \"properties\": {\n        \"dtype\": \"boolean\",\n        \"num_unique_values\": 2,\n        \"samples\": [\n          false,\n          true\n        ],\n        \"semantic_type\": \"\",\n        \"description\": \"\"\n      }\n    },\n    {\n      \"column\": \"fakeNum\",\n      \"properties\": {\n        \"dtype\": \"number\",\n        \"std\": 0,\n        \"min\": 0,\n        \"max\": 1,\n        \"num_unique_values\": 2,\n        \"samples\": [\n          0,\n          1\n        ],\n        \"semantic_type\": \"\",\n        \"description\": \"\"\n      }\n    }\n  ]\n}"
      }
     },
     "metadata": {},
     "execution_count": 19
    }
   ],
   "source": [
    "df_copy.head()"
   ],
   "metadata": {
    "colab": {
     "base_uri": "https://localhost:8080/",
     "height": 226
    },
    "id": "rL9S3WwiMQUG",
    "executionInfo": {
     "status": "ok",
     "timestamp": 1719940477955,
     "user_tz": -120,
     "elapsed": 613,
     "user": {
      "displayName": "Annalaura Miglino",
      "userId": "03808724092990969006"
     }
    },
    "outputId": "8f65e0dd-a74e-44e7-c479-2b071dd87018"
   }
  },
  {
   "cell_type": "markdown",
   "source": [
    "### 3.2 Pulizia *diggCount*"
   ],
   "metadata": {
    "collapsed": false,
    "id": "RaEocd0sMQUH"
   }
  },
  {
   "cell_type": "code",
   "execution_count": 20,
   "outputs": [
    {
     "output_type": "display_data",
     "data": {
      "text/plain": [
       "<Figure size 1000x500 with 1 Axes>"
      ],
      "image/png": "[encoded data removed]"
     },
     "metadata": {}
    }
   ],
   "source": [
    "# Visualizziamo l'istogramma del singolo attributo\n",
    "df_copy['diggCount'].hist(bins=16, figsize=(10,5))\n",
    "plt.xlabel('diggCount')\n",
    "plt.ylabel('Frequency')\n",
    "plt.title('Distribution of Digg Count')\n",
    "plt.show()"
   ],
   "metadata": {
    "colab": {
     "base_uri": "https://localhost:8080/",
     "height": 477
    },
    "id": "k92ltVQEMQUH",
    "executionInfo": {
     "status": "ok",
     "timestamp": 1719940477955,
     "user_tz": -120,
     "elapsed": 11,
     "user": {
      "displayName": "Annalaura Miglino",
      "userId": "03808724092990969006"
     }
    },
    "outputId": "212fa553-e4cb-4361-a9a0-337bedc64619"
   }
  },
  {
   "cell_type": "code",
   "execution_count": 21,
   "outputs": [
    {
     "output_type": "execute_result",
     "data": {
      "text/plain": [
       "count      8712.000000\n",
       "mean       2941.536731\n",
       "std       14204.962815\n",
       "min           0.000000\n",
       "25%         214.000000\n",
       "50%         350.000000\n",
       "75%         517.000000\n",
       "max      386100.000000\n",
       "Name: diggCount, dtype: float64"
      ]
     },
     "metadata": {},
     "execution_count": 21
    }
   ],
   "source": [
    "df_copy['diggCount'].describe()"
   ],
   "metadata": {
    "colab": {
     "base_uri": "https://localhost:8080/"
    },
    "id": "clQC-_trMQUI",
    "executionInfo": {
     "status": "ok",
     "timestamp": 1719940477955,
     "user_tz": -120,
     "elapsed": 9,
     "user": {
      "displayName": "Annalaura Miglino",
      "userId": "03808724092990969006"
     }
    },
    "outputId": "a6e6e466-e9dc-4427-ac99-dc783aaa2015"
   }
  },
  {
   "cell_type": "markdown",
   "source": [
    "#### Standardizzazione con StandardScaler"
   ],
   "metadata": {
    "collapsed": false,
    "id": "APsTkISFMQUL"
   }
  },
  {
   "cell_type": "code",
   "execution_count": 22,
   "outputs": [
    {
     "output_type": "execute_result",
     "data": {
      "text/plain": [
       "   diggCount  followerCount  followingCount  heartCount  videoCount\n",
       "0  -0.187448      -0.086948       -0.242942   -0.089025   -0.200941\n",
       "1  -0.122748      -0.086913        3.857014   -0.089025   -0.200941\n",
       "2   0.001863      -0.086654        0.000461   -0.088961    1.085558\n",
       "3  -0.041575      -0.086849       -0.132344   -0.089011   -0.026828\n",
       "4  -0.183576      -0.086948       -0.225525   -0.089025   -0.200941"
      ],
      "text/html": [
       "\n",
       "  <div id=\"df-3bb0a055-6d70-431a-ba75-0211359e1735\" class=\"colab-df-container\">\n",
       "    <div>\n",
       "<style scoped>\n",
       "    .dataframe tbody tr th:only-of-type {\n",
       "        vertical-align: middle;\n",
       "    }\n",
       "\n",
       "    .dataframe tbody tr th {\n",
       "        vertical-align: top;\n",
       "    }\n",
       "\n",
       "    .dataframe thead th {\n",
       "        text-align: right;\n",
       "    }\n",
       "</style>\n",
       "<table border=\"1\" class=\"dataframe\">\n",
       "  <thead>\n",
       "    <tr style=\"text-align: right;\">\n",
       "      <th></th>\n",
       "      <th>diggCount</th>\n",
       "      <th>followerCount</th>\n",
       "      <th>followingCount</th>\n",
       "      <th>heartCount</th>\n",
       "      <th>videoCount</th>\n",
       "    </tr>\n",
       "  </thead>\n",
       "  <tbody>\n",
       "    <tr>\n",
       "      <th>0</th>\n",
       "      <td>-0.187448</td>\n",
       "      <td>-0.086948</td>\n",
       "      <td>-0.242942</td>\n",
       "      <td>-0.089025</td>\n",
       "      <td>-0.200941</td>\n",
       "    </tr>\n",
       "    <tr>\n",
       "      <th>1</th>\n",
       "      <td>-0.122748</td>\n",
       "      <td>-0.086913</td>\n",
       "      <td>3.857014</td>\n",
       "      <td>-0.089025</td>\n",
       "      <td>-0.200941</td>\n",
       "    </tr>\n",
       "    <tr>\n",
       "      <th>2</th>\n",
       "      <td>0.001863</td>\n",
       "      <td>-0.086654</td>\n",
       "      <td>0.000461</td>\n",
       "      <td>-0.088961</td>\n",
       "      <td>1.085558</td>\n",
       "    </tr>\n",
       "    <tr>\n",
       "      <th>3</th>\n",
       "      <td>-0.041575</td>\n",
       "      <td>-0.086849</td>\n",
       "      <td>-0.132344</td>\n",
       "      <td>-0.089011</td>\n",
       "      <td>-0.026828</td>\n",
       "    </tr>\n",
       "    <tr>\n",
       "      <th>4</th>\n",
       "      <td>-0.183576</td>\n",
       "      <td>-0.086948</td>\n",
       "      <td>-0.225525</td>\n",
       "      <td>-0.089025</td>\n",
       "      <td>-0.200941</td>\n",
       "    </tr>\n",
       "  </tbody>\n",
       "</table>\n",
       "</div>\n",
       "    <div class=\"colab-df-buttons\">\n",
       "\n",
       "  <div class=\"colab-df-container\">\n",
       "    <button class=\"colab-df-convert\" onclick=\"convertToInteractive('df-3bb0a055-6d70-431a-ba75-0211359e1735')\"\n",
       "            title=\"Convert this dataframe to an interactive table.\"\n",
       "            style=\"display:none;\">\n",
       "\n",
       "  <svg xmlns=\"http://www.w3.org/2000/svg\" height=\"24px\" viewBox=\"0 -960 960 960\">\n",
       "    <path d=\"M120-120v-720h720v720H120Zm60-500h600v-160H180v160Zm220 220h160v-160H400v160Zm0 220h160v-160H400v160ZM180-400h160v-160H180v160Zm440 0h160v-160H620v160ZM180-180h160v-160H180v160Zm440 0h160v-160H620v160Z\"/>\n",
       "  </svg>\n",
       "    </button>\n",
       "\n",
       "  <style>\n",
       "    .colab-df-container {\n",
       "      display:flex;\n",
       "      gap: 12px;\n",
       "    }\n",
       "\n",
       "    .colab-df-convert {\n",
       "      background-color: #E8F0FE;\n",
       "      border: none;\n",
       "      border-radius: 50%;\n",
       "      cursor: pointer;\n",
       "      display: none;\n",
       "      fill: #1967D2;\n",
       "      height: 32px;\n",
       "      padding: 0 0 0 0;\n",
       "      width: 32px;\n",
       "    }\n",
       "\n",
       "    .colab-df-convert:hover {\n",
       "      background-color: #E2EBFA;\n",
       "      box-shadow: 0px 1px 2px rgba(60, 64, 67, 0.3), 0px 1px 3px 1px rgba(60, 64, 67, 0.15);\n",
       "      fill: #174EA6;\n",
       "    }\n",
       "\n",
       "    .colab-df-buttons div {\n",
       "      margin-bottom: 4px;\n",
       "    }\n",
       "\n",
       "    [theme=dark] .colab-df-convert {\n",
       "      background-color: #3B4455;\n",
       "      fill: #D2E3FC;\n",
       "    }\n",
       "\n",
       "    [theme=dark] .colab-df-convert:hover {\n",
       "      background-color: #434B5C;\n",
       "      box-shadow: 0px 1px 3px 1px rgba(0, 0, 0, 0.15);\n",
       "      filter: drop-shadow(0px 1px 2px rgba(0, 0, 0, 0.3));\n",
       "      fill: #FFFFFF;\n",
       "    }\n",
       "  </style>\n",
       "\n",
       "    <script>\n",
       "      const buttonEl =\n",
       "        document.querySelector('#df-3bb0a055-6d70-431a-ba75-0211359e1735 button.colab-df-convert');\n",
       "      buttonEl.style.display =\n",
       "        google.colab.kernel.accessAllowed ? 'block' : 'none';\n",
       "\n",
       "      async function convertToInteractive(key) {\n",
       "        const element = document.querySelector('#df-3bb0a055-6d70-431a-ba75-0211359e1735');\n",
       "        const dataTable =\n",
       "          await google.colab.kernel.invokeFunction('convertToInteractive',\n",
       "                                                    [key], {});\n",
       "        if (!dataTable) return;\n",
       "\n",
       "        const docLinkHtml = 'Like what you see? Visit the ' +\n",
       "          '<a target=\"_blank\" href=https://colab.research.google.com/notebooks/data_table.ipynb>data table notebook</a>'\n",
       "          + ' to learn more about interactive tables.';\n",
       "        element.innerHTML = '';\n",
       "        dataTable['output_type'] = 'display_data';\n",
       "        await google.colab.output.renderOutput(dataTable, element);\n",
       "        const docLink = document.createElement('div');\n",
       "        docLink.innerHTML = docLinkHtml;\n",
       "        element.appendChild(docLink);\n",
       "      }\n",
       "    </script>\n",
       "  </div>\n",
       "\n",
       "\n",
       "<div id=\"df-dfe1b998-8051-4ff1-9b02-cce967ca8379\">\n",
       "  <button class=\"colab-df-quickchart\" onclick=\"quickchart('df-dfe1b998-8051-4ff1-9b02-cce967ca8379')\"\n",
       "            title=\"Suggest charts\"\n",
       "            style=\"display:none;\">\n",
       "\n",
       "<svg xmlns=\"http://www.w3.org/2000/svg\" height=\"24px\"viewBox=\"0 0 24 24\"\n",
       "     width=\"24px\">\n",
       "    <g>\n",
       "        <path d=\"M19 3H5c-1.1 0-2 .9-2 2v14c0 1.1.9 2 2 2h14c1.1 0 2-.9 2-2V5c0-1.1-.9-2-2-2zM9 17H7v-7h2v7zm4 0h-2V7h2v10zm4 0h-2v-4h2v4z\"/>\n",
       "    </g>\n",
       "</svg>\n",
       "  </button>\n",
       "\n",
       "<style>\n",
       "  .colab-df-quickchart {\n",
       "      --bg-color: #E8F0FE;\n",
       "      --fill-color: #1967D2;\n",
       "      --hover-bg-color: #E2EBFA;\n",
       "      --hover-fill-color: #174EA6;\n",
       "      --disabled-fill-color: #AAA;\n",
       "      --disabled-bg-color: #DDD;\n",
       "  }\n",
       "\n",
       "  [theme=dark] .colab-df-quickchart {\n",
       "      --bg-color: #3B4455;\n",
       "      --fill-color: #D2E3FC;\n",
       "      --hover-bg-color: #434B5C;\n",
       "      --hover-fill-color: #FFFFFF;\n",
       "      --disabled-bg-color: #3B4455;\n",
       "      --disabled-fill-color: #666;\n",
       "  }\n",
       "\n",
       "  .colab-df-quickchart {\n",
       "    background-color: var(--bg-color);\n",
       "    border: none;\n",
       "    border-radius: 50%;\n",
       "    cursor: pointer;\n",
       "    display: none;\n",
       "    fill: var(--fill-color);\n",
       "    height: 32px;\n",
       "    padding: 0;\n",
       "    width: 32px;\n",
       "  }\n",
       "\n",
       "  .colab-df-quickchart:hover {\n",
       "    background-color: var(--hover-bg-color);\n",
       "    box-shadow: 0 1px 2px rgba(60, 64, 67, 0.3), 0 1px 3px 1px rgba(60, 64, 67, 0.15);\n",
       "    fill: var(--button-hover-fill-color);\n",
       "  }\n",
       "\n",
       "  .colab-df-quickchart-complete:disabled,\n",
       "  .colab-df-quickchart-complete:disabled:hover {\n",
       "    background-color: var(--disabled-bg-color);\n",
       "    fill: var(--disabled-fill-color);\n",
       "    box-shadow: none;\n",
       "  }\n",
       "\n",
       "  .colab-df-spinner {\n",
       "    border: 2px solid var(--fill-color);\n",
       "    border-color: transparent;\n",
       "    border-bottom-color: var(--fill-color);\n",
       "    animation:\n",
       "      spin 1s steps(1) infinite;\n",
       "  }\n",
       "\n",
       "  @keyframes spin {\n",
       "    0% {\n",
       "      border-color: transparent;\n",
       "      border-bottom-color: var(--fill-color);\n",
       "      border-left-color: var(--fill-color);\n",
       "    }\n",
       "    20% {\n",
       "      border-color: transparent;\n",
       "      border-left-color: var(--fill-color);\n",
       "      border-top-color: var(--fill-color);\n",
       "    }\n",
       "    30% {\n",
       "      border-color: transparent;\n",
       "      border-left-color: var(--fill-color);\n",
       "      border-top-color: var(--fill-color);\n",
       "      border-right-color: var(--fill-color);\n",
       "    }\n",
       "    40% {\n",
       "      border-color: transparent;\n",
       "      border-right-color: var(--fill-color);\n",
       "      border-top-color: var(--fill-color);\n",
       "    }\n",
       "    60% {\n",
       "      border-color: transparent;\n",
       "      border-right-color: var(--fill-color);\n",
       "    }\n",
       "    80% {\n",
       "      border-color: transparent;\n",
       "      border-right-color: var(--fill-color);\n",
       "      border-bottom-color: var(--fill-color);\n",
       "    }\n",
       "    90% {\n",
       "      border-color: transparent;\n",
       "      border-bottom-color: var(--fill-color);\n",
       "    }\n",
       "  }\n",
       "</style>\n",
       "\n",
       "  <script>\n",
       "    async function quickchart(key) {\n",
       "      const quickchartButtonEl =\n",
       "        document.querySelector('#' + key + ' button');\n",
       "      quickchartButtonEl.disabled = true;  // To prevent multiple clicks.\n",
       "      quickchartButtonEl.classList.add('colab-df-spinner');\n",
       "      try {\n",
       "        const charts = await google.colab.kernel.invokeFunction(\n",
       "            'suggestCharts', [key], {});\n",
       "      } catch (error) {\n",
       "        console.error('Error during call to suggestCharts:', error);\n",
       "      }\n",
       "      quickchartButtonEl.classList.remove('colab-df-spinner');\n",
       "      quickchartButtonEl.classList.add('colab-df-quickchart-complete');\n",
       "    }\n",
       "    (() => {\n",
       "      let quickchartButtonEl =\n",
       "        document.querySelector('#df-dfe1b998-8051-4ff1-9b02-cce967ca8379 button');\n",
       "      quickchartButtonEl.style.display =\n",
       "        google.colab.kernel.accessAllowed ? 'block' : 'none';\n",
       "    })();\n",
       "  </script>\n",
       "</div>\n",
       "\n",
       "    </div>\n",
       "  </div>\n"
      ],
      "application/vnd.google.colaboratory.intrinsic+json": {
       "type": "dataframe",
       "variable_name": "df_standardized",
       "summary": "{\n  \"name\": \"df_standardized\",\n  \"rows\": 8712,\n  \"fields\": [\n    {\n      \"column\": \"diggCount\",\n      \"properties\": {\n        \"dtype\": \"number\",\n        \"std\": 1.0000573970440993,\n        \"min\": -0.20708998712270674,\n        \"max\": 26.97511147475316,\n        \"num_unique_values\": 2154,\n        \"samples\": [\n          -0.1918127591578607,\n          -0.009964464995660848,\n          -0.08965949751273797\n        ],\n        \"semantic_type\": \"\",\n        \"description\": \"\"\n      }\n    },\n    {\n      \"column\": \"followerCount\",\n      \"properties\": {\n        \"dtype\": \"number\",\n        \"std\": 1.0000573970440996,\n        \"min\": -0.08694820206951176,\n        \"max\": 40.56883778954864,\n        \"num_unique_values\": 1587,\n        \"samples\": [\n          -0.08675208606661172,\n          -0.08658758574176106,\n          -0.08670219257469006\n        ],\n        \"semantic_type\": \"\",\n        \"description\": \"\"\n      }\n    },\n    {\n      \"column\": \"followingCount\",\n      \"properties\": {\n        \"dtype\": \"number\",\n        \"std\": 1.0000573970440993,\n        \"min\": -0.4885208988354849,\n        \"max\": 3.8657227611884046,\n        \"num_unique_values\": 1611,\n        \"samples\": [\n          -0.24990834626617572,\n          -0.3927275383149593,\n          -0.22421830867203477\n        ],\n        \"semantic_type\": \"\",\n        \"description\": \"\"\n      }\n    },\n    {\n      \"column\": \"heartCount\",\n      \"properties\": {\n        \"dtype\": \"number\",\n        \"std\": 1.0000573970440996,\n        \"min\": -0.08902466133230527,\n        \"max\": 33.97272056635501,\n        \"num_unique_values\": 1930,\n        \"samples\": [\n          -0.08899815510147355,\n          -0.07800723501229515,\n          -0.08101705468150533\n        ],\n        \"semantic_type\": \"\",\n        \"description\": \"\"\n      }\n    },\n    {\n      \"column\": \"videoCount\",\n      \"properties\": {\n        \"dtype\": \"number\",\n        \"std\": 1.0000573970440993,\n        \"min\": -0.20094081539313707,\n        \"max\": 27.845706666097406,\n        \"num_unique_values\": 497,\n        \"samples\": [\n          1.211306307316854,\n          0.8679174521373698,\n          0.3068877732525789\n        ],\n        \"semantic_type\": \"\",\n        \"description\": \"\"\n      }\n    }\n  ]\n}"
      }
     },
     "metadata": {},
     "execution_count": 22
    }
   ],
   "source": [
    "scaler = StandardScaler()\n",
    "data = df_copy[['diggCount', 'followerCount', 'followingCount', 'heartCount', 'videoCount']]\n",
    "data_scaled = scaler.fit_transform(data)\n",
    "df_standardized = pd.DataFrame(data_scaled, columns=data.columns)\n",
    "df_standardized.head()"
   ],
   "metadata": {
    "colab": {
     "base_uri": "https://localhost:8080/",
     "height": 206
    },
    "id": "TIBYddb6MQUL",
    "executionInfo": {
     "status": "ok",
     "timestamp": 1719940477955,
     "user_tz": -120,
     "elapsed": 7,
     "user": {
      "displayName": "Annalaura Miglino",
      "userId": "03808724092990969006"
     }
    },
    "outputId": "3d3e4034-f286-4805-81ad-827da41ed0cf"
   }
  },
  {
   "cell_type": "code",
   "execution_count": 23,
   "outputs": [
    {
     "output_type": "display_data",
     "data": {
      "text/plain": [
       "<Figure size 1000x500 with 1 Axes>"
      ],
      "image/png": "[encoded data removed]"
     },
     "metadata": {}
    }
   ],
   "source": [
    "# Visualizziamo l'istogramma dell'attributo dopo la scalatura\n",
    "df_standardized['diggCount'].hist(bins=16, figsize=(10,5))\n",
    "plt.xlabel('diggCount')\n",
    "plt.ylabel('Frequency')\n",
    "plt.title('Distribution of Standardized Digg Count')\n",
    "plt.show()"
   ],
   "metadata": {
    "colab": {
     "base_uri": "https://localhost:8080/",
     "height": 486
    },
    "id": "-kqN9l34MQUM",
    "executionInfo": {
     "status": "ok",
     "timestamp": 1719940478516,
     "user_tz": -120,
     "elapsed": 17,
     "user": {
      "displayName": "Annalaura Miglino",
      "userId": "03808724092990969006"
     }
    },
    "outputId": "d40d8961-3574-4491-e4af-bdd33a829f50"
   }
  },
  {
   "cell_type": "code",
   "source": [
    "# Verifichiamo come sono cambiati i parametri rispetto a prima\n",
    "df_standardized['diggCount'].describe()"
   ],
   "metadata": {
    "colab": {
     "base_uri": "https://localhost:8080/"
    },
    "id": "41EndiPfSqx0",
    "executionInfo": {
     "status": "ok",
     "timestamp": 1719940478517,
     "user_tz": -120,
     "elapsed": 13,
     "user": {
      "displayName": "Annalaura Miglino",
      "userId": "03808724092990969006"
     }
    },
    "outputId": "af0648bd-21ed-4836-d600-5f086cbc2add"
   },
   "execution_count": 24,
   "outputs": [
    {
     "output_type": "execute_result",
     "data": {
      "text/plain": [
       "count    8.712000e+03\n",
       "mean    -8.359806e-18\n",
       "std      1.000057e+00\n",
       "min     -2.070900e-01\n",
       "25%     -1.920240e-01\n",
       "50%     -1.824493e-01\n",
       "75%     -1.706922e-01\n",
       "max      2.697511e+01\n",
       "Name: diggCount, dtype: float64"
      ]
     },
     "metadata": {},
     "execution_count": 24
    }
   ]
  },
  {
   "cell_type": "markdown",
   "source": [
    "#### Quantile Transformation"
   ],
   "metadata": {
    "collapsed": false,
    "id": "F02Mra7UMQUO"
   }
  },
  {
   "cell_type": "code",
   "execution_count": 25,
   "outputs": [],
   "source": [
    "qt = QuantileTransformer(output_distribution='uniform')\n",
    "df_copy['diggCount_quantile'] = qt.fit_transform(df_copy[['diggCount']])"
   ],
   "metadata": {
    "id": "QlVLpkY7MQUO",
    "executionInfo": {
     "status": "ok",
     "timestamp": 1719940478518,
     "user_tz": -120,
     "elapsed": 13,
     "user": {
      "displayName": "Annalaura Miglino",
      "userId": "03808724092990969006"
     }
    }
   }
  },
  {
   "cell_type": "code",
   "execution_count": 26,
   "outputs": [
    {
     "output_type": "display_data",
     "data": {
      "text/plain": [
       "<Figure size 1000x500 with 1 Axes>"
      ],
      "image/png": "[encoded data removed]"
     },
     "metadata": {}
    }
   ],
   "source": [
    "df_copy['diggCount_quantile'].hist(bins=16, figsize=(10,5))\n",
    "plt.xlabel('diggCount')\n",
    "plt.ylabel('Frequency')\n",
    "plt.title('Distribution of quantile transformed diggCount')\n",
    "plt.show()"
   ],
   "metadata": {
    "colab": {
     "base_uri": "https://localhost:8080/",
     "height": 487
    },
    "id": "RdRkuWOJMQUP",
    "executionInfo": {
     "status": "ok",
     "timestamp": 1719940478973,
     "user_tz": -120,
     "elapsed": 466,
     "user": {
      "displayName": "Annalaura Miglino",
      "userId": "03808724092990969006"
     }
    },
    "outputId": "d217a57e-3711-436c-ac11-131e7185b494"
   }
  },
  {
   "cell_type": "code",
   "execution_count": 27,
   "outputs": [
    {
     "output_type": "execute_result",
     "data": {
      "text/plain": [
       "count    8712.000000\n",
       "mean        0.494202\n",
       "std         0.297829\n",
       "min         0.000000\n",
       "25%         0.250250\n",
       "50%         0.500000\n",
       "75%         0.750232\n",
       "max         1.000000\n",
       "Name: diggCount_quantile, dtype: float64"
      ]
     },
     "metadata": {},
     "execution_count": 27
    }
   ],
   "source": [
    "df_copy['diggCount_quantile'].describe()"
   ],
   "metadata": {
    "colab": {
     "base_uri": "https://localhost:8080/"
    },
    "id": "9t7DJbPhMQUQ",
    "executionInfo": {
     "status": "ok",
     "timestamp": 1719940478974,
     "user_tz": -120,
     "elapsed": 13,
     "user": {
      "displayName": "Annalaura Miglino",
      "userId": "03808724092990969006"
     }
    },
    "outputId": "dfacc068-f2e0-44d1-be81-3de90a67bcc7"
   }
  },
  {
   "cell_type": "code",
   "execution_count": 28,
   "outputs": [
    {
     "output_type": "display_data",
     "data": {
      "text/plain": [
       "<Figure size 1200x600 with 2 Axes>"
      ],
      "image/png": "[encoded data removed]"
     },
     "metadata": {}
    }
   ],
   "source": [
    "plt.figure(figsize=(12, 6))\n",
    "\n",
    "plt.subplot(1, 2, 1)\n",
    "sns.histplot(df['diggCount'], bins=30, kde=True)\n",
    "plt.title('Distribution of original data')\n",
    "\n",
    "plt.subplot(1, 2, 2)\n",
    "sns.histplot(df_copy['diggCount_quantile'], bins=30, kde=True)\n",
    "plt.title('Distribution of quantile transformed data')\n",
    "\n",
    "plt.tight_layout()\n",
    "plt.show()"
   ],
   "metadata": {
    "colab": {
     "base_uri": "https://localhost:8080/",
     "height": 442
    },
    "id": "vsC7scQaMQUR",
    "executionInfo": {
     "status": "ok",
     "timestamp": 1719940480249,
     "user_tz": -120,
     "elapsed": 1286,
     "user": {
      "displayName": "Annalaura Miglino",
      "userId": "03808724092990969006"
     }
    },
    "outputId": "255725bc-d9ee-4103-c1c9-26a242d029cd"
   }
  },
  {
   "cell_type": "code",
   "execution_count": 29,
   "outputs": [
    {
     "output_type": "execute_result",
     "data": {
      "text/plain": [
       "   diggCount  followerCount  followingCount  heartCount  videoCount  \\\n",
       "0        279              0             564           0           0   \n",
       "1       1198             71            9980           0           0   \n",
       "2       2968            596            1123        2062         266   \n",
       "3       2351            200             818         435          36   \n",
       "4        334              0             604           0           0   \n",
       "\n",
       "   commentSetting  downloadSetting  duetSetting     nickname  openFavorite  \\\n",
       "0               0                0            0    Tik Toker         False   \n",
       "1               0                0            0       BEULAH          True   \n",
       "2               0                0            0      Lello27         False   \n",
       "3               0                0            0  clemevitale         False   \n",
       "4               0                0            0    Tik Toker         False   \n",
       "\n",
       "  signature  stitchSetting                uniqueId  verified   fake  fakeNum  \\\n",
       "0                        0           gyzituvigy542     False   True        1   \n",
       "1                        0   tshphjtowl2401583tbww     False   True        1   \n",
       "2                        0  aristanismamojadanuoro     False  False        0   \n",
       "3                        0             clemevitale     False  False        0   \n",
       "4                        0          exidyvetoqygyv     False   True        1   \n",
       "\n",
       "   diggCount_quantile  \n",
       "0            0.312312  \n",
       "1            0.825606  \n",
       "2            0.885495  \n",
       "3            0.871872  \n",
       "4            0.450951  "
      ],
      "text/html": [
       "\n",
       "  <div id=\"df-420c9228-790e-410a-8917-3a0a0554d3ee\" class=\"colab-df-container\">\n",
       "    <div>\n",
       "<style scoped>\n",
       "    .dataframe tbody tr th:only-of-type {\n",
       "        vertical-align: middle;\n",
       "    }\n",
       "\n",
       "    .dataframe tbody tr th {\n",
       "        vertical-align: top;\n",
       "    }\n",
       "\n",
       "    .dataframe thead th {\n",
       "        text-align: right;\n",
       "    }\n",
       "</style>\n",
       "<table border=\"1\" class=\"dataframe\">\n",
       "  <thead>\n",
       "    <tr style=\"text-align: right;\">\n",
       "      <th></th>\n",
       "      <th>diggCount</th>\n",
       "      <th>followerCount</th>\n",
       "      <th>followingCount</th>\n",
       "      <th>heartCount</th>\n",
       "      <th>videoCount</th>\n",
       "      <th>commentSetting</th>\n",
       "      <th>downloadSetting</th>\n",
       "      <th>duetSetting</th>\n",
       "      <th>nickname</th>\n",
       "      <th>openFavorite</th>\n",
       "      <th>signature</th>\n",
       "      <th>stitchSetting</th>\n",
       "      <th>uniqueId</th>\n",
       "      <th>verified</th>\n",
       "      <th>fake</th>\n",
       "      <th>fakeNum</th>\n",
       "      <th>diggCount_quantile</th>\n",
       "    </tr>\n",
       "  </thead>\n",
       "  <tbody>\n",
       "    <tr>\n",
       "      <th>0</th>\n",
       "      <td>279</td>\n",
       "      <td>0</td>\n",
       "      <td>564</td>\n",
       "      <td>0</td>\n",
       "      <td>0</td>\n",
       "      <td>0</td>\n",
       "      <td>0</td>\n",
       "      <td>0</td>\n",
       "      <td>Tik Toker</td>\n",
       "      <td>False</td>\n",
       "      <td></td>\n",
       "      <td>0</td>\n",
       "      <td>gyzituvigy542</td>\n",
       "      <td>False</td>\n",
       "      <td>True</td>\n",
       "      <td>1</td>\n",
       "      <td>0.312312</td>\n",
       "    </tr>\n",
       "    <tr>\n",
       "      <th>1</th>\n",
       "      <td>1198</td>\n",
       "      <td>71</td>\n",
       "      <td>9980</td>\n",
       "      <td>0</td>\n",
       "      <td>0</td>\n",
       "      <td>0</td>\n",
       "      <td>0</td>\n",
       "      <td>0</td>\n",
       "      <td>BEULAH</td>\n",
       "      <td>True</td>\n",
       "      <td></td>\n",
       "      <td>0</td>\n",
       "      <td>tshphjtowl2401583tbww</td>\n",
       "      <td>False</td>\n",
       "      <td>True</td>\n",
       "      <td>1</td>\n",
       "      <td>0.825606</td>\n",
       "    </tr>\n",
       "    <tr>\n",
       "      <th>2</th>\n",
       "      <td>2968</td>\n",
       "      <td>596</td>\n",
       "      <td>1123</td>\n",
       "      <td>2062</td>\n",
       "      <td>266</td>\n",
       "      <td>0</td>\n",
       "      <td>0</td>\n",
       "      <td>0</td>\n",
       "      <td>Lello27</td>\n",
       "      <td>False</td>\n",
       "      <td></td>\n",
       "      <td>0</td>\n",
       "      <td>aristanismamojadanuoro</td>\n",
       "      <td>False</td>\n",
       "      <td>False</td>\n",
       "      <td>0</td>\n",
       "      <td>0.885495</td>\n",
       "    </tr>\n",
       "    <tr>\n",
       "      <th>3</th>\n",
       "      <td>2351</td>\n",
       "      <td>200</td>\n",
       "      <td>818</td>\n",
       "      <td>435</td>\n",
       "      <td>36</td>\n",
       "      <td>0</td>\n",
       "      <td>0</td>\n",
       "      <td>0</td>\n",
       "      <td>clemevitale</td>\n",
       "      <td>False</td>\n",
       "      <td></td>\n",
       "      <td>0</td>\n",
       "      <td>clemevitale</td>\n",
       "      <td>False</td>\n",
       "      <td>False</td>\n",
       "      <td>0</td>\n",
       "      <td>0.871872</td>\n",
       "    </tr>\n",
       "    <tr>\n",
       "      <th>4</th>\n",
       "      <td>334</td>\n",
       "      <td>0</td>\n",
       "      <td>604</td>\n",
       "      <td>0</td>\n",
       "      <td>0</td>\n",
       "      <td>0</td>\n",
       "      <td>0</td>\n",
       "      <td>0</td>\n",
       "      <td>Tik Toker</td>\n",
       "      <td>False</td>\n",
       "      <td></td>\n",
       "      <td>0</td>\n",
       "      <td>exidyvetoqygyv</td>\n",
       "      <td>False</td>\n",
       "      <td>True</td>\n",
       "      <td>1</td>\n",
       "      <td>0.450951</td>\n",
       "    </tr>\n",
       "  </tbody>\n",
       "</table>\n",
       "</div>\n",
       "    <div class=\"colab-df-buttons\">\n",
       "\n",
       "  <div class=\"colab-df-container\">\n",
       "    <button class=\"colab-df-convert\" onclick=\"convertToInteractive('df-420c9228-790e-410a-8917-3a0a0554d3ee')\"\n",
       "            title=\"Convert this dataframe to an interactive table.\"\n",
       "            style=\"display:none;\">\n",
       "\n",
       "  <svg xmlns=\"http://www.w3.org/2000/svg\" height=\"24px\" viewBox=\"0 -960 960 960\">\n",
       "    <path d=\"M120-120v-720h720v720H120Zm60-500h600v-160H180v160Zm220 220h160v-160H400v160Zm0 220h160v-160H400v160ZM180-400h160v-160H180v160Zm440 0h160v-160H620v160ZM180-180h160v-160H180v160Zm440 0h160v-160H620v160Z\"/>\n",
       "  </svg>\n",
       "    </button>\n",
       "\n",
       "  <style>\n",
       "    .colab-df-container {\n",
       "      display:flex;\n",
       "      gap: 12px;\n",
       "    }\n",
       "\n",
       "    .colab-df-convert {\n",
       "      background-color: #E8F0FE;\n",
       "      border: none;\n",
       "      border-radius: 50%;\n",
       "      cursor: pointer;\n",
       "      display: none;\n",
       "      fill: #1967D2;\n",
       "      height: 32px;\n",
       "      padding: 0 0 0 0;\n",
       "      width: 32px;\n",
       "    }\n",
       "\n",
       "    .colab-df-convert:hover {\n",
       "      background-color: #E2EBFA;\n",
       "      box-shadow: 0px 1px 2px rgba(60, 64, 67, 0.3), 0px 1px 3px 1px rgba(60, 64, 67, 0.15);\n",
       "      fill: #174EA6;\n",
       "    }\n",
       "\n",
       "    .colab-df-buttons div {\n",
       "      margin-bottom: 4px;\n",
       "    }\n",
       "\n",
       "    [theme=dark] .colab-df-convert {\n",
       "      background-color: #3B4455;\n",
       "      fill: #D2E3FC;\n",
       "    }\n",
       "\n",
       "    [theme=dark] .colab-df-convert:hover {\n",
       "      background-color: #434B5C;\n",
       "      box-shadow: 0px 1px 3px 1px rgba(0, 0, 0, 0.15);\n",
       "      filter: drop-shadow(0px 1px 2px rgba(0, 0, 0, 0.3));\n",
       "      fill: #FFFFFF;\n",
       "    }\n",
       "  </style>\n",
       "\n",
       "    <script>\n",
       "      const buttonEl =\n",
       "        document.querySelector('#df-420c9228-790e-410a-8917-3a0a0554d3ee button.colab-df-convert');\n",
       "      buttonEl.style.display =\n",
       "        google.colab.kernel.accessAllowed ? 'block' : 'none';\n",
       "\n",
       "      async function convertToInteractive(key) {\n",
       "        const element = document.querySelector('#df-420c9228-790e-410a-8917-3a0a0554d3ee');\n",
       "        const dataTable =\n",
       "          await google.colab.kernel.invokeFunction('convertToInteractive',\n",
       "                                                    [key], {});\n",
       "        if (!dataTable) return;\n",
       "\n",
       "        const docLinkHtml = 'Like what you see? Visit the ' +\n",
       "          '<a target=\"_blank\" href=https://colab.research.google.com/notebooks/data_table.ipynb>data table notebook</a>'\n",
       "          + ' to learn more about interactive tables.';\n",
       "        element.innerHTML = '';\n",
       "        dataTable['output_type'] = 'display_data';\n",
       "        await google.colab.output.renderOutput(dataTable, element);\n",
       "        const docLink = document.createElement('div');\n",
       "        docLink.innerHTML = docLinkHtml;\n",
       "        element.appendChild(docLink);\n",
       "      }\n",
       "    </script>\n",
       "  </div>\n",
       "\n",
       "\n",
       "<div id=\"df-02157afe-f805-4881-abf8-4730399bbb4b\">\n",
       "  <button class=\"colab-df-quickchart\" onclick=\"quickchart('df-02157afe-f805-4881-abf8-4730399bbb4b')\"\n",
       "            title=\"Suggest charts\"\n",
       "            style=\"display:none;\">\n",
       "\n",
       "<svg xmlns=\"http://www.w3.org/2000/svg\" height=\"24px\"viewBox=\"0 0 24 24\"\n",
       "     width=\"24px\">\n",
       "    <g>\n",
       "        <path d=\"M19 3H5c-1.1 0-2 .9-2 2v14c0 1.1.9 2 2 2h14c1.1 0 2-.9 2-2V5c0-1.1-.9-2-2-2zM9 17H7v-7h2v7zm4 0h-2V7h2v10zm4 0h-2v-4h2v4z\"/>\n",
       "    </g>\n",
       "</svg>\n",
       "  </button>\n",
       "\n",
       "<style>\n",
       "  .colab-df-quickchart {\n",
       "      --bg-color: #E8F0FE;\n",
       "      --fill-color: #1967D2;\n",
       "      --hover-bg-color: #E2EBFA;\n",
       "      --hover-fill-color: #174EA6;\n",
       "      --disabled-fill-color: #AAA;\n",
       "      --disabled-bg-color: #DDD;\n",
       "  }\n",
       "\n",
       "  [theme=dark] .colab-df-quickchart {\n",
       "      --bg-color: #3B4455;\n",
       "      --fill-color: #D2E3FC;\n",
       "      --hover-bg-color: #434B5C;\n",
       "      --hover-fill-color: #FFFFFF;\n",
       "      --disabled-bg-color: #3B4455;\n",
       "      --disabled-fill-color: #666;\n",
       "  }\n",
       "\n",
       "  .colab-df-quickchart {\n",
       "    background-color: var(--bg-color);\n",
       "    border: none;\n",
       "    border-radius: 50%;\n",
       "    cursor: pointer;\n",
       "    display: none;\n",
       "    fill: var(--fill-color);\n",
       "    height: 32px;\n",
       "    padding: 0;\n",
       "    width: 32px;\n",
       "  }\n",
       "\n",
       "  .colab-df-quickchart:hover {\n",
       "    background-color: var(--hover-bg-color);\n",
       "    box-shadow: 0 1px 2px rgba(60, 64, 67, 0.3), 0 1px 3px 1px rgba(60, 64, 67, 0.15);\n",
       "    fill: var(--button-hover-fill-color);\n",
       "  }\n",
       "\n",
       "  .colab-df-quickchart-complete:disabled,\n",
       "  .colab-df-quickchart-complete:disabled:hover {\n",
       "    background-color: var(--disabled-bg-color);\n",
       "    fill: var(--disabled-fill-color);\n",
       "    box-shadow: none;\n",
       "  }\n",
       "\n",
       "  .colab-df-spinner {\n",
       "    border: 2px solid var(--fill-color);\n",
       "    border-color: transparent;\n",
       "    border-bottom-color: var(--fill-color);\n",
       "    animation:\n",
       "      spin 1s steps(1) infinite;\n",
       "  }\n",
       "\n",
       "  @keyframes spin {\n",
       "    0% {\n",
       "      border-color: transparent;\n",
       "      border-bottom-color: var(--fill-color);\n",
       "      border-left-color: var(--fill-color);\n",
       "    }\n",
       "    20% {\n",
       "      border-color: transparent;\n",
       "      border-left-color: var(--fill-color);\n",
       "      border-top-color: var(--fill-color);\n",
       "    }\n",
       "    30% {\n",
       "      border-color: transparent;\n",
       "      border-left-color: var(--fill-color);\n",
       "      border-top-color: var(--fill-color);\n",
       "      border-right-color: var(--fill-color);\n",
       "    }\n",
       "    40% {\n",
       "      border-color: transparent;\n",
       "      border-right-color: var(--fill-color);\n",
       "      border-top-color: var(--fill-color);\n",
       "    }\n",
       "    60% {\n",
       "      border-color: transparent;\n",
       "      border-right-color: var(--fill-color);\n",
       "    }\n",
       "    80% {\n",
       "      border-color: transparent;\n",
       "      border-right-color: var(--fill-color);\n",
       "      border-bottom-color: var(--fill-color);\n",
       "    }\n",
       "    90% {\n",
       "      border-color: transparent;\n",
       "      border-bottom-color: var(--fill-color);\n",
       "    }\n",
       "  }\n",
       "</style>\n",
       "\n",
       "  <script>\n",
       "    async function quickchart(key) {\n",
       "      const quickchartButtonEl =\n",
       "        document.querySelector('#' + key + ' button');\n",
       "      quickchartButtonEl.disabled = true;  // To prevent multiple clicks.\n",
       "      quickchartButtonEl.classList.add('colab-df-spinner');\n",
       "      try {\n",
       "        const charts = await google.colab.kernel.invokeFunction(\n",
       "            'suggestCharts', [key], {});\n",
       "      } catch (error) {\n",
       "        console.error('Error during call to suggestCharts:', error);\n",
       "      }\n",
       "      quickchartButtonEl.classList.remove('colab-df-spinner');\n",
       "      quickchartButtonEl.classList.add('colab-df-quickchart-complete');\n",
       "    }\n",
       "    (() => {\n",
       "      let quickchartButtonEl =\n",
       "        document.querySelector('#df-02157afe-f805-4881-abf8-4730399bbb4b button');\n",
       "      quickchartButtonEl.style.display =\n",
       "        google.colab.kernel.accessAllowed ? 'block' : 'none';\n",
       "    })();\n",
       "  </script>\n",
       "</div>\n",
       "\n",
       "    </div>\n",
       "  </div>\n"
      ],
      "application/vnd.google.colaboratory.intrinsic+json": {
       "type": "dataframe",
       "variable_name": "df_copy",
       "summary": "{\n  \"name\": \"df_copy\",\n  \"rows\": 8712,\n  \"fields\": [\n    {\n      \"column\": \"diggCount\",\n      \"properties\": {\n        \"dtype\": \"number\",\n        \"std\": 14204,\n        \"min\": 0,\n        \"max\": 386100,\n        \"num_unique_values\": 2154,\n        \"samples\": [\n          217,\n          2800,\n          1668\n        ],\n        \"semantic_type\": \"\",\n        \"description\": \"\"\n      }\n    },\n    {\n      \"column\": \"followerCount\",\n      \"properties\": {\n        \"dtype\": \"number\",\n        \"std\": 2024428,\n        \"min\": 0,\n        \"max\": 82300000,\n        \"num_unique_values\": 1587,\n        \"samples\": [\n          397,\n          730,\n          498\n        ],\n        \"semantic_type\": \"\",\n        \"description\": \"\"\n      }\n    },\n    {\n      \"column\": \"followingCount\",\n      \"properties\": {\n        \"dtype\": \"number\",\n        \"std\": 2296,\n        \"min\": 0,\n        \"max\": 10000,\n        \"num_unique_values\": 1611,\n        \"samples\": [\n          548,\n          220,\n          607\n        ],\n        \"semantic_type\": \"\",\n        \"description\": \"\"\n      }\n    },\n    {\n      \"column\": \"heartCount\",\n      \"properties\": {\n        \"dtype\": \"number\",\n        \"std\": 32296147,\n        \"min\": 0,\n        \"max\": 1100000000,\n        \"num_unique_values\": 1930,\n        \"samples\": [\n          856,\n          355800,\n          258600\n        ],\n        \"semantic_type\": \"\",\n        \"description\": \"\"\n      }\n    },\n    {\n      \"column\": \"videoCount\",\n      \"properties\": {\n        \"dtype\": \"number\",\n        \"std\": 206,\n        \"min\": 0,\n        \"max\": 5799,\n        \"num_unique_values\": 497,\n        \"samples\": [\n          292,\n          221,\n          105\n        ],\n        \"semantic_type\": \"\",\n        \"description\": \"\"\n      }\n    },\n    {\n      \"column\": \"commentSetting\",\n      \"properties\": {\n        \"dtype\": \"number\",\n        \"std\": 0,\n        \"min\": 0,\n        \"max\": 3,\n        \"num_unique_values\": 3,\n        \"samples\": [\n          0,\n          1,\n          3\n        ],\n        \"semantic_type\": \"\",\n        \"description\": \"\"\n      }\n    },\n    {\n      \"column\": \"downloadSetting\",\n      \"properties\": {\n        \"dtype\": \"number\",\n        \"std\": 0,\n        \"min\": 0,\n        \"max\": 3,\n        \"num_unique_values\": 2,\n        \"samples\": [\n          3,\n          0\n        ],\n        \"semantic_type\": \"\",\n        \"description\": \"\"\n      }\n    },\n    {\n      \"column\": \"duetSetting\",\n      \"properties\": {\n        \"dtype\": \"number\",\n        \"std\": 0,\n        \"min\": 0,\n        \"max\": 3,\n        \"num_unique_values\": 3,\n        \"samples\": [\n          0,\n          1\n        ],\n        \"semantic_type\": \"\",\n        \"description\": \"\"\n      }\n    },\n    {\n      \"column\": \"nickname\",\n      \"properties\": {\n        \"dtype\": \"string\",\n        \"num_unique_values\": 4527,\n        \"samples\": [\n          \"enzo\",\n          \"Angela Tufano\"\n        ],\n        \"semantic_type\": \"\",\n        \"description\": \"\"\n      }\n    },\n    {\n      \"column\": \"openFavorite\",\n      \"properties\": {\n        \"dtype\": \"boolean\",\n        \"num_unique_values\": 2,\n        \"samples\": [\n          true,\n          false\n        ],\n        \"semantic_type\": \"\",\n        \"description\": \"\"\n      }\n    },\n    {\n      \"column\": \"signature\",\n      \"properties\": {\n        \"dtype\": \"category\",\n        \"num_unique_values\": 988,\n        \"samples\": [\n          \"15//\\ud83c\\uddf5\\ud83c\\uddf8\",\n          \"TANTE NOVIT\\u00c0 SUL MONDO DEL CALCIO\"\n        ],\n        \"semantic_type\": \"\",\n        \"description\": \"\"\n      }\n    },\n    {\n      \"column\": \"stitchSetting\",\n      \"properties\": {\n        \"dtype\": \"number\",\n        \"std\": 0,\n        \"min\": 0,\n        \"max\": 3,\n        \"num_unique_values\": 3,\n        \"samples\": [\n          0,\n          1\n        ],\n        \"semantic_type\": \"\",\n        \"description\": \"\"\n      }\n    },\n    {\n      \"column\": \"uniqueId\",\n      \"properties\": {\n        \"dtype\": \"string\",\n        \"num_unique_values\": 8711,\n        \"samples\": [\n          \"xasxavomutha\",\n          \"ovizosujyqo610\"\n        ],\n        \"semantic_type\": \"\",\n        \"description\": \"\"\n      }\n    },\n    {\n      \"column\": \"verified\",\n      \"properties\": {\n        \"dtype\": \"boolean\",\n        \"num_unique_values\": 2,\n        \"samples\": [\n          true,\n          false\n        ],\n        \"semantic_type\": \"\",\n        \"description\": \"\"\n      }\n    },\n    {\n      \"column\": \"fake\",\n      \"properties\": {\n        \"dtype\": \"boolean\",\n        \"num_unique_values\": 2,\n        \"samples\": [\n          false,\n          true\n        ],\n        \"semantic_type\": \"\",\n        \"description\": \"\"\n      }\n    },\n    {\n      \"column\": \"fakeNum\",\n      \"properties\": {\n        \"dtype\": \"number\",\n        \"std\": 0,\n        \"min\": 0,\n        \"max\": 1,\n        \"num_unique_values\": 2,\n        \"samples\": [\n          0,\n          1\n        ],\n        \"semantic_type\": \"\",\n        \"description\": \"\"\n      }\n    },\n    {\n      \"column\": \"diggCount_quantile\",\n      \"properties\": {\n        \"dtype\": \"number\",\n        \"std\": 0.29782918074297515,\n        \"min\": 0.0,\n        \"max\": 1.0,\n        \"num_unique_values\": 2154,\n        \"samples\": [\n          0.2515849182515849,\n          0.8823208771049373\n        ],\n        \"semantic_type\": \"\",\n        \"description\": \"\"\n      }\n    }\n  ]\n}"
      }
     },
     "metadata": {},
     "execution_count": 29
    }
   ],
   "source": [
    "df_copy.head()"
   ],
   "metadata": {
    "colab": {
     "base_uri": "https://localhost:8080/",
     "height": 226
    },
    "id": "JC3l6ng6MQUS",
    "executionInfo": {
     "status": "ok",
     "timestamp": 1719940480249,
     "user_tz": -120,
     "elapsed": 9,
     "user": {
      "displayName": "Annalaura Miglino",
      "userId": "03808724092990969006"
     }
    },
    "outputId": "e2ad6cce-e87d-44e4-8e8e-743c11852e0f"
   }
  },
  {
   "cell_type": "markdown",
   "source": [
    "#### Min-Max Scaler"
   ],
   "metadata": {
    "collapsed": false,
    "id": "TmBvlXorMQUS"
   }
  },
  {
   "cell_type": "code",
   "execution_count": 30,
   "outputs": [],
   "source": [
    "scaler = MinMaxScaler()\n",
    "df_copy['diggCount_minMax'] = scaler.fit_transform(df_copy[['diggCount']])"
   ],
   "metadata": {
    "id": "0Ls3Fxu3MQUT",
    "executionInfo": {
     "status": "ok",
     "timestamp": 1719940480249,
     "user_tz": -120,
     "elapsed": 7,
     "user": {
      "displayName": "Annalaura Miglino",
      "userId": "03808724092990969006"
     }
    }
   }
  },
  {
   "cell_type": "code",
   "execution_count": 31,
   "outputs": [
    {
     "output_type": "display_data",
     "data": {
      "text/plain": [
       "<Figure size 1000x500 with 1 Axes>"
      ],
      "image/png": "[encoded data removed]"
     },
     "metadata": {}
    }
   ],
   "source": [
    "df_copy['diggCount_minMax'].hist(bins=16, figsize=(10,5))\n",
    "plt.xlabel('diggCount')\n",
    "plt.ylabel('Frequency')\n",
    "plt.title('Distribution of min-max scaled diggCount')\n",
    "plt.show()"
   ],
   "metadata": {
    "colab": {
     "base_uri": "https://localhost:8080/",
     "height": 486
    },
    "id": "kV5-PfaNMQUT",
    "executionInfo": {
     "status": "ok",
     "timestamp": 1719940481274,
     "user_tz": -120,
     "elapsed": 1032,
     "user": {
      "displayName": "Annalaura Miglino",
      "userId": "03808724092990969006"
     }
    },
    "outputId": "f0716297-1f6f-4fc4-ad8d-3c25539bde8f"
   }
  },
  {
   "cell_type": "code",
   "execution_count": 32,
   "outputs": [
    {
     "output_type": "execute_result",
     "data": {
      "text/plain": [
       "count    8712.000000\n",
       "mean        0.007619\n",
       "std         0.036791\n",
       "min         0.000000\n",
       "25%         0.000554\n",
       "50%         0.000907\n",
       "75%         0.001339\n",
       "max         1.000000\n",
       "Name: diggCount_minMax, dtype: float64"
      ]
     },
     "metadata": {},
     "execution_count": 32
    }
   ],
   "source": [
    "df_copy['diggCount_minMax'].describe()"
   ],
   "metadata": {
    "colab": {
     "base_uri": "https://localhost:8080/"
    },
    "id": "EKH7A-U1MQUU",
    "executionInfo": {
     "status": "ok",
     "timestamp": 1719940481274,
     "user_tz": -120,
     "elapsed": 5,
     "user": {
      "displayName": "Annalaura Miglino",
      "userId": "03808724092990969006"
     }
    },
    "outputId": "8937cdc6-5ad4-4a7f-d3b3-0ec2bf121ced"
   }
  },
  {
   "cell_type": "code",
   "execution_count": 33,
   "outputs": [
    {
     "output_type": "execute_result",
     "data": {
      "text/plain": [
       "   diggCount  followerCount  followingCount  heartCount  videoCount  \\\n",
       "0        279              0             564           0           0   \n",
       "1       1198             71            9980           0           0   \n",
       "2       2968            596            1123        2062         266   \n",
       "3       2351            200             818         435          36   \n",
       "4        334              0             604           0           0   \n",
       "\n",
       "   commentSetting  downloadSetting  duetSetting     nickname  openFavorite  \\\n",
       "0               0                0            0    Tik Toker         False   \n",
       "1               0                0            0       BEULAH          True   \n",
       "2               0                0            0      Lello27         False   \n",
       "3               0                0            0  clemevitale         False   \n",
       "4               0                0            0    Tik Toker         False   \n",
       "\n",
       "  signature  stitchSetting                uniqueId  verified   fake  fakeNum  \\\n",
       "0                        0           gyzituvigy542     False   True        1   \n",
       "1                        0   tshphjtowl2401583tbww     False   True        1   \n",
       "2                        0  aristanismamojadanuoro     False  False        0   \n",
       "3                        0             clemevitale     False  False        0   \n",
       "4                        0          exidyvetoqygyv     False   True        1   \n",
       "\n",
       "   diggCount_quantile  diggCount_minMax  \n",
       "0            0.312312          0.000723  \n",
       "1            0.825606          0.003103  \n",
       "2            0.885495          0.007687  \n",
       "3            0.871872          0.006089  \n",
       "4            0.450951          0.000865  "
      ],
      "text/html": [
       "\n",
       "  <div id=\"df-2b9a7bef-e01e-433a-adeb-8afefffdd51d\" class=\"colab-df-container\">\n",
       "    <div>\n",
       "<style scoped>\n",
       "    .dataframe tbody tr th:only-of-type {\n",
       "        vertical-align: middle;\n",
       "    }\n",
       "\n",
       "    .dataframe tbody tr th {\n",
       "        vertical-align: top;\n",
       "    }\n",
       "\n",
       "    .dataframe thead th {\n",
       "        text-align: right;\n",
       "    }\n",
       "</style>\n",
       "<table border=\"1\" class=\"dataframe\">\n",
       "  <thead>\n",
       "    <tr style=\"text-align: right;\">\n",
       "      <th></th>\n",
       "      <th>diggCount</th>\n",
       "      <th>followerCount</th>\n",
       "      <th>followingCount</th>\n",
       "      <th>heartCount</th>\n",
       "      <th>videoCount</th>\n",
       "      <th>commentSetting</th>\n",
       "      <th>downloadSetting</th>\n",
       "      <th>duetSetting</th>\n",
       "      <th>nickname</th>\n",
       "      <th>openFavorite</th>\n",
       "      <th>signature</th>\n",
       "      <th>stitchSetting</th>\n",
       "      <th>uniqueId</th>\n",
       "      <th>verified</th>\n",
       "      <th>fake</th>\n",
       "      <th>fakeNum</th>\n",
       "      <th>diggCount_quantile</th>\n",
       "      <th>diggCount_minMax</th>\n",
       "    </tr>\n",
       "  </thead>\n",
       "  <tbody>\n",
       "    <tr>\n",
       "      <th>0</th>\n",
       "      <td>279</td>\n",
       "      <td>0</td>\n",
       "      <td>564</td>\n",
       "      <td>0</td>\n",
       "      <td>0</td>\n",
       "      <td>0</td>\n",
       "      <td>0</td>\n",
       "      <td>0</td>\n",
       "      <td>Tik Toker</td>\n",
       "      <td>False</td>\n",
       "      <td></td>\n",
       "      <td>0</td>\n",
       "      <td>gyzituvigy542</td>\n",
       "      <td>False</td>\n",
       "      <td>True</td>\n",
       "      <td>1</td>\n",
       "      <td>0.312312</td>\n",
       "      <td>0.000723</td>\n",
       "    </tr>\n",
       "    <tr>\n",
       "      <th>1</th>\n",
       "      <td>1198</td>\n",
       "      <td>71</td>\n",
       "      <td>9980</td>\n",
       "      <td>0</td>\n",
       "      <td>0</td>\n",
       "      <td>0</td>\n",
       "      <td>0</td>\n",
       "      <td>0</td>\n",
       "      <td>BEULAH</td>\n",
       "      <td>True</td>\n",
       "      <td></td>\n",
       "      <td>0</td>\n",
       "      <td>tshphjtowl2401583tbww</td>\n",
       "      <td>False</td>\n",
       "      <td>True</td>\n",
       "      <td>1</td>\n",
       "      <td>0.825606</td>\n",
       "      <td>0.003103</td>\n",
       "    </tr>\n",
       "    <tr>\n",
       "      <th>2</th>\n",
       "      <td>2968</td>\n",
       "      <td>596</td>\n",
       "      <td>1123</td>\n",
       "      <td>2062</td>\n",
       "      <td>266</td>\n",
       "      <td>0</td>\n",
       "      <td>0</td>\n",
       "      <td>0</td>\n",
       "      <td>Lello27</td>\n",
       "      <td>False</td>\n",
       "      <td></td>\n",
       "      <td>0</td>\n",
       "      <td>aristanismamojadanuoro</td>\n",
       "      <td>False</td>\n",
       "      <td>False</td>\n",
       "      <td>0</td>\n",
       "      <td>0.885495</td>\n",
       "      <td>0.007687</td>\n",
       "    </tr>\n",
       "    <tr>\n",
       "      <th>3</th>\n",
       "      <td>2351</td>\n",
       "      <td>200</td>\n",
       "      <td>818</td>\n",
       "      <td>435</td>\n",
       "      <td>36</td>\n",
       "      <td>0</td>\n",
       "      <td>0</td>\n",
       "      <td>0</td>\n",
       "      <td>clemevitale</td>\n",
       "      <td>False</td>\n",
       "      <td></td>\n",
       "      <td>0</td>\n",
       "      <td>clemevitale</td>\n",
       "      <td>False</td>\n",
       "      <td>False</td>\n",
       "      <td>0</td>\n",
       "      <td>0.871872</td>\n",
       "      <td>0.006089</td>\n",
       "    </tr>\n",
       "    <tr>\n",
       "      <th>4</th>\n",
       "      <td>334</td>\n",
       "      <td>0</td>\n",
       "      <td>604</td>\n",
       "      <td>0</td>\n",
       "      <td>0</td>\n",
       "      <td>0</td>\n",
       "      <td>0</td>\n",
       "      <td>0</td>\n",
       "      <td>Tik Toker</td>\n",
       "      <td>False</td>\n",
       "      <td></td>\n",
       "      <td>0</td>\n",
       "      <td>exidyvetoqygyv</td>\n",
       "      <td>False</td>\n",
       "      <td>True</td>\n",
       "      <td>1</td>\n",
       "      <td>0.450951</td>\n",
       "      <td>0.000865</td>\n",
       "    </tr>\n",
       "  </tbody>\n",
       "</table>\n",
       "</div>\n",
       "    <div class=\"colab-df-buttons\">\n",
       "\n",
       "  <div class=\"colab-df-container\">\n",
       "    <button class=\"colab-df-convert\" onclick=\"convertToInteractive('df-2b9a7bef-e01e-433a-adeb-8afefffdd51d')\"\n",
       "            title=\"Convert this dataframe to an interactive table.\"\n",
       "            style=\"display:none;\">\n",
       "\n",
       "  <svg xmlns=\"http://www.w3.org/2000/svg\" height=\"24px\" viewBox=\"0 -960 960 960\">\n",
       "    <path d=\"M120-120v-720h720v720H120Zm60-500h600v-160H180v160Zm220 220h160v-160H400v160Zm0 220h160v-160H400v160ZM180-400h160v-160H180v160Zm440 0h160v-160H620v160ZM180-180h160v-160H180v160Zm440 0h160v-160H620v160Z\"/>\n",
       "  </svg>\n",
       "    </button>\n",
       "\n",
       "  <style>\n",
       "    .colab-df-container {\n",
       "      display:flex;\n",
       "      gap: 12px;\n",
       "    }\n",
       "\n",
       "    .colab-df-convert {\n",
       "      background-color: #E8F0FE;\n",
       "      border: none;\n",
       "      border-radius: 50%;\n",
       "      cursor: pointer;\n",
       "      display: none;\n",
       "      fill: #1967D2;\n",
       "      height: 32px;\n",
       "      padding: 0 0 0 0;\n",
       "      width: 32px;\n",
       "    }\n",
       "\n",
       "    .colab-df-convert:hover {\n",
       "      background-color: #E2EBFA;\n",
       "      box-shadow: 0px 1px 2px rgba(60, 64, 67, 0.3), 0px 1px 3px 1px rgba(60, 64, 67, 0.15);\n",
       "      fill: #174EA6;\n",
       "    }\n",
       "\n",
       "    .colab-df-buttons div {\n",
       "      margin-bottom: 4px;\n",
       "    }\n",
       "\n",
       "    [theme=dark] .colab-df-convert {\n",
       "      background-color: #3B4455;\n",
       "      fill: #D2E3FC;\n",
       "    }\n",
       "\n",
       "    [theme=dark] .colab-df-convert:hover {\n",
       "      background-color: #434B5C;\n",
       "      box-shadow: 0px 1px 3px 1px rgba(0, 0, 0, 0.15);\n",
       "      filter: drop-shadow(0px 1px 2px rgba(0, 0, 0, 0.3));\n",
       "      fill: #FFFFFF;\n",
       "    }\n",
       "  </style>\n",
       "\n",
       "    <script>\n",
       "      const buttonEl =\n",
       "        document.querySelector('#df-2b9a7bef-e01e-433a-adeb-8afefffdd51d button.colab-df-convert');\n",
       "      buttonEl.style.display =\n",
       "        google.colab.kernel.accessAllowed ? 'block' : 'none';\n",
       "\n",
       "      async function convertToInteractive(key) {\n",
       "        const element = document.querySelector('#df-2b9a7bef-e01e-433a-adeb-8afefffdd51d');\n",
       "        const dataTable =\n",
       "          await google.colab.kernel.invokeFunction('convertToInteractive',\n",
       "                                                    [key], {});\n",
       "        if (!dataTable) return;\n",
       "\n",
       "        const docLinkHtml = 'Like what you see? Visit the ' +\n",
       "          '<a target=\"_blank\" href=https://colab.research.google.com/notebooks/data_table.ipynb>data table notebook</a>'\n",
       "          + ' to learn more about interactive tables.';\n",
       "        element.innerHTML = '';\n",
       "        dataTable['output_type'] = 'display_data';\n",
       "        await google.colab.output.renderOutput(dataTable, element);\n",
       "        const docLink = document.createElement('div');\n",
       "        docLink.innerHTML = docLinkHtml;\n",
       "        element.appendChild(docLink);\n",
       "      }\n",
       "    </script>\n",
       "  </div>\n",
       "\n",
       "\n",
       "<div id=\"df-5ecf78c6-a16f-402c-8598-56ed45dde9a8\">\n",
       "  <button class=\"colab-df-quickchart\" onclick=\"quickchart('df-5ecf78c6-a16f-402c-8598-56ed45dde9a8')\"\n",
       "            title=\"Suggest charts\"\n",
       "            style=\"display:none;\">\n",
       "\n",
       "<svg xmlns=\"http://www.w3.org/2000/svg\" height=\"24px\"viewBox=\"0 0 24 24\"\n",
       "     width=\"24px\">\n",
       "    <g>\n",
       "        <path d=\"M19 3H5c-1.1 0-2 .9-2 2v14c0 1.1.9 2 2 2h14c1.1 0 2-.9 2-2V5c0-1.1-.9-2-2-2zM9 17H7v-7h2v7zm4 0h-2V7h2v10zm4 0h-2v-4h2v4z\"/>\n",
       "    </g>\n",
       "</svg>\n",
       "  </button>\n",
       "\n",
       "<style>\n",
       "  .colab-df-quickchart {\n",
       "      --bg-color: #E8F0FE;\n",
       "      --fill-color: #1967D2;\n",
       "      --hover-bg-color: #E2EBFA;\n",
       "      --hover-fill-color: #174EA6;\n",
       "      --disabled-fill-color: #AAA;\n",
       "      --disabled-bg-color: #DDD;\n",
       "  }\n",
       "\n",
       "  [theme=dark] .colab-df-quickchart {\n",
       "      --bg-color: #3B4455;\n",
       "      --fill-color: #D2E3FC;\n",
       "      --hover-bg-color: #434B5C;\n",
       "      --hover-fill-color: #FFFFFF;\n",
       "      --disabled-bg-color: #3B4455;\n",
       "      --disabled-fill-color: #666;\n",
       "  }\n",
       "\n",
       "  .colab-df-quickchart {\n",
       "    background-color: var(--bg-color);\n",
       "    border: none;\n",
       "    border-radius: 50%;\n",
       "    cursor: pointer;\n",
       "    display: none;\n",
       "    fill: var(--fill-color);\n",
       "    height: 32px;\n",
       "    padding: 0;\n",
       "    width: 32px;\n",
       "  }\n",
       "\n",
       "  .colab-df-quickchart:hover {\n",
       "    background-color: var(--hover-bg-color);\n",
       "    box-shadow: 0 1px 2px rgba(60, 64, 67, 0.3), 0 1px 3px 1px rgba(60, 64, 67, 0.15);\n",
       "    fill: var(--button-hover-fill-color);\n",
       "  }\n",
       "\n",
       "  .colab-df-quickchart-complete:disabled,\n",
       "  .colab-df-quickchart-complete:disabled:hover {\n",
       "    background-color: var(--disabled-bg-color);\n",
       "    fill: var(--disabled-fill-color);\n",
       "    box-shadow: none;\n",
       "  }\n",
       "\n",
       "  .colab-df-spinner {\n",
       "    border: 2px solid var(--fill-color);\n",
       "    border-color: transparent;\n",
       "    border-bottom-color: var(--fill-color);\n",
       "    animation:\n",
       "      spin 1s steps(1) infinite;\n",
       "  }\n",
       "\n",
       "  @keyframes spin {\n",
       "    0% {\n",
       "      border-color: transparent;\n",
       "      border-bottom-color: var(--fill-color);\n",
       "      border-left-color: var(--fill-color);\n",
       "    }\n",
       "    20% {\n",
       "      border-color: transparent;\n",
       "      border-left-color: var(--fill-color);\n",
       "      border-top-color: var(--fill-color);\n",
       "    }\n",
       "    30% {\n",
       "      border-color: transparent;\n",
       "      border-left-color: var(--fill-color);\n",
       "      border-top-color: var(--fill-color);\n",
       "      border-right-color: var(--fill-color);\n",
       "    }\n",
       "    40% {\n",
       "      border-color: transparent;\n",
       "      border-right-color: var(--fill-color);\n",
       "      border-top-color: var(--fill-color);\n",
       "    }\n",
       "    60% {\n",
       "      border-color: transparent;\n",
       "      border-right-color: var(--fill-color);\n",
       "    }\n",
       "    80% {\n",
       "      border-color: transparent;\n",
       "      border-right-color: var(--fill-color);\n",
       "      border-bottom-color: var(--fill-color);\n",
       "    }\n",
       "    90% {\n",
       "      border-color: transparent;\n",
       "      border-bottom-color: var(--fill-color);\n",
       "    }\n",
       "  }\n",
       "</style>\n",
       "\n",
       "  <script>\n",
       "    async function quickchart(key) {\n",
       "      const quickchartButtonEl =\n",
       "        document.querySelector('#' + key + ' button');\n",
       "      quickchartButtonEl.disabled = true;  // To prevent multiple clicks.\n",
       "      quickchartButtonEl.classList.add('colab-df-spinner');\n",
       "      try {\n",
       "        const charts = await google.colab.kernel.invokeFunction(\n",
       "            'suggestCharts', [key], {});\n",
       "      } catch (error) {\n",
       "        console.error('Error during call to suggestCharts:', error);\n",
       "      }\n",
       "      quickchartButtonEl.classList.remove('colab-df-spinner');\n",
       "      quickchartButtonEl.classList.add('colab-df-quickchart-complete');\n",
       "    }\n",
       "    (() => {\n",
       "      let quickchartButtonEl =\n",
       "        document.querySelector('#df-5ecf78c6-a16f-402c-8598-56ed45dde9a8 button');\n",
       "      quickchartButtonEl.style.display =\n",
       "        google.colab.kernel.accessAllowed ? 'block' : 'none';\n",
       "    })();\n",
       "  </script>\n",
       "</div>\n",
       "\n",
       "    </div>\n",
       "  </div>\n"
      ],
      "application/vnd.google.colaboratory.intrinsic+json": {
       "type": "dataframe",
       "variable_name": "df_copy",
       "summary": "{\n  \"name\": \"df_copy\",\n  \"rows\": 8712,\n  \"fields\": [\n    {\n      \"column\": \"diggCount\",\n      \"properties\": {\n        \"dtype\": \"number\",\n        \"std\": 14204,\n        \"min\": 0,\n        \"max\": 386100,\n        \"num_unique_values\": 2154,\n        \"samples\": [\n          217,\n          2800,\n          1668\n        ],\n        \"semantic_type\": \"\",\n        \"description\": \"\"\n      }\n    },\n    {\n      \"column\": \"followerCount\",\n      \"properties\": {\n        \"dtype\": \"number\",\n        \"std\": 2024428,\n        \"min\": 0,\n        \"max\": 82300000,\n        \"num_unique_values\": 1587,\n        \"samples\": [\n          397,\n          730,\n          498\n        ],\n        \"semantic_type\": \"\",\n        \"description\": \"\"\n      }\n    },\n    {\n      \"column\": \"followingCount\",\n      \"properties\": {\n        \"dtype\": \"number\",\n        \"std\": 2296,\n        \"min\": 0,\n        \"max\": 10000,\n        \"num_unique_values\": 1611,\n        \"samples\": [\n          548,\n          220,\n          607\n        ],\n        \"semantic_type\": \"\",\n        \"description\": \"\"\n      }\n    },\n    {\n      \"column\": \"heartCount\",\n      \"properties\": {\n        \"dtype\": \"number\",\n        \"std\": 32296147,\n        \"min\": 0,\n        \"max\": 1100000000,\n        \"num_unique_values\": 1930,\n        \"samples\": [\n          856,\n          355800,\n          258600\n        ],\n        \"semantic_type\": \"\",\n        \"description\": \"\"\n      }\n    },\n    {\n      \"column\": \"videoCount\",\n      \"properties\": {\n        \"dtype\": \"number\",\n        \"std\": 206,\n        \"min\": 0,\n        \"max\": 5799,\n        \"num_unique_values\": 497,\n        \"samples\": [\n          292,\n          221,\n          105\n        ],\n        \"semantic_type\": \"\",\n        \"description\": \"\"\n      }\n    },\n    {\n      \"column\": \"commentSetting\",\n      \"properties\": {\n        \"dtype\": \"number\",\n        \"std\": 0,\n        \"min\": 0,\n        \"max\": 3,\n        \"num_unique_values\": 3,\n        \"samples\": [\n          0,\n          1,\n          3\n        ],\n        \"semantic_type\": \"\",\n        \"description\": \"\"\n      }\n    },\n    {\n      \"column\": \"downloadSetting\",\n      \"properties\": {\n        \"dtype\": \"number\",\n        \"std\": 0,\n        \"min\": 0,\n        \"max\": 3,\n        \"num_unique_values\": 2,\n        \"samples\": [\n          3,\n          0\n        ],\n        \"semantic_type\": \"\",\n        \"description\": \"\"\n      }\n    },\n    {\n      \"column\": \"duetSetting\",\n      \"properties\": {\n        \"dtype\": \"number\",\n        \"std\": 0,\n        \"min\": 0,\n        \"max\": 3,\n        \"num_unique_values\": 3,\n        \"samples\": [\n          0,\n          1\n        ],\n        \"semantic_type\": \"\",\n        \"description\": \"\"\n      }\n    },\n    {\n      \"column\": \"nickname\",\n      \"properties\": {\n        \"dtype\": \"string\",\n        \"num_unique_values\": 4527,\n        \"samples\": [\n          \"enzo\",\n          \"Angela Tufano\"\n        ],\n        \"semantic_type\": \"\",\n        \"description\": \"\"\n      }\n    },\n    {\n      \"column\": \"openFavorite\",\n      \"properties\": {\n        \"dtype\": \"boolean\",\n        \"num_unique_values\": 2,\n        \"samples\": [\n          true,\n          false\n        ],\n        \"semantic_type\": \"\",\n        \"description\": \"\"\n      }\n    },\n    {\n      \"column\": \"signature\",\n      \"properties\": {\n        \"dtype\": \"category\",\n        \"num_unique_values\": 988,\n        \"samples\": [\n          \"15//\\ud83c\\uddf5\\ud83c\\uddf8\",\n          \"TANTE NOVIT\\u00c0 SUL MONDO DEL CALCIO\"\n        ],\n        \"semantic_type\": \"\",\n        \"description\": \"\"\n      }\n    },\n    {\n      \"column\": \"stitchSetting\",\n      \"properties\": {\n        \"dtype\": \"number\",\n        \"std\": 0,\n        \"min\": 0,\n        \"max\": 3,\n        \"num_unique_values\": 3,\n        \"samples\": [\n          0,\n          1\n        ],\n        \"semantic_type\": \"\",\n        \"description\": \"\"\n      }\n    },\n    {\n      \"column\": \"uniqueId\",\n      \"properties\": {\n        \"dtype\": \"string\",\n        \"num_unique_values\": 8711,\n        \"samples\": [\n          \"xasxavomutha\",\n          \"ovizosujyqo610\"\n        ],\n        \"semantic_type\": \"\",\n        \"description\": \"\"\n      }\n    },\n    {\n      \"column\": \"verified\",\n      \"properties\": {\n        \"dtype\": \"boolean\",\n        \"num_unique_values\": 2,\n        \"samples\": [\n          true,\n          false\n        ],\n        \"semantic_type\": \"\",\n        \"description\": \"\"\n      }\n    },\n    {\n      \"column\": \"fake\",\n      \"properties\": {\n        \"dtype\": \"boolean\",\n        \"num_unique_values\": 2,\n        \"samples\": [\n          false,\n          true\n        ],\n        \"semantic_type\": \"\",\n        \"description\": \"\"\n      }\n    },\n    {\n      \"column\": \"fakeNum\",\n      \"properties\": {\n        \"dtype\": \"number\",\n        \"std\": 0,\n        \"min\": 0,\n        \"max\": 1,\n        \"num_unique_values\": 2,\n        \"samples\": [\n          0,\n          1\n        ],\n        \"semantic_type\": \"\",\n        \"description\": \"\"\n      }\n    },\n    {\n      \"column\": \"diggCount_quantile\",\n      \"properties\": {\n        \"dtype\": \"number\",\n        \"std\": 0.29782918074297515,\n        \"min\": 0.0,\n        \"max\": 1.0,\n        \"num_unique_values\": 2154,\n        \"samples\": [\n          0.2515849182515849,\n          0.8823208771049373\n        ],\n        \"semantic_type\": \"\",\n        \"description\": \"\"\n      }\n    },\n    {\n      \"column\": \"diggCount_minMax\",\n      \"properties\": {\n        \"dtype\": \"number\",\n        \"std\": 0.036790890482020756,\n        \"min\": 0.0,\n        \"max\": 1.0,\n        \"num_unique_values\": 2154,\n        \"samples\": [\n          0.000562030562030562,\n          0.007252007252007251\n        ],\n        \"semantic_type\": \"\",\n        \"description\": \"\"\n      }\n    }\n  ]\n}"
      }
     },
     "metadata": {},
     "execution_count": 33
    }
   ],
   "source": [
    "df_copy.head()"
   ],
   "metadata": {
    "colab": {
     "base_uri": "https://localhost:8080/",
     "height": 226
    },
    "id": "JVrHcRueMQUV",
    "executionInfo": {
     "status": "ok",
     "timestamp": 1719940481573,
     "user_tz": -120,
     "elapsed": 303,
     "user": {
      "displayName": "Annalaura Miglino",
      "userId": "03808724092990969006"
     }
    },
    "outputId": "1284a6ce-a9b6-4ac9-e758-9bc9d5af9dbe"
   }
  },
  {
   "cell_type": "markdown",
   "source": [
    "\n",
    "\n",
    "---\n",
    "\n"
   ],
   "metadata": {
    "id": "OALwWsT7VTmi"
   }
  },
  {
   "cell_type": "markdown",
   "source": [
    "Per migliorare le prestazioni degli algoritmi di Machine Learning, la deviazione standard deve essere ad 1. Per cui, per i restanti attributi con valori enormi, si è proceduto a considerare solo lo Standard Scaler."
   ],
   "metadata": {
    "id": "gG74auBRUYGJ"
   }
  },
  {
   "cell_type": "code",
   "source": [
    "# Memorizzo i valori standardizzati in 'diggCount'\n",
    "df_copy['diggCount'] = df_standardized['diggCount'].values"
   ],
   "metadata": {
    "id": "2S716JTnVA_P",
    "executionInfo": {
     "status": "ok",
     "timestamp": 1719940481573,
     "user_tz": -120,
     "elapsed": 5,
     "user": {
      "displayName": "Annalaura Miglino",
      "userId": "03808724092990969006"
     }
    }
   },
   "execution_count": 34,
   "outputs": []
  },
  {
   "cell_type": "code",
   "source": [
    "df_copy.head()"
   ],
   "metadata": {
    "colab": {
     "base_uri": "https://localhost:8080/",
     "height": 226
    },
    "id": "MqaJyai9VFhN",
    "executionInfo": {
     "status": "ok",
     "timestamp": 1719940482824,
     "user_tz": -120,
     "elapsed": 1256,
     "user": {
      "displayName": "Annalaura Miglino",
      "userId": "03808724092990969006"
     }
    },
    "outputId": "50fcb92e-8ffd-49c7-cc0a-11d31f7c242d"
   },
   "execution_count": 35,
   "outputs": [
    {
     "output_type": "execute_result",
     "data": {
      "text/plain": [
       "   diggCount  followerCount  followingCount  heartCount  videoCount  \\\n",
       "0  -0.187448              0             564           0           0   \n",
       "1  -0.122748             71            9980           0           0   \n",
       "2   0.001863            596            1123        2062         266   \n",
       "3  -0.041575            200             818         435          36   \n",
       "4  -0.183576              0             604           0           0   \n",
       "\n",
       "   commentSetting  downloadSetting  duetSetting     nickname  openFavorite  \\\n",
       "0               0                0            0    Tik Toker         False   \n",
       "1               0                0            0       BEULAH          True   \n",
       "2               0                0            0      Lello27         False   \n",
       "3               0                0            0  clemevitale         False   \n",
       "4               0                0            0    Tik Toker         False   \n",
       "\n",
       "  signature  stitchSetting                uniqueId  verified   fake  fakeNum  \\\n",
       "0                        0           gyzituvigy542     False   True        1   \n",
       "1                        0   tshphjtowl2401583tbww     False   True        1   \n",
       "2                        0  aristanismamojadanuoro     False  False        0   \n",
       "3                        0             clemevitale     False  False        0   \n",
       "4                        0          exidyvetoqygyv     False   True        1   \n",
       "\n",
       "   diggCount_quantile  diggCount_minMax  \n",
       "0            0.312312          0.000723  \n",
       "1            0.825606          0.003103  \n",
       "2            0.885495          0.007687  \n",
       "3            0.871872          0.006089  \n",
       "4            0.450951          0.000865  "
      ],
      "text/html": [
       "\n",
       "  <div id=\"df-718a9577-bc56-4365-a74f-bbd446a86ace\" class=\"colab-df-container\">\n",
       "    <div>\n",
       "<style scoped>\n",
       "    .dataframe tbody tr th:only-of-type {\n",
       "        vertical-align: middle;\n",
       "    }\n",
       "\n",
       "    .dataframe tbody tr th {\n",
       "        vertical-align: top;\n",
       "    }\n",
       "\n",
       "    .dataframe thead th {\n",
       "        text-align: right;\n",
       "    }\n",
       "</style>\n",
       "<table border=\"1\" class=\"dataframe\">\n",
       "  <thead>\n",
       "    <tr style=\"text-align: right;\">\n",
       "      <th></th>\n",
       "      <th>diggCount</th>\n",
       "      <th>followerCount</th>\n",
       "      <th>followingCount</th>\n",
       "      <th>heartCount</th>\n",
       "      <th>videoCount</th>\n",
       "      <th>commentSetting</th>\n",
       "      <th>downloadSetting</th>\n",
       "      <th>duetSetting</th>\n",
       "      <th>nickname</th>\n",
       "      <th>openFavorite</th>\n",
       "      <th>signature</th>\n",
       "      <th>stitchSetting</th>\n",
       "      <th>uniqueId</th>\n",
       "      <th>verified</th>\n",
       "      <th>fake</th>\n",
       "      <th>fakeNum</th>\n",
       "      <th>diggCount_quantile</th>\n",
       "      <th>diggCount_minMax</th>\n",
       "    </tr>\n",
       "  </thead>\n",
       "  <tbody>\n",
       "    <tr>\n",
       "      <th>0</th>\n",
       "      <td>-0.187448</td>\n",
       "      <td>0</td>\n",
       "      <td>564</td>\n",
       "      <td>0</td>\n",
       "      <td>0</td>\n",
       "      <td>0</td>\n",
       "      <td>0</td>\n",
       "      <td>0</td>\n",
       "      <td>Tik Toker</td>\n",
       "      <td>False</td>\n",
       "      <td></td>\n",
       "      <td>0</td>\n",
       "      <td>gyzituvigy542</td>\n",
       "      <td>False</td>\n",
       "      <td>True</td>\n",
       "      <td>1</td>\n",
       "      <td>0.312312</td>\n",
       "      <td>0.000723</td>\n",
       "    </tr>\n",
       "    <tr>\n",
       "      <th>1</th>\n",
       "      <td>-0.122748</td>\n",
       "      <td>71</td>\n",
       "      <td>9980</td>\n",
       "      <td>0</td>\n",
       "      <td>0</td>\n",
       "      <td>0</td>\n",
       "      <td>0</td>\n",
       "      <td>0</td>\n",
       "      <td>BEULAH</td>\n",
       "      <td>True</td>\n",
       "      <td></td>\n",
       "      <td>0</td>\n",
       "      <td>tshphjtowl2401583tbww</td>\n",
       "      <td>False</td>\n",
       "      <td>True</td>\n",
       "      <td>1</td>\n",
       "      <td>0.825606</td>\n",
       "      <td>0.003103</td>\n",
       "    </tr>\n",
       "    <tr>\n",
       "      <th>2</th>\n",
       "      <td>0.001863</td>\n",
       "      <td>596</td>\n",
       "      <td>1123</td>\n",
       "      <td>2062</td>\n",
       "      <td>266</td>\n",
       "      <td>0</td>\n",
       "      <td>0</td>\n",
       "      <td>0</td>\n",
       "      <td>Lello27</td>\n",
       "      <td>False</td>\n",
       "      <td></td>\n",
       "      <td>0</td>\n",
       "      <td>aristanismamojadanuoro</td>\n",
       "      <td>False</td>\n",
       "      <td>False</td>\n",
       "      <td>0</td>\n",
       "      <td>0.885495</td>\n",
       "      <td>0.007687</td>\n",
       "    </tr>\n",
       "    <tr>\n",
       "      <th>3</th>\n",
       "      <td>-0.041575</td>\n",
       "      <td>200</td>\n",
       "      <td>818</td>\n",
       "      <td>435</td>\n",
       "      <td>36</td>\n",
       "      <td>0</td>\n",
       "      <td>0</td>\n",
       "      <td>0</td>\n",
       "      <td>clemevitale</td>\n",
       "      <td>False</td>\n",
       "      <td></td>\n",
       "      <td>0</td>\n",
       "      <td>clemevitale</td>\n",
       "      <td>False</td>\n",
       "      <td>False</td>\n",
       "      <td>0</td>\n",
       "      <td>0.871872</td>\n",
       "      <td>0.006089</td>\n",
       "    </tr>\n",
       "    <tr>\n",
       "      <th>4</th>\n",
       "      <td>-0.183576</td>\n",
       "      <td>0</td>\n",
       "      <td>604</td>\n",
       "      <td>0</td>\n",
       "      <td>0</td>\n",
       "      <td>0</td>\n",
       "      <td>0</td>\n",
       "      <td>0</td>\n",
       "      <td>Tik Toker</td>\n",
       "      <td>False</td>\n",
       "      <td></td>\n",
       "      <td>0</td>\n",
       "      <td>exidyvetoqygyv</td>\n",
       "      <td>False</td>\n",
       "      <td>True</td>\n",
       "      <td>1</td>\n",
       "      <td>0.450951</td>\n",
       "      <td>0.000865</td>\n",
       "    </tr>\n",
       "  </tbody>\n",
       "</table>\n",
       "</div>\n",
       "    <div class=\"colab-df-buttons\">\n",
       "\n",
       "  <div class=\"colab-df-container\">\n",
       "    <button class=\"colab-df-convert\" onclick=\"convertToInteractive('df-718a9577-bc56-4365-a74f-bbd446a86ace')\"\n",
       "            title=\"Convert this dataframe to an interactive table.\"\n",
       "            style=\"display:none;\">\n",
       "\n",
       "  <svg xmlns=\"http://www.w3.org/2000/svg\" height=\"24px\" viewBox=\"0 -960 960 960\">\n",
       "    <path d=\"M120-120v-720h720v720H120Zm60-500h600v-160H180v160Zm220 220h160v-160H400v160Zm0 220h160v-160H400v160ZM180-400h160v-160H180v160Zm440 0h160v-160H620v160ZM180-180h160v-160H180v160Zm440 0h160v-160H620v160Z\"/>\n",
       "  </svg>\n",
       "    </button>\n",
       "\n",
       "  <style>\n",
       "    .colab-df-container {\n",
       "      display:flex;\n",
       "      gap: 12px;\n",
       "    }\n",
       "\n",
       "    .colab-df-convert {\n",
       "      background-color: #E8F0FE;\n",
       "      border: none;\n",
       "      border-radius: 50%;\n",
       "      cursor: pointer;\n",
       "      display: none;\n",
       "      fill: #1967D2;\n",
       "      height: 32px;\n",
       "      padding: 0 0 0 0;\n",
       "      width: 32px;\n",
       "    }\n",
       "\n",
       "    .colab-df-convert:hover {\n",
       "      background-color: #E2EBFA;\n",
       "      box-shadow: 0px 1px 2px rgba(60, 64, 67, 0.3), 0px 1px 3px 1px rgba(60, 64, 67, 0.15);\n",
       "      fill: #174EA6;\n",
       "    }\n",
       "\n",
       "    .colab-df-buttons div {\n",
       "      margin-bottom: 4px;\n",
       "    }\n",
       "\n",
       "    [theme=dark] .colab-df-convert {\n",
       "      background-color: #3B4455;\n",
       "      fill: #D2E3FC;\n",
       "    }\n",
       "\n",
       "    [theme=dark] .colab-df-convert:hover {\n",
       "      background-color: #434B5C;\n",
       "      box-shadow: 0px 1px 3px 1px rgba(0, 0, 0, 0.15);\n",
       "      filter: drop-shadow(0px 1px 2px rgba(0, 0, 0, 0.3));\n",
       "      fill: #FFFFFF;\n",
       "    }\n",
       "  </style>\n",
       "\n",
       "    <script>\n",
       "      const buttonEl =\n",
       "        document.querySelector('#df-718a9577-bc56-4365-a74f-bbd446a86ace button.colab-df-convert');\n",
       "      buttonEl.style.display =\n",
       "        google.colab.kernel.accessAllowed ? 'block' : 'none';\n",
       "\n",
       "      async function convertToInteractive(key) {\n",
       "        const element = document.querySelector('#df-718a9577-bc56-4365-a74f-bbd446a86ace');\n",
       "        const dataTable =\n",
       "          await google.colab.kernel.invokeFunction('convertToInteractive',\n",
       "                                                    [key], {});\n",
       "        if (!dataTable) return;\n",
       "\n",
       "        const docLinkHtml = 'Like what you see? Visit the ' +\n",
       "          '<a target=\"_blank\" href=https://colab.research.google.com/notebooks/data_table.ipynb>data table notebook</a>'\n",
       "          + ' to learn more about interactive tables.';\n",
       "        element.innerHTML = '';\n",
       "        dataTable['output_type'] = 'display_data';\n",
       "        await google.colab.output.renderOutput(dataTable, element);\n",
       "        const docLink = document.createElement('div');\n",
       "        docLink.innerHTML = docLinkHtml;\n",
       "        element.appendChild(docLink);\n",
       "      }\n",
       "    </script>\n",
       "  </div>\n",
       "\n",
       "\n",
       "<div id=\"df-9497a11f-620b-4f45-9009-401fcd7c708b\">\n",
       "  <button class=\"colab-df-quickchart\" onclick=\"quickchart('df-9497a11f-620b-4f45-9009-401fcd7c708b')\"\n",
       "            title=\"Suggest charts\"\n",
       "            style=\"display:none;\">\n",
       "\n",
       "<svg xmlns=\"http://www.w3.org/2000/svg\" height=\"24px\"viewBox=\"0 0 24 24\"\n",
       "     width=\"24px\">\n",
       "    <g>\n",
       "        <path d=\"M19 3H5c-1.1 0-2 .9-2 2v14c0 1.1.9 2 2 2h14c1.1 0 2-.9 2-2V5c0-1.1-.9-2-2-2zM9 17H7v-7h2v7zm4 0h-2V7h2v10zm4 0h-2v-4h2v4z\"/>\n",
       "    </g>\n",
       "</svg>\n",
       "  </button>\n",
       "\n",
       "<style>\n",
       "  .colab-df-quickchart {\n",
       "      --bg-color: #E8F0FE;\n",
       "      --fill-color: #1967D2;\n",
       "      --hover-bg-color: #E2EBFA;\n",
       "      --hover-fill-color: #174EA6;\n",
       "      --disabled-fill-color: #AAA;\n",
       "      --disabled-bg-color: #DDD;\n",
       "  }\n",
       "\n",
       "  [theme=dark] .colab-df-quickchart {\n",
       "      --bg-color: #3B4455;\n",
       "      --fill-color: #D2E3FC;\n",
       "      --hover-bg-color: #434B5C;\n",
       "      --hover-fill-color: #FFFFFF;\n",
       "      --disabled-bg-color: #3B4455;\n",
       "      --disabled-fill-color: #666;\n",
       "  }\n",
       "\n",
       "  .colab-df-quickchart {\n",
       "    background-color: var(--bg-color);\n",
       "    border: none;\n",
       "    border-radius: 50%;\n",
       "    cursor: pointer;\n",
       "    display: none;\n",
       "    fill: var(--fill-color);\n",
       "    height: 32px;\n",
       "    padding: 0;\n",
       "    width: 32px;\n",
       "  }\n",
       "\n",
       "  .colab-df-quickchart:hover {\n",
       "    background-color: var(--hover-bg-color);\n",
       "    box-shadow: 0 1px 2px rgba(60, 64, 67, 0.3), 0 1px 3px 1px rgba(60, 64, 67, 0.15);\n",
       "    fill: var(--button-hover-fill-color);\n",
       "  }\n",
       "\n",
       "  .colab-df-quickchart-complete:disabled,\n",
       "  .colab-df-quickchart-complete:disabled:hover {\n",
       "    background-color: var(--disabled-bg-color);\n",
       "    fill: var(--disabled-fill-color);\n",
       "    box-shadow: none;\n",
       "  }\n",
       "\n",
       "  .colab-df-spinner {\n",
       "    border: 2px solid var(--fill-color);\n",
       "    border-color: transparent;\n",
       "    border-bottom-color: var(--fill-color);\n",
       "    animation:\n",
       "      spin 1s steps(1) infinite;\n",
       "  }\n",
       "\n",
       "  @keyframes spin {\n",
       "    0% {\n",
       "      border-color: transparent;\n",
       "      border-bottom-color: var(--fill-color);\n",
       "      border-left-color: var(--fill-color);\n",
       "    }\n",
       "    20% {\n",
       "      border-color: transparent;\n",
       "      border-left-color: var(--fill-color);\n",
       "      border-top-color: var(--fill-color);\n",
       "    }\n",
       "    30% {\n",
       "      border-color: transparent;\n",
       "      border-left-color: var(--fill-color);\n",
       "      border-top-color: var(--fill-color);\n",
       "      border-right-color: var(--fill-color);\n",
       "    }\n",
       "    40% {\n",
       "      border-color: transparent;\n",
       "      border-right-color: var(--fill-color);\n",
       "      border-top-color: var(--fill-color);\n",
       "    }\n",
       "    60% {\n",
       "      border-color: transparent;\n",
       "      border-right-color: var(--fill-color);\n",
       "    }\n",
       "    80% {\n",
       "      border-color: transparent;\n",
       "      border-right-color: var(--fill-color);\n",
       "      border-bottom-color: var(--fill-color);\n",
       "    }\n",
       "    90% {\n",
       "      border-color: transparent;\n",
       "      border-bottom-color: var(--fill-color);\n",
       "    }\n",
       "  }\n",
       "</style>\n",
       "\n",
       "  <script>\n",
       "    async function quickchart(key) {\n",
       "      const quickchartButtonEl =\n",
       "        document.querySelector('#' + key + ' button');\n",
       "      quickchartButtonEl.disabled = true;  // To prevent multiple clicks.\n",
       "      quickchartButtonEl.classList.add('colab-df-spinner');\n",
       "      try {\n",
       "        const charts = await google.colab.kernel.invokeFunction(\n",
       "            'suggestCharts', [key], {});\n",
       "      } catch (error) {\n",
       "        console.error('Error during call to suggestCharts:', error);\n",
       "      }\n",
       "      quickchartButtonEl.classList.remove('colab-df-spinner');\n",
       "      quickchartButtonEl.classList.add('colab-df-quickchart-complete');\n",
       "    }\n",
       "    (() => {\n",
       "      let quickchartButtonEl =\n",
       "        document.querySelector('#df-9497a11f-620b-4f45-9009-401fcd7c708b button');\n",
       "      quickchartButtonEl.style.display =\n",
       "        google.colab.kernel.accessAllowed ? 'block' : 'none';\n",
       "    })();\n",
       "  </script>\n",
       "</div>\n",
       "\n",
       "    </div>\n",
       "  </div>\n"
      ],
      "application/vnd.google.colaboratory.intrinsic+json": {
       "type": "dataframe",
       "variable_name": "df_copy",
       "summary": "{\n  \"name\": \"df_copy\",\n  \"rows\": 8712,\n  \"fields\": [\n    {\n      \"column\": \"diggCount\",\n      \"properties\": {\n        \"dtype\": \"number\",\n        \"std\": 1.0000573970440993,\n        \"min\": -0.20708998712270674,\n        \"max\": 26.97511147475316,\n        \"num_unique_values\": 2154,\n        \"samples\": [\n          -0.1918127591578607,\n          -0.009964464995660848,\n          -0.08965949751273797\n        ],\n        \"semantic_type\": \"\",\n        \"description\": \"\"\n      }\n    },\n    {\n      \"column\": \"followerCount\",\n      \"properties\": {\n        \"dtype\": \"number\",\n        \"std\": 2024428,\n        \"min\": 0,\n        \"max\": 82300000,\n        \"num_unique_values\": 1587,\n        \"samples\": [\n          397,\n          730,\n          498\n        ],\n        \"semantic_type\": \"\",\n        \"description\": \"\"\n      }\n    },\n    {\n      \"column\": \"followingCount\",\n      \"properties\": {\n        \"dtype\": \"number\",\n        \"std\": 2296,\n        \"min\": 0,\n        \"max\": 10000,\n        \"num_unique_values\": 1611,\n        \"samples\": [\n          548,\n          220,\n          607\n        ],\n        \"semantic_type\": \"\",\n        \"description\": \"\"\n      }\n    },\n    {\n      \"column\": \"heartCount\",\n      \"properties\": {\n        \"dtype\": \"number\",\n        \"std\": 32296147,\n        \"min\": 0,\n        \"max\": 1100000000,\n        \"num_unique_values\": 1930,\n        \"samples\": [\n          856,\n          355800,\n          258600\n        ],\n        \"semantic_type\": \"\",\n        \"description\": \"\"\n      }\n    },\n    {\n      \"column\": \"videoCount\",\n      \"properties\": {\n        \"dtype\": \"number\",\n        \"std\": 206,\n        \"min\": 0,\n        \"max\": 5799,\n        \"num_unique_values\": 497,\n        \"samples\": [\n          292,\n          221,\n          105\n        ],\n        \"semantic_type\": \"\",\n        \"description\": \"\"\n      }\n    },\n    {\n      \"column\": \"commentSetting\",\n      \"properties\": {\n        \"dtype\": \"number\",\n        \"std\": 0,\n        \"min\": 0,\n        \"max\": 3,\n        \"num_unique_values\": 3,\n        \"samples\": [\n          0,\n          1,\n          3\n        ],\n        \"semantic_type\": \"\",\n        \"description\": \"\"\n      }\n    },\n    {\n      \"column\": \"downloadSetting\",\n      \"properties\": {\n        \"dtype\": \"number\",\n        \"std\": 0,\n        \"min\": 0,\n        \"max\": 3,\n        \"num_unique_values\": 2,\n        \"samples\": [\n          3,\n          0\n        ],\n        \"semantic_type\": \"\",\n        \"description\": \"\"\n      }\n    },\n    {\n      \"column\": \"duetSetting\",\n      \"properties\": {\n        \"dtype\": \"number\",\n        \"std\": 0,\n        \"min\": 0,\n        \"max\": 3,\n        \"num_unique_values\": 3,\n        \"samples\": [\n          0,\n          1\n        ],\n        \"semantic_type\": \"\",\n        \"description\": \"\"\n      }\n    },\n    {\n      \"column\": \"nickname\",\n      \"properties\": {\n        \"dtype\": \"string\",\n        \"num_unique_values\": 4527,\n        \"samples\": [\n          \"enzo\",\n          \"Angela Tufano\"\n        ],\n        \"semantic_type\": \"\",\n        \"description\": \"\"\n      }\n    },\n    {\n      \"column\": \"openFavorite\",\n      \"properties\": {\n        \"dtype\": \"boolean\",\n        \"num_unique_values\": 2,\n        \"samples\": [\n          true,\n          false\n        ],\n        \"semantic_type\": \"\",\n        \"description\": \"\"\n      }\n    },\n    {\n      \"column\": \"signature\",\n      \"properties\": {\n        \"dtype\": \"category\",\n        \"num_unique_values\": 988,\n        \"samples\": [\n          \"15//\\ud83c\\uddf5\\ud83c\\uddf8\",\n          \"TANTE NOVIT\\u00c0 SUL MONDO DEL CALCIO\"\n        ],\n        \"semantic_type\": \"\",\n        \"description\": \"\"\n      }\n    },\n    {\n      \"column\": \"stitchSetting\",\n      \"properties\": {\n        \"dtype\": \"number\",\n        \"std\": 0,\n        \"min\": 0,\n        \"max\": 3,\n        \"num_unique_values\": 3,\n        \"samples\": [\n          0,\n          1\n        ],\n        \"semantic_type\": \"\",\n        \"description\": \"\"\n      }\n    },\n    {\n      \"column\": \"uniqueId\",\n      \"properties\": {\n        \"dtype\": \"string\",\n        \"num_unique_values\": 8711,\n        \"samples\": [\n          \"xasxavomutha\",\n          \"ovizosujyqo610\"\n        ],\n        \"semantic_type\": \"\",\n        \"description\": \"\"\n      }\n    },\n    {\n      \"column\": \"verified\",\n      \"properties\": {\n        \"dtype\": \"boolean\",\n        \"num_unique_values\": 2,\n        \"samples\": [\n          true,\n          false\n        ],\n        \"semantic_type\": \"\",\n        \"description\": \"\"\n      }\n    },\n    {\n      \"column\": \"fake\",\n      \"properties\": {\n        \"dtype\": \"boolean\",\n        \"num_unique_values\": 2,\n        \"samples\": [\n          false,\n          true\n        ],\n        \"semantic_type\": \"\",\n        \"description\": \"\"\n      }\n    },\n    {\n      \"column\": \"fakeNum\",\n      \"properties\": {\n        \"dtype\": \"number\",\n        \"std\": 0,\n        \"min\": 0,\n        \"max\": 1,\n        \"num_unique_values\": 2,\n        \"samples\": [\n          0,\n          1\n        ],\n        \"semantic_type\": \"\",\n        \"description\": \"\"\n      }\n    },\n    {\n      \"column\": \"diggCount_quantile\",\n      \"properties\": {\n        \"dtype\": \"number\",\n        \"std\": 0.29782918074297515,\n        \"min\": 0.0,\n        \"max\": 1.0,\n        \"num_unique_values\": 2154,\n        \"samples\": [\n          0.2515849182515849,\n          0.8823208771049373\n        ],\n        \"semantic_type\": \"\",\n        \"description\": \"\"\n      }\n    },\n    {\n      \"column\": \"diggCount_minMax\",\n      \"properties\": {\n        \"dtype\": \"number\",\n        \"std\": 0.036790890482020756,\n        \"min\": 0.0,\n        \"max\": 1.0,\n        \"num_unique_values\": 2154,\n        \"samples\": [\n          0.000562030562030562,\n          0.007252007252007251\n        ],\n        \"semantic_type\": \"\",\n        \"description\": \"\"\n      }\n    }\n  ]\n}"
      }
     },
     "metadata": {},
     "execution_count": 35
    }
   ]
  },
  {
   "cell_type": "markdown",
   "source": [
    "### 3.3 Pulizia *followerCount*"
   ],
   "metadata": {
    "collapsed": false,
    "id": "EZESIBGgMQUW"
   }
  },
  {
   "cell_type": "code",
   "source": [
    "# Visualizziamo l'istogramma del singolo attributo\n",
    "df_copy['followerCount'].hist(bins=16, figsize=(10,5))\n",
    "plt.xlabel('followerCount')\n",
    "plt.ylabel('Frequency')\n",
    "plt.title('Distribution of Follower Count')\n",
    "plt.show()"
   ],
   "metadata": {
    "colab": {
     "base_uri": "https://localhost:8080/",
     "height": 486
    },
    "id": "phOVLBgJVmjB",
    "executionInfo": {
     "status": "ok",
     "timestamp": 1719940483430,
     "user_tz": -120,
     "elapsed": 609,
     "user": {
      "displayName": "Annalaura Miglino",
      "userId": "03808724092990969006"
     }
    },
    "outputId": "be25d2c3-d636-413c-bd4a-1115e459cede"
   },
   "execution_count": 36,
   "outputs": [
    {
     "output_type": "display_data",
     "data": {
      "text/plain": [
       "<Figure size 1000x500 with 1 Axes>"
      ],
      "image/png": "[encoded data removed]"
     },
     "metadata": {}
    }
   ]
  },
  {
   "cell_type": "code",
   "source": [
    "df_copy['followerCount'].describe()"
   ],
   "metadata": {
    "colab": {
     "base_uri": "https://localhost:8080/"
    },
    "id": "WqYg1wPiVsJQ",
    "executionInfo": {
     "status": "ok",
     "timestamp": 1719940483431,
     "user_tz": -120,
     "elapsed": 11,
     "user": {
      "displayName": "Annalaura Miglino",
      "userId": "03808724092990969006"
     }
    },
    "outputId": "a5f0691f-71e6-4112-a58c-b1c29c348c6d"
   },
   "execution_count": 37,
   "outputs": [
    {
     "output_type": "execute_result",
     "data": {
      "text/plain": [
       "count    8.712000e+03\n",
       "mean     1.760103e+05\n",
       "std      2.024428e+06\n",
       "min      0.000000e+00\n",
       "25%      1.000000e+00\n",
       "50%      9.000000e+00\n",
       "75%      2.752500e+02\n",
       "max      8.230000e+07\n",
       "Name: followerCount, dtype: float64"
      ]
     },
     "metadata": {},
     "execution_count": 37
    }
   ]
  },
  {
   "cell_type": "markdown",
   "source": [
    "Essendo che nello StandardScaler considerato prima, abbiamo ottenuto anche i valori di questo attributo, li assegniamo come fatto anche per *diggCount*."
   ],
   "metadata": {
    "id": "hYf2idklVYAq"
   }
  },
  {
   "cell_type": "code",
   "source": [
    "# Memorizzo i valori standardizzati in 'followerCount'\n",
    "df_copy['followerCount'] = df_standardized['followerCount'].values"
   ],
   "metadata": {
    "id": "DrmjValQVefe",
    "executionInfo": {
     "status": "ok",
     "timestamp": 1719940483431,
     "user_tz": -120,
     "elapsed": 9,
     "user": {
      "displayName": "Annalaura Miglino",
      "userId": "03808724092990969006"
     }
    }
   },
   "execution_count": 38,
   "outputs": []
  },
  {
   "cell_type": "code",
   "source": [
    "# Visualizziamo l'istogramma dell'attributo dopo la modifica\n",
    "df_copy['followerCount'].hist(bins=16, figsize=(10,5))\n",
    "plt.xlabel('followerCount')\n",
    "plt.ylabel('Frequency')\n",
    "plt.title('Distribution of Follower Count')\n",
    "plt.show()"
   ],
   "metadata": {
    "colab": {
     "base_uri": "https://localhost:8080/",
     "height": 486
    },
    "id": "EWDsu0D7V2Nj",
    "executionInfo": {
     "status": "ok",
     "timestamp": 1719940483879,
     "user_tz": -120,
     "elapsed": 456,
     "user": {
      "displayName": "Annalaura Miglino",
      "userId": "03808724092990969006"
     }
    },
    "outputId": "63819ed7-fbb2-4553-e8b4-5ac5de5e5fc7"
   },
   "execution_count": 39,
   "outputs": [
    {
     "output_type": "display_data",
     "data": {
      "text/plain": [
       "<Figure size 1000x500 with 1 Axes>"
      ],
      "image/png": "[encoded data removed]"
     },
     "metadata": {}
    }
   ]
  },
  {
   "cell_type": "code",
   "source": [
    "df_copy['followerCount'].describe()"
   ],
   "metadata": {
    "colab": {
     "base_uri": "https://localhost:8080/"
    },
    "id": "iQAr3Z6DV3up",
    "executionInfo": {
     "status": "ok",
     "timestamp": 1719940483879,
     "user_tz": -120,
     "elapsed": 6,
     "user": {
      "displayName": "Annalaura Miglino",
      "userId": "03808724092990969006"
     }
    },
    "outputId": "061dd8c1-d3cd-42d4-9402-c4ad4897a707"
   },
   "execution_count": 40,
   "outputs": [
    {
     "output_type": "execute_result",
     "data": {
      "text/plain": [
       "count    8.712000e+03\n",
       "mean     2.038977e-18\n",
       "std      1.000057e+00\n",
       "min     -8.694820e-02\n",
       "25%     -8.694771e-02\n",
       "50%     -8.694376e-02\n",
       "75%     -8.681223e-02\n",
       "max      4.056884e+01\n",
       "Name: followerCount, dtype: float64"
      ]
     },
     "metadata": {},
     "execution_count": 40
    }
   ]
  },
  {
   "cell_type": "markdown",
   "source": [
    "### 3.5 Pulizia *followingCount*"
   ],
   "metadata": {
    "collapsed": false,
    "id": "Kb0b11LyMQUW"
   }
  },
  {
   "cell_type": "code",
   "execution_count": 41,
   "outputs": [
    {
     "output_type": "display_data",
     "data": {
      "text/plain": [
       "<Figure size 1000x500 with 1 Axes>"
      ],
      "image/png": "[encoded data removed]"
     },
     "metadata": {}
    }
   ],
   "source": [
    "# Visualizziamo l'istogramma del singolo attributo\n",
    "df_copy['followingCount'].hist(bins=16, figsize=(10,5))\n",
    "plt.xlabel('followingCount')\n",
    "plt.ylabel('Frequency')\n",
    "plt.title('Distribution of Following Count')\n",
    "plt.show()"
   ],
   "metadata": {
    "colab": {
     "base_uri": "https://localhost:8080/",
     "height": 486
    },
    "id": "0nxMmgwbMQUX",
    "executionInfo": {
     "status": "ok",
     "timestamp": 1719940484209,
     "user_tz": -120,
     "elapsed": 335,
     "user": {
      "displayName": "Annalaura Miglino",
      "userId": "03808724092990969006"
     }
    },
    "outputId": "041fb5ba-3992-4cb1-d114-6c359f6e3700"
   }
  },
  {
   "cell_type": "code",
   "execution_count": 42,
   "outputs": [
    {
     "output_type": "execute_result",
     "data": {
      "text/plain": [
       "count     8712.000000\n",
       "mean      1121.942034\n",
       "std       2296.741926\n",
       "min          0.000000\n",
       "25%        247.000000\n",
       "50%        540.000000\n",
       "75%        691.000000\n",
       "max      10000.000000\n",
       "Name: followingCount, dtype: float64"
      ]
     },
     "metadata": {},
     "execution_count": 42
    }
   ],
   "source": [
    "df_copy['followingCount'].describe()"
   ],
   "metadata": {
    "colab": {
     "base_uri": "https://localhost:8080/"
    },
    "id": "8AFv-xupMQUX",
    "executionInfo": {
     "status": "ok",
     "timestamp": 1719940484209,
     "user_tz": -120,
     "elapsed": 6,
     "user": {
      "displayName": "Annalaura Miglino",
      "userId": "03808724092990969006"
     }
    },
    "outputId": "09ca4664-dc1f-4946-ecd5-0432a8b26ff2"
   }
  },
  {
   "cell_type": "markdown",
   "source": [
    "Essendo che nello StandardScaler considerato prima, abbiamo ottenuto anche i valori di questo attributo, li assegniamo come fatto anche per diggCount."
   ],
   "metadata": {
    "id": "PSRn5uEnZbXw"
   }
  },
  {
   "cell_type": "code",
   "source": [
    "# Memorizzo i valori standardizzati in 'followingCount'\n",
    "df_copy['followingCount'] = df_standardized['followingCount'].values"
   ],
   "metadata": {
    "id": "FhC3_XGpZce1",
    "executionInfo": {
     "status": "ok",
     "timestamp": 1719940484209,
     "user_tz": -120,
     "elapsed": 5,
     "user": {
      "displayName": "Annalaura Miglino",
      "userId": "03808724092990969006"
     }
    }
   },
   "execution_count": 43,
   "outputs": []
  },
  {
   "cell_type": "code",
   "source": [
    "# Visualizziamo l'istogramma del singolo attributo\n",
    "df_copy['followingCount'].hist(bins=16, figsize=(10,5))\n",
    "plt.xlabel('followingCount')\n",
    "plt.ylabel('Frequency')\n",
    "plt.title('Distribution of Following Count')\n",
    "plt.show()"
   ],
   "metadata": {
    "colab": {
     "base_uri": "https://localhost:8080/",
     "height": 486
    },
    "id": "tmjuGxhRZkfc",
    "executionInfo": {
     "status": "ok",
     "timestamp": 1719940484854,
     "user_tz": -120,
     "elapsed": 650,
     "user": {
      "displayName": "Annalaura Miglino",
      "userId": "03808724092990969006"
     }
    },
    "outputId": "10f2227b-7fe0-4aa4-a6c7-f3fa33e3234b"
   },
   "execution_count": 44,
   "outputs": [
    {
     "output_type": "display_data",
     "data": {
      "text/plain": [
       "<Figure size 1000x500 with 1 Axes>"
      ],
      "image/png": "[encoded data removed]"
     },
     "metadata": {}
    }
   ]
  },
  {
   "cell_type": "code",
   "source": [
    "df_copy['followingCount'].describe()"
   ],
   "metadata": {
    "colab": {
     "base_uri": "https://localhost:8080/"
    },
    "id": "Nm2DCy0mZm-X",
    "executionInfo": {
     "status": "ok",
     "timestamp": 1719940484855,
     "user_tz": -120,
     "elapsed": 13,
     "user": {
      "displayName": "Annalaura Miglino",
      "userId": "03808724092990969006"
     }
    },
    "outputId": "f20982ec-781a-4b26-e180-48510072d779"
   },
   "execution_count": 45,
   "outputs": [
    {
     "output_type": "execute_result",
     "data": {
      "text/plain": [
       "count    8.712000e+03\n",
       "mean     3.894446e-17\n",
       "std      1.000057e+00\n",
       "min     -4.885209e-01\n",
       "25%     -3.809711e-01\n",
       "50%     -2.533917e-01\n",
       "75%     -1.876427e-01\n",
       "max      3.865723e+00\n",
       "Name: followingCount, dtype: float64"
      ]
     },
     "metadata": {},
     "execution_count": 45
    }
   ]
  },
  {
   "cell_type": "markdown",
   "source": [
    "### 3.6 Pulizia *heartCount*"
   ],
   "metadata": {
    "collapsed": false,
    "id": "AE1BU7t5MQUb"
   }
  },
  {
   "cell_type": "code",
   "execution_count": 46,
   "outputs": [
    {
     "output_type": "display_data",
     "data": {
      "text/plain": [
       "<Figure size 1000x500 with 1 Axes>"
      ],
      "image/png": "[encoded data removed]"
     },
     "metadata": {}
    }
   ],
   "source": [
    "# Visualizziamo l'istogramma del singolo attributo\n",
    "df_copy['heartCount'].hist(bins=16, figsize=(10,5))\n",
    "plt.xlabel('heartCount')\n",
    "plt.ylabel('Frequency')\n",
    "plt.title('Distribution of Heart Count')\n",
    "plt.show()"
   ],
   "metadata": {
    "colab": {
     "base_uri": "https://localhost:8080/",
     "height": 486
    },
    "id": "cD0A9Rw0MQUb",
    "executionInfo": {
     "status": "ok",
     "timestamp": 1719940485323,
     "user_tz": -120,
     "elapsed": 478,
     "user": {
      "displayName": "Annalaura Miglino",
      "userId": "03808724092990969006"
     }
    },
    "outputId": "b86b2272-2c69-4011-e50c-882962c24f6d"
   }
  },
  {
   "cell_type": "code",
   "execution_count": 47,
   "outputs": [
    {
     "output_type": "execute_result",
     "data": {
      "text/plain": [
       "count    8.712000e+03\n",
       "mean     2.874989e+06\n",
       "std      3.229615e+07\n",
       "min      0.000000e+00\n",
       "25%      0.000000e+00\n",
       "50%      0.000000e+00\n",
       "75%      1.600000e+02\n",
       "max      1.100000e+09\n",
       "Name: heartCount, dtype: float64"
      ]
     },
     "metadata": {},
     "execution_count": 47
    }
   ],
   "source": [
    "df_copy['heartCount'].describe()"
   ],
   "metadata": {
    "colab": {
     "base_uri": "https://localhost:8080/"
    },
    "id": "GS-5HgjhMQUc",
    "executionInfo": {
     "status": "ok",
     "timestamp": 1719940485324,
     "user_tz": -120,
     "elapsed": 18,
     "user": {
      "displayName": "Annalaura Miglino",
      "userId": "03808724092990969006"
     }
    },
    "outputId": "e432b784-6e36-49b0-d99c-5915ae8f573a"
   }
  },
  {
   "cell_type": "markdown",
   "source": [
    "Essendo che nello StandardScaler considerato prima, abbiamo ottenuto anche i valori di questo attributo, li assegniamo come fatto anche per diggCount."
   ],
   "metadata": {
    "id": "j1dLLTQBZwzy"
   }
  },
  {
   "cell_type": "code",
   "source": [
    "# Memorizzo i valori standardizzati in 'heartCount'\n",
    "df_copy['heartCount'] = df_standardized['heartCount'].values"
   ],
   "metadata": {
    "id": "L6F6taPSZxzE",
    "executionInfo": {
     "status": "ok",
     "timestamp": 1719940485324,
     "user_tz": -120,
     "elapsed": 16,
     "user": {
      "displayName": "Annalaura Miglino",
      "userId": "03808724092990969006"
     }
    }
   },
   "execution_count": 48,
   "outputs": []
  },
  {
   "cell_type": "code",
   "source": [
    "# Visualizziamo l'istogramma del singolo attributo\n",
    "df_copy['heartCount'].hist(bins=16, figsize=(10,5))\n",
    "plt.xlabel('heartCount')\n",
    "plt.ylabel('Frequency')\n",
    "plt.title('Distribution of Heart Count')\n",
    "plt.show()"
   ],
   "metadata": {
    "colab": {
     "base_uri": "https://localhost:8080/",
     "height": 486
    },
    "id": "h6q6bkcIZ5Mv",
    "executionInfo": {
     "status": "ok",
     "timestamp": 1719940485674,
     "user_tz": -120,
     "elapsed": 365,
     "user": {
      "displayName": "Annalaura Miglino",
      "userId": "03808724092990969006"
     }
    },
    "outputId": "fc60c692-88a2-4608-d27a-663b5359e326"
   },
   "execution_count": 49,
   "outputs": [
    {
     "output_type": "display_data",
     "data": {
      "text/plain": [
       "<Figure size 1000x500 with 1 Axes>"
      ],
      "image/png": "[encoded data removed]"
     },
     "metadata": {}
    }
   ]
  },
  {
   "cell_type": "code",
   "source": [
    "df_copy['heartCount'].describe()"
   ],
   "metadata": {
    "colab": {
     "base_uri": "https://localhost:8080/"
    },
    "id": "ryvEm3jdZ8CR",
    "executionInfo": {
     "status": "ok",
     "timestamp": 1719940485675,
     "user_tz": -120,
     "elapsed": 5,
     "user": {
      "displayName": "Annalaura Miglino",
      "userId": "03808724092990969006"
     }
    },
    "outputId": "3a2d01a9-572b-45e2-8ba7-7e55c130db3e"
   },
   "execution_count": 50,
   "outputs": [
    {
     "output_type": "execute_result",
     "data": {
      "text/plain": [
       "count    8.712000e+03\n",
       "mean     3.874056e-18\n",
       "std      1.000057e+00\n",
       "min     -8.902466e-02\n",
       "25%     -8.902466e-02\n",
       "50%     -8.902466e-02\n",
       "75%     -8.901971e-02\n",
       "max      3.397272e+01\n",
       "Name: heartCount, dtype: float64"
      ]
     },
     "metadata": {},
     "execution_count": 50
    }
   ]
  },
  {
   "cell_type": "markdown",
   "source": [
    "### 3.7 Pulizia *videoCount*"
   ],
   "metadata": {
    "collapsed": false,
    "id": "s-RkCDTtMQUf"
   }
  },
  {
   "cell_type": "code",
   "source": [
    "# Visualizziamo l'istogramma del singolo attributo\n",
    "df_copy['videoCount'].hist(bins=16, figsize=(10,5))\n",
    "plt.xlabel('videoCount')\n",
    "plt.ylabel('Frequency')\n",
    "plt.title('Distribution of Video Count')\n",
    "plt.show()"
   ],
   "metadata": {
    "colab": {
     "base_uri": "https://localhost:8080/",
     "height": 482
    },
    "id": "6slSjijPZ-ss",
    "executionInfo": {
     "status": "ok",
     "timestamp": 1719940486421,
     "user_tz": -120,
     "elapsed": 750,
     "user": {
      "displayName": "Annalaura Miglino",
      "userId": "03808724092990969006"
     }
    },
    "outputId": "24ff811c-1857-407b-d82d-2262d38f7588"
   },
   "execution_count": 51,
   "outputs": [
    {
     "output_type": "display_data",
     "data": {
      "text/plain": [
       "<Figure size 1000x500 with 1 Axes>"
      ],
      "image/png": "[encoded data removed]"
     },
     "metadata": {}
    }
   ]
  },
  {
   "cell_type": "code",
   "source": [
    "df_copy['videoCount'].describe()"
   ],
   "metadata": {
    "colab": {
     "base_uri": "https://localhost:8080/"
    },
    "id": "bSi4UAlYaCmo",
    "executionInfo": {
     "status": "ok",
     "timestamp": 1719940486422,
     "user_tz": -120,
     "elapsed": 13,
     "user": {
      "displayName": "Annalaura Miglino",
      "userId": "03808724092990969006"
     }
    },
    "outputId": "db7ed243-b3e0-4422-f78a-2dfe9fff6a61"
   },
   "execution_count": 52,
   "outputs": [
    {
     "output_type": "execute_result",
     "data": {
      "text/plain": [
       "count    8712.000000\n",
       "mean       41.547062\n",
       "std       206.774548\n",
       "min         0.000000\n",
       "25%         0.000000\n",
       "50%         0.000000\n",
       "75%        11.000000\n",
       "max      5799.000000\n",
       "Name: videoCount, dtype: float64"
      ]
     },
     "metadata": {},
     "execution_count": 52
    }
   ]
  },
  {
   "cell_type": "markdown",
   "source": [
    "Essendo che nello StandardScaler considerato prima, abbiamo ottenuto anche i valori di questo attributo, li assegniamo come fatto anche per diggCount."
   ],
   "metadata": {
    "id": "ME15y2xOaGAp"
   }
  },
  {
   "cell_type": "code",
   "source": [
    "# Memorizzo i valori standardizzati in 'videoCount'\n",
    "df_copy['videoCount'] = df_standardized['videoCount'].values"
   ],
   "metadata": {
    "id": "jyKGdZXjaFZq",
    "executionInfo": {
     "status": "ok",
     "timestamp": 1719940486422,
     "user_tz": -120,
     "elapsed": 9,
     "user": {
      "displayName": "Annalaura Miglino",
      "userId": "03808724092990969006"
     }
    }
   },
   "execution_count": 53,
   "outputs": []
  },
  {
   "cell_type": "code",
   "source": [
    "# Visualizziamo l'istogramma del singolo attributo\n",
    "df_copy['videoCount'].hist(bins=16, figsize=(10,5))\n",
    "plt.xlabel('videoCount')\n",
    "plt.ylabel('Frequency')\n",
    "plt.title('Distribution of Video Count')\n",
    "plt.show()"
   ],
   "metadata": {
    "colab": {
     "base_uri": "https://localhost:8080/",
     "height": 486
    },
    "id": "uQmDLq5RaMcx",
    "executionInfo": {
     "status": "ok",
     "timestamp": 1719940486976,
     "user_tz": -120,
     "elapsed": 562,
     "user": {
      "displayName": "Annalaura Miglino",
      "userId": "03808724092990969006"
     }
    },
    "outputId": "c9d20243-f398-47c7-ecc0-5f2c681ed963"
   },
   "execution_count": 54,
   "outputs": [
    {
     "output_type": "display_data",
     "data": {
      "text/plain": [
       "<Figure size 1000x500 with 1 Axes>"
      ],
      "image/png": "[encoded data removed]"
     },
     "metadata": {}
    }
   ]
  },
  {
   "cell_type": "code",
   "source": [
    "df_copy['videoCount'].describe()"
   ],
   "metadata": {
    "colab": {
     "base_uri": "https://localhost:8080/"
    },
    "id": "gc_9Fv_HaPCN",
    "executionInfo": {
     "status": "ok",
     "timestamp": 1719940487260,
     "user_tz": -120,
     "elapsed": 293,
     "user": {
      "displayName": "Annalaura Miglino",
      "userId": "03808724092990969006"
     }
    },
    "outputId": "be8d239c-89fd-4cc2-ad0a-4ea1ae1bd70c"
   },
   "execution_count": 55,
   "outputs": [
    {
     "output_type": "execute_result",
     "data": {
      "text/plain": [
       "count    8.712000e+03\n",
       "mean    -3.241974e-17\n",
       "std      1.000057e+00\n",
       "min     -2.009408e-01\n",
       "25%     -2.009408e-01\n",
       "50%     -2.009408e-01\n",
       "75%     -1.477397e-01\n",
       "max      2.784571e+01\n",
       "Name: videoCount, dtype: float64"
      ]
     },
     "metadata": {},
     "execution_count": 55
    }
   ]
  },
  {
   "cell_type": "markdown",
   "source": [
    "## 4. Rimozione feature"
   ],
   "metadata": {
    "collapsed": false,
    "id": "uuzkU0loMQUg"
   }
  },
  {
   "cell_type": "markdown",
   "source": [
    "> Si procede a rilevare la matrice delle correlazioni dopo la pulizia, e verificare se l'attributo *commentSetting* è ancora poco correlato."
   ],
   "metadata": {
    "collapsed": false,
    "id": "V_28E5w1MQUh"
   }
  },
  {
   "cell_type": "code",
   "source": [
    "# Seleziono solo le colonne numeriche, dato che su quelle si può calcolare la matrice di correlazione\n",
    "selected_data = df[['diggCount', 'followerCount', 'followingCount', 'heartCount',\n",
    "                      'videoCount', 'commentSetting', 'downloadSetting', 'duetSetting', 'stitchSetting', 'fake']]\n",
    "corr_matrix = selected_data.corr()\n",
    "corr_matrix['fake'].sort_values(ascending=False)"
   ],
   "metadata": {
    "colab": {
     "base_uri": "https://localhost:8080/"
    },
    "id": "aQ94jiA9af50",
    "executionInfo": {
     "status": "ok",
     "timestamp": 1719940583864,
     "user_tz": -120,
     "elapsed": 257,
     "user": {
      "displayName": "Annalaura Miglino",
      "userId": "03808724092990969006"
     }
    },
    "outputId": "bcb7c135-22af-404e-ce14-fec55fb670d0"
   },
   "execution_count": 56,
   "outputs": [
    {
     "output_type": "execute_result",
     "data": {
      "text/plain": [
       "fake               1.000000\n",
       "followingCount     0.250169\n",
       "commentSetting    -0.067205\n",
       "followerCount     -0.102048\n",
       "heartCount        -0.104520\n",
       "duetSetting       -0.186717\n",
       "stitchSetting     -0.190654\n",
       "diggCount         -0.204800\n",
       "videoCount        -0.210097\n",
       "downloadSetting   -0.227304\n",
       "Name: fake, dtype: float64"
      ]
     },
     "metadata": {},
     "execution_count": 56
    }
   ]
  },
  {
   "cell_type": "markdown",
   "source": [
    "L'assenza di correlazione si è verificata anche dopo la pulizia, per cui si procede a rimuovere l'attributo."
   ],
   "metadata": {
    "id": "PAyMoixYajBG"
   }
  },
  {
   "cell_type": "code",
   "execution_count": 57,
   "outputs": [
    {
     "output_type": "execute_result",
     "data": {
      "text/plain": [
       "   diggCount  followerCount  followingCount  heartCount  videoCount  \\\n",
       "0  -0.187448      -0.086948       -0.242942   -0.089025   -0.200941   \n",
       "1  -0.122748      -0.086913        3.857014   -0.089025   -0.200941   \n",
       "2   0.001863      -0.086654        0.000461   -0.088961    1.085558   \n",
       "3  -0.041575      -0.086849       -0.132344   -0.089011   -0.026828   \n",
       "4  -0.183576      -0.086948       -0.225525   -0.089025   -0.200941   \n",
       "\n",
       "   downloadSetting  duetSetting     nickname  openFavorite signature  \\\n",
       "0                0            0    Tik Toker         False             \n",
       "1                0            0       BEULAH          True             \n",
       "2                0            0      Lello27         False             \n",
       "3                0            0  clemevitale         False             \n",
       "4                0            0    Tik Toker         False             \n",
       "\n",
       "   stitchSetting                uniqueId  verified   fake  fakeNum  \\\n",
       "0              0           gyzituvigy542     False   True        1   \n",
       "1              0   tshphjtowl2401583tbww     False   True        1   \n",
       "2              0  aristanismamojadanuoro     False  False        0   \n",
       "3              0             clemevitale     False  False        0   \n",
       "4              0          exidyvetoqygyv     False   True        1   \n",
       "\n",
       "   diggCount_quantile  diggCount_minMax  \n",
       "0            0.312312          0.000723  \n",
       "1            0.825606          0.003103  \n",
       "2            0.885495          0.007687  \n",
       "3            0.871872          0.006089  \n",
       "4            0.450951          0.000865  "
      ],
      "text/html": [
       "\n",
       "  <div id=\"df-033dca91-7f4c-45e1-b04a-191015554cf8\" class=\"colab-df-container\">\n",
       "    <div>\n",
       "<style scoped>\n",
       "    .dataframe tbody tr th:only-of-type {\n",
       "        vertical-align: middle;\n",
       "    }\n",
       "\n",
       "    .dataframe tbody tr th {\n",
       "        vertical-align: top;\n",
       "    }\n",
       "\n",
       "    .dataframe thead th {\n",
       "        text-align: right;\n",
       "    }\n",
       "</style>\n",
       "<table border=\"1\" class=\"dataframe\">\n",
       "  <thead>\n",
       "    <tr style=\"text-align: right;\">\n",
       "      <th></th>\n",
       "      <th>diggCount</th>\n",
       "      <th>followerCount</th>\n",
       "      <th>followingCount</th>\n",
       "      <th>heartCount</th>\n",
       "      <th>videoCount</th>\n",
       "      <th>downloadSetting</th>\n",
       "      <th>duetSetting</th>\n",
       "      <th>nickname</th>\n",
       "      <th>openFavorite</th>\n",
       "      <th>signature</th>\n",
       "      <th>stitchSetting</th>\n",
       "      <th>uniqueId</th>\n",
       "      <th>verified</th>\n",
       "      <th>fake</th>\n",
       "      <th>fakeNum</th>\n",
       "      <th>diggCount_quantile</th>\n",
       "      <th>diggCount_minMax</th>\n",
       "    </tr>\n",
       "  </thead>\n",
       "  <tbody>\n",
       "    <tr>\n",
       "      <th>0</th>\n",
       "      <td>-0.187448</td>\n",
       "      <td>-0.086948</td>\n",
       "      <td>-0.242942</td>\n",
       "      <td>-0.089025</td>\n",
       "      <td>-0.200941</td>\n",
       "      <td>0</td>\n",
       "      <td>0</td>\n",
       "      <td>Tik Toker</td>\n",
       "      <td>False</td>\n",
       "      <td></td>\n",
       "      <td>0</td>\n",
       "      <td>gyzituvigy542</td>\n",
       "      <td>False</td>\n",
       "      <td>True</td>\n",
       "      <td>1</td>\n",
       "      <td>0.312312</td>\n",
       "      <td>0.000723</td>\n",
       "    </tr>\n",
       "    <tr>\n",
       "      <th>1</th>\n",
       "      <td>-0.122748</td>\n",
       "      <td>-0.086913</td>\n",
       "      <td>3.857014</td>\n",
       "      <td>-0.089025</td>\n",
       "      <td>-0.200941</td>\n",
       "      <td>0</td>\n",
       "      <td>0</td>\n",
       "      <td>BEULAH</td>\n",
       "      <td>True</td>\n",
       "      <td></td>\n",
       "      <td>0</td>\n",
       "      <td>tshphjtowl2401583tbww</td>\n",
       "      <td>False</td>\n",
       "      <td>True</td>\n",
       "      <td>1</td>\n",
       "      <td>0.825606</td>\n",
       "      <td>0.003103</td>\n",
       "    </tr>\n",
       "    <tr>\n",
       "      <th>2</th>\n",
       "      <td>0.001863</td>\n",
       "      <td>-0.086654</td>\n",
       "      <td>0.000461</td>\n",
       "      <td>-0.088961</td>\n",
       "      <td>1.085558</td>\n",
       "      <td>0</td>\n",
       "      <td>0</td>\n",
       "      <td>Lello27</td>\n",
       "      <td>False</td>\n",
       "      <td></td>\n",
       "      <td>0</td>\n",
       "      <td>aristanismamojadanuoro</td>\n",
       "      <td>False</td>\n",
       "      <td>False</td>\n",
       "      <td>0</td>\n",
       "      <td>0.885495</td>\n",
       "      <td>0.007687</td>\n",
       "    </tr>\n",
       "    <tr>\n",
       "      <th>3</th>\n",
       "      <td>-0.041575</td>\n",
       "      <td>-0.086849</td>\n",
       "      <td>-0.132344</td>\n",
       "      <td>-0.089011</td>\n",
       "      <td>-0.026828</td>\n",
       "      <td>0</td>\n",
       "      <td>0</td>\n",
       "      <td>clemevitale</td>\n",
       "      <td>False</td>\n",
       "      <td></td>\n",
       "      <td>0</td>\n",
       "      <td>clemevitale</td>\n",
       "      <td>False</td>\n",
       "      <td>False</td>\n",
       "      <td>0</td>\n",
       "      <td>0.871872</td>\n",
       "      <td>0.006089</td>\n",
       "    </tr>\n",
       "    <tr>\n",
       "      <th>4</th>\n",
       "      <td>-0.183576</td>\n",
       "      <td>-0.086948</td>\n",
       "      <td>-0.225525</td>\n",
       "      <td>-0.089025</td>\n",
       "      <td>-0.200941</td>\n",
       "      <td>0</td>\n",
       "      <td>0</td>\n",
       "      <td>Tik Toker</td>\n",
       "      <td>False</td>\n",
       "      <td></td>\n",
       "      <td>0</td>\n",
       "      <td>exidyvetoqygyv</td>\n",
       "      <td>False</td>\n",
       "      <td>True</td>\n",
       "      <td>1</td>\n",
       "      <td>0.450951</td>\n",
       "      <td>0.000865</td>\n",
       "    </tr>\n",
       "  </tbody>\n",
       "</table>\n",
       "</div>\n",
       "    <div class=\"colab-df-buttons\">\n",
       "\n",
       "  <div class=\"colab-df-container\">\n",
       "    <button class=\"colab-df-convert\" onclick=\"convertToInteractive('df-033dca91-7f4c-45e1-b04a-191015554cf8')\"\n",
       "            title=\"Convert this dataframe to an interactive table.\"\n",
       "            style=\"display:none;\">\n",
       "\n",
       "  <svg xmlns=\"http://www.w3.org/2000/svg\" height=\"24px\" viewBox=\"0 -960 960 960\">\n",
       "    <path d=\"M120-120v-720h720v720H120Zm60-500h600v-160H180v160Zm220 220h160v-160H400v160Zm0 220h160v-160H400v160ZM180-400h160v-160H180v160Zm440 0h160v-160H620v160ZM180-180h160v-160H180v160Zm440 0h160v-160H620v160Z\"/>\n",
       "  </svg>\n",
       "    </button>\n",
       "\n",
       "  <style>\n",
       "    .colab-df-container {\n",
       "      display:flex;\n",
       "      gap: 12px;\n",
       "    }\n",
       "\n",
       "    .colab-df-convert {\n",
       "      background-color: #E8F0FE;\n",
       "      border: none;\n",
       "      border-radius: 50%;\n",
       "      cursor: pointer;\n",
       "      display: none;\n",
       "      fill: #1967D2;\n",
       "      height: 32px;\n",
       "      padding: 0 0 0 0;\n",
       "      width: 32px;\n",
       "    }\n",
       "\n",
       "    .colab-df-convert:hover {\n",
       "      background-color: #E2EBFA;\n",
       "      box-shadow: 0px 1px 2px rgba(60, 64, 67, 0.3), 0px 1px 3px 1px rgba(60, 64, 67, 0.15);\n",
       "      fill: #174EA6;\n",
       "    }\n",
       "\n",
       "    .colab-df-buttons div {\n",
       "      margin-bottom: 4px;\n",
       "    }\n",
       "\n",
       "    [theme=dark] .colab-df-convert {\n",
       "      background-color: #3B4455;\n",
       "      fill: #D2E3FC;\n",
       "    }\n",
       "\n",
       "    [theme=dark] .colab-df-convert:hover {\n",
       "      background-color: #434B5C;\n",
       "      box-shadow: 0px 1px 3px 1px rgba(0, 0, 0, 0.15);\n",
       "      filter: drop-shadow(0px 1px 2px rgba(0, 0, 0, 0.3));\n",
       "      fill: #FFFFFF;\n",
       "    }\n",
       "  </style>\n",
       "\n",
       "    <script>\n",
       "      const buttonEl =\n",
       "        document.querySelector('#df-033dca91-7f4c-45e1-b04a-191015554cf8 button.colab-df-convert');\n",
       "      buttonEl.style.display =\n",
       "        google.colab.kernel.accessAllowed ? 'block' : 'none';\n",
       "\n",
       "      async function convertToInteractive(key) {\n",
       "        const element = document.querySelector('#df-033dca91-7f4c-45e1-b04a-191015554cf8');\n",
       "        const dataTable =\n",
       "          await google.colab.kernel.invokeFunction('convertToInteractive',\n",
       "                                                    [key], {});\n",
       "        if (!dataTable) return;\n",
       "\n",
       "        const docLinkHtml = 'Like what you see? Visit the ' +\n",
       "          '<a target=\"_blank\" href=https://colab.research.google.com/notebooks/data_table.ipynb>data table notebook</a>'\n",
       "          + ' to learn more about interactive tables.';\n",
       "        element.innerHTML = '';\n",
       "        dataTable['output_type'] = 'display_data';\n",
       "        await google.colab.output.renderOutput(dataTable, element);\n",
       "        const docLink = document.createElement('div');\n",
       "        docLink.innerHTML = docLinkHtml;\n",
       "        element.appendChild(docLink);\n",
       "      }\n",
       "    </script>\n",
       "  </div>\n",
       "\n",
       "\n",
       "<div id=\"df-49ab1d17-8b3d-452c-a91d-f0a086a8329c\">\n",
       "  <button class=\"colab-df-quickchart\" onclick=\"quickchart('df-49ab1d17-8b3d-452c-a91d-f0a086a8329c')\"\n",
       "            title=\"Suggest charts\"\n",
       "            style=\"display:none;\">\n",
       "\n",
       "<svg xmlns=\"http://www.w3.org/2000/svg\" height=\"24px\"viewBox=\"0 0 24 24\"\n",
       "     width=\"24px\">\n",
       "    <g>\n",
       "        <path d=\"M19 3H5c-1.1 0-2 .9-2 2v14c0 1.1.9 2 2 2h14c1.1 0 2-.9 2-2V5c0-1.1-.9-2-2-2zM9 17H7v-7h2v7zm4 0h-2V7h2v10zm4 0h-2v-4h2v4z\"/>\n",
       "    </g>\n",
       "</svg>\n",
       "  </button>\n",
       "\n",
       "<style>\n",
       "  .colab-df-quickchart {\n",
       "      --bg-color: #E8F0FE;\n",
       "      --fill-color: #1967D2;\n",
       "      --hover-bg-color: #E2EBFA;\n",
       "      --hover-fill-color: #174EA6;\n",
       "      --disabled-fill-color: #AAA;\n",
       "      --disabled-bg-color: #DDD;\n",
       "  }\n",
       "\n",
       "  [theme=dark] .colab-df-quickchart {\n",
       "      --bg-color: #3B4455;\n",
       "      --fill-color: #D2E3FC;\n",
       "      --hover-bg-color: #434B5C;\n",
       "      --hover-fill-color: #FFFFFF;\n",
       "      --disabled-bg-color: #3B4455;\n",
       "      --disabled-fill-color: #666;\n",
       "  }\n",
       "\n",
       "  .colab-df-quickchart {\n",
       "    background-color: var(--bg-color);\n",
       "    border: none;\n",
       "    border-radius: 50%;\n",
       "    cursor: pointer;\n",
       "    display: none;\n",
       "    fill: var(--fill-color);\n",
       "    height: 32px;\n",
       "    padding: 0;\n",
       "    width: 32px;\n",
       "  }\n",
       "\n",
       "  .colab-df-quickchart:hover {\n",
       "    background-color: var(--hover-bg-color);\n",
       "    box-shadow: 0 1px 2px rgba(60, 64, 67, 0.3), 0 1px 3px 1px rgba(60, 64, 67, 0.15);\n",
       "    fill: var(--button-hover-fill-color);\n",
       "  }\n",
       "\n",
       "  .colab-df-quickchart-complete:disabled,\n",
       "  .colab-df-quickchart-complete:disabled:hover {\n",
       "    background-color: var(--disabled-bg-color);\n",
       "    fill: var(--disabled-fill-color);\n",
       "    box-shadow: none;\n",
       "  }\n",
       "\n",
       "  .colab-df-spinner {\n",
       "    border: 2px solid var(--fill-color);\n",
       "    border-color: transparent;\n",
       "    border-bottom-color: var(--fill-color);\n",
       "    animation:\n",
       "      spin 1s steps(1) infinite;\n",
       "  }\n",
       "\n",
       "  @keyframes spin {\n",
       "    0% {\n",
       "      border-color: transparent;\n",
       "      border-bottom-color: var(--fill-color);\n",
       "      border-left-color: var(--fill-color);\n",
       "    }\n",
       "    20% {\n",
       "      border-color: transparent;\n",
       "      border-left-color: var(--fill-color);\n",
       "      border-top-color: var(--fill-color);\n",
       "    }\n",
       "    30% {\n",
       "      border-color: transparent;\n",
       "      border-left-color: var(--fill-color);\n",
       "      border-top-color: var(--fill-color);\n",
       "      border-right-color: var(--fill-color);\n",
       "    }\n",
       "    40% {\n",
       "      border-color: transparent;\n",
       "      border-right-color: var(--fill-color);\n",
       "      border-top-color: var(--fill-color);\n",
       "    }\n",
       "    60% {\n",
       "      border-color: transparent;\n",
       "      border-right-color: var(--fill-color);\n",
       "    }\n",
       "    80% {\n",
       "      border-color: transparent;\n",
       "      border-right-color: var(--fill-color);\n",
       "      border-bottom-color: var(--fill-color);\n",
       "    }\n",
       "    90% {\n",
       "      border-color: transparent;\n",
       "      border-bottom-color: var(--fill-color);\n",
       "    }\n",
       "  }\n",
       "</style>\n",
       "\n",
       "  <script>\n",
       "    async function quickchart(key) {\n",
       "      const quickchartButtonEl =\n",
       "        document.querySelector('#' + key + ' button');\n",
       "      quickchartButtonEl.disabled = true;  // To prevent multiple clicks.\n",
       "      quickchartButtonEl.classList.add('colab-df-spinner');\n",
       "      try {\n",
       "        const charts = await google.colab.kernel.invokeFunction(\n",
       "            'suggestCharts', [key], {});\n",
       "      } catch (error) {\n",
       "        console.error('Error during call to suggestCharts:', error);\n",
       "      }\n",
       "      quickchartButtonEl.classList.remove('colab-df-spinner');\n",
       "      quickchartButtonEl.classList.add('colab-df-quickchart-complete');\n",
       "    }\n",
       "    (() => {\n",
       "      let quickchartButtonEl =\n",
       "        document.querySelector('#df-49ab1d17-8b3d-452c-a91d-f0a086a8329c button');\n",
       "      quickchartButtonEl.style.display =\n",
       "        google.colab.kernel.accessAllowed ? 'block' : 'none';\n",
       "    })();\n",
       "  </script>\n",
       "</div>\n",
       "\n",
       "    </div>\n",
       "  </div>\n"
      ],
      "application/vnd.google.colaboratory.intrinsic+json": {
       "type": "dataframe",
       "variable_name": "df_copy",
       "summary": "{\n  \"name\": \"df_copy\",\n  \"rows\": 8712,\n  \"fields\": [\n    {\n      \"column\": \"diggCount\",\n      \"properties\": {\n        \"dtype\": \"number\",\n        \"std\": 1.0000573970440993,\n        \"min\": -0.20708998712270674,\n        \"max\": 26.97511147475316,\n        \"num_unique_values\": 2154,\n        \"samples\": [\n          -0.1918127591578607,\n          -0.009964464995660848,\n          -0.08965949751273797\n        ],\n        \"semantic_type\": \"\",\n        \"description\": \"\"\n      }\n    },\n    {\n      \"column\": \"followerCount\",\n      \"properties\": {\n        \"dtype\": \"number\",\n        \"std\": 1.0000573970440996,\n        \"min\": -0.08694820206951176,\n        \"max\": 40.56883778954864,\n        \"num_unique_values\": 1587,\n        \"samples\": [\n          -0.08675208606661172,\n          -0.08658758574176106,\n          -0.08670219257469006\n        ],\n        \"semantic_type\": \"\",\n        \"description\": \"\"\n      }\n    },\n    {\n      \"column\": \"followingCount\",\n      \"properties\": {\n        \"dtype\": \"number\",\n        \"std\": 1.0000573970440993,\n        \"min\": -0.4885208988354849,\n        \"max\": 3.8657227611884046,\n        \"num_unique_values\": 1611,\n        \"samples\": [\n          -0.24990834626617572,\n          -0.3927275383149593,\n          -0.22421830867203477\n        ],\n        \"semantic_type\": \"\",\n        \"description\": \"\"\n      }\n    },\n    {\n      \"column\": \"heartCount\",\n      \"properties\": {\n        \"dtype\": \"number\",\n        \"std\": 1.0000573970440996,\n        \"min\": -0.08902466133230527,\n        \"max\": 33.97272056635501,\n        \"num_unique_values\": 1930,\n        \"samples\": [\n          -0.08899815510147355,\n          -0.07800723501229515,\n          -0.08101705468150533\n        ],\n        \"semantic_type\": \"\",\n        \"description\": \"\"\n      }\n    },\n    {\n      \"column\": \"videoCount\",\n      \"properties\": {\n        \"dtype\": \"number\",\n        \"std\": 1.0000573970440993,\n        \"min\": -0.20094081539313707,\n        \"max\": 27.845706666097406,\n        \"num_unique_values\": 497,\n        \"samples\": [\n          1.211306307316854,\n          0.8679174521373698,\n          0.3068877732525789\n        ],\n        \"semantic_type\": \"\",\n        \"description\": \"\"\n      }\n    },\n    {\n      \"column\": \"downloadSetting\",\n      \"properties\": {\n        \"dtype\": \"number\",\n        \"std\": 0,\n        \"min\": 0,\n        \"max\": 3,\n        \"num_unique_values\": 2,\n        \"samples\": [\n          3,\n          0\n        ],\n        \"semantic_type\": \"\",\n        \"description\": \"\"\n      }\n    },\n    {\n      \"column\": \"duetSetting\",\n      \"properties\": {\n        \"dtype\": \"number\",\n        \"std\": 0,\n        \"min\": 0,\n        \"max\": 3,\n        \"num_unique_values\": 3,\n        \"samples\": [\n          0,\n          1\n        ],\n        \"semantic_type\": \"\",\n        \"description\": \"\"\n      }\n    },\n    {\n      \"column\": \"nickname\",\n      \"properties\": {\n        \"dtype\": \"string\",\n        \"num_unique_values\": 4527,\n        \"samples\": [\n          \"enzo\",\n          \"Angela Tufano\"\n        ],\n        \"semantic_type\": \"\",\n        \"description\": \"\"\n      }\n    },\n    {\n      \"column\": \"openFavorite\",\n      \"properties\": {\n        \"dtype\": \"boolean\",\n        \"num_unique_values\": 2,\n        \"samples\": [\n          true,\n          false\n        ],\n        \"semantic_type\": \"\",\n        \"description\": \"\"\n      }\n    },\n    {\n      \"column\": \"signature\",\n      \"properties\": {\n        \"dtype\": \"category\",\n        \"num_unique_values\": 988,\n        \"samples\": [\n          \"15//\\ud83c\\uddf5\\ud83c\\uddf8\",\n          \"TANTE NOVIT\\u00c0 SUL MONDO DEL CALCIO\"\n        ],\n        \"semantic_type\": \"\",\n        \"description\": \"\"\n      }\n    },\n    {\n      \"column\": \"stitchSetting\",\n      \"properties\": {\n        \"dtype\": \"number\",\n        \"std\": 0,\n        \"min\": 0,\n        \"max\": 3,\n        \"num_unique_values\": 3,\n        \"samples\": [\n          0,\n          1\n        ],\n        \"semantic_type\": \"\",\n        \"description\": \"\"\n      }\n    },\n    {\n      \"column\": \"uniqueId\",\n      \"properties\": {\n        \"dtype\": \"string\",\n        \"num_unique_values\": 8711,\n        \"samples\": [\n          \"xasxavomutha\",\n          \"ovizosujyqo610\"\n        ],\n        \"semantic_type\": \"\",\n        \"description\": \"\"\n      }\n    },\n    {\n      \"column\": \"verified\",\n      \"properties\": {\n        \"dtype\": \"boolean\",\n        \"num_unique_values\": 2,\n        \"samples\": [\n          true,\n          false\n        ],\n        \"semantic_type\": \"\",\n        \"description\": \"\"\n      }\n    },\n    {\n      \"column\": \"fake\",\n      \"properties\": {\n        \"dtype\": \"boolean\",\n        \"num_unique_values\": 2,\n        \"samples\": [\n          false,\n          true\n        ],\n        \"semantic_type\": \"\",\n        \"description\": \"\"\n      }\n    },\n    {\n      \"column\": \"fakeNum\",\n      \"properties\": {\n        \"dtype\": \"number\",\n        \"std\": 0,\n        \"min\": 0,\n        \"max\": 1,\n        \"num_unique_values\": 2,\n        \"samples\": [\n          0,\n          1\n        ],\n        \"semantic_type\": \"\",\n        \"description\": \"\"\n      }\n    },\n    {\n      \"column\": \"diggCount_quantile\",\n      \"properties\": {\n        \"dtype\": \"number\",\n        \"std\": 0.29782918074297515,\n        \"min\": 0.0,\n        \"max\": 1.0,\n        \"num_unique_values\": 2154,\n        \"samples\": [\n          0.2515849182515849,\n          0.8823208771049373\n        ],\n        \"semantic_type\": \"\",\n        \"description\": \"\"\n      }\n    },\n    {\n      \"column\": \"diggCount_minMax\",\n      \"properties\": {\n        \"dtype\": \"number\",\n        \"std\": 0.036790890482020756,\n        \"min\": 0.0,\n        \"max\": 1.0,\n        \"num_unique_values\": 2154,\n        \"samples\": [\n          0.000562030562030562,\n          0.007252007252007251\n        ],\n        \"semantic_type\": \"\",\n        \"description\": \"\"\n      }\n    }\n  ]\n}"
      }
     },
     "metadata": {},
     "execution_count": 57
    }
   ],
   "source": [
    "df_copy = df_copy.drop(labels='commentSetting', axis=1)\n",
    "df_copy.head()"
   ],
   "metadata": {
    "pycharm": {
     "is_executing": true
    },
    "colab": {
     "base_uri": "https://localhost:8080/",
     "height": 226
    },
    "id": "drX_70dCMQUh",
    "executionInfo": {
     "status": "ok",
     "timestamp": 1719940587500,
     "user_tz": -120,
     "elapsed": 285,
     "user": {
      "displayName": "Annalaura Miglino",
      "userId": "03808724092990969006"
     }
    },
    "outputId": "e6e99d43-dcd0-4bde-e1ba-690addf3d18d"
   }
  },
  {
   "cell_type": "markdown",
   "source": [
    "Elimino anche le colonne *diggCount_quantile* e *diggCount_minMax*, create per effettuare le prove precedenti."
   ],
   "metadata": {
    "id": "iAd2nlTNarfm"
   }
  },
  {
   "cell_type": "code",
   "source": [
    "df_copy = df_copy.drop(labels='diggCount_quantile', axis=1)\n",
    "df_copy = df_copy.drop(labels='diggCount_minMax', axis=1)\n",
    "df_copy.head()"
   ],
   "metadata": {
    "colab": {
     "base_uri": "https://localhost:8080/",
     "height": 226
    },
    "id": "OqHV8zvpax_j",
    "executionInfo": {
     "status": "ok",
     "timestamp": 1719940598579,
     "user_tz": -120,
     "elapsed": 298,
     "user": {
      "displayName": "Annalaura Miglino",
      "userId": "03808724092990969006"
     }
    },
    "outputId": "4cf7459b-bd5c-4476-951a-9ed9d95df53a"
   },
   "execution_count": 58,
   "outputs": [
    {
     "output_type": "execute_result",
     "data": {
      "text/plain": [
       "   diggCount  followerCount  followingCount  heartCount  videoCount  \\\n",
       "0  -0.187448      -0.086948       -0.242942   -0.089025   -0.200941   \n",
       "1  -0.122748      -0.086913        3.857014   -0.089025   -0.200941   \n",
       "2   0.001863      -0.086654        0.000461   -0.088961    1.085558   \n",
       "3  -0.041575      -0.086849       -0.132344   -0.089011   -0.026828   \n",
       "4  -0.183576      -0.086948       -0.225525   -0.089025   -0.200941   \n",
       "\n",
       "   downloadSetting  duetSetting     nickname  openFavorite signature  \\\n",
       "0                0            0    Tik Toker         False             \n",
       "1                0            0       BEULAH          True             \n",
       "2                0            0      Lello27         False             \n",
       "3                0            0  clemevitale         False             \n",
       "4                0            0    Tik Toker         False             \n",
       "\n",
       "   stitchSetting                uniqueId  verified   fake  fakeNum  \n",
       "0              0           gyzituvigy542     False   True        1  \n",
       "1              0   tshphjtowl2401583tbww     False   True        1  \n",
       "2              0  aristanismamojadanuoro     False  False        0  \n",
       "3              0             clemevitale     False  False        0  \n",
       "4              0          exidyvetoqygyv     False   True        1  "
      ],
      "text/html": [
       "\n",
       "  <div id=\"df-163bc2c1-85d8-41b0-8491-f0b378c685e2\" class=\"colab-df-container\">\n",
       "    <div>\n",
       "<style scoped>\n",
       "    .dataframe tbody tr th:only-of-type {\n",
       "        vertical-align: middle;\n",
       "    }\n",
       "\n",
       "    .dataframe tbody tr th {\n",
       "        vertical-align: top;\n",
       "    }\n",
       "\n",
       "    .dataframe thead th {\n",
       "        text-align: right;\n",
       "    }\n",
       "</style>\n",
       "<table border=\"1\" class=\"dataframe\">\n",
       "  <thead>\n",
       "    <tr style=\"text-align: right;\">\n",
       "      <th></th>\n",
       "      <th>diggCount</th>\n",
       "      <th>followerCount</th>\n",
       "      <th>followingCount</th>\n",
       "      <th>heartCount</th>\n",
       "      <th>videoCount</th>\n",
       "      <th>downloadSetting</th>\n",
       "      <th>duetSetting</th>\n",
       "      <th>nickname</th>\n",
       "      <th>openFavorite</th>\n",
       "      <th>signature</th>\n",
       "      <th>stitchSetting</th>\n",
       "      <th>uniqueId</th>\n",
       "      <th>verified</th>\n",
       "      <th>fake</th>\n",
       "      <th>fakeNum</th>\n",
       "    </tr>\n",
       "  </thead>\n",
       "  <tbody>\n",
       "    <tr>\n",
       "      <th>0</th>\n",
       "      <td>-0.187448</td>\n",
       "      <td>-0.086948</td>\n",
       "      <td>-0.242942</td>\n",
       "      <td>-0.089025</td>\n",
       "      <td>-0.200941</td>\n",
       "      <td>0</td>\n",
       "      <td>0</td>\n",
       "      <td>Tik Toker</td>\n",
       "      <td>False</td>\n",
       "      <td></td>\n",
       "      <td>0</td>\n",
       "      <td>gyzituvigy542</td>\n",
       "      <td>False</td>\n",
       "      <td>True</td>\n",
       "      <td>1</td>\n",
       "    </tr>\n",
       "    <tr>\n",
       "      <th>1</th>\n",
       "      <td>-0.122748</td>\n",
       "      <td>-0.086913</td>\n",
       "      <td>3.857014</td>\n",
       "      <td>-0.089025</td>\n",
       "      <td>-0.200941</td>\n",
       "      <td>0</td>\n",
       "      <td>0</td>\n",
       "      <td>BEULAH</td>\n",
       "      <td>True</td>\n",
       "      <td></td>\n",
       "      <td>0</td>\n",
       "      <td>tshphjtowl2401583tbww</td>\n",
       "      <td>False</td>\n",
       "      <td>True</td>\n",
       "      <td>1</td>\n",
       "    </tr>\n",
       "    <tr>\n",
       "      <th>2</th>\n",
       "      <td>0.001863</td>\n",
       "      <td>-0.086654</td>\n",
       "      <td>0.000461</td>\n",
       "      <td>-0.088961</td>\n",
       "      <td>1.085558</td>\n",
       "      <td>0</td>\n",
       "      <td>0</td>\n",
       "      <td>Lello27</td>\n",
       "      <td>False</td>\n",
       "      <td></td>\n",
       "      <td>0</td>\n",
       "      <td>aristanismamojadanuoro</td>\n",
       "      <td>False</td>\n",
       "      <td>False</td>\n",
       "      <td>0</td>\n",
       "    </tr>\n",
       "    <tr>\n",
       "      <th>3</th>\n",
       "      <td>-0.041575</td>\n",
       "      <td>-0.086849</td>\n",
       "      <td>-0.132344</td>\n",
       "      <td>-0.089011</td>\n",
       "      <td>-0.026828</td>\n",
       "      <td>0</td>\n",
       "      <td>0</td>\n",
       "      <td>clemevitale</td>\n",
       "      <td>False</td>\n",
       "      <td></td>\n",
       "      <td>0</td>\n",
       "      <td>clemevitale</td>\n",
       "      <td>False</td>\n",
       "      <td>False</td>\n",
       "      <td>0</td>\n",
       "    </tr>\n",
       "    <tr>\n",
       "      <th>4</th>\n",
       "      <td>-0.183576</td>\n",
       "      <td>-0.086948</td>\n",
       "      <td>-0.225525</td>\n",
       "      <td>-0.089025</td>\n",
       "      <td>-0.200941</td>\n",
       "      <td>0</td>\n",
       "      <td>0</td>\n",
       "      <td>Tik Toker</td>\n",
       "      <td>False</td>\n",
       "      <td></td>\n",
       "      <td>0</td>\n",
       "      <td>exidyvetoqygyv</td>\n",
       "      <td>False</td>\n",
       "      <td>True</td>\n",
       "      <td>1</td>\n",
       "    </tr>\n",
       "  </tbody>\n",
       "</table>\n",
       "</div>\n",
       "    <div class=\"colab-df-buttons\">\n",
       "\n",
       "  <div class=\"colab-df-container\">\n",
       "    <button class=\"colab-df-convert\" onclick=\"convertToInteractive('df-163bc2c1-85d8-41b0-8491-f0b378c685e2')\"\n",
       "            title=\"Convert this dataframe to an interactive table.\"\n",
       "            style=\"display:none;\">\n",
       "\n",
       "  <svg xmlns=\"http://www.w3.org/2000/svg\" height=\"24px\" viewBox=\"0 -960 960 960\">\n",
       "    <path d=\"M120-120v-720h720v720H120Zm60-500h600v-160H180v160Zm220 220h160v-160H400v160Zm0 220h160v-160H400v160ZM180-400h160v-160H180v160Zm440 0h160v-160H620v160ZM180-180h160v-160H180v160Zm440 0h160v-160H620v160Z\"/>\n",
       "  </svg>\n",
       "    </button>\n",
       "\n",
       "  <style>\n",
       "    .colab-df-container {\n",
       "      display:flex;\n",
       "      gap: 12px;\n",
       "    }\n",
       "\n",
       "    .colab-df-convert {\n",
       "      background-color: #E8F0FE;\n",
       "      border: none;\n",
       "      border-radius: 50%;\n",
       "      cursor: pointer;\n",
       "      display: none;\n",
       "      fill: #1967D2;\n",
       "      height: 32px;\n",
       "      padding: 0 0 0 0;\n",
       "      width: 32px;\n",
       "    }\n",
       "\n",
       "    .colab-df-convert:hover {\n",
       "      background-color: #E2EBFA;\n",
       "      box-shadow: 0px 1px 2px rgba(60, 64, 67, 0.3), 0px 1px 3px 1px rgba(60, 64, 67, 0.15);\n",
       "      fill: #174EA6;\n",
       "    }\n",
       "\n",
       "    .colab-df-buttons div {\n",
       "      margin-bottom: 4px;\n",
       "    }\n",
       "\n",
       "    [theme=dark] .colab-df-convert {\n",
       "      background-color: #3B4455;\n",
       "      fill: #D2E3FC;\n",
       "    }\n",
       "\n",
       "    [theme=dark] .colab-df-convert:hover {\n",
       "      background-color: #434B5C;\n",
       "      box-shadow: 0px 1px 3px 1px rgba(0, 0, 0, 0.15);\n",
       "      filter: drop-shadow(0px 1px 2px rgba(0, 0, 0, 0.3));\n",
       "      fill: #FFFFFF;\n",
       "    }\n",
       "  </style>\n",
       "\n",
       "    <script>\n",
       "      const buttonEl =\n",
       "        document.querySelector('#df-163bc2c1-85d8-41b0-8491-f0b378c685e2 button.colab-df-convert');\n",
       "      buttonEl.style.display =\n",
       "        google.colab.kernel.accessAllowed ? 'block' : 'none';\n",
       "\n",
       "      async function convertToInteractive(key) {\n",
       "        const element = document.querySelector('#df-163bc2c1-85d8-41b0-8491-f0b378c685e2');\n",
       "        const dataTable =\n",
       "          await google.colab.kernel.invokeFunction('convertToInteractive',\n",
       "                                                    [key], {});\n",
       "        if (!dataTable) return;\n",
       "\n",
       "        const docLinkHtml = 'Like what you see? Visit the ' +\n",
       "          '<a target=\"_blank\" href=https://colab.research.google.com/notebooks/data_table.ipynb>data table notebook</a>'\n",
       "          + ' to learn more about interactive tables.';\n",
       "        element.innerHTML = '';\n",
       "        dataTable['output_type'] = 'display_data';\n",
       "        await google.colab.output.renderOutput(dataTable, element);\n",
       "        const docLink = document.createElement('div');\n",
       "        docLink.innerHTML = docLinkHtml;\n",
       "        element.appendChild(docLink);\n",
       "      }\n",
       "    </script>\n",
       "  </div>\n",
       "\n",
       "\n",
       "<div id=\"df-2cb97e73-5bd8-4243-a94f-c5c89d66cd8c\">\n",
       "  <button class=\"colab-df-quickchart\" onclick=\"quickchart('df-2cb97e73-5bd8-4243-a94f-c5c89d66cd8c')\"\n",
       "            title=\"Suggest charts\"\n",
       "            style=\"display:none;\">\n",
       "\n",
       "<svg xmlns=\"http://www.w3.org/2000/svg\" height=\"24px\"viewBox=\"0 0 24 24\"\n",
       "     width=\"24px\">\n",
       "    <g>\n",
       "        <path d=\"M19 3H5c-1.1 0-2 .9-2 2v14c0 1.1.9 2 2 2h14c1.1 0 2-.9 2-2V5c0-1.1-.9-2-2-2zM9 17H7v-7h2v7zm4 0h-2V7h2v10zm4 0h-2v-4h2v4z\"/>\n",
       "    </g>\n",
       "</svg>\n",
       "  </button>\n",
       "\n",
       "<style>\n",
       "  .colab-df-quickchart {\n",
       "      --bg-color: #E8F0FE;\n",
       "      --fill-color: #1967D2;\n",
       "      --hover-bg-color: #E2EBFA;\n",
       "      --hover-fill-color: #174EA6;\n",
       "      --disabled-fill-color: #AAA;\n",
       "      --disabled-bg-color: #DDD;\n",
       "  }\n",
       "\n",
       "  [theme=dark] .colab-df-quickchart {\n",
       "      --bg-color: #3B4455;\n",
       "      --fill-color: #D2E3FC;\n",
       "      --hover-bg-color: #434B5C;\n",
       "      --hover-fill-color: #FFFFFF;\n",
       "      --disabled-bg-color: #3B4455;\n",
       "      --disabled-fill-color: #666;\n",
       "  }\n",
       "\n",
       "  .colab-df-quickchart {\n",
       "    background-color: var(--bg-color);\n",
       "    border: none;\n",
       "    border-radius: 50%;\n",
       "    cursor: pointer;\n",
       "    display: none;\n",
       "    fill: var(--fill-color);\n",
       "    height: 32px;\n",
       "    padding: 0;\n",
       "    width: 32px;\n",
       "  }\n",
       "\n",
       "  .colab-df-quickchart:hover {\n",
       "    background-color: var(--hover-bg-color);\n",
       "    box-shadow: 0 1px 2px rgba(60, 64, 67, 0.3), 0 1px 3px 1px rgba(60, 64, 67, 0.15);\n",
       "    fill: var(--button-hover-fill-color);\n",
       "  }\n",
       "\n",
       "  .colab-df-quickchart-complete:disabled,\n",
       "  .colab-df-quickchart-complete:disabled:hover {\n",
       "    background-color: var(--disabled-bg-color);\n",
       "    fill: var(--disabled-fill-color);\n",
       "    box-shadow: none;\n",
       "  }\n",
       "\n",
       "  .colab-df-spinner {\n",
       "    border: 2px solid var(--fill-color);\n",
       "    border-color: transparent;\n",
       "    border-bottom-color: var(--fill-color);\n",
       "    animation:\n",
       "      spin 1s steps(1) infinite;\n",
       "  }\n",
       "\n",
       "  @keyframes spin {\n",
       "    0% {\n",
       "      border-color: transparent;\n",
       "      border-bottom-color: var(--fill-color);\n",
       "      border-left-color: var(--fill-color);\n",
       "    }\n",
       "    20% {\n",
       "      border-color: transparent;\n",
       "      border-left-color: var(--fill-color);\n",
       "      border-top-color: var(--fill-color);\n",
       "    }\n",
       "    30% {\n",
       "      border-color: transparent;\n",
       "      border-left-color: var(--fill-color);\n",
       "      border-top-color: var(--fill-color);\n",
       "      border-right-color: var(--fill-color);\n",
       "    }\n",
       "    40% {\n",
       "      border-color: transparent;\n",
       "      border-right-color: var(--fill-color);\n",
       "      border-top-color: var(--fill-color);\n",
       "    }\n",
       "    60% {\n",
       "      border-color: transparent;\n",
       "      border-right-color: var(--fill-color);\n",
       "    }\n",
       "    80% {\n",
       "      border-color: transparent;\n",
       "      border-right-color: var(--fill-color);\n",
       "      border-bottom-color: var(--fill-color);\n",
       "    }\n",
       "    90% {\n",
       "      border-color: transparent;\n",
       "      border-bottom-color: var(--fill-color);\n",
       "    }\n",
       "  }\n",
       "</style>\n",
       "\n",
       "  <script>\n",
       "    async function quickchart(key) {\n",
       "      const quickchartButtonEl =\n",
       "        document.querySelector('#' + key + ' button');\n",
       "      quickchartButtonEl.disabled = true;  // To prevent multiple clicks.\n",
       "      quickchartButtonEl.classList.add('colab-df-spinner');\n",
       "      try {\n",
       "        const charts = await google.colab.kernel.invokeFunction(\n",
       "            'suggestCharts', [key], {});\n",
       "      } catch (error) {\n",
       "        console.error('Error during call to suggestCharts:', error);\n",
       "      }\n",
       "      quickchartButtonEl.classList.remove('colab-df-spinner');\n",
       "      quickchartButtonEl.classList.add('colab-df-quickchart-complete');\n",
       "    }\n",
       "    (() => {\n",
       "      let quickchartButtonEl =\n",
       "        document.querySelector('#df-2cb97e73-5bd8-4243-a94f-c5c89d66cd8c button');\n",
       "      quickchartButtonEl.style.display =\n",
       "        google.colab.kernel.accessAllowed ? 'block' : 'none';\n",
       "    })();\n",
       "  </script>\n",
       "</div>\n",
       "\n",
       "    </div>\n",
       "  </div>\n"
      ],
      "application/vnd.google.colaboratory.intrinsic+json": {
       "type": "dataframe",
       "variable_name": "df_copy",
       "summary": "{\n  \"name\": \"df_copy\",\n  \"rows\": 8712,\n  \"fields\": [\n    {\n      \"column\": \"diggCount\",\n      \"properties\": {\n        \"dtype\": \"number\",\n        \"std\": 1.0000573970440993,\n        \"min\": -0.20708998712270674,\n        \"max\": 26.97511147475316,\n        \"num_unique_values\": 2154,\n        \"samples\": [\n          -0.1918127591578607,\n          -0.009964464995660848,\n          -0.08965949751273797\n        ],\n        \"semantic_type\": \"\",\n        \"description\": \"\"\n      }\n    },\n    {\n      \"column\": \"followerCount\",\n      \"properties\": {\n        \"dtype\": \"number\",\n        \"std\": 1.0000573970440996,\n        \"min\": -0.08694820206951176,\n        \"max\": 40.56883778954864,\n        \"num_unique_values\": 1587,\n        \"samples\": [\n          -0.08675208606661172,\n          -0.08658758574176106,\n          -0.08670219257469006\n        ],\n        \"semantic_type\": \"\",\n        \"description\": \"\"\n      }\n    },\n    {\n      \"column\": \"followingCount\",\n      \"properties\": {\n        \"dtype\": \"number\",\n        \"std\": 1.0000573970440993,\n        \"min\": -0.4885208988354849,\n        \"max\": 3.8657227611884046,\n        \"num_unique_values\": 1611,\n        \"samples\": [\n          -0.24990834626617572,\n          -0.3927275383149593,\n          -0.22421830867203477\n        ],\n        \"semantic_type\": \"\",\n        \"description\": \"\"\n      }\n    },\n    {\n      \"column\": \"heartCount\",\n      \"properties\": {\n        \"dtype\": \"number\",\n        \"std\": 1.0000573970440996,\n        \"min\": -0.08902466133230527,\n        \"max\": 33.97272056635501,\n        \"num_unique_values\": 1930,\n        \"samples\": [\n          -0.08899815510147355,\n          -0.07800723501229515,\n          -0.08101705468150533\n        ],\n        \"semantic_type\": \"\",\n        \"description\": \"\"\n      }\n    },\n    {\n      \"column\": \"videoCount\",\n      \"properties\": {\n        \"dtype\": \"number\",\n        \"std\": 1.0000573970440993,\n        \"min\": -0.20094081539313707,\n        \"max\": 27.845706666097406,\n        \"num_unique_values\": 497,\n        \"samples\": [\n          1.211306307316854,\n          0.8679174521373698,\n          0.3068877732525789\n        ],\n        \"semantic_type\": \"\",\n        \"description\": \"\"\n      }\n    },\n    {\n      \"column\": \"downloadSetting\",\n      \"properties\": {\n        \"dtype\": \"number\",\n        \"std\": 0,\n        \"min\": 0,\n        \"max\": 3,\n        \"num_unique_values\": 2,\n        \"samples\": [\n          3,\n          0\n        ],\n        \"semantic_type\": \"\",\n        \"description\": \"\"\n      }\n    },\n    {\n      \"column\": \"duetSetting\",\n      \"properties\": {\n        \"dtype\": \"number\",\n        \"std\": 0,\n        \"min\": 0,\n        \"max\": 3,\n        \"num_unique_values\": 3,\n        \"samples\": [\n          0,\n          1\n        ],\n        \"semantic_type\": \"\",\n        \"description\": \"\"\n      }\n    },\n    {\n      \"column\": \"nickname\",\n      \"properties\": {\n        \"dtype\": \"string\",\n        \"num_unique_values\": 4527,\n        \"samples\": [\n          \"enzo\",\n          \"Angela Tufano\"\n        ],\n        \"semantic_type\": \"\",\n        \"description\": \"\"\n      }\n    },\n    {\n      \"column\": \"openFavorite\",\n      \"properties\": {\n        \"dtype\": \"boolean\",\n        \"num_unique_values\": 2,\n        \"samples\": [\n          true,\n          false\n        ],\n        \"semantic_type\": \"\",\n        \"description\": \"\"\n      }\n    },\n    {\n      \"column\": \"signature\",\n      \"properties\": {\n        \"dtype\": \"category\",\n        \"num_unique_values\": 988,\n        \"samples\": [\n          \"15//\\ud83c\\uddf5\\ud83c\\uddf8\",\n          \"TANTE NOVIT\\u00c0 SUL MONDO DEL CALCIO\"\n        ],\n        \"semantic_type\": \"\",\n        \"description\": \"\"\n      }\n    },\n    {\n      \"column\": \"stitchSetting\",\n      \"properties\": {\n        \"dtype\": \"number\",\n        \"std\": 0,\n        \"min\": 0,\n        \"max\": 3,\n        \"num_unique_values\": 3,\n        \"samples\": [\n          0,\n          1\n        ],\n        \"semantic_type\": \"\",\n        \"description\": \"\"\n      }\n    },\n    {\n      \"column\": \"uniqueId\",\n      \"properties\": {\n        \"dtype\": \"string\",\n        \"num_unique_values\": 8711,\n        \"samples\": [\n          \"xasxavomutha\",\n          \"ovizosujyqo610\"\n        ],\n        \"semantic_type\": \"\",\n        \"description\": \"\"\n      }\n    },\n    {\n      \"column\": \"verified\",\n      \"properties\": {\n        \"dtype\": \"boolean\",\n        \"num_unique_values\": 2,\n        \"samples\": [\n          true,\n          false\n        ],\n        \"semantic_type\": \"\",\n        \"description\": \"\"\n      }\n    },\n    {\n      \"column\": \"fake\",\n      \"properties\": {\n        \"dtype\": \"boolean\",\n        \"num_unique_values\": 2,\n        \"samples\": [\n          false,\n          true\n        ],\n        \"semantic_type\": \"\",\n        \"description\": \"\"\n      }\n    },\n    {\n      \"column\": \"fakeNum\",\n      \"properties\": {\n        \"dtype\": \"number\",\n        \"std\": 0,\n        \"min\": 0,\n        \"max\": 1,\n        \"num_unique_values\": 2,\n        \"samples\": [\n          0,\n          1\n        ],\n        \"semantic_type\": \"\",\n        \"description\": \"\"\n      }\n    }\n  ]\n}"
      }
     },
     "metadata": {},
     "execution_count": 58
    }
   ]
  },
  {
   "cell_type": "markdown",
   "source": [
    "Infine, elimino *fakeNum*, colonna creata precedentemente per verificare le correlazioni con la label target."
   ],
   "metadata": {
    "id": "-VMUuMnVctej"
   }
  },
  {
   "cell_type": "code",
   "source": [
    "df_copy = df_copy.drop(labels='fakeNum', axis=1)\n",
    "df_copy.head()"
   ],
   "metadata": {
    "colab": {
     "base_uri": "https://localhost:8080/",
     "height": 226
    },
    "id": "7RN9VugqcyeP",
    "executionInfo": {
     "status": "ok",
     "timestamp": 1719940759801,
     "user_tz": -120,
     "elapsed": 315,
     "user": {
      "displayName": "Annalaura Miglino",
      "userId": "03808724092990969006"
     }
    },
    "outputId": "8b58c392-4c65-4133-c33a-07cc44f71332"
   },
   "execution_count": 65,
   "outputs": [
    {
     "output_type": "execute_result",
     "data": {
      "text/plain": [
       "   diggCount  followerCount  followingCount  heartCount  videoCount  \\\n",
       "0  -0.187448      -0.086948       -0.242942   -0.089025   -0.200941   \n",
       "1  -0.122748      -0.086913        3.857014   -0.089025   -0.200941   \n",
       "2   0.001863      -0.086654        0.000461   -0.088961    1.085558   \n",
       "3  -0.041575      -0.086849       -0.132344   -0.089011   -0.026828   \n",
       "4  -0.183576      -0.086948       -0.225525   -0.089025   -0.200941   \n",
       "\n",
       "   downloadSetting  duetSetting     nickname  openFavorite signature  \\\n",
       "0                0            0    Tik Toker         False             \n",
       "1                0            0       BEULAH          True             \n",
       "2                0            0      Lello27         False             \n",
       "3                0            0  clemevitale         False             \n",
       "4                0            0    Tik Toker         False             \n",
       "\n",
       "   stitchSetting                uniqueId  verified   fake  \n",
       "0              0           gyzituvigy542     False   True  \n",
       "1              0   tshphjtowl2401583tbww     False   True  \n",
       "2              0  aristanismamojadanuoro     False  False  \n",
       "3              0             clemevitale     False  False  \n",
       "4              0          exidyvetoqygyv     False   True  "
      ],
      "text/html": [
       "\n",
       "  <div id=\"df-ca67710d-d343-41a9-be73-feb1425ed891\" class=\"colab-df-container\">\n",
       "    <div>\n",
       "<style scoped>\n",
       "    .dataframe tbody tr th:only-of-type {\n",
       "        vertical-align: middle;\n",
       "    }\n",
       "\n",
       "    .dataframe tbody tr th {\n",
       "        vertical-align: top;\n",
       "    }\n",
       "\n",
       "    .dataframe thead th {\n",
       "        text-align: right;\n",
       "    }\n",
       "</style>\n",
       "<table border=\"1\" class=\"dataframe\">\n",
       "  <thead>\n",
       "    <tr style=\"text-align: right;\">\n",
       "      <th></th>\n",
       "      <th>diggCount</th>\n",
       "      <th>followerCount</th>\n",
       "      <th>followingCount</th>\n",
       "      <th>heartCount</th>\n",
       "      <th>videoCount</th>\n",
       "      <th>downloadSetting</th>\n",
       "      <th>duetSetting</th>\n",
       "      <th>nickname</th>\n",
       "      <th>openFavorite</th>\n",
       "      <th>signature</th>\n",
       "      <th>stitchSetting</th>\n",
       "      <th>uniqueId</th>\n",
       "      <th>verified</th>\n",
       "      <th>fake</th>\n",
       "    </tr>\n",
       "  </thead>\n",
       "  <tbody>\n",
       "    <tr>\n",
       "      <th>0</th>\n",
       "      <td>-0.187448</td>\n",
       "      <td>-0.086948</td>\n",
       "      <td>-0.242942</td>\n",
       "      <td>-0.089025</td>\n",
       "      <td>-0.200941</td>\n",
       "      <td>0</td>\n",
       "      <td>0</td>\n",
       "      <td>Tik Toker</td>\n",
       "      <td>False</td>\n",
       "      <td></td>\n",
       "      <td>0</td>\n",
       "      <td>gyzituvigy542</td>\n",
       "      <td>False</td>\n",
       "      <td>True</td>\n",
       "    </tr>\n",
       "    <tr>\n",
       "      <th>1</th>\n",
       "      <td>-0.122748</td>\n",
       "      <td>-0.086913</td>\n",
       "      <td>3.857014</td>\n",
       "      <td>-0.089025</td>\n",
       "      <td>-0.200941</td>\n",
       "      <td>0</td>\n",
       "      <td>0</td>\n",
       "      <td>BEULAH</td>\n",
       "      <td>True</td>\n",
       "      <td></td>\n",
       "      <td>0</td>\n",
       "      <td>tshphjtowl2401583tbww</td>\n",
       "      <td>False</td>\n",
       "      <td>True</td>\n",
       "    </tr>\n",
       "    <tr>\n",
       "      <th>2</th>\n",
       "      <td>0.001863</td>\n",
       "      <td>-0.086654</td>\n",
       "      <td>0.000461</td>\n",
       "      <td>-0.088961</td>\n",
       "      <td>1.085558</td>\n",
       "      <td>0</td>\n",
       "      <td>0</td>\n",
       "      <td>Lello27</td>\n",
       "      <td>False</td>\n",
       "      <td></td>\n",
       "      <td>0</td>\n",
       "      <td>aristanismamojadanuoro</td>\n",
       "      <td>False</td>\n",
       "      <td>False</td>\n",
       "    </tr>\n",
       "    <tr>\n",
       "      <th>3</th>\n",
       "      <td>-0.041575</td>\n",
       "      <td>-0.086849</td>\n",
       "      <td>-0.132344</td>\n",
       "      <td>-0.089011</td>\n",
       "      <td>-0.026828</td>\n",
       "      <td>0</td>\n",
       "      <td>0</td>\n",
       "      <td>clemevitale</td>\n",
       "      <td>False</td>\n",
       "      <td></td>\n",
       "      <td>0</td>\n",
       "      <td>clemevitale</td>\n",
       "      <td>False</td>\n",
       "      <td>False</td>\n",
       "    </tr>\n",
       "    <tr>\n",
       "      <th>4</th>\n",
       "      <td>-0.183576</td>\n",
       "      <td>-0.086948</td>\n",
       "      <td>-0.225525</td>\n",
       "      <td>-0.089025</td>\n",
       "      <td>-0.200941</td>\n",
       "      <td>0</td>\n",
       "      <td>0</td>\n",
       "      <td>Tik Toker</td>\n",
       "      <td>False</td>\n",
       "      <td></td>\n",
       "      <td>0</td>\n",
       "      <td>exidyvetoqygyv</td>\n",
       "      <td>False</td>\n",
       "      <td>True</td>\n",
       "    </tr>\n",
       "  </tbody>\n",
       "</table>\n",
       "</div>\n",
       "    <div class=\"colab-df-buttons\">\n",
       "\n",
       "  <div class=\"colab-df-container\">\n",
       "    <button class=\"colab-df-convert\" onclick=\"convertToInteractive('df-ca67710d-d343-41a9-be73-feb1425ed891')\"\n",
       "            title=\"Convert this dataframe to an interactive table.\"\n",
       "            style=\"display:none;\">\n",
       "\n",
       "  <svg xmlns=\"http://www.w3.org/2000/svg\" height=\"24px\" viewBox=\"0 -960 960 960\">\n",
       "    <path d=\"M120-120v-720h720v720H120Zm60-500h600v-160H180v160Zm220 220h160v-160H400v160Zm0 220h160v-160H400v160ZM180-400h160v-160H180v160Zm440 0h160v-160H620v160ZM180-180h160v-160H180v160Zm440 0h160v-160H620v160Z\"/>\n",
       "  </svg>\n",
       "    </button>\n",
       "\n",
       "  <style>\n",
       "    .colab-df-container {\n",
       "      display:flex;\n",
       "      gap: 12px;\n",
       "    }\n",
       "\n",
       "    .colab-df-convert {\n",
       "      background-color: #E8F0FE;\n",
       "      border: none;\n",
       "      border-radius: 50%;\n",
       "      cursor: pointer;\n",
       "      display: none;\n",
       "      fill: #1967D2;\n",
       "      height: 32px;\n",
       "      padding: 0 0 0 0;\n",
       "      width: 32px;\n",
       "    }\n",
       "\n",
       "    .colab-df-convert:hover {\n",
       "      background-color: #E2EBFA;\n",
       "      box-shadow: 0px 1px 2px rgba(60, 64, 67, 0.3), 0px 1px 3px 1px rgba(60, 64, 67, 0.15);\n",
       "      fill: #174EA6;\n",
       "    }\n",
       "\n",
       "    .colab-df-buttons div {\n",
       "      margin-bottom: 4px;\n",
       "    }\n",
       "\n",
       "    [theme=dark] .colab-df-convert {\n",
       "      background-color: #3B4455;\n",
       "      fill: #D2E3FC;\n",
       "    }\n",
       "\n",
       "    [theme=dark] .colab-df-convert:hover {\n",
       "      background-color: #434B5C;\n",
       "      box-shadow: 0px 1px 3px 1px rgba(0, 0, 0, 0.15);\n",
       "      filter: drop-shadow(0px 1px 2px rgba(0, 0, 0, 0.3));\n",
       "      fill: #FFFFFF;\n",
       "    }\n",
       "  </style>\n",
       "\n",
       "    <script>\n",
       "      const buttonEl =\n",
       "        document.querySelector('#df-ca67710d-d343-41a9-be73-feb1425ed891 button.colab-df-convert');\n",
       "      buttonEl.style.display =\n",
       "        google.colab.kernel.accessAllowed ? 'block' : 'none';\n",
       "\n",
       "      async function convertToInteractive(key) {\n",
       "        const element = document.querySelector('#df-ca67710d-d343-41a9-be73-feb1425ed891');\n",
       "        const dataTable =\n",
       "          await google.colab.kernel.invokeFunction('convertToInteractive',\n",
       "                                                    [key], {});\n",
       "        if (!dataTable) return;\n",
       "\n",
       "        const docLinkHtml = 'Like what you see? Visit the ' +\n",
       "          '<a target=\"_blank\" href=https://colab.research.google.com/notebooks/data_table.ipynb>data table notebook</a>'\n",
       "          + ' to learn more about interactive tables.';\n",
       "        element.innerHTML = '';\n",
       "        dataTable['output_type'] = 'display_data';\n",
       "        await google.colab.output.renderOutput(dataTable, element);\n",
       "        const docLink = document.createElement('div');\n",
       "        docLink.innerHTML = docLinkHtml;\n",
       "        element.appendChild(docLink);\n",
       "      }\n",
       "    </script>\n",
       "  </div>\n",
       "\n",
       "\n",
       "<div id=\"df-94a66542-77f5-4cc8-8460-f6e208218c35\">\n",
       "  <button class=\"colab-df-quickchart\" onclick=\"quickchart('df-94a66542-77f5-4cc8-8460-f6e208218c35')\"\n",
       "            title=\"Suggest charts\"\n",
       "            style=\"display:none;\">\n",
       "\n",
       "<svg xmlns=\"http://www.w3.org/2000/svg\" height=\"24px\"viewBox=\"0 0 24 24\"\n",
       "     width=\"24px\">\n",
       "    <g>\n",
       "        <path d=\"M19 3H5c-1.1 0-2 .9-2 2v14c0 1.1.9 2 2 2h14c1.1 0 2-.9 2-2V5c0-1.1-.9-2-2-2zM9 17H7v-7h2v7zm4 0h-2V7h2v10zm4 0h-2v-4h2v4z\"/>\n",
       "    </g>\n",
       "</svg>\n",
       "  </button>\n",
       "\n",
       "<style>\n",
       "  .colab-df-quickchart {\n",
       "      --bg-color: #E8F0FE;\n",
       "      --fill-color: #1967D2;\n",
       "      --hover-bg-color: #E2EBFA;\n",
       "      --hover-fill-color: #174EA6;\n",
       "      --disabled-fill-color: #AAA;\n",
       "      --disabled-bg-color: #DDD;\n",
       "  }\n",
       "\n",
       "  [theme=dark] .colab-df-quickchart {\n",
       "      --bg-color: #3B4455;\n",
       "      --fill-color: #D2E3FC;\n",
       "      --hover-bg-color: #434B5C;\n",
       "      --hover-fill-color: #FFFFFF;\n",
       "      --disabled-bg-color: #3B4455;\n",
       "      --disabled-fill-color: #666;\n",
       "  }\n",
       "\n",
       "  .colab-df-quickchart {\n",
       "    background-color: var(--bg-color);\n",
       "    border: none;\n",
       "    border-radius: 50%;\n",
       "    cursor: pointer;\n",
       "    display: none;\n",
       "    fill: var(--fill-color);\n",
       "    height: 32px;\n",
       "    padding: 0;\n",
       "    width: 32px;\n",
       "  }\n",
       "\n",
       "  .colab-df-quickchart:hover {\n",
       "    background-color: var(--hover-bg-color);\n",
       "    box-shadow: 0 1px 2px rgba(60, 64, 67, 0.3), 0 1px 3px 1px rgba(60, 64, 67, 0.15);\n",
       "    fill: var(--button-hover-fill-color);\n",
       "  }\n",
       "\n",
       "  .colab-df-quickchart-complete:disabled,\n",
       "  .colab-df-quickchart-complete:disabled:hover {\n",
       "    background-color: var(--disabled-bg-color);\n",
       "    fill: var(--disabled-fill-color);\n",
       "    box-shadow: none;\n",
       "  }\n",
       "\n",
       "  .colab-df-spinner {\n",
       "    border: 2px solid var(--fill-color);\n",
       "    border-color: transparent;\n",
       "    border-bottom-color: var(--fill-color);\n",
       "    animation:\n",
       "      spin 1s steps(1) infinite;\n",
       "  }\n",
       "\n",
       "  @keyframes spin {\n",
       "    0% {\n",
       "      border-color: transparent;\n",
       "      border-bottom-color: var(--fill-color);\n",
       "      border-left-color: var(--fill-color);\n",
       "    }\n",
       "    20% {\n",
       "      border-color: transparent;\n",
       "      border-left-color: var(--fill-color);\n",
       "      border-top-color: var(--fill-color);\n",
       "    }\n",
       "    30% {\n",
       "      border-color: transparent;\n",
       "      border-left-color: var(--fill-color);\n",
       "      border-top-color: var(--fill-color);\n",
       "      border-right-color: var(--fill-color);\n",
       "    }\n",
       "    40% {\n",
       "      border-color: transparent;\n",
       "      border-right-color: var(--fill-color);\n",
       "      border-top-color: var(--fill-color);\n",
       "    }\n",
       "    60% {\n",
       "      border-color: transparent;\n",
       "      border-right-color: var(--fill-color);\n",
       "    }\n",
       "    80% {\n",
       "      border-color: transparent;\n",
       "      border-right-color: var(--fill-color);\n",
       "      border-bottom-color: var(--fill-color);\n",
       "    }\n",
       "    90% {\n",
       "      border-color: transparent;\n",
       "      border-bottom-color: var(--fill-color);\n",
       "    }\n",
       "  }\n",
       "</style>\n",
       "\n",
       "  <script>\n",
       "    async function quickchart(key) {\n",
       "      const quickchartButtonEl =\n",
       "        document.querySelector('#' + key + ' button');\n",
       "      quickchartButtonEl.disabled = true;  // To prevent multiple clicks.\n",
       "      quickchartButtonEl.classList.add('colab-df-spinner');\n",
       "      try {\n",
       "        const charts = await google.colab.kernel.invokeFunction(\n",
       "            'suggestCharts', [key], {});\n",
       "      } catch (error) {\n",
       "        console.error('Error during call to suggestCharts:', error);\n",
       "      }\n",
       "      quickchartButtonEl.classList.remove('colab-df-spinner');\n",
       "      quickchartButtonEl.classList.add('colab-df-quickchart-complete');\n",
       "    }\n",
       "    (() => {\n",
       "      let quickchartButtonEl =\n",
       "        document.querySelector('#df-94a66542-77f5-4cc8-8460-f6e208218c35 button');\n",
       "      quickchartButtonEl.style.display =\n",
       "        google.colab.kernel.accessAllowed ? 'block' : 'none';\n",
       "    })();\n",
       "  </script>\n",
       "</div>\n",
       "\n",
       "    </div>\n",
       "  </div>\n"
      ],
      "application/vnd.google.colaboratory.intrinsic+json": {
       "type": "dataframe",
       "variable_name": "df_copy",
       "summary": "{\n  \"name\": \"df_copy\",\n  \"rows\": 8712,\n  \"fields\": [\n    {\n      \"column\": \"diggCount\",\n      \"properties\": {\n        \"dtype\": \"number\",\n        \"std\": 1.0000573970440993,\n        \"min\": -0.20708998712270674,\n        \"max\": 26.97511147475316,\n        \"num_unique_values\": 2154,\n        \"samples\": [\n          -0.1918127591578607,\n          -0.009964464995660848,\n          -0.08965949751273797\n        ],\n        \"semantic_type\": \"\",\n        \"description\": \"\"\n      }\n    },\n    {\n      \"column\": \"followerCount\",\n      \"properties\": {\n        \"dtype\": \"number\",\n        \"std\": 1.0000573970440996,\n        \"min\": -0.08694820206951176,\n        \"max\": 40.56883778954864,\n        \"num_unique_values\": 1587,\n        \"samples\": [\n          -0.08675208606661172,\n          -0.08658758574176106,\n          -0.08670219257469006\n        ],\n        \"semantic_type\": \"\",\n        \"description\": \"\"\n      }\n    },\n    {\n      \"column\": \"followingCount\",\n      \"properties\": {\n        \"dtype\": \"number\",\n        \"std\": 1.0000573970440993,\n        \"min\": -0.4885208988354849,\n        \"max\": 3.8657227611884046,\n        \"num_unique_values\": 1611,\n        \"samples\": [\n          -0.24990834626617572,\n          -0.3927275383149593,\n          -0.22421830867203477\n        ],\n        \"semantic_type\": \"\",\n        \"description\": \"\"\n      }\n    },\n    {\n      \"column\": \"heartCount\",\n      \"properties\": {\n        \"dtype\": \"number\",\n        \"std\": 1.0000573970440996,\n        \"min\": -0.08902466133230527,\n        \"max\": 33.97272056635501,\n        \"num_unique_values\": 1930,\n        \"samples\": [\n          -0.08899815510147355,\n          -0.07800723501229515,\n          -0.08101705468150533\n        ],\n        \"semantic_type\": \"\",\n        \"description\": \"\"\n      }\n    },\n    {\n      \"column\": \"videoCount\",\n      \"properties\": {\n        \"dtype\": \"number\",\n        \"std\": 1.0000573970440993,\n        \"min\": -0.20094081539313707,\n        \"max\": 27.845706666097406,\n        \"num_unique_values\": 497,\n        \"samples\": [\n          1.211306307316854,\n          0.8679174521373698,\n          0.3068877732525789\n        ],\n        \"semantic_type\": \"\",\n        \"description\": \"\"\n      }\n    },\n    {\n      \"column\": \"downloadSetting\",\n      \"properties\": {\n        \"dtype\": \"number\",\n        \"std\": 0,\n        \"min\": 0,\n        \"max\": 3,\n        \"num_unique_values\": 2,\n        \"samples\": [\n          3,\n          0\n        ],\n        \"semantic_type\": \"\",\n        \"description\": \"\"\n      }\n    },\n    {\n      \"column\": \"duetSetting\",\n      \"properties\": {\n        \"dtype\": \"number\",\n        \"std\": 0,\n        \"min\": 0,\n        \"max\": 3,\n        \"num_unique_values\": 3,\n        \"samples\": [\n          0,\n          1\n        ],\n        \"semantic_type\": \"\",\n        \"description\": \"\"\n      }\n    },\n    {\n      \"column\": \"nickname\",\n      \"properties\": {\n        \"dtype\": \"string\",\n        \"num_unique_values\": 4527,\n        \"samples\": [\n          \"enzo\",\n          \"Angela Tufano\"\n        ],\n        \"semantic_type\": \"\",\n        \"description\": \"\"\n      }\n    },\n    {\n      \"column\": \"openFavorite\",\n      \"properties\": {\n        \"dtype\": \"boolean\",\n        \"num_unique_values\": 2,\n        \"samples\": [\n          true,\n          false\n        ],\n        \"semantic_type\": \"\",\n        \"description\": \"\"\n      }\n    },\n    {\n      \"column\": \"signature\",\n      \"properties\": {\n        \"dtype\": \"category\",\n        \"num_unique_values\": 988,\n        \"samples\": [\n          \"15//\\ud83c\\uddf5\\ud83c\\uddf8\",\n          \"TANTE NOVIT\\u00c0 SUL MONDO DEL CALCIO\"\n        ],\n        \"semantic_type\": \"\",\n        \"description\": \"\"\n      }\n    },\n    {\n      \"column\": \"stitchSetting\",\n      \"properties\": {\n        \"dtype\": \"number\",\n        \"std\": 0,\n        \"min\": 0,\n        \"max\": 3,\n        \"num_unique_values\": 3,\n        \"samples\": [\n          0,\n          1\n        ],\n        \"semantic_type\": \"\",\n        \"description\": \"\"\n      }\n    },\n    {\n      \"column\": \"uniqueId\",\n      \"properties\": {\n        \"dtype\": \"string\",\n        \"num_unique_values\": 8711,\n        \"samples\": [\n          \"xasxavomutha\",\n          \"ovizosujyqo610\"\n        ],\n        \"semantic_type\": \"\",\n        \"description\": \"\"\n      }\n    },\n    {\n      \"column\": \"verified\",\n      \"properties\": {\n        \"dtype\": \"boolean\",\n        \"num_unique_values\": 2,\n        \"samples\": [\n          true,\n          false\n        ],\n        \"semantic_type\": \"\",\n        \"description\": \"\"\n      }\n    },\n    {\n      \"column\": \"fake\",\n      \"properties\": {\n        \"dtype\": \"boolean\",\n        \"num_unique_values\": 2,\n        \"samples\": [\n          false,\n          true\n        ],\n        \"semantic_type\": \"\",\n        \"description\": \"\"\n      }\n    }\n  ]\n}"
      }
     },
     "metadata": {},
     "execution_count": 65
    }
   ]
  },
  {
   "cell_type": "markdown",
   "source": [
    "## 5. Salvataggio dataset pulito"
   ],
   "metadata": {
    "collapsed": false,
    "id": "Mms9PMx2MQUi"
   }
  },
  {
   "cell_type": "code",
   "execution_count": 66,
   "outputs": [],
   "source": [
    "# Salvo il file in CSV (drive)\n",
    "df_copy.to_csv('/content/drive/MyDrive/Progetto_FDSML/cleaned_dataset.csv', index=False)"
   ],
   "metadata": {
    "id": "5FAlmlJGMQUi",
    "executionInfo": {
     "status": "ok",
     "timestamp": 1719940813475,
     "user_tz": -120,
     "elapsed": 275,
     "user": {
      "displayName": "Annalaura Miglino",
      "userId": "03808724092990969006"
     }
    }
   }
  },
  {
   "cell_type": "code",
   "execution_count": null,
   "outputs": [],
   "source": [
    "# Salvo il file in CSV (locale)\n",
    "df_copy.to_csv('./datasets/cleaned_dataset.csv', index=False)"
   ],
   "metadata": {
    "collapsed": false
   }
  }
 ]
}
