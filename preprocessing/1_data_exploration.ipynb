{
 "nbformat": 4,
 "nbformat_minor": 0,
 "metadata": {
  "colab": {
   "provenance": [],
   "collapsed_sections": [
    "w7cXYJNOccIW",
    "SYxs0pmnFnVW",
    "OsrWP242MQUC",
    "MT50zD5iuIJN",
    "tTiL5c3uCzda",
    "RaEocd0sMQUH",
    "APsTkISFMQUL",
    "F02Mra7UMQUO",
    "TmBvlXorMQUS",
    "omdIe0U_z7KI",
    "EZESIBGgMQUW",
    "Kb0b11LyMQUW",
    "AE1BU7t5MQUb",
    "s-RkCDTtMQUf",
    "hAv7RwJi1_ES",
    "tCC2_FhNfaFh",
    "G4FUzdg6f6dM",
    "ELJUcCOPgX90"
   ]
  },
  "kernelspec": {
   "name": "python3",
   "display_name": "Python 3 (ipykernel)",
   "language": "python"
  },
  "language_info": {
   "name": "python"
  },
  "widgets": {
   "application/vnd.jupyter.widget-state+json": {
    "345efba7267f4061a97423254bd9878c": {
     "model_module": "@jupyter-widgets/controls",
     "model_name": "HBoxModel",
     "model_module_version": "1.5.0",
     "state": {
      "_dom_classes": [],
      "_model_module": "@jupyter-widgets/controls",
      "_model_module_version": "1.5.0",
      "_model_name": "HBoxModel",
      "_view_count": null,
      "_view_module": "@jupyter-widgets/controls",
      "_view_module_version": "1.5.0",
      "_view_name": "HBoxView",
      "box_style": "",
      "children": [
       "IPY_MODEL_c46e30b1b22c4017b6072fa0bb624a52",
       "IPY_MODEL_9d3c0b4588c447f3bf66c22eb9c82b96",
       "IPY_MODEL_63048a3c649c46e4b32099a99ec65da5"
      ],
      "layout": "IPY_MODEL_b2255c9f03a54796a76fb57c53fed7d7"
     }
    },
    "c46e30b1b22c4017b6072fa0bb624a52": {
     "model_module": "@jupyter-widgets/controls",
     "model_name": "HTMLModel",
     "model_module_version": "1.5.0",
     "state": {
      "_dom_classes": [],
      "_model_module": "@jupyter-widgets/controls",
      "_model_module_version": "1.5.0",
      "_model_name": "HTMLModel",
      "_view_count": null,
      "_view_module": "@jupyter-widgets/controls",
      "_view_module_version": "1.5.0",
      "_view_name": "HTMLView",
      "description": "",
      "description_tooltip": null,
      "layout": "IPY_MODEL_43430ff8aa644f308b08b401c06af84a",
      "placeholder": "​",
      "style": "IPY_MODEL_d5b85bd51d8e409392011f3e8a3ee3c3",
      "value": "Verifico lingua in nickname: 100%"
     }
    },
    "9d3c0b4588c447f3bf66c22eb9c82b96": {
     "model_module": "@jupyter-widgets/controls",
     "model_name": "FloatProgressModel",
     "model_module_version": "1.5.0",
     "state": {
      "_dom_classes": [],
      "_model_module": "@jupyter-widgets/controls",
      "_model_module_version": "1.5.0",
      "_model_name": "FloatProgressModel",
      "_view_count": null,
      "_view_module": "@jupyter-widgets/controls",
      "_view_module_version": "1.5.0",
      "_view_name": "ProgressView",
      "bar_style": "success",
      "description": "",
      "description_tooltip": null,
      "layout": "IPY_MODEL_b0f974754d554bedb91f6220014a825a",
      "max": 10043,
      "min": 0,
      "orientation": "horizontal",
      "style": "IPY_MODEL_a08f2507ec1e4919a0b8f89e5ca551a5",
      "value": 10043
     }
    },
    "63048a3c649c46e4b32099a99ec65da5": {
     "model_module": "@jupyter-widgets/controls",
     "model_name": "HTMLModel",
     "model_module_version": "1.5.0",
     "state": {
      "_dom_classes": [],
      "_model_module": "@jupyter-widgets/controls",
      "_model_module_version": "1.5.0",
      "_model_name": "HTMLModel",
      "_view_count": null,
      "_view_module": "@jupyter-widgets/controls",
      "_view_module_version": "1.5.0",
      "_view_name": "HTMLView",
      "description": "",
      "description_tooltip": null,
      "layout": "IPY_MODEL_faa7513ffc004c858cd5837feee63733",
      "placeholder": "​",
      "style": "IPY_MODEL_e3bd23111a4d417081a75b9e7ee03fc5",
      "value": " 10043/10043 [02:45&lt;00:00, 89.62it/s]"
     }
    },
    "b2255c9f03a54796a76fb57c53fed7d7": {
     "model_module": "@jupyter-widgets/base",
     "model_name": "LayoutModel",
     "model_module_version": "1.2.0",
     "state": {
      "_model_module": "@jupyter-widgets/base",
      "_model_module_version": "1.2.0",
      "_model_name": "LayoutModel",
      "_view_count": null,
      "_view_module": "@jupyter-widgets/base",
      "_view_module_version": "1.2.0",
      "_view_name": "LayoutView",
      "align_content": null,
      "align_items": null,
      "align_self": null,
      "border": null,
      "bottom": null,
      "display": null,
      "flex": null,
      "flex_flow": null,
      "grid_area": null,
      "grid_auto_columns": null,
      "grid_auto_flow": null,
      "grid_auto_rows": null,
      "grid_column": null,
      "grid_gap": null,
      "grid_row": null,
      "grid_template_areas": null,
      "grid_template_columns": null,
      "grid_template_rows": null,
      "height": null,
      "justify_content": null,
      "justify_items": null,
      "left": null,
      "margin": null,
      "max_height": null,
      "max_width": null,
      "min_height": null,
      "min_width": null,
      "object_fit": null,
      "object_position": null,
      "order": null,
      "overflow": null,
      "overflow_x": null,
      "overflow_y": null,
      "padding": null,
      "right": null,
      "top": null,
      "visibility": null,
      "width": null
     }
    },
    "43430ff8aa644f308b08b401c06af84a": {
     "model_module": "@jupyter-widgets/base",
     "model_name": "LayoutModel",
     "model_module_version": "1.2.0",
     "state": {
      "_model_module": "@jupyter-widgets/base",
      "_model_module_version": "1.2.0",
      "_model_name": "LayoutModel",
      "_view_count": null,
      "_view_module": "@jupyter-widgets/base",
      "_view_module_version": "1.2.0",
      "_view_name": "LayoutView",
      "align_content": null,
      "align_items": null,
      "align_self": null,
      "border": null,
      "bottom": null,
      "display": null,
      "flex": null,
      "flex_flow": null,
      "grid_area": null,
      "grid_auto_columns": null,
      "grid_auto_flow": null,
      "grid_auto_rows": null,
      "grid_column": null,
      "grid_gap": null,
      "grid_row": null,
      "grid_template_areas": null,
      "grid_template_columns": null,
      "grid_template_rows": null,
      "height": null,
      "justify_content": null,
      "justify_items": null,
      "left": null,
      "margin": null,
      "max_height": null,
      "max_width": null,
      "min_height": null,
      "min_width": null,
      "object_fit": null,
      "object_position": null,
      "order": null,
      "overflow": null,
      "overflow_x": null,
      "overflow_y": null,
      "padding": null,
      "right": null,
      "top": null,
      "visibility": null,
      "width": null
     }
    },
    "d5b85bd51d8e409392011f3e8a3ee3c3": {
     "model_module": "@jupyter-widgets/controls",
     "model_name": "DescriptionStyleModel",
     "model_module_version": "1.5.0",
     "state": {
      "_model_module": "@jupyter-widgets/controls",
      "_model_module_version": "1.5.0",
      "_model_name": "DescriptionStyleModel",
      "_view_count": null,
      "_view_module": "@jupyter-widgets/base",
      "_view_module_version": "1.2.0",
      "_view_name": "StyleView",
      "description_width": ""
     }
    },
    "b0f974754d554bedb91f6220014a825a": {
     "model_module": "@jupyter-widgets/base",
     "model_name": "LayoutModel",
     "model_module_version": "1.2.0",
     "state": {
      "_model_module": "@jupyter-widgets/base",
      "_model_module_version": "1.2.0",
      "_model_name": "LayoutModel",
      "_view_count": null,
      "_view_module": "@jupyter-widgets/base",
      "_view_module_version": "1.2.0",
      "_view_name": "LayoutView",
      "align_content": null,
      "align_items": null,
      "align_self": null,
      "border": null,
      "bottom": null,
      "display": null,
      "flex": null,
      "flex_flow": null,
      "grid_area": null,
      "grid_auto_columns": null,
      "grid_auto_flow": null,
      "grid_auto_rows": null,
      "grid_column": null,
      "grid_gap": null,
      "grid_row": null,
      "grid_template_areas": null,
      "grid_template_columns": null,
      "grid_template_rows": null,
      "height": null,
      "justify_content": null,
      "justify_items": null,
      "left": null,
      "margin": null,
      "max_height": null,
      "max_width": null,
      "min_height": null,
      "min_width": null,
      "object_fit": null,
      "object_position": null,
      "order": null,
      "overflow": null,
      "overflow_x": null,
      "overflow_y": null,
      "padding": null,
      "right": null,
      "top": null,
      "visibility": null,
      "width": null
     }
    },
    "a08f2507ec1e4919a0b8f89e5ca551a5": {
     "model_module": "@jupyter-widgets/controls",
     "model_name": "ProgressStyleModel",
     "model_module_version": "1.5.0",
     "state": {
      "_model_module": "@jupyter-widgets/controls",
      "_model_module_version": "1.5.0",
      "_model_name": "ProgressStyleModel",
      "_view_count": null,
      "_view_module": "@jupyter-widgets/base",
      "_view_module_version": "1.2.0",
      "_view_name": "StyleView",
      "bar_color": null,
      "description_width": ""
     }
    },
    "faa7513ffc004c858cd5837feee63733": {
     "model_module": "@jupyter-widgets/base",
     "model_name": "LayoutModel",
     "model_module_version": "1.2.0",
     "state": {
      "_model_module": "@jupyter-widgets/base",
      "_model_module_version": "1.2.0",
      "_model_name": "LayoutModel",
      "_view_count": null,
      "_view_module": "@jupyter-widgets/base",
      "_view_module_version": "1.2.0",
      "_view_name": "LayoutView",
      "align_content": null,
      "align_items": null,
      "align_self": null,
      "border": null,
      "bottom": null,
      "display": null,
      "flex": null,
      "flex_flow": null,
      "grid_area": null,
      "grid_auto_columns": null,
      "grid_auto_flow": null,
      "grid_auto_rows": null,
      "grid_column": null,
      "grid_gap": null,
      "grid_row": null,
      "grid_template_areas": null,
      "grid_template_columns": null,
      "grid_template_rows": null,
      "height": null,
      "justify_content": null,
      "justify_items": null,
      "left": null,
      "margin": null,
      "max_height": null,
      "max_width": null,
      "min_height": null,
      "min_width": null,
      "object_fit": null,
      "object_position": null,
      "order": null,
      "overflow": null,
      "overflow_x": null,
      "overflow_y": null,
      "padding": null,
      "right": null,
      "top": null,
      "visibility": null,
      "width": null
     }
    },
    "e3bd23111a4d417081a75b9e7ee03fc5": {
     "model_module": "@jupyter-widgets/controls",
     "model_name": "DescriptionStyleModel",
     "model_module_version": "1.5.0",
     "state": {
      "_model_module": "@jupyter-widgets/controls",
      "_model_module_version": "1.5.0",
      "_model_name": "DescriptionStyleModel",
      "_view_count": null,
      "_view_module": "@jupyter-widgets/base",
      "_view_module_version": "1.2.0",
      "_view_name": "StyleView",
      "description_width": ""
     }
    },
    "d15ddbdcf06044c7925f86c2156c1d99": {
     "model_module": "@jupyter-widgets/controls",
     "model_name": "HBoxModel",
     "model_module_version": "1.5.0",
     "state": {
      "_dom_classes": [],
      "_model_module": "@jupyter-widgets/controls",
      "_model_module_version": "1.5.0",
      "_model_name": "HBoxModel",
      "_view_count": null,
      "_view_module": "@jupyter-widgets/controls",
      "_view_module_version": "1.5.0",
      "_view_name": "HBoxView",
      "box_style": "",
      "children": [
       "IPY_MODEL_470cfc1619dd446b823b4f9fcce20994",
       "IPY_MODEL_ce7ff7634c404ff88ae714ceaccc3d5b",
       "IPY_MODEL_bd9e2b217be84104be388af7d8ea6cfa"
      ],
      "layout": "IPY_MODEL_15da8fb2fefa4a228bc0f71b14dbe46e"
     }
    },
    "470cfc1619dd446b823b4f9fcce20994": {
     "model_module": "@jupyter-widgets/controls",
     "model_name": "HTMLModel",
     "model_module_version": "1.5.0",
     "state": {
      "_dom_classes": [],
      "_model_module": "@jupyter-widgets/controls",
      "_model_module_version": "1.5.0",
      "_model_name": "HTMLModel",
      "_view_count": null,
      "_view_module": "@jupyter-widgets/controls",
      "_view_module_version": "1.5.0",
      "_view_name": "HTMLView",
      "description": "",
      "description_tooltip": null,
      "layout": "IPY_MODEL_a7f0bb4d8c7a451f8016643085633e8c",
      "placeholder": "​",
      "style": "IPY_MODEL_6af08294f7c84858af43166cd7f8c29d",
      "value": "Traduco nickname: 100%"
     }
    },
    "ce7ff7634c404ff88ae714ceaccc3d5b": {
     "model_module": "@jupyter-widgets/controls",
     "model_name": "FloatProgressModel",
     "model_module_version": "1.5.0",
     "state": {
      "_dom_classes": [],
      "_model_module": "@jupyter-widgets/controls",
      "_model_module_version": "1.5.0",
      "_model_name": "FloatProgressModel",
      "_view_count": null,
      "_view_module": "@jupyter-widgets/controls",
      "_view_module_version": "1.5.0",
      "_view_name": "ProgressView",
      "bar_style": "success",
      "description": "",
      "description_tooltip": null,
      "layout": "IPY_MODEL_95683968f3ea44b18cacfdd5897aa596",
      "max": 10043,
      "min": 0,
      "orientation": "horizontal",
      "style": "IPY_MODEL_c2870e4fdac04fc3b90d173bf671b724",
      "value": 10043
     }
    },
    "bd9e2b217be84104be388af7d8ea6cfa": {
     "model_module": "@jupyter-widgets/controls",
     "model_name": "HTMLModel",
     "model_module_version": "1.5.0",
     "state": {
      "_dom_classes": [],
      "_model_module": "@jupyter-widgets/controls",
      "_model_module_version": "1.5.0",
      "_model_name": "HTMLModel",
      "_view_count": null,
      "_view_module": "@jupyter-widgets/controls",
      "_view_module_version": "1.5.0",
      "_view_name": "HTMLView",
      "description": "",
      "description_tooltip": null,
      "layout": "IPY_MODEL_9f69886d887247e3962f12866c5b8b60",
      "placeholder": "​",
      "style": "IPY_MODEL_4ceb70079b154197b5ce476ec6a8934d",
      "value": " 10043/10043 [03:23&lt;00:00, 42.50it/s]"
     }
    },
    "15da8fb2fefa4a228bc0f71b14dbe46e": {
     "model_module": "@jupyter-widgets/base",
     "model_name": "LayoutModel",
     "model_module_version": "1.2.0",
     "state": {
      "_model_module": "@jupyter-widgets/base",
      "_model_module_version": "1.2.0",
      "_model_name": "LayoutModel",
      "_view_count": null,
      "_view_module": "@jupyter-widgets/base",
      "_view_module_version": "1.2.0",
      "_view_name": "LayoutView",
      "align_content": null,
      "align_items": null,
      "align_self": null,
      "border": null,
      "bottom": null,
      "display": null,
      "flex": null,
      "flex_flow": null,
      "grid_area": null,
      "grid_auto_columns": null,
      "grid_auto_flow": null,
      "grid_auto_rows": null,
      "grid_column": null,
      "grid_gap": null,
      "grid_row": null,
      "grid_template_areas": null,
      "grid_template_columns": null,
      "grid_template_rows": null,
      "height": null,
      "justify_content": null,
      "justify_items": null,
      "left": null,
      "margin": null,
      "max_height": null,
      "max_width": null,
      "min_height": null,
      "min_width": null,
      "object_fit": null,
      "object_position": null,
      "order": null,
      "overflow": null,
      "overflow_x": null,
      "overflow_y": null,
      "padding": null,
      "right": null,
      "top": null,
      "visibility": null,
      "width": null
     }
    },
    "a7f0bb4d8c7a451f8016643085633e8c": {
     "model_module": "@jupyter-widgets/base",
     "model_name": "LayoutModel",
     "model_module_version": "1.2.0",
     "state": {
      "_model_module": "@jupyter-widgets/base",
      "_model_module_version": "1.2.0",
      "_model_name": "LayoutModel",
      "_view_count": null,
      "_view_module": "@jupyter-widgets/base",
      "_view_module_version": "1.2.0",
      "_view_name": "LayoutView",
      "align_content": null,
      "align_items": null,
      "align_self": null,
      "border": null,
      "bottom": null,
      "display": null,
      "flex": null,
      "flex_flow": null,
      "grid_area": null,
      "grid_auto_columns": null,
      "grid_auto_flow": null,
      "grid_auto_rows": null,
      "grid_column": null,
      "grid_gap": null,
      "grid_row": null,
      "grid_template_areas": null,
      "grid_template_columns": null,
      "grid_template_rows": null,
      "height": null,
      "justify_content": null,
      "justify_items": null,
      "left": null,
      "margin": null,
      "max_height": null,
      "max_width": null,
      "min_height": null,
      "min_width": null,
      "object_fit": null,
      "object_position": null,
      "order": null,
      "overflow": null,
      "overflow_x": null,
      "overflow_y": null,
      "padding": null,
      "right": null,
      "top": null,
      "visibility": null,
      "width": null
     }
    },
    "6af08294f7c84858af43166cd7f8c29d": {
     "model_module": "@jupyter-widgets/controls",
     "model_name": "DescriptionStyleModel",
     "model_module_version": "1.5.0",
     "state": {
      "_model_module": "@jupyter-widgets/controls",
      "_model_module_version": "1.5.0",
      "_model_name": "DescriptionStyleModel",
      "_view_count": null,
      "_view_module": "@jupyter-widgets/base",
      "_view_module_version": "1.2.0",
      "_view_name": "StyleView",
      "description_width": ""
     }
    },
    "95683968f3ea44b18cacfdd5897aa596": {
     "model_module": "@jupyter-widgets/base",
     "model_name": "LayoutModel",
     "model_module_version": "1.2.0",
     "state": {
      "_model_module": "@jupyter-widgets/base",
      "_model_module_version": "1.2.0",
      "_model_name": "LayoutModel",
      "_view_count": null,
      "_view_module": "@jupyter-widgets/base",
      "_view_module_version": "1.2.0",
      "_view_name": "LayoutView",
      "align_content": null,
      "align_items": null,
      "align_self": null,
      "border": null,
      "bottom": null,
      "display": null,
      "flex": null,
      "flex_flow": null,
      "grid_area": null,
      "grid_auto_columns": null,
      "grid_auto_flow": null,
      "grid_auto_rows": null,
      "grid_column": null,
      "grid_gap": null,
      "grid_row": null,
      "grid_template_areas": null,
      "grid_template_columns": null,
      "grid_template_rows": null,
      "height": null,
      "justify_content": null,
      "justify_items": null,
      "left": null,
      "margin": null,
      "max_height": null,
      "max_width": null,
      "min_height": null,
      "min_width": null,
      "object_fit": null,
      "object_position": null,
      "order": null,
      "overflow": null,
      "overflow_x": null,
      "overflow_y": null,
      "padding": null,
      "right": null,
      "top": null,
      "visibility": null,
      "width": null
     }
    },
    "c2870e4fdac04fc3b90d173bf671b724": {
     "model_module": "@jupyter-widgets/controls",
     "model_name": "ProgressStyleModel",
     "model_module_version": "1.5.0",
     "state": {
      "_model_module": "@jupyter-widgets/controls",
      "_model_module_version": "1.5.0",
      "_model_name": "ProgressStyleModel",
      "_view_count": null,
      "_view_module": "@jupyter-widgets/base",
      "_view_module_version": "1.2.0",
      "_view_name": "StyleView",
      "bar_color": null,
      "description_width": ""
     }
    },
    "9f69886d887247e3962f12866c5b8b60": {
     "model_module": "@jupyter-widgets/base",
     "model_name": "LayoutModel",
     "model_module_version": "1.2.0",
     "state": {
      "_model_module": "@jupyter-widgets/base",
      "_model_module_version": "1.2.0",
      "_model_name": "LayoutModel",
      "_view_count": null,
      "_view_module": "@jupyter-widgets/base",
      "_view_module_version": "1.2.0",
      "_view_name": "LayoutView",
      "align_content": null,
      "align_items": null,
      "align_self": null,
      "border": null,
      "bottom": null,
      "display": null,
      "flex": null,
      "flex_flow": null,
      "grid_area": null,
      "grid_auto_columns": null,
      "grid_auto_flow": null,
      "grid_auto_rows": null,
      "grid_column": null,
      "grid_gap": null,
      "grid_row": null,
      "grid_template_areas": null,
      "grid_template_columns": null,
      "grid_template_rows": null,
      "height": null,
      "justify_content": null,
      "justify_items": null,
      "left": null,
      "margin": null,
      "max_height": null,
      "max_width": null,
      "min_height": null,
      "min_width": null,
      "object_fit": null,
      "object_position": null,
      "order": null,
      "overflow": null,
      "overflow_x": null,
      "overflow_y": null,
      "padding": null,
      "right": null,
      "top": null,
      "visibility": null,
      "width": null
     }
    },
    "4ceb70079b154197b5ce476ec6a8934d": {
     "model_module": "@jupyter-widgets/controls",
     "model_name": "DescriptionStyleModel",
     "model_module_version": "1.5.0",
     "state": {
      "_model_module": "@jupyter-widgets/controls",
      "_model_module_version": "1.5.0",
      "_model_name": "DescriptionStyleModel",
      "_view_count": null,
      "_view_module": "@jupyter-widgets/base",
      "_view_module_version": "1.2.0",
      "_view_name": "StyleView",
      "description_width": ""
     }
    },
    "d891ae2fa8fd4e4b845bd409c2d7dee1": {
     "model_module": "@jupyter-widgets/controls",
     "model_name": "HBoxModel",
     "model_module_version": "1.5.0",
     "state": {
      "_dom_classes": [],
      "_model_module": "@jupyter-widgets/controls",
      "_model_module_version": "1.5.0",
      "_model_name": "HBoxModel",
      "_view_count": null,
      "_view_module": "@jupyter-widgets/controls",
      "_view_module_version": "1.5.0",
      "_view_name": "HBoxView",
      "box_style": "",
      "children": [
       "IPY_MODEL_ffb6c44652824b45a346d133792c5679",
       "IPY_MODEL_49afbe450f244b43ac8dc9de959600ca",
       "IPY_MODEL_593d21cfb4cf4c348d3297dbc64229ba"
      ],
      "layout": "IPY_MODEL_ab29da35147c434685667aaa382309e1"
     }
    },
    "ffb6c44652824b45a346d133792c5679": {
     "model_module": "@jupyter-widgets/controls",
     "model_name": "HTMLModel",
     "model_module_version": "1.5.0",
     "state": {
      "_dom_classes": [],
      "_model_module": "@jupyter-widgets/controls",
      "_model_module_version": "1.5.0",
      "_model_name": "HTMLModel",
      "_view_count": null,
      "_view_module": "@jupyter-widgets/controls",
      "_view_module_version": "1.5.0",
      "_view_name": "HTMLView",
      "description": "",
      "description_tooltip": null,
      "layout": "IPY_MODEL_63ff3418bde54b1799b12950e93234f2",
      "placeholder": "​",
      "style": "IPY_MODEL_0717ea73914f4685b3a1cef96b1acae1",
      "value": "Calcolo feature derivate da nickname: 100%"
     }
    },
    "49afbe450f244b43ac8dc9de959600ca": {
     "model_module": "@jupyter-widgets/controls",
     "model_name": "FloatProgressModel",
     "model_module_version": "1.5.0",
     "state": {
      "_dom_classes": [],
      "_model_module": "@jupyter-widgets/controls",
      "_model_module_version": "1.5.0",
      "_model_name": "FloatProgressModel",
      "_view_count": null,
      "_view_module": "@jupyter-widgets/controls",
      "_view_module_version": "1.5.0",
      "_view_name": "ProgressView",
      "bar_style": "success",
      "description": "",
      "description_tooltip": null,
      "layout": "IPY_MODEL_49f0653215ea4f678626854f2dff2829",
      "max": 10043,
      "min": 0,
      "orientation": "horizontal",
      "style": "IPY_MODEL_58c4c02e02874ad281f38a00a5964aaf",
      "value": 10043
     }
    },
    "593d21cfb4cf4c348d3297dbc64229ba": {
     "model_module": "@jupyter-widgets/controls",
     "model_name": "HTMLModel",
     "model_module_version": "1.5.0",
     "state": {
      "_dom_classes": [],
      "_model_module": "@jupyter-widgets/controls",
      "_model_module_version": "1.5.0",
      "_model_name": "HTMLModel",
      "_view_count": null,
      "_view_module": "@jupyter-widgets/controls",
      "_view_module_version": "1.5.0",
      "_view_name": "HTMLView",
      "description": "",
      "description_tooltip": null,
      "layout": "IPY_MODEL_b863b5700eb649238656767216714f27",
      "placeholder": "​",
      "style": "IPY_MODEL_a06020f42911467eb0f2e494eb8c94f2",
      "value": " 10043/10043 [00:02&lt;00:00, 3733.85it/s]"
     }
    },
    "ab29da35147c434685667aaa382309e1": {
     "model_module": "@jupyter-widgets/base",
     "model_name": "LayoutModel",
     "model_module_version": "1.2.0",
     "state": {
      "_model_module": "@jupyter-widgets/base",
      "_model_module_version": "1.2.0",
      "_model_name": "LayoutModel",
      "_view_count": null,
      "_view_module": "@jupyter-widgets/base",
      "_view_module_version": "1.2.0",
      "_view_name": "LayoutView",
      "align_content": null,
      "align_items": null,
      "align_self": null,
      "border": null,
      "bottom": null,
      "display": null,
      "flex": null,
      "flex_flow": null,
      "grid_area": null,
      "grid_auto_columns": null,
      "grid_auto_flow": null,
      "grid_auto_rows": null,
      "grid_column": null,
      "grid_gap": null,
      "grid_row": null,
      "grid_template_areas": null,
      "grid_template_columns": null,
      "grid_template_rows": null,
      "height": null,
      "justify_content": null,
      "justify_items": null,
      "left": null,
      "margin": null,
      "max_height": null,
      "max_width": null,
      "min_height": null,
      "min_width": null,
      "object_fit": null,
      "object_position": null,
      "order": null,
      "overflow": null,
      "overflow_x": null,
      "overflow_y": null,
      "padding": null,
      "right": null,
      "top": null,
      "visibility": null,
      "width": null
     }
    },
    "63ff3418bde54b1799b12950e93234f2": {
     "model_module": "@jupyter-widgets/base",
     "model_name": "LayoutModel",
     "model_module_version": "1.2.0",
     "state": {
      "_model_module": "@jupyter-widgets/base",
      "_model_module_version": "1.2.0",
      "_model_name": "LayoutModel",
      "_view_count": null,
      "_view_module": "@jupyter-widgets/base",
      "_view_module_version": "1.2.0",
      "_view_name": "LayoutView",
      "align_content": null,
      "align_items": null,
      "align_self": null,
      "border": null,
      "bottom": null,
      "display": null,
      "flex": null,
      "flex_flow": null,
      "grid_area": null,
      "grid_auto_columns": null,
      "grid_auto_flow": null,
      "grid_auto_rows": null,
      "grid_column": null,
      "grid_gap": null,
      "grid_row": null,
      "grid_template_areas": null,
      "grid_template_columns": null,
      "grid_template_rows": null,
      "height": null,
      "justify_content": null,
      "justify_items": null,
      "left": null,
      "margin": null,
      "max_height": null,
      "max_width": null,
      "min_height": null,
      "min_width": null,
      "object_fit": null,
      "object_position": null,
      "order": null,
      "overflow": null,
      "overflow_x": null,
      "overflow_y": null,
      "padding": null,
      "right": null,
      "top": null,
      "visibility": null,
      "width": null
     }
    },
    "0717ea73914f4685b3a1cef96b1acae1": {
     "model_module": "@jupyter-widgets/controls",
     "model_name": "DescriptionStyleModel",
     "model_module_version": "1.5.0",
     "state": {
      "_model_module": "@jupyter-widgets/controls",
      "_model_module_version": "1.5.0",
      "_model_name": "DescriptionStyleModel",
      "_view_count": null,
      "_view_module": "@jupyter-widgets/base",
      "_view_module_version": "1.2.0",
      "_view_name": "StyleView",
      "description_width": ""
     }
    },
    "49f0653215ea4f678626854f2dff2829": {
     "model_module": "@jupyter-widgets/base",
     "model_name": "LayoutModel",
     "model_module_version": "1.2.0",
     "state": {
      "_model_module": "@jupyter-widgets/base",
      "_model_module_version": "1.2.0",
      "_model_name": "LayoutModel",
      "_view_count": null,
      "_view_module": "@jupyter-widgets/base",
      "_view_module_version": "1.2.0",
      "_view_name": "LayoutView",
      "align_content": null,
      "align_items": null,
      "align_self": null,
      "border": null,
      "bottom": null,
      "display": null,
      "flex": null,
      "flex_flow": null,
      "grid_area": null,
      "grid_auto_columns": null,
      "grid_auto_flow": null,
      "grid_auto_rows": null,
      "grid_column": null,
      "grid_gap": null,
      "grid_row": null,
      "grid_template_areas": null,
      "grid_template_columns": null,
      "grid_template_rows": null,
      "height": null,
      "justify_content": null,
      "justify_items": null,
      "left": null,
      "margin": null,
      "max_height": null,
      "max_width": null,
      "min_height": null,
      "min_width": null,
      "object_fit": null,
      "object_position": null,
      "order": null,
      "overflow": null,
      "overflow_x": null,
      "overflow_y": null,
      "padding": null,
      "right": null,
      "top": null,
      "visibility": null,
      "width": null
     }
    },
    "58c4c02e02874ad281f38a00a5964aaf": {
     "model_module": "@jupyter-widgets/controls",
     "model_name": "ProgressStyleModel",
     "model_module_version": "1.5.0",
     "state": {
      "_model_module": "@jupyter-widgets/controls",
      "_model_module_version": "1.5.0",
      "_model_name": "ProgressStyleModel",
      "_view_count": null,
      "_view_module": "@jupyter-widgets/base",
      "_view_module_version": "1.2.0",
      "_view_name": "StyleView",
      "bar_color": null,
      "description_width": ""
     }
    },
    "b863b5700eb649238656767216714f27": {
     "model_module": "@jupyter-widgets/base",
     "model_name": "LayoutModel",
     "model_module_version": "1.2.0",
     "state": {
      "_model_module": "@jupyter-widgets/base",
      "_model_module_version": "1.2.0",
      "_model_name": "LayoutModel",
      "_view_count": null,
      "_view_module": "@jupyter-widgets/base",
      "_view_module_version": "1.2.0",
      "_view_name": "LayoutView",
      "align_content": null,
      "align_items": null,
      "align_self": null,
      "border": null,
      "bottom": null,
      "display": null,
      "flex": null,
      "flex_flow": null,
      "grid_area": null,
      "grid_auto_columns": null,
      "grid_auto_flow": null,
      "grid_auto_rows": null,
      "grid_column": null,
      "grid_gap": null,
      "grid_row": null,
      "grid_template_areas": null,
      "grid_template_columns": null,
      "grid_template_rows": null,
      "height": null,
      "justify_content": null,
      "justify_items": null,
      "left": null,
      "margin": null,
      "max_height": null,
      "max_width": null,
      "min_height": null,
      "min_width": null,
      "object_fit": null,
      "object_position": null,
      "order": null,
      "overflow": null,
      "overflow_x": null,
      "overflow_y": null,
      "padding": null,
      "right": null,
      "top": null,
      "visibility": null,
      "width": null
     }
    },
    "a06020f42911467eb0f2e494eb8c94f2": {
     "model_module": "@jupyter-widgets/controls",
     "model_name": "DescriptionStyleModel",
     "model_module_version": "1.5.0",
     "state": {
      "_model_module": "@jupyter-widgets/controls",
      "_model_module_version": "1.5.0",
      "_model_name": "DescriptionStyleModel",
      "_view_count": null,
      "_view_module": "@jupyter-widgets/base",
      "_view_module_version": "1.2.0",
      "_view_name": "StyleView",
      "description_width": ""
     }
    },
    "044ea6dd2d2140089878654260f9f7ef": {
     "model_module": "@jupyter-widgets/controls",
     "model_name": "HBoxModel",
     "model_module_version": "1.5.0",
     "state": {
      "_dom_classes": [],
      "_model_module": "@jupyter-widgets/controls",
      "_model_module_version": "1.5.0",
      "_model_name": "HBoxModel",
      "_view_count": null,
      "_view_module": "@jupyter-widgets/controls",
      "_view_module_version": "1.5.0",
      "_view_name": "HBoxView",
      "box_style": "",
      "children": [
       "IPY_MODEL_42abebe1885a4adcbd33090fda60f464",
       "IPY_MODEL_c4fff770a715417ca7ad09468f523aec",
       "IPY_MODEL_8cc403370b0848898b537c18099f040c"
      ],
      "layout": "IPY_MODEL_debe2c83ddbf44cea51f685260972066"
     }
    },
    "42abebe1885a4adcbd33090fda60f464": {
     "model_module": "@jupyter-widgets/controls",
     "model_name": "HTMLModel",
     "model_module_version": "1.5.0",
     "state": {
      "_dom_classes": [],
      "_model_module": "@jupyter-widgets/controls",
      "_model_module_version": "1.5.0",
      "_model_name": "HTMLModel",
      "_view_count": null,
      "_view_module": "@jupyter-widgets/controls",
      "_view_module_version": "1.5.0",
      "_view_name": "HTMLView",
      "description": "",
      "description_tooltip": null,
      "layout": "IPY_MODEL_6e8754587e624245abdb90ffad62f059",
      "placeholder": "​",
      "style": "IPY_MODEL_991534d605d8453fbd8469d8ad82e0a5",
      "value": "Calcolo feature derivate da uniqueId: 100%"
     }
    },
    "c4fff770a715417ca7ad09468f523aec": {
     "model_module": "@jupyter-widgets/controls",
     "model_name": "FloatProgressModel",
     "model_module_version": "1.5.0",
     "state": {
      "_dom_classes": [],
      "_model_module": "@jupyter-widgets/controls",
      "_model_module_version": "1.5.0",
      "_model_name": "FloatProgressModel",
      "_view_count": null,
      "_view_module": "@jupyter-widgets/controls",
      "_view_module_version": "1.5.0",
      "_view_name": "ProgressView",
      "bar_style": "success",
      "description": "",
      "description_tooltip": null,
      "layout": "IPY_MODEL_97e824b16bef4ce7bc7246047b3ab46a",
      "max": 10043,
      "min": 0,
      "orientation": "horizontal",
      "style": "IPY_MODEL_150f32f0727743edb0d43eece2069390",
      "value": 10043
     }
    },
    "8cc403370b0848898b537c18099f040c": {
     "model_module": "@jupyter-widgets/controls",
     "model_name": "HTMLModel",
     "model_module_version": "1.5.0",
     "state": {
      "_dom_classes": [],
      "_model_module": "@jupyter-widgets/controls",
      "_model_module_version": "1.5.0",
      "_model_name": "HTMLModel",
      "_view_count": null,
      "_view_module": "@jupyter-widgets/controls",
      "_view_module_version": "1.5.0",
      "_view_name": "HTMLView",
      "description": "",
      "description_tooltip": null,
      "layout": "IPY_MODEL_794292400c3b45f29e32f64a22d7b50c",
      "placeholder": "​",
      "style": "IPY_MODEL_e7f52f3cda0e4950a6cc40700b8a3b13",
      "value": " 10043/10043 [00:02&lt;00:00, 3454.56it/s]"
     }
    },
    "debe2c83ddbf44cea51f685260972066": {
     "model_module": "@jupyter-widgets/base",
     "model_name": "LayoutModel",
     "model_module_version": "1.2.0",
     "state": {
      "_model_module": "@jupyter-widgets/base",
      "_model_module_version": "1.2.0",
      "_model_name": "LayoutModel",
      "_view_count": null,
      "_view_module": "@jupyter-widgets/base",
      "_view_module_version": "1.2.0",
      "_view_name": "LayoutView",
      "align_content": null,
      "align_items": null,
      "align_self": null,
      "border": null,
      "bottom": null,
      "display": null,
      "flex": null,
      "flex_flow": null,
      "grid_area": null,
      "grid_auto_columns": null,
      "grid_auto_flow": null,
      "grid_auto_rows": null,
      "grid_column": null,
      "grid_gap": null,
      "grid_row": null,
      "grid_template_areas": null,
      "grid_template_columns": null,
      "grid_template_rows": null,
      "height": null,
      "justify_content": null,
      "justify_items": null,
      "left": null,
      "margin": null,
      "max_height": null,
      "max_width": null,
      "min_height": null,
      "min_width": null,
      "object_fit": null,
      "object_position": null,
      "order": null,
      "overflow": null,
      "overflow_x": null,
      "overflow_y": null,
      "padding": null,
      "right": null,
      "top": null,
      "visibility": null,
      "width": null
     }
    },
    "6e8754587e624245abdb90ffad62f059": {
     "model_module": "@jupyter-widgets/base",
     "model_name": "LayoutModel",
     "model_module_version": "1.2.0",
     "state": {
      "_model_module": "@jupyter-widgets/base",
      "_model_module_version": "1.2.0",
      "_model_name": "LayoutModel",
      "_view_count": null,
      "_view_module": "@jupyter-widgets/base",
      "_view_module_version": "1.2.0",
      "_view_name": "LayoutView",
      "align_content": null,
      "align_items": null,
      "align_self": null,
      "border": null,
      "bottom": null,
      "display": null,
      "flex": null,
      "flex_flow": null,
      "grid_area": null,
      "grid_auto_columns": null,
      "grid_auto_flow": null,
      "grid_auto_rows": null,
      "grid_column": null,
      "grid_gap": null,
      "grid_row": null,
      "grid_template_areas": null,
      "grid_template_columns": null,
      "grid_template_rows": null,
      "height": null,
      "justify_content": null,
      "justify_items": null,
      "left": null,
      "margin": null,
      "max_height": null,
      "max_width": null,
      "min_height": null,
      "min_width": null,
      "object_fit": null,
      "object_position": null,
      "order": null,
      "overflow": null,
      "overflow_x": null,
      "overflow_y": null,
      "padding": null,
      "right": null,
      "top": null,
      "visibility": null,
      "width": null
     }
    },
    "991534d605d8453fbd8469d8ad82e0a5": {
     "model_module": "@jupyter-widgets/controls",
     "model_name": "DescriptionStyleModel",
     "model_module_version": "1.5.0",
     "state": {
      "_model_module": "@jupyter-widgets/controls",
      "_model_module_version": "1.5.0",
      "_model_name": "DescriptionStyleModel",
      "_view_count": null,
      "_view_module": "@jupyter-widgets/base",
      "_view_module_version": "1.2.0",
      "_view_name": "StyleView",
      "description_width": ""
     }
    },
    "97e824b16bef4ce7bc7246047b3ab46a": {
     "model_module": "@jupyter-widgets/base",
     "model_name": "LayoutModel",
     "model_module_version": "1.2.0",
     "state": {
      "_model_module": "@jupyter-widgets/base",
      "_model_module_version": "1.2.0",
      "_model_name": "LayoutModel",
      "_view_count": null,
      "_view_module": "@jupyter-widgets/base",
      "_view_module_version": "1.2.0",
      "_view_name": "LayoutView",
      "align_content": null,
      "align_items": null,
      "align_self": null,
      "border": null,
      "bottom": null,
      "display": null,
      "flex": null,
      "flex_flow": null,
      "grid_area": null,
      "grid_auto_columns": null,
      "grid_auto_flow": null,
      "grid_auto_rows": null,
      "grid_column": null,
      "grid_gap": null,
      "grid_row": null,
      "grid_template_areas": null,
      "grid_template_columns": null,
      "grid_template_rows": null,
      "height": null,
      "justify_content": null,
      "justify_items": null,
      "left": null,
      "margin": null,
      "max_height": null,
      "max_width": null,
      "min_height": null,
      "min_width": null,
      "object_fit": null,
      "object_position": null,
      "order": null,
      "overflow": null,
      "overflow_x": null,
      "overflow_y": null,
      "padding": null,
      "right": null,
      "top": null,
      "visibility": null,
      "width": null
     }
    },
    "150f32f0727743edb0d43eece2069390": {
     "model_module": "@jupyter-widgets/controls",
     "model_name": "ProgressStyleModel",
     "model_module_version": "1.5.0",
     "state": {
      "_model_module": "@jupyter-widgets/controls",
      "_model_module_version": "1.5.0",
      "_model_name": "ProgressStyleModel",
      "_view_count": null,
      "_view_module": "@jupyter-widgets/base",
      "_view_module_version": "1.2.0",
      "_view_name": "StyleView",
      "bar_color": null,
      "description_width": ""
     }
    },
    "794292400c3b45f29e32f64a22d7b50c": {
     "model_module": "@jupyter-widgets/base",
     "model_name": "LayoutModel",
     "model_module_version": "1.2.0",
     "state": {
      "_model_module": "@jupyter-widgets/base",
      "_model_module_version": "1.2.0",
      "_model_name": "LayoutModel",
      "_view_count": null,
      "_view_module": "@jupyter-widgets/base",
      "_view_module_version": "1.2.0",
      "_view_name": "LayoutView",
      "align_content": null,
      "align_items": null,
      "align_self": null,
      "border": null,
      "bottom": null,
      "display": null,
      "flex": null,
      "flex_flow": null,
      "grid_area": null,
      "grid_auto_columns": null,
      "grid_auto_flow": null,
      "grid_auto_rows": null,
      "grid_column": null,
      "grid_gap": null,
      "grid_row": null,
      "grid_template_areas": null,
      "grid_template_columns": null,
      "grid_template_rows": null,
      "height": null,
      "justify_content": null,
      "justify_items": null,
      "left": null,
      "margin": null,
      "max_height": null,
      "max_width": null,
      "min_height": null,
      "min_width": null,
      "object_fit": null,
      "object_position": null,
      "order": null,
      "overflow": null,
      "overflow_x": null,
      "overflow_y": null,
      "padding": null,
      "right": null,
      "top": null,
      "visibility": null,
      "width": null
     }
    },
    "e7f52f3cda0e4950a6cc40700b8a3b13": {
     "model_module": "@jupyter-widgets/controls",
     "model_name": "DescriptionStyleModel",
     "model_module_version": "1.5.0",
     "state": {
      "_model_module": "@jupyter-widgets/controls",
      "_model_module_version": "1.5.0",
      "_model_name": "DescriptionStyleModel",
      "_view_count": null,
      "_view_module": "@jupyter-widgets/base",
      "_view_module_version": "1.2.0",
      "_view_name": "StyleView",
      "description_width": ""
     }
    }
   }
  }
 },
 "cells": [
  {
   "cell_type": "markdown",
   "source": [
    "# Data Exploration"
   ],
   "metadata": {
    "id": "COtV6QI3WyCM"
   }
  },
  {
   "cell_type": "markdown",
   "source": [
    "## 1. Operazioni preliminari"
   ],
   "metadata": {
    "id": "w7cXYJNOccIW"
   }
  },
  {
   "cell_type": "markdown",
   "source": [
    "> Importazione delle librerie"
   ],
   "metadata": {
    "id": "DU7x-CZ7bjsE"
   }
  },
  {
   "cell_type": "code",
   "source": [
    "import pandas as pd\n",
    "import matplotlib.pyplot as plt\n",
    "import seaborn as sns\n",
    "from pandas.plotting import scatter_matrix\n",
    "import numpy as np"
   ],
   "metadata": {
    "id": "_USQCToRE-iR",
    "executionInfo": {
     "status": "ok",
     "timestamp": 1721049588019,
     "user_tz": -120,
     "elapsed": 1540,
     "user": {
      "displayName": "Annalaura Miglino",
      "userId": "03808724092990969006"
     }
    },
    "ExecuteTime": {
     "end_time": "2024-07-11T15:01:26.406778Z",
     "start_time": "2024-07-11T15:01:26.197795Z"
    }
   },
   "outputs": [],
   "execution_count": 6
  },
  {
   "cell_type": "markdown",
   "source": [
    "> Montaggio di Drive"
   ],
   "metadata": {
    "id": "6V_OTCHeblmu"
   }
  },
  {
   "cell_type": "code",
   "source": [
    "from google.colab import drive\n",
    "drive.mount('/content/drive')"
   ],
   "metadata": {
    "colab": {
     "base_uri": "https://localhost:8080/"
    },
    "id": "pWVxk3AKFI4q",
    "outputId": "87066951-b7ce-44f1-bbb0-a3e646b03e6f",
    "executionInfo": {
     "status": "ok",
     "timestamp": 1721049517982,
     "user_tz": -120,
     "elapsed": 21026,
     "user": {
      "displayName": "Annalaura Miglino",
      "userId": "03808724092990969006"
     }
    }
   },
   "execution_count": 2,
   "outputs": [
    {
     "output_type": "stream",
     "name": "stdout",
     "text": [
      "Mounted at /content/drive\n"
     ]
    }
   ]
  },
  {
   "cell_type": "markdown",
   "source": [
    "> Lettura del dataset"
   ],
   "metadata": {
    "id": "jvl_P1KRbnFt"
   }
  },
  {
   "cell_type": "code",
   "execution_count": 3,
   "outputs": [],
   "source": [
    "# drive path\n",
    "csv_path = '/content/drive/MyDrive/Progetto_FDSML/tiktok_accounts.csv'"
   ],
   "metadata": {
    "id": "GPIMX-gnMQT1",
    "executionInfo": {
     "status": "ok",
     "timestamp": 1721049517982,
     "user_tz": -120,
     "elapsed": 5,
     "user": {
      "displayName": "Annalaura Miglino",
      "userId": "03808724092990969006"
     }
    }
   }
  },
  {
   "cell_type": "code",
   "source": [
    "# local path\n",
    "csv_path = '../datasets/tiktok_accounts.csv'"
   ],
   "metadata": {
    "id": "3TMJXhwwMQT2",
    "ExecuteTime": {
     "end_time": "2024-07-11T15:01:30.592897Z",
     "start_time": "2024-07-11T15:01:30.591354Z"
    }
   },
   "outputs": [],
   "execution_count": 7
  },
  {
   "cell_type": "code",
   "source": [
    "df = pd.read_csv(csv_path)\n",
    "df.head()"
   ],
   "metadata": {
    "colab": {
     "base_uri": "https://localhost:8080/",
     "height": 243
    },
    "id": "kTGRmldzMQT3",
    "executionInfo": {
     "status": "ok",
     "timestamp": 1721049539082,
     "user_tz": -120,
     "elapsed": 1604,
     "user": {
      "displayName": "Annalaura Miglino",
      "userId": "03808724092990969006"
     }
    },
    "outputId": "41996749-03fe-42b6-ac09-360c1cd80a05",
    "ExecuteTime": {
     "end_time": "2024-07-11T15:02:15.532228Z",
     "start_time": "2024-07-11T15:02:15.494265Z"
    }
   },
   "outputs": [
    {
     "data": {
      "text/plain": "   diggCount  followerCount  followingCount  heartCount  videoCount  \\\n0        279              0             564           0           0   \n1       1198             71            9980           0           0   \n2       2968            596            1123        2062         266   \n3       2351            200             818         435          36   \n4      40300        1100000              52    10000000         720   \n\n   commentSetting  downloadSetting  duetSetting       nickname  openFavorite  \\\n0               0                0            0      Tik Toker         False   \n1               0                0            0         BEULAH          True   \n2               0                0            0        Lello27         False   \n3               0                0            0    clemevitale         False   \n4               0                3            1  Saher Monther         False   \n\n          signature  stitchSetting                uniqueId  verified   fake  \n0        No bio yet              0           gyzituvigy542     False   True  \n1               NaN              0   tshphjtowl2401583tbww     False   True  \n2               NaN              0  aristanismamojadanuoro     False  False  \n3               NaN              0             clemevitale     False  False  \n4  YouTuber star ⭐️              0            sahermonther      True  False  ",
      "text/html": "<div>\n<style scoped>\n    .dataframe tbody tr th:only-of-type {\n        vertical-align: middle;\n    }\n\n    .dataframe tbody tr th {\n        vertical-align: top;\n    }\n\n    .dataframe thead th {\n        text-align: right;\n    }\n</style>\n<table border=\"1\" class=\"dataframe\">\n  <thead>\n    <tr style=\"text-align: right;\">\n      <th></th>\n      <th>diggCount</th>\n      <th>followerCount</th>\n      <th>followingCount</th>\n      <th>heartCount</th>\n      <th>videoCount</th>\n      <th>commentSetting</th>\n      <th>downloadSetting</th>\n      <th>duetSetting</th>\n      <th>nickname</th>\n      <th>openFavorite</th>\n      <th>signature</th>\n      <th>stitchSetting</th>\n      <th>uniqueId</th>\n      <th>verified</th>\n      <th>fake</th>\n    </tr>\n  </thead>\n  <tbody>\n    <tr>\n      <th>0</th>\n      <td>279</td>\n      <td>0</td>\n      <td>564</td>\n      <td>0</td>\n      <td>0</td>\n      <td>0</td>\n      <td>0</td>\n      <td>0</td>\n      <td>Tik Toker</td>\n      <td>False</td>\n      <td>No bio yet</td>\n      <td>0</td>\n      <td>gyzituvigy542</td>\n      <td>False</td>\n      <td>True</td>\n    </tr>\n    <tr>\n      <th>1</th>\n      <td>1198</td>\n      <td>71</td>\n      <td>9980</td>\n      <td>0</td>\n      <td>0</td>\n      <td>0</td>\n      <td>0</td>\n      <td>0</td>\n      <td>BEULAH</td>\n      <td>True</td>\n      <td>NaN</td>\n      <td>0</td>\n      <td>tshphjtowl2401583tbww</td>\n      <td>False</td>\n      <td>True</td>\n    </tr>\n    <tr>\n      <th>2</th>\n      <td>2968</td>\n      <td>596</td>\n      <td>1123</td>\n      <td>2062</td>\n      <td>266</td>\n      <td>0</td>\n      <td>0</td>\n      <td>0</td>\n      <td>Lello27</td>\n      <td>False</td>\n      <td>NaN</td>\n      <td>0</td>\n      <td>aristanismamojadanuoro</td>\n      <td>False</td>\n      <td>False</td>\n    </tr>\n    <tr>\n      <th>3</th>\n      <td>2351</td>\n      <td>200</td>\n      <td>818</td>\n      <td>435</td>\n      <td>36</td>\n      <td>0</td>\n      <td>0</td>\n      <td>0</td>\n      <td>clemevitale</td>\n      <td>False</td>\n      <td>NaN</td>\n      <td>0</td>\n      <td>clemevitale</td>\n      <td>False</td>\n      <td>False</td>\n    </tr>\n    <tr>\n      <th>4</th>\n      <td>40300</td>\n      <td>1100000</td>\n      <td>52</td>\n      <td>10000000</td>\n      <td>720</td>\n      <td>0</td>\n      <td>3</td>\n      <td>1</td>\n      <td>Saher Monther</td>\n      <td>False</td>\n      <td>YouTuber star ⭐️</td>\n      <td>0</td>\n      <td>sahermonther</td>\n      <td>True</td>\n      <td>False</td>\n    </tr>\n  </tbody>\n</table>\n</div>"
     },
     "execution_count": 3,
     "metadata": {},
     "output_type": "execute_result"
    }
   ],
   "execution_count": 3
  },
  {
   "cell_type": "markdown",
   "source": [
    "## 2. Esplorazione dei dati"
   ],
   "metadata": {
    "id": "SYxs0pmnFnVW"
   }
  },
  {
   "cell_type": "code",
   "source": [
    "# Verifico quante istanze ci sono nel dataset\n",
    "len(df)"
   ],
   "metadata": {
    "colab": {
     "base_uri": "https://localhost:8080/"
    },
    "id": "TtFAFLsdFpK1",
    "outputId": "ad822f90-0799-48b3-9350-ff9227d6f201",
    "executionInfo": {
     "status": "ok",
     "timestamp": 1720342654034,
     "user_tz": -120,
     "elapsed": 291,
     "user": {
      "displayName": "Annalaura Miglino",
      "userId": "03808724092990969006"
     }
    }
   },
   "execution_count": 4,
   "outputs": [
    {
     "data": {
      "text/plain": "10043"
     },
     "execution_count": 4,
     "metadata": {},
     "output_type": "execute_result"
    }
   ]
  },
  {
   "cell_type": "code",
   "source": [
    "# Stampo informazioni sul dataset\n",
    "df.info()"
   ],
   "metadata": {
    "colab": {
     "base_uri": "https://localhost:8080/"
    },
    "id": "9szWz898FrQG",
    "outputId": "61112494-4609-49c6-dd54-173408173694",
    "executionInfo": {
     "status": "ok",
     "timestamp": 1720342655306,
     "user_tz": -120,
     "elapsed": 6,
     "user": {
      "displayName": "Annalaura Miglino",
      "userId": "03808724092990969006"
     }
    }
   },
   "execution_count": 5,
   "outputs": [
    {
     "name": "stdout",
     "output_type": "stream",
     "text": [
      "<class 'pandas.core.frame.DataFrame'>\n",
      "RangeIndex: 10043 entries, 0 to 10042\n",
      "Data columns (total 15 columns):\n",
      " #   Column           Non-Null Count  Dtype \n",
      "---  ------           --------------  ----- \n",
      " 0   diggCount        10043 non-null  int64 \n",
      " 1   followerCount    10043 non-null  int64 \n",
      " 2   followingCount   10043 non-null  int64 \n",
      " 3   heartCount       10043 non-null  int64 \n",
      " 4   videoCount       10043 non-null  int64 \n",
      " 5   commentSetting   10043 non-null  int64 \n",
      " 6   downloadSetting  10043 non-null  int64 \n",
      " 7   duetSetting      10043 non-null  int64 \n",
      " 8   nickname         10043 non-null  object\n",
      " 9   openFavorite     10043 non-null  bool  \n",
      " 10  signature        6536 non-null   object\n",
      " 11  stitchSetting    10043 non-null  int64 \n",
      " 12  uniqueId         10043 non-null  object\n",
      " 13  verified         10043 non-null  bool  \n",
      " 14  fake             10043 non-null  bool  \n",
      "dtypes: bool(3), int64(9), object(3)\n",
      "memory usage: 971.1+ KB\n"
     ]
    }
   ]
  },
  {
   "cell_type": "code",
   "source": [
    "# Descrivo gli attributi numerici del dataset\n",
    "df.describe()"
   ],
   "metadata": {
    "colab": {
     "base_uri": "https://localhost:8080/",
     "height": 300
    },
    "id": "kqx8uSAQFwlH",
    "outputId": "05a6b428-d948-451c-cb68-3c2bdda6fd65",
    "executionInfo": {
     "status": "ok",
     "timestamp": 1720342657364,
     "user_tz": -120,
     "elapsed": 353,
     "user": {
      "displayName": "Annalaura Miglino",
      "userId": "03808724092990969006"
     }
    }
   },
   "execution_count": null,
   "outputs": [
    {
     "output_type": "execute_result",
     "data": {
      "text/plain": [
       "           diggCount  followerCount  followingCount    heartCount  \\\n",
       "count   10043.000000   1.004300e+04    10043.000000  1.004300e+04   \n",
       "mean     3893.421189   2.218839e+05     1043.106641  3.978432e+06   \n",
       "std     17247.832989   2.177557e+06     2186.721075  3.812251e+07   \n",
       "min         0.000000   0.000000e+00        0.000000  0.000000e+00   \n",
       "25%       195.000000   2.000000e+00      176.000000  0.000000e+00   \n",
       "50%       358.000000   5.400000e+01      533.000000  0.000000e+00   \n",
       "75%       761.000000   5.120000e+02      686.000000  9.060000e+02   \n",
       "max    386100.000000   8.230000e+07    10000.000000  1.400000e+09   \n",
       "\n",
       "         videoCount  commentSetting  downloadSetting   duetSetting  \\\n",
       "count  10043.000000    10043.000000     10043.000000  10043.000000   \n",
       "mean      66.211889        0.009161         0.146968      0.089316   \n",
       "std      311.690438        0.136519         0.647570      0.479087   \n",
       "min        0.000000        0.000000         0.000000      0.000000   \n",
       "25%        0.000000        0.000000         0.000000      0.000000   \n",
       "50%        0.000000        0.000000         0.000000      0.000000   \n",
       "75%       17.000000        0.000000         0.000000      0.000000   \n",
       "max     9300.000000        3.000000         3.000000      3.000000   \n",
       "\n",
       "       stitchSetting  \n",
       "count   10043.000000  \n",
       "mean        0.093100  \n",
       "std         0.489071  \n",
       "min         0.000000  \n",
       "25%         0.000000  \n",
       "50%         0.000000  \n",
       "75%         0.000000  \n",
       "max         3.000000  "
      ],
      "text/html": [
       "\n",
       "  <div id=\"df-de15435b-ad44-43b7-a518-37a09058fa12\" class=\"colab-df-container\">\n",
       "    <div>\n",
       "<style scoped>\n",
       "    .dataframe tbody tr th:only-of-type {\n",
       "        vertical-align: middle;\n",
       "    }\n",
       "\n",
       "    .dataframe tbody tr th {\n",
       "        vertical-align: top;\n",
       "    }\n",
       "\n",
       "    .dataframe thead th {\n",
       "        text-align: right;\n",
       "    }\n",
       "</style>\n",
       "<table border=\"1\" class=\"dataframe\">\n",
       "  <thead>\n",
       "    <tr style=\"text-align: right;\">\n",
       "      <th></th>\n",
       "      <th>diggCount</th>\n",
       "      <th>followerCount</th>\n",
       "      <th>followingCount</th>\n",
       "      <th>heartCount</th>\n",
       "      <th>videoCount</th>\n",
       "      <th>commentSetting</th>\n",
       "      <th>downloadSetting</th>\n",
       "      <th>duetSetting</th>\n",
       "      <th>stitchSetting</th>\n",
       "    </tr>\n",
       "  </thead>\n",
       "  <tbody>\n",
       "    <tr>\n",
       "      <th>count</th>\n",
       "      <td>10043.000000</td>\n",
       "      <td>1.004300e+04</td>\n",
       "      <td>10043.000000</td>\n",
       "      <td>1.004300e+04</td>\n",
       "      <td>10043.000000</td>\n",
       "      <td>10043.000000</td>\n",
       "      <td>10043.000000</td>\n",
       "      <td>10043.000000</td>\n",
       "      <td>10043.000000</td>\n",
       "    </tr>\n",
       "    <tr>\n",
       "      <th>mean</th>\n",
       "      <td>3893.421189</td>\n",
       "      <td>2.218839e+05</td>\n",
       "      <td>1043.106641</td>\n",
       "      <td>3.978432e+06</td>\n",
       "      <td>66.211889</td>\n",
       "      <td>0.009161</td>\n",
       "      <td>0.146968</td>\n",
       "      <td>0.089316</td>\n",
       "      <td>0.093100</td>\n",
       "    </tr>\n",
       "    <tr>\n",
       "      <th>std</th>\n",
       "      <td>17247.832989</td>\n",
       "      <td>2.177557e+06</td>\n",
       "      <td>2186.721075</td>\n",
       "      <td>3.812251e+07</td>\n",
       "      <td>311.690438</td>\n",
       "      <td>0.136519</td>\n",
       "      <td>0.647570</td>\n",
       "      <td>0.479087</td>\n",
       "      <td>0.489071</td>\n",
       "    </tr>\n",
       "    <tr>\n",
       "      <th>min</th>\n",
       "      <td>0.000000</td>\n",
       "      <td>0.000000e+00</td>\n",
       "      <td>0.000000</td>\n",
       "      <td>0.000000e+00</td>\n",
       "      <td>0.000000</td>\n",
       "      <td>0.000000</td>\n",
       "      <td>0.000000</td>\n",
       "      <td>0.000000</td>\n",
       "      <td>0.000000</td>\n",
       "    </tr>\n",
       "    <tr>\n",
       "      <th>25%</th>\n",
       "      <td>195.000000</td>\n",
       "      <td>2.000000e+00</td>\n",
       "      <td>176.000000</td>\n",
       "      <td>0.000000e+00</td>\n",
       "      <td>0.000000</td>\n",
       "      <td>0.000000</td>\n",
       "      <td>0.000000</td>\n",
       "      <td>0.000000</td>\n",
       "      <td>0.000000</td>\n",
       "    </tr>\n",
       "    <tr>\n",
       "      <th>50%</th>\n",
       "      <td>358.000000</td>\n",
       "      <td>5.400000e+01</td>\n",
       "      <td>533.000000</td>\n",
       "      <td>0.000000e+00</td>\n",
       "      <td>0.000000</td>\n",
       "      <td>0.000000</td>\n",
       "      <td>0.000000</td>\n",
       "      <td>0.000000</td>\n",
       "      <td>0.000000</td>\n",
       "    </tr>\n",
       "    <tr>\n",
       "      <th>75%</th>\n",
       "      <td>761.000000</td>\n",
       "      <td>5.120000e+02</td>\n",
       "      <td>686.000000</td>\n",
       "      <td>9.060000e+02</td>\n",
       "      <td>17.000000</td>\n",
       "      <td>0.000000</td>\n",
       "      <td>0.000000</td>\n",
       "      <td>0.000000</td>\n",
       "      <td>0.000000</td>\n",
       "    </tr>\n",
       "    <tr>\n",
       "      <th>max</th>\n",
       "      <td>386100.000000</td>\n",
       "      <td>8.230000e+07</td>\n",
       "      <td>10000.000000</td>\n",
       "      <td>1.400000e+09</td>\n",
       "      <td>9300.000000</td>\n",
       "      <td>3.000000</td>\n",
       "      <td>3.000000</td>\n",
       "      <td>3.000000</td>\n",
       "      <td>3.000000</td>\n",
       "    </tr>\n",
       "  </tbody>\n",
       "</table>\n",
       "</div>\n",
       "    <div class=\"colab-df-buttons\">\n",
       "\n",
       "  <div class=\"colab-df-container\">\n",
       "    <button class=\"colab-df-convert\" onclick=\"convertToInteractive('df-de15435b-ad44-43b7-a518-37a09058fa12')\"\n",
       "            title=\"Convert this dataframe to an interactive table.\"\n",
       "            style=\"display:none;\">\n",
       "\n",
       "  <svg xmlns=\"http://www.w3.org/2000/svg\" height=\"24px\" viewBox=\"0 -960 960 960\">\n",
       "    <path d=\"M120-120v-720h720v720H120Zm60-500h600v-160H180v160Zm220 220h160v-160H400v160Zm0 220h160v-160H400v160ZM180-400h160v-160H180v160Zm440 0h160v-160H620v160ZM180-180h160v-160H180v160Zm440 0h160v-160H620v160Z\"/>\n",
       "  </svg>\n",
       "    </button>\n",
       "\n",
       "  <style>\n",
       "    .colab-df-container {\n",
       "      display:flex;\n",
       "      gap: 12px;\n",
       "    }\n",
       "\n",
       "    .colab-df-convert {\n",
       "      background-color: #E8F0FE;\n",
       "      border: none;\n",
       "      border-radius: 50%;\n",
       "      cursor: pointer;\n",
       "      display: none;\n",
       "      fill: #1967D2;\n",
       "      height: 32px;\n",
       "      padding: 0 0 0 0;\n",
       "      width: 32px;\n",
       "    }\n",
       "\n",
       "    .colab-df-convert:hover {\n",
       "      background-color: #E2EBFA;\n",
       "      box-shadow: 0px 1px 2px rgba(60, 64, 67, 0.3), 0px 1px 3px 1px rgba(60, 64, 67, 0.15);\n",
       "      fill: #174EA6;\n",
       "    }\n",
       "\n",
       "    .colab-df-buttons div {\n",
       "      margin-bottom: 4px;\n",
       "    }\n",
       "\n",
       "    [theme=dark] .colab-df-convert {\n",
       "      background-color: #3B4455;\n",
       "      fill: #D2E3FC;\n",
       "    }\n",
       "\n",
       "    [theme=dark] .colab-df-convert:hover {\n",
       "      background-color: #434B5C;\n",
       "      box-shadow: 0px 1px 3px 1px rgba(0, 0, 0, 0.15);\n",
       "      filter: drop-shadow(0px 1px 2px rgba(0, 0, 0, 0.3));\n",
       "      fill: #FFFFFF;\n",
       "    }\n",
       "  </style>\n",
       "\n",
       "    <script>\n",
       "      const buttonEl =\n",
       "        document.querySelector('#df-de15435b-ad44-43b7-a518-37a09058fa12 button.colab-df-convert');\n",
       "      buttonEl.style.display =\n",
       "        google.colab.kernel.accessAllowed ? 'block' : 'none';\n",
       "\n",
       "      async function convertToInteractive(key) {\n",
       "        const element = document.querySelector('#df-de15435b-ad44-43b7-a518-37a09058fa12');\n",
       "        const dataTable =\n",
       "          await google.colab.kernel.invokeFunction('convertToInteractive',\n",
       "                                                    [key], {});\n",
       "        if (!dataTable) return;\n",
       "\n",
       "        const docLinkHtml = 'Like what you see? Visit the ' +\n",
       "          '<a target=\"_blank\" href=https://colab.research.google.com/notebooks/data_table.ipynb>data table notebook</a>'\n",
       "          + ' to learn more about interactive tables.';\n",
       "        element.innerHTML = '';\n",
       "        dataTable['output_type'] = 'display_data';\n",
       "        await google.colab.output.renderOutput(dataTable, element);\n",
       "        const docLink = document.createElement('div');\n",
       "        docLink.innerHTML = docLinkHtml;\n",
       "        element.appendChild(docLink);\n",
       "      }\n",
       "    </script>\n",
       "  </div>\n",
       "\n",
       "\n",
       "<div id=\"df-f63fb8b4-7870-43ad-86b6-3fc4cc3ff1ed\">\n",
       "  <button class=\"colab-df-quickchart\" onclick=\"quickchart('df-f63fb8b4-7870-43ad-86b6-3fc4cc3ff1ed')\"\n",
       "            title=\"Suggest charts\"\n",
       "            style=\"display:none;\">\n",
       "\n",
       "<svg xmlns=\"http://www.w3.org/2000/svg\" height=\"24px\"viewBox=\"0 0 24 24\"\n",
       "     width=\"24px\">\n",
       "    <g>\n",
       "        <path d=\"M19 3H5c-1.1 0-2 .9-2 2v14c0 1.1.9 2 2 2h14c1.1 0 2-.9 2-2V5c0-1.1-.9-2-2-2zM9 17H7v-7h2v7zm4 0h-2V7h2v10zm4 0h-2v-4h2v4z\"/>\n",
       "    </g>\n",
       "</svg>\n",
       "  </button>\n",
       "\n",
       "<style>\n",
       "  .colab-df-quickchart {\n",
       "      --bg-color: #E8F0FE;\n",
       "      --fill-color: #1967D2;\n",
       "      --hover-bg-color: #E2EBFA;\n",
       "      --hover-fill-color: #174EA6;\n",
       "      --disabled-fill-color: #AAA;\n",
       "      --disabled-bg-color: #DDD;\n",
       "  }\n",
       "\n",
       "  [theme=dark] .colab-df-quickchart {\n",
       "      --bg-color: #3B4455;\n",
       "      --fill-color: #D2E3FC;\n",
       "      --hover-bg-color: #434B5C;\n",
       "      --hover-fill-color: #FFFFFF;\n",
       "      --disabled-bg-color: #3B4455;\n",
       "      --disabled-fill-color: #666;\n",
       "  }\n",
       "\n",
       "  .colab-df-quickchart {\n",
       "    background-color: var(--bg-color);\n",
       "    border: none;\n",
       "    border-radius: 50%;\n",
       "    cursor: pointer;\n",
       "    display: none;\n",
       "    fill: var(--fill-color);\n",
       "    height: 32px;\n",
       "    padding: 0;\n",
       "    width: 32px;\n",
       "  }\n",
       "\n",
       "  .colab-df-quickchart:hover {\n",
       "    background-color: var(--hover-bg-color);\n",
       "    box-shadow: 0 1px 2px rgba(60, 64, 67, 0.3), 0 1px 3px 1px rgba(60, 64, 67, 0.15);\n",
       "    fill: var(--button-hover-fill-color);\n",
       "  }\n",
       "\n",
       "  .colab-df-quickchart-complete:disabled,\n",
       "  .colab-df-quickchart-complete:disabled:hover {\n",
       "    background-color: var(--disabled-bg-color);\n",
       "    fill: var(--disabled-fill-color);\n",
       "    box-shadow: none;\n",
       "  }\n",
       "\n",
       "  .colab-df-spinner {\n",
       "    border: 2px solid var(--fill-color);\n",
       "    border-color: transparent;\n",
       "    border-bottom-color: var(--fill-color);\n",
       "    animation:\n",
       "      spin 1s steps(1) infinite;\n",
       "  }\n",
       "\n",
       "  @keyframes spin {\n",
       "    0% {\n",
       "      border-color: transparent;\n",
       "      border-bottom-color: var(--fill-color);\n",
       "      border-left-color: var(--fill-color);\n",
       "    }\n",
       "    20% {\n",
       "      border-color: transparent;\n",
       "      border-left-color: var(--fill-color);\n",
       "      border-top-color: var(--fill-color);\n",
       "    }\n",
       "    30% {\n",
       "      border-color: transparent;\n",
       "      border-left-color: var(--fill-color);\n",
       "      border-top-color: var(--fill-color);\n",
       "      border-right-color: var(--fill-color);\n",
       "    }\n",
       "    40% {\n",
       "      border-color: transparent;\n",
       "      border-right-color: var(--fill-color);\n",
       "      border-top-color: var(--fill-color);\n",
       "    }\n",
       "    60% {\n",
       "      border-color: transparent;\n",
       "      border-right-color: var(--fill-color);\n",
       "    }\n",
       "    80% {\n",
       "      border-color: transparent;\n",
       "      border-right-color: var(--fill-color);\n",
       "      border-bottom-color: var(--fill-color);\n",
       "    }\n",
       "    90% {\n",
       "      border-color: transparent;\n",
       "      border-bottom-color: var(--fill-color);\n",
       "    }\n",
       "  }\n",
       "</style>\n",
       "\n",
       "  <script>\n",
       "    async function quickchart(key) {\n",
       "      const quickchartButtonEl =\n",
       "        document.querySelector('#' + key + ' button');\n",
       "      quickchartButtonEl.disabled = true;  // To prevent multiple clicks.\n",
       "      quickchartButtonEl.classList.add('colab-df-spinner');\n",
       "      try {\n",
       "        const charts = await google.colab.kernel.invokeFunction(\n",
       "            'suggestCharts', [key], {});\n",
       "      } catch (error) {\n",
       "        console.error('Error during call to suggestCharts:', error);\n",
       "      }\n",
       "      quickchartButtonEl.classList.remove('colab-df-spinner');\n",
       "      quickchartButtonEl.classList.add('colab-df-quickchart-complete');\n",
       "    }\n",
       "    (() => {\n",
       "      let quickchartButtonEl =\n",
       "        document.querySelector('#df-f63fb8b4-7870-43ad-86b6-3fc4cc3ff1ed button');\n",
       "      quickchartButtonEl.style.display =\n",
       "        google.colab.kernel.accessAllowed ? 'block' : 'none';\n",
       "    })();\n",
       "  </script>\n",
       "</div>\n",
       "\n",
       "    </div>\n",
       "  </div>\n"
      ],
      "application/vnd.google.colaboratory.intrinsic+json": {
       "type": "dataframe",
       "summary": "{\n  \"name\": \"df\",\n  \"rows\": 8,\n  \"fields\": [\n    {\n      \"column\": \"diggCount\",\n      \"properties\": {\n        \"dtype\": \"number\",\n        \"std\": 135004.97415718818,\n        \"min\": 0.0,\n        \"max\": 386100.0,\n        \"num_unique_values\": 8,\n        \"samples\": [\n          3893.4211888877826,\n          358.0,\n          10043.0\n        ],\n        \"semantic_type\": \"\",\n        \"description\": \"\"\n      }\n    },\n    {\n      \"column\": \"followerCount\",\n      \"properties\": {\n        \"dtype\": \"number\",\n        \"std\": 28985481.545490284,\n        \"min\": 0.0,\n        \"max\": 82300000.0,\n        \"num_unique_values\": 8,\n        \"samples\": [\n          221883.9489196455,\n          54.0,\n          10043.0\n        ],\n        \"semantic_type\": \"\",\n        \"description\": \"\"\n      }\n    },\n    {\n      \"column\": \"followingCount\",\n      \"properties\": {\n        \"dtype\": \"number\",\n        \"std\": 4333.500976508176,\n        \"min\": 0.0,\n        \"max\": 10043.0,\n        \"num_unique_values\": 8,\n        \"samples\": [\n          1043.1066414418003,\n          533.0,\n          10043.0\n        ],\n        \"semantic_type\": \"\",\n        \"description\": \"\"\n      }\n    },\n    {\n      \"column\": \"heartCount\",\n      \"properties\": {\n        \"dtype\": \"number\",\n        \"std\": 493023951.23126936,\n        \"min\": 0.0,\n        \"max\": 1400000000.0,\n        \"num_unique_values\": 6,\n        \"samples\": [\n          10043.0,\n          3978432.3874340337,\n          1400000000.0\n        ],\n        \"semantic_type\": \"\",\n        \"description\": \"\"\n      }\n    },\n    {\n      \"column\": \"videoCount\",\n      \"properties\": {\n        \"dtype\": \"number\",\n        \"std\": 4452.2157310130315,\n        \"min\": 0.0,\n        \"max\": 10043.0,\n        \"num_unique_values\": 6,\n        \"samples\": [\n          10043.0,\n          66.21188887782534,\n          9300.0\n        ],\n        \"semantic_type\": \"\",\n        \"description\": \"\"\n      }\n    },\n    {\n      \"column\": \"commentSetting\",\n      \"properties\": {\n        \"dtype\": \"number\",\n        \"std\": 3550.5779739090804,\n        \"min\": 0.0,\n        \"max\": 10043.0,\n        \"num_unique_values\": 5,\n        \"samples\": [\n          0.00916060937966743,\n          3.0,\n          0.1365190284326163\n        ],\n        \"semantic_type\": \"\",\n        \"description\": \"\"\n      }\n    },\n    {\n      \"column\": \"downloadSetting\",\n      \"properties\": {\n        \"dtype\": \"number\",\n        \"std\": 3550.5451971894936,\n        \"min\": 0.0,\n        \"max\": 10043.0,\n        \"num_unique_values\": 5,\n        \"samples\": [\n          0.14696803743901224,\n          3.0,\n          0.6475695046617442\n        ],\n        \"semantic_type\": \"\",\n        \"description\": \"\"\n      }\n    },\n    {\n      \"column\": \"duetSetting\",\n      \"properties\": {\n        \"dtype\": \"number\",\n        \"std\": 3550.556619403258,\n        \"min\": 0.0,\n        \"max\": 10043.0,\n        \"num_unique_values\": 5,\n        \"samples\": [\n          0.08931594145175745,\n          3.0,\n          0.479087004362705\n        ],\n        \"semantic_type\": \"\",\n        \"description\": \"\"\n      }\n    },\n    {\n      \"column\": \"stitchSetting\",\n      \"properties\": {\n        \"dtype\": \"number\",\n        \"std\": 3550.5559239464606,\n        \"min\": 0.0,\n        \"max\": 10043.0,\n        \"num_unique_values\": 5,\n        \"samples\": [\n          0.09309967141292443,\n          3.0,\n          0.4890711403116031\n        ],\n        \"semantic_type\": \"\",\n        \"description\": \"\"\n      }\n    }\n  ]\n}"
      }
     },
     "metadata": {},
     "execution_count": 9
    }
   ]
  },
  {
   "cell_type": "markdown",
   "source": [
    ">"
   ],
   "metadata": {
    "collapsed": false,
    "id": "zJxlnpldMQT7"
   }
  },
  {
   "cell_type": "code",
   "execution_count": null,
   "outputs": [
    {
     "output_type": "display_data",
     "data": {
      "text/plain": [
       "<Figure size 2000x1500 with 9 Axes>"
      ],
      "image/png": "[encoded data removed]"
     },
     "metadata": {}
    }
   ],
   "source": [
    "# Stampo i grafici relativi agli attributi numerici\n",
    "# bins indica il numero totale di intervalli equidistanti in cui suddividere i dati\n",
    "%matplotlib inline\n",
    "df.hist(bins=5, figsize=(20,15))\n",
    "plt.show()"
   ],
   "metadata": {
    "colab": {
     "base_uri": "https://localhost:8080/",
     "height": 886
    },
    "id": "tAkwin5VMQT7",
    "executionInfo": {
     "status": "ok",
     "timestamp": 1720342660829,
     "user_tz": -120,
     "elapsed": 2104,
     "user": {
      "displayName": "Annalaura Miglino",
      "userId": "03808724092990969006"
     }
    },
    "outputId": "5fb6f153-b6fe-4f88-a3d8-7f6ac0ba614a"
   }
  },
  {
   "cell_type": "code",
   "source": [
    "# Stampo massimo e minimo di ogni attributo\n",
    "print(\"Massimo diggCount:\", df['diggCount'].max())\n",
    "print(\"Minimo diggCount:\", df['diggCount'].min())\n",
    "\n",
    "print(\"Massimo followerCount:\", df['followerCount'].max())\n",
    "print(\"Minimo followerCount:\", df['followerCount'].min())\n",
    "\n",
    "print(\"Massimo followingCount:\", df['followingCount'].max())\n",
    "print(\"Minimo followingCount:\", df['followingCount'].min())\n",
    "\n",
    "print(\"Massimo heartCount:\", df['heartCount'].max())\n",
    "print(\"Minimo heartCount:\", df['heartCount'].min())\n",
    "\n",
    "print(\"Massimo videoCount:\", df['videoCount'].max())\n",
    "print(\"Minimo videoCount:\", df['videoCount'].min())\n",
    "\n",
    "print(\"Massimo commentSetting:\", df['commentSetting'].max())\n",
    "print(\"Minimo commentSetting:\", df['commentSetting'].min())\n",
    "\n",
    "print(\"Massimo downloadSetting:\", df['downloadSetting'].max())\n",
    "print(\"Minimo downloadSetting:\", df['downloadSetting'].min())\n",
    "\n",
    "print(\"Massimo duetSetting:\", df['duetSetting'].max())\n",
    "print(\"Minimo duetSetting:\", df['duetSetting'].min())\n",
    "\n",
    "print(\"Massimo stitchSetting:\", df['stitchSetting'].max())\n",
    "print(\"Minimo stitchSetting:\", df['stitchSetting'].min())"
   ],
   "metadata": {
    "colab": {
     "base_uri": "https://localhost:8080/"
    },
    "id": "eRgICEUfGNG9",
    "outputId": "2f245675-1fc6-47c7-8f79-044a359984d9",
    "executionInfo": {
     "status": "ok",
     "timestamp": 1720342662180,
     "user_tz": -120,
     "elapsed": 4,
     "user": {
      "displayName": "Annalaura Miglino",
      "userId": "03808724092990969006"
     }
    }
   },
   "execution_count": 10,
   "outputs": [
    {
     "name": "stdout",
     "output_type": "stream",
     "text": [
      "Massimo diggCount: 386100\n",
      "Minimo diggCount: 0\n",
      "Massimo followerCount: 82300000\n",
      "Minimo followerCount: 0\n",
      "Massimo followingCount: 10000\n",
      "Minimo followingCount: 0\n",
      "Massimo heartCount: 1400000000\n",
      "Minimo heartCount: 0\n",
      "Massimo videoCount: 9300\n",
      "Minimo videoCount: 0\n",
      "Massimo commentSetting: 3\n",
      "Minimo commentSetting: 0\n",
      "Massimo downloadSetting: 3\n",
      "Minimo downloadSetting: 0\n",
      "Massimo duetSetting: 3\n",
      "Minimo duetSetting: 0\n",
      "Massimo stitchSetting: 3\n",
      "Minimo stitchSetting: 0\n"
     ]
    }
   ]
  },
  {
   "cell_type": "markdown",
   "source": [
    "> Matrice di correlazione per capire quali sono le variabili effettivamente correlate da quelle che non lo sono."
   ],
   "metadata": {
    "collapsed": false,
    "id": "pSdmoFujMQT9"
   }
  },
  {
   "cell_type": "code",
   "execution_count": 6,
   "outputs": [
    {
     "output_type": "execute_result",
     "data": {
      "text/plain": [
       "fake               1.000000\n",
       "followingCount     0.250169\n",
       "commentSetting    -0.067205\n",
       "followerCount     -0.102048\n",
       "heartCount        -0.104520\n",
       "duetSetting       -0.186717\n",
       "stitchSetting     -0.190654\n",
       "diggCount         -0.204800\n",
       "videoCount        -0.210097\n",
       "downloadSetting   -0.227304\n",
       "Name: fake, dtype: float64"
      ]
     },
     "metadata": {},
     "execution_count": 6
    }
   ],
   "source": [
    "# Seleziono solo le colonne numeriche, dato che su quelle si può calcolare la matrice di correlazione\n",
    "selected_data = df[['diggCount', 'followerCount', 'followingCount', 'heartCount',\n",
    "                      'videoCount', 'commentSetting', 'downloadSetting', 'duetSetting', 'stitchSetting', 'fake']]\n",
    "corr_matrix = selected_data.corr()\n",
    "corr_matrix['fake'].sort_values(ascending=False)"
   ],
   "metadata": {
    "colab": {
     "base_uri": "https://localhost:8080/"
    },
    "id": "9uCvciknMQT9",
    "executionInfo": {
     "status": "ok",
     "timestamp": 1721049544677,
     "user_tz": -120,
     "elapsed": 435,
     "user": {
      "displayName": "Annalaura Miglino",
      "userId": "03808724092990969006"
     }
    },
    "outputId": "ce8ea89c-92cc-4017-98dd-d3a8c9fecb8a"
   }
  },
  {
   "cell_type": "markdown",
   "source": [
    "I valori vicini allo zero sono quelli meno correlati, per cui si può dire che *commentSetting* non è correlato. Si valuterà dopo la pulizia completa se è il caso di eliminarlo definitivamente."
   ],
   "metadata": {
    "id": "lm75DIDVOz56"
   }
  },
  {
   "cell_type": "markdown",
   "source": [
    "> Creo una copia del dataset originale, in modo da non modificarlo direttamente"
   ],
   "metadata": {
    "collapsed": false,
    "id": "imWke902cLot"
   }
  },
  {
   "cell_type": "code",
   "source": [
    "df_copy = df"
   ],
   "metadata": {
    "id": "dirypAIdcLot",
    "executionInfo": {
     "status": "ok",
     "timestamp": 1721049549393,
     "user_tz": -120,
     "elapsed": 460,
     "user": {
      "displayName": "Annalaura Miglino",
      "userId": "03808724092990969006"
     }
    },
    "ExecuteTime": {
     "end_time": "2024-07-11T15:08:11.664396Z",
     "start_time": "2024-07-11T15:08:11.660885Z"
    }
   },
   "outputs": [],
   "execution_count": 7
  },
  {
   "cell_type": "markdown",
   "source": [
    "> Mostro la correlazione di una selezione di attributi tramite lo scatterplot."
   ],
   "metadata": {
    "collapsed": false,
    "id": "NgnKrST0cLot"
   }
  },
  {
   "cell_type": "code",
   "execution_count": 13,
   "outputs": [],
   "source": [
    "# Creo una nuova label target in formato numerico per poter vedere la correlazione\n",
    "df_copy['fakeNum'] = np.where(df_copy['fake'] == False, 0, 1)"
   ],
   "metadata": {
    "id": "3TxaykWZcLou",
    "executionInfo": {
     "status": "ok",
     "timestamp": 1721049591980,
     "user_tz": -120,
     "elapsed": 670,
     "user": {
      "displayName": "Annalaura Miglino",
      "userId": "03808724092990969006"
     }
    }
   }
  },
  {
   "cell_type": "code",
   "execution_count": 14,
   "outputs": [
    {
     "output_type": "execute_result",
     "data": {
      "text/plain": [
       "array([[<Axes: xlabel='followerCount', ylabel='followerCount'>,\n",
       "        <Axes: xlabel='followingCount', ylabel='followerCount'>,\n",
       "        <Axes: xlabel='heartCount', ylabel='followerCount'>,\n",
       "        <Axes: xlabel='videoCount', ylabel='followerCount'>,\n",
       "        <Axes: xlabel='fakeNum', ylabel='followerCount'>],\n",
       "       [<Axes: xlabel='followerCount', ylabel='followingCount'>,\n",
       "        <Axes: xlabel='followingCount', ylabel='followingCount'>,\n",
       "        <Axes: xlabel='heartCount', ylabel='followingCount'>,\n",
       "        <Axes: xlabel='videoCount', ylabel='followingCount'>,\n",
       "        <Axes: xlabel='fakeNum', ylabel='followingCount'>],\n",
       "       [<Axes: xlabel='followerCount', ylabel='heartCount'>,\n",
       "        <Axes: xlabel='followingCount', ylabel='heartCount'>,\n",
       "        <Axes: xlabel='heartCount', ylabel='heartCount'>,\n",
       "        <Axes: xlabel='videoCount', ylabel='heartCount'>,\n",
       "        <Axes: xlabel='fakeNum', ylabel='heartCount'>],\n",
       "       [<Axes: xlabel='followerCount', ylabel='videoCount'>,\n",
       "        <Axes: xlabel='followingCount', ylabel='videoCount'>,\n",
       "        <Axes: xlabel='heartCount', ylabel='videoCount'>,\n",
       "        <Axes: xlabel='videoCount', ylabel='videoCount'>,\n",
       "        <Axes: xlabel='fakeNum', ylabel='videoCount'>],\n",
       "       [<Axes: xlabel='followerCount', ylabel='fakeNum'>,\n",
       "        <Axes: xlabel='followingCount', ylabel='fakeNum'>,\n",
       "        <Axes: xlabel='heartCount', ylabel='fakeNum'>,\n",
       "        <Axes: xlabel='videoCount', ylabel='fakeNum'>,\n",
       "        <Axes: xlabel='fakeNum', ylabel='fakeNum'>]], dtype=object)"
      ]
     },
     "metadata": {},
     "execution_count": 14
    },
    {
     "output_type": "display_data",
     "data": {
      "text/plain": [
       "<Figure size 1200x800 with 25 Axes>"
      ],
      "image/png": "[encoded data removed]"
     },
     "metadata": {}
    }
   ],
   "source": [
    "# Verifico la correlazione di alcuni attributi con la label target tramite scatter matrix\n",
    "attributes = ['followerCount', 'followingCount', 'heartCount', 'videoCount', 'fakeNum']\n",
    "scatter_matrix(df_copy[attributes], figsize=(12, 8))"
   ],
   "metadata": {
    "colab": {
     "base_uri": "https://localhost:8080/",
     "height": 1000
    },
    "id": "FD0vrWmNcLou",
    "executionInfo": {
     "status": "ok",
     "timestamp": 1721049604712,
     "user_tz": -120,
     "elapsed": 10064,
     "user": {
      "displayName": "Annalaura Miglino",
      "userId": "03808724092990969006"
     }
    },
    "outputId": "4b023055-3214-4aed-ac60-85db78e49edd"
   }
  },
  {
   "cell_type": "markdown",
   "source": [
    "Non si osservano particolari trend o correlazioni tra le coppie di variabili analizzate, fatta eccezione per i valori assunti dalle singole variabili rispetto alla variabile dipendente 'fake'."
   ],
   "metadata": {
    "collapsed": false
   }
  },
  {
   "cell_type": "markdown",
   "source": [
    "Mostro la distribuzione dei valori delle variabili rispetto alla variabile dipendente 'fake'."
   ],
   "metadata": {
    "collapsed": false
   }
  },
  {
   "cell_type": "code",
   "execution_count": 15,
   "outputs": [
    {
     "output_type": "display_data",
     "data": {
      "text/plain": [
       "<Figure size 1200x800 with 9 Axes>"
      ],
      "image/png": "[encoded data removed]"
     },
     "metadata": {}
    }
   ],
   "source": [
    "df_copy['fakeStr'] = df_copy['fake'].astype(str)\n",
    "\n",
    "plt.figure(figsize=(12,8))\n",
    "\n",
    "plt.subplot(3, 3, 1)\n",
    "sns.stripplot(data=df_copy, x='fakeStr', y='followerCount', s=7, jitter=True)\n",
    "plt.yscale('log')\n",
    "plt.xlabel('fake')\n",
    "plt.grid(False)\n",
    "\n",
    "plt.subplot(3, 3, 2)\n",
    "sns.stripplot(data=df_copy, x='fakeStr', y='followingCount', s=7, jitter=True)\n",
    "plt.yscale('log')\n",
    "plt.xlabel('fake')\n",
    "plt.grid(False)\n",
    "\n",
    "plt.subplot(3, 3, 3)\n",
    "sns.stripplot(data=df_copy, x='fakeStr', y='heartCount', s=7, jitter=True)\n",
    "plt.yscale('log')\n",
    "plt.xlabel('fake')\n",
    "plt.grid(False)\n",
    "\n",
    "plt.subplot(3, 3, 4)\n",
    "sns.stripplot(data=df_copy, x='fakeStr', y='videoCount', s=7, jitter=True)\n",
    "plt.yscale('log')\n",
    "plt.xlabel('fake')\n",
    "plt.grid(False)\n",
    "\n",
    "plt.subplot(3, 3, 5)\n",
    "sns.stripplot(data=df_copy, x='fakeStr', y='diggCount', s=7, jitter=True)\n",
    "plt.yscale('log')\n",
    "plt.xlabel('fake')\n",
    "plt.grid(False)\n",
    "\n",
    "plt.subplot(3, 3, 6)\n",
    "sns.stripplot(data=df_copy, x='fakeStr', y='commentSetting', s=7, jitter=True)\n",
    "plt.xlabel('fake')\n",
    "plt.grid(False)\n",
    "\n",
    "plt.subplot(3, 3, 7)\n",
    "sns.stripplot(data=df_copy, x='fakeStr', y='downloadSetting', s=7, jitter=True)\n",
    "plt.xlabel('fake')\n",
    "plt.grid(False)\n",
    "\n",
    "plt.subplot(3, 3, 8)\n",
    "sns.stripplot(data=df_copy, x='fakeStr', y='duetSetting', s=7, jitter=True)\n",
    "plt.xlabel('fake')\n",
    "plt.grid(False)\n",
    "\n",
    "plt.subplot(3, 3, 9)\n",
    "sns.stripplot(data=df_copy, x='fakeStr', y='stitchSetting', s=7, jitter=True)\n",
    "plt.xlabel('fake')\n",
    "plt.grid(False)\n",
    "\n",
    "plt.tight_layout()\n",
    "plt.show()\n",
    "\n",
    "df_copy = df_copy.drop(labels='fakeStr', axis=1)"
   ],
   "metadata": {
    "collapsed": false
   }
  },
  {
   "cell_type": "markdown",
   "source": [
    "Si osservano i seguenti trend:\n",
    "- *followerCount*: gli account real di solito hanno un numero significativamente più alto di follower rispetto agli account fake;\n",
    "- *followingCount*: gli account fake tendono ad avere un numero significativamente più elevato di utenti seguiti rispetto al numero di follower. Questo perché gli account fake sono spesso creati per seguire attivamente altri utenti e vengono utilizzati da chi acquista follower per aumentare la propria visibilità online;\n",
    "- *heartCount*: gli account fake tendono a ricevere molti meno apprezzamenti sui loro contenuti rispetto agli account real;\n",
    "- *videoCount*: gli account fake di solito hanno un numero molto inferiore di video nel loro profilo, e ciò è in linea con quanto osservato per la variabile heartCount;\n",
    "- *commentSetting*, *downloadSetting*, *duetSetting*, *stitchSetting*: gli account fake hannno sempre impostati questi valori alla categoria 0, che si suppone essere l'impostazione di default."
   ],
   "metadata": {
    "collapsed": false
   }
  }
 ]
}
