{
 "cells": [
  {
   "cell_type": "markdown",
   "source": [
    "# K-Nearest Neighbour (KNN)"
   ],
   "metadata": {
    "id": "Oy1Iz_vru7_R"
   }
  },
  {
   "cell_type": "markdown",
   "source": [
    "> Import necessari"
   ],
   "metadata": {
    "id": "kqqbpgNCvEpK"
   }
  },
  {
   "cell_type": "code",
   "execution_count": 1,
   "metadata": {
    "collapsed": true,
    "id": "Pz96TyWBtHEG",
    "executionInfo": {
     "status": "ok",
     "timestamp": 1720864737143,
     "user_tz": -120,
     "elapsed": 2455,
     "user": {
      "displayName": "Annalaura Miglino",
      "userId": "03808724092990969006"
     }
    }
   },
   "outputs": [],
   "source": [
    "from sklearn.neighbors import KNeighborsClassifier\n",
    "from sklearn.model_selection import StratifiedShuffleSplit, GridSearchCV, learning_curve\n",
    "from sklearn.metrics import accuracy_score, confusion_matrix, roc_curve, auc, precision_score, recall_score, f1_score\n",
    "import matplotlib.pyplot as plt\n",
    "import pandas as pd\n",
    "import seaborn as sns\n",
    "import numpy as np"
   ]
  },
  {
   "cell_type": "markdown",
   "source": [
    "> Montaggio di Drive"
   ],
   "metadata": {
    "id": "MQtOqoQ9ysLa"
   }
  },
  {
   "cell_type": "code",
   "source": [
    "from google.colab import drive\n",
    "drive.mount('/content/drive')"
   ],
   "metadata": {
    "colab": {
     "base_uri": "https://localhost:8080/"
    },
    "id": "IhViav_1yvce",
    "executionInfo": {
     "status": "ok",
     "timestamp": 1720864764462,
     "user_tz": -120,
     "elapsed": 27329,
     "user": {
      "displayName": "Annalaura Miglino",
      "userId": "03808724092990969006"
     }
    },
    "outputId": "a872ef71-287a-4d3a-a689-0a042e800059"
   },
   "execution_count": 2,
   "outputs": [
    {
     "output_type": "stream",
     "name": "stdout",
     "text": [
      "Mounted at /content/drive\n"
     ]
    }
   ]
  },
  {
   "cell_type": "markdown",
   "source": [
    "## 1. Divisione del dataset in train e test"
   ],
   "metadata": {
    "collapsed": false,
    "id": "1Lui-kjYtHEJ"
   }
  },
  {
   "cell_type": "code",
   "execution_count": null,
   "outputs": [],
   "source": [
    "# Lettura del dataset (local)\n",
    "csv_path = '../datasets/cleaned_dataset.csv'"
   ],
   "metadata": {
    "id": "hTrKotG6huqg"
   }
  },
  {
   "cell_type": "code",
   "execution_count": 3,
   "outputs": [],
   "source": [
    "# Lettura del dataset (drive)\n",
    "csv_path = '/content/drive/MyDrive/Progetto_FDSML_github/FakeAccountDetection/datasets/cleaned_dataset.csv'"
   ],
   "metadata": {
    "id": "S5U-gIHDhuqh",
    "executionInfo": {
     "status": "ok",
     "timestamp": 1720864764462,
     "user_tz": -120,
     "elapsed": 5,
     "user": {
      "displayName": "Annalaura Miglino",
      "userId": "03808724092990969006"
     }
    }
   }
  },
  {
   "cell_type": "code",
   "execution_count": 4,
   "outputs": [],
   "source": [
    "df = pd.read_csv(csv_path)"
   ],
   "metadata": {
    "id": "WYChjFr5-Gr6",
    "executionInfo": {
     "status": "ok",
     "timestamp": 1720864765286,
     "user_tz": -120,
     "elapsed": 828,
     "user": {
      "displayName": "Annalaura Miglino",
      "userId": "03808724092990969006"
     }
    }
   }
  },
  {
   "cell_type": "code",
   "execution_count": 5,
   "outputs": [],
   "source": [
    "# Divisione in train e test set\n",
    "X = df.copy()\n",
    "y = X.pop('fake')\n",
    "\n",
    "sss = StratifiedShuffleSplit(n_splits=1, test_size=0.2, random_state=42)\n",
    "\n",
    "for train_index, test_index in sss.split(X, y):\n",
    "    X_train, X_test = X.loc[train_index], X.loc[test_index]\n",
    "    y_train, y_test = y.loc[train_index], y.loc[test_index]"
   ],
   "metadata": {
    "id": "gA4sxs84tHEO",
    "executionInfo": {
     "status": "ok",
     "timestamp": 1720864765287,
     "user_tz": -120,
     "elapsed": 10,
     "user": {
      "displayName": "Annalaura Miglino",
      "userId": "03808724092990969006"
     }
    }
   }
  },
  {
   "cell_type": "markdown",
   "source": [
    "### 1.1 Addestramento senza iperparametri"
   ],
   "metadata": {
    "collapsed": false,
    "id": "IsOyxbdUtHEO"
   }
  },
  {
   "cell_type": "code",
   "execution_count": 7,
   "outputs": [
    {
     "output_type": "stream",
     "name": "stdout",
     "text": [
      "Accuracy: 0.9815828770532603\n",
      "Precision: 0.9745347698334965\n",
      "Recall: 0.989065606361829\n",
      "F1-Score: 0.9817464232856438\n"
     ]
    }
   ],
   "source": [
    "# Istanziazione e addestramento del classificatore\n",
    "neigh = KNeighborsClassifier()\n",
    "neigh.fit(X_train, y_train)\n",
    "y_pred = neigh.predict(X_test)\n",
    "\n",
    "# Stampa delle metriche\n",
    "print(f'Accuracy: {accuracy_score(y_test, y_pred)}')\n",
    "print(f'Precision: {precision_score(y_test, y_pred)}')\n",
    "print(f'Recall: {recall_score(y_test, y_pred)}')\n",
    "print(f'F1-Score: {f1_score(y_test, y_pred)}')"
   ],
   "metadata": {
    "colab": {
     "base_uri": "https://localhost:8080/"
    },
    "id": "dB1w4oUgtHEP",
    "executionInfo": {
     "status": "ok",
     "timestamp": 1720864786490,
     "user_tz": -120,
     "elapsed": 2674,
     "user": {
      "displayName": "Annalaura Miglino",
      "userId": "03808724092990969006"
     }
    },
    "outputId": "c87bb404-5f09-4bce-c94d-e91c4746ed99"
   }
  },
  {
   "cell_type": "markdown",
   "source": [
    "## 2. Grid Search Cross Validation"
   ],
   "metadata": {
    "collapsed": false,
    "id": "eKsiifbVtHEQ"
   }
  },
  {
   "cell_type": "code",
   "execution_count": 8,
   "outputs": [],
   "source": [
    "# Griglia dei parametri\n",
    "param_grid = {\n",
    "    'n_neighbors': [3, 5, 7, 10],\n",
    "    'weights': ['uniform', 'distance'],\n",
    "    'algorithm': ['ball_tree', 'kd_tree', 'brute'],\n",
    "    'metric': ['euclidean', 'manhattan']\n",
    "}"
   ],
   "metadata": {
    "id": "8mftUZiltHER",
    "executionInfo": {
     "status": "ok",
     "timestamp": 1720864803010,
     "user_tz": -120,
     "elapsed": 645,
     "user": {
      "displayName": "Annalaura Miglino",
      "userId": "03808724092990969006"
     }
    }
   }
  },
  {
   "cell_type": "code",
   "source": [
    "# Istanziazione del classificatore (random_state garantisce che ad ogni esecuzione vi siano sempre gli stessi iperparametri migliori)\n",
    "neigh = KNeighborsClassifier()"
   ],
   "metadata": {
    "id": "aKR9IQrtto_j",
    "executionInfo": {
     "status": "ok",
     "timestamp": 1720864805609,
     "user_tz": -120,
     "elapsed": 3,
     "user": {
      "displayName": "Annalaura Miglino",
      "userId": "03808724092990969006"
     }
    }
   },
   "execution_count": 9,
   "outputs": []
  },
  {
   "cell_type": "code",
   "execution_count": 10,
   "outputs": [
    {
     "output_type": "stream",
     "name": "stdout",
     "text": [
      "Best Parameters: {'algorithm': 'ball_tree', 'metric': 'euclidean', 'n_neighbors': 3, 'weights': 'distance'}\n",
      "CPU times: user 6.18 s, sys: 1.37 s, total: 7.54 s\n",
      "Wall time: 9min 23s\n"
     ]
    }
   ],
   "source": [
    "%%time\n",
    "# Stampiamo i migliori parametri\n",
    "grid_search = GridSearchCV(estimator=neigh, param_grid=param_grid, cv=10, scoring='f1', n_jobs=-1, return_train_score=True, error_score='raise')\n",
    "grid_search.fit(X_train, y_train)\n",
    "print(\"Best Parameters:\", grid_search.best_params_)"
   ],
   "metadata": {
    "colab": {
     "base_uri": "https://localhost:8080/"
    },
    "id": "APgT9wYWtHER",
    "executionInfo": {
     "status": "ok",
     "timestamp": 1720865380215,
     "user_tz": -120,
     "elapsed": 564592,
     "user": {
      "displayName": "Annalaura Miglino",
      "userId": "03808724092990969006"
     }
    },
    "outputId": "8d4ed38c-8a1b-4447-d6b4-38a6fb84eb8d"
   }
  },
  {
   "cell_type": "code",
   "execution_count": 11,
   "outputs": [
    {
     "output_type": "stream",
     "name": "stdout",
     "text": [
      "Iterazione 0: F1-Score 0.9866299572267924, Parametri {'algorithm': 'ball_tree', 'metric': 'euclidean', 'n_neighbors': 3, 'weights': 'uniform'}\n",
      "Iterazione 1: F1-Score 0.9887415639606086, Parametri {'algorithm': 'ball_tree', 'metric': 'euclidean', 'n_neighbors': 3, 'weights': 'distance'}\n",
      "Iterazione 2: F1-Score 0.9843310919257503, Parametri {'algorithm': 'ball_tree', 'metric': 'euclidean', 'n_neighbors': 5, 'weights': 'uniform'}\n",
      "Iterazione 3: F1-Score 0.9877716354870929, Parametri {'algorithm': 'ball_tree', 'metric': 'euclidean', 'n_neighbors': 5, 'weights': 'distance'}\n",
      "Iterazione 4: F1-Score 0.9833560942541434, Parametri {'algorithm': 'ball_tree', 'metric': 'euclidean', 'n_neighbors': 7, 'weights': 'uniform'}\n",
      "Iterazione 5: F1-Score 0.9852111168257711, Parametri {'algorithm': 'ball_tree', 'metric': 'euclidean', 'n_neighbors': 7, 'weights': 'distance'}\n",
      "Iterazione 6: F1-Score 0.9806202372138884, Parametri {'algorithm': 'ball_tree', 'metric': 'euclidean', 'n_neighbors': 10, 'weights': 'uniform'}\n",
      "Iterazione 7: F1-Score 0.98460009910161, Parametri {'algorithm': 'ball_tree', 'metric': 'euclidean', 'n_neighbors': 10, 'weights': 'distance'}\n",
      "Iterazione 8: F1-Score 0.9867930947533511, Parametri {'algorithm': 'ball_tree', 'metric': 'manhattan', 'n_neighbors': 3, 'weights': 'uniform'}\n",
      "Iterazione 9: F1-Score 0.9881485437088576, Parametri {'algorithm': 'ball_tree', 'metric': 'manhattan', 'n_neighbors': 3, 'weights': 'distance'}\n",
      "Iterazione 10: F1-Score 0.9836389402979521, Parametri {'algorithm': 'ball_tree', 'metric': 'manhattan', 'n_neighbors': 5, 'weights': 'uniform'}\n",
      "Iterazione 11: F1-Score 0.9861954699151265, Parametri {'algorithm': 'ball_tree', 'metric': 'manhattan', 'n_neighbors': 5, 'weights': 'distance'}\n",
      "Iterazione 12: F1-Score 0.9821785906251403, Parametri {'algorithm': 'ball_tree', 'metric': 'manhattan', 'n_neighbors': 7, 'weights': 'uniform'}\n",
      "Iterazione 13: F1-Score 0.9842584674958242, Parametri {'algorithm': 'ball_tree', 'metric': 'manhattan', 'n_neighbors': 7, 'weights': 'distance'}\n",
      "Iterazione 14: F1-Score 0.9800583257787532, Parametri {'algorithm': 'ball_tree', 'metric': 'manhattan', 'n_neighbors': 10, 'weights': 'uniform'}\n",
      "Iterazione 15: F1-Score 0.9835330361586376, Parametri {'algorithm': 'ball_tree', 'metric': 'manhattan', 'n_neighbors': 10, 'weights': 'distance'}\n",
      "Iterazione 16: F1-Score 0.9866299572267924, Parametri {'algorithm': 'kd_tree', 'metric': 'euclidean', 'n_neighbors': 3, 'weights': 'uniform'}\n",
      "Iterazione 17: F1-Score 0.9887415639606086, Parametri {'algorithm': 'kd_tree', 'metric': 'euclidean', 'n_neighbors': 3, 'weights': 'distance'}\n",
      "Iterazione 18: F1-Score 0.9843310919257503, Parametri {'algorithm': 'kd_tree', 'metric': 'euclidean', 'n_neighbors': 5, 'weights': 'uniform'}\n",
      "Iterazione 19: F1-Score 0.9877716354870929, Parametri {'algorithm': 'kd_tree', 'metric': 'euclidean', 'n_neighbors': 5, 'weights': 'distance'}\n",
      "Iterazione 20: F1-Score 0.9833560942541434, Parametri {'algorithm': 'kd_tree', 'metric': 'euclidean', 'n_neighbors': 7, 'weights': 'uniform'}\n",
      "Iterazione 21: F1-Score 0.9852111168257711, Parametri {'algorithm': 'kd_tree', 'metric': 'euclidean', 'n_neighbors': 7, 'weights': 'distance'}\n",
      "Iterazione 22: F1-Score 0.9806202372138884, Parametri {'algorithm': 'kd_tree', 'metric': 'euclidean', 'n_neighbors': 10, 'weights': 'uniform'}\n",
      "Iterazione 23: F1-Score 0.98460009910161, Parametri {'algorithm': 'kd_tree', 'metric': 'euclidean', 'n_neighbors': 10, 'weights': 'distance'}\n",
      "Iterazione 24: F1-Score 0.9867930947533511, Parametri {'algorithm': 'kd_tree', 'metric': 'manhattan', 'n_neighbors': 3, 'weights': 'uniform'}\n",
      "Iterazione 25: F1-Score 0.9881485437088576, Parametri {'algorithm': 'kd_tree', 'metric': 'manhattan', 'n_neighbors': 3, 'weights': 'distance'}\n",
      "Iterazione 26: F1-Score 0.9836389402979521, Parametri {'algorithm': 'kd_tree', 'metric': 'manhattan', 'n_neighbors': 5, 'weights': 'uniform'}\n",
      "Iterazione 27: F1-Score 0.9861954699151265, Parametri {'algorithm': 'kd_tree', 'metric': 'manhattan', 'n_neighbors': 5, 'weights': 'distance'}\n",
      "Iterazione 28: F1-Score 0.9821785906251403, Parametri {'algorithm': 'kd_tree', 'metric': 'manhattan', 'n_neighbors': 7, 'weights': 'uniform'}\n",
      "Iterazione 29: F1-Score 0.9842584674958242, Parametri {'algorithm': 'kd_tree', 'metric': 'manhattan', 'n_neighbors': 7, 'weights': 'distance'}\n",
      "Iterazione 30: F1-Score 0.9800583257787532, Parametri {'algorithm': 'kd_tree', 'metric': 'manhattan', 'n_neighbors': 10, 'weights': 'uniform'}\n",
      "Iterazione 31: F1-Score 0.9835330361586376, Parametri {'algorithm': 'kd_tree', 'metric': 'manhattan', 'n_neighbors': 10, 'weights': 'distance'}\n",
      "Iterazione 32: F1-Score 0.9866299572267924, Parametri {'algorithm': 'brute', 'metric': 'euclidean', 'n_neighbors': 3, 'weights': 'uniform'}\n",
      "Iterazione 33: F1-Score 0.9887415639606086, Parametri {'algorithm': 'brute', 'metric': 'euclidean', 'n_neighbors': 3, 'weights': 'distance'}\n",
      "Iterazione 34: F1-Score 0.9843310919257503, Parametri {'algorithm': 'brute', 'metric': 'euclidean', 'n_neighbors': 5, 'weights': 'uniform'}\n",
      "Iterazione 35: F1-Score 0.9877716354870929, Parametri {'algorithm': 'brute', 'metric': 'euclidean', 'n_neighbors': 5, 'weights': 'distance'}\n",
      "Iterazione 36: F1-Score 0.9833560942541434, Parametri {'algorithm': 'brute', 'metric': 'euclidean', 'n_neighbors': 7, 'weights': 'uniform'}\n",
      "Iterazione 37: F1-Score 0.9852111168257711, Parametri {'algorithm': 'brute', 'metric': 'euclidean', 'n_neighbors': 7, 'weights': 'distance'}\n",
      "Iterazione 38: F1-Score 0.9806202372138884, Parametri {'algorithm': 'brute', 'metric': 'euclidean', 'n_neighbors': 10, 'weights': 'uniform'}\n",
      "Iterazione 39: F1-Score 0.98460009910161, Parametri {'algorithm': 'brute', 'metric': 'euclidean', 'n_neighbors': 10, 'weights': 'distance'}\n",
      "Iterazione 40: F1-Score 0.9867930947533511, Parametri {'algorithm': 'brute', 'metric': 'manhattan', 'n_neighbors': 3, 'weights': 'uniform'}\n",
      "Iterazione 41: F1-Score 0.9881485437088576, Parametri {'algorithm': 'brute', 'metric': 'manhattan', 'n_neighbors': 3, 'weights': 'distance'}\n",
      "Iterazione 42: F1-Score 0.9836389402979521, Parametri {'algorithm': 'brute', 'metric': 'manhattan', 'n_neighbors': 5, 'weights': 'uniform'}\n",
      "Iterazione 43: F1-Score 0.9861954699151265, Parametri {'algorithm': 'brute', 'metric': 'manhattan', 'n_neighbors': 5, 'weights': 'distance'}\n",
      "Iterazione 44: F1-Score 0.9821785906251403, Parametri {'algorithm': 'brute', 'metric': 'manhattan', 'n_neighbors': 7, 'weights': 'uniform'}\n",
      "Iterazione 45: F1-Score 0.9842584674958242, Parametri {'algorithm': 'brute', 'metric': 'manhattan', 'n_neighbors': 7, 'weights': 'distance'}\n",
      "Iterazione 46: F1-Score 0.9800583257787532, Parametri {'algorithm': 'brute', 'metric': 'manhattan', 'n_neighbors': 10, 'weights': 'uniform'}\n",
      "Iterazione 47: F1-Score 0.9835330361586376, Parametri {'algorithm': 'brute', 'metric': 'manhattan', 'n_neighbors': 10, 'weights': 'distance'}\n"
     ]
    }
   ],
   "source": [
    "# Vediamo come si comporta nelle diverse combinazioni di parametri\n",
    "cvres = grid_search.cv_results_\n",
    "\n",
    "for i, (f1, params) in enumerate(zip(cvres[\"mean_test_score\"], cvres[\"params\"])):\n",
    "    print(f\"Iterazione {i}: F1-Score {f1}, Parametri {params}\")"
   ],
   "metadata": {
    "colab": {
     "base_uri": "https://localhost:8080/"
    },
    "id": "KIprT5a5tHET",
    "executionInfo": {
     "status": "ok",
     "timestamp": 1720865395796,
     "user_tz": -120,
     "elapsed": 673,
     "user": {
      "displayName": "Annalaura Miglino",
      "userId": "03808724092990969006"
     }
    },
    "outputId": "ac796b8b-f680-4a10-f3e4-49b2b8aee03d"
   }
  },
  {
   "cell_type": "markdown",
   "source": [
    "## 4. Metriche del modello migliore"
   ],
   "metadata": {
    "collapsed": false,
    "id": "9SLuA_6btHEV"
   }
  },
  {
   "cell_type": "markdown",
   "source": [
    "> Vengono misurate le metriche a seguito dell'Hyperparameter Tuning."
   ],
   "metadata": {
    "id": "hjvGQ4FwuqzU"
   }
  },
  {
   "cell_type": "code",
   "execution_count": 12,
   "outputs": [
    {
     "output_type": "stream",
     "name": "stdout",
     "text": [
      "Accuracy: 0.9860627177700348\n",
      "Precision: 0.9794117647058823\n",
      "Recall: 0.9930417495029821\n",
      "F1-Score: 0.9861796643632774\n"
     ]
    }
   ],
   "source": [
    "neigh_final = grid_search.best_estimator_\n",
    "y_pred = neigh_final.predict(X_test)\n",
    "\n",
    "# Stampa delle metriche\n",
    "print(f'Accuracy: {accuracy_score(y_test, y_pred)}')\n",
    "print(f'Precision: {precision_score(y_test, y_pred)}')\n",
    "print(f'Recall: {recall_score(y_test, y_pred)}')\n",
    "print(f'F1-Score: {f1_score(y_test, y_pred)}')"
   ],
   "metadata": {
    "colab": {
     "base_uri": "https://localhost:8080/"
    },
    "id": "pL1M7dV_tHEV",
    "executionInfo": {
     "status": "ok",
     "timestamp": 1720865401004,
     "user_tz": -120,
     "elapsed": 761,
     "user": {
      "displayName": "Annalaura Miglino",
      "userId": "03808724092990969006"
     }
    },
    "outputId": "e70c7bb3-2d34-4fc3-b5d5-1bbb80536028"
   }
  },
  {
   "cell_type": "markdown",
   "source": [
    "### 4.1 Learning Curve"
   ],
   "metadata": {
    "collapsed": false,
    "id": "DSv8xklJtHEV"
   }
  },
  {
   "cell_type": "code",
   "execution_count": 13,
   "outputs": [
    {
     "output_type": "display_data",
     "data": {
      "text/plain": [
       "<Figure size 640x480 with 1 Axes>"
      ],
      "image/png": "[encoded data removed]"
     },
     "metadata": {}
    }
   ],
   "source": [
    "# Istanzia un nuovo modello KNN con i migliori parametri ottenuti in precedenza\n",
    "neigh = KNeighborsClassifier(**grid_search.best_params_)\n",
    "\n",
    "# Calcolo la learning curve\n",
    "train_sizes, train_scores, test_scores = learning_curve(neigh, X_train, y_train, scoring='f1',\n",
    "                                                        train_sizes=np.linspace(0.1, 1.0, 10), n_jobs=-1, cv=10)\n",
    "\n",
    "# Calcola la media dei punteggi ottenuti nelle diverse iterazioni di cross validation\n",
    "train_scores_mean = np.mean(train_scores, axis=1)\n",
    "test_scores_mean = np.mean(test_scores, axis=1)\n",
    "\n",
    "# Traccio la curva di apprendimento\n",
    "plt.figure()\n",
    "plt.title(\"Learning Curve (KNN)\")\n",
    "plt.xlabel(\"Training examples\")\n",
    "plt.ylabel(\"F1-Score\")\n",
    "plt.grid()\n",
    "\n",
    "plt.plot(train_sizes, train_scores_mean, 'o-', color=\"r\", label=\"Training F1-Score\")\n",
    "plt.plot(train_sizes, test_scores_mean, 'o-', color=\"g\", label=\"Validation F1-Score\")\n",
    "\n",
    "plt.legend(loc=\"best\")\n",
    "plt.show()"
   ],
   "metadata": {
    "colab": {
     "base_uri": "https://localhost:8080/",
     "height": 472
    },
    "id": "aa7R4wf2tHEW",
    "executionInfo": {
     "status": "ok",
     "timestamp": 1720865530274,
     "user_tz": -120,
     "elapsed": 61303,
     "user": {
      "displayName": "Annalaura Miglino",
      "userId": "03808724092990969006"
     }
    },
    "outputId": "307c01c0-9eef-42d3-ddda-08cdf39fab6b"
   }
  },
  {
   "cell_type": "markdown",
   "source": [
    "### 4.2 Matrice di confusione"
   ],
   "metadata": {
    "collapsed": false,
    "id": "bsg3sXzetHEW"
   }
  },
  {
   "cell_type": "code",
   "execution_count": 14,
   "outputs": [
    {
     "output_type": "display_data",
     "data": {
      "text/plain": [
       "<Figure size 500x400 with 2 Axes>"
      ],
      "image/png": "[encoded data removed]"
     },
     "metadata": {}
    }
   ],
   "source": [
    "cm = confusion_matrix(y_test, y_pred)\n",
    "class_names = ['Real', 'Fake']\n",
    "\n",
    "plt.figure(figsize=(5, 4))\n",
    "sns.heatmap(cm, annot=True, cmap='Blues', fmt='d', xticklabels=class_names, yticklabels=class_names)\n",
    "\n",
    "plt.xlabel('Predicted label')\n",
    "plt.ylabel('True label')\n",
    "plt.title('Confusion Matrix')\n",
    "plt.show()"
   ],
   "metadata": {
    "colab": {
     "base_uri": "https://localhost:8080/",
     "height": 410
    },
    "id": "0dFXWshdtHEW",
    "executionInfo": {
     "status": "ok",
     "timestamp": 1720865531385,
     "user_tz": -120,
     "elapsed": 1118,
     "user": {
      "displayName": "Annalaura Miglino",
      "userId": "03808724092990969006"
     }
    },
    "outputId": "b061052a-81fa-4e80-b691-e9e475cc61b2"
   }
  },
  {
   "cell_type": "markdown",
   "source": [
    "### 4.3 Roc Curve"
   ],
   "metadata": {
    "collapsed": false,
    "id": "jbT1bZJVtHEW"
   }
  },
  {
   "cell_type": "code",
   "execution_count": 15,
   "outputs": [
    {
     "output_type": "display_data",
     "data": {
      "text/plain": [
       "<Figure size 600x500 with 1 Axes>"
      ],
      "image/png": "[encoded data removed]"
     },
     "metadata": {}
    }
   ],
   "source": [
    "y_proba = neigh_final.predict_proba(X_test)\n",
    "\n",
    "# Calcolo della curva ROC per la classe 'real' (label 0)\n",
    "fpr_real, tpr_real, _ = roc_curve(y_test, y_proba[:, 0], pos_label=0)\n",
    "roc_auc_real = auc(fpr_real, tpr_real)\n",
    "\n",
    "# Calcolo della curva ROC per la classe 'fake' (label 1)\n",
    "fpr_fake, tpr_fake, _ = roc_curve(y_test, y_proba[:, 1], pos_label=1)\n",
    "roc_auc_fake = auc(fpr_fake, tpr_fake)\n",
    "\n",
    "# Tracciamento delle curve ROC\n",
    "plt.figure(figsize=(6, 5))\n",
    "plt.plot(fpr_real, tpr_real, color='darkorange', lw=2, label=f'ROC curve real (AUC = {roc_auc_real:.2f})')\n",
    "plt.plot(fpr_fake, tpr_fake, color='blue', lw=2, label=f'ROC curve fake (AUC = {roc_auc_fake:.2f})')\n",
    "plt.plot([0, 1], [0, 1], color='black', lw=1, linestyle='--')\n",
    "plt.xlabel('False Positive Rate')\n",
    "plt.ylabel('True Positive Rate')\n",
    "plt.grid(False)\n",
    "plt.legend(loc='lower right')\n",
    "plt.title('ROC Curve')\n",
    "plt.show()"
   ],
   "metadata": {
    "colab": {
     "base_uri": "https://localhost:8080/",
     "height": 487
    },
    "id": "2IDikDOttHEX",
    "executionInfo": {
     "status": "ok",
     "timestamp": 1720865531386,
     "user_tz": -120,
     "elapsed": 37,
     "user": {
      "displayName": "Annalaura Miglino",
      "userId": "03808724092990969006"
     }
    },
    "outputId": "21654add-0df7-4ced-b1af-56a7a05aadf7"
   }
  }
 ],
 "metadata": {
  "kernelspec": {
   "display_name": "Python 3",
   "language": "python",
   "name": "python3"
  },
  "language_info": {
   "codemirror_mode": {
    "name": "ipython",
    "version": 2
   },
   "file_extension": ".py",
   "mimetype": "text/x-python",
   "name": "python",
   "nbconvert_exporter": "python",
   "pygments_lexer": "ipython2",
   "version": "2.7.6"
  },
  "colab": {
   "provenance": []
  }
 },
 "nbformat": 4,
 "nbformat_minor": 0
}
