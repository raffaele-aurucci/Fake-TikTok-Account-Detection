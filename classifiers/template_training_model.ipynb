{
 "cells": [
  {
   "cell_type": "markdown",
   "source": [
    "# Addestramento modello"
   ],
   "metadata": {
    "id": "Oy1Iz_vru7_R"
   }
  },
  {
   "cell_type": "markdown",
   "source": [
    "In questo caso, viene considerato il classificatore RandomForest."
   ],
   "metadata": {
    "id": "ZkGdoKwsv1mW"
   }
  },
  {
   "cell_type": "markdown",
   "source": [
    "> Import necessari"
   ],
   "metadata": {
    "id": "kqqbpgNCvEpK"
   }
  },
  {
   "cell_type": "code",
   "execution_count": 111,
   "metadata": {
    "collapsed": true,
    "id": "Pz96TyWBtHEG",
    "executionInfo": {
     "status": "ok",
     "timestamp": 1720617437032,
     "user_tz": -120,
     "elapsed": 2582,
     "user": {
      "displayName": "Annalaura Miglino",
      "userId": "03808724092990969006"
     }
    }
   },
   "outputs": [],
   "source": [
    "from sklearn.ensemble import RandomForestClassifier\n",
    "from sklearn.model_selection import StratifiedShuffleSplit, GridSearchCV, learning_curve\n",
    "from sklearn.metrics import accuracy_score, confusion_matrix, roc_curve, auc, precision_score, recall_score, f1_score, classification_report\n",
    "import matplotlib.pyplot as plt\n",
    "import pandas as pd\n",
    "import seaborn as sns"
   ]
  },
  {
   "cell_type": "markdown",
   "source": [
    "> Montaggio di Drive"
   ],
   "metadata": {
    "id": "MQtOqoQ9ysLa"
   }
  },
  {
   "cell_type": "code",
   "source": [
    "from google.colab import drive\n",
    "drive.mount('/content/drive')"
   ],
   "metadata": {
    "colab": {
     "base_uri": "https://localhost:8080/"
    },
    "id": "IhViav_1yvce",
    "executionInfo": {
     "status": "ok",
     "timestamp": 1720617483758,
     "user_tz": -120,
     "elapsed": 16617,
     "user": {
      "displayName": "Annalaura Miglino",
      "userId": "03808724092990969006"
     }
    },
    "outputId": "4c46ab47-396d-4e8d-e7b2-98b1a3c1a27c"
   },
   "execution_count": 109,
   "outputs": []
  },
  {
   "cell_type": "markdown",
   "source": [
    "## 1. Divisione del dataset in train e test"
   ],
   "metadata": {
    "collapsed": false,
    "id": "1Lui-kjYtHEJ"
   }
  },
  {
   "cell_type": "code",
   "execution_count": null,
   "outputs": [],
   "source": [
    "# Lettura del dataset (drive)\n",
    "csv_path = '/content/drive/MyDrive/Progetto_FDSML_github/FakeAccountDetection/datasets/cleaned_dataset.csv'"
   ],
   "metadata": {
    "collapsed": false
   }
  },
  {
   "cell_type": "code",
   "execution_count": 114,
   "outputs": [],
   "source": [
    "# Lettura del dataset (local)\n",
    "csv_path = './datasets/cleaned_dataset.csv'"
   ],
   "metadata": {
    "collapsed": false
   }
  },
  {
   "cell_type": "code",
   "execution_count": 115,
   "outputs": [],
   "source": [
    "df = pd.read_csv(csv_path)"
   ],
   "metadata": {
    "collapsed": false
   }
  },
  {
   "cell_type": "code",
   "execution_count": 116,
   "outputs": [],
   "source": [
    "# Divisione in train e test set\n",
    "X = df.copy()\n",
    "y = X.pop('fake')\n",
    "\n",
    "sss = StratifiedShuffleSplit(n_splits=1, test_size=0.2, random_state=42)\n",
    "\n",
    "for train_index, test_index in sss.split(X, y):\n",
    "    X_train, X_test = X.loc[train_index], X.loc[test_index]\n",
    "    y_train, y_test = y.loc[train_index], y.loc[test_index]"
   ],
   "metadata": {
    "id": "gA4sxs84tHEO",
    "executionInfo": {
     "status": "ok",
     "timestamp": 1720617564319,
     "user_tz": -120,
     "elapsed": 272,
     "user": {
      "displayName": "Annalaura Miglino",
      "userId": "03808724092990969006"
     }
    }
   }
  },
  {
   "cell_type": "markdown",
   "source": [
    "### 1.1 Addestramento senza iperparametri"
   ],
   "metadata": {
    "collapsed": false,
    "id": "IsOyxbdUtHEO"
   }
  },
  {
   "cell_type": "code",
   "execution_count": 117,
   "outputs": [
    {
     "name": "stdout",
     "output_type": "stream",
     "text": [
      "Accuracy: 0.9985067197610752\n",
      "Precision: 0.9990049751243781\n",
      "Recall: 0.9980119284294234\n",
      "F1-Score: 0.9985082048731975\n"
     ]
    }
   ],
   "source": [
    "# Istanziazione e addestramento del classificatore\n",
    "rfc = RandomForestClassifier()\n",
    "rfc.fit(X_train, y_train)\n",
    "y_pred = rfc.predict(X_test)\n",
    "\n",
    "# Stampa delle metriche\n",
    "print(f'Accuracy: {accuracy_score(y_test, y_pred)}')\n",
    "print(f'Precision: {precision_score(y_test, y_pred)}')\n",
    "print(f'Recall: {recall_score(y_test, y_pred)}')\n",
    "print(f'F1-Score: {f1_score(y_test, y_pred)}')"
   ],
   "metadata": {
    "colab": {
     "base_uri": "https://localhost:8080/"
    },
    "id": "dB1w4oUgtHEP",
    "executionInfo": {
     "status": "ok",
     "timestamp": 1720617566460,
     "user_tz": -120,
     "elapsed": 637,
     "user": {
      "displayName": "Annalaura Miglino",
      "userId": "03808724092990969006"
     }
    },
    "outputId": "e52d4a94-f850-43c9-c583-70c8ffd6d169"
   }
  },
  {
   "cell_type": "markdown",
   "source": [
    "## 2. Grid Search Cross Validation"
   ],
   "metadata": {
    "collapsed": false,
    "id": "eKsiifbVtHEQ"
   }
  },
  {
   "cell_type": "code",
   "execution_count": 118,
   "outputs": [],
   "source": [
    "# Griglia dei parametri\n",
    "param_grid = {\n",
    "    'n_estimators': [100, 200],\n",
    "    'max_features': ['sqrt', 'log2'],\n",
    "    'max_depth': [10, 20]\n",
    "}"
   ],
   "metadata": {
    "id": "8mftUZiltHER",
    "executionInfo": {
     "status": "ok",
     "timestamp": 1720617575089,
     "user_tz": -120,
     "elapsed": 254,
     "user": {
      "displayName": "Annalaura Miglino",
      "userId": "03808724092990969006"
     }
    }
   }
  },
  {
   "cell_type": "code",
   "source": [
    "# Istanziazione del classificatore\n",
    "rfc = RandomForestClassifier()"
   ],
   "metadata": {
    "id": "aKR9IQrtto_j",
    "executionInfo": {
     "status": "ok",
     "timestamp": 1720617576619,
     "user_tz": -120,
     "elapsed": 2,
     "user": {
      "displayName": "Annalaura Miglino",
      "userId": "03808724092990969006"
     }
    }
   },
   "execution_count": 119,
   "outputs": []
  },
  {
   "cell_type": "code",
   "execution_count": 120,
   "outputs": [
    {
     "name": "stdout",
     "output_type": "stream",
     "text": [
      "Best Parameters: {'max_depth': 20, 'max_features': 'log2', 'n_estimators': 200}\n",
      "CPU times: total: 859 ms\n",
      "Wall time: 19.6 s\n"
     ]
    }
   ],
   "source": [
    "%%time\n",
    "# Stampiamo i migliori parametri\n",
    "grid_search = GridSearchCV(estimator=rfc, param_grid=param_grid, cv=10, scoring='accuracy', n_jobs=-1, return_train_score=True, error_score='raise')\n",
    "grid_search.fit(X_train, y_train)\n",
    "print(\"Best Parameters:\", grid_search.best_params_)"
   ],
   "metadata": {
    "colab": {
     "base_uri": "https://localhost:8080/"
    },
    "id": "APgT9wYWtHER",
    "executionInfo": {
     "status": "ok",
     "timestamp": 1720617644893,
     "user_tz": -120,
     "elapsed": 67466,
     "user": {
      "displayName": "Annalaura Miglino",
      "userId": "03808724092990969006"
     }
    },
    "outputId": "5086b6c9-5760-4748-dcbf-1d77d9a0d62c"
   }
  },
  {
   "cell_type": "code",
   "execution_count": 121,
   "outputs": [
    {
     "name": "stdout",
     "output_type": "stream",
     "text": [
      "Iterazione 0: Accuracy 0.997634492543509, Parametri {'max_depth': 10, 'max_features': 'sqrt', 'n_estimators': 100}\n",
      "Iterazione 1: Accuracy 0.9975101144340563, Parametri {'max_depth': 10, 'max_features': 'sqrt', 'n_estimators': 200}\n",
      "Iterazione 2: Accuracy 0.9975101144340563, Parametri {'max_depth': 10, 'max_features': 'log2', 'n_estimators': 100}\n",
      "Iterazione 3: Accuracy 0.9973855814328111, Parametri {'max_depth': 10, 'max_features': 'log2', 'n_estimators': 200}\n",
      "Iterazione 4: Accuracy 0.9977591804365471, Parametri {'max_depth': 20, 'max_features': 'sqrt', 'n_estimators': 100}\n",
      "Iterazione 5: Accuracy 0.9976346474353017, Parametri {'max_depth': 20, 'max_features': 'sqrt', 'n_estimators': 200}\n",
      "Iterazione 6: Accuracy 0.9975101144340563, Parametri {'max_depth': 20, 'max_features': 'log2', 'n_estimators': 100}\n",
      "Iterazione 7: Accuracy 0.9981324696566978, Parametri {'max_depth': 20, 'max_features': 'log2', 'n_estimators': 200}\n"
     ]
    }
   ],
   "source": [
    "# Vediamo come si comporta nelle diverse combinaizoni di parametri\n",
    "cvres = grid_search.cv_results_\n",
    "\n",
    "for i, (accuracy, params) in enumerate(zip(cvres[\"mean_test_score\"], cvres[\"params\"])):\n",
    "    print(f\"Iterazione {i}: Accuracy {accuracy}, Parametri {params}\")"
   ],
   "metadata": {
    "colab": {
     "base_uri": "https://localhost:8080/"
    },
    "id": "KIprT5a5tHET",
    "executionInfo": {
     "status": "ok",
     "timestamp": 1720617648906,
     "user_tz": -120,
     "elapsed": 262,
     "user": {
      "displayName": "Annalaura Miglino",
      "userId": "03808724092990969006"
     }
    },
    "outputId": "9001a91e-82db-4119-eacd-e49e63c4f6cf"
   }
  },
  {
   "cell_type": "markdown",
   "source": [
    "## 3. Feature Importances"
   ],
   "metadata": {
    "collapsed": false,
    "id": "TbW-0173tHEU"
   }
  },
  {
   "cell_type": "code",
   "execution_count": 122,
   "outputs": [
    {
     "data": {
      "text/plain": "    featureImportance                     attribute\n0            0.298514                 followerCount\n1            0.152305                followingCount\n2            0.137264                    videoCount\n3            0.121592                    heartCount\n4            0.092234                nicknameLength\n5            0.066937                     diggCount\n6            0.034467               signatureLength\n7            0.028134                  openFavorite\n8            0.024343                uniqueIdLength\n9            0.023796  nicknameNumSpecialCharacters\n10           0.016453             uniqueIdNumDigits\n11           0.001849               downloadSetting\n12           0.001279                      verified\n13           0.000512                 stitchSetting\n14           0.000323                   duetSetting",
      "text/html": "<div>\n<style scoped>\n    .dataframe tbody tr th:only-of-type {\n        vertical-align: middle;\n    }\n\n    .dataframe tbody tr th {\n        vertical-align: top;\n    }\n\n    .dataframe thead th {\n        text-align: right;\n    }\n</style>\n<table border=\"1\" class=\"dataframe\">\n  <thead>\n    <tr style=\"text-align: right;\">\n      <th></th>\n      <th>featureImportance</th>\n      <th>attribute</th>\n    </tr>\n  </thead>\n  <tbody>\n    <tr>\n      <th>0</th>\n      <td>0.298514</td>\n      <td>followerCount</td>\n    </tr>\n    <tr>\n      <th>1</th>\n      <td>0.152305</td>\n      <td>followingCount</td>\n    </tr>\n    <tr>\n      <th>2</th>\n      <td>0.137264</td>\n      <td>videoCount</td>\n    </tr>\n    <tr>\n      <th>3</th>\n      <td>0.121592</td>\n      <td>heartCount</td>\n    </tr>\n    <tr>\n      <th>4</th>\n      <td>0.092234</td>\n      <td>nicknameLength</td>\n    </tr>\n    <tr>\n      <th>5</th>\n      <td>0.066937</td>\n      <td>diggCount</td>\n    </tr>\n    <tr>\n      <th>6</th>\n      <td>0.034467</td>\n      <td>signatureLength</td>\n    </tr>\n    <tr>\n      <th>7</th>\n      <td>0.028134</td>\n      <td>openFavorite</td>\n    </tr>\n    <tr>\n      <th>8</th>\n      <td>0.024343</td>\n      <td>uniqueIdLength</td>\n    </tr>\n    <tr>\n      <th>9</th>\n      <td>0.023796</td>\n      <td>nicknameNumSpecialCharacters</td>\n    </tr>\n    <tr>\n      <th>10</th>\n      <td>0.016453</td>\n      <td>uniqueIdNumDigits</td>\n    </tr>\n    <tr>\n      <th>11</th>\n      <td>0.001849</td>\n      <td>downloadSetting</td>\n    </tr>\n    <tr>\n      <th>12</th>\n      <td>0.001279</td>\n      <td>verified</td>\n    </tr>\n    <tr>\n      <th>13</th>\n      <td>0.000512</td>\n      <td>stitchSetting</td>\n    </tr>\n    <tr>\n      <th>14</th>\n      <td>0.000323</td>\n      <td>duetSetting</td>\n    </tr>\n  </tbody>\n</table>\n</div>"
     },
     "execution_count": 122,
     "metadata": {},
     "output_type": "execute_result"
    }
   ],
   "source": [
    "# Vediamo l'importanza delle features in fase di addestramento\n",
    "df_feature_importances = pd.DataFrame({\n",
    "    'featureImportance': grid_search.best_estimator_.feature_importances_,\n",
    "    'attribute': X_train.columns\n",
    "})\n",
    "\n",
    "df_feature_importances_sorted = df_feature_importances.sort_values(by='featureImportance', ascending=False)\n",
    "df_feature_importances_sorted.reset_index(inplace=True, drop=True)\n",
    "df_feature_importances_sorted"
   ],
   "metadata": {
    "colab": {
     "base_uri": "https://localhost:8080/",
     "height": 519
    },
    "id": "oJr1v2ivtHEU",
    "executionInfo": {
     "status": "ok",
     "timestamp": 1720617652467,
     "user_tz": -120,
     "elapsed": 274,
     "user": {
      "displayName": "Annalaura Miglino",
      "userId": "03808724092990969006"
     }
    },
    "outputId": "5ca8c6b5-84e5-4160-cb02-ff7152230467"
   }
  },
  {
   "cell_type": "markdown",
   "source": [
    "## 4. Metriche del modello migliore"
   ],
   "metadata": {
    "collapsed": false,
    "id": "9SLuA_6btHEV"
   }
  },
  {
   "cell_type": "markdown",
   "source": [
    "> Vengono misurate le metriche a seguito dell'Hyperparameter Tuning."
   ],
   "metadata": {
    "id": "hjvGQ4FwuqzU"
   }
  },
  {
   "cell_type": "code",
   "execution_count": 123,
   "outputs": [
    {
     "name": "stdout",
     "output_type": "stream",
     "text": [
      "Accuracy: 0.9980089596814335\n",
      "Precision: 0.9980119284294234\n",
      "Recall: 0.9980119284294234\n",
      "F1-Score: 0.9980119284294234\n"
     ]
    }
   ],
   "source": [
    "rfc_final = grid_search.best_estimator_\n",
    "y_pred = rfc_final.predict(X_test)\n",
    "\n",
    "# Stampa delle metriche\n",
    "print(f'Accuracy: {accuracy_score(y_test, y_pred)}')\n",
    "print(f'Precision: {precision_score(y_test, y_pred)}')\n",
    "print(f'Recall: {recall_score(y_test, y_pred)}')\n",
    "print(f'F1-Score: {f1_score(y_test, y_pred)}')"
   ],
   "metadata": {
    "colab": {
     "base_uri": "https://localhost:8080/"
    },
    "id": "pL1M7dV_tHEV",
    "executionInfo": {
     "status": "ok",
     "timestamp": 1720617657198,
     "user_tz": -120,
     "elapsed": 267,
     "user": {
      "displayName": "Annalaura Miglino",
      "userId": "03808724092990969006"
     }
    },
    "outputId": "1a9cb2b4-9ce0-4131-a8b9-e9e888a679a8"
   }
  },
  {
   "cell_type": "markdown",
   "source": [
    "### 4.1 Learning Curve"
   ],
   "metadata": {
    "collapsed": false,
    "id": "DSv8xklJtHEV"
   }
  },
  {
   "cell_type": "code",
   "execution_count": 124,
   "outputs": [
    {
     "data": {
      "text/plain": "<Figure size 640x480 with 1 Axes>",
      "image/png": "[encoded data removed]"
     },
     "metadata": {},
     "output_type": "display_data"
    }
   ],
   "source": [
    "test_scores = cvres['mean_test_score']\n",
    "train_scores = cvres['mean_train_score']\n",
    "\n",
    "plt.plot(test_scores, label='test')\n",
    "plt.plot(train_scores, label='train')\n",
    "plt.xlabel('GridSearchCV Iteration')\n",
    "plt.ylabel('Mean accuracy')\n",
    "plt.legend(loc='best')\n",
    "plt.grid(visible=False)\n",
    "plt.show()"
   ],
   "metadata": {
    "colab": {
     "base_uri": "https://localhost:8080/",
     "height": 449
    },
    "id": "aa7R4wf2tHEW",
    "executionInfo": {
     "status": "ok",
     "timestamp": 1720617657933,
     "user_tz": -120,
     "elapsed": 335,
     "user": {
      "displayName": "Annalaura Miglino",
      "userId": "03808724092990969006"
     }
    },
    "outputId": "e2b259d3-b7e2-4392-9760-59b16b0ca7a3"
   }
  },
  {
   "cell_type": "markdown",
   "source": [
    "### 4.2 Matrice di confusione"
   ],
   "metadata": {
    "collapsed": false,
    "id": "bsg3sXzetHEW"
   }
  },
  {
   "cell_type": "code",
   "execution_count": 125,
   "outputs": [
    {
     "data": {
      "text/plain": "<Figure size 500x400 with 2 Axes>",
      "image/png": "[encoded data removed]"
     },
     "metadata": {},
     "output_type": "display_data"
    },
    {
     "data": {
      "text/plain": "<Figure size 640x480 with 0 Axes>"
     },
     "metadata": {},
     "output_type": "display_data"
    }
   ],
   "source": [
    "cm = confusion_matrix(y_test, y_pred)\n",
    "class_names = ['Real', 'Fake']\n",
    "\n",
    "plt.figure(figsize=(5, 4))\n",
    "sns.heatmap(cm, annot=True, cmap='Blues', fmt='d', xticklabels=class_names, yticklabels=class_names)\n",
    "\n",
    "plt.xlabel('Predicted label')\n",
    "plt.ylabel('True label')\n",
    "plt.title('Confusion Matrix')\n",
    "plt.show()\n",
    "\n",
    "# Salva il grafico come file PDF\n",
    "plt.savefig('confusion_matrix_NameOfClassifier.pdf', format='pdf')"
   ],
   "metadata": {
    "colab": {
     "base_uri": "https://localhost:8080/",
     "height": 427
    },
    "id": "0dFXWshdtHEW",
    "executionInfo": {
     "status": "ok",
     "timestamp": 1720617658603,
     "user_tz": -120,
     "elapsed": 673,
     "user": {
      "displayName": "Annalaura Miglino",
      "userId": "03808724092990969006"
     }
    },
    "outputId": "562c869a-cbcd-4bce-91f7-4f708700669d"
   }
  },
  {
   "cell_type": "markdown",
   "source": [
    "### 4.3 Roc Curve"
   ],
   "metadata": {
    "collapsed": false,
    "id": "jbT1bZJVtHEW"
   }
  },
  {
   "cell_type": "code",
   "execution_count": 126,
   "outputs": [
    {
     "data": {
      "text/plain": "<Figure size 600x500 with 1 Axes>",
      "image/png": "[encoded data removed]"
     },
     "metadata": {},
     "output_type": "display_data"
    }
   ],
   "source": [
    "y_proba = rfc_final.predict_proba(X_test)\n",
    "\n",
    "# Calcolo della curva ROC per la classe 'real' (label 0)\n",
    "fpr_real, tpr_real, _ = roc_curve(y_test, y_proba[:, 0], pos_label=0)\n",
    "roc_auc_real = auc(fpr_real, tpr_real)\n",
    "\n",
    "# Calcolo della curva ROC per la classe 'fake' (lebel 1)\n",
    "fpr_fake, tpr_fake, _ = roc_curve(y_test, y_proba[:, 1], pos_label=1)\n",
    "roc_auc_fake = auc(fpr_fake, tpr_fake)\n",
    "\n",
    "# Tracciamento delle curve ROC\n",
    "plt.figure(figsize=(6, 5))\n",
    "plt.plot(fpr_real, tpr_real, color='darkorange', lw=2, label=f'ROC curve real (AUC = {roc_auc_real:.2f})')\n",
    "plt.plot(fpr_fake, tpr_fake, color='blue', lw=2, label=f'ROC curve fake (AUC = {roc_auc_fake:.2f})')\n",
    "plt.plot([0, 1], [0, 1], color='black', lw=1, linestyle='--')\n",
    "plt.xlabel('False Positive Rate')\n",
    "plt.ylabel('True Positive Rate')\n",
    "plt.grid(False)\n",
    "plt.legend()\n",
    "plt.title('ROC Curve')\n",
    "plt.show()"
   ],
   "metadata": {
    "colab": {
     "base_uri": "https://localhost:8080/",
     "height": 507
    },
    "id": "2IDikDOttHEX",
    "executionInfo": {
     "status": "ok",
     "timestamp": 1720617659329,
     "user_tz": -120,
     "elapsed": 743,
     "user": {
      "displayName": "Annalaura Miglino",
      "userId": "03808724092990969006"
     }
    },
    "outputId": "88e0265a-30ed-4f0d-eda9-442863d4b609"
   }
  },
  {
   "cell_type": "code",
   "execution_count": null,
   "outputs": [],
   "source": [],
   "metadata": {
    "collapsed": false
   }
  }
 ],
 "metadata": {
  "kernelspec": {
   "display_name": "Python 3",
   "language": "python",
   "name": "python3"
  },
  "language_info": {
   "codemirror_mode": {
    "name": "ipython",
    "version": 2
   },
   "file_extension": ".py",
   "mimetype": "text/x-python",
   "name": "python",
   "nbconvert_exporter": "python",
   "pygments_lexer": "ipython2",
   "version": "2.7.6"
  },
  "colab": {
   "provenance": []
  }
 },
 "nbformat": 4,
 "nbformat_minor": 0
}
