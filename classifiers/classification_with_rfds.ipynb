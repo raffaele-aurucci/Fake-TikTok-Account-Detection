{
 "cells": [
  {
   "cell_type": "markdown",
   "source": [
    "# Addestramento mediante RFDs"
   ],
   "metadata": {
    "collapsed": false
   }
  },
  {
   "cell_type": "code",
   "execution_count": 63,
   "outputs": [],
   "source": [
    "from sklearn import preprocessing\n",
    "from sklearn.ensemble import RandomForestClassifier\n",
    "from sklearn.linear_model import LogisticRegression\n",
    "from sklearn.metrics import accuracy_score\n",
    "from sklearn.metrics import classification_report\n",
    "from sklearn.metrics import confusion_matrix\n",
    "from sklearn.model_selection import train_test_split\n",
    "from sklearn.neighbors import KNeighborsClassifier\n",
    "from sklearn.tree import DecisionTreeClassifier\n",
    "from sklearn.svm import SVC\n",
    "import matplotlib.pyplot as plt\n",
    "import pandas as pd\n",
    "import seaborn as sns\n",
    "import numpy as np"
   ],
   "metadata": {
    "collapsed": false
   }
  },
  {
   "cell_type": "markdown",
   "source": [
    "## 1. Inizializzazione dataset"
   ],
   "metadata": {
    "collapsed": false
   }
  },
  {
   "cell_type": "code",
   "execution_count": 18,
   "outputs": [],
   "source": [
    "#tipo = 1 tutto il dataset\n",
    "#tipo = 2 dataset con solo RFD\n",
    "def initialize_data(dataset, tipo, threshold, percentage = 100):\n",
    "    train_path = dataset\n",
    "\n",
    "    # lettura dataset\n",
    "    train_df = pd.read_csv(train_path,sep=';',encoding = \"ISO-8859-1\")\n",
    "    train_df = train_df.fillna(1)\n",
    "\n",
    "    print(\"Dataset\",dataset.split(\"/\")[2],\"letto!\")\n",
    "\n",
    "    last_n_columns  = train_df.iloc[: , -(len(train_df.axes[1])-16):]\n",
    "    native_columns = train_df.iloc[: , :16]\n",
    "    print(\"Selection of the last 16 columns!\")\n",
    "\n",
    "    last_n_columns = last_n_columns.sort_values(by = 9019, axis = 1)\n",
    "    first_selected_columns = last_n_columns.iloc[: , :(int((len(last_n_columns.axes[1])*percentage)/100))]\n",
    "    print(\"Sorting and selecting first column!\")\n",
    "\n",
    "    number_of_columns_to_select = 0\n",
    "    occurrence = False\n",
    "\n",
    "    for i in range(0, len(first_selected_columns.axes[1])):\n",
    "        if first_selected_columns.loc[9019][i] > threshold:\n",
    "            occurrence = True\n",
    "            number_of_columns_to_select = i-1\n",
    "            break\n",
    "\n",
    "    print(\"number_of_columns_to_select:\",number_of_columns_to_select)\n",
    "    if occurrence:\n",
    "        final_selected_columns = first_selected_columns.iloc[: , :number_of_columns_to_select]\n",
    "    else:\n",
    "        final_selected_columns = first_selected_columns\n",
    "\n",
    "    #-----------------------------------\n",
    "    label_encoder = preprocessing.LabelEncoder()\n",
    "    if tipo == 1:\n",
    "        train_df = pd.concat([native_columns, final_selected_columns], axis=1)\n",
    "\n",
    "        train_df = train_df.iloc[:-1 , :]\n",
    "\n",
    "        print(\"Numero colonne: \", train_df.shape[1])\n",
    "        Y = label_encoder.fit_transform(train_df[\"class\"])\n",
    "        del train_df[\"class\"]\n",
    "    else:\n",
    "        train_df = pd.concat([final_selected_columns, native_columns['class']], axis=1)\n",
    "        train_df = train_df.iloc[:-1 , :]\n",
    "        print(\"Numero colonne: \", train_df.shape[1])\n",
    "        Y = label_encoder.fit_transform(train_df[\"class\"])\n",
    "        del train_df[\"class\"]\n",
    "    #-----------------------------------\n",
    "\n",
    "    x_train, x_test, y_train, y_test = train_test_split(train_df, Y, test_size=0.2, random_state=42)\n",
    "    return x_train, x_test, y_train, y_test"
   ],
   "metadata": {
    "collapsed": false
   }
  },
  {
   "cell_type": "markdown",
   "source": [
    "## 2. Prediction dei modelli con migliori iperparametri"
   ],
   "metadata": {
    "collapsed": false
   }
  },
  {
   "cell_type": "code",
   "execution_count": 19,
   "outputs": [],
   "source": [
    "def KNN_prediction():\n",
    "    best_params = {'algorithm': 'ball_tree',\n",
    "                   'metric': 'euclidean',\n",
    "                   'n_neighbors': 3,\n",
    "                   'weights': 'distance'\n",
    "                   }\n",
    "\n",
    "    knn = KNeighborsClassifier(**best_params)\n",
    "    # Fit the classifier to the data\n",
    "    knn.fit(x_train,y_train)\n",
    "    y_pred = knn.predict(x_test)\n",
    "    accuracy_value = accuracy_score(y_test, y_pred)\n",
    "    print(\"Accuracy for KNN on Test data: \",accuracy_value)\n",
    "    report = classification_report(y_test, y_pred, output_dict=True)\n",
    "    print(report)\n",
    "\n",
    "    conf_matrix = confusion_matrix(y_test, y_pred)\n",
    "    print(conf_matrix)\n",
    "    df_cm = pd.DataFrame(conf_matrix)\n",
    "\n",
    "    return accuracy_value, report, df_cm\n",
    "\n",
    "def RF_prediction():\n",
    "    best_params = {'max_depth': 10,\n",
    "                   'max_features': 'sqrt',\n",
    "                   'max_samples': None,\n",
    "                   'n_estimators': 50\n",
    "                   }\n",
    "\n",
    "    rfc = RandomForestClassifier(random_state = 42, **best_params)\n",
    "\n",
    "    # Fit the classifier to the data\n",
    "    rfc.fit(x_train, y_train)\n",
    "    y_pred = rfc.predict(x_test)\n",
    "\n",
    "    accuracy_value = accuracy_score(y_test, y_pred)\n",
    "    print(\"Accuracy for RF on Test data: \",accuracy_value)\n",
    "    report = classification_report(y_test, y_pred, output_dict=True)\n",
    "    print(report)\n",
    "\n",
    "    conf_matrix = confusion_matrix(y_test, y_pred)\n",
    "    print(conf_matrix)\n",
    "    df_cm = pd.DataFrame(conf_matrix)\n",
    "\n",
    "    return accuracy_value, report, df_cm\n",
    "\n",
    "def DT_prediction():\n",
    "    best_params = {'criterion': 'gini',\n",
    "                   'max_depth': 10,\n",
    "                   'max_features': 10,\n",
    "                   'max_leaf_nodes': 15,\n",
    "                   'min_samples_leaf': 2,\n",
    "                   'min_samples_split': 3\n",
    "                   }\n",
    "\n",
    "    #train with best hyperparameters\n",
    "    dt = DecisionTreeClassifier(random_state=42, **best_params)\n",
    "    dt.fit(x_train, y_train)\n",
    "\n",
    "    y_pred = dt.predict(x_test)\n",
    "\n",
    "    accuracy_value = accuracy_score(y_test, y_pred)\n",
    "    print(\"Accuracy for Decision Tree on Test data: \",accuracy_value)\n",
    "    report = classification_report(y_test, y_pred, output_dict=True)\n",
    "    print(report)\n",
    "\n",
    "    conf_matrix = confusion_matrix(y_test, y_pred)\n",
    "    print(conf_matrix)\n",
    "    df_cm = pd.DataFrame(conf_matrix)\n",
    "\n",
    "    return accuracy_value, report, df_cm\n",
    "\n",
    "def SVC_prediction():\n",
    "    best_params = {'C': 1.5,\n",
    "                   'coef0': 1.0,\n",
    "                   'degree': 3,\n",
    "                   'gamma': 1,\n",
    "                   'kernel': 'poly'\n",
    "                   }\n",
    "\n",
    "    svc = SVC(random_state=42, **best_params)\n",
    "    svc.fit(x_train, y_train)\n",
    "\n",
    "    y_pred = svc.predict(x_test)\n",
    "\n",
    "    accuracy_value = accuracy_score(y_test, y_pred)\n",
    "    print(\"Accuracy for SVC on Test data: \",accuracy_value)\n",
    "\n",
    "    report = classification_report(y_test, y_pred, output_dict=True)\n",
    "    print(report)\n",
    "\n",
    "    conf_matrix = confusion_matrix(y_test, y_pred)\n",
    "    print(conf_matrix)\n",
    "    df_cm = pd.DataFrame(conf_matrix)\n",
    "\n",
    "    return accuracy_value, report, df_cm\n",
    "\n",
    "def LR_prediction():\n",
    "    best_params = {'C': 1.0,\n",
    "                   'fit_intercept': True,\n",
    "                   'max_iter': 500,\n",
    "                   'penalty': None,\n",
    "                   'solver': 'lbfgs'\n",
    "                   }\n",
    "\n",
    "    lr = LogisticRegression(random_state=42, **best_params)\n",
    "    lr.fit(x_train, y_train)\n",
    "\n",
    "    y_pred = lr.predict(x_test)\n",
    "\n",
    "    accuracy_value = accuracy_score(y_test, y_pred)\n",
    "    print(\"Accuracy for Logistic Regression on Test data: \",accuracy_value)\n",
    "\n",
    "    report = classification_report(y_test, y_pred, output_dict=True)\n",
    "    print(report)\n",
    "\n",
    "    conf_matrix = confusion_matrix(y_test, y_pred)\n",
    "    print(conf_matrix)\n",
    "    df_cm = pd.DataFrame(conf_matrix)\n",
    "\n",
    "    return accuracy_value, report, df_cm\n",
    "\n",
    "def draw_confusion(df_cm, title, filename):\n",
    "    plt.figure(figsize=(10, 7))\n",
    "    sns.heatmap(df_cm, annot=True, fmt=\".0f\")\n",
    "    plt.title(title)\n",
    "    plt.savefig(\"{}-confusion.pdf\".format(filename))\n",
    "    #plt.show()\n",
    "    plt.cla()\n",
    "    plt.clf()"
   ],
   "metadata": {
    "collapsed": false
   }
  },
  {
   "cell_type": "markdown",
   "source": [
    "## 3. Risultati"
   ],
   "metadata": {
    "collapsed": false
   }
  },
  {
   "cell_type": "markdown",
   "source": [
    "### 3.1 Dataset RFDs+16"
   ],
   "metadata": {
    "collapsed": false
   }
  },
  {
   "cell_type": "code",
   "execution_count": 29,
   "outputs": [
    {
     "name": "stdout",
     "output_type": "stream",
     "text": [
      "Dataset rfds_0_with_chi.csv letto!\n",
      "Selection of the last 16 columns!\n",
      "Sorting and selecting first column!\n",
      "number_of_columns_to_select: 2\n",
      "Numero colonne:  18\n"
     ]
    },
    {
     "name": "stderr",
     "output_type": "stream",
     "text": [
      "C:\\Users\\rafau\\AppData\\Local\\Temp\\ipykernel_33900\\2950289215.py:24: FutureWarning: Series.__getitem__ treating keys as positions is deprecated. In a future version, integer keys will always be treated as labels (consistent with DataFrame behavior). To access a value by position, use `ser.iloc[pos]`\n",
      "  if first_selected_columns.loc[9019][i] > threshold:\n"
     ]
    },
    {
     "name": "stdout",
     "output_type": "stream",
     "text": [
      "Accuracy for RF on Test data:  0.9990044798407167\n",
      "{'0': {'precision': 0.9980099502487563, 'recall': 1.0, 'f1-score': 0.999003984063745, 'support': 1003.0}, '1': {'precision': 1.0, 'recall': 0.9980119284294234, 'f1-score': 0.9990049751243781, 'support': 1006.0}, 'accuracy': 0.9990044798407167, 'macro avg': {'precision': 0.9990049751243781, 'recall': 0.9990059642147118, 'f1-score': 0.9990044795940616, 'support': 2009.0}, 'weighted avg': {'precision': 0.9990064609753622, 'recall': 0.9990044798407167, 'f1-score': 0.9990044803340272, 'support': 2009.0}}\n",
      "[[1003    0]\n",
      " [   2 1004]]\n",
      "Accuracy for Decision Tree on Test data:  0.9965156794425087\n",
      "{'0': {'precision': 0.9930693069306931, 'recall': 1.0, 'f1-score': 0.9965226030799801, 'support': 1003.0}, '1': {'precision': 1.0, 'recall': 0.9930417495029821, 'f1-score': 0.9965087281795512, 'support': 1006.0}, 'accuracy': 0.9965156794425087, 'macro avg': {'precision': 0.9965346534653465, 'recall': 0.9965208747514911, 'f1-score': 0.9965156656297656, 'support': 2009.0}, 'weighted avg': {'precision': 0.9965398281988478, 'recall': 0.9965156794425087, 'f1-score': 0.9965156552702084, 'support': 2009.0}}\n",
      "[[1003    0]\n",
      " [   7  999]]\n",
      "Accuracy for SVC on Test data:  0.9865604778496765\n",
      "{'0': {'precision': 0.9919354838709677, 'recall': 0.9810568295114656, 'f1-score': 0.9864661654135338, 'support': 1003.0}, '1': {'precision': 0.9813176007866273, 'recall': 0.9920477137176938, 'f1-score': 0.9866534849233811, 'support': 1006.0}, 'accuracy': 0.9865604778496765, 'macro avg': {'precision': 0.9866265423287975, 'recall': 0.9865522716145797, 'f1-score': 0.9865598251684575, 'support': 2009.0}, 'weighted avg': {'precision': 0.986618614591303, 'recall': 0.9865604778496765, 'f1-score': 0.9865599650287187, 'support': 2009.0}}\n",
      "[[984  19]\n",
      " [  8 998]]\n",
      "Accuracy for Logistic Regression on Test data:  0.9323046291687407\n",
      "{'0': {'precision': 0.9636363636363636, 'recall': 0.8983050847457628, 'f1-score': 0.9298245614035088, 'support': 1003.0}, '1': {'precision': 0.9050279329608939, 'recall': 0.9662027833001988, 'f1-score': 0.9346153846153846, 'support': 1006.0}, 'accuracy': 0.9323046291687407, 'macro avg': {'precision': 0.9343321482986288, 'recall': 0.9322539340229807, 'f1-score': 0.9322199730094467, 'support': 2009.0}, 'weighted avg': {'precision': 0.9342883888929477, 'recall': 0.9323046291687407, 'f1-score': 0.932223550030262, 'support': 2009.0}}\n",
      "[[901 102]\n",
      " [ 34 972]]\n"
     ]
    },
    {
     "name": "stderr",
     "output_type": "stream",
     "text": [
      "C:\\Users\\rafau\\Documents\\PythonProjects\\FakeAccountDetection\\venv\\lib\\site-packages\\sklearn\\linear_model\\_logistic.py:1197: UserWarning: l1_ratio parameter is only used when penalty is 'elasticnet'. Got (penalty=None)\n",
      "  warnings.warn(\n"
     ]
    },
    {
     "name": "stdout",
     "output_type": "stream",
     "text": [
      "Accuracy for KNN on Test data:  0.987058237929318\n",
      "{'0': {'precision': 0.992936427850656, 'recall': 0.9810568295114656, 'f1-score': 0.9869608826479438, 'support': 1003.0}, '1': {'precision': 0.981335952848723, 'recall': 0.9930417495029821, 'f1-score': 0.9871541501976284, 'support': 1006.0}, 'accuracy': 0.987058237929318, 'macro avg': {'precision': 0.9871361903496895, 'recall': 0.9870492895072238, 'f1-score': 0.9870575164227862, 'support': 2009.0}, 'weighted avg': {'precision': 0.9871275289696482, 'recall': 0.987058237929318, 'f1-score': 0.9870576607240925, 'support': 2009.0}}\n",
      "[[984  19]\n",
      " [  7 999]]\n",
      "Dataset rfds_2_with_chi.csv letto!\n",
      "Selection of the last 16 columns!\n",
      "Sorting and selecting first column!\n",
      "number_of_columns_to_select: 13\n",
      "Numero colonne:  29\n"
     ]
    },
    {
     "name": "stderr",
     "output_type": "stream",
     "text": [
      "C:\\Users\\rafau\\AppData\\Local\\Temp\\ipykernel_33900\\2950289215.py:24: FutureWarning: Series.__getitem__ treating keys as positions is deprecated. In a future version, integer keys will always be treated as labels (consistent with DataFrame behavior). To access a value by position, use `ser.iloc[pos]`\n",
      "  if first_selected_columns.loc[9019][i] > threshold:\n"
     ]
    },
    {
     "name": "stdout",
     "output_type": "stream",
     "text": [
      "Accuracy for RF on Test data:  0.9990044798407167\n",
      "{'0': {'precision': 0.9980099502487563, 'recall': 1.0, 'f1-score': 0.999003984063745, 'support': 1003.0}, '1': {'precision': 1.0, 'recall': 0.9980119284294234, 'f1-score': 0.9990049751243781, 'support': 1006.0}, 'accuracy': 0.9990044798407167, 'macro avg': {'precision': 0.9990049751243781, 'recall': 0.9990059642147118, 'f1-score': 0.9990044795940616, 'support': 2009.0}, 'weighted avg': {'precision': 0.9990064609753622, 'recall': 0.9990044798407167, 'f1-score': 0.9990044803340272, 'support': 2009.0}}\n",
      "[[1003    0]\n",
      " [   2 1004]]\n",
      "Accuracy for Decision Tree on Test data:  0.9955201592832255\n",
      "{'0': {'precision': 0.997, 'recall': 0.9940179461615155, 'f1-score': 0.9955067398901648, 'support': 1003.0}, '1': {'precision': 0.9940535183349851, 'recall': 0.9970178926441352, 'f1-score': 0.9955334987593052, 'support': 1006.0}, 'accuracy': 0.9955201592832255, 'macro avg': {'precision': 0.9955267591674926, 'recall': 0.9955179194028254, 'f1-score': 0.9955201193247349, 'support': 2009.0}, 'weighted avg': {'precision': 0.9955245592060702, 'recall': 0.9955201592832255, 'f1-score': 0.9955201393039803, 'support': 2009.0}}\n",
      "[[ 997    6]\n",
      " [   3 1003]]\n",
      "Accuracy for SVC on Test data:  0.9855649576903932\n",
      "{'0': {'precision': 0.9909274193548387, 'recall': 0.9800598205383848, 'f1-score': 0.9854636591478697, 'support': 1003.0}, '1': {'precision': 0.9803343166175025, 'recall': 0.9910536779324056, 'f1-score': 0.9856648541769649, 'support': 1006.0}, 'accuracy': 0.9855649576903932, 'macro avg': {'precision': 0.9856308679861706, 'recall': 0.9855567492353952, 'f1-score': 0.9855642566624173, 'support': 2009.0}, 'weighted avg': {'precision': 0.9856229587506773, 'recall': 0.9855649576903932, 'f1-score': 0.985564406882698, 'support': 2009.0}}\n",
      "[[983  20]\n",
      " [  9 997]]\n",
      "Accuracy for Logistic Regression on Test data:  0.9313091090094574\n",
      "{'0': {'precision': 0.9615795090715048, 'recall': 0.8983050847457628, 'f1-score': 0.9288659793814433, 'support': 1003.0}, '1': {'precision': 0.9048507462686567, 'recall': 0.9642147117296223, 'f1-score': 0.933589990375361, 'support': 1006.0}, 'accuracy': 0.9313091090094574, 'macro avg': {'precision': 0.9332151276700807, 'recall': 0.9312598982376925, 'f1-score': 0.9312279848784022, 'support': 2009.0}, 'weighted avg': {'precision': 0.9331727716998446, 'recall': 0.9313091090094574, 'f1-score': 0.9312315120145349, 'support': 2009.0}}\n",
      "[[901 102]\n",
      " [ 36 970]]\n"
     ]
    },
    {
     "name": "stderr",
     "output_type": "stream",
     "text": [
      "C:\\Users\\rafau\\Documents\\PythonProjects\\FakeAccountDetection\\venv\\lib\\site-packages\\sklearn\\linear_model\\_logistic.py:1197: UserWarning: l1_ratio parameter is only used when penalty is 'elasticnet'. Got (penalty=None)\n",
      "  warnings.warn(\n"
     ]
    },
    {
     "name": "stdout",
     "output_type": "stream",
     "text": [
      "Accuracy for KNN on Test data:  0.987058237929318\n",
      "{'0': {'precision': 0.992936427850656, 'recall': 0.9810568295114656, 'f1-score': 0.9869608826479438, 'support': 1003.0}, '1': {'precision': 0.981335952848723, 'recall': 0.9930417495029821, 'f1-score': 0.9871541501976284, 'support': 1006.0}, 'accuracy': 0.987058237929318, 'macro avg': {'precision': 0.9871361903496895, 'recall': 0.9870492895072238, 'f1-score': 0.9870575164227862, 'support': 2009.0}, 'weighted avg': {'precision': 0.9871275289696482, 'recall': 0.987058237929318, 'f1-score': 0.9870576607240925, 'support': 2009.0}}\n",
      "[[984  19]\n",
      " [  7 999]]\n",
      "Dataset rfds_4_with_chi.csv letto!\n",
      "Selection of the last 16 columns!\n",
      "Sorting and selecting first column!\n",
      "number_of_columns_to_select: 11\n",
      "Numero colonne:  27\n"
     ]
    },
    {
     "name": "stderr",
     "output_type": "stream",
     "text": [
      "C:\\Users\\rafau\\AppData\\Local\\Temp\\ipykernel_33900\\2950289215.py:24: FutureWarning: Series.__getitem__ treating keys as positions is deprecated. In a future version, integer keys will always be treated as labels (consistent with DataFrame behavior). To access a value by position, use `ser.iloc[pos]`\n",
      "  if first_selected_columns.loc[9019][i] > threshold:\n"
     ]
    },
    {
     "name": "stdout",
     "output_type": "stream",
     "text": [
      "Accuracy for RF on Test data:  0.9990044798407167\n",
      "{'0': {'precision': 0.9980099502487563, 'recall': 1.0, 'f1-score': 0.999003984063745, 'support': 1003.0}, '1': {'precision': 1.0, 'recall': 0.9980119284294234, 'f1-score': 0.9990049751243781, 'support': 1006.0}, 'accuracy': 0.9990044798407167, 'macro avg': {'precision': 0.9990049751243781, 'recall': 0.9990059642147118, 'f1-score': 0.9990044795940616, 'support': 2009.0}, 'weighted avg': {'precision': 0.9990064609753622, 'recall': 0.9990044798407167, 'f1-score': 0.9990044803340272, 'support': 2009.0}}\n",
      "[[1003    0]\n",
      " [   2 1004]]\n",
      "Accuracy for Decision Tree on Test data:  0.9965156794425087\n",
      "{'0': {'precision': 0.9940476190476191, 'recall': 0.9990029910269193, 'f1-score': 0.9965191447041273, 'support': 1003.0}, '1': {'precision': 0.999000999000999, 'recall': 0.9940357852882704, 'f1-score': 0.9965122072745392, 'support': 1006.0}, 'accuracy': 0.9965156794425087, 'macro avg': {'precision': 0.996524309024309, 'recall': 0.9965193881575949, 'f1-score': 0.9965156759893332, 'support': 2009.0}, 'weighted avg': {'precision': 0.9965280074165092, 'recall': 0.9965156794425087, 'f1-score': 0.9965156708095699, 'support': 2009.0}}\n",
      "[[1002    1]\n",
      " [   6 1000]]\n",
      "Accuracy for SVC on Test data:  0.9860627177700348\n",
      "{'0': {'precision': 0.9919273461150353, 'recall': 0.9800598205383848, 'f1-score': 0.9859578736208626, 'support': 1003.0}, '1': {'precision': 0.9803536345776032, 'recall': 0.9920477137176938, 'f1-score': 0.9861660079051383, 'support': 1006.0}, 'accuracy': 0.9860627177700348, 'macro avg': {'precision': 0.9861404903463192, 'recall': 0.9860537671280394, 'f1-score': 0.9860619407630005, 'support': 2009.0}, 'weighted avg': {'precision': 0.9861318489489542, 'recall': 0.9860627177700348, 'f1-score': 0.9860620961644073, 'support': 2009.0}}\n",
      "[[983  20]\n",
      " [  8 998]]\n",
      "Accuracy for Logistic Regression on Test data:  0.931806869089099\n",
      "{'0': {'precision': 0.9626068376068376, 'recall': 0.8983050847457628, 'f1-score': 0.9293450232078391, 'support': 1003.0}, '1': {'precision': 0.9049394221808015, 'recall': 0.9652087475149106, 'f1-score': 0.9341029341029341, 'support': 1006.0}, 'accuracy': 0.931806869089099, 'macro avg': {'precision': 0.9337731298938196, 'recall': 0.9317569161303367, 'f1-score': 0.9317239786553866, 'support': 2009.0}, 'weighted avg': {'precision': 0.9337300730878768, 'recall': 0.931806869089099, 'f1-score': 0.9317275311025458, 'support': 2009.0}}\n",
      "[[901 102]\n",
      " [ 35 971]]\n"
     ]
    },
    {
     "name": "stderr",
     "output_type": "stream",
     "text": [
      "C:\\Users\\rafau\\Documents\\PythonProjects\\FakeAccountDetection\\venv\\lib\\site-packages\\sklearn\\linear_model\\_logistic.py:1197: UserWarning: l1_ratio parameter is only used when penalty is 'elasticnet'. Got (penalty=None)\n",
      "  warnings.warn(\n"
     ]
    },
    {
     "name": "stdout",
     "output_type": "stream",
     "text": [
      "Accuracy for KNN on Test data:  0.987058237929318\n",
      "{'0': {'precision': 0.992936427850656, 'recall': 0.9810568295114656, 'f1-score': 0.9869608826479438, 'support': 1003.0}, '1': {'precision': 0.981335952848723, 'recall': 0.9930417495029821, 'f1-score': 0.9871541501976284, 'support': 1006.0}, 'accuracy': 0.987058237929318, 'macro avg': {'precision': 0.9871361903496895, 'recall': 0.9870492895072238, 'f1-score': 0.9870575164227862, 'support': 2009.0}, 'weighted avg': {'precision': 0.9871275289696482, 'recall': 0.987058237929318, 'f1-score': 0.9870576607240925, 'support': 2009.0}}\n",
      "[[984  19]\n",
      " [  7 999]]\n"
     ]
    }
   ],
   "source": [
    "full_datasets = [\"../datasets/rfds_0_with_chi.csv\",\n",
    "                 \"../datasets/rfds_2_with_chi.csv\", \"../datasets/rfds_4_with_chi.csv\"]\n",
    "\n",
    "dataframes_results = []\n",
    "results_dict = {}\n",
    "\n",
    "for dataset_name in full_datasets:\n",
    "    tipo = 1\n",
    "    comparison_thr = dataset_name.split(\"_\")[1]\n",
    "    for thr in [0.1]:\n",
    "        x_train, x_test, y_train, y_test = initialize_data(dataset_name, tipo, thr)\n",
    "\n",
    "        accuracy_value_RF, report_RF, df_cm_RF = RF_prediction()\n",
    "        #draw_confusion(df_cm_RF, 'RF Confusion Matrix Correlation-Coefficient', \"RF_thr_{}\".format(thr))\n",
    "        results_dict['RF_{}_{}_{}'.format(dataset_name, str(thr).replace(\".\",\"-\"), tipo)] = report_RF\n",
    "        report_RF['dataset'] = dataset_name.split(\"/\")[2]\n",
    "        report_RF['comparison_thr'] = comparison_thr\n",
    "        report_RF['model'] = 'RF'\n",
    "        report_RF['thr'] = thr\n",
    "        report_RF['tipo'] = tipo\n",
    "        report_RF['accuracy_value'] = accuracy_value_RF\n",
    "        report_RF['TP'] = df_cm_RF[0][0]\n",
    "        report_RF['FP'] = df_cm_RF[0][1]\n",
    "        report_RF['FN'] = df_cm_RF[1][0]\n",
    "        report_RF['TN'] = df_cm_RF[1][1]\n",
    "\n",
    "        accuracy_value_DT, report_DT, df_cm_DT = DT_prediction()\n",
    "        #draw_confusion(df_cm_DT, 'DT Confusion Matrix Correlation-Coefficient', \"DT_thr_{}\".format(thr))\n",
    "        results_dict['DT_{}_{}_{}'.format(dataset_name, str(thr).replace(\".\",\"-\"), tipo)] = report_DT\n",
    "        report_DT['dataset'] = dataset_name.split(\"/\")[2]\n",
    "        report_DT['comparison_thr'] = comparison_thr\n",
    "        report_DT['model'] = 'DT'\n",
    "        report_DT['thr'] = thr\n",
    "        report_DT['tipo'] = tipo\n",
    "        report_DT['accuracy_value'] = accuracy_value_DT\n",
    "        report_DT['TP'] = df_cm_DT[0][0]\n",
    "        report_DT['FP'] = df_cm_DT[0][1]\n",
    "        report_DT['FN'] = df_cm_DT[1][0]\n",
    "        report_DT['TN'] = df_cm_DT[1][1]\n",
    "\n",
    "        accuracy_value_SVC, report_SVC, df_cm_SVC = SVC_prediction()\n",
    "        #draw_confusion(df_cm_SVC, 'SVC Confusion Matrix Correlation-Coefficient', \"SVC_thr_{}\".format(thr))\n",
    "        results_dict['SVC_{}_{}_{}'.format(dataset_name, str(thr).replace(\".\",\"-\"), tipo)] = report_SVC\n",
    "        report_SVC['dataset'] = dataset_name.split(\"/\")[2]\n",
    "        report_SVC['comparison_thr'] = comparison_thr\n",
    "        report_SVC['model'] = 'SVC'\n",
    "        report_SVC['thr'] = thr\n",
    "        report_SVC['tipo'] = tipo\n",
    "        report_SVC['accuracy_value'] = accuracy_value_SVC\n",
    "        report_SVC['TP'] = df_cm_SVC[0][0]\n",
    "        report_SVC['FP'] = df_cm_SVC[0][1]\n",
    "        report_SVC['FN'] = df_cm_SVC[1][0]\n",
    "        report_SVC['TN'] = df_cm_SVC[1][1]\n",
    "\n",
    "        accuracy_value_LR, report_LR, df_cm_LR = LR_prediction()\n",
    "        #draw_confusion(df_cm_LR, 'LR Confusion Matrix Correlation-Coefficient', \"LR_thr_{}\".format(thr))\n",
    "        results_dict['LR_{}_{}_{}'.format(dataset_name, str(thr).replace(\".\",\"-\"), tipo)] = report_LR\n",
    "        report_LR['dataset'] = dataset_name.split(\"/\")[2]\n",
    "        report_LR['comparison_thr'] = comparison_thr\n",
    "        report_LR['model'] = 'LR'\n",
    "        report_LR['thr'] = thr\n",
    "        report_LR['tipo'] = tipo\n",
    "        report_LR['accuracy_value'] = accuracy_value_LR\n",
    "        report_LR['TP'] = df_cm_LR[0][0]\n",
    "        report_LR['FP'] = df_cm_LR[0][1]\n",
    "        report_LR['FN'] = df_cm_LR[1][0]\n",
    "        report_LR['TN'] = df_cm_LR[1][1]\n",
    "\n",
    "        accuracy_value_KNN, report_KNN, df_cm_KNN = KNN_prediction()\n",
    "        #draw_confusion(df_cm_KNN, 'KNN Confusion Matrix Correlation-Coefficient', \"KNN_thr_{}\".format(thr))\n",
    "        results_dict['KNN_{}_{}_{}'.format(dataset_name, str(thr).replace(\".\",\"-\"), tipo)] = report_KNN\n",
    "        report_KNN['dataset'] = dataset_name.split(\"/\")[2]\n",
    "        report_KNN['comparison_thr'] = comparison_thr\n",
    "        report_KNN['model'] = 'KNN'\n",
    "        report_KNN['thr'] = thr\n",
    "        report_KNN['tipo'] = tipo\n",
    "        report_KNN['accuracy_value'] = accuracy_value_KNN\n",
    "        report_KNN['TP'] = df_cm_KNN[0][0]\n",
    "        report_KNN['FP'] = df_cm_KNN[0][1]\n",
    "        report_KNN['FN'] = df_cm_KNN[1][0]\n",
    "        report_KNN['TN'] = df_cm_KNN[1][1]"
   ],
   "metadata": {
    "collapsed": false
   }
  },
  {
   "cell_type": "code",
   "execution_count": 30,
   "outputs": [],
   "source": [
    "dfs = []\n",
    "for val in results_dict:\n",
    "    d = pd.json_normalize(results_dict[val])\n",
    "    dfs.append(d)"
   ],
   "metadata": {
    "collapsed": false
   }
  },
  {
   "cell_type": "code",
   "execution_count": 31,
   "outputs": [
    {
     "data": {
      "text/plain": "   accuracy              dataset comparison_thr model  thr  tipo  \\\n0  0.999004  rfds_0_with_chi.csv              0    RF  0.1     1   \n0  0.996516  rfds_0_with_chi.csv              0    DT  0.1     1   \n0  0.986560  rfds_0_with_chi.csv              0   SVC  0.1     1   \n0  0.932305  rfds_0_with_chi.csv              0    LR  0.1     1   \n0  0.987058  rfds_0_with_chi.csv              0   KNN  0.1     1   \n0  0.999004  rfds_2_with_chi.csv              2    RF  0.1     1   \n0  0.995520  rfds_2_with_chi.csv              2    DT  0.1     1   \n0  0.985565  rfds_2_with_chi.csv              2   SVC  0.1     1   \n0  0.931309  rfds_2_with_chi.csv              2    LR  0.1     1   \n0  0.987058  rfds_2_with_chi.csv              2   KNN  0.1     1   \n0  0.999004  rfds_4_with_chi.csv              4    RF  0.1     1   \n0  0.996516  rfds_4_with_chi.csv              4    DT  0.1     1   \n0  0.986063  rfds_4_with_chi.csv              4   SVC  0.1     1   \n0  0.931807  rfds_4_with_chi.csv              4    LR  0.1     1   \n0  0.987058  rfds_4_with_chi.csv              4   KNN  0.1     1   \n\n   accuracy_value    TP  FP   FN  ...  1.f1-score  1.support  \\\n0        0.999004  1003   2    0  ...    0.999005     1006.0   \n0        0.996516  1003   7    0  ...    0.996509     1006.0   \n0        0.986560   984   8   19  ...    0.986653     1006.0   \n0        0.932305   901  34  102  ...    0.934615     1006.0   \n0        0.987058   984   7   19  ...    0.987154     1006.0   \n0        0.999004  1003   2    0  ...    0.999005     1006.0   \n0        0.995520   997   3    6  ...    0.995533     1006.0   \n0        0.985565   983   9   20  ...    0.985665     1006.0   \n0        0.931309   901  36  102  ...    0.933590     1006.0   \n0        0.987058   984   7   19  ...    0.987154     1006.0   \n0        0.999004  1003   2    0  ...    0.999005     1006.0   \n0        0.996516  1002   6    1  ...    0.996512     1006.0   \n0        0.986063   983   8   20  ...    0.986166     1006.0   \n0        0.931807   901  35  102  ...    0.934103     1006.0   \n0        0.987058   984   7   19  ...    0.987154     1006.0   \n\n   macro avg.precision  macro avg.recall  macro avg.f1-score  \\\n0             0.999005          0.999006            0.999004   \n0             0.996535          0.996521            0.996516   \n0             0.986627          0.986552            0.986560   \n0             0.934332          0.932254            0.932220   \n0             0.987136          0.987049            0.987058   \n0             0.999005          0.999006            0.999004   \n0             0.995527          0.995518            0.995520   \n0             0.985631          0.985557            0.985564   \n0             0.933215          0.931260            0.931228   \n0             0.987136          0.987049            0.987058   \n0             0.999005          0.999006            0.999004   \n0             0.996524          0.996519            0.996516   \n0             0.986140          0.986054            0.986062   \n0             0.933773          0.931757            0.931724   \n0             0.987136          0.987049            0.987058   \n\n   macro avg.support  weighted avg.precision  weighted avg.recall  \\\n0             2009.0                0.999006             0.999004   \n0             2009.0                0.996540             0.996516   \n0             2009.0                0.986619             0.986560   \n0             2009.0                0.934288             0.932305   \n0             2009.0                0.987128             0.987058   \n0             2009.0                0.999006             0.999004   \n0             2009.0                0.995525             0.995520   \n0             2009.0                0.985623             0.985565   \n0             2009.0                0.933173             0.931309   \n0             2009.0                0.987128             0.987058   \n0             2009.0                0.999006             0.999004   \n0             2009.0                0.996528             0.996516   \n0             2009.0                0.986132             0.986063   \n0             2009.0                0.933730             0.931807   \n0             2009.0                0.987128             0.987058   \n\n   weighted avg.f1-score  weighted avg.support  \n0               0.999004                2009.0  \n0               0.996516                2009.0  \n0               0.986560                2009.0  \n0               0.932224                2009.0  \n0               0.987058                2009.0  \n0               0.999004                2009.0  \n0               0.995520                2009.0  \n0               0.985564                2009.0  \n0               0.931232                2009.0  \n0               0.987058                2009.0  \n0               0.999004                2009.0  \n0               0.996516                2009.0  \n0               0.986062                2009.0  \n0               0.931728                2009.0  \n0               0.987058                2009.0  \n\n[15 rows x 27 columns]",
      "text/html": "<div>\n<style scoped>\n    .dataframe tbody tr th:only-of-type {\n        vertical-align: middle;\n    }\n\n    .dataframe tbody tr th {\n        vertical-align: top;\n    }\n\n    .dataframe thead th {\n        text-align: right;\n    }\n</style>\n<table border=\"1\" class=\"dataframe\">\n  <thead>\n    <tr style=\"text-align: right;\">\n      <th></th>\n      <th>accuracy</th>\n      <th>dataset</th>\n      <th>comparison_thr</th>\n      <th>model</th>\n      <th>thr</th>\n      <th>tipo</th>\n      <th>accuracy_value</th>\n      <th>TP</th>\n      <th>FP</th>\n      <th>FN</th>\n      <th>...</th>\n      <th>1.f1-score</th>\n      <th>1.support</th>\n      <th>macro avg.precision</th>\n      <th>macro avg.recall</th>\n      <th>macro avg.f1-score</th>\n      <th>macro avg.support</th>\n      <th>weighted avg.precision</th>\n      <th>weighted avg.recall</th>\n      <th>weighted avg.f1-score</th>\n      <th>weighted avg.support</th>\n    </tr>\n  </thead>\n  <tbody>\n    <tr>\n      <th>0</th>\n      <td>0.999004</td>\n      <td>rfds_0_with_chi.csv</td>\n      <td>0</td>\n      <td>RF</td>\n      <td>0.1</td>\n      <td>1</td>\n      <td>0.999004</td>\n      <td>1003</td>\n      <td>2</td>\n      <td>0</td>\n      <td>...</td>\n      <td>0.999005</td>\n      <td>1006.0</td>\n      <td>0.999005</td>\n      <td>0.999006</td>\n      <td>0.999004</td>\n      <td>2009.0</td>\n      <td>0.999006</td>\n      <td>0.999004</td>\n      <td>0.999004</td>\n      <td>2009.0</td>\n    </tr>\n    <tr>\n      <th>0</th>\n      <td>0.996516</td>\n      <td>rfds_0_with_chi.csv</td>\n      <td>0</td>\n      <td>DT</td>\n      <td>0.1</td>\n      <td>1</td>\n      <td>0.996516</td>\n      <td>1003</td>\n      <td>7</td>\n      <td>0</td>\n      <td>...</td>\n      <td>0.996509</td>\n      <td>1006.0</td>\n      <td>0.996535</td>\n      <td>0.996521</td>\n      <td>0.996516</td>\n      <td>2009.0</td>\n      <td>0.996540</td>\n      <td>0.996516</td>\n      <td>0.996516</td>\n      <td>2009.0</td>\n    </tr>\n    <tr>\n      <th>0</th>\n      <td>0.986560</td>\n      <td>rfds_0_with_chi.csv</td>\n      <td>0</td>\n      <td>SVC</td>\n      <td>0.1</td>\n      <td>1</td>\n      <td>0.986560</td>\n      <td>984</td>\n      <td>8</td>\n      <td>19</td>\n      <td>...</td>\n      <td>0.986653</td>\n      <td>1006.0</td>\n      <td>0.986627</td>\n      <td>0.986552</td>\n      <td>0.986560</td>\n      <td>2009.0</td>\n      <td>0.986619</td>\n      <td>0.986560</td>\n      <td>0.986560</td>\n      <td>2009.0</td>\n    </tr>\n    <tr>\n      <th>0</th>\n      <td>0.932305</td>\n      <td>rfds_0_with_chi.csv</td>\n      <td>0</td>\n      <td>LR</td>\n      <td>0.1</td>\n      <td>1</td>\n      <td>0.932305</td>\n      <td>901</td>\n      <td>34</td>\n      <td>102</td>\n      <td>...</td>\n      <td>0.934615</td>\n      <td>1006.0</td>\n      <td>0.934332</td>\n      <td>0.932254</td>\n      <td>0.932220</td>\n      <td>2009.0</td>\n      <td>0.934288</td>\n      <td>0.932305</td>\n      <td>0.932224</td>\n      <td>2009.0</td>\n    </tr>\n    <tr>\n      <th>0</th>\n      <td>0.987058</td>\n      <td>rfds_0_with_chi.csv</td>\n      <td>0</td>\n      <td>KNN</td>\n      <td>0.1</td>\n      <td>1</td>\n      <td>0.987058</td>\n      <td>984</td>\n      <td>7</td>\n      <td>19</td>\n      <td>...</td>\n      <td>0.987154</td>\n      <td>1006.0</td>\n      <td>0.987136</td>\n      <td>0.987049</td>\n      <td>0.987058</td>\n      <td>2009.0</td>\n      <td>0.987128</td>\n      <td>0.987058</td>\n      <td>0.987058</td>\n      <td>2009.0</td>\n    </tr>\n    <tr>\n      <th>0</th>\n      <td>0.999004</td>\n      <td>rfds_2_with_chi.csv</td>\n      <td>2</td>\n      <td>RF</td>\n      <td>0.1</td>\n      <td>1</td>\n      <td>0.999004</td>\n      <td>1003</td>\n      <td>2</td>\n      <td>0</td>\n      <td>...</td>\n      <td>0.999005</td>\n      <td>1006.0</td>\n      <td>0.999005</td>\n      <td>0.999006</td>\n      <td>0.999004</td>\n      <td>2009.0</td>\n      <td>0.999006</td>\n      <td>0.999004</td>\n      <td>0.999004</td>\n      <td>2009.0</td>\n    </tr>\n    <tr>\n      <th>0</th>\n      <td>0.995520</td>\n      <td>rfds_2_with_chi.csv</td>\n      <td>2</td>\n      <td>DT</td>\n      <td>0.1</td>\n      <td>1</td>\n      <td>0.995520</td>\n      <td>997</td>\n      <td>3</td>\n      <td>6</td>\n      <td>...</td>\n      <td>0.995533</td>\n      <td>1006.0</td>\n      <td>0.995527</td>\n      <td>0.995518</td>\n      <td>0.995520</td>\n      <td>2009.0</td>\n      <td>0.995525</td>\n      <td>0.995520</td>\n      <td>0.995520</td>\n      <td>2009.0</td>\n    </tr>\n    <tr>\n      <th>0</th>\n      <td>0.985565</td>\n      <td>rfds_2_with_chi.csv</td>\n      <td>2</td>\n      <td>SVC</td>\n      <td>0.1</td>\n      <td>1</td>\n      <td>0.985565</td>\n      <td>983</td>\n      <td>9</td>\n      <td>20</td>\n      <td>...</td>\n      <td>0.985665</td>\n      <td>1006.0</td>\n      <td>0.985631</td>\n      <td>0.985557</td>\n      <td>0.985564</td>\n      <td>2009.0</td>\n      <td>0.985623</td>\n      <td>0.985565</td>\n      <td>0.985564</td>\n      <td>2009.0</td>\n    </tr>\n    <tr>\n      <th>0</th>\n      <td>0.931309</td>\n      <td>rfds_2_with_chi.csv</td>\n      <td>2</td>\n      <td>LR</td>\n      <td>0.1</td>\n      <td>1</td>\n      <td>0.931309</td>\n      <td>901</td>\n      <td>36</td>\n      <td>102</td>\n      <td>...</td>\n      <td>0.933590</td>\n      <td>1006.0</td>\n      <td>0.933215</td>\n      <td>0.931260</td>\n      <td>0.931228</td>\n      <td>2009.0</td>\n      <td>0.933173</td>\n      <td>0.931309</td>\n      <td>0.931232</td>\n      <td>2009.0</td>\n    </tr>\n    <tr>\n      <th>0</th>\n      <td>0.987058</td>\n      <td>rfds_2_with_chi.csv</td>\n      <td>2</td>\n      <td>KNN</td>\n      <td>0.1</td>\n      <td>1</td>\n      <td>0.987058</td>\n      <td>984</td>\n      <td>7</td>\n      <td>19</td>\n      <td>...</td>\n      <td>0.987154</td>\n      <td>1006.0</td>\n      <td>0.987136</td>\n      <td>0.987049</td>\n      <td>0.987058</td>\n      <td>2009.0</td>\n      <td>0.987128</td>\n      <td>0.987058</td>\n      <td>0.987058</td>\n      <td>2009.0</td>\n    </tr>\n    <tr>\n      <th>0</th>\n      <td>0.999004</td>\n      <td>rfds_4_with_chi.csv</td>\n      <td>4</td>\n      <td>RF</td>\n      <td>0.1</td>\n      <td>1</td>\n      <td>0.999004</td>\n      <td>1003</td>\n      <td>2</td>\n      <td>0</td>\n      <td>...</td>\n      <td>0.999005</td>\n      <td>1006.0</td>\n      <td>0.999005</td>\n      <td>0.999006</td>\n      <td>0.999004</td>\n      <td>2009.0</td>\n      <td>0.999006</td>\n      <td>0.999004</td>\n      <td>0.999004</td>\n      <td>2009.0</td>\n    </tr>\n    <tr>\n      <th>0</th>\n      <td>0.996516</td>\n      <td>rfds_4_with_chi.csv</td>\n      <td>4</td>\n      <td>DT</td>\n      <td>0.1</td>\n      <td>1</td>\n      <td>0.996516</td>\n      <td>1002</td>\n      <td>6</td>\n      <td>1</td>\n      <td>...</td>\n      <td>0.996512</td>\n      <td>1006.0</td>\n      <td>0.996524</td>\n      <td>0.996519</td>\n      <td>0.996516</td>\n      <td>2009.0</td>\n      <td>0.996528</td>\n      <td>0.996516</td>\n      <td>0.996516</td>\n      <td>2009.0</td>\n    </tr>\n    <tr>\n      <th>0</th>\n      <td>0.986063</td>\n      <td>rfds_4_with_chi.csv</td>\n      <td>4</td>\n      <td>SVC</td>\n      <td>0.1</td>\n      <td>1</td>\n      <td>0.986063</td>\n      <td>983</td>\n      <td>8</td>\n      <td>20</td>\n      <td>...</td>\n      <td>0.986166</td>\n      <td>1006.0</td>\n      <td>0.986140</td>\n      <td>0.986054</td>\n      <td>0.986062</td>\n      <td>2009.0</td>\n      <td>0.986132</td>\n      <td>0.986063</td>\n      <td>0.986062</td>\n      <td>2009.0</td>\n    </tr>\n    <tr>\n      <th>0</th>\n      <td>0.931807</td>\n      <td>rfds_4_with_chi.csv</td>\n      <td>4</td>\n      <td>LR</td>\n      <td>0.1</td>\n      <td>1</td>\n      <td>0.931807</td>\n      <td>901</td>\n      <td>35</td>\n      <td>102</td>\n      <td>...</td>\n      <td>0.934103</td>\n      <td>1006.0</td>\n      <td>0.933773</td>\n      <td>0.931757</td>\n      <td>0.931724</td>\n      <td>2009.0</td>\n      <td>0.933730</td>\n      <td>0.931807</td>\n      <td>0.931728</td>\n      <td>2009.0</td>\n    </tr>\n    <tr>\n      <th>0</th>\n      <td>0.987058</td>\n      <td>rfds_4_with_chi.csv</td>\n      <td>4</td>\n      <td>KNN</td>\n      <td>0.1</td>\n      <td>1</td>\n      <td>0.987058</td>\n      <td>984</td>\n      <td>7</td>\n      <td>19</td>\n      <td>...</td>\n      <td>0.987154</td>\n      <td>1006.0</td>\n      <td>0.987136</td>\n      <td>0.987049</td>\n      <td>0.987058</td>\n      <td>2009.0</td>\n      <td>0.987128</td>\n      <td>0.987058</td>\n      <td>0.987058</td>\n      <td>2009.0</td>\n    </tr>\n  </tbody>\n</table>\n<p>15 rows × 27 columns</p>\n</div>"
     },
     "execution_count": 31,
     "metadata": {},
     "output_type": "execute_result"
    }
   ],
   "source": [
    "dftmp = pd.concat(dfs)\n",
    "dftmp"
   ],
   "metadata": {
    "collapsed": false
   }
  },
  {
   "cell_type": "code",
   "execution_count": null,
   "outputs": [],
   "source": [
    "dftmp.to_csv(\"Results_Fake_Account_Models_RFD+16.csv\",index=None,sep=\";\")"
   ],
   "metadata": {
    "collapsed": false
   }
  },
  {
   "cell_type": "markdown",
   "source": [
    "### 3.2 Dataset solo RFDs"
   ],
   "metadata": {
    "collapsed": false
   }
  },
  {
   "cell_type": "code",
   "execution_count": 24,
   "outputs": [
    {
     "name": "stdout",
     "output_type": "stream",
     "text": [
      "Dataset rfds_0_with_chi.csv letto!\n",
      "Selection of the last 16 columns!\n",
      "Sorting and selecting first column!\n",
      "number_of_columns_to_select: 2\n",
      "Numero colonne:  3\n",
      "Accuracy for RF on Test data:  0.5888501742160279\n",
      "{'0': {'precision': 1.0, 'recall': 0.17647058823529413, 'f1-score': 0.3, 'support': 1003.0}, '1': {'precision': 0.5491266375545851, 'recall': 1.0, 'f1-score': 0.7089499647639183, 'support': 1006.0}, 'accuracy': 0.5888501742160279, 'macro avg': {'precision': 0.7745633187772926, 'recall': 0.5882352941176471, 'f1-score': 0.5044749823819591, 'support': 2009.0}, 'weighted avg': {'precision': 0.7742266786360938, 'recall': 0.5888501742160279, 'f1-score': 0.5047803208325046, 'support': 2009.0}}\n",
      "[[ 177  826]\n",
      " [   0 1006]]\n",
      "Accuracy for Decision Tree on Test data:  0.5888501742160279\n",
      "{'0': {'precision': 1.0, 'recall': 0.17647058823529413, 'f1-score': 0.3, 'support': 1003.0}, '1': {'precision': 0.5491266375545851, 'recall': 1.0, 'f1-score': 0.7089499647639183, 'support': 1006.0}, 'accuracy': 0.5888501742160279, 'macro avg': {'precision': 0.7745633187772926, 'recall': 0.5882352941176471, 'f1-score': 0.5044749823819591, 'support': 2009.0}, 'weighted avg': {'precision': 0.7742266786360938, 'recall': 0.5888501742160279, 'f1-score': 0.5047803208325046, 'support': 2009.0}}\n",
      "[[ 177  826]\n",
      " [   0 1006]]\n"
     ]
    },
    {
     "name": "stderr",
     "output_type": "stream",
     "text": [
      "C:\\Users\\rafau\\AppData\\Local\\Temp\\ipykernel_33900\\2950289215.py:24: FutureWarning: Series.__getitem__ treating keys as positions is deprecated. In a future version, integer keys will always be treated as labels (consistent with DataFrame behavior). To access a value by position, use `ser.iloc[pos]`\n",
      "  if first_selected_columns.loc[9019][i] > threshold:\n"
     ]
    },
    {
     "name": "stdout",
     "output_type": "stream",
     "text": [
      "Accuracy for SVC on Test data:  0.5863613738178198\n",
      "{'0': {'precision': 1.0, 'recall': 0.17148554336989033, 'f1-score': 0.2927659574468085, 'support': 1003.0}, '1': {'precision': 0.5476320087098531, 'recall': 1.0, 'f1-score': 0.707703130495955, 'support': 1006.0}, 'accuracy': 0.5863613738178198, 'macro avg': {'precision': 0.7738160043549265, 'recall': 0.5857427716849452, 'f1-score': 0.5002345439713818, 'support': 2009.0}, 'weighted avg': {'precision': 0.7734782482638687, 'recall': 0.5863613738178198, 'f1-score': 0.5005443527118366, 'support': 2009.0}}\n",
      "[[ 172  831]\n",
      " [   0 1006]]\n",
      "Accuracy for Logistic Regression on Test data:  0.5500248880039821\n",
      "{'0': {'precision': 1.0, 'recall': 0.09870388833499502, 'f1-score': 0.17967332123411978, 'support': 1003.0}, '1': {'precision': 0.5267015706806283, 'recall': 1.0, 'f1-score': 0.6899862825788752, 'support': 1006.0}, 'accuracy': 0.5500248880039821, 'macro avg': {'precision': 0.7633507853403141, 'recall': 0.5493519441674976, 'f1-score': 0.43482980190649745, 'support': 2009.0}, 'weighted avg': {'precision': 0.7629974017445058, 'recall': 0.5500248880039821, 'f1-score': 0.4352108220369192, 'support': 2009.0}}\n",
      "[[  99  904]\n",
      " [   0 1006]]\n",
      "Accuracy for KNN on Test data:  0.4992533598805376\n",
      "{'0': {'precision': 0.4992533598805376, 'recall': 1.0, 'f1-score': 0.6660026560424966, 'support': 1003.0}, '1': {'precision': 0.0, 'recall': 0.0, 'f1-score': 0.0, 'support': 1006.0}, 'accuracy': 0.4992533598805376, 'macro avg': {'precision': 0.2496266799402688, 'recall': 0.5, 'f1-score': 0.3330013280212483, 'support': 2009.0}, 'weighted avg': {'precision': 0.24925391735200558, 'recall': 0.4992533598805376, 'f1-score': 0.3325040637185785, 'support': 2009.0}}\n",
      "[[1003    0]\n",
      " [1006    0]]\n"
     ]
    },
    {
     "name": "stderr",
     "output_type": "stream",
     "text": [
      "C:\\Users\\rafau\\Documents\\PythonProjects\\FakeAccountDetection\\venv\\lib\\site-packages\\sklearn\\linear_model\\_logistic.py:1197: UserWarning: l1_ratio parameter is only used when penalty is 'elasticnet'. Got (penalty=None)\n",
      "  warnings.warn(\n",
      "C:\\Users\\rafau\\Documents\\PythonProjects\\FakeAccountDetection\\venv\\lib\\site-packages\\sklearn\\metrics\\_classification.py:1531: UndefinedMetricWarning: Precision is ill-defined and being set to 0.0 in labels with no predicted samples. Use `zero_division` parameter to control this behavior.\n",
      "  _warn_prf(average, modifier, f\"{metric.capitalize()} is\", len(result))\n",
      "C:\\Users\\rafau\\Documents\\PythonProjects\\FakeAccountDetection\\venv\\lib\\site-packages\\sklearn\\metrics\\_classification.py:1531: UndefinedMetricWarning: Precision is ill-defined and being set to 0.0 in labels with no predicted samples. Use `zero_division` parameter to control this behavior.\n",
      "  _warn_prf(average, modifier, f\"{metric.capitalize()} is\", len(result))\n",
      "C:\\Users\\rafau\\Documents\\PythonProjects\\FakeAccountDetection\\venv\\lib\\site-packages\\sklearn\\metrics\\_classification.py:1531: UndefinedMetricWarning: Precision is ill-defined and being set to 0.0 in labels with no predicted samples. Use `zero_division` parameter to control this behavior.\n",
      "  _warn_prf(average, modifier, f\"{metric.capitalize()} is\", len(result))\n"
     ]
    },
    {
     "name": "stdout",
     "output_type": "stream",
     "text": [
      "Dataset rfds_2_with_chi.csv letto!\n",
      "Selection of the last 16 columns!\n",
      "Sorting and selecting first column!\n",
      "number_of_columns_to_select: 13\n",
      "Numero colonne:  14\n",
      "Accuracy for RF on Test data:  0.8511697361871577\n",
      "{'0': {'precision': 0.9083526682134571, 'recall': 0.7806580259222333, 'f1-score': 0.8396782841823056, 'support': 1003.0}, '1': {'precision': 0.8081952920662598, 'recall': 0.9214711729622267, 'f1-score': 0.8611240130051091, 'support': 1006.0}, 'accuracy': 0.8511697361871577, 'macro avg': {'precision': 0.8582739801398585, 'recall': 0.85106459944223, 'f1-score': 0.8504011485937073, 'support': 2009.0}, 'weighted avg': {'precision': 0.8581991986245668, 'recall': 0.8511697361871577, 'f1-score': 0.8504171608352376, 'support': 2009.0}}\n",
      "[[783 220]\n",
      " [ 79 927]]\n",
      "Accuracy for Decision Tree on Test data:  0.8506719761075162\n",
      "{'0': {'precision': 0.9073001158748552, 'recall': 0.7806580259222333, 'f1-score': 0.8392282958199357, 'support': 1003.0}, '1': {'precision': 0.8080279232111692, 'recall': 0.9204771371769384, 'f1-score': 0.8605947955390335, 'support': 1006.0}, 'accuracy': 0.8506719761075162, 'macro avg': {'precision': 0.8576640195430122, 'recall': 0.8505675815495859, 'f1-score': 0.8499115456794846, 'support': 2009.0}, 'weighted avg': {'precision': 0.8575898989412225, 'recall': 0.8506719761075162, 'f1-score': 0.8499274987653874, 'support': 2009.0}}\n",
      "[[783 220]\n",
      " [ 80 926]]\n"
     ]
    },
    {
     "name": "stderr",
     "output_type": "stream",
     "text": [
      "C:\\Users\\rafau\\AppData\\Local\\Temp\\ipykernel_33900\\2950289215.py:24: FutureWarning: Series.__getitem__ treating keys as positions is deprecated. In a future version, integer keys will always be treated as labels (consistent with DataFrame behavior). To access a value by position, use `ser.iloc[pos]`\n",
      "  if first_selected_columns.loc[9019][i] > threshold:\n"
     ]
    },
    {
     "name": "stdout",
     "output_type": "stream",
     "text": [
      "Accuracy for SVC on Test data:  0.6510701841712294\n",
      "{'0': {'precision': 1.0, 'recall': 0.30109670987038883, 'f1-score': 0.46283524904214557, 'support': 1003.0}, '1': {'precision': 0.5893380199179847, 'recall': 1.0, 'f1-score': 0.7416144489495023, 'support': 1006.0}, 'accuracy': 0.6510701841712294, 'macro avg': {'precision': 0.7946690099589924, 'recall': 0.6505483549351945, 'f1-score': 0.602224848995824, 'support': 2009.0}, 'weighted avg': {'precision': 0.7943623932491253, 'recall': 0.6510701841712294, 'f1-score': 0.6024329967309464, 'support': 2009.0}}\n",
      "[[ 302  701]\n",
      " [   0 1006]]\n",
      "Accuracy for Logistic Regression on Test data:  0.42857142857142855\n",
      "{'0': {'precision': 0.45624622812311405, 'recall': 0.7537387836490529, 'f1-score': 0.5684210526315789, 'support': 1003.0}, '1': {'precision': 0.29829545454545453, 'recall': 0.10437375745526839, 'f1-score': 0.15463917525773196, 'support': 1006.0}, 'accuracy': 0.42857142857142855, 'macro avg': {'precision': 0.3772708413342843, 'recall': 0.42905627055216067, 'f1-score': 0.36153011394465545, 'support': 2009.0}, 'weighted avg': {'precision': 0.37715290894983106, 'recall': 0.42857142857142855, 'f1-score': 0.36122116779430163, 'support': 2009.0}}\n",
      "[[756 247]\n",
      " [901 105]]\n"
     ]
    },
    {
     "name": "stderr",
     "output_type": "stream",
     "text": [
      "C:\\Users\\rafau\\Documents\\PythonProjects\\FakeAccountDetection\\venv\\lib\\site-packages\\sklearn\\linear_model\\_logistic.py:1197: UserWarning: l1_ratio parameter is only used when penalty is 'elasticnet'. Got (penalty=None)\n",
      "  warnings.warn(\n"
     ]
    },
    {
     "name": "stdout",
     "output_type": "stream",
     "text": [
      "Accuracy for KNN on Test data:  0.6660029865604778\n",
      "{'0': {'precision': 0.6038798498122653, 'recall': 0.9621136590229312, 'f1-score': 0.7420222991157247, 'support': 1003.0}, '1': {'precision': 0.9075425790754258, 'recall': 0.37077534791252487, 'f1-score': 0.5264643613267467, 'support': 1006.0}, 'accuracy': 0.6660029865604778, 'macro avg': {'precision': 0.7557112144438456, 'recall': 0.666444503467728, 'f1-score': 0.6342433302212357, 'support': 2009.0}, 'weighted avg': {'precision': 0.7559379412202989, 'recall': 0.6660029865604778, 'f1-score': 0.6340823860168139, 'support': 2009.0}}\n",
      "[[965  38]\n",
      " [633 373]]\n",
      "Dataset rfds_4_with_chi.csv letto!\n",
      "Selection of the last 16 columns!\n",
      "Sorting and selecting first column!\n",
      "number_of_columns_to_select: 11\n",
      "Numero colonne:  12\n",
      "Accuracy for RF on Test data:  0.8476854156296665\n",
      "{'0': {'precision': 0.8902575587905935, 'recall': 0.7926221335992024, 'f1-score': 0.8386075949367089, 'support': 1003.0}, '1': {'precision': 0.8136200716845878, 'recall': 0.9025844930417495, 'f1-score': 0.8557964184731386, 'support': 1006.0}, 'accuracy': 0.8476854156296665, 'macro avg': {'precision': 0.8519388152375906, 'recall': 0.8476033133204759, 'f1-score': 0.8472020067049237, 'support': 2009.0}, 'weighted avg': {'precision': 0.8518815946150625, 'recall': 0.8476854156296665, 'f1-score': 0.8472148405701825, 'support': 2009.0}}\n",
      "[[795 208]\n",
      " [ 98 908]]\n",
      "Accuracy for Decision Tree on Test data:  0.8476854156296665\n",
      "{'0': {'precision': 0.8902575587905935, 'recall': 0.7926221335992024, 'f1-score': 0.8386075949367089, 'support': 1003.0}, '1': {'precision': 0.8136200716845878, 'recall': 0.9025844930417495, 'f1-score': 0.8557964184731386, 'support': 1006.0}, 'accuracy': 0.8476854156296665, 'macro avg': {'precision': 0.8519388152375906, 'recall': 0.8476033133204759, 'f1-score': 0.8472020067049237, 'support': 2009.0}, 'weighted avg': {'precision': 0.8518815946150625, 'recall': 0.8476854156296665, 'f1-score': 0.8472148405701825, 'support': 2009.0}}\n",
      "[[795 208]\n",
      " [ 98 908]]\n"
     ]
    },
    {
     "name": "stderr",
     "output_type": "stream",
     "text": [
      "C:\\Users\\rafau\\AppData\\Local\\Temp\\ipykernel_33900\\2950289215.py:24: FutureWarning: Series.__getitem__ treating keys as positions is deprecated. In a future version, integer keys will always be treated as labels (consistent with DataFrame behavior). To access a value by position, use `ser.iloc[pos]`\n",
      "  if first_selected_columns.loc[9019][i] > threshold:\n"
     ]
    },
    {
     "name": "stdout",
     "output_type": "stream",
     "text": [
      "Accuracy for SVC on Test data:  0.5744151319064211\n",
      "{'0': {'precision': 1.0, 'recall': 0.14755732801595214, 'f1-score': 0.2571676802780191, 'support': 1003.0}, '1': {'precision': 0.5405695862439549, 'recall': 1.0, 'f1-score': 0.7017788629229159, 'support': 1006.0}, 'accuracy': 0.5744151319064211, 'macro avg': {'precision': 0.7702847931219774, 'recall': 0.5737786640079761, 'f1-score': 0.4794732716004675, 'support': 2009.0}, 'weighted avg': {'precision': 0.769941763942966, 'recall': 0.5744151319064211, 'f1-score': 0.47980523614699183, 'support': 2009.0}}\n",
      "[[ 148  855]\n",
      " [   0 1006]]\n",
      "Accuracy for Logistic Regression on Test data:  0.5131906421105027\n",
      "{'0': {'precision': 1.0, 'recall': 0.024925224327018942, 'f1-score': 0.048638132295719845, 'support': 1003.0}, '1': {'precision': 0.5070564516129032, 'recall': 1.0, 'f1-score': 0.6729096989966555, 'support': 1006.0}, 'accuracy': 0.5131906421105027, 'macro avg': {'precision': 0.7535282258064516, 'recall': 0.5124626121635095, 'f1-score': 0.3607739156461877, 'support': 2009.0}, 'weighted avg': {'precision': 0.7531601743765957, 'recall': 0.5131906421105027, 'f1-score': 0.3612400218433263, 'support': 2009.0}}\n",
      "[[  25  978]\n",
      " [   0 1006]]\n",
      "Accuracy for KNN on Test data:  0.4992533598805376\n",
      "{'0': {'precision': 0.4992533598805376, 'recall': 1.0, 'f1-score': 0.6660026560424966, 'support': 1003.0}, '1': {'precision': 0.0, 'recall': 0.0, 'f1-score': 0.0, 'support': 1006.0}, 'accuracy': 0.4992533598805376, 'macro avg': {'precision': 0.2496266799402688, 'recall': 0.5, 'f1-score': 0.3330013280212483, 'support': 2009.0}, 'weighted avg': {'precision': 0.24925391735200558, 'recall': 0.4992533598805376, 'f1-score': 0.3325040637185785, 'support': 2009.0}}\n",
      "[[1003    0]\n",
      " [1006    0]]\n"
     ]
    },
    {
     "name": "stderr",
     "output_type": "stream",
     "text": [
      "C:\\Users\\rafau\\Documents\\PythonProjects\\FakeAccountDetection\\venv\\lib\\site-packages\\sklearn\\linear_model\\_logistic.py:1197: UserWarning: l1_ratio parameter is only used when penalty is 'elasticnet'. Got (penalty=None)\n",
      "  warnings.warn(\n",
      "C:\\Users\\rafau\\Documents\\PythonProjects\\FakeAccountDetection\\venv\\lib\\site-packages\\sklearn\\metrics\\_classification.py:1531: UndefinedMetricWarning: Precision is ill-defined and being set to 0.0 in labels with no predicted samples. Use `zero_division` parameter to control this behavior.\n",
      "  _warn_prf(average, modifier, f\"{metric.capitalize()} is\", len(result))\n",
      "C:\\Users\\rafau\\Documents\\PythonProjects\\FakeAccountDetection\\venv\\lib\\site-packages\\sklearn\\metrics\\_classification.py:1531: UndefinedMetricWarning: Precision is ill-defined and being set to 0.0 in labels with no predicted samples. Use `zero_division` parameter to control this behavior.\n",
      "  _warn_prf(average, modifier, f\"{metric.capitalize()} is\", len(result))\n",
      "C:\\Users\\rafau\\Documents\\PythonProjects\\FakeAccountDetection\\venv\\lib\\site-packages\\sklearn\\metrics\\_classification.py:1531: UndefinedMetricWarning: Precision is ill-defined and being set to 0.0 in labels with no predicted samples. Use `zero_division` parameter to control this behavior.\n",
      "  _warn_prf(average, modifier, f\"{metric.capitalize()} is\", len(result))\n"
     ]
    }
   ],
   "source": [
    "full_datasets = [\"../datasets/rfds_0_with_chi.csv\",\n",
    "                 \"../datasets/rfds_2_with_chi.csv\", \"../datasets/rfds_4_with_chi.csv\"]\n",
    "\n",
    "dataframes_results = []\n",
    "results_dict = {}\n",
    "\n",
    "for dataset_name in full_datasets:\n",
    "    tipo = 2\n",
    "    comparison_thr = dataset_name.split(\"_\")[1]\n",
    "    for thr in [0.1]:\n",
    "        x_train, x_test, y_train, y_test = initialize_data(dataset_name, tipo, thr)\n",
    "\n",
    "        accuracy_value_RF, report_RF, df_cm_RF = RF_prediction()\n",
    "        #draw_confusion(df_cm_RF, 'RF Confusion Matrix Correlation-Coefficient', \"RF_thr_{}\".format(thr))\n",
    "        results_dict['RF_{}_{}_{}'.format(dataset_name, str(thr).replace(\".\",\"-\"), tipo)] = report_RF\n",
    "        report_RF['dataset'] = dataset_name.split(\"/\")[2]\n",
    "        report_RF['comparison_thr'] = comparison_thr\n",
    "        report_RF['model'] = 'RF'\n",
    "        report_RF['thr'] = thr\n",
    "        report_RF['tipo'] = tipo\n",
    "        report_RF['accuracy_value'] = accuracy_value_RF\n",
    "        report_RF['TP'] = df_cm_RF[0][0]\n",
    "        report_RF['FP'] = df_cm_RF[0][1]\n",
    "        report_RF['FN'] = df_cm_RF[1][0]\n",
    "        report_RF['TN'] = df_cm_RF[1][1]\n",
    "\n",
    "        accuracy_value_DT, report_DT, df_cm_DT = DT_prediction()\n",
    "        #draw_confusion(df_cm_DT, 'DT Confusion Matrix Correlation-Coefficient', \"DT_thr_{}\".format(thr))\n",
    "        results_dict['DT_{}_{}_{}'.format(dataset_name, str(thr).replace(\".\",\"-\"), tipo)] = report_DT\n",
    "        report_DT['dataset'] = dataset_name.split(\"/\")[2]\n",
    "        report_DT['comparison_thr'] = comparison_thr\n",
    "        report_DT['model'] = 'DT'\n",
    "        report_DT['thr'] = thr\n",
    "        report_DT['tipo'] = tipo\n",
    "        report_DT['accuracy_value'] = accuracy_value_DT\n",
    "        report_DT['TP'] = df_cm_DT[0][0]\n",
    "        report_DT['FP'] = df_cm_DT[0][1]\n",
    "        report_DT['FN'] = df_cm_DT[1][0]\n",
    "        report_DT['TN'] = df_cm_DT[1][1]\n",
    "\n",
    "        accuracy_value_SVC, report_SVC, df_cm_SVC = SVC_prediction()\n",
    "        #draw_confusion(df_cm_SVC, 'SVC Confusion Matrix Correlation-Coefficient', \"SVC_thr_{}\".format(thr))\n",
    "        results_dict['SVC_{}_{}_{}'.format(dataset_name, str(thr).replace(\".\",\"-\"), tipo)] = report_SVC\n",
    "        report_SVC['dataset'] = dataset_name.split(\"/\")[2]\n",
    "        report_SVC['comparison_thr'] = comparison_thr\n",
    "        report_SVC['model'] = 'SVC'\n",
    "        report_SVC['thr'] = thr\n",
    "        report_SVC['tipo'] = tipo\n",
    "        report_SVC['accuracy_value'] = accuracy_value_SVC\n",
    "        report_SVC['TP'] = df_cm_SVC[0][0]\n",
    "        report_SVC['FP'] = df_cm_SVC[0][1]\n",
    "        report_SVC['FN'] = df_cm_SVC[1][0]\n",
    "        report_SVC['TN'] = df_cm_SVC[1][1]\n",
    "\n",
    "        accuracy_value_LR, report_LR, df_cm_LR = LR_prediction()\n",
    "        #draw_confusion(df_cm_LR, 'LR Confusion Matrix Correlation-Coefficient', \"LR_thr_{}\".format(thr))\n",
    "        results_dict['LR_{}_{}_{}'.format(dataset_name, str(thr).replace(\".\",\"-\"), tipo)] = report_LR\n",
    "        report_LR['dataset'] = dataset_name.split(\"/\")[2]\n",
    "        report_LR['comparison_thr'] = comparison_thr\n",
    "        report_LR['model'] = 'LR'\n",
    "        report_LR['thr'] = thr\n",
    "        report_LR['tipo'] = tipo\n",
    "        report_LR['accuracy_value'] = accuracy_value_LR\n",
    "        report_LR['TP'] = df_cm_LR[0][0]\n",
    "        report_LR['FP'] = df_cm_LR[0][1]\n",
    "        report_LR['FN'] = df_cm_LR[1][0]\n",
    "        report_LR['TN'] = df_cm_LR[1][1]\n",
    "\n",
    "        accuracy_value_KNN, report_KNN, df_cm_KNN = KNN_prediction()\n",
    "        #draw_confusion(df_cm_KNN, 'KNN Confusion Matrix Correlation-Coefficient', \"KNN_thr_{}\".format(thr))\n",
    "        results_dict['KNN_{}_{}_{}'.format(dataset_name, str(thr).replace(\".\",\"-\"), tipo)] = report_KNN\n",
    "        report_KNN['dataset'] = dataset_name.split(\"/\")[2]\n",
    "        report_KNN['comparison_thr'] = comparison_thr\n",
    "        report_KNN['model'] = 'KNN'\n",
    "        report_KNN['thr'] = thr\n",
    "        report_KNN['tipo'] = tipo\n",
    "        report_KNN['accuracy_value'] = accuracy_value_KNN\n",
    "        report_KNN['TP'] = df_cm_KNN[0][0]\n",
    "        report_KNN['FP'] = df_cm_KNN[0][1]\n",
    "        report_KNN['FN'] = df_cm_KNN[1][0]\n",
    "        report_KNN['TN'] = df_cm_KNN[1][1]"
   ],
   "metadata": {
    "collapsed": false
   }
  },
  {
   "cell_type": "code",
   "execution_count": 25,
   "outputs": [],
   "source": [
    "dfs = []\n",
    "for val in results_dict:\n",
    "    d = pd.json_normalize(results_dict[val])\n",
    "    dfs.append(d)"
   ],
   "metadata": {
    "collapsed": false
   }
  },
  {
   "cell_type": "code",
   "execution_count": 26,
   "outputs": [
    {
     "data": {
      "text/plain": "   accuracy              dataset comparison_thr model  thr  tipo  \\\n0  0.588850  rfds_0_with_chi.csv              0    RF  0.1     2   \n0  0.588850  rfds_0_with_chi.csv              0    DT  0.1     2   \n0  0.586361  rfds_0_with_chi.csv              0   SVC  0.1     2   \n0  0.550025  rfds_0_with_chi.csv              0    LR  0.1     2   \n0  0.499253  rfds_0_with_chi.csv              0   KNN  0.1     2   \n0  0.851170  rfds_2_with_chi.csv              2    RF  0.1     2   \n0  0.850672  rfds_2_with_chi.csv              2    DT  0.1     2   \n0  0.651070  rfds_2_with_chi.csv              2   SVC  0.1     2   \n0  0.428571  rfds_2_with_chi.csv              2    LR  0.1     2   \n0  0.666003  rfds_2_with_chi.csv              2   KNN  0.1     2   \n0  0.847685  rfds_4_with_chi.csv              4    RF  0.1     2   \n0  0.847685  rfds_4_with_chi.csv              4    DT  0.1     2   \n0  0.574415  rfds_4_with_chi.csv              4   SVC  0.1     2   \n0  0.513191  rfds_4_with_chi.csv              4    LR  0.1     2   \n0  0.499253  rfds_4_with_chi.csv              4   KNN  0.1     2   \n\n   accuracy_value    TP    FP   FN  ...  1.f1-score  1.support  \\\n0        0.588850   177     0  826  ...    0.708950     1006.0   \n0        0.588850   177     0  826  ...    0.708950     1006.0   \n0        0.586361   172     0  831  ...    0.707703     1006.0   \n0        0.550025    99     0  904  ...    0.689986     1006.0   \n0        0.499253  1003  1006    0  ...    0.000000     1006.0   \n0        0.851170   783    79  220  ...    0.861124     1006.0   \n0        0.850672   783    80  220  ...    0.860595     1006.0   \n0        0.651070   302     0  701  ...    0.741614     1006.0   \n0        0.428571   756   901  247  ...    0.154639     1006.0   \n0        0.666003   965   633   38  ...    0.526464     1006.0   \n0        0.847685   795    98  208  ...    0.855796     1006.0   \n0        0.847685   795    98  208  ...    0.855796     1006.0   \n0        0.574415   148     0  855  ...    0.701779     1006.0   \n0        0.513191    25     0  978  ...    0.672910     1006.0   \n0        0.499253  1003  1006    0  ...    0.000000     1006.0   \n\n   macro avg.precision  macro avg.recall  macro avg.f1-score  \\\n0             0.774563          0.588235            0.504475   \n0             0.774563          0.588235            0.504475   \n0             0.773816          0.585743            0.500235   \n0             0.763351          0.549352            0.434830   \n0             0.249627          0.500000            0.333001   \n0             0.858274          0.851065            0.850401   \n0             0.857664          0.850568            0.849912   \n0             0.794669          0.650548            0.602225   \n0             0.377271          0.429056            0.361530   \n0             0.755711          0.666445            0.634243   \n0             0.851939          0.847603            0.847202   \n0             0.851939          0.847603            0.847202   \n0             0.770285          0.573779            0.479473   \n0             0.753528          0.512463            0.360774   \n0             0.249627          0.500000            0.333001   \n\n   macro avg.support  weighted avg.precision  weighted avg.recall  \\\n0             2009.0                0.774227             0.588850   \n0             2009.0                0.774227             0.588850   \n0             2009.0                0.773478             0.586361   \n0             2009.0                0.762997             0.550025   \n0             2009.0                0.249254             0.499253   \n0             2009.0                0.858199             0.851170   \n0             2009.0                0.857590             0.850672   \n0             2009.0                0.794362             0.651070   \n0             2009.0                0.377153             0.428571   \n0             2009.0                0.755938             0.666003   \n0             2009.0                0.851882             0.847685   \n0             2009.0                0.851882             0.847685   \n0             2009.0                0.769942             0.574415   \n0             2009.0                0.753160             0.513191   \n0             2009.0                0.249254             0.499253   \n\n   weighted avg.f1-score  weighted avg.support  \n0               0.504780                2009.0  \n0               0.504780                2009.0  \n0               0.500544                2009.0  \n0               0.435211                2009.0  \n0               0.332504                2009.0  \n0               0.850417                2009.0  \n0               0.849927                2009.0  \n0               0.602433                2009.0  \n0               0.361221                2009.0  \n0               0.634082                2009.0  \n0               0.847215                2009.0  \n0               0.847215                2009.0  \n0               0.479805                2009.0  \n0               0.361240                2009.0  \n0               0.332504                2009.0  \n\n[15 rows x 27 columns]",
      "text/html": "<div>\n<style scoped>\n    .dataframe tbody tr th:only-of-type {\n        vertical-align: middle;\n    }\n\n    .dataframe tbody tr th {\n        vertical-align: top;\n    }\n\n    .dataframe thead th {\n        text-align: right;\n    }\n</style>\n<table border=\"1\" class=\"dataframe\">\n  <thead>\n    <tr style=\"text-align: right;\">\n      <th></th>\n      <th>accuracy</th>\n      <th>dataset</th>\n      <th>comparison_thr</th>\n      <th>model</th>\n      <th>thr</th>\n      <th>tipo</th>\n      <th>accuracy_value</th>\n      <th>TP</th>\n      <th>FP</th>\n      <th>FN</th>\n      <th>...</th>\n      <th>1.f1-score</th>\n      <th>1.support</th>\n      <th>macro avg.precision</th>\n      <th>macro avg.recall</th>\n      <th>macro avg.f1-score</th>\n      <th>macro avg.support</th>\n      <th>weighted avg.precision</th>\n      <th>weighted avg.recall</th>\n      <th>weighted avg.f1-score</th>\n      <th>weighted avg.support</th>\n    </tr>\n  </thead>\n  <tbody>\n    <tr>\n      <th>0</th>\n      <td>0.588850</td>\n      <td>rfds_0_with_chi.csv</td>\n      <td>0</td>\n      <td>RF</td>\n      <td>0.1</td>\n      <td>2</td>\n      <td>0.588850</td>\n      <td>177</td>\n      <td>0</td>\n      <td>826</td>\n      <td>...</td>\n      <td>0.708950</td>\n      <td>1006.0</td>\n      <td>0.774563</td>\n      <td>0.588235</td>\n      <td>0.504475</td>\n      <td>2009.0</td>\n      <td>0.774227</td>\n      <td>0.588850</td>\n      <td>0.504780</td>\n      <td>2009.0</td>\n    </tr>\n    <tr>\n      <th>0</th>\n      <td>0.588850</td>\n      <td>rfds_0_with_chi.csv</td>\n      <td>0</td>\n      <td>DT</td>\n      <td>0.1</td>\n      <td>2</td>\n      <td>0.588850</td>\n      <td>177</td>\n      <td>0</td>\n      <td>826</td>\n      <td>...</td>\n      <td>0.708950</td>\n      <td>1006.0</td>\n      <td>0.774563</td>\n      <td>0.588235</td>\n      <td>0.504475</td>\n      <td>2009.0</td>\n      <td>0.774227</td>\n      <td>0.588850</td>\n      <td>0.504780</td>\n      <td>2009.0</td>\n    </tr>\n    <tr>\n      <th>0</th>\n      <td>0.586361</td>\n      <td>rfds_0_with_chi.csv</td>\n      <td>0</td>\n      <td>SVC</td>\n      <td>0.1</td>\n      <td>2</td>\n      <td>0.586361</td>\n      <td>172</td>\n      <td>0</td>\n      <td>831</td>\n      <td>...</td>\n      <td>0.707703</td>\n      <td>1006.0</td>\n      <td>0.773816</td>\n      <td>0.585743</td>\n      <td>0.500235</td>\n      <td>2009.0</td>\n      <td>0.773478</td>\n      <td>0.586361</td>\n      <td>0.500544</td>\n      <td>2009.0</td>\n    </tr>\n    <tr>\n      <th>0</th>\n      <td>0.550025</td>\n      <td>rfds_0_with_chi.csv</td>\n      <td>0</td>\n      <td>LR</td>\n      <td>0.1</td>\n      <td>2</td>\n      <td>0.550025</td>\n      <td>99</td>\n      <td>0</td>\n      <td>904</td>\n      <td>...</td>\n      <td>0.689986</td>\n      <td>1006.0</td>\n      <td>0.763351</td>\n      <td>0.549352</td>\n      <td>0.434830</td>\n      <td>2009.0</td>\n      <td>0.762997</td>\n      <td>0.550025</td>\n      <td>0.435211</td>\n      <td>2009.0</td>\n    </tr>\n    <tr>\n      <th>0</th>\n      <td>0.499253</td>\n      <td>rfds_0_with_chi.csv</td>\n      <td>0</td>\n      <td>KNN</td>\n      <td>0.1</td>\n      <td>2</td>\n      <td>0.499253</td>\n      <td>1003</td>\n      <td>1006</td>\n      <td>0</td>\n      <td>...</td>\n      <td>0.000000</td>\n      <td>1006.0</td>\n      <td>0.249627</td>\n      <td>0.500000</td>\n      <td>0.333001</td>\n      <td>2009.0</td>\n      <td>0.249254</td>\n      <td>0.499253</td>\n      <td>0.332504</td>\n      <td>2009.0</td>\n    </tr>\n    <tr>\n      <th>0</th>\n      <td>0.851170</td>\n      <td>rfds_2_with_chi.csv</td>\n      <td>2</td>\n      <td>RF</td>\n      <td>0.1</td>\n      <td>2</td>\n      <td>0.851170</td>\n      <td>783</td>\n      <td>79</td>\n      <td>220</td>\n      <td>...</td>\n      <td>0.861124</td>\n      <td>1006.0</td>\n      <td>0.858274</td>\n      <td>0.851065</td>\n      <td>0.850401</td>\n      <td>2009.0</td>\n      <td>0.858199</td>\n      <td>0.851170</td>\n      <td>0.850417</td>\n      <td>2009.0</td>\n    </tr>\n    <tr>\n      <th>0</th>\n      <td>0.850672</td>\n      <td>rfds_2_with_chi.csv</td>\n      <td>2</td>\n      <td>DT</td>\n      <td>0.1</td>\n      <td>2</td>\n      <td>0.850672</td>\n      <td>783</td>\n      <td>80</td>\n      <td>220</td>\n      <td>...</td>\n      <td>0.860595</td>\n      <td>1006.0</td>\n      <td>0.857664</td>\n      <td>0.850568</td>\n      <td>0.849912</td>\n      <td>2009.0</td>\n      <td>0.857590</td>\n      <td>0.850672</td>\n      <td>0.849927</td>\n      <td>2009.0</td>\n    </tr>\n    <tr>\n      <th>0</th>\n      <td>0.651070</td>\n      <td>rfds_2_with_chi.csv</td>\n      <td>2</td>\n      <td>SVC</td>\n      <td>0.1</td>\n      <td>2</td>\n      <td>0.651070</td>\n      <td>302</td>\n      <td>0</td>\n      <td>701</td>\n      <td>...</td>\n      <td>0.741614</td>\n      <td>1006.0</td>\n      <td>0.794669</td>\n      <td>0.650548</td>\n      <td>0.602225</td>\n      <td>2009.0</td>\n      <td>0.794362</td>\n      <td>0.651070</td>\n      <td>0.602433</td>\n      <td>2009.0</td>\n    </tr>\n    <tr>\n      <th>0</th>\n      <td>0.428571</td>\n      <td>rfds_2_with_chi.csv</td>\n      <td>2</td>\n      <td>LR</td>\n      <td>0.1</td>\n      <td>2</td>\n      <td>0.428571</td>\n      <td>756</td>\n      <td>901</td>\n      <td>247</td>\n      <td>...</td>\n      <td>0.154639</td>\n      <td>1006.0</td>\n      <td>0.377271</td>\n      <td>0.429056</td>\n      <td>0.361530</td>\n      <td>2009.0</td>\n      <td>0.377153</td>\n      <td>0.428571</td>\n      <td>0.361221</td>\n      <td>2009.0</td>\n    </tr>\n    <tr>\n      <th>0</th>\n      <td>0.666003</td>\n      <td>rfds_2_with_chi.csv</td>\n      <td>2</td>\n      <td>KNN</td>\n      <td>0.1</td>\n      <td>2</td>\n      <td>0.666003</td>\n      <td>965</td>\n      <td>633</td>\n      <td>38</td>\n      <td>...</td>\n      <td>0.526464</td>\n      <td>1006.0</td>\n      <td>0.755711</td>\n      <td>0.666445</td>\n      <td>0.634243</td>\n      <td>2009.0</td>\n      <td>0.755938</td>\n      <td>0.666003</td>\n      <td>0.634082</td>\n      <td>2009.0</td>\n    </tr>\n    <tr>\n      <th>0</th>\n      <td>0.847685</td>\n      <td>rfds_4_with_chi.csv</td>\n      <td>4</td>\n      <td>RF</td>\n      <td>0.1</td>\n      <td>2</td>\n      <td>0.847685</td>\n      <td>795</td>\n      <td>98</td>\n      <td>208</td>\n      <td>...</td>\n      <td>0.855796</td>\n      <td>1006.0</td>\n      <td>0.851939</td>\n      <td>0.847603</td>\n      <td>0.847202</td>\n      <td>2009.0</td>\n      <td>0.851882</td>\n      <td>0.847685</td>\n      <td>0.847215</td>\n      <td>2009.0</td>\n    </tr>\n    <tr>\n      <th>0</th>\n      <td>0.847685</td>\n      <td>rfds_4_with_chi.csv</td>\n      <td>4</td>\n      <td>DT</td>\n      <td>0.1</td>\n      <td>2</td>\n      <td>0.847685</td>\n      <td>795</td>\n      <td>98</td>\n      <td>208</td>\n      <td>...</td>\n      <td>0.855796</td>\n      <td>1006.0</td>\n      <td>0.851939</td>\n      <td>0.847603</td>\n      <td>0.847202</td>\n      <td>2009.0</td>\n      <td>0.851882</td>\n      <td>0.847685</td>\n      <td>0.847215</td>\n      <td>2009.0</td>\n    </tr>\n    <tr>\n      <th>0</th>\n      <td>0.574415</td>\n      <td>rfds_4_with_chi.csv</td>\n      <td>4</td>\n      <td>SVC</td>\n      <td>0.1</td>\n      <td>2</td>\n      <td>0.574415</td>\n      <td>148</td>\n      <td>0</td>\n      <td>855</td>\n      <td>...</td>\n      <td>0.701779</td>\n      <td>1006.0</td>\n      <td>0.770285</td>\n      <td>0.573779</td>\n      <td>0.479473</td>\n      <td>2009.0</td>\n      <td>0.769942</td>\n      <td>0.574415</td>\n      <td>0.479805</td>\n      <td>2009.0</td>\n    </tr>\n    <tr>\n      <th>0</th>\n      <td>0.513191</td>\n      <td>rfds_4_with_chi.csv</td>\n      <td>4</td>\n      <td>LR</td>\n      <td>0.1</td>\n      <td>2</td>\n      <td>0.513191</td>\n      <td>25</td>\n      <td>0</td>\n      <td>978</td>\n      <td>...</td>\n      <td>0.672910</td>\n      <td>1006.0</td>\n      <td>0.753528</td>\n      <td>0.512463</td>\n      <td>0.360774</td>\n      <td>2009.0</td>\n      <td>0.753160</td>\n      <td>0.513191</td>\n      <td>0.361240</td>\n      <td>2009.0</td>\n    </tr>\n    <tr>\n      <th>0</th>\n      <td>0.499253</td>\n      <td>rfds_4_with_chi.csv</td>\n      <td>4</td>\n      <td>KNN</td>\n      <td>0.1</td>\n      <td>2</td>\n      <td>0.499253</td>\n      <td>1003</td>\n      <td>1006</td>\n      <td>0</td>\n      <td>...</td>\n      <td>0.000000</td>\n      <td>1006.0</td>\n      <td>0.249627</td>\n      <td>0.500000</td>\n      <td>0.333001</td>\n      <td>2009.0</td>\n      <td>0.249254</td>\n      <td>0.499253</td>\n      <td>0.332504</td>\n      <td>2009.0</td>\n    </tr>\n  </tbody>\n</table>\n<p>15 rows × 27 columns</p>\n</div>"
     },
     "execution_count": 26,
     "metadata": {},
     "output_type": "execute_result"
    }
   ],
   "source": [
    "dftmp = pd.concat(dfs)\n",
    "dftmp"
   ],
   "metadata": {
    "collapsed": false
   }
  },
  {
   "cell_type": "code",
   "execution_count": 27,
   "outputs": [],
   "source": [
    "dftmp.to_csv(\"Results_Fake_Account_Models_RFD.csv\",index=None,sep=\";\")"
   ],
   "metadata": {
    "collapsed": false
   }
  },
  {
   "cell_type": "markdown",
   "source": [
    "### 3.3 Plot risultati modelli Baseline - RFDs - RFDs+16"
   ],
   "metadata": {
    "collapsed": false
   }
  },
  {
   "cell_type": "code",
   "execution_count": 62,
   "outputs": [
    {
     "data": {
      "text/plain": "<Figure size 1500x1200 with 20 Axes>",
      "image/png": "[encoded data removed]"
     },
     "metadata": {},
     "output_type": "display_data"
    }
   ],
   "source": [
    "# Dati per le etichette\n",
    "labels = ['Baseline', 'RFDs', 'RFDs+16']\n",
    "\n",
    "values_matrix = np.array([\n",
    "    # Accuracy\n",
    "    [\n",
    "        [0.981, 0.603, 0.985],      # SVM\n",
    "        [0.986, 0.554, 0.987],      # KNN\n",
    "        [0.997, 0.497, 0.931],      # LR\n",
    "        [0.998, 0.761, 0.995],      # DT\n",
    "        [0.998, 0.762, 0.999]       # RF\n",
    "    ],\n",
    "    # Precision\n",
    "    [\n",
    "        [0.976, 1.000, 0.990],      # SVM\n",
    "        [0.979, 0.533, 0.992],      # KNN\n",
    "        [0.997, 0.818, 0.962],      # LR\n",
    "        [0.997, 0.932, 0.994],      # DT\n",
    "        [0.998, 0.932, 0.998]       # RF\n",
    "    ],\n",
    "    # Recall\n",
    "    [\n",
    "        [0.997, 0.206, 0.980],      # SVM\n",
    "        [0.993, 0.987, 0.981],      # KNN\n",
    "        [0.997, 0.291, 0.898],      # LR\n",
    "        [0.999, 0.582, 0.997],      # DT\n",
    "        [0.999, 0.582, 1.000]       # RF\n",
    "    ],\n",
    "    # F1-Score\n",
    "    [\n",
    "        [0.981, 0.337, 0.985],      # SVM\n",
    "        [0.986, 0.691, 0.986],      # KNN\n",
    "        [0.997, 0.265, 0.929],      # LR\n",
    "        [0.998, 0.659, 0.995],      # DT\n",
    "        [0.998, 0.659, 0.999]       # RF\n",
    "    ]\n",
    "])\n",
    "\n",
    "# Creazione della griglia 5x4 di subplots\n",
    "fig, axs = plt.subplots(5, 4, figsize=(15, 12))\n",
    "\n",
    "column_titles = ['Accuracy', 'Precision', 'Recall', 'F1-Score']\n",
    "row_titles = ['SVM', 'KNN', 'LR', 'DT', 'RF']\n",
    "baseline_line = None\n",
    "\n",
    "for i in range(5):\n",
    "    for j in range(4):\n",
    "        # barre per RFDs e RFDs+16\n",
    "        bars = axs[i, j].bar(labels[1:], values_matrix[j, i, 1:], color=['green', 'red'])\n",
    "\n",
    "        # linea tratteggiata per la Baseline\n",
    "        baseline_line = axs[i, j].axhline(y=values_matrix[j, i, 0], color='blue', linestyle='--', label='Baseline')\n",
    "\n",
    "        # Imposta l'intervallo dell'asse y da 0 a 1.1\n",
    "        axs[i, j].set_ylim(0, 1.1)\n",
    "\n",
    "# Aggiunta etichette per le colonne\n",
    "for ax, col in zip(axs[0], column_titles):\n",
    "    ax.set_title(col)\n",
    "\n",
    "# Aggiunta etichette per le righe\n",
    "for ax, row in zip(axs[:, 0], row_titles):\n",
    "    ax.set_ylabel(row, rotation=0, size='large', labelpad=40)\n",
    "\n",
    "# leggenda\n",
    "handles = [baseline_line, bars[0], bars[1]]\n",
    "labels = ['Baseline', 'RFDs', 'RFDs+16']\n",
    "fig.legend(handles, labels, loc='upper center', bbox_to_anchor=(0.5, -0.05), ncol=3)\n",
    "\n",
    "\n",
    "plt.tight_layout()\n",
    "plt.show()"
   ],
   "metadata": {
    "collapsed": false
   }
  }
 ],
 "metadata": {
  "colab": {
   "provenance": []
  },
  "kernelspec": {
   "display_name": "Python 3 (ipykernel)",
   "language": "python",
   "name": "python3"
  },
  "language_info": {
   "codemirror_mode": {
    "name": "ipython",
    "version": 3
   },
   "file_extension": ".py",
   "mimetype": "text/x-python",
   "name": "python",
   "nbconvert_exporter": "python",
   "pygments_lexer": "ipython3",
   "version": "3.9.16"
  }
 },
 "nbformat": 4,
 "nbformat_minor": 1
}
