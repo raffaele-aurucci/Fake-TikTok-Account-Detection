{
 "cells": [
  {
   "cell_type": "markdown",
   "source": [
    "# Support Vector Machine (SVM)"
   ],
   "metadata": {
    "id": "Oy1Iz_vru7_R"
   }
  },
  {
   "cell_type": "markdown",
   "source": [
    "> Import necessari"
   ],
   "metadata": {
    "id": "kqqbpgNCvEpK"
   }
  },
  {
   "cell_type": "code",
   "execution_count": 1,
   "metadata": {
    "collapsed": true,
    "id": "Pz96TyWBtHEG",
    "executionInfo": {
     "status": "ok",
     "timestamp": 1720864512416,
     "user_tz": -120,
     "elapsed": 5393,
     "user": {
      "displayName": "Annalaura Miglino",
      "userId": "03808724092990969006"
     }
    }
   },
   "outputs": [],
   "source": [
    "from sklearn.svm import SVC\n",
    "from sklearn.model_selection import StratifiedShuffleSplit, GridSearchCV, learning_curve\n",
    "from sklearn.metrics import accuracy_score, confusion_matrix, roc_curve, auc, precision_score, recall_score, f1_score\n",
    "import matplotlib.pyplot as plt\n",
    "import pandas as pd\n",
    "import seaborn as sns\n",
    "import numpy as np"
   ]
  },
  {
   "cell_type": "markdown",
   "source": [
    "> Montaggio di Drive"
   ],
   "metadata": {
    "id": "MQtOqoQ9ysLa"
   }
  },
  {
   "cell_type": "code",
   "source": [
    "from google.colab import drive\n",
    "drive.mount('/content/drive')"
   ],
   "metadata": {
    "colab": {
     "base_uri": "https://localhost:8080/"
    },
    "id": "IhViav_1yvce",
    "executionInfo": {
     "status": "ok",
     "timestamp": 1720864547436,
     "user_tz": -120,
     "elapsed": 32770,
     "user": {
      "displayName": "Annalaura Miglino",
      "userId": "03808724092990969006"
     }
    },
    "outputId": "323ffc20-f5da-4dba-a751-58cf42f01693"
   },
   "execution_count": 2,
   "outputs": [
    {
     "output_type": "stream",
     "name": "stdout",
     "text": [
      "Mounted at /content/drive\n"
     ]
    }
   ]
  },
  {
   "cell_type": "markdown",
   "source": [
    "## 1. Divisione del dataset in train e test"
   ],
   "metadata": {
    "collapsed": false,
    "id": "1Lui-kjYtHEJ"
   }
  },
  {
   "cell_type": "code",
   "execution_count": 3,
   "outputs": [],
   "source": [
    "# Lettura del dataset (drive)\n",
    "csv_path = '/content/drive/MyDrive/Progetto_FDSML_github/FakeAccountDetection/datasets/cleaned_dataset.csv'"
   ],
   "metadata": {
    "id": "ap7xFiAmfZ9P",
    "executionInfo": {
     "status": "ok",
     "timestamp": 1720864547437,
     "user_tz": -120,
     "elapsed": 9,
     "user": {
      "displayName": "Annalaura Miglino",
      "userId": "03808724092990969006"
     }
    }
   }
  },
  {
   "cell_type": "code",
   "execution_count": null,
   "outputs": [],
   "source": [
    "# Lettura del dataset (local)\n",
    "csv_path = '../datasets/cleaned_dataset.csv'"
   ],
   "metadata": {
    "id": "952UhqUefZ9Q"
   }
  },
  {
   "cell_type": "code",
   "execution_count": 4,
   "outputs": [],
   "source": [
    "df = pd.read_csv(csv_path)"
   ],
   "metadata": {
    "id": "MQIaIsQrfZ9S",
    "executionInfo": {
     "status": "ok",
     "timestamp": 1720864549013,
     "user_tz": -120,
     "elapsed": 1583,
     "user": {
      "displayName": "Annalaura Miglino",
      "userId": "03808724092990969006"
     }
    }
   }
  },
  {
   "cell_type": "code",
   "execution_count": 5,
   "outputs": [],
   "source": [
    "# Divisione in train e test set\n",
    "X = df.copy()\n",
    "y = X.pop('fake')\n",
    "\n",
    "sss = StratifiedShuffleSplit(n_splits=1, test_size=0.2, random_state=42)\n",
    "\n",
    "for train_index, test_index in sss.split(X, y):\n",
    "    X_train, X_test = X.loc[train_index], X.loc[test_index]\n",
    "    y_train, y_test = y.loc[train_index], y.loc[test_index]"
   ],
   "metadata": {
    "id": "gA4sxs84tHEO",
    "executionInfo": {
     "status": "ok",
     "timestamp": 1720864549014,
     "user_tz": -120,
     "elapsed": 6,
     "user": {
      "displayName": "Annalaura Miglino",
      "userId": "03808724092990969006"
     }
    }
   }
  },
  {
   "cell_type": "markdown",
   "source": [
    "### 1.1 Addestramento senza iperparametri"
   ],
   "metadata": {
    "collapsed": false,
    "id": "IsOyxbdUtHEO"
   }
  },
  {
   "cell_type": "code",
   "execution_count": 6,
   "outputs": [
    {
     "output_type": "stream",
     "name": "stdout",
     "text": [
      "Accuracy: 0.9656545545047287\n",
      "Precision: 0.9544131910766246\n",
      "Recall: 0.9781312127236581\n",
      "F1-Score: 0.9661266568483063\n"
     ]
    }
   ],
   "source": [
    "# Istanziazione e addestramento del classificatore\n",
    "svc = SVC(random_state=42)\n",
    "svc.fit(X_train, y_train)\n",
    "y_pred = svc.predict(X_test)\n",
    "\n",
    "# Stampa delle metriche\n",
    "print(f'Accuracy: {accuracy_score(y_test, y_pred)}')\n",
    "print(f'Precision: {precision_score(y_test, y_pred)}')\n",
    "print(f'Recall: {recall_score(y_test, y_pred)}')\n",
    "print(f'F1-Score: {f1_score(y_test, y_pred)}')"
   ],
   "metadata": {
    "colab": {
     "base_uri": "https://localhost:8080/"
    },
    "id": "dB1w4oUgtHEP",
    "executionInfo": {
     "status": "ok",
     "timestamp": 1720864554541,
     "user_tz": -120,
     "elapsed": 828,
     "user": {
      "displayName": "Annalaura Miglino",
      "userId": "03808724092990969006"
     }
    },
    "outputId": "ff3077bc-7faf-47a9-8f21-8a5110dc06dc"
   }
  },
  {
   "cell_type": "markdown",
   "source": [
    "## 2. Grid Search Cross Validation"
   ],
   "metadata": {
    "collapsed": false,
    "id": "eKsiifbVtHEQ"
   }
  },
  {
   "cell_type": "code",
   "execution_count": 7,
   "outputs": [],
   "source": [
    "# Griglia dei parametri\n",
    "param_grid = {\n",
    "    'C': [0.1, 0.5, 1.0, 1.5],                      # ampiezza del margine, valori più piccoli corrispondono a un margine più ampio                                                                        # viceversa per valori più grandi\n",
    "    'kernel': ['linear', 'rbf', 'poly'],            # funzione kernel da utilizzare per trasformare i dati di input in uno spazio dimensionale maggiore,\n",
    "                                                    # in modo che un iperpiano lineare possa separare meglio i punti dati\n",
    "    'degree': [2, 3],                               # grado del polinomio nel caso in cui kernel = 'poly'\n",
    "    'gamma' : ['scale', 'auto', 0.1, 0.5, 1],       # controlla l'influenza di un singolo punto di training, per valori alti il modello potrebbe dare\n",
    "                                                    # importanza solo ai punti più vicini, per valori bassi considera anche punti molto più distanti,\n",
    "                                                    # al fine di definire la decision boundary quando kernel = 'rbf' | 'poly'\n",
    "    'coef0': [0.0, 0.5, 1.0]                        # definisce l'importanza dei valori polinomiali di alto grado quando kernel = 'poly'\n",
    "}"
   ],
   "metadata": {
    "id": "8mftUZiltHER",
    "executionInfo": {
     "status": "ok",
     "timestamp": 1720864560939,
     "user_tz": -120,
     "elapsed": 5,
     "user": {
      "displayName": "Annalaura Miglino",
      "userId": "03808724092990969006"
     }
    }
   }
  },
  {
   "cell_type": "code",
   "source": [
    "# Istanziazione del classificatore (random_state controlla la casualità, probability abilita il metodo predict_proba)\n",
    "svc = SVC(random_state=42)"
   ],
   "metadata": {
    "id": "aKR9IQrtto_j",
    "executionInfo": {
     "status": "ok",
     "timestamp": 1720864565667,
     "user_tz": -120,
     "elapsed": 3,
     "user": {
      "displayName": "Annalaura Miglino",
      "userId": "03808724092990969006"
     }
    }
   },
   "execution_count": 8,
   "outputs": []
  },
  {
   "cell_type": "code",
   "execution_count": 9,
   "outputs": [
    {
     "output_type": "stream",
     "name": "stdout",
     "text": [
      "Best Parameters: {'C': 1.5, 'coef0': 1.0, 'degree': 3, 'gamma': 1, 'kernel': 'poly'}\n",
      "CPU times: user 1min 1s, sys: 11.6 s, total: 1min 12s\n",
      "Wall time: 1h 27min 52s\n"
     ]
    }
   ],
   "source": [
    "%%time\n",
    "# Stampiamo i migliori parametri\n",
    "grid_search = GridSearchCV(estimator=svc, param_grid=param_grid, cv=10, scoring='f1', n_jobs=-1, return_train_score=True, error_score='raise')\n",
    "grid_search.fit(X_train, y_train)\n",
    "print(\"Best Parameters:\", grid_search.best_params_)"
   ],
   "metadata": {
    "colab": {
     "base_uri": "https://localhost:8080/"
    },
    "id": "APgT9wYWtHER",
    "executionInfo": {
     "status": "ok",
     "timestamp": 1720869840690,
     "user_tz": -120,
     "elapsed": 5272370,
     "user": {
      "displayName": "Annalaura Miglino",
      "userId": "03808724092990969006"
     }
    },
    "outputId": "3d899c1e-dc7a-491a-9af1-78bfa99d2290"
   }
  },
  {
   "cell_type": "code",
   "execution_count": 10,
   "outputs": [
    {
     "output_type": "stream",
     "name": "stdout",
     "text": [
      "Iterazione 0: F1-Score 0.9271789682463304, Parametri {'C': 0.1, 'coef0': 0.0, 'degree': 2, 'gamma': 'scale', 'kernel': 'linear'}\n",
      "Iterazione 1: F1-Score 0.9379536495473701, Parametri {'C': 0.1, 'coef0': 0.0, 'degree': 2, 'gamma': 'scale', 'kernel': 'rbf'}\n",
      "Iterazione 2: F1-Score 0.8830118137710847, Parametri {'C': 0.1, 'coef0': 0.0, 'degree': 2, 'gamma': 'scale', 'kernel': 'poly'}\n",
      "Iterazione 3: F1-Score 0.9271789682463304, Parametri {'C': 0.1, 'coef0': 0.0, 'degree': 2, 'gamma': 'auto', 'kernel': 'linear'}\n",
      "Iterazione 4: F1-Score 0.9359188782262982, Parametri {'C': 0.1, 'coef0': 0.0, 'degree': 2, 'gamma': 'auto', 'kernel': 'rbf'}\n",
      "Iterazione 5: F1-Score 0.8801152809958331, Parametri {'C': 0.1, 'coef0': 0.0, 'degree': 2, 'gamma': 'auto', 'kernel': 'poly'}\n",
      "Iterazione 6: F1-Score 0.9271789682463304, Parametri {'C': 0.1, 'coef0': 0.0, 'degree': 2, 'gamma': 0.1, 'kernel': 'linear'}\n",
      "Iterazione 7: F1-Score 0.9432704936183642, Parametri {'C': 0.1, 'coef0': 0.0, 'degree': 2, 'gamma': 0.1, 'kernel': 'rbf'}\n",
      "Iterazione 8: F1-Score 0.8949295578317626, Parametri {'C': 0.1, 'coef0': 0.0, 'degree': 2, 'gamma': 0.1, 'kernel': 'poly'}\n",
      "Iterazione 9: F1-Score 0.9271789682463304, Parametri {'C': 0.1, 'coef0': 0.0, 'degree': 2, 'gamma': 0.5, 'kernel': 'linear'}\n",
      "Iterazione 10: F1-Score 0.9593068968886502, Parametri {'C': 0.1, 'coef0': 0.0, 'degree': 2, 'gamma': 0.5, 'kernel': 'rbf'}\n",
      "Iterazione 11: F1-Score 0.9472288654348603, Parametri {'C': 0.1, 'coef0': 0.0, 'degree': 2, 'gamma': 0.5, 'kernel': 'poly'}\n",
      "Iterazione 12: F1-Score 0.9271789682463304, Parametri {'C': 0.1, 'coef0': 0.0, 'degree': 2, 'gamma': 1, 'kernel': 'linear'}\n",
      "Iterazione 13: F1-Score 0.9604099077573013, Parametri {'C': 0.1, 'coef0': 0.0, 'degree': 2, 'gamma': 1, 'kernel': 'rbf'}\n",
      "Iterazione 14: F1-Score 0.9488989199169904, Parametri {'C': 0.1, 'coef0': 0.0, 'degree': 2, 'gamma': 1, 'kernel': 'poly'}\n",
      "Iterazione 15: F1-Score 0.9271789682463304, Parametri {'C': 0.1, 'coef0': 0.0, 'degree': 3, 'gamma': 'scale', 'kernel': 'linear'}\n",
      "Iterazione 16: F1-Score 0.9379536495473701, Parametri {'C': 0.1, 'coef0': 0.0, 'degree': 3, 'gamma': 'scale', 'kernel': 'rbf'}\n",
      "Iterazione 17: F1-Score 0.8371141623980286, Parametri {'C': 0.1, 'coef0': 0.0, 'degree': 3, 'gamma': 'scale', 'kernel': 'poly'}\n",
      "Iterazione 18: F1-Score 0.9271789682463304, Parametri {'C': 0.1, 'coef0': 0.0, 'degree': 3, 'gamma': 'auto', 'kernel': 'linear'}\n",
      "Iterazione 19: F1-Score 0.9359188782262982, Parametri {'C': 0.1, 'coef0': 0.0, 'degree': 3, 'gamma': 'auto', 'kernel': 'rbf'}\n",
      "Iterazione 20: F1-Score 0.8357577180436688, Parametri {'C': 0.1, 'coef0': 0.0, 'degree': 3, 'gamma': 'auto', 'kernel': 'poly'}\n",
      "Iterazione 21: F1-Score 0.9271789682463304, Parametri {'C': 0.1, 'coef0': 0.0, 'degree': 3, 'gamma': 0.1, 'kernel': 'linear'}\n",
      "Iterazione 22: F1-Score 0.9432704936183642, Parametri {'C': 0.1, 'coef0': 0.0, 'degree': 3, 'gamma': 0.1, 'kernel': 'rbf'}\n",
      "Iterazione 23: F1-Score 0.8578130753543523, Parametri {'C': 0.1, 'coef0': 0.0, 'degree': 3, 'gamma': 0.1, 'kernel': 'poly'}\n",
      "Iterazione 24: F1-Score 0.9271789682463304, Parametri {'C': 0.1, 'coef0': 0.0, 'degree': 3, 'gamma': 0.5, 'kernel': 'linear'}\n",
      "Iterazione 25: F1-Score 0.9593068968886502, Parametri {'C': 0.1, 'coef0': 0.0, 'degree': 3, 'gamma': 0.5, 'kernel': 'rbf'}\n",
      "Iterazione 26: F1-Score 0.9421357011015237, Parametri {'C': 0.1, 'coef0': 0.0, 'degree': 3, 'gamma': 0.5, 'kernel': 'poly'}\n",
      "Iterazione 27: F1-Score 0.9271789682463304, Parametri {'C': 0.1, 'coef0': 0.0, 'degree': 3, 'gamma': 1, 'kernel': 'linear'}\n",
      "Iterazione 28: F1-Score 0.9604099077573013, Parametri {'C': 0.1, 'coef0': 0.0, 'degree': 3, 'gamma': 1, 'kernel': 'rbf'}\n",
      "Iterazione 29: F1-Score 0.9625407531626008, Parametri {'C': 0.1, 'coef0': 0.0, 'degree': 3, 'gamma': 1, 'kernel': 'poly'}\n",
      "Iterazione 30: F1-Score 0.9271789682463304, Parametri {'C': 0.1, 'coef0': 0.5, 'degree': 2, 'gamma': 'scale', 'kernel': 'linear'}\n",
      "Iterazione 31: F1-Score 0.9379536495473701, Parametri {'C': 0.1, 'coef0': 0.5, 'degree': 2, 'gamma': 'scale', 'kernel': 'rbf'}\n",
      "Iterazione 32: F1-Score 0.924448463683276, Parametri {'C': 0.1, 'coef0': 0.5, 'degree': 2, 'gamma': 'scale', 'kernel': 'poly'}\n",
      "Iterazione 33: F1-Score 0.9271789682463304, Parametri {'C': 0.1, 'coef0': 0.5, 'degree': 2, 'gamma': 'auto', 'kernel': 'linear'}\n",
      "Iterazione 34: F1-Score 0.9359188782262982, Parametri {'C': 0.1, 'coef0': 0.5, 'degree': 2, 'gamma': 'auto', 'kernel': 'rbf'}\n",
      "Iterazione 35: F1-Score 0.9226746960970464, Parametri {'C': 0.1, 'coef0': 0.5, 'degree': 2, 'gamma': 'auto', 'kernel': 'poly'}\n",
      "Iterazione 36: F1-Score 0.9271789682463304, Parametri {'C': 0.1, 'coef0': 0.5, 'degree': 2, 'gamma': 0.1, 'kernel': 'linear'}\n",
      "Iterazione 37: F1-Score 0.9432704936183642, Parametri {'C': 0.1, 'coef0': 0.5, 'degree': 2, 'gamma': 0.1, 'kernel': 'rbf'}\n",
      "Iterazione 38: F1-Score 0.9316539993977045, Parametri {'C': 0.1, 'coef0': 0.5, 'degree': 2, 'gamma': 0.1, 'kernel': 'poly'}\n",
      "Iterazione 39: F1-Score 0.9271789682463304, Parametri {'C': 0.1, 'coef0': 0.5, 'degree': 2, 'gamma': 0.5, 'kernel': 'linear'}\n",
      "Iterazione 40: F1-Score 0.9593068968886502, Parametri {'C': 0.1, 'coef0': 0.5, 'degree': 2, 'gamma': 0.5, 'kernel': 'rbf'}\n",
      "Iterazione 41: F1-Score 0.9589509931504916, Parametri {'C': 0.1, 'coef0': 0.5, 'degree': 2, 'gamma': 0.5, 'kernel': 'poly'}\n",
      "Iterazione 42: F1-Score 0.9271789682463304, Parametri {'C': 0.1, 'coef0': 0.5, 'degree': 2, 'gamma': 1, 'kernel': 'linear'}\n",
      "Iterazione 43: F1-Score 0.9604099077573013, Parametri {'C': 0.1, 'coef0': 0.5, 'degree': 2, 'gamma': 1, 'kernel': 'rbf'}\n",
      "Iterazione 44: F1-Score 0.9636898099953106, Parametri {'C': 0.1, 'coef0': 0.5, 'degree': 2, 'gamma': 1, 'kernel': 'poly'}\n",
      "Iterazione 45: F1-Score 0.9271789682463304, Parametri {'C': 0.1, 'coef0': 0.5, 'degree': 3, 'gamma': 'scale', 'kernel': 'linear'}\n",
      "Iterazione 46: F1-Score 0.9379536495473701, Parametri {'C': 0.1, 'coef0': 0.5, 'degree': 3, 'gamma': 'scale', 'kernel': 'rbf'}\n",
      "Iterazione 47: F1-Score 0.9309963525229763, Parametri {'C': 0.1, 'coef0': 0.5, 'degree': 3, 'gamma': 'scale', 'kernel': 'poly'}\n",
      "Iterazione 48: F1-Score 0.9271789682463304, Parametri {'C': 0.1, 'coef0': 0.5, 'degree': 3, 'gamma': 'auto', 'kernel': 'linear'}\n",
      "Iterazione 49: F1-Score 0.9359188782262982, Parametri {'C': 0.1, 'coef0': 0.5, 'degree': 3, 'gamma': 'auto', 'kernel': 'rbf'}\n",
      "Iterazione 50: F1-Score 0.9284729931541984, Parametri {'C': 0.1, 'coef0': 0.5, 'degree': 3, 'gamma': 'auto', 'kernel': 'poly'}\n",
      "Iterazione 51: F1-Score 0.9271789682463304, Parametri {'C': 0.1, 'coef0': 0.5, 'degree': 3, 'gamma': 0.1, 'kernel': 'linear'}\n",
      "Iterazione 52: F1-Score 0.9432704936183642, Parametri {'C': 0.1, 'coef0': 0.5, 'degree': 3, 'gamma': 0.1, 'kernel': 'rbf'}\n",
      "Iterazione 53: F1-Score 0.94232801429009, Parametri {'C': 0.1, 'coef0': 0.5, 'degree': 3, 'gamma': 0.1, 'kernel': 'poly'}\n",
      "Iterazione 54: F1-Score 0.9271789682463304, Parametri {'C': 0.1, 'coef0': 0.5, 'degree': 3, 'gamma': 0.5, 'kernel': 'linear'}\n",
      "Iterazione 55: F1-Score 0.9593068968886502, Parametri {'C': 0.1, 'coef0': 0.5, 'degree': 3, 'gamma': 0.5, 'kernel': 'rbf'}\n",
      "Iterazione 56: F1-Score 0.9673234679393753, Parametri {'C': 0.1, 'coef0': 0.5, 'degree': 3, 'gamma': 0.5, 'kernel': 'poly'}\n",
      "Iterazione 57: F1-Score 0.9271789682463304, Parametri {'C': 0.1, 'coef0': 0.5, 'degree': 3, 'gamma': 1, 'kernel': 'linear'}\n",
      "Iterazione 58: F1-Score 0.9604099077573013, Parametri {'C': 0.1, 'coef0': 0.5, 'degree': 3, 'gamma': 1, 'kernel': 'rbf'}\n",
      "Iterazione 59: F1-Score 0.973995866310679, Parametri {'C': 0.1, 'coef0': 0.5, 'degree': 3, 'gamma': 1, 'kernel': 'poly'}\n",
      "Iterazione 60: F1-Score 0.9271789682463304, Parametri {'C': 0.1, 'coef0': 1.0, 'degree': 2, 'gamma': 'scale', 'kernel': 'linear'}\n",
      "Iterazione 61: F1-Score 0.9379536495473701, Parametri {'C': 0.1, 'coef0': 1.0, 'degree': 2, 'gamma': 'scale', 'kernel': 'rbf'}\n",
      "Iterazione 62: F1-Score 0.9288147915340277, Parametri {'C': 0.1, 'coef0': 1.0, 'degree': 2, 'gamma': 'scale', 'kernel': 'poly'}\n",
      "Iterazione 63: F1-Score 0.9271789682463304, Parametri {'C': 0.1, 'coef0': 1.0, 'degree': 2, 'gamma': 'auto', 'kernel': 'linear'}\n",
      "Iterazione 64: F1-Score 0.9359188782262982, Parametri {'C': 0.1, 'coef0': 1.0, 'degree': 2, 'gamma': 'auto', 'kernel': 'rbf'}\n",
      "Iterazione 65: F1-Score 0.9267143566801044, Parametri {'C': 0.1, 'coef0': 1.0, 'degree': 2, 'gamma': 'auto', 'kernel': 'poly'}\n",
      "Iterazione 66: F1-Score 0.9271789682463304, Parametri {'C': 0.1, 'coef0': 1.0, 'degree': 2, 'gamma': 0.1, 'kernel': 'linear'}\n",
      "Iterazione 67: F1-Score 0.9432704936183642, Parametri {'C': 0.1, 'coef0': 1.0, 'degree': 2, 'gamma': 0.1, 'kernel': 'rbf'}\n",
      "Iterazione 68: F1-Score 0.9354806842335261, Parametri {'C': 0.1, 'coef0': 1.0, 'degree': 2, 'gamma': 0.1, 'kernel': 'poly'}\n",
      "Iterazione 69: F1-Score 0.9271789682463304, Parametri {'C': 0.1, 'coef0': 1.0, 'degree': 2, 'gamma': 0.5, 'kernel': 'linear'}\n",
      "Iterazione 70: F1-Score 0.9593068968886502, Parametri {'C': 0.1, 'coef0': 1.0, 'degree': 2, 'gamma': 0.5, 'kernel': 'rbf'}\n",
      "Iterazione 71: F1-Score 0.9629184782583193, Parametri {'C': 0.1, 'coef0': 1.0, 'degree': 2, 'gamma': 0.5, 'kernel': 'poly'}\n",
      "Iterazione 72: F1-Score 0.9271789682463304, Parametri {'C': 0.1, 'coef0': 1.0, 'degree': 2, 'gamma': 1, 'kernel': 'linear'}\n",
      "Iterazione 73: F1-Score 0.9604099077573013, Parametri {'C': 0.1, 'coef0': 1.0, 'degree': 2, 'gamma': 1, 'kernel': 'rbf'}\n",
      "Iterazione 74: F1-Score 0.9648037190800689, Parametri {'C': 0.1, 'coef0': 1.0, 'degree': 2, 'gamma': 1, 'kernel': 'poly'}\n",
      "Iterazione 75: F1-Score 0.9271789682463304, Parametri {'C': 0.1, 'coef0': 1.0, 'degree': 3, 'gamma': 'scale', 'kernel': 'linear'}\n",
      "Iterazione 76: F1-Score 0.9379536495473701, Parametri {'C': 0.1, 'coef0': 1.0, 'degree': 3, 'gamma': 'scale', 'kernel': 'rbf'}\n",
      "Iterazione 77: F1-Score 0.9432084086413806, Parametri {'C': 0.1, 'coef0': 1.0, 'degree': 3, 'gamma': 'scale', 'kernel': 'poly'}\n",
      "Iterazione 78: F1-Score 0.9271789682463304, Parametri {'C': 0.1, 'coef0': 1.0, 'degree': 3, 'gamma': 'auto', 'kernel': 'linear'}\n",
      "Iterazione 79: F1-Score 0.9359188782262982, Parametri {'C': 0.1, 'coef0': 1.0, 'degree': 3, 'gamma': 'auto', 'kernel': 'rbf'}\n",
      "Iterazione 80: F1-Score 0.9419828781947828, Parametri {'C': 0.1, 'coef0': 1.0, 'degree': 3, 'gamma': 'auto', 'kernel': 'poly'}\n",
      "Iterazione 81: F1-Score 0.9271789682463304, Parametri {'C': 0.1, 'coef0': 1.0, 'degree': 3, 'gamma': 0.1, 'kernel': 'linear'}\n",
      "Iterazione 82: F1-Score 0.9432704936183642, Parametri {'C': 0.1, 'coef0': 1.0, 'degree': 3, 'gamma': 0.1, 'kernel': 'rbf'}\n",
      "Iterazione 83: F1-Score 0.9497723699664167, Parametri {'C': 0.1, 'coef0': 1.0, 'degree': 3, 'gamma': 0.1, 'kernel': 'poly'}\n",
      "Iterazione 84: F1-Score 0.9271789682463304, Parametri {'C': 0.1, 'coef0': 1.0, 'degree': 3, 'gamma': 0.5, 'kernel': 'linear'}\n",
      "Iterazione 85: F1-Score 0.9593068968886502, Parametri {'C': 0.1, 'coef0': 1.0, 'degree': 3, 'gamma': 0.5, 'kernel': 'rbf'}\n",
      "Iterazione 86: F1-Score 0.9717186522484933, Parametri {'C': 0.1, 'coef0': 1.0, 'degree': 3, 'gamma': 0.5, 'kernel': 'poly'}\n",
      "Iterazione 87: F1-Score 0.9271789682463304, Parametri {'C': 0.1, 'coef0': 1.0, 'degree': 3, 'gamma': 1, 'kernel': 'linear'}\n",
      "Iterazione 88: F1-Score 0.9604099077573013, Parametri {'C': 0.1, 'coef0': 1.0, 'degree': 3, 'gamma': 1, 'kernel': 'rbf'}\n",
      "Iterazione 89: F1-Score 0.9754441760814437, Parametri {'C': 0.1, 'coef0': 1.0, 'degree': 3, 'gamma': 1, 'kernel': 'poly'}\n",
      "Iterazione 90: F1-Score 0.9361828388518229, Parametri {'C': 0.5, 'coef0': 0.0, 'degree': 2, 'gamma': 'scale', 'kernel': 'linear'}\n",
      "Iterazione 91: F1-Score 0.952627212826741, Parametri {'C': 0.5, 'coef0': 0.0, 'degree': 2, 'gamma': 'scale', 'kernel': 'rbf'}\n",
      "Iterazione 92: F1-Score 0.9137665069822161, Parametri {'C': 0.5, 'coef0': 0.0, 'degree': 2, 'gamma': 'scale', 'kernel': 'poly'}\n",
      "Iterazione 93: F1-Score 0.9361828388518229, Parametri {'C': 0.5, 'coef0': 0.0, 'degree': 2, 'gamma': 'auto', 'kernel': 'linear'}\n",
      "Iterazione 94: F1-Score 0.9520610383876404, Parametri {'C': 0.5, 'coef0': 0.0, 'degree': 2, 'gamma': 'auto', 'kernel': 'rbf'}\n",
      "Iterazione 95: F1-Score 0.910266925970981, Parametri {'C': 0.5, 'coef0': 0.0, 'degree': 2, 'gamma': 'auto', 'kernel': 'poly'}\n",
      "Iterazione 96: F1-Score 0.9361828388518229, Parametri {'C': 0.5, 'coef0': 0.0, 'degree': 2, 'gamma': 0.1, 'kernel': 'linear'}\n",
      "Iterazione 97: F1-Score 0.9578997238516294, Parametri {'C': 0.5, 'coef0': 0.0, 'degree': 2, 'gamma': 0.1, 'kernel': 'rbf'}\n",
      "Iterazione 98: F1-Score 0.9230929308771932, Parametri {'C': 0.5, 'coef0': 0.0, 'degree': 2, 'gamma': 0.1, 'kernel': 'poly'}\n",
      "Iterazione 99: F1-Score 0.9361828388518229, Parametri {'C': 0.5, 'coef0': 0.0, 'degree': 2, 'gamma': 0.5, 'kernel': 'linear'}\n",
      "Iterazione 100: F1-Score 0.9710836892440415, Parametri {'C': 0.5, 'coef0': 0.0, 'degree': 2, 'gamma': 0.5, 'kernel': 'rbf'}\n",
      "Iterazione 101: F1-Score 0.9490669361904921, Parametri {'C': 0.5, 'coef0': 0.0, 'degree': 2, 'gamma': 0.5, 'kernel': 'poly'}\n",
      "Iterazione 102: F1-Score 0.9361828388518229, Parametri {'C': 0.5, 'coef0': 0.0, 'degree': 2, 'gamma': 1, 'kernel': 'linear'}\n",
      "Iterazione 103: F1-Score 0.9758397424330607, Parametri {'C': 0.5, 'coef0': 0.0, 'degree': 2, 'gamma': 1, 'kernel': 'rbf'}\n",
      "Iterazione 104: F1-Score 0.9559826520967951, Parametri {'C': 0.5, 'coef0': 0.0, 'degree': 2, 'gamma': 1, 'kernel': 'poly'}\n",
      "Iterazione 105: F1-Score 0.9361828388518229, Parametri {'C': 0.5, 'coef0': 0.0, 'degree': 3, 'gamma': 'scale', 'kernel': 'linear'}\n",
      "Iterazione 106: F1-Score 0.952627212826741, Parametri {'C': 0.5, 'coef0': 0.0, 'degree': 3, 'gamma': 'scale', 'kernel': 'rbf'}\n",
      "Iterazione 107: F1-Score 0.870709528495197, Parametri {'C': 0.5, 'coef0': 0.0, 'degree': 3, 'gamma': 'scale', 'kernel': 'poly'}\n",
      "Iterazione 108: F1-Score 0.9361828388518229, Parametri {'C': 0.5, 'coef0': 0.0, 'degree': 3, 'gamma': 'auto', 'kernel': 'linear'}\n",
      "Iterazione 109: F1-Score 0.9520610383876404, Parametri {'C': 0.5, 'coef0': 0.0, 'degree': 3, 'gamma': 'auto', 'kernel': 'rbf'}\n",
      "Iterazione 110: F1-Score 0.8669627282152217, Parametri {'C': 0.5, 'coef0': 0.0, 'degree': 3, 'gamma': 'auto', 'kernel': 'poly'}\n",
      "Iterazione 111: F1-Score 0.9361828388518229, Parametri {'C': 0.5, 'coef0': 0.0, 'degree': 3, 'gamma': 0.1, 'kernel': 'linear'}\n",
      "Iterazione 112: F1-Score 0.9578997238516294, Parametri {'C': 0.5, 'coef0': 0.0, 'degree': 3, 'gamma': 0.1, 'kernel': 'rbf'}\n",
      "Iterazione 113: F1-Score 0.8898622593458754, Parametri {'C': 0.5, 'coef0': 0.0, 'degree': 3, 'gamma': 0.1, 'kernel': 'poly'}\n",
      "Iterazione 114: F1-Score 0.9361828388518229, Parametri {'C': 0.5, 'coef0': 0.0, 'degree': 3, 'gamma': 0.5, 'kernel': 'linear'}\n",
      "Iterazione 115: F1-Score 0.9710836892440415, Parametri {'C': 0.5, 'coef0': 0.0, 'degree': 3, 'gamma': 0.5, 'kernel': 'rbf'}\n",
      "Iterazione 116: F1-Score 0.9574334036859697, Parametri {'C': 0.5, 'coef0': 0.0, 'degree': 3, 'gamma': 0.5, 'kernel': 'poly'}\n",
      "Iterazione 117: F1-Score 0.9361828388518229, Parametri {'C': 0.5, 'coef0': 0.0, 'degree': 3, 'gamma': 1, 'kernel': 'linear'}\n",
      "Iterazione 118: F1-Score 0.9758397424330607, Parametri {'C': 0.5, 'coef0': 0.0, 'degree': 3, 'gamma': 1, 'kernel': 'rbf'}\n",
      "Iterazione 119: F1-Score 0.9725328951126919, Parametri {'C': 0.5, 'coef0': 0.0, 'degree': 3, 'gamma': 1, 'kernel': 'poly'}\n",
      "Iterazione 120: F1-Score 0.9361828388518229, Parametri {'C': 0.5, 'coef0': 0.5, 'degree': 2, 'gamma': 'scale', 'kernel': 'linear'}\n",
      "Iterazione 121: F1-Score 0.952627212826741, Parametri {'C': 0.5, 'coef0': 0.5, 'degree': 2, 'gamma': 'scale', 'kernel': 'rbf'}\n",
      "Iterazione 122: F1-Score 0.9472764212821969, Parametri {'C': 0.5, 'coef0': 0.5, 'degree': 2, 'gamma': 'scale', 'kernel': 'poly'}\n",
      "Iterazione 123: F1-Score 0.9361828388518229, Parametri {'C': 0.5, 'coef0': 0.5, 'degree': 2, 'gamma': 'auto', 'kernel': 'linear'}\n",
      "Iterazione 124: F1-Score 0.9520610383876404, Parametri {'C': 0.5, 'coef0': 0.5, 'degree': 2, 'gamma': 'auto', 'kernel': 'rbf'}\n",
      "Iterazione 125: F1-Score 0.9455171060199676, Parametri {'C': 0.5, 'coef0': 0.5, 'degree': 2, 'gamma': 'auto', 'kernel': 'poly'}\n",
      "Iterazione 126: F1-Score 0.9361828388518229, Parametri {'C': 0.5, 'coef0': 0.5, 'degree': 2, 'gamma': 0.1, 'kernel': 'linear'}\n",
      "Iterazione 127: F1-Score 0.9578997238516294, Parametri {'C': 0.5, 'coef0': 0.5, 'degree': 2, 'gamma': 0.1, 'kernel': 'rbf'}\n",
      "Iterazione 128: F1-Score 0.9545220092691451, Parametri {'C': 0.5, 'coef0': 0.5, 'degree': 2, 'gamma': 0.1, 'kernel': 'poly'}\n",
      "Iterazione 129: F1-Score 0.9361828388518229, Parametri {'C': 0.5, 'coef0': 0.5, 'degree': 2, 'gamma': 0.5, 'kernel': 'linear'}\n",
      "Iterazione 130: F1-Score 0.9710836892440415, Parametri {'C': 0.5, 'coef0': 0.5, 'degree': 2, 'gamma': 0.5, 'kernel': 'rbf'}\n",
      "Iterazione 131: F1-Score 0.9649170710960409, Parametri {'C': 0.5, 'coef0': 0.5, 'degree': 2, 'gamma': 0.5, 'kernel': 'poly'}\n",
      "Iterazione 132: F1-Score 0.9361828388518229, Parametri {'C': 0.5, 'coef0': 0.5, 'degree': 2, 'gamma': 1, 'kernel': 'linear'}\n",
      "Iterazione 133: F1-Score 0.9758397424330607, Parametri {'C': 0.5, 'coef0': 0.5, 'degree': 2, 'gamma': 1, 'kernel': 'rbf'}\n",
      "Iterazione 134: F1-Score 0.9657158364555773, Parametri {'C': 0.5, 'coef0': 0.5, 'degree': 2, 'gamma': 1, 'kernel': 'poly'}\n",
      "Iterazione 135: F1-Score 0.9361828388518229, Parametri {'C': 0.5, 'coef0': 0.5, 'degree': 3, 'gamma': 'scale', 'kernel': 'linear'}\n",
      "Iterazione 136: F1-Score 0.952627212826741, Parametri {'C': 0.5, 'coef0': 0.5, 'degree': 3, 'gamma': 'scale', 'kernel': 'rbf'}\n",
      "Iterazione 137: F1-Score 0.9519648873609066, Parametri {'C': 0.5, 'coef0': 0.5, 'degree': 3, 'gamma': 'scale', 'kernel': 'poly'}\n",
      "Iterazione 138: F1-Score 0.9361828388518229, Parametri {'C': 0.5, 'coef0': 0.5, 'degree': 3, 'gamma': 'auto', 'kernel': 'linear'}\n",
      "Iterazione 139: F1-Score 0.9520610383876404, Parametri {'C': 0.5, 'coef0': 0.5, 'degree': 3, 'gamma': 'auto', 'kernel': 'rbf'}\n",
      "Iterazione 140: F1-Score 0.9502335718711883, Parametri {'C': 0.5, 'coef0': 0.5, 'degree': 3, 'gamma': 'auto', 'kernel': 'poly'}\n",
      "Iterazione 141: F1-Score 0.9361828388518229, Parametri {'C': 0.5, 'coef0': 0.5, 'degree': 3, 'gamma': 0.1, 'kernel': 'linear'}\n",
      "Iterazione 142: F1-Score 0.9578997238516294, Parametri {'C': 0.5, 'coef0': 0.5, 'degree': 3, 'gamma': 0.1, 'kernel': 'rbf'}\n",
      "Iterazione 143: F1-Score 0.9585163638721118, Parametri {'C': 0.5, 'coef0': 0.5, 'degree': 3, 'gamma': 0.1, 'kernel': 'poly'}\n",
      "Iterazione 144: F1-Score 0.9361828388518229, Parametri {'C': 0.5, 'coef0': 0.5, 'degree': 3, 'gamma': 0.5, 'kernel': 'linear'}\n",
      "Iterazione 145: F1-Score 0.9710836892440415, Parametri {'C': 0.5, 'coef0': 0.5, 'degree': 3, 'gamma': 0.5, 'kernel': 'rbf'}\n",
      "Iterazione 146: F1-Score 0.9735228912522391, Parametri {'C': 0.5, 'coef0': 0.5, 'degree': 3, 'gamma': 0.5, 'kernel': 'poly'}\n",
      "Iterazione 147: F1-Score 0.9361828388518229, Parametri {'C': 0.5, 'coef0': 0.5, 'degree': 3, 'gamma': 1, 'kernel': 'linear'}\n",
      "Iterazione 148: F1-Score 0.9758397424330607, Parametri {'C': 0.5, 'coef0': 0.5, 'degree': 3, 'gamma': 1, 'kernel': 'rbf'}\n",
      "Iterazione 149: F1-Score 0.9782359481836357, Parametri {'C': 0.5, 'coef0': 0.5, 'degree': 3, 'gamma': 1, 'kernel': 'poly'}\n",
      "Iterazione 150: F1-Score 0.9361828388518229, Parametri {'C': 0.5, 'coef0': 1.0, 'degree': 2, 'gamma': 'scale', 'kernel': 'linear'}\n",
      "Iterazione 151: F1-Score 0.952627212826741, Parametri {'C': 0.5, 'coef0': 1.0, 'degree': 2, 'gamma': 'scale', 'kernel': 'rbf'}\n",
      "Iterazione 152: F1-Score 0.9515434571476966, Parametri {'C': 0.5, 'coef0': 1.0, 'degree': 2, 'gamma': 'scale', 'kernel': 'poly'}\n",
      "Iterazione 153: F1-Score 0.9361828388518229, Parametri {'C': 0.5, 'coef0': 1.0, 'degree': 2, 'gamma': 'auto', 'kernel': 'linear'}\n",
      "Iterazione 154: F1-Score 0.9520610383876404, Parametri {'C': 0.5, 'coef0': 1.0, 'degree': 2, 'gamma': 'auto', 'kernel': 'rbf'}\n",
      "Iterazione 155: F1-Score 0.9494820000675708, Parametri {'C': 0.5, 'coef0': 1.0, 'degree': 2, 'gamma': 'auto', 'kernel': 'poly'}\n",
      "Iterazione 156: F1-Score 0.9361828388518229, Parametri {'C': 0.5, 'coef0': 1.0, 'degree': 2, 'gamma': 0.1, 'kernel': 'linear'}\n",
      "Iterazione 157: F1-Score 0.9578997238516294, Parametri {'C': 0.5, 'coef0': 1.0, 'degree': 2, 'gamma': 0.1, 'kernel': 'rbf'}\n",
      "Iterazione 158: F1-Score 0.9559004428854381, Parametri {'C': 0.5, 'coef0': 1.0, 'degree': 2, 'gamma': 0.1, 'kernel': 'poly'}\n",
      "Iterazione 159: F1-Score 0.9361828388518229, Parametri {'C': 0.5, 'coef0': 1.0, 'degree': 2, 'gamma': 0.5, 'kernel': 'linear'}\n",
      "Iterazione 160: F1-Score 0.9710836892440415, Parametri {'C': 0.5, 'coef0': 1.0, 'degree': 2, 'gamma': 0.5, 'kernel': 'rbf'}\n",
      "Iterazione 161: F1-Score 0.9656225857201172, Parametri {'C': 0.5, 'coef0': 1.0, 'degree': 2, 'gamma': 0.5, 'kernel': 'poly'}\n",
      "Iterazione 162: F1-Score 0.9361828388518229, Parametri {'C': 0.5, 'coef0': 1.0, 'degree': 2, 'gamma': 1, 'kernel': 'linear'}\n",
      "Iterazione 163: F1-Score 0.9758397424330607, Parametri {'C': 0.5, 'coef0': 1.0, 'degree': 2, 'gamma': 1, 'kernel': 'rbf'}\n",
      "Iterazione 164: F1-Score 0.9689609833233821, Parametri {'C': 0.5, 'coef0': 1.0, 'degree': 2, 'gamma': 1, 'kernel': 'poly'}\n",
      "Iterazione 165: F1-Score 0.9361828388518229, Parametri {'C': 0.5, 'coef0': 1.0, 'degree': 3, 'gamma': 'scale', 'kernel': 'linear'}\n",
      "Iterazione 166: F1-Score 0.952627212826741, Parametri {'C': 0.5, 'coef0': 1.0, 'degree': 3, 'gamma': 'scale', 'kernel': 'rbf'}\n",
      "Iterazione 167: F1-Score 0.9607827610126563, Parametri {'C': 0.5, 'coef0': 1.0, 'degree': 3, 'gamma': 'scale', 'kernel': 'poly'}\n",
      "Iterazione 168: F1-Score 0.9361828388518229, Parametri {'C': 0.5, 'coef0': 1.0, 'degree': 3, 'gamma': 'auto', 'kernel': 'linear'}\n",
      "Iterazione 169: F1-Score 0.9520610383876404, Parametri {'C': 0.5, 'coef0': 1.0, 'degree': 3, 'gamma': 'auto', 'kernel': 'rbf'}\n",
      "Iterazione 170: F1-Score 0.9600863403203055, Parametri {'C': 0.5, 'coef0': 1.0, 'degree': 3, 'gamma': 'auto', 'kernel': 'poly'}\n",
      "Iterazione 171: F1-Score 0.9361828388518229, Parametri {'C': 0.5, 'coef0': 1.0, 'degree': 3, 'gamma': 0.1, 'kernel': 'linear'}\n",
      "Iterazione 172: F1-Score 0.9578997238516294, Parametri {'C': 0.5, 'coef0': 1.0, 'degree': 3, 'gamma': 0.1, 'kernel': 'rbf'}\n",
      "Iterazione 173: F1-Score 0.9630903362073013, Parametri {'C': 0.5, 'coef0': 1.0, 'degree': 3, 'gamma': 0.1, 'kernel': 'poly'}\n",
      "Iterazione 174: F1-Score 0.9361828388518229, Parametri {'C': 0.5, 'coef0': 1.0, 'degree': 3, 'gamma': 0.5, 'kernel': 'linear'}\n",
      "Iterazione 175: F1-Score 0.9710836892440415, Parametri {'C': 0.5, 'coef0': 1.0, 'degree': 3, 'gamma': 0.5, 'kernel': 'rbf'}\n",
      "Iterazione 176: F1-Score 0.9762779939490589, Parametri {'C': 0.5, 'coef0': 1.0, 'degree': 3, 'gamma': 0.5, 'kernel': 'poly'}\n",
      "Iterazione 177: F1-Score 0.9361828388518229, Parametri {'C': 0.5, 'coef0': 1.0, 'degree': 3, 'gamma': 1, 'kernel': 'linear'}\n",
      "Iterazione 178: F1-Score 0.9758397424330607, Parametri {'C': 0.5, 'coef0': 1.0, 'degree': 3, 'gamma': 1, 'kernel': 'rbf'}\n",
      "Iterazione 179: F1-Score 0.9806444803525594, Parametri {'C': 0.5, 'coef0': 1.0, 'degree': 3, 'gamma': 1, 'kernel': 'poly'}\n",
      "Iterazione 180: F1-Score 0.9376288995026437, Parametri {'C': 1.0, 'coef0': 0.0, 'degree': 2, 'gamma': 'scale', 'kernel': 'linear'}\n",
      "Iterazione 181: F1-Score 0.9606223435516631, Parametri {'C': 1.0, 'coef0': 0.0, 'degree': 2, 'gamma': 'scale', 'kernel': 'rbf'}\n",
      "Iterazione 182: F1-Score 0.9233140042522999, Parametri {'C': 1.0, 'coef0': 0.0, 'degree': 2, 'gamma': 'scale', 'kernel': 'poly'}\n",
      "Iterazione 183: F1-Score 0.9376288995026437, Parametri {'C': 1.0, 'coef0': 0.0, 'degree': 2, 'gamma': 'auto', 'kernel': 'linear'}\n",
      "Iterazione 184: F1-Score 0.9602582868728291, Parametri {'C': 1.0, 'coef0': 0.0, 'degree': 2, 'gamma': 'auto', 'kernel': 'rbf'}\n",
      "Iterazione 185: F1-Score 0.9212610667683705, Parametri {'C': 1.0, 'coef0': 0.0, 'degree': 2, 'gamma': 'auto', 'kernel': 'poly'}\n",
      "Iterazione 186: F1-Score 0.9376288995026437, Parametri {'C': 1.0, 'coef0': 0.0, 'degree': 2, 'gamma': 0.1, 'kernel': 'linear'}\n",
      "Iterazione 187: F1-Score 0.9633215565896677, Parametri {'C': 1.0, 'coef0': 0.0, 'degree': 2, 'gamma': 0.1, 'kernel': 'rbf'}\n",
      "Iterazione 188: F1-Score 0.9321165577935521, Parametri {'C': 1.0, 'coef0': 0.0, 'degree': 2, 'gamma': 0.1, 'kernel': 'poly'}\n",
      "Iterazione 189: F1-Score 0.9376288995026437, Parametri {'C': 1.0, 'coef0': 0.0, 'degree': 2, 'gamma': 0.5, 'kernel': 'linear'}\n",
      "Iterazione 190: F1-Score 0.9763254315076665, Parametri {'C': 1.0, 'coef0': 0.0, 'degree': 2, 'gamma': 0.5, 'kernel': 'rbf'}\n",
      "Iterazione 191: F1-Score 0.9522826480827193, Parametri {'C': 1.0, 'coef0': 0.0, 'degree': 2, 'gamma': 0.5, 'kernel': 'poly'}\n",
      "Iterazione 192: F1-Score 0.9376288995026437, Parametri {'C': 1.0, 'coef0': 0.0, 'degree': 2, 'gamma': 1, 'kernel': 'linear'}\n",
      "Iterazione 193: F1-Score 0.9785872487172117, Parametri {'C': 1.0, 'coef0': 0.0, 'degree': 2, 'gamma': 1, 'kernel': 'rbf'}\n",
      "Iterazione 194: F1-Score 0.9577611217205204, Parametri {'C': 1.0, 'coef0': 0.0, 'degree': 2, 'gamma': 1, 'kernel': 'poly'}\n",
      "Iterazione 195: F1-Score 0.9376288995026437, Parametri {'C': 1.0, 'coef0': 0.0, 'degree': 3, 'gamma': 'scale', 'kernel': 'linear'}\n",
      "Iterazione 196: F1-Score 0.9606223435516631, Parametri {'C': 1.0, 'coef0': 0.0, 'degree': 3, 'gamma': 'scale', 'kernel': 'rbf'}\n",
      "Iterazione 197: F1-Score 0.8833980601914048, Parametri {'C': 1.0, 'coef0': 0.0, 'degree': 3, 'gamma': 'scale', 'kernel': 'poly'}\n",
      "Iterazione 198: F1-Score 0.9376288995026437, Parametri {'C': 1.0, 'coef0': 0.0, 'degree': 3, 'gamma': 'auto', 'kernel': 'linear'}\n",
      "Iterazione 199: F1-Score 0.9602582868728291, Parametri {'C': 1.0, 'coef0': 0.0, 'degree': 3, 'gamma': 'auto', 'kernel': 'rbf'}\n",
      "Iterazione 200: F1-Score 0.8785819233720129, Parametri {'C': 1.0, 'coef0': 0.0, 'degree': 3, 'gamma': 'auto', 'kernel': 'poly'}\n",
      "Iterazione 201: F1-Score 0.9376288995026437, Parametri {'C': 1.0, 'coef0': 0.0, 'degree': 3, 'gamma': 0.1, 'kernel': 'linear'}\n",
      "Iterazione 202: F1-Score 0.9633215565896677, Parametri {'C': 1.0, 'coef0': 0.0, 'degree': 3, 'gamma': 0.1, 'kernel': 'rbf'}\n",
      "Iterazione 203: F1-Score 0.9020952334412812, Parametri {'C': 1.0, 'coef0': 0.0, 'degree': 3, 'gamma': 0.1, 'kernel': 'poly'}\n",
      "Iterazione 204: F1-Score 0.9376288995026437, Parametri {'C': 1.0, 'coef0': 0.0, 'degree': 3, 'gamma': 0.5, 'kernel': 'linear'}\n",
      "Iterazione 205: F1-Score 0.9763254315076665, Parametri {'C': 1.0, 'coef0': 0.0, 'degree': 3, 'gamma': 0.5, 'kernel': 'rbf'}\n",
      "Iterazione 206: F1-Score 0.9637339274482624, Parametri {'C': 1.0, 'coef0': 0.0, 'degree': 3, 'gamma': 0.5, 'kernel': 'poly'}\n",
      "Iterazione 207: F1-Score 0.9376288995026437, Parametri {'C': 1.0, 'coef0': 0.0, 'degree': 3, 'gamma': 1, 'kernel': 'linear'}\n",
      "Iterazione 208: F1-Score 0.9785872487172117, Parametri {'C': 1.0, 'coef0': 0.0, 'degree': 3, 'gamma': 1, 'kernel': 'rbf'}\n",
      "Iterazione 209: F1-Score 0.972592975234113, Parametri {'C': 1.0, 'coef0': 0.0, 'degree': 3, 'gamma': 1, 'kernel': 'poly'}\n",
      "Iterazione 210: F1-Score 0.9376288995026437, Parametri {'C': 1.0, 'coef0': 0.5, 'degree': 2, 'gamma': 'scale', 'kernel': 'linear'}\n",
      "Iterazione 211: F1-Score 0.9606223435516631, Parametri {'C': 1.0, 'coef0': 0.5, 'degree': 2, 'gamma': 'scale', 'kernel': 'rbf'}\n",
      "Iterazione 212: F1-Score 0.9555205817293416, Parametri {'C': 1.0, 'coef0': 0.5, 'degree': 2, 'gamma': 'scale', 'kernel': 'poly'}\n",
      "Iterazione 213: F1-Score 0.9376288995026437, Parametri {'C': 1.0, 'coef0': 0.5, 'degree': 2, 'gamma': 'auto', 'kernel': 'linear'}\n",
      "Iterazione 214: F1-Score 0.9602582868728291, Parametri {'C': 1.0, 'coef0': 0.5, 'degree': 2, 'gamma': 'auto', 'kernel': 'rbf'}\n",
      "Iterazione 215: F1-Score 0.9552766104547, Parametri {'C': 1.0, 'coef0': 0.5, 'degree': 2, 'gamma': 'auto', 'kernel': 'poly'}\n",
      "Iterazione 216: F1-Score 0.9376288995026437, Parametri {'C': 1.0, 'coef0': 0.5, 'degree': 2, 'gamma': 0.1, 'kernel': 'linear'}\n",
      "Iterazione 217: F1-Score 0.9633215565896677, Parametri {'C': 1.0, 'coef0': 0.5, 'degree': 2, 'gamma': 0.1, 'kernel': 'rbf'}\n",
      "Iterazione 218: F1-Score 0.9594960603147268, Parametri {'C': 1.0, 'coef0': 0.5, 'degree': 2, 'gamma': 0.1, 'kernel': 'poly'}\n",
      "Iterazione 219: F1-Score 0.9376288995026437, Parametri {'C': 1.0, 'coef0': 0.5, 'degree': 2, 'gamma': 0.5, 'kernel': 'linear'}\n",
      "Iterazione 220: F1-Score 0.9763254315076665, Parametri {'C': 1.0, 'coef0': 0.5, 'degree': 2, 'gamma': 0.5, 'kernel': 'rbf'}\n",
      "Iterazione 221: F1-Score 0.9658697739224543, Parametri {'C': 1.0, 'coef0': 0.5, 'degree': 2, 'gamma': 0.5, 'kernel': 'poly'}\n",
      "Iterazione 222: F1-Score 0.9376288995026437, Parametri {'C': 1.0, 'coef0': 0.5, 'degree': 2, 'gamma': 1, 'kernel': 'linear'}\n",
      "Iterazione 223: F1-Score 0.9785872487172117, Parametri {'C': 1.0, 'coef0': 0.5, 'degree': 2, 'gamma': 1, 'kernel': 'rbf'}\n",
      "Iterazione 224: F1-Score 0.9689476872152456, Parametri {'C': 1.0, 'coef0': 0.5, 'degree': 2, 'gamma': 1, 'kernel': 'poly'}\n",
      "Iterazione 225: F1-Score 0.9376288995026437, Parametri {'C': 1.0, 'coef0': 0.5, 'degree': 3, 'gamma': 'scale', 'kernel': 'linear'}\n",
      "Iterazione 226: F1-Score 0.9606223435516631, Parametri {'C': 1.0, 'coef0': 0.5, 'degree': 3, 'gamma': 'scale', 'kernel': 'rbf'}\n",
      "Iterazione 227: F1-Score 0.9574804658262741, Parametri {'C': 1.0, 'coef0': 0.5, 'degree': 3, 'gamma': 'scale', 'kernel': 'poly'}\n",
      "Iterazione 228: F1-Score 0.9376288995026437, Parametri {'C': 1.0, 'coef0': 0.5, 'degree': 3, 'gamma': 'auto', 'kernel': 'linear'}\n",
      "Iterazione 229: F1-Score 0.9602582868728291, Parametri {'C': 1.0, 'coef0': 0.5, 'degree': 3, 'gamma': 'auto', 'kernel': 'rbf'}\n",
      "Iterazione 230: F1-Score 0.9559681152814022, Parametri {'C': 1.0, 'coef0': 0.5, 'degree': 3, 'gamma': 'auto', 'kernel': 'poly'}\n",
      "Iterazione 231: F1-Score 0.9376288995026437, Parametri {'C': 1.0, 'coef0': 0.5, 'degree': 3, 'gamma': 0.1, 'kernel': 'linear'}\n",
      "Iterazione 232: F1-Score 0.9633215565896677, Parametri {'C': 1.0, 'coef0': 0.5, 'degree': 3, 'gamma': 0.1, 'kernel': 'rbf'}\n",
      "Iterazione 233: F1-Score 0.9620699347315224, Parametri {'C': 1.0, 'coef0': 0.5, 'degree': 3, 'gamma': 0.1, 'kernel': 'poly'}\n",
      "Iterazione 234: F1-Score 0.9376288995026437, Parametri {'C': 1.0, 'coef0': 0.5, 'degree': 3, 'gamma': 0.5, 'kernel': 'linear'}\n",
      "Iterazione 235: F1-Score 0.9763254315076665, Parametri {'C': 1.0, 'coef0': 0.5, 'degree': 3, 'gamma': 0.5, 'kernel': 'rbf'}\n",
      "Iterazione 236: F1-Score 0.9762860908339841, Parametri {'C': 1.0, 'coef0': 0.5, 'degree': 3, 'gamma': 0.5, 'kernel': 'poly'}\n",
      "Iterazione 237: F1-Score 0.9376288995026437, Parametri {'C': 1.0, 'coef0': 0.5, 'degree': 3, 'gamma': 1, 'kernel': 'linear'}\n",
      "Iterazione 238: F1-Score 0.9785872487172117, Parametri {'C': 1.0, 'coef0': 0.5, 'degree': 3, 'gamma': 1, 'kernel': 'rbf'}\n",
      "Iterazione 239: F1-Score 0.9804214093361343, Parametri {'C': 1.0, 'coef0': 0.5, 'degree': 3, 'gamma': 1, 'kernel': 'poly'}\n",
      "Iterazione 240: F1-Score 0.9376288995026437, Parametri {'C': 1.0, 'coef0': 1.0, 'degree': 2, 'gamma': 'scale', 'kernel': 'linear'}\n",
      "Iterazione 241: F1-Score 0.9606223435516631, Parametri {'C': 1.0, 'coef0': 1.0, 'degree': 2, 'gamma': 'scale', 'kernel': 'rbf'}\n",
      "Iterazione 242: F1-Score 0.9565971086000061, Parametri {'C': 1.0, 'coef0': 1.0, 'degree': 2, 'gamma': 'scale', 'kernel': 'poly'}\n",
      "Iterazione 243: F1-Score 0.9376288995026437, Parametri {'C': 1.0, 'coef0': 1.0, 'degree': 2, 'gamma': 'auto', 'kernel': 'linear'}\n",
      "Iterazione 244: F1-Score 0.9602582868728291, Parametri {'C': 1.0, 'coef0': 1.0, 'degree': 2, 'gamma': 'auto', 'kernel': 'rbf'}\n",
      "Iterazione 245: F1-Score 0.9557877080412904, Parametri {'C': 1.0, 'coef0': 1.0, 'degree': 2, 'gamma': 'auto', 'kernel': 'poly'}\n",
      "Iterazione 246: F1-Score 0.9376288995026437, Parametri {'C': 1.0, 'coef0': 1.0, 'degree': 2, 'gamma': 0.1, 'kernel': 'linear'}\n",
      "Iterazione 247: F1-Score 0.9633215565896677, Parametri {'C': 1.0, 'coef0': 1.0, 'degree': 2, 'gamma': 0.1, 'kernel': 'rbf'}\n",
      "Iterazione 248: F1-Score 0.9595186258241089, Parametri {'C': 1.0, 'coef0': 1.0, 'degree': 2, 'gamma': 0.1, 'kernel': 'poly'}\n",
      "Iterazione 249: F1-Score 0.9376288995026437, Parametri {'C': 1.0, 'coef0': 1.0, 'degree': 2, 'gamma': 0.5, 'kernel': 'linear'}\n",
      "Iterazione 250: F1-Score 0.9763254315076665, Parametri {'C': 1.0, 'coef0': 1.0, 'degree': 2, 'gamma': 0.5, 'kernel': 'rbf'}\n",
      "Iterazione 251: F1-Score 0.9676286776092071, Parametri {'C': 1.0, 'coef0': 1.0, 'degree': 2, 'gamma': 0.5, 'kernel': 'poly'}\n",
      "Iterazione 252: F1-Score 0.9376288995026437, Parametri {'C': 1.0, 'coef0': 1.0, 'degree': 2, 'gamma': 1, 'kernel': 'linear'}\n",
      "Iterazione 253: F1-Score 0.9785872487172117, Parametri {'C': 1.0, 'coef0': 1.0, 'degree': 2, 'gamma': 1, 'kernel': 'rbf'}\n",
      "Iterazione 254: F1-Score 0.9705032449749297, Parametri {'C': 1.0, 'coef0': 1.0, 'degree': 2, 'gamma': 1, 'kernel': 'poly'}\n",
      "Iterazione 255: F1-Score 0.9376288995026437, Parametri {'C': 1.0, 'coef0': 1.0, 'degree': 3, 'gamma': 'scale', 'kernel': 'linear'}\n",
      "Iterazione 256: F1-Score 0.9606223435516631, Parametri {'C': 1.0, 'coef0': 1.0, 'degree': 3, 'gamma': 'scale', 'kernel': 'rbf'}\n",
      "Iterazione 257: F1-Score 0.9625259295486762, Parametri {'C': 1.0, 'coef0': 1.0, 'degree': 3, 'gamma': 'scale', 'kernel': 'poly'}\n",
      "Iterazione 258: F1-Score 0.9376288995026437, Parametri {'C': 1.0, 'coef0': 1.0, 'degree': 3, 'gamma': 'auto', 'kernel': 'linear'}\n",
      "Iterazione 259: F1-Score 0.9602582868728291, Parametri {'C': 1.0, 'coef0': 1.0, 'degree': 3, 'gamma': 'auto', 'kernel': 'rbf'}\n",
      "Iterazione 260: F1-Score 0.9615798149331661, Parametri {'C': 1.0, 'coef0': 1.0, 'degree': 3, 'gamma': 'auto', 'kernel': 'poly'}\n",
      "Iterazione 261: F1-Score 0.9376288995026437, Parametri {'C': 1.0, 'coef0': 1.0, 'degree': 3, 'gamma': 0.1, 'kernel': 'linear'}\n",
      "Iterazione 262: F1-Score 0.9633215565896677, Parametri {'C': 1.0, 'coef0': 1.0, 'degree': 3, 'gamma': 0.1, 'kernel': 'rbf'}\n",
      "Iterazione 263: F1-Score 0.9652565567230017, Parametri {'C': 1.0, 'coef0': 1.0, 'degree': 3, 'gamma': 0.1, 'kernel': 'poly'}\n",
      "Iterazione 264: F1-Score 0.9376288995026437, Parametri {'C': 1.0, 'coef0': 1.0, 'degree': 3, 'gamma': 0.5, 'kernel': 'linear'}\n",
      "Iterazione 265: F1-Score 0.9763254315076665, Parametri {'C': 1.0, 'coef0': 1.0, 'degree': 3, 'gamma': 0.5, 'kernel': 'rbf'}\n",
      "Iterazione 266: F1-Score 0.978705016724031, Parametri {'C': 1.0, 'coef0': 1.0, 'degree': 3, 'gamma': 0.5, 'kernel': 'poly'}\n",
      "Iterazione 267: F1-Score 0.9376288995026437, Parametri {'C': 1.0, 'coef0': 1.0, 'degree': 3, 'gamma': 1, 'kernel': 'linear'}\n",
      "Iterazione 268: F1-Score 0.9785872487172117, Parametri {'C': 1.0, 'coef0': 1.0, 'degree': 3, 'gamma': 1, 'kernel': 'rbf'}\n",
      "Iterazione 269: F1-Score 0.9830919974851982, Parametri {'C': 1.0, 'coef0': 1.0, 'degree': 3, 'gamma': 1, 'kernel': 'poly'}\n",
      "Iterazione 270: F1-Score 0.9382855134471371, Parametri {'C': 1.5, 'coef0': 0.0, 'degree': 2, 'gamma': 'scale', 'kernel': 'linear'}\n",
      "Iterazione 271: F1-Score 0.9614398905534026, Parametri {'C': 1.5, 'coef0': 0.0, 'degree': 2, 'gamma': 'scale', 'kernel': 'rbf'}\n",
      "Iterazione 272: F1-Score 0.9293602981840919, Parametri {'C': 1.5, 'coef0': 0.0, 'degree': 2, 'gamma': 'scale', 'kernel': 'poly'}\n",
      "Iterazione 273: F1-Score 0.9382855134471371, Parametri {'C': 1.5, 'coef0': 0.0, 'degree': 2, 'gamma': 'auto', 'kernel': 'linear'}\n",
      "Iterazione 274: F1-Score 0.9610972813682194, Parametri {'C': 1.5, 'coef0': 0.0, 'degree': 2, 'gamma': 'auto', 'kernel': 'rbf'}\n",
      "Iterazione 275: F1-Score 0.927365011009998, Parametri {'C': 1.5, 'coef0': 0.0, 'degree': 2, 'gamma': 'auto', 'kernel': 'poly'}\n",
      "Iterazione 276: F1-Score 0.9382855134471371, Parametri {'C': 1.5, 'coef0': 0.0, 'degree': 2, 'gamma': 0.1, 'kernel': 'linear'}\n",
      "Iterazione 277: F1-Score 0.9664306072411423, Parametri {'C': 1.5, 'coef0': 0.0, 'degree': 2, 'gamma': 0.1, 'kernel': 'rbf'}\n",
      "Iterazione 278: F1-Score 0.939728604773413, Parametri {'C': 1.5, 'coef0': 0.0, 'degree': 2, 'gamma': 0.1, 'kernel': 'poly'}\n",
      "Iterazione 279: F1-Score 0.9382855134471371, Parametri {'C': 1.5, 'coef0': 0.0, 'degree': 2, 'gamma': 0.5, 'kernel': 'linear'}\n",
      "Iterazione 280: F1-Score 0.9780556615350345, Parametri {'C': 1.5, 'coef0': 0.0, 'degree': 2, 'gamma': 0.5, 'kernel': 'rbf'}\n",
      "Iterazione 281: F1-Score 0.9537765801005236, Parametri {'C': 1.5, 'coef0': 0.0, 'degree': 2, 'gamma': 0.5, 'kernel': 'poly'}\n",
      "Iterazione 282: F1-Score 0.9382855134471371, Parametri {'C': 1.5, 'coef0': 0.0, 'degree': 2, 'gamma': 1, 'kernel': 'linear'}\n",
      "Iterazione 283: F1-Score 0.9803680136662141, Parametri {'C': 1.5, 'coef0': 0.0, 'degree': 2, 'gamma': 1, 'kernel': 'rbf'}\n",
      "Iterazione 284: F1-Score 0.9612361238760379, Parametri {'C': 1.5, 'coef0': 0.0, 'degree': 2, 'gamma': 1, 'kernel': 'poly'}\n",
      "Iterazione 285: F1-Score 0.9382855134471371, Parametri {'C': 1.5, 'coef0': 0.0, 'degree': 3, 'gamma': 'scale', 'kernel': 'linear'}\n",
      "Iterazione 286: F1-Score 0.9614398905534026, Parametri {'C': 1.5, 'coef0': 0.0, 'degree': 3, 'gamma': 'scale', 'kernel': 'rbf'}\n",
      "Iterazione 287: F1-Score 0.8922307699493957, Parametri {'C': 1.5, 'coef0': 0.0, 'degree': 3, 'gamma': 'scale', 'kernel': 'poly'}\n",
      "Iterazione 288: F1-Score 0.9382855134471371, Parametri {'C': 1.5, 'coef0': 0.0, 'degree': 3, 'gamma': 'auto', 'kernel': 'linear'}\n",
      "Iterazione 289: F1-Score 0.9610972813682194, Parametri {'C': 1.5, 'coef0': 0.0, 'degree': 3, 'gamma': 'auto', 'kernel': 'rbf'}\n",
      "Iterazione 290: F1-Score 0.8877746673602294, Parametri {'C': 1.5, 'coef0': 0.0, 'degree': 3, 'gamma': 'auto', 'kernel': 'poly'}\n",
      "Iterazione 291: F1-Score 0.9382855134471371, Parametri {'C': 1.5, 'coef0': 0.0, 'degree': 3, 'gamma': 0.1, 'kernel': 'linear'}\n",
      "Iterazione 292: F1-Score 0.9664306072411423, Parametri {'C': 1.5, 'coef0': 0.0, 'degree': 3, 'gamma': 0.1, 'kernel': 'rbf'}\n",
      "Iterazione 293: F1-Score 0.9103444544697407, Parametri {'C': 1.5, 'coef0': 0.0, 'degree': 3, 'gamma': 0.1, 'kernel': 'poly'}\n",
      "Iterazione 294: F1-Score 0.9382855134471371, Parametri {'C': 1.5, 'coef0': 0.0, 'degree': 3, 'gamma': 0.5, 'kernel': 'linear'}\n",
      "Iterazione 295: F1-Score 0.9780556615350345, Parametri {'C': 1.5, 'coef0': 0.0, 'degree': 3, 'gamma': 0.5, 'kernel': 'rbf'}\n",
      "Iterazione 296: F1-Score 0.9683349641655659, Parametri {'C': 1.5, 'coef0': 0.0, 'degree': 3, 'gamma': 0.5, 'kernel': 'poly'}\n",
      "Iterazione 297: F1-Score 0.9382855134471371, Parametri {'C': 1.5, 'coef0': 0.0, 'degree': 3, 'gamma': 1, 'kernel': 'linear'}\n",
      "Iterazione 298: F1-Score 0.9803680136662141, Parametri {'C': 1.5, 'coef0': 0.0, 'degree': 3, 'gamma': 1, 'kernel': 'rbf'}\n",
      "Iterazione 299: F1-Score 0.9753505830149354, Parametri {'C': 1.5, 'coef0': 0.0, 'degree': 3, 'gamma': 1, 'kernel': 'poly'}\n",
      "Iterazione 300: F1-Score 0.9382855134471371, Parametri {'C': 1.5, 'coef0': 0.5, 'degree': 2, 'gamma': 'scale', 'kernel': 'linear'}\n",
      "Iterazione 301: F1-Score 0.9614398905534026, Parametri {'C': 1.5, 'coef0': 0.5, 'degree': 2, 'gamma': 'scale', 'kernel': 'rbf'}\n",
      "Iterazione 302: F1-Score 0.958688049890408, Parametri {'C': 1.5, 'coef0': 0.5, 'degree': 2, 'gamma': 'scale', 'kernel': 'poly'}\n",
      "Iterazione 303: F1-Score 0.9382855134471371, Parametri {'C': 1.5, 'coef0': 0.5, 'degree': 2, 'gamma': 'auto', 'kernel': 'linear'}\n",
      "Iterazione 304: F1-Score 0.9610972813682194, Parametri {'C': 1.5, 'coef0': 0.5, 'degree': 2, 'gamma': 'auto', 'kernel': 'rbf'}\n",
      "Iterazione 305: F1-Score 0.9576484443115725, Parametri {'C': 1.5, 'coef0': 0.5, 'degree': 2, 'gamma': 'auto', 'kernel': 'poly'}\n",
      "Iterazione 306: F1-Score 0.9382855134471371, Parametri {'C': 1.5, 'coef0': 0.5, 'degree': 2, 'gamma': 0.1, 'kernel': 'linear'}\n",
      "Iterazione 307: F1-Score 0.9664306072411423, Parametri {'C': 1.5, 'coef0': 0.5, 'degree': 2, 'gamma': 0.1, 'kernel': 'rbf'}\n",
      "Iterazione 308: F1-Score 0.9607929374125078, Parametri {'C': 1.5, 'coef0': 0.5, 'degree': 2, 'gamma': 0.1, 'kernel': 'poly'}\n",
      "Iterazione 309: F1-Score 0.9382855134471371, Parametri {'C': 1.5, 'coef0': 0.5, 'degree': 2, 'gamma': 0.5, 'kernel': 'linear'}\n",
      "Iterazione 310: F1-Score 0.9780556615350345, Parametri {'C': 1.5, 'coef0': 0.5, 'degree': 2, 'gamma': 0.5, 'kernel': 'rbf'}\n",
      "Iterazione 311: F1-Score 0.9679821153099294, Parametri {'C': 1.5, 'coef0': 0.5, 'degree': 2, 'gamma': 0.5, 'kernel': 'poly'}\n",
      "Iterazione 312: F1-Score 0.9382855134471371, Parametri {'C': 1.5, 'coef0': 0.5, 'degree': 2, 'gamma': 1, 'kernel': 'linear'}\n",
      "Iterazione 313: F1-Score 0.9803680136662141, Parametri {'C': 1.5, 'coef0': 0.5, 'degree': 2, 'gamma': 1, 'kernel': 'rbf'}\n",
      "Iterazione 314: F1-Score 0.9703851196672542, Parametri {'C': 1.5, 'coef0': 0.5, 'degree': 2, 'gamma': 1, 'kernel': 'poly'}\n",
      "Iterazione 315: F1-Score 0.9382855134471371, Parametri {'C': 1.5, 'coef0': 0.5, 'degree': 3, 'gamma': 'scale', 'kernel': 'linear'}\n",
      "Iterazione 316: F1-Score 0.9614398905534026, Parametri {'C': 1.5, 'coef0': 0.5, 'degree': 3, 'gamma': 'scale', 'kernel': 'rbf'}\n",
      "Iterazione 317: F1-Score 0.9614274170036401, Parametri {'C': 1.5, 'coef0': 0.5, 'degree': 3, 'gamma': 'scale', 'kernel': 'poly'}\n",
      "Iterazione 318: F1-Score 0.9382855134471371, Parametri {'C': 1.5, 'coef0': 0.5, 'degree': 3, 'gamma': 'auto', 'kernel': 'linear'}\n",
      "Iterazione 319: F1-Score 0.9610972813682194, Parametri {'C': 1.5, 'coef0': 0.5, 'degree': 3, 'gamma': 'auto', 'kernel': 'rbf'}\n",
      "Iterazione 320: F1-Score 0.9602699879872484, Parametri {'C': 1.5, 'coef0': 0.5, 'degree': 3, 'gamma': 'auto', 'kernel': 'poly'}\n",
      "Iterazione 321: F1-Score 0.9382855134471371, Parametri {'C': 1.5, 'coef0': 0.5, 'degree': 3, 'gamma': 0.1, 'kernel': 'linear'}\n",
      "Iterazione 322: F1-Score 0.9664306072411423, Parametri {'C': 1.5, 'coef0': 0.5, 'degree': 3, 'gamma': 0.1, 'kernel': 'rbf'}\n",
      "Iterazione 323: F1-Score 0.9660533510472277, Parametri {'C': 1.5, 'coef0': 0.5, 'degree': 3, 'gamma': 0.1, 'kernel': 'poly'}\n",
      "Iterazione 324: F1-Score 0.9382855134471371, Parametri {'C': 1.5, 'coef0': 0.5, 'degree': 3, 'gamma': 0.5, 'kernel': 'linear'}\n",
      "Iterazione 325: F1-Score 0.9780556615350345, Parametri {'C': 1.5, 'coef0': 0.5, 'degree': 3, 'gamma': 0.5, 'kernel': 'rbf'}\n",
      "Iterazione 326: F1-Score 0.9782358615294828, Parametri {'C': 1.5, 'coef0': 0.5, 'degree': 3, 'gamma': 0.5, 'kernel': 'poly'}\n",
      "Iterazione 327: F1-Score 0.9382855134471371, Parametri {'C': 1.5, 'coef0': 0.5, 'degree': 3, 'gamma': 1, 'kernel': 'linear'}\n",
      "Iterazione 328: F1-Score 0.9803680136662141, Parametri {'C': 1.5, 'coef0': 0.5, 'degree': 3, 'gamma': 1, 'kernel': 'rbf'}\n",
      "Iterazione 329: F1-Score 0.9822455114167769, Parametri {'C': 1.5, 'coef0': 0.5, 'degree': 3, 'gamma': 1, 'kernel': 'poly'}\n",
      "Iterazione 330: F1-Score 0.9382855134471371, Parametri {'C': 1.5, 'coef0': 1.0, 'degree': 2, 'gamma': 'scale', 'kernel': 'linear'}\n",
      "Iterazione 331: F1-Score 0.9614398905534026, Parametri {'C': 1.5, 'coef0': 1.0, 'degree': 2, 'gamma': 'scale', 'kernel': 'rbf'}\n",
      "Iterazione 332: F1-Score 0.9592725855295017, Parametri {'C': 1.5, 'coef0': 1.0, 'degree': 2, 'gamma': 'scale', 'kernel': 'poly'}\n",
      "Iterazione 333: F1-Score 0.9382855134471371, Parametri {'C': 1.5, 'coef0': 1.0, 'degree': 2, 'gamma': 'auto', 'kernel': 'linear'}\n",
      "Iterazione 334: F1-Score 0.9610972813682194, Parametri {'C': 1.5, 'coef0': 1.0, 'degree': 2, 'gamma': 'auto', 'kernel': 'rbf'}\n",
      "Iterazione 335: F1-Score 0.9582214752033165, Parametri {'C': 1.5, 'coef0': 1.0, 'degree': 2, 'gamma': 'auto', 'kernel': 'poly'}\n",
      "Iterazione 336: F1-Score 0.9382855134471371, Parametri {'C': 1.5, 'coef0': 1.0, 'degree': 2, 'gamma': 0.1, 'kernel': 'linear'}\n",
      "Iterazione 337: F1-Score 0.9664306072411423, Parametri {'C': 1.5, 'coef0': 1.0, 'degree': 2, 'gamma': 0.1, 'kernel': 'rbf'}\n",
      "Iterazione 338: F1-Score 0.9609222244727083, Parametri {'C': 1.5, 'coef0': 1.0, 'degree': 2, 'gamma': 0.1, 'kernel': 'poly'}\n",
      "Iterazione 339: F1-Score 0.9382855134471371, Parametri {'C': 1.5, 'coef0': 1.0, 'degree': 2, 'gamma': 0.5, 'kernel': 'linear'}\n",
      "Iterazione 340: F1-Score 0.9780556615350345, Parametri {'C': 1.5, 'coef0': 1.0, 'degree': 2, 'gamma': 0.5, 'kernel': 'rbf'}\n",
      "Iterazione 341: F1-Score 0.9686121142429907, Parametri {'C': 1.5, 'coef0': 1.0, 'degree': 2, 'gamma': 0.5, 'kernel': 'poly'}\n",
      "Iterazione 342: F1-Score 0.9382855134471371, Parametri {'C': 1.5, 'coef0': 1.0, 'degree': 2, 'gamma': 1, 'kernel': 'linear'}\n",
      "Iterazione 343: F1-Score 0.9803680136662141, Parametri {'C': 1.5, 'coef0': 1.0, 'degree': 2, 'gamma': 1, 'kernel': 'rbf'}\n",
      "Iterazione 344: F1-Score 0.9719361239439772, Parametri {'C': 1.5, 'coef0': 1.0, 'degree': 2, 'gamma': 1, 'kernel': 'poly'}\n",
      "Iterazione 345: F1-Score 0.9382855134471371, Parametri {'C': 1.5, 'coef0': 1.0, 'degree': 3, 'gamma': 'scale', 'kernel': 'linear'}\n",
      "Iterazione 346: F1-Score 0.9614398905534026, Parametri {'C': 1.5, 'coef0': 1.0, 'degree': 3, 'gamma': 'scale', 'kernel': 'rbf'}\n",
      "Iterazione 347: F1-Score 0.9640876007004622, Parametri {'C': 1.5, 'coef0': 1.0, 'degree': 3, 'gamma': 'scale', 'kernel': 'poly'}\n",
      "Iterazione 348: F1-Score 0.9382855134471371, Parametri {'C': 1.5, 'coef0': 1.0, 'degree': 3, 'gamma': 'auto', 'kernel': 'linear'}\n",
      "Iterazione 349: F1-Score 0.9610972813682194, Parametri {'C': 1.5, 'coef0': 1.0, 'degree': 3, 'gamma': 'auto', 'kernel': 'rbf'}\n",
      "Iterazione 350: F1-Score 0.9634766519673963, Parametri {'C': 1.5, 'coef0': 1.0, 'degree': 3, 'gamma': 'auto', 'kernel': 'poly'}\n",
      "Iterazione 351: F1-Score 0.9382855134471371, Parametri {'C': 1.5, 'coef0': 1.0, 'degree': 3, 'gamma': 0.1, 'kernel': 'linear'}\n",
      "Iterazione 352: F1-Score 0.9664306072411423, Parametri {'C': 1.5, 'coef0': 1.0, 'degree': 3, 'gamma': 0.1, 'kernel': 'rbf'}\n",
      "Iterazione 353: F1-Score 0.9679510941436378, Parametri {'C': 1.5, 'coef0': 1.0, 'degree': 3, 'gamma': 0.1, 'kernel': 'poly'}\n",
      "Iterazione 354: F1-Score 0.9382855134471371, Parametri {'C': 1.5, 'coef0': 1.0, 'degree': 3, 'gamma': 0.5, 'kernel': 'linear'}\n",
      "Iterazione 355: F1-Score 0.9780556615350345, Parametri {'C': 1.5, 'coef0': 1.0, 'degree': 3, 'gamma': 0.5, 'kernel': 'rbf'}\n",
      "Iterazione 356: F1-Score 0.9799194025980011, Parametri {'C': 1.5, 'coef0': 1.0, 'degree': 3, 'gamma': 0.5, 'kernel': 'poly'}\n",
      "Iterazione 357: F1-Score 0.9382855134471371, Parametri {'C': 1.5, 'coef0': 1.0, 'degree': 3, 'gamma': 1, 'kernel': 'linear'}\n",
      "Iterazione 358: F1-Score 0.9803680136662141, Parametri {'C': 1.5, 'coef0': 1.0, 'degree': 3, 'gamma': 1, 'kernel': 'rbf'}\n",
      "Iterazione 359: F1-Score 0.9834523049179099, Parametri {'C': 1.5, 'coef0': 1.0, 'degree': 3, 'gamma': 1, 'kernel': 'poly'}\n"
     ]
    }
   ],
   "source": [
    "# Vediamo come si comporta nelle diverse combinaizoni di parametri\n",
    "cvres = grid_search.cv_results_\n",
    "\n",
    "for i, (f1, params) in enumerate(zip(cvres[\"mean_test_score\"], cvres[\"params\"])):\n",
    "    print(f\"Iterazione {i}: F1-Score {f1}, Parametri {params}\")"
   ],
   "metadata": {
    "colab": {
     "base_uri": "https://localhost:8080/"
    },
    "id": "KIprT5a5tHET",
    "executionInfo": {
     "status": "ok",
     "timestamp": 1720872750678,
     "user_tz": -120,
     "elapsed": 408,
     "user": {
      "displayName": "Annalaura Miglino",
      "userId": "03808724092990969006"
     }
    },
    "outputId": "fa311fc4-18e0-4140-ed2c-92a27b0f67ca"
   }
  },
  {
   "cell_type": "markdown",
   "source": [
    "## 4. Metriche del modello migliore"
   ],
   "metadata": {
    "collapsed": false,
    "id": "9SLuA_6btHEV"
   }
  },
  {
   "cell_type": "markdown",
   "source": [
    "> Vengono misurate le metriche a seguito dell'Hyperparameter Tuning."
   ],
   "metadata": {
    "id": "hjvGQ4FwuqzU"
   }
  },
  {
   "cell_type": "code",
   "execution_count": 11,
   "outputs": [
    {
     "output_type": "stream",
     "name": "stdout",
     "text": [
      "Accuracy: 0.9815828770532603\n",
      "Precision: 0.976401179941003\n",
      "Recall: 0.9870775347912525\n",
      "F1-Score: 0.9817103311913\n"
     ]
    }
   ],
   "source": [
    "svc_final = grid_search.best_estimator_\n",
    "y_pred = svc_final.predict(X_test)\n",
    "\n",
    "# Stampa delle metriche\n",
    "print(f'Accuracy: {accuracy_score(y_test, y_pred)}')\n",
    "print(f'Precision: {precision_score(y_test, y_pred)}')\n",
    "print(f'Recall: {recall_score(y_test, y_pred)}')\n",
    "print(f'F1-Score: {f1_score(y_test, y_pred)}')"
   ],
   "metadata": {
    "colab": {
     "base_uri": "https://localhost:8080/"
    },
    "id": "pL1M7dV_tHEV",
    "executionInfo": {
     "status": "ok",
     "timestamp": 1720872753657,
     "user_tz": -120,
     "elapsed": 421,
     "user": {
      "displayName": "Annalaura Miglino",
      "userId": "03808724092990969006"
     }
    },
    "outputId": "cacef424-03a7-466c-fdaa-43b847a6655e"
   }
  },
  {
   "cell_type": "markdown",
   "source": [
    "### 4.1 Learning Curve"
   ],
   "metadata": {
    "collapsed": false,
    "id": "DSv8xklJtHEV"
   }
  },
  {
   "cell_type": "code",
   "execution_count": 12,
   "outputs": [
    {
     "output_type": "display_data",
     "data": {
      "text/plain": [
       "<Figure size 640x480 with 1 Axes>"
      ],
      "image/png": "[encoded data removed]"
     },
     "metadata": {}
    }
   ],
   "source": [
    "# Istanzia un nuovo modello Random Forest con i migliori parametri ottenuti in precedenza\n",
    "svc = SVC(random_state=42, **grid_search.best_params_)\n",
    "\n",
    "# Calcolo la learning curve\n",
    "train_sizes, train_scores, test_scores = learning_curve(svc, X_train, y_train, scoring='f1',\n",
    "                                                        train_sizes=np.linspace(0.1, 1.0, 10), n_jobs=-1, cv=10)\n",
    "\n",
    "# Calcola la media dei punteggi ottenuti nelle diverse iterazioni di cross validation\n",
    "train_scores_mean = np.mean(train_scores, axis=1)\n",
    "test_scores_mean = np.mean(test_scores, axis=1)\n",
    "\n",
    "# Traccio la curva di apprendimento\n",
    "plt.figure()\n",
    "plt.title(\"Learning Curve (SVM)\")\n",
    "plt.xlabel(\"Training examples\")\n",
    "plt.ylabel(\"F1-Score\")\n",
    "plt.grid()\n",
    "\n",
    "plt.plot(train_sizes, train_scores_mean, 'o-', color=\"r\", label=\"Training F1-Score\")\n",
    "plt.plot(train_sizes, test_scores_mean, 'o-', color=\"g\", label=\"Validation F1-Score\")\n",
    "\n",
    "plt.legend(loc=\"best\")\n",
    "plt.show()"
   ],
   "metadata": {
    "colab": {
     "base_uri": "https://localhost:8080/",
     "height": 472
    },
    "id": "df0D3l9kfZ9e",
    "executionInfo": {
     "status": "ok",
     "timestamp": 1720872969084,
     "user_tz": -120,
     "elapsed": 213764,
     "user": {
      "displayName": "Annalaura Miglino",
      "userId": "03808724092990969006"
     }
    },
    "outputId": "aba6fcbb-d9cc-4f9d-a9bd-76b8713e219f"
   }
  },
  {
   "cell_type": "markdown",
   "source": [
    "### 4.2 Matrice di confusione"
   ],
   "metadata": {
    "collapsed": false,
    "id": "bsg3sXzetHEW"
   }
  },
  {
   "cell_type": "code",
   "execution_count": 13,
   "outputs": [
    {
     "output_type": "display_data",
     "data": {
      "text/plain": [
       "<Figure size 500x400 with 2 Axes>"
      ],
      "image/png": "[encoded data removed]"
     },
     "metadata": {}
    }
   ],
   "source": [
    "cm = confusion_matrix(y_test, y_pred)\n",
    "class_names = ['Real', 'Fake']\n",
    "\n",
    "plt.figure(figsize=(5, 4))\n",
    "sns.heatmap(cm, annot=True, cmap='Blues', fmt='d', xticklabels=class_names, yticklabels=class_names)\n",
    "\n",
    "plt.xlabel('Predicted label')\n",
    "plt.ylabel('True label')\n",
    "plt.title('Confusion Matrix')\n",
    "plt.show()"
   ],
   "metadata": {
    "colab": {
     "base_uri": "https://localhost:8080/",
     "height": 410
    },
    "id": "0dFXWshdtHEW",
    "executionInfo": {
     "status": "ok",
     "timestamp": 1720872970154,
     "user_tz": -120,
     "elapsed": 1074,
     "user": {
      "displayName": "Annalaura Miglino",
      "userId": "03808724092990969006"
     }
    },
    "outputId": "9c226c0f-88fb-466d-e0c6-924d17a2db77"
   }
  },
  {
   "cell_type": "markdown",
   "source": [
    "### 4.3 Roc Curve"
   ],
   "metadata": {
    "collapsed": false,
    "id": "jbT1bZJVtHEW"
   }
  },
  {
   "cell_type": "code",
   "execution_count": 14,
   "outputs": [
    {
     "output_type": "display_data",
     "data": {
      "text/plain": [
       "<Figure size 600x500 with 1 Axes>"
      ],
      "image/png": "[encoded data removed]"
     },
     "metadata": {}
    }
   ],
   "source": [
    "# istanzio un nuovo SVC, con i migliori parametri, al fine di abilitare il metodo predict_proba\n",
    "svc_proba = SVC(random_state=42, probability=True, **grid_search.best_params_)\n",
    "svc_proba.fit(X_train, y_train)\n",
    "y_proba = svc_proba.predict_proba(X_test)\n",
    "\n",
    "# Calcolo della curva ROC per la classe 'real' (label 0)\n",
    "fpr_real, tpr_real, _ = roc_curve(y_test, y_proba[:, 0], pos_label=0)\n",
    "roc_auc_real = auc(fpr_real, tpr_real)\n",
    "\n",
    "# Calcolo della curva ROC per la classe 'fake' (label 1)\n",
    "fpr_fake, tpr_fake, _ = roc_curve(y_test, y_proba[:, 1], pos_label=1)\n",
    "roc_auc_fake = auc(fpr_fake, tpr_fake)\n",
    "\n",
    "# Tracciamento delle curve ROC\n",
    "plt.figure(figsize=(6, 5))\n",
    "plt.plot(fpr_real, tpr_real, color='darkorange', lw=2, label=f'ROC curve real (AUC = {roc_auc_real:.2f})')\n",
    "plt.plot(fpr_fake, tpr_fake, color='blue', lw=2, label=f'ROC curve fake (AUC = {roc_auc_fake:.2f})')\n",
    "plt.plot([0, 1], [0, 1], color='black', lw=1, linestyle='--')\n",
    "plt.xlabel('False Positive Rate')\n",
    "plt.ylabel('True Positive Rate')\n",
    "plt.grid(False)\n",
    "plt.legend(loc='lower right')\n",
    "plt.title('ROC Curve')\n",
    "plt.show()"
   ],
   "metadata": {
    "colab": {
     "base_uri": "https://localhost:8080/",
     "height": 487
    },
    "id": "2IDikDOttHEX",
    "executionInfo": {
     "status": "ok",
     "timestamp": 1720872999067,
     "user_tz": -120,
     "elapsed": 28919,
     "user": {
      "displayName": "Annalaura Miglino",
      "userId": "03808724092990969006"
     }
    },
    "outputId": "f7019db1-21d0-4718-e004-c3ada24f5980"
   }
  }
 ],
 "metadata": {
  "kernelspec": {
   "display_name": "Python 3",
   "language": "python",
   "name": "python3"
  },
  "language_info": {
   "codemirror_mode": {
    "name": "ipython",
    "version": 2
   },
   "file_extension": ".py",
   "mimetype": "text/x-python",
   "name": "python",
   "nbconvert_exporter": "python",
   "pygments_lexer": "ipython2",
   "version": "2.7.6"
  },
  "colab": {
   "provenance": []
  }
 },
 "nbformat": 4,
 "nbformat_minor": 0
}
