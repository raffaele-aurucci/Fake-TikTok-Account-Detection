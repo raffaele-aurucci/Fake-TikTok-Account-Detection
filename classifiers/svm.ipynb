{
 "cells": [
  {
   "cell_type": "markdown",
   "source": [
    "# Support Vector Machine (SVM) Linear Classifier"
   ],
   "metadata": {
    "id": "Oy1Iz_vru7_R"
   }
  },
  {
   "cell_type": "markdown",
   "source": [
    "> Import necessari"
   ],
   "metadata": {
    "id": "kqqbpgNCvEpK"
   }
  },
  {
   "cell_type": "code",
   "execution_count": 2,
   "metadata": {
    "collapsed": true,
    "id": "Pz96TyWBtHEG",
    "executionInfo": {
     "status": "ok",
     "timestamp": 1720617437032,
     "user_tz": -120,
     "elapsed": 2582,
     "user": {
      "displayName": "Annalaura Miglino",
      "userId": "03808724092990969006"
     }
    }
   },
   "outputs": [],
   "source": [
    "from sklearn.svm import SVC\n",
    "from sklearn.model_selection import StratifiedShuffleSplit, GridSearchCV, learning_curve\n",
    "from sklearn.metrics import accuracy_score, confusion_matrix, roc_curve, auc, precision_score, recall_score, f1_score\n",
    "import matplotlib.pyplot as plt\n",
    "import pandas as pd\n",
    "import seaborn as sns\n",
    "import numpy as np"
   ]
  },
  {
   "cell_type": "markdown",
   "source": [
    "> Montaggio di Drive"
   ],
   "metadata": {
    "id": "MQtOqoQ9ysLa"
   }
  },
  {
   "cell_type": "code",
   "source": [
    "from google.colab import drive\n",
    "drive.mount('/content/drive')"
   ],
   "metadata": {
    "colab": {
     "base_uri": "https://localhost:8080/"
    },
    "id": "IhViav_1yvce",
    "executionInfo": {
     "status": "ok",
     "timestamp": 1720617483758,
     "user_tz": -120,
     "elapsed": 16617,
     "user": {
      "displayName": "Annalaura Miglino",
      "userId": "03808724092990969006"
     }
    },
    "outputId": "4c46ab47-396d-4e8d-e7b2-98b1a3c1a27c"
   },
   "execution_count": 109,
   "outputs": []
  },
  {
   "cell_type": "markdown",
   "source": [
    "## 1. Divisione del dataset in train e test"
   ],
   "metadata": {
    "collapsed": false,
    "id": "1Lui-kjYtHEJ"
   }
  },
  {
   "cell_type": "code",
   "execution_count": null,
   "outputs": [],
   "source": [
    "# Lettura del dataset (drive)\n",
    "csv_path = '/content/drive/MyDrive/Progetto_FDSML_github/FakeAccountDetection/datasets/cleaned_dataset.csv'"
   ],
   "metadata": {
    "collapsed": false
   }
  },
  {
   "cell_type": "code",
   "execution_count": 46,
   "outputs": [],
   "source": [
    "# Lettura del dataset (local)\n",
    "csv_path = '../datasets/cleaned_dataset.csv'"
   ],
   "metadata": {
    "collapsed": false
   }
  },
  {
   "cell_type": "code",
   "execution_count": 47,
   "outputs": [],
   "source": [
    "df = pd.read_csv(csv_path)"
   ],
   "metadata": {
    "collapsed": false
   }
  },
  {
   "cell_type": "code",
   "execution_count": 48,
   "outputs": [],
   "source": [
    "# Divisione in train e test set\n",
    "X = df.copy()\n",
    "y = X.pop('fake')\n",
    "\n",
    "sss = StratifiedShuffleSplit(n_splits=1, test_size=0.2, random_state=42)\n",
    "\n",
    "for train_index, test_index in sss.split(X, y):\n",
    "    X_train, X_test = X.loc[train_index], X.loc[test_index]\n",
    "    y_train, y_test = y.loc[train_index], y.loc[test_index]"
   ],
   "metadata": {
    "id": "gA4sxs84tHEO",
    "executionInfo": {
     "status": "ok",
     "timestamp": 1720617564319,
     "user_tz": -120,
     "elapsed": 272,
     "user": {
      "displayName": "Annalaura Miglino",
      "userId": "03808724092990969006"
     }
    }
   }
  },
  {
   "cell_type": "markdown",
   "source": [
    "### 1.1 Addestramento senza iperparametri"
   ],
   "metadata": {
    "collapsed": false,
    "id": "IsOyxbdUtHEO"
   }
  },
  {
   "cell_type": "code",
   "execution_count": 49,
   "outputs": [
    {
     "name": "stdout",
     "output_type": "stream",
     "text": [
      "Accuracy: 0.9656545545047287\n",
      "Precision: 0.9544131910766246\n",
      "Recall: 0.9781312127236581\n",
      "F1-Score: 0.9661266568483063\n"
     ]
    }
   ],
   "source": [
    "# Istanziazione e addestramento del classificatore\n",
    "svc = SVC()\n",
    "svc.fit(X_train, y_train)\n",
    "y_pred = svc.predict(X_test)\n",
    "\n",
    "# Stampa delle metriche\n",
    "print(f'Accuracy: {accuracy_score(y_test, y_pred)}')\n",
    "print(f'Precision: {precision_score(y_test, y_pred)}')\n",
    "print(f'Recall: {recall_score(y_test, y_pred)}')\n",
    "print(f'F1-Score: {f1_score(y_test, y_pred)}')"
   ],
   "metadata": {
    "colab": {
     "base_uri": "https://localhost:8080/"
    },
    "id": "dB1w4oUgtHEP",
    "executionInfo": {
     "status": "ok",
     "timestamp": 1720617566460,
     "user_tz": -120,
     "elapsed": 637,
     "user": {
      "displayName": "Annalaura Miglino",
      "userId": "03808724092990969006"
     }
    },
    "outputId": "e52d4a94-f850-43c9-c583-70c8ffd6d169"
   }
  },
  {
   "cell_type": "markdown",
   "source": [
    "## 2. Grid Search Cross Validation"
   ],
   "metadata": {
    "collapsed": false,
    "id": "eKsiifbVtHEQ"
   }
  },
  {
   "cell_type": "code",
   "execution_count": 50,
   "outputs": [],
   "source": [
    "# Griglia dei parametri\n",
    "param_grid = {\n",
    "    'C': [0.1, 0.5, 1.0, 1.5],                      # ampiezza del margine, valori più piccoli corrispondono a un margine più ampio                                                                        # viceversa per valori più grandi\n",
    "    'kernel': ['linear', 'rbf', 'poly'],            # funzione kernel da utilizzare per trasformare i dati di input in uno spazio dimensionale maggiore,\n",
    "                                                    # in modo che un iperpiano lineare possa separare meglio i punti dati\n",
    "    'degree': [2, 3],                               # grado del polinomio nel caso in cui kernel = 'poly'\n",
    "    'gamma' : ['scale', 'auto', 0.1, 0.5, 1],       # controlla l'influenza di un singolo punto di training, per valori alti il modello potrebbe dare\n",
    "                                                    # importanza solo ai punti più vicini, per valori bassi considera anche punti molto più distanti,\n",
    "                                                    # al fine di definire la decision boundary quando kernel = 'rbf' | 'poly'\n",
    "    'coef0': [0.0, 0.5, 1.0]                        # definisce l'importanza dei valori polinomiali di alto grado quando kernel = 'poly'\n",
    "}"
   ],
   "metadata": {
    "id": "8mftUZiltHER",
    "executionInfo": {
     "status": "ok",
     "timestamp": 1720617575089,
     "user_tz": -120,
     "elapsed": 254,
     "user": {
      "displayName": "Annalaura Miglino",
      "userId": "03808724092990969006"
     }
    }
   }
  },
  {
   "cell_type": "code",
   "source": [
    "# Istanziazione del classificatore (random_state controlla la casualità, probability abilita il metodo predict_proba)\n",
    "svc = SVC(random_state=42)"
   ],
   "metadata": {
    "id": "aKR9IQrtto_j",
    "executionInfo": {
     "status": "ok",
     "timestamp": 1720617576619,
     "user_tz": -120,
     "elapsed": 2,
     "user": {
      "displayName": "Annalaura Miglino",
      "userId": "03808724092990969006"
     }
    }
   },
   "execution_count": 51,
   "outputs": []
  },
  {
   "cell_type": "code",
   "execution_count": 52,
   "outputs": [
    {
     "name": "stdout",
     "output_type": "stream",
     "text": [
      "Best Parameters: {'C': 1.5, 'coef0': 1.0, 'degree': 3, 'gamma': 1, 'kernel': 'poly'}\n",
      "CPU times: total: 24 s\n",
      "Wall time: 20min 19s\n"
     ]
    }
   ],
   "source": [
    "%%time\n",
    "# Stampiamo i migliori parametri\n",
    "grid_search = GridSearchCV(estimator=svc, param_grid=param_grid, cv=10, scoring='accuracy', n_jobs=-1, return_train_score=True, error_score='raise')\n",
    "grid_search.fit(X_train, y_train)\n",
    "print(\"Best Parameters:\", grid_search.best_params_)"
   ],
   "metadata": {
    "colab": {
     "base_uri": "https://localhost:8080/"
    },
    "id": "APgT9wYWtHER",
    "executionInfo": {
     "status": "ok",
     "timestamp": 1720617644893,
     "user_tz": -120,
     "elapsed": 67466,
     "user": {
      "displayName": "Annalaura Miglino",
      "userId": "03808724092990969006"
     }
    },
    "outputId": "5086b6c9-5760-4748-dcbf-1d77d9a0d62c"
   }
  },
  {
   "cell_type": "code",
   "execution_count": 53,
   "outputs": [
    {
     "name": "stdout",
     "output_type": "stream",
     "text": [
      "Iterazione 0: Accuracy 0.9239442575416813, Parametri {'C': 0.1, 'coef0': 0.0, 'degree': 2, 'gamma': 'scale', 'kernel': 'linear'}\n",
      "Iterazione 1: Accuracy 0.9361441546935311, Parametri {'C': 0.1, 'coef0': 0.0, 'degree': 2, 'gamma': 'scale', 'kernel': 'rbf'}\n",
      "Iterazione 2: Accuracy 0.8703004281209148, Parametri {'C': 0.1, 'coef0': 0.0, 'degree': 2, 'gamma': 'scale', 'kernel': 'poly'}\n",
      "Iterazione 3: Accuracy 0.9239442575416813, Parametri {'C': 0.1, 'coef0': 0.0, 'degree': 2, 'gamma': 'auto', 'kernel': 'linear'}\n",
      "Iterazione 4: Accuracy 0.9339047291562116, Parametri {'C': 0.1, 'coef0': 0.0, 'degree': 2, 'gamma': 'auto', 'kernel': 'rbf'}\n",
      "Iterazione 5: Accuracy 0.8664423833509911, Parametri {'C': 0.1, 'coef0': 0.0, 'degree': 2, 'gamma': 'auto', 'kernel': 'poly'}\n",
      "Iterazione 6: Accuracy 0.9239442575416813, Parametri {'C': 0.1, 'coef0': 0.0, 'degree': 2, 'gamma': 0.1, 'kernel': 'linear'}\n",
      "Iterazione 7: Accuracy 0.9419937981326246, Parametri {'C': 0.1, 'coef0': 0.0, 'degree': 2, 'gamma': 0.1, 'kernel': 'rbf'}\n",
      "Iterazione 8: Accuracy 0.8857333816595727, Parametri {'C': 0.1, 'coef0': 0.0, 'degree': 2, 'gamma': 0.1, 'kernel': 'poly'}\n",
      "Iterazione 9: Accuracy 0.9239442575416813, Parametri {'C': 0.1, 'coef0': 0.0, 'degree': 2, 'gamma': 0.5, 'kernel': 'linear'}\n",
      "Iterazione 10: Accuracy 0.959420363933756, Parametri {'C': 0.1, 'coef0': 0.0, 'degree': 2, 'gamma': 0.5, 'kernel': 'rbf'}\n",
      "Iterazione 11: Accuracy 0.9462255967980768, Parametri {'C': 0.1, 'coef0': 0.0, 'degree': 2, 'gamma': 0.5, 'kernel': 'poly'}\n",
      "Iterazione 12: Accuracy 0.9239442575416813, Parametri {'C': 0.1, 'coef0': 0.0, 'degree': 2, 'gamma': 1, 'kernel': 'linear'}\n",
      "Iterazione 13: Accuracy 0.960788523137736, Parametri {'C': 0.1, 'coef0': 0.0, 'degree': 2, 'gamma': 1, 'kernel': 'rbf'}\n",
      "Iterazione 14: Accuracy 0.9488392409063028, Parametri {'C': 0.1, 'coef0': 0.0, 'degree': 2, 'gamma': 1, 'kernel': 'poly'}\n",
      "Iterazione 15: Accuracy 0.9239442575416813, Parametri {'C': 0.1, 'coef0': 0.0, 'degree': 3, 'gamma': 'scale', 'kernel': 'linear'}\n",
      "Iterazione 16: Accuracy 0.9361441546935311, Parametri {'C': 0.1, 'coef0': 0.0, 'degree': 3, 'gamma': 'scale', 'kernel': 'rbf'}\n",
      "Iterazione 17: Accuracy 0.8075678580943352, Parametri {'C': 0.1, 'coef0': 0.0, 'degree': 3, 'gamma': 'scale', 'kernel': 'poly'}\n",
      "Iterazione 18: Accuracy 0.9239442575416813, Parametri {'C': 0.1, 'coef0': 0.0, 'degree': 3, 'gamma': 'auto', 'kernel': 'linear'}\n",
      "Iterazione 19: Accuracy 0.9339047291562116, Parametri {'C': 0.1, 'coef0': 0.0, 'degree': 3, 'gamma': 'auto', 'kernel': 'rbf'}\n",
      "Iterazione 20: Accuracy 0.8055762594251655, Parametri {'C': 0.1, 'coef0': 0.0, 'degree': 3, 'gamma': 'auto', 'kernel': 'poly'}\n",
      "Iterazione 21: Accuracy 0.9239442575416813, Parametri {'C': 0.1, 'coef0': 0.0, 'degree': 3, 'gamma': 0.1, 'kernel': 'linear'}\n",
      "Iterazione 22: Accuracy 0.9419937981326246, Parametri {'C': 0.1, 'coef0': 0.0, 'degree': 3, 'gamma': 0.1, 'kernel': 'rbf'}\n",
      "Iterazione 23: Accuracy 0.8356979114390686, Parametri {'C': 0.1, 'coef0': 0.0, 'degree': 3, 'gamma': 0.1, 'kernel': 'poly'}\n",
      "Iterazione 24: Accuracy 0.9239442575416813, Parametri {'C': 0.1, 'coef0': 0.0, 'degree': 3, 'gamma': 0.5, 'kernel': 'linear'}\n",
      "Iterazione 25: Accuracy 0.959420363933756, Parametri {'C': 0.1, 'coef0': 0.0, 'degree': 3, 'gamma': 0.5, 'kernel': 'rbf'}\n",
      "Iterazione 26: Accuracy 0.9397537530281346, Parametri {'C': 0.1, 'coef0': 0.0, 'degree': 3, 'gamma': 0.5, 'kernel': 'poly'}\n",
      "Iterazione 27: Accuracy 0.9239442575416813, Parametri {'C': 0.1, 'coef0': 0.0, 'degree': 3, 'gamma': 1, 'kernel': 'linear'}\n",
      "Iterazione 28: Accuracy 0.960788523137736, Parametri {'C': 0.1, 'coef0': 0.0, 'degree': 3, 'gamma': 1, 'kernel': 'rbf'}\n",
      "Iterazione 29: Accuracy 0.9621593155021901, Parametri {'C': 0.1, 'coef0': 0.0, 'degree': 3, 'gamma': 1, 'kernel': 'poly'}\n",
      "Iterazione 30: Accuracy 0.9239442575416813, Parametri {'C': 0.1, 'coef0': 0.5, 'degree': 2, 'gamma': 'scale', 'kernel': 'linear'}\n",
      "Iterazione 31: Accuracy 0.9361441546935311, Parametri {'C': 0.1, 'coef0': 0.5, 'degree': 2, 'gamma': 'scale', 'kernel': 'rbf'}\n",
      "Iterazione 32: Accuracy 0.9209593378066081, Parametri {'C': 0.1, 'coef0': 0.5, 'degree': 2, 'gamma': 'scale', 'kernel': 'poly'}\n",
      "Iterazione 33: Accuracy 0.9239442575416813, Parametri {'C': 0.1, 'coef0': 0.5, 'degree': 2, 'gamma': 'auto', 'kernel': 'linear'}\n",
      "Iterazione 34: Accuracy 0.9339047291562116, Parametri {'C': 0.1, 'coef0': 0.5, 'degree': 2, 'gamma': 'auto', 'kernel': 'rbf'}\n",
      "Iterazione 35: Accuracy 0.9188433610279858, Parametri {'C': 0.1, 'coef0': 0.5, 'degree': 2, 'gamma': 'auto', 'kernel': 'poly'}\n",
      "Iterazione 36: Accuracy 0.9239442575416813, Parametri {'C': 0.1, 'coef0': 0.5, 'degree': 2, 'gamma': 0.1, 'kernel': 'linear'}\n",
      "Iterazione 37: Accuracy 0.9419937981326246, Parametri {'C': 0.1, 'coef0': 0.5, 'degree': 2, 'gamma': 0.1, 'kernel': 'rbf'}\n",
      "Iterazione 38: Accuracy 0.929049645917362, Parametri {'C': 0.1, 'coef0': 0.5, 'degree': 2, 'gamma': 0.1, 'kernel': 'poly'}\n",
      "Iterazione 39: Accuracy 0.9239442575416813, Parametri {'C': 0.1, 'coef0': 0.5, 'degree': 2, 'gamma': 0.5, 'kernel': 'linear'}\n",
      "Iterazione 40: Accuracy 0.959420363933756, Parametri {'C': 0.1, 'coef0': 0.5, 'degree': 2, 'gamma': 0.5, 'kernel': 'rbf'}\n",
      "Iterazione 41: Accuracy 0.9585483231414533, Parametri {'C': 0.1, 'coef0': 0.5, 'degree': 2, 'gamma': 0.5, 'kernel': 'poly'}\n",
      "Iterazione 42: Accuracy 0.9239442575416813, Parametri {'C': 0.1, 'coef0': 0.5, 'degree': 2, 'gamma': 1, 'kernel': 'linear'}\n",
      "Iterazione 43: Accuracy 0.960788523137736, Parametri {'C': 0.1, 'coef0': 0.5, 'degree': 2, 'gamma': 1, 'kernel': 'rbf'}\n",
      "Iterazione 44: Accuracy 0.9631540305942268, Parametri {'C': 0.1, 'coef0': 0.5, 'degree': 2, 'gamma': 1, 'kernel': 'poly'}\n",
      "Iterazione 45: Accuracy 0.9239442575416813, Parametri {'C': 0.1, 'coef0': 0.5, 'degree': 3, 'gamma': 'scale', 'kernel': 'linear'}\n",
      "Iterazione 46: Accuracy 0.9361441546935311, Parametri {'C': 0.1, 'coef0': 0.5, 'degree': 3, 'gamma': 'scale', 'kernel': 'rbf'}\n",
      "Iterazione 47: Accuracy 0.9283029125852679, Parametri {'C': 0.1, 'coef0': 0.5, 'degree': 3, 'gamma': 'scale', 'kernel': 'poly'}\n",
      "Iterazione 48: Accuracy 0.9239442575416813, Parametri {'C': 0.1, 'coef0': 0.5, 'degree': 3, 'gamma': 'auto', 'kernel': 'linear'}\n",
      "Iterazione 49: Accuracy 0.9339047291562116, Parametri {'C': 0.1, 'coef0': 0.5, 'degree': 3, 'gamma': 'auto', 'kernel': 'rbf'}\n",
      "Iterazione 50: Accuracy 0.9255645805840039, Parametri {'C': 0.1, 'coef0': 0.5, 'degree': 3, 'gamma': 'auto', 'kernel': 'poly'}\n",
      "Iterazione 51: Accuracy 0.9239442575416813, Parametri {'C': 0.1, 'coef0': 0.5, 'degree': 3, 'gamma': 0.1, 'kernel': 'linear'}\n",
      "Iterazione 52: Accuracy 0.9419937981326246, Parametri {'C': 0.1, 'coef0': 0.5, 'degree': 3, 'gamma': 0.1, 'kernel': 'rbf'}\n",
      "Iterazione 53: Accuracy 0.9406245546860962, Parametri {'C': 0.1, 'coef0': 0.5, 'degree': 3, 'gamma': 0.1, 'kernel': 'poly'}\n",
      "Iterazione 54: Accuracy 0.9239442575416813, Parametri {'C': 0.1, 'coef0': 0.5, 'degree': 3, 'gamma': 0.5, 'kernel': 'linear'}\n",
      "Iterazione 55: Accuracy 0.959420363933756, Parametri {'C': 0.1, 'coef0': 0.5, 'degree': 3, 'gamma': 0.5, 'kernel': 'rbf'}\n",
      "Iterazione 56: Accuracy 0.9670130047149061, Parametri {'C': 0.1, 'coef0': 0.5, 'degree': 3, 'gamma': 0.5, 'kernel': 'poly'}\n",
      "Iterazione 57: Accuracy 0.9239442575416813, Parametri {'C': 0.1, 'coef0': 0.5, 'degree': 3, 'gamma': 1, 'kernel': 'linear'}\n",
      "Iterazione 58: Accuracy 0.960788523137736, Parametri {'C': 0.1, 'coef0': 0.5, 'degree': 3, 'gamma': 1, 'kernel': 'rbf'}\n",
      "Iterazione 59: Accuracy 0.9736115499711901, Parametri {'C': 0.1, 'coef0': 0.5, 'degree': 3, 'gamma': 1, 'kernel': 'poly'}\n",
      "Iterazione 60: Accuracy 0.9239442575416813, Parametri {'C': 0.1, 'coef0': 1.0, 'degree': 2, 'gamma': 'scale', 'kernel': 'linear'}\n",
      "Iterazione 61: Accuracy 0.9361441546935311, Parametri {'C': 0.1, 'coef0': 1.0, 'degree': 2, 'gamma': 'scale', 'kernel': 'rbf'}\n",
      "Iterazione 62: Accuracy 0.925813491694702, Parametri {'C': 0.1, 'coef0': 1.0, 'degree': 2, 'gamma': 'scale', 'kernel': 'poly'}\n",
      "Iterazione 63: Accuracy 0.9239442575416813, Parametri {'C': 0.1, 'coef0': 1.0, 'degree': 2, 'gamma': 'auto', 'kernel': 'linear'}\n",
      "Iterazione 64: Accuracy 0.9339047291562116, Parametri {'C': 0.1, 'coef0': 1.0, 'degree': 2, 'gamma': 'auto', 'kernel': 'rbf'}\n",
      "Iterazione 65: Accuracy 0.9234482940217964, Parametri {'C': 0.1, 'coef0': 1.0, 'degree': 2, 'gamma': 'auto', 'kernel': 'poly'}\n",
      "Iterazione 66: Accuracy 0.9239442575416813, Parametri {'C': 0.1, 'coef0': 1.0, 'degree': 2, 'gamma': 0.1, 'kernel': 'linear'}\n",
      "Iterazione 67: Accuracy 0.9419937981326246, Parametri {'C': 0.1, 'coef0': 1.0, 'degree': 2, 'gamma': 0.1, 'kernel': 'rbf'}\n",
      "Iterazione 68: Accuracy 0.9332811347992293, Parametri {'C': 0.1, 'coef0': 1.0, 'degree': 2, 'gamma': 0.1, 'kernel': 'poly'}\n",
      "Iterazione 69: Accuracy 0.9239442575416813, Parametri {'C': 0.1, 'coef0': 1.0, 'degree': 2, 'gamma': 0.5, 'kernel': 'linear'}\n",
      "Iterazione 70: Accuracy 0.959420363933756, Parametri {'C': 0.1, 'coef0': 1.0, 'degree': 2, 'gamma': 0.5, 'kernel': 'rbf'}\n",
      "Iterazione 71: Accuracy 0.9622830740444727, Parametri {'C': 0.1, 'coef0': 1.0, 'degree': 2, 'gamma': 0.5, 'kernel': 'poly'}\n",
      "Iterazione 72: Accuracy 0.9239442575416813, Parametri {'C': 0.1, 'coef0': 1.0, 'degree': 2, 'gamma': 1, 'kernel': 'linear'}\n",
      "Iterazione 73: Accuracy 0.960788523137736, Parametri {'C': 0.1, 'coef0': 1.0, 'degree': 2, 'gamma': 1, 'kernel': 'rbf'}\n",
      "Iterazione 74: Accuracy 0.964274053146472, Parametri {'C': 0.1, 'coef0': 1.0, 'degree': 2, 'gamma': 1, 'kernel': 'poly'}\n",
      "Iterazione 75: Accuracy 0.9239442575416813, Parametri {'C': 0.1, 'coef0': 1.0, 'degree': 3, 'gamma': 'scale', 'kernel': 'linear'}\n",
      "Iterazione 76: Accuracy 0.9361441546935311, Parametri {'C': 0.1, 'coef0': 1.0, 'degree': 3, 'gamma': 'scale', 'kernel': 'rbf'}\n",
      "Iterazione 77: Accuracy 0.9416209735878516, Parametri {'C': 0.1, 'coef0': 1.0, 'degree': 3, 'gamma': 'scale', 'kernel': 'poly'}\n",
      "Iterazione 78: Accuracy 0.9239442575416813, Parametri {'C': 0.1, 'coef0': 1.0, 'degree': 3, 'gamma': 'auto', 'kernel': 'linear'}\n",
      "Iterazione 79: Accuracy 0.9339047291562116, Parametri {'C': 0.1, 'coef0': 1.0, 'degree': 3, 'gamma': 'auto', 'kernel': 'rbf'}\n",
      "Iterazione 80: Accuracy 0.9402514203577381, Parametri {'C': 0.1, 'coef0': 1.0, 'degree': 3, 'gamma': 'auto', 'kernel': 'poly'}\n",
      "Iterazione 81: Accuracy 0.9239442575416813, Parametri {'C': 0.1, 'coef0': 1.0, 'degree': 3, 'gamma': 0.1, 'kernel': 'linear'}\n",
      "Iterazione 82: Accuracy 0.9419937981326246, Parametri {'C': 0.1, 'coef0': 1.0, 'degree': 3, 'gamma': 0.1, 'kernel': 'rbf'}\n",
      "Iterazione 83: Accuracy 0.9487167214983613, Parametri {'C': 0.1, 'coef0': 1.0, 'degree': 3, 'gamma': 0.1, 'kernel': 'poly'}\n",
      "Iterazione 84: Accuracy 0.9239442575416813, Parametri {'C': 0.1, 'coef0': 1.0, 'degree': 3, 'gamma': 0.5, 'kernel': 'linear'}\n",
      "Iterazione 85: Accuracy 0.959420363933756, Parametri {'C': 0.1, 'coef0': 1.0, 'degree': 3, 'gamma': 0.5, 'kernel': 'rbf'}\n",
      "Iterazione 86: Accuracy 0.9713698010569816, Parametri {'C': 0.1, 'coef0': 1.0, 'degree': 3, 'gamma': 0.5, 'kernel': 'poly'}\n",
      "Iterazione 87: Accuracy 0.9239442575416813, Parametri {'C': 0.1, 'coef0': 1.0, 'degree': 3, 'gamma': 1, 'kernel': 'linear'}\n",
      "Iterazione 88: Accuracy 0.960788523137736, Parametri {'C': 0.1, 'coef0': 1.0, 'degree': 3, 'gamma': 1, 'kernel': 'rbf'}\n",
      "Iterazione 89: Accuracy 0.975104861743586, Parametri {'C': 0.1, 'coef0': 1.0, 'degree': 3, 'gamma': 1, 'kernel': 'poly'}\n",
      "Iterazione 90: Accuracy 0.9339019411039449, Parametri {'C': 0.5, 'coef0': 0.0, 'degree': 2, 'gamma': 'scale', 'kernel': 'linear'}\n",
      "Iterazione 91: Accuracy 0.9518269486936427, Parametri {'C': 0.5, 'coef0': 0.0, 'degree': 2, 'gamma': 'scale', 'kernel': 'rbf'}\n",
      "Iterazione 92: Accuracy 0.9080142562405902, Parametri {'C': 0.5, 'coef0': 0.0, 'degree': 2, 'gamma': 'scale', 'kernel': 'poly'}\n",
      "Iterazione 93: Accuracy 0.9339019411039449, Parametri {'C': 0.5, 'coef0': 0.0, 'degree': 2, 'gamma': 'auto', 'kernel': 'linear'}\n",
      "Iterazione 94: Accuracy 0.9512049032545864, Parametri {'C': 0.5, 'coef0': 0.0, 'degree': 2, 'gamma': 'auto', 'kernel': 'rbf'}\n",
      "Iterazione 95: Accuracy 0.904030594226873, Parametri {'C': 0.5, 'coef0': 0.0, 'degree': 2, 'gamma': 'auto', 'kernel': 'poly'}\n",
      "Iterazione 96: Accuracy 0.9339019411039449, Parametri {'C': 0.5, 'coef0': 0.0, 'degree': 2, 'gamma': 0.1, 'kernel': 'linear'}\n",
      "Iterazione 97: Accuracy 0.9573037675879631, Parametri {'C': 0.5, 'coef0': 0.0, 'degree': 2, 'gamma': 0.1, 'kernel': 'rbf'}\n",
      "Iterazione 98: Accuracy 0.9194663358177977, Parametri {'C': 0.5, 'coef0': 0.0, 'degree': 2, 'gamma': 0.1, 'kernel': 'poly'}\n",
      "Iterazione 99: Accuracy 0.9339019411039449, Parametri {'C': 0.5, 'coef0': 0.0, 'degree': 2, 'gamma': 0.5, 'kernel': 'linear'}\n",
      "Iterazione 100: Accuracy 0.9709955824860751, Parametri {'C': 0.5, 'coef0': 0.0, 'degree': 2, 'gamma': 0.5, 'kernel': 'rbf'}\n",
      "Iterazione 101: Accuracy 0.9490879971252084, Parametri {'C': 0.5, 'coef0': 0.0, 'degree': 2, 'gamma': 0.5, 'kernel': 'poly'}\n",
      "Iterazione 102: Accuracy 0.9339019411039449, Parametri {'C': 0.5, 'coef0': 0.0, 'degree': 2, 'gamma': 1, 'kernel': 'linear'}\n",
      "Iterazione 103: Accuracy 0.9758514401838875, Parametri {'C': 0.5, 'coef0': 0.0, 'degree': 2, 'gamma': 1, 'kernel': 'rbf'}\n",
      "Iterazione 104: Accuracy 0.9560575082247542, Parametri {'C': 0.5, 'coef0': 0.0, 'degree': 2, 'gamma': 1, 'kernel': 'poly'}\n",
      "Iterazione 105: Accuracy 0.9339019411039449, Parametri {'C': 0.5, 'coef0': 0.0, 'degree': 3, 'gamma': 'scale', 'kernel': 'linear'}\n",
      "Iterazione 106: Accuracy 0.9518269486936427, Parametri {'C': 0.5, 'coef0': 0.0, 'degree': 3, 'gamma': 'scale', 'kernel': 'rbf'}\n",
      "Iterazione 107: Accuracy 0.8527491744267455, Parametri {'C': 0.5, 'coef0': 0.0, 'degree': 3, 'gamma': 'scale', 'kernel': 'poly'}\n",
      "Iterazione 108: Accuracy 0.9339019411039449, Parametri {'C': 0.5, 'coef0': 0.0, 'degree': 3, 'gamma': 'auto', 'kernel': 'linear'}\n",
      "Iterazione 109: Accuracy 0.9512049032545864, Parametri {'C': 0.5, 'coef0': 0.0, 'degree': 3, 'gamma': 'auto', 'kernel': 'rbf'}\n",
      "Iterazione 110: Accuracy 0.8477712619963693, Parametri {'C': 0.5, 'coef0': 0.0, 'degree': 3, 'gamma': 'auto', 'kernel': 'poly'}\n",
      "Iterazione 111: Accuracy 0.9339019411039449, Parametri {'C': 0.5, 'coef0': 0.0, 'degree': 3, 'gamma': 0.1, 'kernel': 'linear'}\n",
      "Iterazione 112: Accuracy 0.9573037675879631, Parametri {'C': 0.5, 'coef0': 0.0, 'degree': 3, 'gamma': 0.1, 'kernel': 'rbf'}\n",
      "Iterazione 113: Accuracy 0.8773946271134985, Parametri {'C': 0.5, 'coef0': 0.0, 'degree': 3, 'gamma': 0.1, 'kernel': 'poly'}\n",
      "Iterazione 114: Accuracy 0.9339019411039449, Parametri {'C': 0.5, 'coef0': 0.0, 'degree': 3, 'gamma': 0.5, 'kernel': 'linear'}\n",
      "Iterazione 115: Accuracy 0.9709955824860751, Parametri {'C': 0.5, 'coef0': 0.0, 'degree': 3, 'gamma': 0.5, 'kernel': 'rbf'}\n",
      "Iterazione 116: Accuracy 0.9568071845009077, Parametri {'C': 0.5, 'coef0': 0.0, 'degree': 3, 'gamma': 0.5, 'kernel': 'poly'}\n",
      "Iterazione 117: Accuracy 0.9339019411039449, Parametri {'C': 0.5, 'coef0': 0.0, 'degree': 3, 'gamma': 1, 'kernel': 'linear'}\n",
      "Iterazione 118: Accuracy 0.9758514401838875, Parametri {'C': 0.5, 'coef0': 0.0, 'degree': 3, 'gamma': 1, 'kernel': 'rbf'}\n",
      "Iterazione 119: Accuracy 0.9721185479823795, Parametri {'C': 0.5, 'coef0': 0.0, 'degree': 3, 'gamma': 1, 'kernel': 'poly'}\n",
      "Iterazione 120: Accuracy 0.9339019411039449, Parametri {'C': 0.5, 'coef0': 0.5, 'degree': 2, 'gamma': 'scale', 'kernel': 'linear'}\n",
      "Iterazione 121: Accuracy 0.9518269486936427, Parametri {'C': 0.5, 'coef0': 0.5, 'degree': 2, 'gamma': 'scale', 'kernel': 'rbf'}\n",
      "Iterazione 122: Accuracy 0.9458518429025483, Parametri {'C': 0.5, 'coef0': 0.5, 'degree': 2, 'gamma': 'scale', 'kernel': 'poly'}\n",
      "Iterazione 123: Accuracy 0.9339019411039449, Parametri {'C': 0.5, 'coef0': 0.5, 'degree': 2, 'gamma': 'auto', 'kernel': 'linear'}\n",
      "Iterazione 124: Accuracy 0.9512049032545864, Parametri {'C': 0.5, 'coef0': 0.5, 'degree': 2, 'gamma': 'auto', 'kernel': 'rbf'}\n",
      "Iterazione 125: Accuracy 0.9439849321264164, Parametri {'C': 0.5, 'coef0': 0.5, 'degree': 2, 'gamma': 'auto', 'kernel': 'poly'}\n",
      "Iterazione 126: Accuracy 0.9339019411039449, Parametri {'C': 0.5, 'coef0': 0.5, 'degree': 2, 'gamma': 0.1, 'kernel': 'linear'}\n",
      "Iterazione 127: Accuracy 0.9573037675879631, Parametri {'C': 0.5, 'coef0': 0.5, 'degree': 2, 'gamma': 0.1, 'kernel': 'rbf'}\n",
      "Iterazione 128: Accuracy 0.9534464972770023, Parametri {'C': 0.5, 'coef0': 0.5, 'degree': 2, 'gamma': 0.1, 'kernel': 'poly'}\n",
      "Iterazione 129: Accuracy 0.9339019411039449, Parametri {'C': 0.5, 'coef0': 0.5, 'degree': 2, 'gamma': 0.5, 'kernel': 'linear'}\n",
      "Iterazione 130: Accuracy 0.9709955824860751, Parametri {'C': 0.5, 'coef0': 0.5, 'degree': 2, 'gamma': 0.5, 'kernel': 'rbf'}\n",
      "Iterazione 131: Accuracy 0.9643985861477173, Parametri {'C': 0.5, 'coef0': 0.5, 'degree': 2, 'gamma': 0.5, 'kernel': 'poly'}\n",
      "Iterazione 132: Accuracy 0.9339019411039449, Parametri {'C': 0.5, 'coef0': 0.5, 'degree': 2, 'gamma': 1, 'kernel': 'linear'}\n",
      "Iterazione 133: Accuracy 0.9758514401838875, Parametri {'C': 0.5, 'coef0': 0.5, 'degree': 2, 'gamma': 1, 'kernel': 'rbf'}\n",
      "Iterazione 134: Accuracy 0.9652700073728493, Parametri {'C': 0.5, 'coef0': 0.5, 'degree': 2, 'gamma': 1, 'kernel': 'poly'}\n",
      "Iterazione 135: Accuracy 0.9339019411039449, Parametri {'C': 0.5, 'coef0': 0.5, 'degree': 3, 'gamma': 'scale', 'kernel': 'linear'}\n",
      "Iterazione 136: Accuracy 0.9518269486936427, Parametri {'C': 0.5, 'coef0': 0.5, 'degree': 3, 'gamma': 'scale', 'kernel': 'rbf'}\n",
      "Iterazione 137: Accuracy 0.9510814544958892, Parametri {'C': 0.5, 'coef0': 0.5, 'degree': 3, 'gamma': 'scale', 'kernel': 'poly'}\n",
      "Iterazione 138: Accuracy 0.9339019411039449, Parametri {'C': 0.5, 'coef0': 0.5, 'degree': 3, 'gamma': 'auto', 'kernel': 'linear'}\n",
      "Iterazione 139: Accuracy 0.9512049032545864, Parametri {'C': 0.5, 'coef0': 0.5, 'degree': 3, 'gamma': 'auto', 'kernel': 'rbf'}\n",
      "Iterazione 140: Accuracy 0.9492146986115498, Parametri {'C': 0.5, 'coef0': 0.5, 'degree': 3, 'gamma': 'auto', 'kernel': 'poly'}\n",
      "Iterazione 141: Accuracy 0.9339019411039449, Parametri {'C': 0.5, 'coef0': 0.5, 'degree': 3, 'gamma': 0.1, 'kernel': 'linear'}\n",
      "Iterazione 142: Accuracy 0.9573037675879631, Parametri {'C': 0.5, 'coef0': 0.5, 'degree': 3, 'gamma': 0.1, 'kernel': 'rbf'}\n",
      "Iterazione 143: Accuracy 0.9580511204872277, Parametri {'C': 0.5, 'coef0': 0.5, 'degree': 3, 'gamma': 0.1, 'kernel': 'poly'}\n",
      "Iterazione 144: Accuracy 0.9339019411039449, Parametri {'C': 0.5, 'coef0': 0.5, 'degree': 3, 'gamma': 0.5, 'kernel': 'linear'}\n",
      "Iterazione 145: Accuracy 0.9709955824860751, Parametri {'C': 0.5, 'coef0': 0.5, 'degree': 3, 'gamma': 0.5, 'kernel': 'rbf'}\n",
      "Iterazione 146: Accuracy 0.9731134179662089, Parametri {'C': 0.5, 'coef0': 0.5, 'degree': 3, 'gamma': 0.5, 'kernel': 'poly'}\n",
      "Iterazione 147: Accuracy 0.9339019411039449, Parametri {'C': 0.5, 'coef0': 0.5, 'degree': 3, 'gamma': 1, 'kernel': 'linear'}\n",
      "Iterazione 148: Accuracy 0.9758514401838875, Parametri {'C': 0.5, 'coef0': 0.5, 'degree': 3, 'gamma': 1, 'kernel': 'rbf'}\n",
      "Iterazione 149: Accuracy 0.9779680365296806, Parametri {'C': 0.5, 'coef0': 0.5, 'degree': 3, 'gamma': 1, 'kernel': 'poly'}\n",
      "Iterazione 150: Accuracy 0.9339019411039449, Parametri {'C': 0.5, 'coef0': 1.0, 'degree': 2, 'gamma': 'scale', 'kernel': 'linear'}\n",
      "Iterazione 151: Accuracy 0.9518269486936427, Parametri {'C': 0.5, 'coef0': 1.0, 'degree': 2, 'gamma': 'scale', 'kernel': 'rbf'}\n",
      "Iterazione 152: Accuracy 0.9502089490282091, Parametri {'C': 0.5, 'coef0': 1.0, 'degree': 2, 'gamma': 'scale', 'kernel': 'poly'}\n",
      "Iterazione 153: Accuracy 0.9339019411039449, Parametri {'C': 0.5, 'coef0': 1.0, 'degree': 2, 'gamma': 'auto', 'kernel': 'linear'}\n",
      "Iterazione 154: Accuracy 0.9512049032545864, Parametri {'C': 0.5, 'coef0': 1.0, 'degree': 2, 'gamma': 'auto', 'kernel': 'rbf'}\n",
      "Iterazione 155: Accuracy 0.9480926624660013, Parametri {'C': 0.5, 'coef0': 1.0, 'degree': 2, 'gamma': 'auto', 'kernel': 'poly'}\n",
      "Iterazione 156: Accuracy 0.9339019411039449, Parametri {'C': 0.5, 'coef0': 1.0, 'degree': 2, 'gamma': 0.1, 'kernel': 'linear'}\n",
      "Iterazione 157: Accuracy 0.9573037675879631, Parametri {'C': 0.5, 'coef0': 1.0, 'degree': 2, 'gamma': 0.1, 'kernel': 'rbf'}\n",
      "Iterazione 158: Accuracy 0.9548151211563601, Parametri {'C': 0.5, 'coef0': 1.0, 'degree': 2, 'gamma': 0.1, 'kernel': 'poly'}\n",
      "Iterazione 159: Accuracy 0.9339019411039449, Parametri {'C': 0.5, 'coef0': 1.0, 'degree': 2, 'gamma': 0.5, 'kernel': 'linear'}\n",
      "Iterazione 160: Accuracy 0.9709955824860751, Parametri {'C': 0.5, 'coef0': 1.0, 'degree': 2, 'gamma': 0.5, 'kernel': 'rbf'}\n",
      "Iterazione 161: Accuracy 0.9651454743716041, Parametri {'C': 0.5, 'coef0': 1.0, 'degree': 2, 'gamma': 0.5, 'kernel': 'poly'}\n",
      "Iterazione 162: Accuracy 0.9339019411039449, Parametri {'C': 0.5, 'coef0': 1.0, 'degree': 2, 'gamma': 1, 'kernel': 'linear'}\n",
      "Iterazione 163: Accuracy 0.9758514401838875, Parametri {'C': 0.5, 'coef0': 1.0, 'degree': 2, 'gamma': 1, 'kernel': 'rbf'}\n",
      "Iterazione 164: Accuracy 0.968506316487302, Parametri {'C': 0.5, 'coef0': 1.0, 'degree': 2, 'gamma': 1, 'kernel': 'poly'}\n",
      "Iterazione 165: Accuracy 0.9339019411039449, Parametri {'C': 0.5, 'coef0': 1.0, 'degree': 3, 'gamma': 'scale', 'kernel': 'linear'}\n",
      "Iterazione 166: Accuracy 0.9518269486936427, Parametri {'C': 0.5, 'coef0': 1.0, 'degree': 3, 'gamma': 'scale', 'kernel': 'rbf'}\n",
      "Iterazione 167: Accuracy 0.9600427191563974, Parametri {'C': 0.5, 'coef0': 1.0, 'degree': 3, 'gamma': 'scale', 'kernel': 'poly'}\n",
      "Iterazione 168: Accuracy 0.9339019411039449, Parametri {'C': 0.5, 'coef0': 1.0, 'degree': 3, 'gamma': 'auto', 'kernel': 'linear'}\n",
      "Iterazione 169: Accuracy 0.9512049032545864, Parametri {'C': 0.5, 'coef0': 1.0, 'degree': 3, 'gamma': 'auto', 'kernel': 'rbf'}\n",
      "Iterazione 170: Accuracy 0.9592964504996809, Parametri {'C': 0.5, 'coef0': 1.0, 'degree': 3, 'gamma': 'auto', 'kernel': 'poly'}\n",
      "Iterazione 171: Accuracy 0.9339019411039449, Parametri {'C': 0.5, 'coef0': 1.0, 'degree': 3, 'gamma': 0.1, 'kernel': 'linear'}\n",
      "Iterazione 172: Accuracy 0.9573037675879631, Parametri {'C': 0.5, 'coef0': 1.0, 'degree': 3, 'gamma': 0.1, 'kernel': 'rbf'}\n",
      "Iterazione 173: Accuracy 0.9625321400469632, Parametri {'C': 0.5, 'coef0': 1.0, 'degree': 3, 'gamma': 0.1, 'kernel': 'poly'}\n",
      "Iterazione 174: Accuracy 0.9339019411039449, Parametri {'C': 0.5, 'coef0': 1.0, 'degree': 3, 'gamma': 0.5, 'kernel': 'linear'}\n",
      "Iterazione 175: Accuracy 0.9709955824860751, Parametri {'C': 0.5, 'coef0': 1.0, 'degree': 3, 'gamma': 0.5, 'kernel': 'rbf'}\n",
      "Iterazione 176: Accuracy 0.9759764378605109, Parametri {'C': 0.5, 'coef0': 1.0, 'degree': 3, 'gamma': 0.5, 'kernel': 'poly'}\n",
      "Iterazione 177: Accuracy 0.9339019411039449, Parametri {'C': 0.5, 'coef0': 1.0, 'degree': 3, 'gamma': 1, 'kernel': 'linear'}\n",
      "Iterazione 178: Accuracy 0.9758514401838875, Parametri {'C': 0.5, 'coef0': 1.0, 'degree': 3, 'gamma': 1, 'kernel': 'rbf'}\n",
      "Iterazione 179: Accuracy 0.9804573025284536, Parametri {'C': 0.5, 'coef0': 1.0, 'degree': 3, 'gamma': 1, 'kernel': 'poly'}\n",
      "Iterazione 180: Accuracy 0.9355205603365488, Parametri {'C': 1.0, 'coef0': 0.0, 'degree': 2, 'gamma': 'scale', 'kernel': 'linear'}\n",
      "Iterazione 181: Accuracy 0.9599181861551521, Parametri {'C': 1.0, 'coef0': 0.0, 'degree': 2, 'gamma': 'scale', 'kernel': 'rbf'}\n",
      "Iterazione 182: Accuracy 0.9197152469284958, Parametri {'C': 1.0, 'coef0': 0.0, 'degree': 2, 'gamma': 'scale', 'kernel': 'poly'}\n",
      "Iterazione 183: Accuracy 0.9355205603365488, Parametri {'C': 1.0, 'coef0': 0.0, 'degree': 2, 'gamma': 'auto', 'kernel': 'linear'}\n",
      "Iterazione 184: Accuracy 0.9595452067185866, Parametri {'C': 1.0, 'coef0': 0.0, 'degree': 2, 'gamma': 'auto', 'kernel': 'rbf'}\n",
      "Iterazione 185: Accuracy 0.9169764502518541, Parametri {'C': 1.0, 'coef0': 0.0, 'degree': 2, 'gamma': 'auto', 'kernel': 'poly'}\n",
      "Iterazione 186: Accuracy 0.9355205603365488, Parametri {'C': 1.0, 'coef0': 0.0, 'degree': 2, 'gamma': 0.1, 'kernel': 'linear'}\n",
      "Iterazione 187: Accuracy 0.9627804315904909, Parametri {'C': 1.0, 'coef0': 0.0, 'degree': 2, 'gamma': 0.1, 'kernel': 'rbf'}\n",
      "Iterazione 188: Accuracy 0.9296721560317961, Parametri {'C': 1.0, 'coef0': 0.0, 'degree': 2, 'gamma': 0.1, 'kernel': 'poly'}\n",
      "Iterazione 189: Accuracy 0.9355205603365488, Parametri {'C': 1.0, 'coef0': 0.0, 'degree': 2, 'gamma': 0.5, 'kernel': 'linear'}\n",
      "Iterazione 190: Accuracy 0.9762244196204533, Parametri {'C': 1.0, 'coef0': 0.0, 'degree': 2, 'gamma': 0.5, 'kernel': 'rbf'}\n",
      "Iterazione 191: Accuracy 0.9525722879996035, Parametri {'C': 1.0, 'coef0': 0.0, 'degree': 2, 'gamma': 0.5, 'kernel': 'poly'}\n",
      "Iterazione 192: Accuracy 0.9355205603365488, Parametri {'C': 1.0, 'coef0': 0.0, 'degree': 2, 'gamma': 1, 'kernel': 'linear'}\n",
      "Iterazione 193: Accuracy 0.9785902368605293, Parametri {'C': 1.0, 'coef0': 0.0, 'degree': 2, 'gamma': 1, 'kernel': 'rbf'}\n",
      "Iterazione 194: Accuracy 0.957675817673773, Parametri {'C': 1.0, 'coef0': 0.0, 'degree': 2, 'gamma': 1, 'kernel': 'poly'}\n",
      "Iterazione 195: Accuracy 0.9355205603365488, Parametri {'C': 1.0, 'coef0': 0.0, 'degree': 3, 'gamma': 'scale', 'kernel': 'linear'}\n",
      "Iterazione 196: Accuracy 0.9599181861551521, Parametri {'C': 1.0, 'coef0': 0.0, 'degree': 3, 'gamma': 'scale', 'kernel': 'rbf'}\n",
      "Iterazione 197: Accuracy 0.8691787017589512, Parametri {'C': 1.0, 'coef0': 0.0, 'degree': 3, 'gamma': 'scale', 'kernel': 'poly'}\n",
      "Iterazione 198: Accuracy 0.9355205603365488, Parametri {'C': 1.0, 'coef0': 0.0, 'degree': 3, 'gamma': 'auto', 'kernel': 'linear'}\n",
      "Iterazione 199: Accuracy 0.9595452067185866, Parametri {'C': 1.0, 'coef0': 0.0, 'degree': 3, 'gamma': 'auto', 'kernel': 'rbf'}\n",
      "Iterazione 200: Accuracy 0.8629565435586699, Parametri {'C': 1.0, 'coef0': 0.0, 'degree': 3, 'gamma': 'auto', 'kernel': 'poly'}\n",
      "Iterazione 201: Accuracy 0.9355205603365488, Parametri {'C': 1.0, 'coef0': 0.0, 'degree': 3, 'gamma': 0.1, 'kernel': 'linear'}\n",
      "Iterazione 202: Accuracy 0.9627804315904909, Parametri {'C': 1.0, 'coef0': 0.0, 'degree': 3, 'gamma': 0.1, 'kernel': 'rbf'}\n",
      "Iterazione 203: Accuracy 0.89295319789595, Parametri {'C': 1.0, 'coef0': 0.0, 'degree': 3, 'gamma': 0.1, 'kernel': 'poly'}\n",
      "Iterazione 204: Accuracy 0.9355205603365488, Parametri {'C': 1.0, 'coef0': 0.0, 'degree': 3, 'gamma': 0.5, 'kernel': 'linear'}\n",
      "Iterazione 205: Accuracy 0.9762244196204533, Parametri {'C': 1.0, 'coef0': 0.0, 'degree': 3, 'gamma': 0.5, 'kernel': 'rbf'}\n",
      "Iterazione 206: Accuracy 0.963403716163888, Parametri {'C': 1.0, 'coef0': 0.0, 'degree': 3, 'gamma': 0.5, 'kernel': 'poly'}\n",
      "Iterazione 207: Accuracy 0.9355205603365488, Parametri {'C': 1.0, 'coef0': 0.0, 'degree': 3, 'gamma': 1, 'kernel': 'linear'}\n",
      "Iterazione 208: Accuracy 0.9785902368605293, Parametri {'C': 1.0, 'coef0': 0.0, 'degree': 3, 'gamma': 1, 'kernel': 'rbf'}\n",
      "Iterazione 209: Accuracy 0.9721180833070017, Parametri {'C': 1.0, 'coef0': 0.0, 'degree': 3, 'gamma': 1, 'kernel': 'poly'}\n",
      "Iterazione 210: Accuracy 0.9355205603365488, Parametri {'C': 1.0, 'coef0': 0.5, 'degree': 2, 'gamma': 'scale', 'kernel': 'linear'}\n",
      "Iterazione 211: Accuracy 0.9599181861551521, Parametri {'C': 1.0, 'coef0': 0.5, 'degree': 2, 'gamma': 'scale', 'kernel': 'rbf'}\n",
      "Iterazione 212: Accuracy 0.954441986828002, Parametri {'C': 1.0, 'coef0': 0.5, 'degree': 2, 'gamma': 'scale', 'kernel': 'poly'}\n",
      "Iterazione 213: Accuracy 0.9355205603365488, Parametri {'C': 1.0, 'coef0': 0.5, 'degree': 2, 'gamma': 'auto', 'kernel': 'linear'}\n",
      "Iterazione 214: Accuracy 0.9595452067185866, Parametri {'C': 1.0, 'coef0': 0.5, 'degree': 2, 'gamma': 'auto', 'kernel': 'rbf'}\n",
      "Iterazione 215: Accuracy 0.9541923012583409, Parametri {'C': 1.0, 'coef0': 0.5, 'degree': 2, 'gamma': 'auto', 'kernel': 'poly'}\n",
      "Iterazione 216: Accuracy 0.9355205603365488, Parametri {'C': 1.0, 'coef0': 0.5, 'degree': 2, 'gamma': 0.1, 'kernel': 'linear'}\n",
      "Iterazione 217: Accuracy 0.9627804315904909, Parametri {'C': 1.0, 'coef0': 0.5, 'degree': 2, 'gamma': 0.1, 'kernel': 'rbf'}\n",
      "Iterazione 218: Accuracy 0.9586736306016617, Parametri {'C': 1.0, 'coef0': 0.5, 'degree': 2, 'gamma': 0.1, 'kernel': 'poly'}\n",
      "Iterazione 219: Accuracy 0.9355205603365488, Parametri {'C': 1.0, 'coef0': 0.5, 'degree': 2, 'gamma': 0.5, 'kernel': 'linear'}\n",
      "Iterazione 220: Accuracy 0.9762244196204533, Parametri {'C': 1.0, 'coef0': 0.5, 'degree': 2, 'gamma': 0.5, 'kernel': 'rbf'}\n",
      "Iterazione 221: Accuracy 0.9653946952658872, Parametri {'C': 1.0, 'coef0': 0.5, 'degree': 2, 'gamma': 0.5, 'kernel': 'poly'}\n",
      "Iterazione 222: Accuracy 0.9355205603365488, Parametri {'C': 1.0, 'coef0': 0.5, 'degree': 2, 'gamma': 1, 'kernel': 'linear'}\n",
      "Iterazione 223: Accuracy 0.9785902368605293, Parametri {'C': 1.0, 'coef0': 0.5, 'degree': 2, 'gamma': 1, 'kernel': 'rbf'}\n",
      "Iterazione 224: Accuracy 0.9685061615955094, Parametri {'C': 1.0, 'coef0': 0.5, 'degree': 2, 'gamma': 1, 'kernel': 'poly'}\n",
      "Iterazione 225: Accuracy 0.9355205603365488, Parametri {'C': 1.0, 'coef0': 0.5, 'degree': 3, 'gamma': 'scale', 'kernel': 'linear'}\n",
      "Iterazione 226: Accuracy 0.9599181861551521, Parametri {'C': 1.0, 'coef0': 0.5, 'degree': 3, 'gamma': 'scale', 'kernel': 'rbf'}\n",
      "Iterazione 227: Accuracy 0.9569312528267753, Parametri {'C': 1.0, 'coef0': 0.5, 'degree': 3, 'gamma': 'scale', 'kernel': 'poly'}\n",
      "Iterazione 228: Accuracy 0.9355205603365488, Parametri {'C': 1.0, 'coef0': 0.5, 'degree': 3, 'gamma': 'auto', 'kernel': 'linear'}\n",
      "Iterazione 229: Accuracy 0.9595452067185866, Parametri {'C': 1.0, 'coef0': 0.5, 'degree': 3, 'gamma': 'auto', 'kernel': 'rbf'}\n",
      "Iterazione 230: Accuracy 0.9553130982695489, Parametri {'C': 1.0, 'coef0': 0.5, 'degree': 3, 'gamma': 'auto', 'kernel': 'poly'}\n",
      "Iterazione 231: Accuracy 0.9355205603365488, Parametri {'C': 1.0, 'coef0': 0.5, 'degree': 3, 'gamma': 0.1, 'kernel': 'linear'}\n",
      "Iterazione 232: Accuracy 0.9627804315904909, Parametri {'C': 1.0, 'coef0': 0.5, 'degree': 3, 'gamma': 0.1, 'kernel': 'rbf'}\n",
      "Iterazione 233: Accuracy 0.9617863360656246, Parametri {'C': 1.0, 'coef0': 0.5, 'degree': 3, 'gamma': 0.1, 'kernel': 'poly'}\n",
      "Iterazione 234: Accuracy 0.9355205603365488, Parametri {'C': 1.0, 'coef0': 0.5, 'degree': 3, 'gamma': 0.5, 'kernel': 'linear'}\n",
      "Iterazione 235: Accuracy 0.9762244196204533, Parametri {'C': 1.0, 'coef0': 0.5, 'degree': 3, 'gamma': 0.5, 'kernel': 'rbf'}\n",
      "Iterazione 236: Accuracy 0.9759759731851331, Parametri {'C': 1.0, 'coef0': 0.5, 'degree': 3, 'gamma': 0.5, 'kernel': 'poly'}\n",
      "Iterazione 237: Accuracy 0.9355205603365488, Parametri {'C': 1.0, 'coef0': 0.5, 'degree': 3, 'gamma': 1, 'kernel': 'linear'}\n",
      "Iterazione 238: Accuracy 0.9785902368605293, Parametri {'C': 1.0, 'coef0': 0.5, 'degree': 3, 'gamma': 1, 'kernel': 'rbf'}\n",
      "Iterazione 239: Accuracy 0.9802076169587928, Parametri {'C': 1.0, 'coef0': 0.5, 'degree': 3, 'gamma': 1, 'kernel': 'poly'}\n",
      "Iterazione 240: Accuracy 0.9355205603365488, Parametri {'C': 1.0, 'coef0': 1.0, 'degree': 2, 'gamma': 'scale', 'kernel': 'linear'}\n",
      "Iterazione 241: Accuracy 0.9599181861551521, Parametri {'C': 1.0, 'coef0': 1.0, 'degree': 2, 'gamma': 'scale', 'kernel': 'rbf'}\n",
      "Iterazione 242: Accuracy 0.9555623191638322, Parametri {'C': 1.0, 'coef0': 1.0, 'degree': 2, 'gamma': 'scale', 'kernel': 'poly'}\n",
      "Iterazione 243: Accuracy 0.9355205603365488, Parametri {'C': 1.0, 'coef0': 1.0, 'degree': 2, 'gamma': 'auto', 'kernel': 'linear'}\n",
      "Iterazione 244: Accuracy 0.9595452067185866, Parametri {'C': 1.0, 'coef0': 1.0, 'degree': 2, 'gamma': 'auto', 'kernel': 'rbf'}\n",
      "Iterazione 245: Accuracy 0.9546905881551149, Parametri {'C': 1.0, 'coef0': 1.0, 'degree': 2, 'gamma': 'auto', 'kernel': 'poly'}\n",
      "Iterazione 246: Accuracy 0.9355205603365488, Parametri {'C': 1.0, 'coef0': 1.0, 'degree': 2, 'gamma': 0.1, 'kernel': 'linear'}\n",
      "Iterazione 247: Accuracy 0.9627804315904909, Parametri {'C': 1.0, 'coef0': 1.0, 'degree': 2, 'gamma': 0.1, 'kernel': 'rbf'}\n",
      "Iterazione 248: Accuracy 0.9586740952770395, Parametri {'C': 1.0, 'coef0': 1.0, 'degree': 2, 'gamma': 0.1, 'kernel': 'poly'}\n",
      "Iterazione 249: Accuracy 0.9355205603365488, Parametri {'C': 1.0, 'coef0': 1.0, 'degree': 2, 'gamma': 0.5, 'kernel': 'linear'}\n",
      "Iterazione 250: Accuracy 0.9762244196204533, Parametri {'C': 1.0, 'coef0': 1.0, 'degree': 2, 'gamma': 0.5, 'kernel': 'rbf'}\n",
      "Iterazione 251: Accuracy 0.9671370730407738, Parametri {'C': 1.0, 'coef0': 1.0, 'degree': 2, 'gamma': 0.5, 'kernel': 'poly'}\n",
      "Iterazione 252: Accuracy 0.9355205603365488, Parametri {'C': 1.0, 'coef0': 1.0, 'degree': 2, 'gamma': 1, 'kernel': 'linear'}\n",
      "Iterazione 253: Accuracy 0.9785902368605293, Parametri {'C': 1.0, 'coef0': 1.0, 'degree': 2, 'gamma': 1, 'kernel': 'rbf'}\n",
      "Iterazione 254: Accuracy 0.9701247808281135, Parametri {'C': 1.0, 'coef0': 1.0, 'degree': 2, 'gamma': 1, 'kernel': 'poly'}\n",
      "Iterazione 255: Accuracy 0.9355205603365488, Parametri {'C': 1.0, 'coef0': 1.0, 'degree': 3, 'gamma': 'scale', 'kernel': 'linear'}\n",
      "Iterazione 256: Accuracy 0.9599181861551521, Parametri {'C': 1.0, 'coef0': 1.0, 'degree': 3, 'gamma': 'scale', 'kernel': 'rbf'}\n",
      "Iterazione 257: Accuracy 0.9619099397161144, Parametri {'C': 1.0, 'coef0': 1.0, 'degree': 3, 'gamma': 'scale', 'kernel': 'poly'}\n",
      "Iterazione 258: Accuracy 0.9355205603365488, Parametri {'C': 1.0, 'coef0': 1.0, 'degree': 3, 'gamma': 'auto', 'kernel': 'linear'}\n",
      "Iterazione 259: Accuracy 0.9595452067185866, Parametri {'C': 1.0, 'coef0': 1.0, 'degree': 3, 'gamma': 'auto', 'kernel': 'rbf'}\n",
      "Iterazione 260: Accuracy 0.9609142952733221, Parametri {'C': 1.0, 'coef0': 1.0, 'degree': 3, 'gamma': 'auto', 'kernel': 'poly'}\n",
      "Iterazione 261: Accuracy 0.9355205603365488, Parametri {'C': 1.0, 'coef0': 1.0, 'degree': 3, 'gamma': 0.1, 'kernel': 'linear'}\n",
      "Iterazione 262: Accuracy 0.9627804315904909, Parametri {'C': 1.0, 'coef0': 1.0, 'degree': 3, 'gamma': 0.1, 'kernel': 'rbf'}\n",
      "Iterazione 263: Accuracy 0.9647726498268311, Parametri {'C': 1.0, 'coef0': 1.0, 'degree': 3, 'gamma': 0.1, 'kernel': 'poly'}\n",
      "Iterazione 264: Accuracy 0.9355205603365488, Parametri {'C': 1.0, 'coef0': 1.0, 'degree': 3, 'gamma': 0.5, 'kernel': 'linear'}\n",
      "Iterazione 265: Accuracy 0.9762244196204533, Parametri {'C': 1.0, 'coef0': 1.0, 'degree': 3, 'gamma': 0.5, 'kernel': 'rbf'}\n",
      "Iterazione 266: Accuracy 0.9784663234264543, Parametri {'C': 1.0, 'coef0': 1.0, 'degree': 3, 'gamma': 0.5, 'kernel': 'poly'}\n",
      "Iterazione 267: Accuracy 0.9355205603365488, Parametri {'C': 1.0, 'coef0': 1.0, 'degree': 3, 'gamma': 1, 'kernel': 'linear'}\n",
      "Iterazione 268: Accuracy 0.9785902368605293, Parametri {'C': 1.0, 'coef0': 1.0, 'degree': 3, 'gamma': 1, 'kernel': 'rbf'}\n",
      "Iterazione 269: Accuracy 0.9829464136354342, Parametri {'C': 1.0, 'coef0': 1.0, 'degree': 3, 'gamma': 1, 'kernel': 'poly'}\n",
      "Iterazione 270: Accuracy 0.9362671387768504, Parametri {'C': 1.5, 'coef0': 0.0, 'degree': 2, 'gamma': 'scale', 'kernel': 'linear'}\n",
      "Iterazione 271: Accuracy 0.9607888329213212, Parametri {'C': 1.5, 'coef0': 0.0, 'degree': 2, 'gamma': 'scale', 'kernel': 'rbf'}\n",
      "Iterazione 272: Accuracy 0.9265605348103815, Parametri {'C': 1.5, 'coef0': 0.0, 'degree': 2, 'gamma': 'scale', 'kernel': 'poly'}\n",
      "Iterazione 273: Accuracy 0.9362671387768504, Parametri {'C': 1.5, 'coef0': 0.0, 'degree': 2, 'gamma': 'auto', 'kernel': 'linear'}\n",
      "Iterazione 274: Accuracy 0.9604158534847557, Parametri {'C': 1.5, 'coef0': 0.0, 'degree': 2, 'gamma': 'auto', 'kernel': 'rbf'}\n",
      "Iterazione 275: Accuracy 0.9243206445976841, Parametri {'C': 1.5, 'coef0': 0.0, 'degree': 2, 'gamma': 'auto', 'kernel': 'poly'}\n",
      "Iterazione 276: Accuracy 0.9362671387768504, Parametri {'C': 1.5, 'coef0': 0.0, 'degree': 2, 'gamma': 0.1, 'kernel': 'linear'}\n",
      "Iterazione 277: Accuracy 0.9660170504885286, Parametri {'C': 1.5, 'coef0': 0.0, 'degree': 2, 'gamma': 0.1, 'kernel': 'rbf'}\n",
      "Iterazione 278: Accuracy 0.9380110654696627, Parametri {'C': 1.5, 'coef0': 0.0, 'degree': 2, 'gamma': 0.1, 'kernel': 'poly'}\n",
      "Iterazione 279: Accuracy 0.9362671387768504, Parametri {'C': 1.5, 'coef0': 0.0, 'degree': 2, 'gamma': 0.5, 'kernel': 'linear'}\n",
      "Iterazione 280: Accuracy 0.9779672620707176, Parametri {'C': 1.5, 'coef0': 0.0, 'degree': 2, 'gamma': 0.5, 'kernel': 'rbf'}\n",
      "Iterazione 281: Accuracy 0.954066064447377, Parametri {'C': 1.5, 'coef0': 0.0, 'degree': 2, 'gamma': 0.5, 'kernel': 'poly'}\n",
      "Iterazione 282: Accuracy 0.9362671387768504, Parametri {'C': 1.5, 'coef0': 0.0, 'degree': 2, 'gamma': 1, 'kernel': 'linear'}\n",
      "Iterazione 283: Accuracy 0.980333698877964, Parametri {'C': 1.5, 'coef0': 0.0, 'degree': 2, 'gamma': 1, 'kernel': 'rbf'}\n",
      "Iterazione 284: Accuracy 0.9610371244648489, Parametri {'C': 1.5, 'coef0': 0.0, 'degree': 2, 'gamma': 1, 'kernel': 'poly'}\n",
      "Iterazione 285: Accuracy 0.9362671387768504, Parametri {'C': 1.5, 'coef0': 0.0, 'degree': 3, 'gamma': 'scale', 'kernel': 'linear'}\n",
      "Iterazione 286: Accuracy 0.9607888329213212, Parametri {'C': 1.5, 'coef0': 0.0, 'degree': 3, 'gamma': 'scale', 'kernel': 'rbf'}\n",
      "Iterazione 287: Accuracy 0.8803820251172532, Parametri {'C': 1.5, 'coef0': 0.0, 'degree': 3, 'gamma': 'scale', 'kernel': 'poly'}\n",
      "Iterazione 288: Accuracy 0.9362671387768504, Parametri {'C': 1.5, 'coef0': 0.0, 'degree': 3, 'gamma': 'auto', 'kernel': 'linear'}\n",
      "Iterazione 289: Accuracy 0.9604158534847557, Parametri {'C': 1.5, 'coef0': 0.0, 'degree': 3, 'gamma': 'auto', 'kernel': 'rbf'}\n",
      "Iterazione 290: Accuracy 0.8747809830052725, Parametri {'C': 1.5, 'coef0': 0.0, 'degree': 3, 'gamma': 'auto', 'kernel': 'poly'}\n",
      "Iterazione 291: Accuracy 0.9362671387768504, Parametri {'C': 1.5, 'coef0': 0.0, 'degree': 3, 'gamma': 0.1, 'kernel': 'linear'}\n",
      "Iterazione 292: Accuracy 0.9660170504885286, Parametri {'C': 1.5, 'coef0': 0.0, 'degree': 3, 'gamma': 0.1, 'kernel': 'rbf'}\n",
      "Iterazione 293: Accuracy 0.9029111912417985, Parametri {'C': 1.5, 'coef0': 0.0, 'degree': 3, 'gamma': 0.1, 'kernel': 'poly'}\n",
      "Iterazione 294: Accuracy 0.9362671387768504, Parametri {'C': 1.5, 'coef0': 0.0, 'degree': 3, 'gamma': 0.5, 'kernel': 'linear'}\n",
      "Iterazione 295: Accuracy 0.9779672620707176, Parametri {'C': 1.5, 'coef0': 0.0, 'degree': 3, 'gamma': 0.5, 'kernel': 'rbf'}\n",
      "Iterazione 296: Accuracy 0.968009888292039, Parametri {'C': 1.5, 'coef0': 0.0, 'degree': 3, 'gamma': 0.5, 'kernel': 'poly'}\n",
      "Iterazione 297: Accuracy 0.9362671387768504, Parametri {'C': 1.5, 'coef0': 0.0, 'degree': 3, 'gamma': 1, 'kernel': 'linear'}\n",
      "Iterazione 298: Accuracy 0.980333698877964, Parametri {'C': 1.5, 'coef0': 0.0, 'degree': 3, 'gamma': 1, 'kernel': 'rbf'}\n",
      "Iterazione 299: Accuracy 0.9749811032013035, Parametri {'C': 1.5, 'coef0': 0.0, 'degree': 3, 'gamma': 1, 'kernel': 'poly'}\n",
      "Iterazione 300: Accuracy 0.9362671387768504, Parametri {'C': 1.5, 'coef0': 0.5, 'degree': 2, 'gamma': 'scale', 'kernel': 'linear'}\n",
      "Iterazione 301: Accuracy 0.9607888329213212, Parametri {'C': 1.5, 'coef0': 0.5, 'degree': 2, 'gamma': 'scale', 'kernel': 'rbf'}\n",
      "Iterazione 302: Accuracy 0.9578025191601147, Parametri {'C': 1.5, 'coef0': 0.5, 'degree': 2, 'gamma': 'scale', 'kernel': 'poly'}\n",
      "Iterazione 303: Accuracy 0.9362671387768504, Parametri {'C': 1.5, 'coef0': 0.5, 'degree': 2, 'gamma': 'auto', 'kernel': 'linear'}\n",
      "Iterazione 304: Accuracy 0.9604158534847557, Parametri {'C': 1.5, 'coef0': 0.5, 'degree': 2, 'gamma': 'auto', 'kernel': 'rbf'}\n",
      "Iterazione 305: Accuracy 0.9566823417160771, Parametri {'C': 1.5, 'coef0': 0.5, 'degree': 2, 'gamma': 'auto', 'kernel': 'poly'}\n",
      "Iterazione 306: Accuracy 0.9362671387768504, Parametri {'C': 1.5, 'coef0': 0.5, 'degree': 2, 'gamma': 0.1, 'kernel': 'linear'}\n",
      "Iterazione 307: Accuracy 0.9660170504885286, Parametri {'C': 1.5, 'coef0': 0.5, 'degree': 2, 'gamma': 0.1, 'kernel': 'rbf'}\n",
      "Iterazione 308: Accuracy 0.9600428740481899, Parametri {'C': 1.5, 'coef0': 0.5, 'degree': 2, 'gamma': 0.1, 'kernel': 'poly'}\n",
      "Iterazione 309: Accuracy 0.9362671387768504, Parametri {'C': 1.5, 'coef0': 0.5, 'degree': 2, 'gamma': 0.5, 'kernel': 'linear'}\n",
      "Iterazione 310: Accuracy 0.9779672620707176, Parametri {'C': 1.5, 'coef0': 0.5, 'degree': 2, 'gamma': 0.5, 'kernel': 'rbf'}\n",
      "Iterazione 311: Accuracy 0.9675105171527172, Parametri {'C': 1.5, 'coef0': 0.5, 'degree': 2, 'gamma': 0.5, 'kernel': 'poly'}\n",
      "Iterazione 312: Accuracy 0.9362671387768504, Parametri {'C': 1.5, 'coef0': 0.5, 'degree': 2, 'gamma': 1, 'kernel': 'linear'}\n",
      "Iterazione 313: Accuracy 0.980333698877964, Parametri {'C': 1.5, 'coef0': 0.5, 'degree': 2, 'gamma': 1, 'kernel': 'rbf'}\n",
      "Iterazione 314: Accuracy 0.969999938043283, Parametri {'C': 1.5, 'coef0': 0.5, 'degree': 2, 'gamma': 1, 'kernel': 'poly'}\n",
      "Iterazione 315: Accuracy 0.9362671387768504, Parametri {'C': 1.5, 'coef0': 0.5, 'degree': 3, 'gamma': 'scale', 'kernel': 'linear'}\n",
      "Iterazione 316: Accuracy 0.9607888329213212, Parametri {'C': 1.5, 'coef0': 0.5, 'degree': 3, 'gamma': 'scale', 'kernel': 'rbf'}\n",
      "Iterazione 317: Accuracy 0.9610385184909822, Parametri {'C': 1.5, 'coef0': 0.5, 'degree': 3, 'gamma': 'scale', 'kernel': 'poly'}\n",
      "Iterazione 318: Accuracy 0.9362671387768504, Parametri {'C': 1.5, 'coef0': 0.5, 'degree': 3, 'gamma': 'auto', 'kernel': 'linear'}\n",
      "Iterazione 319: Accuracy 0.9604158534847557, Parametri {'C': 1.5, 'coef0': 0.5, 'degree': 3, 'gamma': 'auto', 'kernel': 'rbf'}\n",
      "Iterazione 320: Accuracy 0.9597938080456994, Parametri {'C': 1.5, 'coef0': 0.5, 'degree': 3, 'gamma': 'auto', 'kernel': 'poly'}\n",
      "Iterazione 321: Accuracy 0.9362671387768504, Parametri {'C': 1.5, 'coef0': 0.5, 'degree': 3, 'gamma': 0.1, 'kernel': 'linear'}\n",
      "Iterazione 322: Accuracy 0.9660170504885286, Parametri {'C': 1.5, 'coef0': 0.5, 'degree': 3, 'gamma': 0.1, 'kernel': 'rbf'}\n",
      "Iterazione 323: Accuracy 0.9656437612683778, Parametri {'C': 1.5, 'coef0': 0.5, 'degree': 3, 'gamma': 0.1, 'kernel': 'poly'}\n",
      "Iterazione 324: Accuracy 0.9362671387768504, Parametri {'C': 1.5, 'coef0': 0.5, 'degree': 3, 'gamma': 0.5, 'kernel': 'linear'}\n",
      "Iterazione 325: Accuracy 0.9779672620707176, Parametri {'C': 1.5, 'coef0': 0.5, 'degree': 3, 'gamma': 0.5, 'kernel': 'rbf'}\n",
      "Iterazione 326: Accuracy 0.9779677267460951, Parametri {'C': 1.5, 'coef0': 0.5, 'degree': 3, 'gamma': 0.5, 'kernel': 'poly'}\n",
      "Iterazione 327: Accuracy 0.9362671387768504, Parametri {'C': 1.5, 'coef0': 0.5, 'degree': 3, 'gamma': 1, 'kernel': 'linear'}\n",
      "Iterazione 328: Accuracy 0.980333698877964, Parametri {'C': 1.5, 'coef0': 0.5, 'degree': 3, 'gamma': 1, 'kernel': 'rbf'}\n",
      "Iterazione 329: Accuracy 0.982074992410302, Parametri {'C': 1.5, 'coef0': 0.5, 'degree': 3, 'gamma': 1, 'kernel': 'poly'}\n",
      "Iterazione 330: Accuracy 0.9362671387768504, Parametri {'C': 1.5, 'coef0': 1.0, 'degree': 2, 'gamma': 'scale', 'kernel': 'linear'}\n",
      "Iterazione 331: Accuracy 0.9607888329213212, Parametri {'C': 1.5, 'coef0': 1.0, 'degree': 2, 'gamma': 'scale', 'kernel': 'rbf'}\n",
      "Iterazione 332: Accuracy 0.958424254815586, Parametri {'C': 1.5, 'coef0': 1.0, 'degree': 2, 'gamma': 'scale', 'kernel': 'poly'}\n",
      "Iterazione 333: Accuracy 0.9362671387768504, Parametri {'C': 1.5, 'coef0': 1.0, 'degree': 2, 'gamma': 'auto', 'kernel': 'linear'}\n",
      "Iterazione 334: Accuracy 0.9604158534847557, Parametri {'C': 1.5, 'coef0': 1.0, 'degree': 2, 'gamma': 'auto', 'kernel': 'rbf'}\n",
      "Iterazione 335: Accuracy 0.9573046969387187, Parametri {'C': 1.5, 'coef0': 1.0, 'degree': 2, 'gamma': 'auto', 'kernel': 'poly'}\n",
      "Iterazione 336: Accuracy 0.9362671387768504, Parametri {'C': 1.5, 'coef0': 1.0, 'degree': 2, 'gamma': 0.1, 'kernel': 'linear'}\n",
      "Iterazione 337: Accuracy 0.9660170504885286, Parametri {'C': 1.5, 'coef0': 1.0, 'degree': 2, 'gamma': 0.1, 'kernel': 'rbf'}\n",
      "Iterazione 338: Accuracy 0.9601664776986798, Parametri {'C': 1.5, 'coef0': 1.0, 'degree': 2, 'gamma': 0.1, 'kernel': 'poly'}\n",
      "Iterazione 339: Accuracy 0.9362671387768504, Parametri {'C': 1.5, 'coef0': 1.0, 'degree': 2, 'gamma': 0.5, 'kernel': 'linear'}\n",
      "Iterazione 340: Accuracy 0.9779672620707176, Parametri {'C': 1.5, 'coef0': 1.0, 'degree': 2, 'gamma': 0.5, 'kernel': 'rbf'}\n",
      "Iterazione 341: Accuracy 0.9681331821589436, Parametri {'C': 1.5, 'coef0': 1.0, 'degree': 2, 'gamma': 0.5, 'kernel': 'poly'}\n",
      "Iterazione 342: Accuracy 0.9362671387768504, Parametri {'C': 1.5, 'coef0': 1.0, 'degree': 2, 'gamma': 1, 'kernel': 'linear'}\n",
      "Iterazione 343: Accuracy 0.980333698877964, Parametri {'C': 1.5, 'coef0': 1.0, 'degree': 2, 'gamma': 1, 'kernel': 'rbf'}\n",
      "Iterazione 344: Accuracy 0.9716184023840944, Parametri {'C': 1.5, 'coef0': 1.0, 'degree': 2, 'gamma': 1, 'kernel': 'poly'}\n",
      "Iterazione 345: Accuracy 0.9362671387768504, Parametri {'C': 1.5, 'coef0': 1.0, 'degree': 3, 'gamma': 'scale', 'kernel': 'linear'}\n",
      "Iterazione 346: Accuracy 0.9607888329213212, Parametri {'C': 1.5, 'coef0': 1.0, 'degree': 3, 'gamma': 'scale', 'kernel': 'rbf'}\n",
      "Iterazione 347: Accuracy 0.9635280942733407, Parametri {'C': 1.5, 'coef0': 1.0, 'degree': 3, 'gamma': 'scale', 'kernel': 'poly'}\n",
      "Iterazione 348: Accuracy 0.9362671387768504, Parametri {'C': 1.5, 'coef0': 1.0, 'degree': 3, 'gamma': 'auto', 'kernel': 'linear'}\n",
      "Iterazione 349: Accuracy 0.9604158534847557, Parametri {'C': 1.5, 'coef0': 1.0, 'degree': 3, 'gamma': 'auto', 'kernel': 'rbf'}\n",
      "Iterazione 350: Accuracy 0.9629055841589066, Parametri {'C': 1.5, 'coef0': 1.0, 'degree': 3, 'gamma': 'auto', 'kernel': 'poly'}\n",
      "Iterazione 351: Accuracy 0.9362671387768504, Parametri {'C': 1.5, 'coef0': 1.0, 'degree': 3, 'gamma': 0.1, 'kernel': 'linear'}\n",
      "Iterazione 352: Accuracy 0.9660170504885286, Parametri {'C': 1.5, 'coef0': 1.0, 'degree': 3, 'gamma': 0.1, 'kernel': 'rbf'}\n",
      "Iterazione 353: Accuracy 0.9675108269363024, Parametri {'C': 1.5, 'coef0': 1.0, 'degree': 3, 'gamma': 0.1, 'kernel': 'poly'}\n",
      "Iterazione 354: Accuracy 0.9362671387768504, Parametri {'C': 1.5, 'coef0': 1.0, 'degree': 3, 'gamma': 0.5, 'kernel': 'linear'}\n",
      "Iterazione 355: Accuracy 0.9779672620707176, Parametri {'C': 1.5, 'coef0': 1.0, 'degree': 3, 'gamma': 0.5, 'kernel': 'rbf'}\n",
      "Iterazione 356: Accuracy 0.9797104143045668, Parametri {'C': 1.5, 'coef0': 1.0, 'degree': 3, 'gamma': 0.5, 'kernel': 'poly'}\n",
      "Iterazione 357: Accuracy 0.9362671387768504, Parametri {'C': 1.5, 'coef0': 1.0, 'degree': 3, 'gamma': 1, 'kernel': 'linear'}\n",
      "Iterazione 358: Accuracy 0.980333698877964, Parametri {'C': 1.5, 'coef0': 1.0, 'degree': 3, 'gamma': 1, 'kernel': 'rbf'}\n",
      "Iterazione 359: Accuracy 0.9833203224227555, Parametri {'C': 1.5, 'coef0': 1.0, 'degree': 3, 'gamma': 1, 'kernel': 'poly'}\n"
     ]
    }
   ],
   "source": [
    "# Vediamo come si comporta nelle diverse combinaizoni di parametri\n",
    "cvres = grid_search.cv_results_\n",
    "\n",
    "for i, (accuracy, params) in enumerate(zip(cvres[\"mean_test_score\"], cvres[\"params\"])):\n",
    "    print(f\"Iterazione {i}: Accuracy {accuracy}, Parametri {params}\")"
   ],
   "metadata": {
    "colab": {
     "base_uri": "https://localhost:8080/"
    },
    "id": "KIprT5a5tHET",
    "executionInfo": {
     "status": "ok",
     "timestamp": 1720617648906,
     "user_tz": -120,
     "elapsed": 262,
     "user": {
      "displayName": "Annalaura Miglino",
      "userId": "03808724092990969006"
     }
    },
    "outputId": "9001a91e-82db-4119-eacd-e49e63c4f6cf"
   }
  },
  {
   "cell_type": "markdown",
   "source": [
    "## 4. Metriche del modello migliore"
   ],
   "metadata": {
    "collapsed": false,
    "id": "9SLuA_6btHEV"
   }
  },
  {
   "cell_type": "markdown",
   "source": [
    "> Vengono misurate le metriche a seguito dell'Hyperparameter Tuning."
   ],
   "metadata": {
    "id": "hjvGQ4FwuqzU"
   }
  },
  {
   "cell_type": "code",
   "execution_count": 54,
   "outputs": [
    {
     "name": "stdout",
     "output_type": "stream",
     "text": [
      "Accuracy: 0.9815828770532603\n",
      "Precision: 0.976401179941003\n",
      "Recall: 0.9870775347912525\n",
      "F1-Score: 0.9817103311913\n"
     ]
    }
   ],
   "source": [
    "svc_final = grid_search.best_estimator_\n",
    "y_pred = svc_final.predict(X_test)\n",
    "\n",
    "# Stampa delle metriche\n",
    "print(f'Accuracy: {accuracy_score(y_test, y_pred)}')\n",
    "print(f'Precision: {precision_score(y_test, y_pred)}')\n",
    "print(f'Recall: {recall_score(y_test, y_pred)}')\n",
    "print(f'F1-Score: {f1_score(y_test, y_pred)}')"
   ],
   "metadata": {
    "colab": {
     "base_uri": "https://localhost:8080/"
    },
    "id": "pL1M7dV_tHEV",
    "executionInfo": {
     "status": "ok",
     "timestamp": 1720617657198,
     "user_tz": -120,
     "elapsed": 267,
     "user": {
      "displayName": "Annalaura Miglino",
      "userId": "03808724092990969006"
     }
    },
    "outputId": "1a9cb2b4-9ce0-4131-a8b9-e9e888a679a8"
   }
  },
  {
   "cell_type": "markdown",
   "source": [
    "### 4.1 Learning Curve"
   ],
   "metadata": {
    "collapsed": false,
    "id": "DSv8xklJtHEV"
   }
  },
  {
   "cell_type": "code",
   "execution_count": 55,
   "outputs": [
    {
     "data": {
      "text/plain": "<Figure size 640x480 with 1 Axes>",
      "image/png": "[encoded data removed]"
     },
     "metadata": {},
     "output_type": "display_data"
    }
   ],
   "source": [
    "# Istanzia un nuovo modello Random Forest con i migliori parametri ottenuti in precedenza\n",
    "svc = SVC(random_state=42, **grid_search.best_params_)\n",
    "\n",
    "# Calcolo la learning curve\n",
    "train_sizes, train_scores, test_scores = learning_curve(svc, X_train, y_train, scoring='accuracy',\n",
    "                                                        train_sizes=np.linspace(0.1, 1.0, 10), n_jobs=-1, cv=10)\n",
    "\n",
    "# Calcola la media dei punteggi ottenuti nelle diverse iterazioni di cross validation\n",
    "train_scores_mean = np.mean(train_scores, axis=1)\n",
    "test_scores_mean = np.mean(test_scores, axis=1)\n",
    "\n",
    "# Traccio la curva di apprendimento\n",
    "plt.figure()\n",
    "plt.title(\"Learning Curve (SVM)\")\n",
    "plt.xlabel(\"Training examples\")\n",
    "plt.ylabel(\"Accuracy\")\n",
    "plt.grid()\n",
    "\n",
    "plt.plot(train_sizes, train_scores_mean, 'o-', color=\"r\", label=\"Training accuracy\")\n",
    "plt.plot(train_sizes, test_scores_mean, 'o-', color=\"g\", label=\"Validation accuracy\")\n",
    "\n",
    "plt.legend(loc=\"best\")\n",
    "plt.show()"
   ],
   "metadata": {
    "collapsed": false
   }
  },
  {
   "cell_type": "markdown",
   "source": [
    "### 4.2 Matrice di confusione"
   ],
   "metadata": {
    "collapsed": false,
    "id": "bsg3sXzetHEW"
   }
  },
  {
   "cell_type": "code",
   "execution_count": 56,
   "outputs": [
    {
     "data": {
      "text/plain": "<Figure size 500x400 with 2 Axes>",
      "image/png": "[encoded data removed]"
     },
     "metadata": {},
     "output_type": "display_data"
    }
   ],
   "source": [
    "cm = confusion_matrix(y_test, y_pred)\n",
    "class_names = ['Real', 'Fake']\n",
    "\n",
    "plt.figure(figsize=(5, 4))\n",
    "sns.heatmap(cm, annot=True, cmap='Blues', fmt='d', xticklabels=class_names, yticklabels=class_names)\n",
    "\n",
    "plt.xlabel('Predicted label')\n",
    "plt.ylabel('True label')\n",
    "plt.title('Confusion Matrix')\n",
    "plt.show()\n",
    "\n",
    "# Salva il grafico come file PDF\n",
    "# plt.savefig('confusion_matrix_NameOfClassifier.pdf', format='pdf')"
   ],
   "metadata": {
    "colab": {
     "base_uri": "https://localhost:8080/",
     "height": 427
    },
    "id": "0dFXWshdtHEW",
    "executionInfo": {
     "status": "ok",
     "timestamp": 1720617658603,
     "user_tz": -120,
     "elapsed": 673,
     "user": {
      "displayName": "Annalaura Miglino",
      "userId": "03808724092990969006"
     }
    },
    "outputId": "562c869a-cbcd-4bce-91f7-4f708700669d"
   }
  },
  {
   "cell_type": "markdown",
   "source": [
    "### 4.3 Roc Curve"
   ],
   "metadata": {
    "collapsed": false,
    "id": "jbT1bZJVtHEW"
   }
  },
  {
   "cell_type": "code",
   "execution_count": 58,
   "outputs": [
    {
     "data": {
      "text/plain": "<Figure size 600x500 with 1 Axes>",
      "image/png": "[encoded data removed]"
     },
     "metadata": {},
     "output_type": "display_data"
    }
   ],
   "source": [
    "# istanzo un nuovo SVC, con i migliori parametri, al fine di abilitare il metodo predict_proba\n",
    "svc_proba = SVC(random_state=42, probability=True, **grid_search.best_params_)\n",
    "svc_proba.fit(X_train, y_train)\n",
    "y_proba = svc_proba.predict_proba(X_test)\n",
    "\n",
    "# Calcolo della curva ROC per la classe 'real' (label 0)\n",
    "fpr_real, tpr_real, _ = roc_curve(y_test, y_proba[:, 0], pos_label=0)\n",
    "roc_auc_real = auc(fpr_real, tpr_real)\n",
    "\n",
    "# Calcolo della curva ROC per la classe 'fake' (label 1)\n",
    "fpr_fake, tpr_fake, _ = roc_curve(y_test, y_proba[:, 1], pos_label=1)\n",
    "roc_auc_fake = auc(fpr_fake, tpr_fake)\n",
    "\n",
    "# Tracciamento delle curve ROC\n",
    "plt.figure(figsize=(6, 5))\n",
    "plt.plot(fpr_real, tpr_real, color='darkorange', lw=2, label=f'ROC curve real (AUC = {roc_auc_real:.2f})')\n",
    "plt.plot(fpr_fake, tpr_fake, color='blue', lw=2, label=f'ROC curve fake (AUC = {roc_auc_fake:.2f})')\n",
    "plt.plot([0, 1], [0, 1], color='black', lw=1, linestyle='--')\n",
    "plt.xlabel('False Positive Rate')\n",
    "plt.ylabel('True Positive Rate')\n",
    "plt.grid(False)\n",
    "plt.legend(loc='lower right')\n",
    "plt.title('ROC Curve')\n",
    "plt.show()"
   ],
   "metadata": {
    "colab": {
     "base_uri": "https://localhost:8080/",
     "height": 507
    },
    "id": "2IDikDOttHEX",
    "executionInfo": {
     "status": "ok",
     "timestamp": 1720617659329,
     "user_tz": -120,
     "elapsed": 743,
     "user": {
      "displayName": "Annalaura Miglino",
      "userId": "03808724092990969006"
     }
    },
    "outputId": "88e0265a-30ed-4f0d-eda9-442863d4b609"
   }
  }
 ],
 "metadata": {
  "kernelspec": {
   "display_name": "Python 3",
   "language": "python",
   "name": "python3"
  },
  "language_info": {
   "codemirror_mode": {
    "name": "ipython",
    "version": 2
   },
   "file_extension": ".py",
   "mimetype": "text/x-python",
   "name": "python",
   "nbconvert_exporter": "python",
   "pygments_lexer": "ipython2",
   "version": "2.7.6"
  },
  "colab": {
   "provenance": []
  }
 },
 "nbformat": 4,
 "nbformat_minor": 0
}
