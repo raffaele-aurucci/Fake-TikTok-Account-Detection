{
 "cells": [
  {
   "cell_type": "markdown",
   "source": [
    "# Random Forest Classifier"
   ],
   "metadata": {
    "id": "Oy1Iz_vru7_R"
   }
  },
  {
   "cell_type": "markdown",
   "source": [
    "> Import necessari"
   ],
   "metadata": {
    "id": "kqqbpgNCvEpK"
   }
  },
  {
   "cell_type": "code",
   "execution_count": 3,
   "metadata": {
    "collapsed": true,
    "id": "Pz96TyWBtHEG",
    "executionInfo": {
     "status": "ok",
     "timestamp": 1720617437032,
     "user_tz": -120,
     "elapsed": 2582,
     "user": {
      "displayName": "Annalaura Miglino",
      "userId": "03808724092990969006"
     }
    }
   },
   "outputs": [],
   "source": [
    "from sklearn.ensemble import RandomForestClassifier\n",
    "from sklearn.model_selection import StratifiedShuffleSplit, GridSearchCV, learning_curve\n",
    "from sklearn.metrics import accuracy_score, confusion_matrix, roc_curve, auc, precision_score, recall_score, f1_score, classification_report\n",
    "import matplotlib.pyplot as plt\n",
    "import pandas as pd\n",
    "import seaborn as sns\n",
    "import numpy as np"
   ]
  },
  {
   "cell_type": "markdown",
   "source": [
    "> Montaggio di Drive"
   ],
   "metadata": {
    "id": "MQtOqoQ9ysLa"
   }
  },
  {
   "cell_type": "code",
   "source": [
    "from google.colab import drive\n",
    "drive.mount('/content/drive')"
   ],
   "metadata": {
    "colab": {
     "base_uri": "https://localhost:8080/"
    },
    "id": "IhViav_1yvce",
    "executionInfo": {
     "status": "ok",
     "timestamp": 1720617483758,
     "user_tz": -120,
     "elapsed": 16617,
     "user": {
      "displayName": "Annalaura Miglino",
      "userId": "03808724092990969006"
     }
    },
    "outputId": "4c46ab47-396d-4e8d-e7b2-98b1a3c1a27c"
   },
   "execution_count": 109,
   "outputs": []
  },
  {
   "cell_type": "markdown",
   "source": [
    "## 1. Divisione del dataset in train e test"
   ],
   "metadata": {
    "collapsed": false,
    "id": "1Lui-kjYtHEJ"
   }
  },
  {
   "cell_type": "code",
   "execution_count": null,
   "outputs": [],
   "source": [
    "# Lettura del dataset (drive)\n",
    "csv_path = '/content/drive/MyDrive/Progetto_FDSML_github/FakeAccountDetection/datasets/cleaned_dataset.csv'"
   ],
   "metadata": {
    "collapsed": false
   }
  },
  {
   "cell_type": "code",
   "execution_count": 4,
   "outputs": [],
   "source": [
    "# Lettura del dataset (local)\n",
    "csv_path = '../datasets/cleaned_dataset.csv'"
   ],
   "metadata": {
    "collapsed": false
   }
  },
  {
   "cell_type": "code",
   "execution_count": 5,
   "outputs": [],
   "source": [
    "df = pd.read_csv(csv_path)"
   ],
   "metadata": {
    "collapsed": false
   }
  },
  {
   "cell_type": "code",
   "execution_count": 6,
   "outputs": [],
   "source": [
    "# Divisione in train e test set\n",
    "X = df.copy()\n",
    "y = X.pop('fake')\n",
    "\n",
    "sss = StratifiedShuffleSplit(n_splits=1, test_size=0.2, random_state=42)\n",
    "\n",
    "for train_index, test_index in sss.split(X, y):\n",
    "    X_train, X_test = X.loc[train_index], X.loc[test_index]\n",
    "    y_train, y_test = y.loc[train_index], y.loc[test_index]"
   ],
   "metadata": {
    "id": "gA4sxs84tHEO",
    "executionInfo": {
     "status": "ok",
     "timestamp": 1720617564319,
     "user_tz": -120,
     "elapsed": 272,
     "user": {
      "displayName": "Annalaura Miglino",
      "userId": "03808724092990969006"
     }
    }
   }
  },
  {
   "cell_type": "markdown",
   "source": [
    "### 1.1 Addestramento senza iperparametri"
   ],
   "metadata": {
    "collapsed": false,
    "id": "IsOyxbdUtHEO"
   }
  },
  {
   "cell_type": "code",
   "execution_count": 7,
   "outputs": [
    {
     "name": "stdout",
     "output_type": "stream",
     "text": [
      "Accuracy: 0.9985067197610752\n",
      "Precision: 0.9990049751243781\n",
      "Recall: 0.9980119284294234\n",
      "F1-Score: 0.9985082048731975\n"
     ]
    }
   ],
   "source": [
    "# Istanziazione e addestramento del classificatore\n",
    "rfc = RandomForestClassifier()\n",
    "rfc.fit(X_train, y_train)\n",
    "y_pred = rfc.predict(X_test)\n",
    "\n",
    "# Stampa delle metriche\n",
    "print(f'Accuracy: {accuracy_score(y_test, y_pred)}')\n",
    "print(f'Precision: {precision_score(y_test, y_pred)}')\n",
    "print(f'Recall: {recall_score(y_test, y_pred)}')\n",
    "print(f'F1-Score: {f1_score(y_test, y_pred)}')"
   ],
   "metadata": {
    "colab": {
     "base_uri": "https://localhost:8080/"
    },
    "id": "dB1w4oUgtHEP",
    "executionInfo": {
     "status": "ok",
     "timestamp": 1720617566460,
     "user_tz": -120,
     "elapsed": 637,
     "user": {
      "displayName": "Annalaura Miglino",
      "userId": "03808724092990969006"
     }
    },
    "outputId": "e52d4a94-f850-43c9-c583-70c8ffd6d169"
   }
  },
  {
   "cell_type": "markdown",
   "source": [
    "## 2. Grid Search Cross Validation"
   ],
   "metadata": {
    "collapsed": false,
    "id": "eKsiifbVtHEQ"
   }
  },
  {
   "cell_type": "code",
   "execution_count": 43,
   "outputs": [],
   "source": [
    "# Griglia dei parametri\n",
    "param_grid = {\n",
    "    'n_estimators': [10, 25, 50, 100],      # numero di alberi della foresta\n",
    "    'max_features': ['sqrt', 0.1, 0.2],     # numero di feature casuali utilizzate da ciascun albero\n",
    "    'max_samples': [None, 0.5, 0.75],       # numero di campioni da trarre da X per addestrare ciascun albero della foresta\n",
    "    'max_depth': [None, 5, 10]              # profondità massima di ciascun albero della foresta\n",
    "}"
   ],
   "metadata": {
    "id": "8mftUZiltHER",
    "executionInfo": {
     "status": "ok",
     "timestamp": 1720617575089,
     "user_tz": -120,
     "elapsed": 254,
     "user": {
      "displayName": "Annalaura Miglino",
      "userId": "03808724092990969006"
     }
    }
   }
  },
  {
   "cell_type": "code",
   "source": [
    "# Istanziazione del classificatore (random_state controlla la casualità sia quando sceglie i sample, sia quando sceglie le feature per ciascun albero)\n",
    "rfc = RandomForestClassifier(random_state=42)"
   ],
   "metadata": {
    "id": "aKR9IQrtto_j",
    "executionInfo": {
     "status": "ok",
     "timestamp": 1720617576619,
     "user_tz": -120,
     "elapsed": 2,
     "user": {
      "displayName": "Annalaura Miglino",
      "userId": "03808724092990969006"
     }
    }
   },
   "execution_count": 44,
   "outputs": []
  },
  {
   "cell_type": "code",
   "execution_count": 45,
   "outputs": [
    {
     "name": "stdout",
     "output_type": "stream",
     "text": [
      "Best Parameters: {'max_depth': 10, 'max_features': 'sqrt', 'max_samples': None, 'n_estimators': 50}\n",
      "CPU times: total: 5.61 s\n",
      "Wall time: 44 s\n"
     ]
    }
   ],
   "source": [
    "%%time\n",
    "# Stampiamo i migliori parametri\n",
    "grid_search = GridSearchCV(estimator=rfc, param_grid=param_grid, cv=10, scoring='accuracy', n_jobs=-1, return_train_score=True, error_score='raise')\n",
    "grid_search.fit(X_train, y_train)\n",
    "print(\"Best Parameters:\", grid_search.best_params_)"
   ],
   "metadata": {
    "colab": {
     "base_uri": "https://localhost:8080/"
    },
    "id": "APgT9wYWtHER",
    "executionInfo": {
     "status": "ok",
     "timestamp": 1720617644893,
     "user_tz": -120,
     "elapsed": 67466,
     "user": {
      "displayName": "Annalaura Miglino",
      "userId": "03808724092990969006"
     }
    },
    "outputId": "5086b6c9-5760-4748-dcbf-1d77d9a0d62c"
   }
  },
  {
   "cell_type": "code",
   "execution_count": 42,
   "outputs": [
    {
     "name": "stdout",
     "output_type": "stream",
     "text": [
      "Iterazione 0: Accuracy 0.9968879141032077, Parametri {'max_depth': None, 'max_features': 'sqrt', 'max_samples': None, 'n_estimators': 10}\n",
      "Iterazione 1: Accuracy 0.9975104242176416, Parametri {'max_depth': None, 'max_features': 'sqrt', 'max_samples': None, 'n_estimators': 25}\n",
      "Iterazione 2: Accuracy 0.9977590255447544, Parametri {'max_depth': None, 'max_features': 'sqrt', 'max_samples': None, 'n_estimators': 50}\n",
      "Iterazione 3: Accuracy 0.9977591804365469, Parametri {'max_depth': None, 'max_features': 'sqrt', 'max_samples': None, 'n_estimators': 100}\n",
      "Iterazione 4: Accuracy 0.996887759211415, Parametri {'max_depth': None, 'max_features': 'sqrt', 'max_samples': 0.5, 'n_estimators': 10}\n",
      "Iterazione 5: Accuracy 0.997136670322113, Parametri {'max_depth': None, 'max_features': 'sqrt', 'max_samples': 0.5, 'n_estimators': 25}\n",
      "Iterazione 6: Accuracy 0.9972612033233583, Parametri {'max_depth': None, 'max_features': 'sqrt', 'max_samples': 0.5, 'n_estimators': 50}\n",
      "Iterazione 7: Accuracy 0.9972613582151508, Parametri {'max_depth': None, 'max_features': 'sqrt', 'max_samples': 0.5, 'n_estimators': 100}\n",
      "Iterazione 8: Accuracy 0.9973855814328111, Parametri {'max_depth': None, 'max_features': 'sqrt', 'max_samples': 0.75, 'n_estimators': 10}\n",
      "Iterazione 9: Accuracy 0.9978835585459997, Parametri {'max_depth': None, 'max_features': 'sqrt', 'max_samples': 0.75, 'n_estimators': 25}\n",
      "Iterazione 10: Accuracy 0.9977591804365469, Parametri {'max_depth': None, 'max_features': 'sqrt', 'max_samples': 0.75, 'n_estimators': 50}\n",
      "Iterazione 11: Accuracy 0.9976346474353015, Parametri {'max_depth': None, 'max_features': 'sqrt', 'max_samples': 0.75, 'n_estimators': 100}\n",
      "Iterazione 12: Accuracy 0.9955185157648867, Parametri {'max_depth': None, 'max_features': 0.1, 'max_samples': None, 'n_estimators': 10}\n",
      "Iterazione 13: Accuracy 0.9968877592114147, Parametri {'max_depth': None, 'max_features': 0.1, 'max_samples': None, 'n_estimators': 25}\n",
      "Iterazione 14: Accuracy 0.9966388481007169, Parametri {'max_depth': None, 'max_features': 0.1, 'max_samples': None, 'n_estimators': 50}\n",
      "Iterazione 15: Accuracy 0.9966388481007169, Parametri {'max_depth': None, 'max_features': 0.1, 'max_samples': None, 'n_estimators': 100}\n",
      "Iterazione 16: Accuracy 0.9963902467736041, Parametri {'max_depth': None, 'max_features': 0.1, 'max_samples': 0.5, 'n_estimators': 10}\n",
      "Iterazione 17: Accuracy 0.9962654039887735, Parametri {'max_depth': None, 'max_features': 0.1, 'max_samples': 0.5, 'n_estimators': 25}\n",
      "Iterazione 18: Accuracy 0.9962652490969809, Parametri {'max_depth': None, 'max_features': 0.1, 'max_samples': 0.5, 'n_estimators': 50}\n",
      "Iterazione 19: Accuracy 0.9961408709875281, Parametri {'max_depth': None, 'max_features': 0.1, 'max_samples': 0.5, 'n_estimators': 100}\n",
      "Iterazione 20: Accuracy 0.9960163379862828, Parametri {'max_depth': None, 'max_features': 0.1, 'max_samples': 0.75, 'n_estimators': 10}\n",
      "Iterazione 21: Accuracy 0.9960161830944901, Parametri {'max_depth': None, 'max_features': 0.1, 'max_samples': 0.75, 'n_estimators': 25}\n",
      "Iterazione 22: Accuracy 0.9962652490969809, Parametri {'max_depth': None, 'max_features': 0.1, 'max_samples': 0.75, 'n_estimators': 50}\n",
      "Iterazione 23: Accuracy 0.9962652490969809, Parametri {'max_depth': None, 'max_features': 0.1, 'max_samples': 0.75, 'n_estimators': 100}\n",
      "Iterazione 24: Accuracy 0.9968879141032077, Parametri {'max_depth': None, 'max_features': 0.2, 'max_samples': None, 'n_estimators': 10}\n",
      "Iterazione 25: Accuracy 0.9975104242176416, Parametri {'max_depth': None, 'max_features': 0.2, 'max_samples': None, 'n_estimators': 25}\n",
      "Iterazione 26: Accuracy 0.9977590255447544, Parametri {'max_depth': None, 'max_features': 0.2, 'max_samples': None, 'n_estimators': 50}\n",
      "Iterazione 27: Accuracy 0.9977591804365469, Parametri {'max_depth': None, 'max_features': 0.2, 'max_samples': None, 'n_estimators': 100}\n",
      "Iterazione 28: Accuracy 0.996887759211415, Parametri {'max_depth': None, 'max_features': 0.2, 'max_samples': 0.5, 'n_estimators': 10}\n",
      "Iterazione 29: Accuracy 0.997136670322113, Parametri {'max_depth': None, 'max_features': 0.2, 'max_samples': 0.5, 'n_estimators': 25}\n",
      "Iterazione 30: Accuracy 0.9972612033233583, Parametri {'max_depth': None, 'max_features': 0.2, 'max_samples': 0.5, 'n_estimators': 50}\n",
      "Iterazione 31: Accuracy 0.9972613582151508, Parametri {'max_depth': None, 'max_features': 0.2, 'max_samples': 0.5, 'n_estimators': 100}\n",
      "Iterazione 32: Accuracy 0.9973855814328111, Parametri {'max_depth': None, 'max_features': 0.2, 'max_samples': 0.75, 'n_estimators': 10}\n",
      "Iterazione 33: Accuracy 0.9978835585459997, Parametri {'max_depth': None, 'max_features': 0.2, 'max_samples': 0.75, 'n_estimators': 25}\n",
      "Iterazione 34: Accuracy 0.9977591804365469, Parametri {'max_depth': None, 'max_features': 0.2, 'max_samples': 0.75, 'n_estimators': 50}\n",
      "Iterazione 35: Accuracy 0.9976346474353015, Parametri {'max_depth': None, 'max_features': 0.2, 'max_samples': 0.75, 'n_estimators': 100}\n",
      "Iterazione 36: Accuracy 0.9953949121143969, Parametri {'max_depth': 5, 'max_features': 'sqrt', 'max_samples': None, 'n_estimators': 10}\n",
      "Iterazione 37: Accuracy 0.9958924245522078, Parametri {'max_depth': 5, 'max_features': 'sqrt', 'max_samples': None, 'n_estimators': 25}\n",
      "Iterazione 38: Accuracy 0.9961408709875281, Parametri {'max_depth': 5, 'max_features': 'sqrt', 'max_samples': None, 'n_estimators': 50}\n",
      "Iterazione 39: Accuracy 0.996265558880566, Parametri {'max_depth': 5, 'max_features': 'sqrt', 'max_samples': None, 'n_estimators': 100}\n",
      "Iterazione 40: Accuracy 0.9955186706566792, Parametri {'max_depth': 5, 'max_features': 'sqrt', 'max_samples': 0.5, 'n_estimators': 10}\n",
      "Iterazione 41: Accuracy 0.9950208484352829, Parametri {'max_depth': 5, 'max_features': 'sqrt', 'max_samples': 0.5, 'n_estimators': 25}\n",
      "Iterazione 42: Accuracy 0.9951452265447358, Parametri {'max_depth': 5, 'max_features': 'sqrt', 'max_samples': 0.5, 'n_estimators': 50}\n",
      "Iterazione 43: Accuracy 0.9960163379862828, Parametri {'max_depth': 5, 'max_features': 'sqrt', 'max_samples': 0.5, 'n_estimators': 100}\n",
      "Iterazione 44: Accuracy 0.9957675817673772, Parametri {'max_depth': 5, 'max_features': 'sqrt', 'max_samples': 0.75, 'n_estimators': 10}\n",
      "Iterazione 45: Accuracy 0.9958919598768301, Parametri {'max_depth': 5, 'max_features': 'sqrt', 'max_samples': 0.75, 'n_estimators': 25}\n",
      "Iterazione 46: Accuracy 0.9958921147686226, Parametri {'max_depth': 5, 'max_features': 'sqrt', 'max_samples': 0.75, 'n_estimators': 50}\n",
      "Iterazione 47: Accuracy 0.9958919598768301, Parametri {'max_depth': 5, 'max_features': 'sqrt', 'max_samples': 0.75, 'n_estimators': 100}\n",
      "Iterazione 48: Accuracy 0.9886729180994157, Parametri {'max_depth': 5, 'max_features': 0.1, 'max_samples': None, 'n_estimators': 10}\n",
      "Iterazione 49: Accuracy 0.9900413870869811, Parametri {'max_depth': 5, 'max_features': 0.1, 'max_samples': None, 'n_estimators': 25}\n",
      "Iterazione 50: Accuracy 0.9901670043307746, Parametri {'max_depth': 5, 'max_features': 0.1, 'max_samples': None, 'n_estimators': 50}\n",
      "Iterazione 51: Accuracy 0.9902913824402273, Parametri {'max_depth': 5, 'max_features': 0.1, 'max_samples': None, 'n_estimators': 100}\n",
      "Iterazione 52: Accuracy 0.9889219841019065, Parametri {'max_depth': 5, 'max_features': 0.1, 'max_samples': 0.5, 'n_estimators': 10}\n",
      "Iterazione 53: Accuracy 0.9905401386591326, Parametri {'max_depth': 5, 'max_features': 0.1, 'max_samples': 0.5, 'n_estimators': 25}\n",
      "Iterazione 54: Accuracy 0.9904151409825097, Parametri {'max_depth': 5, 'max_features': 0.1, 'max_samples': 0.5, 'n_estimators': 50}\n",
      "Iterazione 55: Accuracy 0.991037960880529, Parametri {'max_depth': 5, 'max_features': 0.1, 'max_samples': 0.5, 'n_estimators': 100}\n",
      "Iterazione 56: Accuracy 0.98941965143151, Parametri {'max_depth': 5, 'max_features': 0.1, 'max_samples': 0.75, 'n_estimators': 10}\n",
      "Iterazione 57: Accuracy 0.9902907628730568, Parametri {'max_depth': 5, 'max_features': 0.1, 'max_samples': 0.75, 'n_estimators': 25}\n",
      "Iterazione 58: Accuracy 0.9900423164377365, Parametri {'max_depth': 5, 'max_features': 0.1, 'max_samples': 0.75, 'n_estimators': 50}\n",
      "Iterazione 59: Accuracy 0.9904156056578873, Parametri {'max_depth': 5, 'max_features': 0.1, 'max_samples': 0.75, 'n_estimators': 100}\n",
      "Iterazione 60: Accuracy 0.9953949121143969, Parametri {'max_depth': 5, 'max_features': 0.2, 'max_samples': None, 'n_estimators': 10}\n",
      "Iterazione 61: Accuracy 0.9958924245522078, Parametri {'max_depth': 5, 'max_features': 0.2, 'max_samples': None, 'n_estimators': 25}\n",
      "Iterazione 62: Accuracy 0.9961408709875281, Parametri {'max_depth': 5, 'max_features': 0.2, 'max_samples': None, 'n_estimators': 50}\n",
      "Iterazione 63: Accuracy 0.996265558880566, Parametri {'max_depth': 5, 'max_features': 0.2, 'max_samples': None, 'n_estimators': 100}\n",
      "Iterazione 64: Accuracy 0.9955186706566792, Parametri {'max_depth': 5, 'max_features': 0.2, 'max_samples': 0.5, 'n_estimators': 10}\n",
      "Iterazione 65: Accuracy 0.9950208484352829, Parametri {'max_depth': 5, 'max_features': 0.2, 'max_samples': 0.5, 'n_estimators': 25}\n",
      "Iterazione 66: Accuracy 0.9951452265447358, Parametri {'max_depth': 5, 'max_features': 0.2, 'max_samples': 0.5, 'n_estimators': 50}\n",
      "Iterazione 67: Accuracy 0.9960163379862828, Parametri {'max_depth': 5, 'max_features': 0.2, 'max_samples': 0.5, 'n_estimators': 100}\n",
      "Iterazione 68: Accuracy 0.9957675817673772, Parametri {'max_depth': 5, 'max_features': 0.2, 'max_samples': 0.75, 'n_estimators': 10}\n",
      "Iterazione 69: Accuracy 0.9958919598768301, Parametri {'max_depth': 5, 'max_features': 0.2, 'max_samples': 0.75, 'n_estimators': 25}\n",
      "Iterazione 70: Accuracy 0.9958921147686226, Parametri {'max_depth': 5, 'max_features': 0.2, 'max_samples': 0.75, 'n_estimators': 50}\n",
      "Iterazione 71: Accuracy 0.9958919598768301, Parametri {'max_depth': 5, 'max_features': 0.2, 'max_samples': 0.75, 'n_estimators': 100}\n",
      "Iterazione 72: Accuracy 0.9971365154303203, Parametri {'max_depth': 10, 'max_features': 'sqrt', 'max_samples': None, 'n_estimators': 10}\n",
      "Iterazione 73: Accuracy 0.9980080915472451, Parametri {'max_depth': 10, 'max_features': 'sqrt', 'max_samples': None, 'n_estimators': 25}\n",
      "Iterazione 74: Accuracy 0.9982571575497357, Parametri {'max_depth': 10, 'max_features': 'sqrt', 'max_samples': None, 'n_estimators': 50}\n",
      "Iterazione 75: Accuracy 0.9977591804365471, Parametri {'max_depth': 10, 'max_features': 'sqrt', 'max_samples': None, 'n_estimators': 100}\n",
      "Iterazione 76: Accuracy 0.9966385383171316, Parametri {'max_depth': 10, 'max_features': 'sqrt', 'max_samples': 0.5, 'n_estimators': 10}\n",
      "Iterazione 77: Accuracy 0.9975101144340563, Parametri {'max_depth': 10, 'max_features': 'sqrt', 'max_samples': 0.5, 'n_estimators': 25}\n",
      "Iterazione 78: Accuracy 0.9973858912163962, Parametri {'max_depth': 10, 'max_features': 'sqrt', 'max_samples': 0.5, 'n_estimators': 50}\n",
      "Iterazione 79: Accuracy 0.9973858912163962, Parametri {'max_depth': 10, 'max_features': 'sqrt', 'max_samples': 0.5, 'n_estimators': 100}\n",
      "Iterazione 80: Accuracy 0.9971365154303203, Parametri {'max_depth': 10, 'max_features': 'sqrt', 'max_samples': 0.75, 'n_estimators': 10}\n",
      "Iterazione 81: Accuracy 0.9972610484315656, Parametri {'max_depth': 10, 'max_features': 'sqrt', 'max_samples': 0.75, 'n_estimators': 25}\n",
      "Iterazione 82: Accuracy 0.9975101144340563, Parametri {'max_depth': 10, 'max_features': 'sqrt', 'max_samples': 0.75, 'n_estimators': 50}\n",
      "Iterazione 83: Accuracy 0.9977591804365471, Parametri {'max_depth': 10, 'max_features': 'sqrt', 'max_samples': 0.75, 'n_estimators': 100}\n",
      "Iterazione 84: Accuracy 0.994647249431547, Parametri {'max_depth': 10, 'max_features': 0.1, 'max_samples': None, 'n_estimators': 10}\n",
      "Iterazione 85: Accuracy 0.9957671170919994, Parametri {'max_depth': 10, 'max_features': 0.1, 'max_samples': None, 'n_estimators': 25}\n",
      "Iterazione 86: Accuracy 0.9960161830944901, Parametri {'max_depth': 10, 'max_features': 0.1, 'max_samples': None, 'n_estimators': 50}\n",
      "Iterazione 87: Accuracy 0.9957675817673772, Parametri {'max_depth': 10, 'max_features': 0.1, 'max_samples': None, 'n_estimators': 100}\n",
      "Iterazione 88: Accuracy 0.9950208484352829, Parametri {'max_depth': 10, 'max_features': 0.1, 'max_samples': 0.5, 'n_estimators': 10}\n",
      "Iterazione 89: Accuracy 0.9960166477698682, Parametri {'max_depth': 10, 'max_features': 0.1, 'max_samples': 0.5, 'n_estimators': 25}\n",
      "Iterazione 90: Accuracy 0.996265558880566, Parametri {'max_depth': 10, 'max_features': 0.1, 'max_samples': 0.5, 'n_estimators': 50}\n",
      "Iterazione 91: Accuracy 0.9957675817673775, Parametri {'max_depth': 10, 'max_features': 0.1, 'max_samples': 0.5, 'n_estimators': 100}\n",
      "Iterazione 92: Accuracy 0.9955185157648867, Parametri {'max_depth': 10, 'max_features': 0.1, 'max_samples': 0.75, 'n_estimators': 10}\n",
      "Iterazione 93: Accuracy 0.9957675817673775, Parametri {'max_depth': 10, 'max_features': 0.1, 'max_samples': 0.75, 'n_estimators': 25}\n",
      "Iterazione 94: Accuracy 0.9956428938743394, Parametri {'max_depth': 10, 'max_features': 0.1, 'max_samples': 0.75, 'n_estimators': 50}\n",
      "Iterazione 95: Accuracy 0.9957674268755847, Parametri {'max_depth': 10, 'max_features': 0.1, 'max_samples': 0.75, 'n_estimators': 100}\n",
      "Iterazione 96: Accuracy 0.9971365154303203, Parametri {'max_depth': 10, 'max_features': 0.2, 'max_samples': None, 'n_estimators': 10}\n",
      "Iterazione 97: Accuracy 0.9980080915472451, Parametri {'max_depth': 10, 'max_features': 0.2, 'max_samples': None, 'n_estimators': 25}\n",
      "Iterazione 98: Accuracy 0.9982571575497357, Parametri {'max_depth': 10, 'max_features': 0.2, 'max_samples': None, 'n_estimators': 50}\n",
      "Iterazione 99: Accuracy 0.9977591804365471, Parametri {'max_depth': 10, 'max_features': 0.2, 'max_samples': None, 'n_estimators': 100}\n",
      "Iterazione 100: Accuracy 0.9966385383171316, Parametri {'max_depth': 10, 'max_features': 0.2, 'max_samples': 0.5, 'n_estimators': 10}\n",
      "Iterazione 101: Accuracy 0.9975101144340563, Parametri {'max_depth': 10, 'max_features': 0.2, 'max_samples': 0.5, 'n_estimators': 25}\n",
      "Iterazione 102: Accuracy 0.9973858912163962, Parametri {'max_depth': 10, 'max_features': 0.2, 'max_samples': 0.5, 'n_estimators': 50}\n",
      "Iterazione 103: Accuracy 0.9973858912163962, Parametri {'max_depth': 10, 'max_features': 0.2, 'max_samples': 0.5, 'n_estimators': 100}\n",
      "Iterazione 104: Accuracy 0.9971365154303203, Parametri {'max_depth': 10, 'max_features': 0.2, 'max_samples': 0.75, 'n_estimators': 10}\n",
      "Iterazione 105: Accuracy 0.9972610484315656, Parametri {'max_depth': 10, 'max_features': 0.2, 'max_samples': 0.75, 'n_estimators': 25}\n",
      "Iterazione 106: Accuracy 0.9975101144340563, Parametri {'max_depth': 10, 'max_features': 0.2, 'max_samples': 0.75, 'n_estimators': 50}\n",
      "Iterazione 107: Accuracy 0.9977591804365471, Parametri {'max_depth': 10, 'max_features': 0.2, 'max_samples': 0.75, 'n_estimators': 100}\n"
     ]
    }
   ],
   "source": [
    "# Vediamo come si comporta nelle diverse combinaizoni di parametri\n",
    "cvres = grid_search.cv_results_\n",
    "\n",
    "for i, (accuracy, params) in enumerate(zip(cvres[\"mean_test_score\"], cvres[\"params\"])):\n",
    "    print(f\"Iterazione {i}: Accuracy {accuracy}, Parametri {params}\")"
   ],
   "metadata": {
    "colab": {
     "base_uri": "https://localhost:8080/"
    },
    "id": "KIprT5a5tHET",
    "executionInfo": {
     "status": "ok",
     "timestamp": 1720617648906,
     "user_tz": -120,
     "elapsed": 262,
     "user": {
      "displayName": "Annalaura Miglino",
      "userId": "03808724092990969006"
     }
    },
    "outputId": "9001a91e-82db-4119-eacd-e49e63c4f6cf"
   }
  },
  {
   "cell_type": "markdown",
   "source": [
    "## 3. Feature Importances"
   ],
   "metadata": {
    "collapsed": false,
    "id": "TbW-0173tHEU"
   }
  },
  {
   "cell_type": "code",
   "execution_count": 47,
   "outputs": [
    {
     "data": {
      "text/plain": "    featureImportance                     attribute\n0            0.300898                 followerCount\n1            0.155953                followingCount\n2            0.147104                    videoCount\n3            0.138405                    heartCount\n4            0.060342                nicknameLength\n5            0.044179                     diggCount\n6            0.038599                  openFavorite\n7            0.036306  nicknameNumSpecialCharacters\n8            0.032497                uniqueIdLength\n9            0.024452               signatureLength\n10           0.016962             uniqueIdNumDigits\n11           0.001596               downloadSetting\n12           0.001260                      verified\n13           0.001047                   duetSetting\n14           0.000400                 stitchSetting",
      "text/html": "<div>\n<style scoped>\n    .dataframe tbody tr th:only-of-type {\n        vertical-align: middle;\n    }\n\n    .dataframe tbody tr th {\n        vertical-align: top;\n    }\n\n    .dataframe thead th {\n        text-align: right;\n    }\n</style>\n<table border=\"1\" class=\"dataframe\">\n  <thead>\n    <tr style=\"text-align: right;\">\n      <th></th>\n      <th>featureImportance</th>\n      <th>attribute</th>\n    </tr>\n  </thead>\n  <tbody>\n    <tr>\n      <th>0</th>\n      <td>0.300898</td>\n      <td>followerCount</td>\n    </tr>\n    <tr>\n      <th>1</th>\n      <td>0.155953</td>\n      <td>followingCount</td>\n    </tr>\n    <tr>\n      <th>2</th>\n      <td>0.147104</td>\n      <td>videoCount</td>\n    </tr>\n    <tr>\n      <th>3</th>\n      <td>0.138405</td>\n      <td>heartCount</td>\n    </tr>\n    <tr>\n      <th>4</th>\n      <td>0.060342</td>\n      <td>nicknameLength</td>\n    </tr>\n    <tr>\n      <th>5</th>\n      <td>0.044179</td>\n      <td>diggCount</td>\n    </tr>\n    <tr>\n      <th>6</th>\n      <td>0.038599</td>\n      <td>openFavorite</td>\n    </tr>\n    <tr>\n      <th>7</th>\n      <td>0.036306</td>\n      <td>nicknameNumSpecialCharacters</td>\n    </tr>\n    <tr>\n      <th>8</th>\n      <td>0.032497</td>\n      <td>uniqueIdLength</td>\n    </tr>\n    <tr>\n      <th>9</th>\n      <td>0.024452</td>\n      <td>signatureLength</td>\n    </tr>\n    <tr>\n      <th>10</th>\n      <td>0.016962</td>\n      <td>uniqueIdNumDigits</td>\n    </tr>\n    <tr>\n      <th>11</th>\n      <td>0.001596</td>\n      <td>downloadSetting</td>\n    </tr>\n    <tr>\n      <th>12</th>\n      <td>0.001260</td>\n      <td>verified</td>\n    </tr>\n    <tr>\n      <th>13</th>\n      <td>0.001047</td>\n      <td>duetSetting</td>\n    </tr>\n    <tr>\n      <th>14</th>\n      <td>0.000400</td>\n      <td>stitchSetting</td>\n    </tr>\n  </tbody>\n</table>\n</div>"
     },
     "execution_count": 47,
     "metadata": {},
     "output_type": "execute_result"
    }
   ],
   "source": [
    "# Vediamo l'importanza delle features in fase di addestramento\n",
    "df_feature_importances = pd.DataFrame({\n",
    "    'featureImportance': grid_search.best_estimator_.feature_importances_,\n",
    "    'attribute': X_train.columns\n",
    "})\n",
    "\n",
    "df_feature_importances_sorted = df_feature_importances.sort_values(by='featureImportance', ascending=False)\n",
    "df_feature_importances_sorted.reset_index(inplace=True, drop=True)\n",
    "df_feature_importances_sorted"
   ],
   "metadata": {
    "colab": {
     "base_uri": "https://localhost:8080/",
     "height": 519
    },
    "id": "oJr1v2ivtHEU",
    "executionInfo": {
     "status": "ok",
     "timestamp": 1720617652467,
     "user_tz": -120,
     "elapsed": 274,
     "user": {
      "displayName": "Annalaura Miglino",
      "userId": "03808724092990969006"
     }
    },
    "outputId": "5ca8c6b5-84e5-4160-cb02-ff7152230467"
   }
  },
  {
   "cell_type": "markdown",
   "source": [
    "## 4. Metriche del modello migliore"
   ],
   "metadata": {
    "collapsed": false,
    "id": "9SLuA_6btHEV"
   }
  },
  {
   "cell_type": "markdown",
   "source": [
    "> Vengono misurate le metriche a seguito dell'Hyperparameter Tuning."
   ],
   "metadata": {
    "id": "hjvGQ4FwuqzU"
   }
  },
  {
   "cell_type": "code",
   "execution_count": 48,
   "outputs": [
    {
     "name": "stdout",
     "output_type": "stream",
     "text": [
      "Accuracy: 0.9985067197610752\n",
      "Precision: 0.9980139026812314\n",
      "Recall: 0.9990059642147118\n",
      "F1-Score: 0.9985096870342772\n"
     ]
    }
   ],
   "source": [
    "rfc_final = grid_search.best_estimator_\n",
    "y_pred = rfc_final.predict(X_test)\n",
    "\n",
    "# Stampa delle metriche\n",
    "print(f'Accuracy: {accuracy_score(y_test, y_pred)}')\n",
    "print(f'Precision: {precision_score(y_test, y_pred)}')\n",
    "print(f'Recall: {recall_score(y_test, y_pred)}')\n",
    "print(f'F1-Score: {f1_score(y_test, y_pred)}')"
   ],
   "metadata": {
    "colab": {
     "base_uri": "https://localhost:8080/"
    },
    "id": "pL1M7dV_tHEV",
    "executionInfo": {
     "status": "ok",
     "timestamp": 1720617657198,
     "user_tz": -120,
     "elapsed": 267,
     "user": {
      "displayName": "Annalaura Miglino",
      "userId": "03808724092990969006"
     }
    },
    "outputId": "1a9cb2b4-9ce0-4131-a8b9-e9e888a679a8"
   }
  },
  {
   "cell_type": "markdown",
   "source": [
    "### 4.1 Learning Curve"
   ],
   "metadata": {
    "collapsed": false,
    "id": "DSv8xklJtHEV"
   }
  },
  {
   "cell_type": "code",
   "execution_count": 46,
   "outputs": [
    {
     "data": {
      "text/plain": "<Figure size 640x480 with 1 Axes>",
      "image/png": "[encoded data removed]"
     },
     "metadata": {},
     "output_type": "display_data"
    }
   ],
   "source": [
    "# Istanzia un nuovo modello Random Forest con i migliori parametri ottenuti in precedenza\n",
    "rfc = RandomForestClassifier(random_state=42, **grid_search.best_params_)\n",
    "\n",
    "# Calcolo la learning curve\n",
    "train_sizes, train_scores, test_scores = learning_curve(rfc, X_train, y_train, scoring='accuracy',\n",
    "                                                        train_sizes=np.linspace(0.1, 1.0, 10), n_jobs=-1, cv=10)\n",
    "\n",
    "# Calcola la media dei punteggi ottenuti nelle diverse iterazioni di cross validation\n",
    "train_scores_mean = np.mean(train_scores, axis=1)\n",
    "test_scores_mean = np.mean(test_scores, axis=1)\n",
    "\n",
    "# Traccio la curva di apprendimento\n",
    "plt.figure()\n",
    "plt.title(\"Learning Curve (Random Forest)\")\n",
    "plt.xlabel(\"Training examples\")\n",
    "plt.ylabel(\"Accuracy\")\n",
    "plt.grid()\n",
    "\n",
    "plt.plot(train_sizes, train_scores_mean, 'o-', color=\"r\", label=\"Training accuracy\")\n",
    "plt.plot(train_sizes, test_scores_mean, 'o-', color=\"g\", label=\"Validation accuracy\")\n",
    "\n",
    "plt.legend(loc=\"best\")\n",
    "plt.show()"
   ],
   "metadata": {
    "collapsed": false
   }
  },
  {
   "cell_type": "markdown",
   "source": [
    "### 4.2 Matrice di confusione"
   ],
   "metadata": {
    "collapsed": false,
    "id": "bsg3sXzetHEW"
   }
  },
  {
   "cell_type": "code",
   "execution_count": 49,
   "outputs": [
    {
     "data": {
      "text/plain": "<Figure size 500x400 with 2 Axes>",
      "image/png": "[encoded data removed]"
     },
     "metadata": {},
     "output_type": "display_data"
    },
    {
     "data": {
      "text/plain": "<Figure size 640x480 with 0 Axes>"
     },
     "metadata": {},
     "output_type": "display_data"
    }
   ],
   "source": [
    "cm = confusion_matrix(y_test, y_pred)\n",
    "class_names = ['Real', 'Fake']\n",
    "\n",
    "plt.figure(figsize=(5, 4))\n",
    "sns.heatmap(cm, annot=True, cmap='Blues', fmt='d', xticklabels=class_names, yticklabels=class_names)\n",
    "\n",
    "plt.xlabel('Predicted label')\n",
    "plt.ylabel('True label')\n",
    "plt.title('Confusion Matrix')\n",
    "plt.show()\n",
    "\n",
    "# Salva il grafico come file PDF\n",
    "plt.savefig('confusion_matrix_NameOfClassifier.pdf', format='pdf')"
   ],
   "metadata": {
    "colab": {
     "base_uri": "https://localhost:8080/",
     "height": 427
    },
    "id": "0dFXWshdtHEW",
    "executionInfo": {
     "status": "ok",
     "timestamp": 1720617658603,
     "user_tz": -120,
     "elapsed": 673,
     "user": {
      "displayName": "Annalaura Miglino",
      "userId": "03808724092990969006"
     }
    },
    "outputId": "562c869a-cbcd-4bce-91f7-4f708700669d"
   }
  },
  {
   "cell_type": "markdown",
   "source": [
    "### 4.3 Roc Curve"
   ],
   "metadata": {
    "collapsed": false,
    "id": "jbT1bZJVtHEW"
   }
  },
  {
   "cell_type": "code",
   "execution_count": 51,
   "outputs": [
    {
     "data": {
      "text/plain": "<Figure size 600x500 with 1 Axes>",
      "image/png": "[encoded data removed]"
     },
     "metadata": {},
     "output_type": "display_data"
    }
   ],
   "source": [
    "y_proba = rfc_final.predict_proba(X_test)\n",
    "\n",
    "# Calcolo della curva ROC per la classe 'real' (label 0)\n",
    "fpr_real, tpr_real, _ = roc_curve(y_test, y_proba[:, 0], pos_label=0)\n",
    "roc_auc_real = auc(fpr_real, tpr_real)\n",
    "\n",
    "# Calcolo della curva ROC per la classe 'fake' (label 1)\n",
    "fpr_fake, tpr_fake, _ = roc_curve(y_test, y_proba[:, 1], pos_label=1)\n",
    "roc_auc_fake = auc(fpr_fake, tpr_fake)\n",
    "\n",
    "# Tracciamento delle curve ROC\n",
    "plt.figure(figsize=(6, 5))\n",
    "plt.plot(fpr_real, tpr_real, color='darkorange', lw=2, label=f'ROC curve real (AUC = {roc_auc_real:.2f})')\n",
    "plt.plot(fpr_fake, tpr_fake, color='blue', lw=2, label=f'ROC curve fake (AUC = {roc_auc_fake:.2f})')\n",
    "plt.plot([0, 1], [0, 1], color='black', lw=1, linestyle='--')\n",
    "plt.xlabel('False Positive Rate')\n",
    "plt.ylabel('True Positive Rate')\n",
    "plt.grid(False)\n",
    "plt.legend(loc='lower right')\n",
    "plt.title('ROC Curve')\n",
    "plt.show()"
   ],
   "metadata": {
    "colab": {
     "base_uri": "https://localhost:8080/",
     "height": 507
    },
    "id": "2IDikDOttHEX",
    "executionInfo": {
     "status": "ok",
     "timestamp": 1720617659329,
     "user_tz": -120,
     "elapsed": 743,
     "user": {
      "displayName": "Annalaura Miglino",
      "userId": "03808724092990969006"
     }
    },
    "outputId": "88e0265a-30ed-4f0d-eda9-442863d4b609"
   }
  }
 ],
 "metadata": {
  "kernelspec": {
   "display_name": "Python 3",
   "language": "python",
   "name": "python3"
  },
  "language_info": {
   "codemirror_mode": {
    "name": "ipython",
    "version": 2
   },
   "file_extension": ".py",
   "mimetype": "text/x-python",
   "name": "python",
   "nbconvert_exporter": "python",
   "pygments_lexer": "ipython2",
   "version": "2.7.6"
  },
  "colab": {
   "provenance": []
  }
 },
 "nbformat": 4,
 "nbformat_minor": 0
}
