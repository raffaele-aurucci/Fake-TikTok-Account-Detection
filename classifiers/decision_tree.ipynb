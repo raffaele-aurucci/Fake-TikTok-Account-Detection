{
 "cells": [
  {
   "cell_type": "markdown",
   "source": [
    "# Decision Tree Classifier"
   ],
   "metadata": {
    "id": "Oy1Iz_vru7_R"
   }
  },
  {
   "cell_type": "markdown",
   "source": [
    "> Import necessari"
   ],
   "metadata": {
    "id": "kqqbpgNCvEpK"
   }
  },
  {
   "cell_type": "code",
   "execution_count": 1,
   "metadata": {
    "collapsed": true,
    "id": "Pz96TyWBtHEG",
    "executionInfo": {
     "status": "ok",
     "timestamp": 1720720989017,
     "user_tz": -120,
     "elapsed": 4951,
     "user": {
      "displayName": "Annalaura Miglino",
      "userId": "03808724092990969006"
     }
    }
   },
   "outputs": [],
   "source": [
    "from sklearn.tree import DecisionTreeClassifier\n",
    "from sklearn.model_selection import StratifiedShuffleSplit, GridSearchCV, learning_curve\n",
    "from sklearn.metrics import accuracy_score, confusion_matrix, roc_curve, auc, precision_score, recall_score, f1_score\n",
    "import matplotlib.pyplot as plt\n",
    "import pandas as pd\n",
    "import seaborn as sns\n",
    "import numpy as np"
   ]
  },
  {
   "cell_type": "markdown",
   "source": [
    "> Montaggio di Drive"
   ],
   "metadata": {
    "id": "MQtOqoQ9ysLa"
   }
  },
  {
   "cell_type": "code",
   "source": [
    "from google.colab import drive\n",
    "drive.mount('/content/drive')"
   ],
   "metadata": {
    "colab": {
     "base_uri": "https://localhost:8080/"
    },
    "id": "IhViav_1yvce",
    "executionInfo": {
     "status": "ok",
     "timestamp": 1720721007820,
     "user_tz": -120,
     "elapsed": 18809,
     "user": {
      "displayName": "Annalaura Miglino",
      "userId": "03808724092990969006"
     }
    },
    "outputId": "2002653e-a115-403e-b00f-7e4a40bcd023"
   },
   "execution_count": 2,
   "outputs": [
    {
     "output_type": "stream",
     "name": "stdout",
     "text": [
      "Mounted at /content/drive\n"
     ]
    }
   ]
  },
  {
   "cell_type": "markdown",
   "source": [
    "## 1. Divisione del dataset in train e test"
   ],
   "metadata": {
    "collapsed": false,
    "id": "1Lui-kjYtHEJ"
   }
  },
  {
   "cell_type": "code",
   "execution_count": 2,
   "outputs": [],
   "source": [
    "# Lettura del dataset (local)\n",
    "csv_path = '../datasets/cleaned_dataset.csv'"
   ],
   "metadata": {
    "collapsed": false
   }
  },
  {
   "cell_type": "code",
   "execution_count": 3,
   "outputs": [],
   "source": [
    "# Lettura del dataset (drive)\n",
    "csv_path = '/content/drive/MyDrive/Progetto_FDSML_github/FakeAccountDetection/datasets/cleaned_dataset.csv'"
   ],
   "metadata": {
    "collapsed": false
   }
  },
  {
   "cell_type": "code",
   "execution_count": 3,
   "outputs": [],
   "source": [
    "df = pd.read_csv(csv_path)"
   ],
   "metadata": {
    "id": "WYChjFr5-Gr6",
    "executionInfo": {
     "status": "ok",
     "timestamp": 1720721008931,
     "user_tz": -120,
     "elapsed": 1117,
     "user": {
      "displayName": "Annalaura Miglino",
      "userId": "03808724092990969006"
     }
    }
   }
  },
  {
   "cell_type": "code",
   "execution_count": 4,
   "outputs": [],
   "source": [
    "# Divisione in train e test set\n",
    "X = df.copy()\n",
    "y = X.pop('fake')\n",
    "\n",
    "sss = StratifiedShuffleSplit(n_splits=1, test_size=0.2, random_state=42)\n",
    "\n",
    "for train_index, test_index in sss.split(X, y):\n",
    "    X_train, X_test = X.loc[train_index], X.loc[test_index]\n",
    "    y_train, y_test = y.loc[train_index], y.loc[test_index]"
   ],
   "metadata": {
    "id": "gA4sxs84tHEO",
    "executionInfo": {
     "status": "ok",
     "timestamp": 1720721008933,
     "user_tz": -120,
     "elapsed": 6,
     "user": {
      "displayName": "Annalaura Miglino",
      "userId": "03808724092990969006"
     }
    }
   }
  },
  {
   "cell_type": "markdown",
   "source": [
    "### 1.1 Addestramento senza iperparametri"
   ],
   "metadata": {
    "collapsed": false,
    "id": "IsOyxbdUtHEO"
   }
  },
  {
   "cell_type": "code",
   "execution_count": 5,
   "outputs": [
    {
     "name": "stdout",
     "output_type": "stream",
     "text": [
      "Accuracy: 0.9985067197610752\n",
      "Precision: 0.9990049751243781\n",
      "Recall: 0.9980119284294234\n",
      "F1-Score: 0.9985082048731975\n"
     ]
    }
   ],
   "source": [
    "# Istanziazione e addestramento del classificatore\n",
    "dt = DecisionTreeClassifier()\n",
    "dt.fit(X_train, y_train)\n",
    "y_pred = dt.predict(X_test)\n",
    "\n",
    "# Stampa delle metriche\n",
    "print(f'Accuracy: {accuracy_score(y_test, y_pred)}')\n",
    "print(f'Precision: {precision_score(y_test, y_pred)}')\n",
    "print(f'Recall: {recall_score(y_test, y_pred)}')\n",
    "print(f'F1-Score: {f1_score(y_test, y_pred)}')"
   ],
   "metadata": {
    "colab": {
     "base_uri": "https://localhost:8080/"
    },
    "id": "dB1w4oUgtHEP",
    "executionInfo": {
     "status": "ok",
     "timestamp": 1720721027238,
     "user_tz": -120,
     "elapsed": 289,
     "user": {
      "displayName": "Annalaura Miglino",
      "userId": "03808724092990969006"
     }
    },
    "outputId": "fd08930e-d88e-42df-b139-ffab22ad33b6"
   }
  },
  {
   "cell_type": "markdown",
   "source": [
    "## 2. Grid Search Cross Validation"
   ],
   "metadata": {
    "collapsed": false,
    "id": "eKsiifbVtHEQ"
   }
  },
  {
   "cell_type": "code",
   "execution_count": 6,
   "outputs": [],
   "source": [
    "# Griglia dei parametri corretta\n",
    "param_grid = {\n",
    "    'criterion': ['gini'],\n",
    "    'max_depth': [10, 15, 20],\n",
    "    'min_samples_split': [2, 3, 4],\n",
    "    'min_samples_leaf': [1, 2, 3],\n",
    "    'max_features': [None, 3, 7],\n",
    "    'max_leaf_nodes': [5, 10, 15]\n",
    "}"
   ],
   "metadata": {
    "id": "8mftUZiltHER",
    "executionInfo": {
     "status": "ok",
     "timestamp": 1720722492368,
     "user_tz": -120,
     "elapsed": 287,
     "user": {
      "displayName": "Annalaura Miglino",
      "userId": "03808724092990969006"
     }
    }
   }
  },
  {
   "cell_type": "code",
   "source": [
    "# Istanziazione del classificatore (random_state garantisce che ad ogni esecuzione vi siano sempre gli stessi iperparametri migliori)\n",
    "dt = DecisionTreeClassifier(random_state=42)"
   ],
   "metadata": {
    "id": "aKR9IQrtto_j",
    "executionInfo": {
     "status": "ok",
     "timestamp": 1720722495436,
     "user_tz": -120,
     "elapsed": 3,
     "user": {
      "displayName": "Annalaura Miglino",
      "userId": "03808724092990969006"
     }
    }
   },
   "execution_count": 7,
   "outputs": []
  },
  {
   "cell_type": "code",
   "execution_count": 8,
   "outputs": [
    {
     "name": "stdout",
     "output_type": "stream",
     "text": [
      "Best Parameters: {'criterion': 'gini', 'max_depth': 10, 'max_features': None, 'max_leaf_nodes': 15, 'min_samples_leaf': 1, 'min_samples_split': 3}\n",
      "CPU times: total: 4.05 s\n",
      "Wall time: 15.8 s\n"
     ]
    }
   ],
   "source": [
    "%%time\n",
    "# Stampiamo i migliori parametri\n",
    "grid_search = GridSearchCV(estimator=dt, param_grid=param_grid, cv=10, scoring='f1', n_jobs=-1, return_train_score=True, error_score='raise')\n",
    "grid_search.fit(X_train, y_train)\n",
    "print(\"Best Parameters:\", grid_search.best_params_)"
   ],
   "metadata": {
    "colab": {
     "base_uri": "https://localhost:8080/"
    },
    "id": "APgT9wYWtHER",
    "executionInfo": {
     "status": "ok",
     "timestamp": 1720722545303,
     "user_tz": -120,
     "elapsed": 48687,
     "user": {
      "displayName": "Annalaura Miglino",
      "userId": "03808724092990969006"
     }
    },
    "outputId": "5de04842-8e76-4507-c51c-debe1a3e001f"
   }
  },
  {
   "cell_type": "code",
   "execution_count": 9,
   "outputs": [
    {
     "name": "stdout",
     "output_type": "stream",
     "text": [
      "Iterazione 0: F1-Score 0.9932391631157312, Parametri {'criterion': 'gini', 'max_depth': 10, 'max_features': None, 'max_leaf_nodes': 5, 'min_samples_leaf': 1, 'min_samples_split': 2}\n",
      "Iterazione 1: F1-Score 0.9932391631157312, Parametri {'criterion': 'gini', 'max_depth': 10, 'max_features': None, 'max_leaf_nodes': 5, 'min_samples_leaf': 1, 'min_samples_split': 3}\n",
      "Iterazione 2: F1-Score 0.9932391631157312, Parametri {'criterion': 'gini', 'max_depth': 10, 'max_features': None, 'max_leaf_nodes': 5, 'min_samples_leaf': 1, 'min_samples_split': 4}\n",
      "Iterazione 3: F1-Score 0.9932391631157312, Parametri {'criterion': 'gini', 'max_depth': 10, 'max_features': None, 'max_leaf_nodes': 5, 'min_samples_leaf': 2, 'min_samples_split': 2}\n",
      "Iterazione 4: F1-Score 0.9932391631157312, Parametri {'criterion': 'gini', 'max_depth': 10, 'max_features': None, 'max_leaf_nodes': 5, 'min_samples_leaf': 2, 'min_samples_split': 3}\n",
      "Iterazione 5: F1-Score 0.9932391631157312, Parametri {'criterion': 'gini', 'max_depth': 10, 'max_features': None, 'max_leaf_nodes': 5, 'min_samples_leaf': 2, 'min_samples_split': 4}\n",
      "Iterazione 6: F1-Score 0.9932391631157312, Parametri {'criterion': 'gini', 'max_depth': 10, 'max_features': None, 'max_leaf_nodes': 5, 'min_samples_leaf': 3, 'min_samples_split': 2}\n",
      "Iterazione 7: F1-Score 0.9932391631157312, Parametri {'criterion': 'gini', 'max_depth': 10, 'max_features': None, 'max_leaf_nodes': 5, 'min_samples_leaf': 3, 'min_samples_split': 3}\n",
      "Iterazione 8: F1-Score 0.9932391631157312, Parametri {'criterion': 'gini', 'max_depth': 10, 'max_features': None, 'max_leaf_nodes': 5, 'min_samples_leaf': 3, 'min_samples_split': 4}\n",
      "Iterazione 9: F1-Score 0.9957652367219996, Parametri {'criterion': 'gini', 'max_depth': 10, 'max_features': None, 'max_leaf_nodes': 10, 'min_samples_leaf': 1, 'min_samples_split': 2}\n",
      "Iterazione 10: F1-Score 0.9957652367219996, Parametri {'criterion': 'gini', 'max_depth': 10, 'max_features': None, 'max_leaf_nodes': 10, 'min_samples_leaf': 1, 'min_samples_split': 3}\n",
      "Iterazione 11: F1-Score 0.9957652367219996, Parametri {'criterion': 'gini', 'max_depth': 10, 'max_features': None, 'max_leaf_nodes': 10, 'min_samples_leaf': 1, 'min_samples_split': 4}\n",
      "Iterazione 12: F1-Score 0.9958910131224302, Parametri {'criterion': 'gini', 'max_depth': 10, 'max_features': None, 'max_leaf_nodes': 10, 'min_samples_leaf': 2, 'min_samples_split': 2}\n",
      "Iterazione 13: F1-Score 0.9958910131224302, Parametri {'criterion': 'gini', 'max_depth': 10, 'max_features': None, 'max_leaf_nodes': 10, 'min_samples_leaf': 2, 'min_samples_split': 3}\n",
      "Iterazione 14: F1-Score 0.9958910131224302, Parametri {'criterion': 'gini', 'max_depth': 10, 'max_features': None, 'max_leaf_nodes': 10, 'min_samples_leaf': 2, 'min_samples_split': 4}\n",
      "Iterazione 15: F1-Score 0.995766793397087, Parametri {'criterion': 'gini', 'max_depth': 10, 'max_features': None, 'max_leaf_nodes': 10, 'min_samples_leaf': 3, 'min_samples_split': 2}\n",
      "Iterazione 16: F1-Score 0.995766793397087, Parametri {'criterion': 'gini', 'max_depth': 10, 'max_features': None, 'max_leaf_nodes': 10, 'min_samples_leaf': 3, 'min_samples_split': 3}\n",
      "Iterazione 17: F1-Score 0.995766793397087, Parametri {'criterion': 'gini', 'max_depth': 10, 'max_features': None, 'max_leaf_nodes': 10, 'min_samples_leaf': 3, 'min_samples_split': 4}\n",
      "Iterazione 18: F1-Score 0.9965139883230852, Parametri {'criterion': 'gini', 'max_depth': 10, 'max_features': None, 'max_leaf_nodes': 15, 'min_samples_leaf': 1, 'min_samples_split': 2}\n",
      "Iterazione 19: F1-Score 0.9967646090446927, Parametri {'criterion': 'gini', 'max_depth': 10, 'max_features': None, 'max_leaf_nodes': 15, 'min_samples_leaf': 1, 'min_samples_split': 3}\n",
      "Iterazione 20: F1-Score 0.9967646090446927, Parametri {'criterion': 'gini', 'max_depth': 10, 'max_features': None, 'max_leaf_nodes': 15, 'min_samples_leaf': 1, 'min_samples_split': 4}\n",
      "Iterazione 21: F1-Score 0.9962630484663005, Parametri {'criterion': 'gini', 'max_depth': 10, 'max_features': None, 'max_leaf_nodes': 15, 'min_samples_leaf': 2, 'min_samples_split': 2}\n",
      "Iterazione 22: F1-Score 0.9962630484663005, Parametri {'criterion': 'gini', 'max_depth': 10, 'max_features': None, 'max_leaf_nodes': 15, 'min_samples_leaf': 2, 'min_samples_split': 3}\n",
      "Iterazione 23: F1-Score 0.9962630484663005, Parametri {'criterion': 'gini', 'max_depth': 10, 'max_features': None, 'max_leaf_nodes': 15, 'min_samples_leaf': 2, 'min_samples_split': 4}\n",
      "Iterazione 24: F1-Score 0.9967642992639721, Parametri {'criterion': 'gini', 'max_depth': 10, 'max_features': None, 'max_leaf_nodes': 15, 'min_samples_leaf': 3, 'min_samples_split': 2}\n",
      "Iterazione 25: F1-Score 0.9967642992639721, Parametri {'criterion': 'gini', 'max_depth': 10, 'max_features': None, 'max_leaf_nodes': 15, 'min_samples_leaf': 3, 'min_samples_split': 3}\n",
      "Iterazione 26: F1-Score 0.9967642992639721, Parametri {'criterion': 'gini', 'max_depth': 10, 'max_features': None, 'max_leaf_nodes': 15, 'min_samples_leaf': 3, 'min_samples_split': 4}\n",
      "Iterazione 27: F1-Score 0.9220335156803463, Parametri {'criterion': 'gini', 'max_depth': 10, 'max_features': 3, 'max_leaf_nodes': 5, 'min_samples_leaf': 1, 'min_samples_split': 2}\n",
      "Iterazione 28: F1-Score 0.9220335156803463, Parametri {'criterion': 'gini', 'max_depth': 10, 'max_features': 3, 'max_leaf_nodes': 5, 'min_samples_leaf': 1, 'min_samples_split': 3}\n",
      "Iterazione 29: F1-Score 0.9220335156803463, Parametri {'criterion': 'gini', 'max_depth': 10, 'max_features': 3, 'max_leaf_nodes': 5, 'min_samples_leaf': 1, 'min_samples_split': 4}\n",
      "Iterazione 30: F1-Score 0.9220335156803463, Parametri {'criterion': 'gini', 'max_depth': 10, 'max_features': 3, 'max_leaf_nodes': 5, 'min_samples_leaf': 2, 'min_samples_split': 2}\n",
      "Iterazione 31: F1-Score 0.9220335156803463, Parametri {'criterion': 'gini', 'max_depth': 10, 'max_features': 3, 'max_leaf_nodes': 5, 'min_samples_leaf': 2, 'min_samples_split': 3}\n",
      "Iterazione 32: F1-Score 0.9220335156803463, Parametri {'criterion': 'gini', 'max_depth': 10, 'max_features': 3, 'max_leaf_nodes': 5, 'min_samples_leaf': 2, 'min_samples_split': 4}\n",
      "Iterazione 33: F1-Score 0.9220335156803463, Parametri {'criterion': 'gini', 'max_depth': 10, 'max_features': 3, 'max_leaf_nodes': 5, 'min_samples_leaf': 3, 'min_samples_split': 2}\n",
      "Iterazione 34: F1-Score 0.9220335156803463, Parametri {'criterion': 'gini', 'max_depth': 10, 'max_features': 3, 'max_leaf_nodes': 5, 'min_samples_leaf': 3, 'min_samples_split': 3}\n",
      "Iterazione 35: F1-Score 0.9220335156803463, Parametri {'criterion': 'gini', 'max_depth': 10, 'max_features': 3, 'max_leaf_nodes': 5, 'min_samples_leaf': 3, 'min_samples_split': 4}\n",
      "Iterazione 36: F1-Score 0.9791633732810079, Parametri {'criterion': 'gini', 'max_depth': 10, 'max_features': 3, 'max_leaf_nodes': 10, 'min_samples_leaf': 1, 'min_samples_split': 2}\n",
      "Iterazione 37: F1-Score 0.9791633732810079, Parametri {'criterion': 'gini', 'max_depth': 10, 'max_features': 3, 'max_leaf_nodes': 10, 'min_samples_leaf': 1, 'min_samples_split': 3}\n",
      "Iterazione 38: F1-Score 0.9791633732810079, Parametri {'criterion': 'gini', 'max_depth': 10, 'max_features': 3, 'max_leaf_nodes': 10, 'min_samples_leaf': 1, 'min_samples_split': 4}\n",
      "Iterazione 39: F1-Score 0.9791633732810079, Parametri {'criterion': 'gini', 'max_depth': 10, 'max_features': 3, 'max_leaf_nodes': 10, 'min_samples_leaf': 2, 'min_samples_split': 2}\n",
      "Iterazione 40: F1-Score 0.9791633732810079, Parametri {'criterion': 'gini', 'max_depth': 10, 'max_features': 3, 'max_leaf_nodes': 10, 'min_samples_leaf': 2, 'min_samples_split': 3}\n",
      "Iterazione 41: F1-Score 0.9791633732810079, Parametri {'criterion': 'gini', 'max_depth': 10, 'max_features': 3, 'max_leaf_nodes': 10, 'min_samples_leaf': 2, 'min_samples_split': 4}\n",
      "Iterazione 42: F1-Score 0.9791633732810079, Parametri {'criterion': 'gini', 'max_depth': 10, 'max_features': 3, 'max_leaf_nodes': 10, 'min_samples_leaf': 3, 'min_samples_split': 2}\n",
      "Iterazione 43: F1-Score 0.9791633732810079, Parametri {'criterion': 'gini', 'max_depth': 10, 'max_features': 3, 'max_leaf_nodes': 10, 'min_samples_leaf': 3, 'min_samples_split': 3}\n",
      "Iterazione 44: F1-Score 0.9791633732810079, Parametri {'criterion': 'gini', 'max_depth': 10, 'max_features': 3, 'max_leaf_nodes': 10, 'min_samples_leaf': 3, 'min_samples_split': 4}\n",
      "Iterazione 45: F1-Score 0.9851154924469251, Parametri {'criterion': 'gini', 'max_depth': 10, 'max_features': 3, 'max_leaf_nodes': 15, 'min_samples_leaf': 1, 'min_samples_split': 2}\n",
      "Iterazione 46: F1-Score 0.9851154924469251, Parametri {'criterion': 'gini', 'max_depth': 10, 'max_features': 3, 'max_leaf_nodes': 15, 'min_samples_leaf': 1, 'min_samples_split': 3}\n",
      "Iterazione 47: F1-Score 0.9851154924469251, Parametri {'criterion': 'gini', 'max_depth': 10, 'max_features': 3, 'max_leaf_nodes': 15, 'min_samples_leaf': 1, 'min_samples_split': 4}\n",
      "Iterazione 48: F1-Score 0.9851154924469251, Parametri {'criterion': 'gini', 'max_depth': 10, 'max_features': 3, 'max_leaf_nodes': 15, 'min_samples_leaf': 2, 'min_samples_split': 2}\n",
      "Iterazione 49: F1-Score 0.9851154924469251, Parametri {'criterion': 'gini', 'max_depth': 10, 'max_features': 3, 'max_leaf_nodes': 15, 'min_samples_leaf': 2, 'min_samples_split': 3}\n",
      "Iterazione 50: F1-Score 0.9851154924469251, Parametri {'criterion': 'gini', 'max_depth': 10, 'max_features': 3, 'max_leaf_nodes': 15, 'min_samples_leaf': 2, 'min_samples_split': 4}\n",
      "Iterazione 51: F1-Score 0.9848698565367006, Parametri {'criterion': 'gini', 'max_depth': 10, 'max_features': 3, 'max_leaf_nodes': 15, 'min_samples_leaf': 3, 'min_samples_split': 2}\n",
      "Iterazione 52: F1-Score 0.9848698565367006, Parametri {'criterion': 'gini', 'max_depth': 10, 'max_features': 3, 'max_leaf_nodes': 15, 'min_samples_leaf': 3, 'min_samples_split': 3}\n",
      "Iterazione 53: F1-Score 0.9848698565367006, Parametri {'criterion': 'gini', 'max_depth': 10, 'max_features': 3, 'max_leaf_nodes': 15, 'min_samples_leaf': 3, 'min_samples_split': 4}\n",
      "Iterazione 54: F1-Score 0.9761980592786623, Parametri {'criterion': 'gini', 'max_depth': 10, 'max_features': 7, 'max_leaf_nodes': 5, 'min_samples_leaf': 1, 'min_samples_split': 2}\n",
      "Iterazione 55: F1-Score 0.9761980592786623, Parametri {'criterion': 'gini', 'max_depth': 10, 'max_features': 7, 'max_leaf_nodes': 5, 'min_samples_leaf': 1, 'min_samples_split': 3}\n",
      "Iterazione 56: F1-Score 0.9761980592786623, Parametri {'criterion': 'gini', 'max_depth': 10, 'max_features': 7, 'max_leaf_nodes': 5, 'min_samples_leaf': 1, 'min_samples_split': 4}\n",
      "Iterazione 57: F1-Score 0.9761980592786623, Parametri {'criterion': 'gini', 'max_depth': 10, 'max_features': 7, 'max_leaf_nodes': 5, 'min_samples_leaf': 2, 'min_samples_split': 2}\n",
      "Iterazione 58: F1-Score 0.9761980592786623, Parametri {'criterion': 'gini', 'max_depth': 10, 'max_features': 7, 'max_leaf_nodes': 5, 'min_samples_leaf': 2, 'min_samples_split': 3}\n",
      "Iterazione 59: F1-Score 0.9761980592786623, Parametri {'criterion': 'gini', 'max_depth': 10, 'max_features': 7, 'max_leaf_nodes': 5, 'min_samples_leaf': 2, 'min_samples_split': 4}\n",
      "Iterazione 60: F1-Score 0.9761980592786623, Parametri {'criterion': 'gini', 'max_depth': 10, 'max_features': 7, 'max_leaf_nodes': 5, 'min_samples_leaf': 3, 'min_samples_split': 2}\n",
      "Iterazione 61: F1-Score 0.9761980592786623, Parametri {'criterion': 'gini', 'max_depth': 10, 'max_features': 7, 'max_leaf_nodes': 5, 'min_samples_leaf': 3, 'min_samples_split': 3}\n",
      "Iterazione 62: F1-Score 0.9761980592786623, Parametri {'criterion': 'gini', 'max_depth': 10, 'max_features': 7, 'max_leaf_nodes': 5, 'min_samples_leaf': 3, 'min_samples_split': 4}\n",
      "Iterazione 63: F1-Score 0.9866411579849824, Parametri {'criterion': 'gini', 'max_depth': 10, 'max_features': 7, 'max_leaf_nodes': 10, 'min_samples_leaf': 1, 'min_samples_split': 2}\n",
      "Iterazione 64: F1-Score 0.9866411579849824, Parametri {'criterion': 'gini', 'max_depth': 10, 'max_features': 7, 'max_leaf_nodes': 10, 'min_samples_leaf': 1, 'min_samples_split': 3}\n",
      "Iterazione 65: F1-Score 0.9866411579849824, Parametri {'criterion': 'gini', 'max_depth': 10, 'max_features': 7, 'max_leaf_nodes': 10, 'min_samples_leaf': 1, 'min_samples_split': 4}\n",
      "Iterazione 66: F1-Score 0.9866411579849824, Parametri {'criterion': 'gini', 'max_depth': 10, 'max_features': 7, 'max_leaf_nodes': 10, 'min_samples_leaf': 2, 'min_samples_split': 2}\n",
      "Iterazione 67: F1-Score 0.9866411579849824, Parametri {'criterion': 'gini', 'max_depth': 10, 'max_features': 7, 'max_leaf_nodes': 10, 'min_samples_leaf': 2, 'min_samples_split': 3}\n",
      "Iterazione 68: F1-Score 0.9866411579849824, Parametri {'criterion': 'gini', 'max_depth': 10, 'max_features': 7, 'max_leaf_nodes': 10, 'min_samples_leaf': 2, 'min_samples_split': 4}\n",
      "Iterazione 69: F1-Score 0.9866411579849824, Parametri {'criterion': 'gini', 'max_depth': 10, 'max_features': 7, 'max_leaf_nodes': 10, 'min_samples_leaf': 3, 'min_samples_split': 2}\n",
      "Iterazione 70: F1-Score 0.9866411579849824, Parametri {'criterion': 'gini', 'max_depth': 10, 'max_features': 7, 'max_leaf_nodes': 10, 'min_samples_leaf': 3, 'min_samples_split': 3}\n",
      "Iterazione 71: F1-Score 0.9866411579849824, Parametri {'criterion': 'gini', 'max_depth': 10, 'max_features': 7, 'max_leaf_nodes': 10, 'min_samples_leaf': 3, 'min_samples_split': 4}\n",
      "Iterazione 72: F1-Score 0.9932445452627029, Parametri {'criterion': 'gini', 'max_depth': 10, 'max_features': 7, 'max_leaf_nodes': 15, 'min_samples_leaf': 1, 'min_samples_split': 2}\n",
      "Iterazione 73: F1-Score 0.9932445452627029, Parametri {'criterion': 'gini', 'max_depth': 10, 'max_features': 7, 'max_leaf_nodes': 15, 'min_samples_leaf': 1, 'min_samples_split': 3}\n",
      "Iterazione 74: F1-Score 0.9932445452627029, Parametri {'criterion': 'gini', 'max_depth': 10, 'max_features': 7, 'max_leaf_nodes': 15, 'min_samples_leaf': 1, 'min_samples_split': 4}\n",
      "Iterazione 75: F1-Score 0.9932445452627029, Parametri {'criterion': 'gini', 'max_depth': 10, 'max_features': 7, 'max_leaf_nodes': 15, 'min_samples_leaf': 2, 'min_samples_split': 2}\n",
      "Iterazione 76: F1-Score 0.9932445452627029, Parametri {'criterion': 'gini', 'max_depth': 10, 'max_features': 7, 'max_leaf_nodes': 15, 'min_samples_leaf': 2, 'min_samples_split': 3}\n",
      "Iterazione 77: F1-Score 0.9932445452627029, Parametri {'criterion': 'gini', 'max_depth': 10, 'max_features': 7, 'max_leaf_nodes': 15, 'min_samples_leaf': 2, 'min_samples_split': 4}\n",
      "Iterazione 78: F1-Score 0.9927401569393222, Parametri {'criterion': 'gini', 'max_depth': 10, 'max_features': 7, 'max_leaf_nodes': 15, 'min_samples_leaf': 3, 'min_samples_split': 2}\n",
      "Iterazione 79: F1-Score 0.9927401569393222, Parametri {'criterion': 'gini', 'max_depth': 10, 'max_features': 7, 'max_leaf_nodes': 15, 'min_samples_leaf': 3, 'min_samples_split': 3}\n",
      "Iterazione 80: F1-Score 0.9927401569393222, Parametri {'criterion': 'gini', 'max_depth': 10, 'max_features': 7, 'max_leaf_nodes': 15, 'min_samples_leaf': 3, 'min_samples_split': 4}\n",
      "Iterazione 81: F1-Score 0.9932391631157312, Parametri {'criterion': 'gini', 'max_depth': 15, 'max_features': None, 'max_leaf_nodes': 5, 'min_samples_leaf': 1, 'min_samples_split': 2}\n",
      "Iterazione 82: F1-Score 0.9932391631157312, Parametri {'criterion': 'gini', 'max_depth': 15, 'max_features': None, 'max_leaf_nodes': 5, 'min_samples_leaf': 1, 'min_samples_split': 3}\n",
      "Iterazione 83: F1-Score 0.9932391631157312, Parametri {'criterion': 'gini', 'max_depth': 15, 'max_features': None, 'max_leaf_nodes': 5, 'min_samples_leaf': 1, 'min_samples_split': 4}\n",
      "Iterazione 84: F1-Score 0.9932391631157312, Parametri {'criterion': 'gini', 'max_depth': 15, 'max_features': None, 'max_leaf_nodes': 5, 'min_samples_leaf': 2, 'min_samples_split': 2}\n",
      "Iterazione 85: F1-Score 0.9932391631157312, Parametri {'criterion': 'gini', 'max_depth': 15, 'max_features': None, 'max_leaf_nodes': 5, 'min_samples_leaf': 2, 'min_samples_split': 3}\n",
      "Iterazione 86: F1-Score 0.9932391631157312, Parametri {'criterion': 'gini', 'max_depth': 15, 'max_features': None, 'max_leaf_nodes': 5, 'min_samples_leaf': 2, 'min_samples_split': 4}\n",
      "Iterazione 87: F1-Score 0.9932391631157312, Parametri {'criterion': 'gini', 'max_depth': 15, 'max_features': None, 'max_leaf_nodes': 5, 'min_samples_leaf': 3, 'min_samples_split': 2}\n",
      "Iterazione 88: F1-Score 0.9932391631157312, Parametri {'criterion': 'gini', 'max_depth': 15, 'max_features': None, 'max_leaf_nodes': 5, 'min_samples_leaf': 3, 'min_samples_split': 3}\n",
      "Iterazione 89: F1-Score 0.9932391631157312, Parametri {'criterion': 'gini', 'max_depth': 15, 'max_features': None, 'max_leaf_nodes': 5, 'min_samples_leaf': 3, 'min_samples_split': 4}\n",
      "Iterazione 90: F1-Score 0.9957652367219996, Parametri {'criterion': 'gini', 'max_depth': 15, 'max_features': None, 'max_leaf_nodes': 10, 'min_samples_leaf': 1, 'min_samples_split': 2}\n",
      "Iterazione 91: F1-Score 0.9957652367219996, Parametri {'criterion': 'gini', 'max_depth': 15, 'max_features': None, 'max_leaf_nodes': 10, 'min_samples_leaf': 1, 'min_samples_split': 3}\n",
      "Iterazione 92: F1-Score 0.9957652367219996, Parametri {'criterion': 'gini', 'max_depth': 15, 'max_features': None, 'max_leaf_nodes': 10, 'min_samples_leaf': 1, 'min_samples_split': 4}\n",
      "Iterazione 93: F1-Score 0.9958910131224302, Parametri {'criterion': 'gini', 'max_depth': 15, 'max_features': None, 'max_leaf_nodes': 10, 'min_samples_leaf': 2, 'min_samples_split': 2}\n",
      "Iterazione 94: F1-Score 0.9958910131224302, Parametri {'criterion': 'gini', 'max_depth': 15, 'max_features': None, 'max_leaf_nodes': 10, 'min_samples_leaf': 2, 'min_samples_split': 3}\n",
      "Iterazione 95: F1-Score 0.9958910131224302, Parametri {'criterion': 'gini', 'max_depth': 15, 'max_features': None, 'max_leaf_nodes': 10, 'min_samples_leaf': 2, 'min_samples_split': 4}\n",
      "Iterazione 96: F1-Score 0.995766793397087, Parametri {'criterion': 'gini', 'max_depth': 15, 'max_features': None, 'max_leaf_nodes': 10, 'min_samples_leaf': 3, 'min_samples_split': 2}\n",
      "Iterazione 97: F1-Score 0.995766793397087, Parametri {'criterion': 'gini', 'max_depth': 15, 'max_features': None, 'max_leaf_nodes': 10, 'min_samples_leaf': 3, 'min_samples_split': 3}\n",
      "Iterazione 98: F1-Score 0.995766793397087, Parametri {'criterion': 'gini', 'max_depth': 15, 'max_features': None, 'max_leaf_nodes': 10, 'min_samples_leaf': 3, 'min_samples_split': 4}\n",
      "Iterazione 99: F1-Score 0.9965139883230852, Parametri {'criterion': 'gini', 'max_depth': 15, 'max_features': None, 'max_leaf_nodes': 15, 'min_samples_leaf': 1, 'min_samples_split': 2}\n",
      "Iterazione 100: F1-Score 0.9967646090446927, Parametri {'criterion': 'gini', 'max_depth': 15, 'max_features': None, 'max_leaf_nodes': 15, 'min_samples_leaf': 1, 'min_samples_split': 3}\n",
      "Iterazione 101: F1-Score 0.9967646090446927, Parametri {'criterion': 'gini', 'max_depth': 15, 'max_features': None, 'max_leaf_nodes': 15, 'min_samples_leaf': 1, 'min_samples_split': 4}\n",
      "Iterazione 102: F1-Score 0.9962630484663005, Parametri {'criterion': 'gini', 'max_depth': 15, 'max_features': None, 'max_leaf_nodes': 15, 'min_samples_leaf': 2, 'min_samples_split': 2}\n",
      "Iterazione 103: F1-Score 0.9962630484663005, Parametri {'criterion': 'gini', 'max_depth': 15, 'max_features': None, 'max_leaf_nodes': 15, 'min_samples_leaf': 2, 'min_samples_split': 3}\n",
      "Iterazione 104: F1-Score 0.9962630484663005, Parametri {'criterion': 'gini', 'max_depth': 15, 'max_features': None, 'max_leaf_nodes': 15, 'min_samples_leaf': 2, 'min_samples_split': 4}\n",
      "Iterazione 105: F1-Score 0.9967642992639721, Parametri {'criterion': 'gini', 'max_depth': 15, 'max_features': None, 'max_leaf_nodes': 15, 'min_samples_leaf': 3, 'min_samples_split': 2}\n",
      "Iterazione 106: F1-Score 0.9967642992639721, Parametri {'criterion': 'gini', 'max_depth': 15, 'max_features': None, 'max_leaf_nodes': 15, 'min_samples_leaf': 3, 'min_samples_split': 3}\n",
      "Iterazione 107: F1-Score 0.9967642992639721, Parametri {'criterion': 'gini', 'max_depth': 15, 'max_features': None, 'max_leaf_nodes': 15, 'min_samples_leaf': 3, 'min_samples_split': 4}\n",
      "Iterazione 108: F1-Score 0.9220335156803463, Parametri {'criterion': 'gini', 'max_depth': 15, 'max_features': 3, 'max_leaf_nodes': 5, 'min_samples_leaf': 1, 'min_samples_split': 2}\n",
      "Iterazione 109: F1-Score 0.9220335156803463, Parametri {'criterion': 'gini', 'max_depth': 15, 'max_features': 3, 'max_leaf_nodes': 5, 'min_samples_leaf': 1, 'min_samples_split': 3}\n",
      "Iterazione 110: F1-Score 0.9220335156803463, Parametri {'criterion': 'gini', 'max_depth': 15, 'max_features': 3, 'max_leaf_nodes': 5, 'min_samples_leaf': 1, 'min_samples_split': 4}\n",
      "Iterazione 111: F1-Score 0.9220335156803463, Parametri {'criterion': 'gini', 'max_depth': 15, 'max_features': 3, 'max_leaf_nodes': 5, 'min_samples_leaf': 2, 'min_samples_split': 2}\n",
      "Iterazione 112: F1-Score 0.9220335156803463, Parametri {'criterion': 'gini', 'max_depth': 15, 'max_features': 3, 'max_leaf_nodes': 5, 'min_samples_leaf': 2, 'min_samples_split': 3}\n",
      "Iterazione 113: F1-Score 0.9220335156803463, Parametri {'criterion': 'gini', 'max_depth': 15, 'max_features': 3, 'max_leaf_nodes': 5, 'min_samples_leaf': 2, 'min_samples_split': 4}\n",
      "Iterazione 114: F1-Score 0.9220335156803463, Parametri {'criterion': 'gini', 'max_depth': 15, 'max_features': 3, 'max_leaf_nodes': 5, 'min_samples_leaf': 3, 'min_samples_split': 2}\n",
      "Iterazione 115: F1-Score 0.9220335156803463, Parametri {'criterion': 'gini', 'max_depth': 15, 'max_features': 3, 'max_leaf_nodes': 5, 'min_samples_leaf': 3, 'min_samples_split': 3}\n",
      "Iterazione 116: F1-Score 0.9220335156803463, Parametri {'criterion': 'gini', 'max_depth': 15, 'max_features': 3, 'max_leaf_nodes': 5, 'min_samples_leaf': 3, 'min_samples_split': 4}\n",
      "Iterazione 117: F1-Score 0.9791633732810079, Parametri {'criterion': 'gini', 'max_depth': 15, 'max_features': 3, 'max_leaf_nodes': 10, 'min_samples_leaf': 1, 'min_samples_split': 2}\n",
      "Iterazione 118: F1-Score 0.9791633732810079, Parametri {'criterion': 'gini', 'max_depth': 15, 'max_features': 3, 'max_leaf_nodes': 10, 'min_samples_leaf': 1, 'min_samples_split': 3}\n",
      "Iterazione 119: F1-Score 0.9791633732810079, Parametri {'criterion': 'gini', 'max_depth': 15, 'max_features': 3, 'max_leaf_nodes': 10, 'min_samples_leaf': 1, 'min_samples_split': 4}\n",
      "Iterazione 120: F1-Score 0.9791633732810079, Parametri {'criterion': 'gini', 'max_depth': 15, 'max_features': 3, 'max_leaf_nodes': 10, 'min_samples_leaf': 2, 'min_samples_split': 2}\n",
      "Iterazione 121: F1-Score 0.9791633732810079, Parametri {'criterion': 'gini', 'max_depth': 15, 'max_features': 3, 'max_leaf_nodes': 10, 'min_samples_leaf': 2, 'min_samples_split': 3}\n",
      "Iterazione 122: F1-Score 0.9791633732810079, Parametri {'criterion': 'gini', 'max_depth': 15, 'max_features': 3, 'max_leaf_nodes': 10, 'min_samples_leaf': 2, 'min_samples_split': 4}\n",
      "Iterazione 123: F1-Score 0.9791633732810079, Parametri {'criterion': 'gini', 'max_depth': 15, 'max_features': 3, 'max_leaf_nodes': 10, 'min_samples_leaf': 3, 'min_samples_split': 2}\n",
      "Iterazione 124: F1-Score 0.9791633732810079, Parametri {'criterion': 'gini', 'max_depth': 15, 'max_features': 3, 'max_leaf_nodes': 10, 'min_samples_leaf': 3, 'min_samples_split': 3}\n",
      "Iterazione 125: F1-Score 0.9791633732810079, Parametri {'criterion': 'gini', 'max_depth': 15, 'max_features': 3, 'max_leaf_nodes': 10, 'min_samples_leaf': 3, 'min_samples_split': 4}\n",
      "Iterazione 126: F1-Score 0.9851154924469251, Parametri {'criterion': 'gini', 'max_depth': 15, 'max_features': 3, 'max_leaf_nodes': 15, 'min_samples_leaf': 1, 'min_samples_split': 2}\n",
      "Iterazione 127: F1-Score 0.9851154924469251, Parametri {'criterion': 'gini', 'max_depth': 15, 'max_features': 3, 'max_leaf_nodes': 15, 'min_samples_leaf': 1, 'min_samples_split': 3}\n",
      "Iterazione 128: F1-Score 0.9851154924469251, Parametri {'criterion': 'gini', 'max_depth': 15, 'max_features': 3, 'max_leaf_nodes': 15, 'min_samples_leaf': 1, 'min_samples_split': 4}\n",
      "Iterazione 129: F1-Score 0.9851154924469251, Parametri {'criterion': 'gini', 'max_depth': 15, 'max_features': 3, 'max_leaf_nodes': 15, 'min_samples_leaf': 2, 'min_samples_split': 2}\n",
      "Iterazione 130: F1-Score 0.9851154924469251, Parametri {'criterion': 'gini', 'max_depth': 15, 'max_features': 3, 'max_leaf_nodes': 15, 'min_samples_leaf': 2, 'min_samples_split': 3}\n",
      "Iterazione 131: F1-Score 0.9851154924469251, Parametri {'criterion': 'gini', 'max_depth': 15, 'max_features': 3, 'max_leaf_nodes': 15, 'min_samples_leaf': 2, 'min_samples_split': 4}\n",
      "Iterazione 132: F1-Score 0.9848698565367006, Parametri {'criterion': 'gini', 'max_depth': 15, 'max_features': 3, 'max_leaf_nodes': 15, 'min_samples_leaf': 3, 'min_samples_split': 2}\n",
      "Iterazione 133: F1-Score 0.9848698565367006, Parametri {'criterion': 'gini', 'max_depth': 15, 'max_features': 3, 'max_leaf_nodes': 15, 'min_samples_leaf': 3, 'min_samples_split': 3}\n",
      "Iterazione 134: F1-Score 0.9848698565367006, Parametri {'criterion': 'gini', 'max_depth': 15, 'max_features': 3, 'max_leaf_nodes': 15, 'min_samples_leaf': 3, 'min_samples_split': 4}\n",
      "Iterazione 135: F1-Score 0.9761980592786623, Parametri {'criterion': 'gini', 'max_depth': 15, 'max_features': 7, 'max_leaf_nodes': 5, 'min_samples_leaf': 1, 'min_samples_split': 2}\n",
      "Iterazione 136: F1-Score 0.9761980592786623, Parametri {'criterion': 'gini', 'max_depth': 15, 'max_features': 7, 'max_leaf_nodes': 5, 'min_samples_leaf': 1, 'min_samples_split': 3}\n",
      "Iterazione 137: F1-Score 0.9761980592786623, Parametri {'criterion': 'gini', 'max_depth': 15, 'max_features': 7, 'max_leaf_nodes': 5, 'min_samples_leaf': 1, 'min_samples_split': 4}\n",
      "Iterazione 138: F1-Score 0.9761980592786623, Parametri {'criterion': 'gini', 'max_depth': 15, 'max_features': 7, 'max_leaf_nodes': 5, 'min_samples_leaf': 2, 'min_samples_split': 2}\n",
      "Iterazione 139: F1-Score 0.9761980592786623, Parametri {'criterion': 'gini', 'max_depth': 15, 'max_features': 7, 'max_leaf_nodes': 5, 'min_samples_leaf': 2, 'min_samples_split': 3}\n",
      "Iterazione 140: F1-Score 0.9761980592786623, Parametri {'criterion': 'gini', 'max_depth': 15, 'max_features': 7, 'max_leaf_nodes': 5, 'min_samples_leaf': 2, 'min_samples_split': 4}\n",
      "Iterazione 141: F1-Score 0.9761980592786623, Parametri {'criterion': 'gini', 'max_depth': 15, 'max_features': 7, 'max_leaf_nodes': 5, 'min_samples_leaf': 3, 'min_samples_split': 2}\n",
      "Iterazione 142: F1-Score 0.9761980592786623, Parametri {'criterion': 'gini', 'max_depth': 15, 'max_features': 7, 'max_leaf_nodes': 5, 'min_samples_leaf': 3, 'min_samples_split': 3}\n",
      "Iterazione 143: F1-Score 0.9761980592786623, Parametri {'criterion': 'gini', 'max_depth': 15, 'max_features': 7, 'max_leaf_nodes': 5, 'min_samples_leaf': 3, 'min_samples_split': 4}\n",
      "Iterazione 144: F1-Score 0.9866411579849824, Parametri {'criterion': 'gini', 'max_depth': 15, 'max_features': 7, 'max_leaf_nodes': 10, 'min_samples_leaf': 1, 'min_samples_split': 2}\n",
      "Iterazione 145: F1-Score 0.9866411579849824, Parametri {'criterion': 'gini', 'max_depth': 15, 'max_features': 7, 'max_leaf_nodes': 10, 'min_samples_leaf': 1, 'min_samples_split': 3}\n",
      "Iterazione 146: F1-Score 0.9866411579849824, Parametri {'criterion': 'gini', 'max_depth': 15, 'max_features': 7, 'max_leaf_nodes': 10, 'min_samples_leaf': 1, 'min_samples_split': 4}\n",
      "Iterazione 147: F1-Score 0.9866411579849824, Parametri {'criterion': 'gini', 'max_depth': 15, 'max_features': 7, 'max_leaf_nodes': 10, 'min_samples_leaf': 2, 'min_samples_split': 2}\n",
      "Iterazione 148: F1-Score 0.9866411579849824, Parametri {'criterion': 'gini', 'max_depth': 15, 'max_features': 7, 'max_leaf_nodes': 10, 'min_samples_leaf': 2, 'min_samples_split': 3}\n",
      "Iterazione 149: F1-Score 0.9866411579849824, Parametri {'criterion': 'gini', 'max_depth': 15, 'max_features': 7, 'max_leaf_nodes': 10, 'min_samples_leaf': 2, 'min_samples_split': 4}\n",
      "Iterazione 150: F1-Score 0.9866411579849824, Parametri {'criterion': 'gini', 'max_depth': 15, 'max_features': 7, 'max_leaf_nodes': 10, 'min_samples_leaf': 3, 'min_samples_split': 2}\n",
      "Iterazione 151: F1-Score 0.9866411579849824, Parametri {'criterion': 'gini', 'max_depth': 15, 'max_features': 7, 'max_leaf_nodes': 10, 'min_samples_leaf': 3, 'min_samples_split': 3}\n",
      "Iterazione 152: F1-Score 0.9866411579849824, Parametri {'criterion': 'gini', 'max_depth': 15, 'max_features': 7, 'max_leaf_nodes': 10, 'min_samples_leaf': 3, 'min_samples_split': 4}\n",
      "Iterazione 153: F1-Score 0.9932445452627029, Parametri {'criterion': 'gini', 'max_depth': 15, 'max_features': 7, 'max_leaf_nodes': 15, 'min_samples_leaf': 1, 'min_samples_split': 2}\n",
      "Iterazione 154: F1-Score 0.9932445452627029, Parametri {'criterion': 'gini', 'max_depth': 15, 'max_features': 7, 'max_leaf_nodes': 15, 'min_samples_leaf': 1, 'min_samples_split': 3}\n",
      "Iterazione 155: F1-Score 0.9932445452627029, Parametri {'criterion': 'gini', 'max_depth': 15, 'max_features': 7, 'max_leaf_nodes': 15, 'min_samples_leaf': 1, 'min_samples_split': 4}\n",
      "Iterazione 156: F1-Score 0.9932445452627029, Parametri {'criterion': 'gini', 'max_depth': 15, 'max_features': 7, 'max_leaf_nodes': 15, 'min_samples_leaf': 2, 'min_samples_split': 2}\n",
      "Iterazione 157: F1-Score 0.9932445452627029, Parametri {'criterion': 'gini', 'max_depth': 15, 'max_features': 7, 'max_leaf_nodes': 15, 'min_samples_leaf': 2, 'min_samples_split': 3}\n",
      "Iterazione 158: F1-Score 0.9932445452627029, Parametri {'criterion': 'gini', 'max_depth': 15, 'max_features': 7, 'max_leaf_nodes': 15, 'min_samples_leaf': 2, 'min_samples_split': 4}\n",
      "Iterazione 159: F1-Score 0.9927401569393222, Parametri {'criterion': 'gini', 'max_depth': 15, 'max_features': 7, 'max_leaf_nodes': 15, 'min_samples_leaf': 3, 'min_samples_split': 2}\n",
      "Iterazione 160: F1-Score 0.9927401569393222, Parametri {'criterion': 'gini', 'max_depth': 15, 'max_features': 7, 'max_leaf_nodes': 15, 'min_samples_leaf': 3, 'min_samples_split': 3}\n",
      "Iterazione 161: F1-Score 0.9927401569393222, Parametri {'criterion': 'gini', 'max_depth': 15, 'max_features': 7, 'max_leaf_nodes': 15, 'min_samples_leaf': 3, 'min_samples_split': 4}\n",
      "Iterazione 162: F1-Score 0.9932391631157312, Parametri {'criterion': 'gini', 'max_depth': 20, 'max_features': None, 'max_leaf_nodes': 5, 'min_samples_leaf': 1, 'min_samples_split': 2}\n",
      "Iterazione 163: F1-Score 0.9932391631157312, Parametri {'criterion': 'gini', 'max_depth': 20, 'max_features': None, 'max_leaf_nodes': 5, 'min_samples_leaf': 1, 'min_samples_split': 3}\n",
      "Iterazione 164: F1-Score 0.9932391631157312, Parametri {'criterion': 'gini', 'max_depth': 20, 'max_features': None, 'max_leaf_nodes': 5, 'min_samples_leaf': 1, 'min_samples_split': 4}\n",
      "Iterazione 165: F1-Score 0.9932391631157312, Parametri {'criterion': 'gini', 'max_depth': 20, 'max_features': None, 'max_leaf_nodes': 5, 'min_samples_leaf': 2, 'min_samples_split': 2}\n",
      "Iterazione 166: F1-Score 0.9932391631157312, Parametri {'criterion': 'gini', 'max_depth': 20, 'max_features': None, 'max_leaf_nodes': 5, 'min_samples_leaf': 2, 'min_samples_split': 3}\n",
      "Iterazione 167: F1-Score 0.9932391631157312, Parametri {'criterion': 'gini', 'max_depth': 20, 'max_features': None, 'max_leaf_nodes': 5, 'min_samples_leaf': 2, 'min_samples_split': 4}\n",
      "Iterazione 168: F1-Score 0.9932391631157312, Parametri {'criterion': 'gini', 'max_depth': 20, 'max_features': None, 'max_leaf_nodes': 5, 'min_samples_leaf': 3, 'min_samples_split': 2}\n",
      "Iterazione 169: F1-Score 0.9932391631157312, Parametri {'criterion': 'gini', 'max_depth': 20, 'max_features': None, 'max_leaf_nodes': 5, 'min_samples_leaf': 3, 'min_samples_split': 3}\n",
      "Iterazione 170: F1-Score 0.9932391631157312, Parametri {'criterion': 'gini', 'max_depth': 20, 'max_features': None, 'max_leaf_nodes': 5, 'min_samples_leaf': 3, 'min_samples_split': 4}\n",
      "Iterazione 171: F1-Score 0.9957652367219996, Parametri {'criterion': 'gini', 'max_depth': 20, 'max_features': None, 'max_leaf_nodes': 10, 'min_samples_leaf': 1, 'min_samples_split': 2}\n",
      "Iterazione 172: F1-Score 0.9957652367219996, Parametri {'criterion': 'gini', 'max_depth': 20, 'max_features': None, 'max_leaf_nodes': 10, 'min_samples_leaf': 1, 'min_samples_split': 3}\n",
      "Iterazione 173: F1-Score 0.9957652367219996, Parametri {'criterion': 'gini', 'max_depth': 20, 'max_features': None, 'max_leaf_nodes': 10, 'min_samples_leaf': 1, 'min_samples_split': 4}\n",
      "Iterazione 174: F1-Score 0.9958910131224302, Parametri {'criterion': 'gini', 'max_depth': 20, 'max_features': None, 'max_leaf_nodes': 10, 'min_samples_leaf': 2, 'min_samples_split': 2}\n",
      "Iterazione 175: F1-Score 0.9958910131224302, Parametri {'criterion': 'gini', 'max_depth': 20, 'max_features': None, 'max_leaf_nodes': 10, 'min_samples_leaf': 2, 'min_samples_split': 3}\n",
      "Iterazione 176: F1-Score 0.9958910131224302, Parametri {'criterion': 'gini', 'max_depth': 20, 'max_features': None, 'max_leaf_nodes': 10, 'min_samples_leaf': 2, 'min_samples_split': 4}\n",
      "Iterazione 177: F1-Score 0.995766793397087, Parametri {'criterion': 'gini', 'max_depth': 20, 'max_features': None, 'max_leaf_nodes': 10, 'min_samples_leaf': 3, 'min_samples_split': 2}\n",
      "Iterazione 178: F1-Score 0.995766793397087, Parametri {'criterion': 'gini', 'max_depth': 20, 'max_features': None, 'max_leaf_nodes': 10, 'min_samples_leaf': 3, 'min_samples_split': 3}\n",
      "Iterazione 179: F1-Score 0.995766793397087, Parametri {'criterion': 'gini', 'max_depth': 20, 'max_features': None, 'max_leaf_nodes': 10, 'min_samples_leaf': 3, 'min_samples_split': 4}\n",
      "Iterazione 180: F1-Score 0.9965139883230852, Parametri {'criterion': 'gini', 'max_depth': 20, 'max_features': None, 'max_leaf_nodes': 15, 'min_samples_leaf': 1, 'min_samples_split': 2}\n",
      "Iterazione 181: F1-Score 0.9967646090446927, Parametri {'criterion': 'gini', 'max_depth': 20, 'max_features': None, 'max_leaf_nodes': 15, 'min_samples_leaf': 1, 'min_samples_split': 3}\n",
      "Iterazione 182: F1-Score 0.9967646090446927, Parametri {'criterion': 'gini', 'max_depth': 20, 'max_features': None, 'max_leaf_nodes': 15, 'min_samples_leaf': 1, 'min_samples_split': 4}\n",
      "Iterazione 183: F1-Score 0.9962630484663005, Parametri {'criterion': 'gini', 'max_depth': 20, 'max_features': None, 'max_leaf_nodes': 15, 'min_samples_leaf': 2, 'min_samples_split': 2}\n",
      "Iterazione 184: F1-Score 0.9962630484663005, Parametri {'criterion': 'gini', 'max_depth': 20, 'max_features': None, 'max_leaf_nodes': 15, 'min_samples_leaf': 2, 'min_samples_split': 3}\n",
      "Iterazione 185: F1-Score 0.9962630484663005, Parametri {'criterion': 'gini', 'max_depth': 20, 'max_features': None, 'max_leaf_nodes': 15, 'min_samples_leaf': 2, 'min_samples_split': 4}\n",
      "Iterazione 186: F1-Score 0.9967642992639721, Parametri {'criterion': 'gini', 'max_depth': 20, 'max_features': None, 'max_leaf_nodes': 15, 'min_samples_leaf': 3, 'min_samples_split': 2}\n",
      "Iterazione 187: F1-Score 0.9967642992639721, Parametri {'criterion': 'gini', 'max_depth': 20, 'max_features': None, 'max_leaf_nodes': 15, 'min_samples_leaf': 3, 'min_samples_split': 3}\n",
      "Iterazione 188: F1-Score 0.9967642992639721, Parametri {'criterion': 'gini', 'max_depth': 20, 'max_features': None, 'max_leaf_nodes': 15, 'min_samples_leaf': 3, 'min_samples_split': 4}\n",
      "Iterazione 189: F1-Score 0.9220335156803463, Parametri {'criterion': 'gini', 'max_depth': 20, 'max_features': 3, 'max_leaf_nodes': 5, 'min_samples_leaf': 1, 'min_samples_split': 2}\n",
      "Iterazione 190: F1-Score 0.9220335156803463, Parametri {'criterion': 'gini', 'max_depth': 20, 'max_features': 3, 'max_leaf_nodes': 5, 'min_samples_leaf': 1, 'min_samples_split': 3}\n",
      "Iterazione 191: F1-Score 0.9220335156803463, Parametri {'criterion': 'gini', 'max_depth': 20, 'max_features': 3, 'max_leaf_nodes': 5, 'min_samples_leaf': 1, 'min_samples_split': 4}\n",
      "Iterazione 192: F1-Score 0.9220335156803463, Parametri {'criterion': 'gini', 'max_depth': 20, 'max_features': 3, 'max_leaf_nodes': 5, 'min_samples_leaf': 2, 'min_samples_split': 2}\n",
      "Iterazione 193: F1-Score 0.9220335156803463, Parametri {'criterion': 'gini', 'max_depth': 20, 'max_features': 3, 'max_leaf_nodes': 5, 'min_samples_leaf': 2, 'min_samples_split': 3}\n",
      "Iterazione 194: F1-Score 0.9220335156803463, Parametri {'criterion': 'gini', 'max_depth': 20, 'max_features': 3, 'max_leaf_nodes': 5, 'min_samples_leaf': 2, 'min_samples_split': 4}\n",
      "Iterazione 195: F1-Score 0.9220335156803463, Parametri {'criterion': 'gini', 'max_depth': 20, 'max_features': 3, 'max_leaf_nodes': 5, 'min_samples_leaf': 3, 'min_samples_split': 2}\n",
      "Iterazione 196: F1-Score 0.9220335156803463, Parametri {'criterion': 'gini', 'max_depth': 20, 'max_features': 3, 'max_leaf_nodes': 5, 'min_samples_leaf': 3, 'min_samples_split': 3}\n",
      "Iterazione 197: F1-Score 0.9220335156803463, Parametri {'criterion': 'gini', 'max_depth': 20, 'max_features': 3, 'max_leaf_nodes': 5, 'min_samples_leaf': 3, 'min_samples_split': 4}\n",
      "Iterazione 198: F1-Score 0.9791633732810079, Parametri {'criterion': 'gini', 'max_depth': 20, 'max_features': 3, 'max_leaf_nodes': 10, 'min_samples_leaf': 1, 'min_samples_split': 2}\n",
      "Iterazione 199: F1-Score 0.9791633732810079, Parametri {'criterion': 'gini', 'max_depth': 20, 'max_features': 3, 'max_leaf_nodes': 10, 'min_samples_leaf': 1, 'min_samples_split': 3}\n",
      "Iterazione 200: F1-Score 0.9791633732810079, Parametri {'criterion': 'gini', 'max_depth': 20, 'max_features': 3, 'max_leaf_nodes': 10, 'min_samples_leaf': 1, 'min_samples_split': 4}\n",
      "Iterazione 201: F1-Score 0.9791633732810079, Parametri {'criterion': 'gini', 'max_depth': 20, 'max_features': 3, 'max_leaf_nodes': 10, 'min_samples_leaf': 2, 'min_samples_split': 2}\n",
      "Iterazione 202: F1-Score 0.9791633732810079, Parametri {'criterion': 'gini', 'max_depth': 20, 'max_features': 3, 'max_leaf_nodes': 10, 'min_samples_leaf': 2, 'min_samples_split': 3}\n",
      "Iterazione 203: F1-Score 0.9791633732810079, Parametri {'criterion': 'gini', 'max_depth': 20, 'max_features': 3, 'max_leaf_nodes': 10, 'min_samples_leaf': 2, 'min_samples_split': 4}\n",
      "Iterazione 204: F1-Score 0.9791633732810079, Parametri {'criterion': 'gini', 'max_depth': 20, 'max_features': 3, 'max_leaf_nodes': 10, 'min_samples_leaf': 3, 'min_samples_split': 2}\n",
      "Iterazione 205: F1-Score 0.9791633732810079, Parametri {'criterion': 'gini', 'max_depth': 20, 'max_features': 3, 'max_leaf_nodes': 10, 'min_samples_leaf': 3, 'min_samples_split': 3}\n",
      "Iterazione 206: F1-Score 0.9791633732810079, Parametri {'criterion': 'gini', 'max_depth': 20, 'max_features': 3, 'max_leaf_nodes': 10, 'min_samples_leaf': 3, 'min_samples_split': 4}\n",
      "Iterazione 207: F1-Score 0.9851154924469251, Parametri {'criterion': 'gini', 'max_depth': 20, 'max_features': 3, 'max_leaf_nodes': 15, 'min_samples_leaf': 1, 'min_samples_split': 2}\n",
      "Iterazione 208: F1-Score 0.9851154924469251, Parametri {'criterion': 'gini', 'max_depth': 20, 'max_features': 3, 'max_leaf_nodes': 15, 'min_samples_leaf': 1, 'min_samples_split': 3}\n",
      "Iterazione 209: F1-Score 0.9851154924469251, Parametri {'criterion': 'gini', 'max_depth': 20, 'max_features': 3, 'max_leaf_nodes': 15, 'min_samples_leaf': 1, 'min_samples_split': 4}\n",
      "Iterazione 210: F1-Score 0.9851154924469251, Parametri {'criterion': 'gini', 'max_depth': 20, 'max_features': 3, 'max_leaf_nodes': 15, 'min_samples_leaf': 2, 'min_samples_split': 2}\n",
      "Iterazione 211: F1-Score 0.9851154924469251, Parametri {'criterion': 'gini', 'max_depth': 20, 'max_features': 3, 'max_leaf_nodes': 15, 'min_samples_leaf': 2, 'min_samples_split': 3}\n",
      "Iterazione 212: F1-Score 0.9851154924469251, Parametri {'criterion': 'gini', 'max_depth': 20, 'max_features': 3, 'max_leaf_nodes': 15, 'min_samples_leaf': 2, 'min_samples_split': 4}\n",
      "Iterazione 213: F1-Score 0.9848698565367006, Parametri {'criterion': 'gini', 'max_depth': 20, 'max_features': 3, 'max_leaf_nodes': 15, 'min_samples_leaf': 3, 'min_samples_split': 2}\n",
      "Iterazione 214: F1-Score 0.9848698565367006, Parametri {'criterion': 'gini', 'max_depth': 20, 'max_features': 3, 'max_leaf_nodes': 15, 'min_samples_leaf': 3, 'min_samples_split': 3}\n",
      "Iterazione 215: F1-Score 0.9848698565367006, Parametri {'criterion': 'gini', 'max_depth': 20, 'max_features': 3, 'max_leaf_nodes': 15, 'min_samples_leaf': 3, 'min_samples_split': 4}\n",
      "Iterazione 216: F1-Score 0.9761980592786623, Parametri {'criterion': 'gini', 'max_depth': 20, 'max_features': 7, 'max_leaf_nodes': 5, 'min_samples_leaf': 1, 'min_samples_split': 2}\n",
      "Iterazione 217: F1-Score 0.9761980592786623, Parametri {'criterion': 'gini', 'max_depth': 20, 'max_features': 7, 'max_leaf_nodes': 5, 'min_samples_leaf': 1, 'min_samples_split': 3}\n",
      "Iterazione 218: F1-Score 0.9761980592786623, Parametri {'criterion': 'gini', 'max_depth': 20, 'max_features': 7, 'max_leaf_nodes': 5, 'min_samples_leaf': 1, 'min_samples_split': 4}\n",
      "Iterazione 219: F1-Score 0.9761980592786623, Parametri {'criterion': 'gini', 'max_depth': 20, 'max_features': 7, 'max_leaf_nodes': 5, 'min_samples_leaf': 2, 'min_samples_split': 2}\n",
      "Iterazione 220: F1-Score 0.9761980592786623, Parametri {'criterion': 'gini', 'max_depth': 20, 'max_features': 7, 'max_leaf_nodes': 5, 'min_samples_leaf': 2, 'min_samples_split': 3}\n",
      "Iterazione 221: F1-Score 0.9761980592786623, Parametri {'criterion': 'gini', 'max_depth': 20, 'max_features': 7, 'max_leaf_nodes': 5, 'min_samples_leaf': 2, 'min_samples_split': 4}\n",
      "Iterazione 222: F1-Score 0.9761980592786623, Parametri {'criterion': 'gini', 'max_depth': 20, 'max_features': 7, 'max_leaf_nodes': 5, 'min_samples_leaf': 3, 'min_samples_split': 2}\n",
      "Iterazione 223: F1-Score 0.9761980592786623, Parametri {'criterion': 'gini', 'max_depth': 20, 'max_features': 7, 'max_leaf_nodes': 5, 'min_samples_leaf': 3, 'min_samples_split': 3}\n",
      "Iterazione 224: F1-Score 0.9761980592786623, Parametri {'criterion': 'gini', 'max_depth': 20, 'max_features': 7, 'max_leaf_nodes': 5, 'min_samples_leaf': 3, 'min_samples_split': 4}\n",
      "Iterazione 225: F1-Score 0.9866411579849824, Parametri {'criterion': 'gini', 'max_depth': 20, 'max_features': 7, 'max_leaf_nodes': 10, 'min_samples_leaf': 1, 'min_samples_split': 2}\n",
      "Iterazione 226: F1-Score 0.9866411579849824, Parametri {'criterion': 'gini', 'max_depth': 20, 'max_features': 7, 'max_leaf_nodes': 10, 'min_samples_leaf': 1, 'min_samples_split': 3}\n",
      "Iterazione 227: F1-Score 0.9866411579849824, Parametri {'criterion': 'gini', 'max_depth': 20, 'max_features': 7, 'max_leaf_nodes': 10, 'min_samples_leaf': 1, 'min_samples_split': 4}\n",
      "Iterazione 228: F1-Score 0.9866411579849824, Parametri {'criterion': 'gini', 'max_depth': 20, 'max_features': 7, 'max_leaf_nodes': 10, 'min_samples_leaf': 2, 'min_samples_split': 2}\n",
      "Iterazione 229: F1-Score 0.9866411579849824, Parametri {'criterion': 'gini', 'max_depth': 20, 'max_features': 7, 'max_leaf_nodes': 10, 'min_samples_leaf': 2, 'min_samples_split': 3}\n",
      "Iterazione 230: F1-Score 0.9866411579849824, Parametri {'criterion': 'gini', 'max_depth': 20, 'max_features': 7, 'max_leaf_nodes': 10, 'min_samples_leaf': 2, 'min_samples_split': 4}\n",
      "Iterazione 231: F1-Score 0.9866411579849824, Parametri {'criterion': 'gini', 'max_depth': 20, 'max_features': 7, 'max_leaf_nodes': 10, 'min_samples_leaf': 3, 'min_samples_split': 2}\n",
      "Iterazione 232: F1-Score 0.9866411579849824, Parametri {'criterion': 'gini', 'max_depth': 20, 'max_features': 7, 'max_leaf_nodes': 10, 'min_samples_leaf': 3, 'min_samples_split': 3}\n",
      "Iterazione 233: F1-Score 0.9866411579849824, Parametri {'criterion': 'gini', 'max_depth': 20, 'max_features': 7, 'max_leaf_nodes': 10, 'min_samples_leaf': 3, 'min_samples_split': 4}\n",
      "Iterazione 234: F1-Score 0.9932445452627029, Parametri {'criterion': 'gini', 'max_depth': 20, 'max_features': 7, 'max_leaf_nodes': 15, 'min_samples_leaf': 1, 'min_samples_split': 2}\n",
      "Iterazione 235: F1-Score 0.9932445452627029, Parametri {'criterion': 'gini', 'max_depth': 20, 'max_features': 7, 'max_leaf_nodes': 15, 'min_samples_leaf': 1, 'min_samples_split': 3}\n",
      "Iterazione 236: F1-Score 0.9932445452627029, Parametri {'criterion': 'gini', 'max_depth': 20, 'max_features': 7, 'max_leaf_nodes': 15, 'min_samples_leaf': 1, 'min_samples_split': 4}\n",
      "Iterazione 237: F1-Score 0.9932445452627029, Parametri {'criterion': 'gini', 'max_depth': 20, 'max_features': 7, 'max_leaf_nodes': 15, 'min_samples_leaf': 2, 'min_samples_split': 2}\n",
      "Iterazione 238: F1-Score 0.9932445452627029, Parametri {'criterion': 'gini', 'max_depth': 20, 'max_features': 7, 'max_leaf_nodes': 15, 'min_samples_leaf': 2, 'min_samples_split': 3}\n",
      "Iterazione 239: F1-Score 0.9932445452627029, Parametri {'criterion': 'gini', 'max_depth': 20, 'max_features': 7, 'max_leaf_nodes': 15, 'min_samples_leaf': 2, 'min_samples_split': 4}\n",
      "Iterazione 240: F1-Score 0.9927401569393222, Parametri {'criterion': 'gini', 'max_depth': 20, 'max_features': 7, 'max_leaf_nodes': 15, 'min_samples_leaf': 3, 'min_samples_split': 2}\n",
      "Iterazione 241: F1-Score 0.9927401569393222, Parametri {'criterion': 'gini', 'max_depth': 20, 'max_features': 7, 'max_leaf_nodes': 15, 'min_samples_leaf': 3, 'min_samples_split': 3}\n",
      "Iterazione 242: F1-Score 0.9927401569393222, Parametri {'criterion': 'gini', 'max_depth': 20, 'max_features': 7, 'max_leaf_nodes': 15, 'min_samples_leaf': 3, 'min_samples_split': 4}\n"
     ]
    }
   ],
   "source": [
    "# Vediamo come si comporta nelle diverse combinazioni di parametri\n",
    "cvres = grid_search.cv_results_\n",
    "\n",
    "for i, (f1, params) in enumerate(zip(cvres[\"mean_test_score\"], cvres[\"params\"])):\n",
    "    print(f\"Iterazione {i}: F1-Score {f1}, Parametri {params}\")"
   ],
   "metadata": {
    "colab": {
     "base_uri": "https://localhost:8080/"
    },
    "id": "KIprT5a5tHET",
    "executionInfo": {
     "status": "ok",
     "timestamp": 1720722550464,
     "user_tz": -120,
     "elapsed": 384,
     "user": {
      "displayName": "Annalaura Miglino",
      "userId": "03808724092990969006"
     }
    },
    "outputId": "76fce19a-a02d-4fbe-dc86-a0f1264e7825"
   }
  },
  {
   "cell_type": "markdown",
   "source": [
    "## 4. Metriche del modello migliore"
   ],
   "metadata": {
    "collapsed": false,
    "id": "9SLuA_6btHEV"
   }
  },
  {
   "cell_type": "markdown",
   "source": [
    "> Vengono misurate le metriche a seguito dell'Hyperparameter Tuning."
   ],
   "metadata": {
    "id": "hjvGQ4FwuqzU"
   }
  },
  {
   "cell_type": "code",
   "execution_count": 10,
   "outputs": [
    {
     "name": "stdout",
     "output_type": "stream",
     "text": [
      "Accuracy: 0.9975111996017919\n",
      "Precision: 0.997020854021847\n",
      "Recall: 0.9980119284294234\n",
      "F1-Score: 0.9975161450571287\n"
     ]
    }
   ],
   "source": [
    "dt_final = grid_search.best_estimator_\n",
    "y_pred = dt_final.predict(X_test)\n",
    "\n",
    "# Stampa delle metriche\n",
    "print(f'Accuracy: {accuracy_score(y_test, y_pred)}')\n",
    "print(f'Precision: {precision_score(y_test, y_pred)}')\n",
    "print(f'Recall: {recall_score(y_test, y_pred)}')\n",
    "print(f'F1-Score: {f1_score(y_test, y_pred)}')"
   ],
   "metadata": {
    "colab": {
     "base_uri": "https://localhost:8080/"
    },
    "id": "pL1M7dV_tHEV",
    "executionInfo": {
     "status": "ok",
     "timestamp": 1720722572825,
     "user_tz": -120,
     "elapsed": 260,
     "user": {
      "displayName": "Annalaura Miglino",
      "userId": "03808724092990969006"
     }
    },
    "outputId": "e7d25638-5c6b-45e4-a5ec-2c56ad605713"
   }
  },
  {
   "cell_type": "markdown",
   "source": [
    "### 4.1 Learning Curve"
   ],
   "metadata": {
    "collapsed": false,
    "id": "DSv8xklJtHEV"
   }
  },
  {
   "cell_type": "code",
   "execution_count": 13,
   "outputs": [
    {
     "data": {
      "text/plain": "<Figure size 640x480 with 1 Axes>",
      "image/png": "[encoded data removed]"
     },
     "metadata": {},
     "output_type": "display_data"
    }
   ],
   "source": [
    "# Istanzia un nuovo modello KNN con i migliori parametri ottenuti in precedenza\n",
    "dt = DecisionTreeClassifier(**grid_search.best_params_)\n",
    "\n",
    "# Calcolo la learning curve\n",
    "train_sizes, train_scores, test_scores = learning_curve(dt, X_train, y_train, scoring='accuracy',\n",
    "                                                        train_sizes=np.linspace(0.1, 1.0, 10), n_jobs=-1, cv=10)\n",
    "\n",
    "# Calcola la media dei punteggi ottenuti nelle diverse iterazioni di cross validation\n",
    "train_scores_mean = np.mean(train_scores, axis=1)\n",
    "test_scores_mean = np.mean(test_scores, axis=1)\n",
    "\n",
    "# Traccio la curva di apprendimento\n",
    "plt.figure()\n",
    "plt.title(\"Learning Curve (Decision Tree)\")\n",
    "plt.xlabel(\"Training examples\")\n",
    "plt.ylabel(\"Accuracy\")\n",
    "plt.grid()\n",
    "\n",
    "plt.plot(train_sizes, train_scores_mean, 'o-', color=\"r\", label=\"Training accuracy\")\n",
    "plt.plot(train_sizes, test_scores_mean, 'o-', color=\"g\", label=\"Validation accuracy\")\n",
    "\n",
    "plt.legend(loc=\"best\")\n",
    "plt.show()"
   ],
   "metadata": {
    "colab": {
     "base_uri": "https://localhost:8080/",
     "height": 472
    },
    "id": "aa7R4wf2tHEW",
    "executionInfo": {
     "status": "ok",
     "timestamp": 1720722599530,
     "user_tz": -120,
     "elapsed": 4054,
     "user": {
      "displayName": "Annalaura Miglino",
      "userId": "03808724092990969006"
     }
    },
    "outputId": "7af2fb28-9100-4dae-9e29-e077d73684ac"
   }
  },
  {
   "cell_type": "markdown",
   "source": [
    "### 4.2 Matrice di confusione"
   ],
   "metadata": {
    "collapsed": false,
    "id": "bsg3sXzetHEW"
   }
  },
  {
   "cell_type": "code",
   "execution_count": 14,
   "outputs": [
    {
     "data": {
      "text/plain": "<Figure size 500x400 with 2 Axes>",
      "image/png": "[encoded data removed]"
     },
     "metadata": {},
     "output_type": "display_data"
    },
    {
     "data": {
      "text/plain": "<Figure size 640x480 with 0 Axes>"
     },
     "metadata": {},
     "output_type": "display_data"
    }
   ],
   "source": [
    "cm = confusion_matrix(y_test, y_pred)\n",
    "class_names = ['Real', 'Fake']\n",
    "\n",
    "plt.figure(figsize=(5, 4))\n",
    "sns.heatmap(cm, annot=True, cmap='Blues', fmt='d', xticklabels=class_names, yticklabels=class_names)\n",
    "\n",
    "plt.xlabel('Predicted label')\n",
    "plt.ylabel('True label')\n",
    "plt.title('Confusion Matrix')\n",
    "plt.show()\n",
    "\n",
    "# Salva il grafico come file PDF\n",
    "# plt.savefig('confusion_matrix_DT.pdf', format='pdf')"
   ],
   "metadata": {
    "colab": {
     "base_uri": "https://localhost:8080/",
     "height": 427
    },
    "id": "0dFXWshdtHEW",
    "executionInfo": {
     "status": "ok",
     "timestamp": 1720722617668,
     "user_tz": -120,
     "elapsed": 1476,
     "user": {
      "displayName": "Annalaura Miglino",
      "userId": "03808724092990969006"
     }
    },
    "outputId": "21eb5d09-6c04-4479-80b8-bad545bc77ac"
   }
  },
  {
   "cell_type": "markdown",
   "source": [
    "### 4.3 Roc Curve"
   ],
   "metadata": {
    "collapsed": false,
    "id": "jbT1bZJVtHEW"
   }
  },
  {
   "cell_type": "code",
   "execution_count": 15,
   "outputs": [
    {
     "data": {
      "text/plain": "<Figure size 600x500 with 1 Axes>",
      "image/png": "[encoded data removed]"
     },
     "metadata": {},
     "output_type": "display_data"
    }
   ],
   "source": [
    "y_proba = dt_final.predict_proba(X_test)\n",
    "\n",
    "# Calcolo della curva ROC per la classe 'real' (label 0)\n",
    "fpr_real, tpr_real, _ = roc_curve(y_test, y_proba[:, 0], pos_label=0)\n",
    "roc_auc_real = auc(fpr_real, tpr_real)\n",
    "\n",
    "# Calcolo della curva ROC per la classe 'fake' (label 1)\n",
    "fpr_fake, tpr_fake, _ = roc_curve(y_test, y_proba[:, 1], pos_label=1)\n",
    "roc_auc_fake = auc(fpr_fake, tpr_fake)\n",
    "\n",
    "# Tracciamento delle curve ROC\n",
    "plt.figure(figsize=(6, 5))\n",
    "plt.plot(fpr_real, tpr_real, color='darkorange', lw=2, label=f'ROC curve real (AUC = {roc_auc_real:.2f})')\n",
    "plt.plot(fpr_fake, tpr_fake, color='blue', lw=2, label=f'ROC curve fake (AUC = {roc_auc_fake:.2f})')\n",
    "plt.plot([0, 1], [0, 1], color='black', lw=1, linestyle='--')\n",
    "plt.xlabel('False Positive Rate')\n",
    "plt.ylabel('True Positive Rate')\n",
    "plt.grid(False)\n",
    "plt.legend(loc='lower right')\n",
    "plt.title('ROC Curve')\n",
    "plt.show()"
   ],
   "metadata": {
    "colab": {
     "base_uri": "https://localhost:8080/",
     "height": 487
    },
    "id": "2IDikDOttHEX",
    "executionInfo": {
     "status": "ok",
     "timestamp": 1720722626097,
     "user_tz": -120,
     "elapsed": 991,
     "user": {
      "displayName": "Annalaura Miglino",
      "userId": "03808724092990969006"
     }
    },
    "outputId": "db386267-a9b9-43d9-802e-165b90ba0f27"
   }
  }
 ],
 "metadata": {
  "kernelspec": {
   "display_name": "Python 3",
   "language": "python",
   "name": "python3"
  },
  "language_info": {
   "codemirror_mode": {
    "name": "ipython",
    "version": 2
   },
   "file_extension": ".py",
   "mimetype": "text/x-python",
   "name": "python",
   "nbconvert_exporter": "python",
   "pygments_lexer": "ipython2",
   "version": "2.7.6"
  },
  "colab": {
   "provenance": []
  }
 },
 "nbformat": 4,
 "nbformat_minor": 0
}
